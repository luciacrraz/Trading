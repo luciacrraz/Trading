{
 "cells": [
  {
   "cell_type": "code",
   "execution_count": 1,
   "id": "b3bdbb6e",
   "metadata": {
    "ExecuteTime": {
     "end_time": "2024-04-12T06:28:18.209379Z",
     "start_time": "2024-04-12T06:28:15.732238Z"
    }
   },
   "outputs": [
    {
     "name": "stdout",
     "output_type": "stream",
     "text": [
      "Intel MKL WARNING: Support of Intel(R) Streaming SIMD Extensions 4.2 (Intel(R) SSE4.2) enabled only processors has been deprecated. Intel oneAPI Math Kernel Library 2025.0 will require Intel(R) Advanced Vector Extensions (Intel(R) AVX) instructions.\n",
      "Intel MKL WARNING: Support of Intel(R) Streaming SIMD Extensions 4.2 (Intel(R) SSE4.2) enabled only processors has been deprecated. Intel oneAPI Math Kernel Library 2025.0 will require Intel(R) Advanced Vector Extensions (Intel(R) AVX) instructions.\n"
     ]
    }
   ],
   "source": [
    "# import mplfinance as mpf\n",
    "import pandas as pd\n",
    "import ta\n",
    "import optuna\n",
    "import time\n",
    "import numpy as np\n",
    "from multiprocessing import Pool\n",
    "from itertools import combinations, chain\n",
    "from sklearn.datasets import load_iris\n",
    "from sklearn.model_selection import train_test_split\n",
    "from sklearn.preprocessing import StandardScaler\n",
    "from sklearn.linear_model import LogisticRegression\n",
    "from sklearn.svm import SVC\n",
    "from xgboost import XGBClassifier\n",
    "from sklearn.metrics import accuracy_score\n",
    "import warnings\n",
    "import matplotlib.pyplot as plt"
   ]
  },
  {
   "cell_type": "code",
   "execution_count": null,
   "id": "196cf1f4",
   "metadata": {
    "is_executing": true,
    "ExecuteTime": {
     "start_time": "2024-04-12T06:28:18.210314Z"
    }
   },
   "outputs": [],
   "source": [
    "from utils.utils import plot_candle_chart, file_features, buy_signals_1d, buy_signals_1h, buy_signals_1m, buy_signals_5m\n",
    "from utils.utils import sell_signals_1d, sell_signals_1h, sell_signals_1m, sell_signals_5m, plot_buy_sell_signals, data_fun\n",
    "from utils.utils import backtest, plot_operations_history, port_value_plot, plot_cash, cash_portvalue_plot, pasive_portvalue_plot"
   ]
  },
  {
   "cell_type": "markdown",
   "id": "4c1be245",
   "metadata": {},
   "source": [
    "# Machine Learning"
   ]
  },
  {
   "cell_type": "markdown",
   "id": "651169b0",
   "metadata": {},
   "source": [
    "Nuestro proyecto de análisis de machine learning se centra en la exploración y modelado de conjuntos de validación proporcionados durante las primeras etapas del curso. En particular, nos sumergimos en la información financiera de la empresa AAPL (Apple Inc.), examinando meticulosamente sus datos de precios de cierre, máximos, mínimos, y otros indicadores relevantes."
   ]
  },
  {
   "cell_type": "code",
   "execution_count": null,
   "id": "9226c825",
   "metadata": {
    "is_executing": true
   },
   "outputs": [],
   "source": [
    "data_1d = data_fun(\"data/aapl_1d_test.csv\")\n",
    "data_1h = data_fun(\"data/aapl_1h_test.csv\")\n",
    "data_1m = data_fun(\"data/aapl_1m_test.csv\")\n",
    "data_5m = data_fun(\"data/aapl_5m_test.csv\")\n",
    "data_1d.head()"
   ]
  },
  {
   "cell_type": "markdown",
   "id": "477bda22",
   "metadata": {},
   "source": [
    "    Fecha: Indica la fecha en que se registraron los datos de precios de las acciones de Apple. Es esencial para seguir la evolución del precio a lo largo del tiempo y detectar patrones y tendencias.\n",
    "\n",
    "    Apertura: Es el primer precio al que se negociaron las acciones de Apple en el día. Proporciona una indicación inicial de la dirección en que el precio puede moverse durante la jornada.\n",
    "\n",
    "    Alto: Es el precio más alto alcanzado durante el día de negociación para las acciones de Apple. Indica el máximo alcanzado y la fuerza alcista del mercado.\n",
    "\n",
    "    Bajo: Es el precio más bajo alcanzado durante el día de negociación. Indica el mínimo y la presión de venta en el mercado.\n",
    "\n",
    "    Cierre: Es el último precio al que se negociaron las acciones en el día. Es uno de los más importantes, reflejando el valor final al que los inversores están dispuestos a comprar o vender las acciones.\n",
    "\n",
    "    Cierre Ajustado: Considera eventos corporativos que afecten el precio de las acciones, como divisiones de acciones o dividendos. Ofrece una medida más precisa del rendimiento del precio de las acciones.\n",
    "\n",
    "    Volumen: Indica la cantidad total de acciones de Apple negociadas durante el día. Puede señalar la fuerza detrás de los movimientos de precios: un alto volumen sugiere mayor interés y actividad, mientras que un bajo volumen puede indicar menor participación y volatilidad."
   ]
  },
  {
   "cell_type": "code",
   "execution_count": null,
   "id": "b77ce7ba",
   "metadata": {
    "is_executing": true
   },
   "outputs": [],
   "source": [
    "fig, axs = plt.subplots(4, figsize=(10, 20))\n",
    "data_1d['Close'].plot(ax=axs[0])\n",
    "axs[0].set_title('Gráfico de cierre diario')\n",
    "data_1h['Close'].plot(ax=axs[1])\n",
    "axs[1].set_title('Gráfico de cierre por hora')\n",
    "data_1m['Close'].plot(ax=axs[2])\n",
    "axs[2].set_title('Gráfico de cierre mensual')\n",
    "data_5m['Close'].plot(ax=axs[3])\n",
    "axs[3].set_title('Gráfico de cierre cada 5 minutos')\n",
    "plt.tight_layout()\n",
    "plt.show()"
   ]
  },
  {
   "cell_type": "markdown",
   "id": "a8e22877",
   "metadata": {},
   "source": [
    "Las acciones de Apple (AAPL) han experimentado un crecimiento significativo en las últimas décadas. Desde su salida a bolsa en 1980, el precio de las acciones de Apple ha tenido varias tendencias alcistas y correcciones, pero en general ha mostrado una tendencia ascendente a largo plazo.\n",
    "\n",
    "La variación del precio de las acciones de Apple a menudo está relacionada con el rendimiento de sus productos y la innovación tecnológica. El lanzamiento de nuevos productos exitosos, como el iPhone, iPad, Mac y servicios como Apple Music y Apple TV+, puede impulsar el precio de las acciones."
   ]
  },
  {
   "cell_type": "markdown",
   "id": "690e961a",
   "metadata": {},
   "source": [
    "## Modelos de Machine Learning"
   ]
  },
  {
   "cell_type": "markdown",
   "id": "2a1e3530",
   "metadata": {},
   "source": [
    "* 1. Logistic Regression:\n",
    "\n",
    "Definición: Logistic Regression es un modelo de clasificación que se emplea para predecir la probabilidad de ocurrencia de un evento binario.\n",
    "Características: Se trata de un modelo lineal que utiliza la función logística para calcular las probabilidades.\n",
    "Hiperparámetros: Entre los hiperparámetros más relevantes se encuentran el parámetro de regularización (C), que controla la fuerza de la regularización, y la técnica de regularización (L1 o L2).\n",
    "Funcionamiento: Logistic Regression calcula la probabilidad de que una instancia pertenezca a una clase utilizando la función logística, y posteriormente aplica un umbral para clasificar las instancias en una clase u otra.\n",
    "\n",
    "* 2. Support Vector Machine (SVM):\n",
    "\n",
    "Definición: SVM es un modelo de aprendizaje supervisado que se utiliza tanto para clasificación como para regresión.\n",
    "Características: SVM busca encontrar el hiperplano que mejor separa las clases en el espacio de características.\n",
    "Hiperparámetros: Entre los hiperparámetros clave se incluyen el tipo de kernel (lineal, polinomial, radial, etc.), el parámetro de regularización (C) y el parámetro del kernel (gamma).\n",
    "Funcionamiento: SVM mapea los datos de entrada a un espacio de características de alta dimensión donde busca encontrar el hiperplano que maximiza el margen entre las clases.\n",
    "\n",
    "* 3. XGBoost:\n",
    "\n",
    "Definición: XGBoost es una implementación de Gradient Boosting que se utiliza ampliamente en competiciones de ciencia de datos y machine learning.\n",
    "Características: XGBoost es altamente eficiente y escalable, y puede manejar conjuntos de datos grandes con millones de instancias y características.\n",
    "Hiperparámetros: Algunos hiperparámetros clave incluyen la tasa de aprendizaje (learning rate), el número de árboles (n_estimators), la profundidad máxima del árbol (max_depth) y la función de pérdida.\n",
    "Funcionamiento: XGBoost funciona mediante la construcción secuencial de árboles de decisión débiles, donde cada árbol se entrena para corregir los errores del modelo anterior."
   ]
  },
  {
   "cell_type": "markdown",
   "id": "98c67958",
   "metadata": {},
   "source": [
    "## Definicion de variables independientes y dependiente"
   ]
  },
  {
   "cell_type": "markdown",
   "id": "d4fe1604",
   "metadata": {},
   "source": [
    "Con los conjuntos de datos proporcionados, se procede a la definición de nuevos dataframes que contienen las variables independientes junto con la variable dependiente (\"response\") para su posterior entrenamiento. Es importante destacar que se generan dos conjuntos de datos distintos: uno referente a las transacciones de compra y no compra, y otro relativo a las transacciones de venta y no venta. "
   ]
  },
  {
   "cell_type": "code",
   "execution_count": null,
   "id": "135f45a5",
   "metadata": {
    "is_executing": true
   },
   "outputs": [],
   "source": [
    "dataresult_long_1d_test = file_features(\"data/aapl_1d_test.csv\", ds_type = \"buy\")\n",
    "dataresult_long_1d_test = dataresult_long_1d_test.dropna()\n",
    "dataresult_short_1d_test = file_features(\"data/aapl_1d_test.csv\", ds_type = \"sell\")\n",
    "dataresult_short_1d_test = dataresult_short_1d_test.dropna()\n",
    "dataresult_short_1d_test.head()"
   ]
  },
  {
   "cell_type": "code",
   "execution_count": null,
   "id": "0e7e5170",
   "metadata": {
    "is_executing": true
   },
   "outputs": [],
   "source": [
    "dataresult_long_1m_test = file_features(\"data/aapl_1m_test.csv\", ds_type = \"buy\")\n",
    "dataresult_long_1m_test = dataresult_long_1m_test.dropna()\n",
    "dataresult_short_1m_test = file_features(\"data/aapl_1m_test.csv\", ds_type = \"sell\")\n",
    "dataresult_short_1m_test = dataresult_short_1m_test.dropna()\n",
    "dataresult_short_1m_test.head()"
   ]
  },
  {
   "cell_type": "code",
   "execution_count": null,
   "id": "b4c0d274",
   "metadata": {
    "is_executing": true
   },
   "outputs": [],
   "source": [
    "dataresult_long_1h_test = file_features(\"data/aapl_1h_test.csv\", ds_type = \"buy\")\n",
    "dataresult_long_1h_test = dataresult_long_1h_test.dropna()\n",
    "dataresult_short_1h_test = file_features(\"data/aapl_1h_test.csv\", ds_type = \"sell\")\n",
    "dataresult_short_1h_test = dataresult_short_1h_test.dropna()\n",
    "dataresult_short_1h_test.head()"
   ]
  },
  {
   "cell_type": "code",
   "execution_count": null,
   "id": "cf619cad",
   "metadata": {
    "is_executing": true
   },
   "outputs": [],
   "source": [
    "# dataresult_long_5m_test = file_features(\"aapl_5m_test.csv\", ds_type = \"buy\")\n",
    "dataresult_long_5m_test = dataresult_long_5m_test.dropna()\n",
    "dataresult_short_5m_test = file_features(\"data/aapl_5m_test.csv\", ds_type = \"sell\")\n",
    "dataresult_short_5m_test = dataresult_short_5m_test.dropna()\n",
    "dataresult_short_5m_test.head()"
   ]
  },
  {
   "cell_type": "markdown",
   "id": "1ec6547c",
   "metadata": {},
   "source": [
    "# Para el análisis de machine learning propuesto, se establece una metodología que se sustenta en los siguientes puntos:\n",
    "    \n",
    "* Variables Independientes y Lagging:\n",
    "\n",
    "La metodología se apoya en variables independientes, específicamente el precio de cierre (close price) de los activos financieros. Se genera un enfoque de lagging, el cual implica la creación de nuevas columnas que contienen información rezagada en el tiempo. Estas columnas con rezagos ayudan a capturar tendencias y patrones temporales en los datos históricos.\n",
    "La inclusión de rezagos en el conjunto de datos es fundamental para mejorar el poder predictivo del modelo. Al considerar información pasada, el modelo puede identificar correlaciones y patrones que podrían afectar el comportamiento futuro de los precios.\n",
    "Indicadores Técnicos CMF y RSI:\n",
    "\n",
    "* Se integran indicadores técnicos clave en el análisis, como el Money Flow Index (CMF) y el Relative Strength Index (RSI).\n",
    "\n",
    "Estos indicadores son herramientas comúnmente utilizadas en el análisis técnico de los mercados financieros.\n",
    "El CMF es un indicador que evalúa el flujo de dinero dentro o fuera de un activo durante un período determinado, ayudando a identificar posibles cambios en la tendencia de precios.\n",
    "Por otro lado, el RSI es un indicador que mide la fuerza y la velocidad del movimiento de los precios, permitiendo identificar condiciones de sobrecompra o sobreventa en un mercado.\n",
    "La inclusión de estos indicadores en el análisis brinda al modelo una perspectiva más amplia sobre la dinámica del mercado y puede ayudar a identificar oportunidades de trading potenciales.\n",
    "Volatilidad:\n",
    "\n",
    "* La volatilidad es un componente crítico en el análisis de los mercados financieros. \n",
    "\n",
    "Se calcula como la medida de la variabilidad de los precios de un activo durante un período de tiempo específico. \n",
    "La inclusión de la volatilidad en el análisis permite al modelo tener en cuenta la incertidumbre y el riesgo asociado con el comportamiento de los precios.\n",
    "Además, la volatilidad puede proporcionar información valiosa sobre la estabilidad y la dirección futura de los precios, lo que contribuye significativamente al poder predictivo del modelo.\n",
    "\n",
    "* Variable dependiente (de respuesta)\n",
    "\n",
    "Para la variable dependiente, la lógica subyacente se estructura de la siguiente manera: al comparar el precio de cierre actual con el precio de cierre de hace 10 días, se determina la acción a seguir en el mercado. Específicamente, si el precio de cierre actual es mayor que el de hace 10 días, se ejecuta una acción de venta; por el contrario, si es menor, se procede con una acción de compra. Este enfoque se aplica de manera análoga tanto para los conjuntos de datos correspondientes a las transacciones de compra como a las de venta. La definición y aplicación de esta lógica constituyen un aspecto crítico en la construcción de modelos de machine learning destinados a la predicción de movimientos financieros."
   ]
  },
  {
   "cell_type": "code",
   "execution_count": null,
   "id": "82afb4f3",
   "metadata": {
    "is_executing": true
   },
   "outputs": [],
   "source": [
    "global_buy_signals_1d_long = buy_signals_1d(dataresult_long_1d_test)\n",
    "global_sell_signals_1d_short = sell_signals_1d(dataresult_short_1d_test)\n",
    "global_buy_signals_1h_long = buy_signals_1h(dataresult_long_1h_test)\n",
    "global_sell_signals_1h_short = sell_signals_1h(dataresult_short_1h_test)\n",
    "global_buy_signals_1m_long = buy_signals_1m(dataresult_long_1m_test)\n",
    "global_sell_signals_1m_short = sell_signals_1m(dataresult_short_1m_test)\n",
    "global_buy_signals_5m_long = buy_signals_5m(dataresult_long_5m_test)\n",
    "global_sell_signals_5m_short = sell_signals_5m(dataresult_short_5m_test)\n",
    "global_sell_signals_5m_short"
   ]
  },
  {
   "cell_type": "markdown",
   "id": "cf7b1f8f",
   "metadata": {},
   "source": [
    "## Procesamiento y Fine Tuning"
   ]
  },
  {
   "cell_type": "markdown",
   "id": "98e6a681",
   "metadata": {},
   "source": [
    "Tras la definición de la variable dependiente y la lógica de operación establecida, el proyecto de análisis de aprendizaje automático avanza hacia la fase de preparación de datos y ajuste de modelos. Este proceso se inicia con la partición de los conjuntos de datos en conjuntos de entrenamiento y pruebas, lo que proporciona una base sólida para evaluar el rendimiento de los modelos de aprendizaje automático.\n",
    "\n",
    "Una vez divididos los conjuntos de datos, se da inicio al proceso de ajuste de hiperparámetros, también conocido como finetuning. En este contexto, el finetuning implica la optimización de los parámetros de los modelos de aprendizaje automático con el fin de identificar las combinaciones óptimas que maximicen el rendimiento predictivo del modelo.\n",
    "\n",
    "Durante el proceso de finetuning, se exploran y ajustan los hiperparámetros de los modelos, tales como la tasa de aprendizaje, la profundidad del árbol de decisión, el número de vecinos en el algoritmo de vecinos más cercanos, entre otros. Esta exploración exhaustiva permite determinar qué combinaciones de hiperparámetros son más efectivas para cada modelo en particular."
   ]
  },
  {
   "cell_type": "markdown",
   "id": "adae0a11",
   "metadata": {},
   "source": [
    "A continuacion se presenta la grafica de como se ven las opciones de compra o venta ya con los parametros optimos, y la mejor estrategia, esto siguien el precio de cierre de la accion. "
   ]
  },
  {
   "cell_type": "markdown",
   "id": "9f123762",
   "metadata": {},
   "source": [
    "### 1 Día\n",
    "Por la cantidad de datos que hay en el dataset nos encontramos con un volumen \"bajo\" de transacciones, a simple vista podemos ver que las operaciones de ventas dominan por encima de las de compra. Podemos observar que durante las subidas va comprando de forma periodica hasta llegar al cambio de tendencia y comienza con las operaciones de compra y asi sucesivamente, podria decirse que se parece a un bot que opera a traves de cuadriculas."
   ]
  },
  {
   "cell_type": "code",
   "execution_count": null,
   "id": "d180e69e",
   "metadata": {
    "is_executing": true
   },
   "outputs": [],
   "source": [
    "plot_buy_sell_signals(global_buy_signals_1d_long, global_sell_signals_1d_short, dataresult_short_1d_test)"
   ]
  },
  {
   "cell_type": "markdown",
   "id": "2d651b5d",
   "metadata": {},
   "source": [
    "### 1 Hora\n",
    "Las grafica se asemeja a la del dia 1, pero las operaciones ya cambian, podemos observar que la operaciones se nivelan mas entre compra y venta, por lo que ya no podemos notar que lado es mas usado por el modelo. Notemos que la tendencia es la misma, en las subidas suele hacer mas operaciones de venta y viceversa, en las bajadas tiene mas operaciones de compra. Pareciendose tambien a un bot de cuadricula para operar el mercado."
   ]
  },
  {
   "cell_type": "code",
   "execution_count": null,
   "id": "e252bb4d",
   "metadata": {
    "is_executing": true
   },
   "outputs": [],
   "source": [
    "plot_buy_sell_signals(global_buy_signals_1h_long, global_sell_signals_1h_short, dataresult_short_1h_test)"
   ]
  },
  {
   "cell_type": "markdown",
   "id": "e3c6955e",
   "metadata": {},
   "source": [
    "### 1 Minuto\n",
    "En esta dataset, ya no es parecido a un bot de cuadricula, al menos no a simple vista. El numero de operaciones ha aumentado en comparacion a los otros dos datasets, por obvias razones, hay mas datos y en \"time frames\" mas cortos encuentra mas oportunidades de compra/venta. Lo unico que me puede llegarnos a preocupar son los picos que se forman, pero quiero pensar que es un error en el dataset, a menos de que el precio haya caido/aumentado de maneras tan abruptas en esos periodos de tiempo."
   ]
  },
  {
   "cell_type": "code",
   "execution_count": null,
   "id": "d2889d03",
   "metadata": {
    "is_executing": true
   },
   "outputs": [],
   "source": [
    "plot_buy_sell_signals(global_buy_signals_1m_long, global_sell_signals_1m_short, dataresult_short_1m_test)"
   ]
  },
  {
   "cell_type": "markdown",
   "id": "953e830e",
   "metadata": {},
   "source": [
    "### 5 Minutos\n",
    "En algunos momentos se puede apreciar la observacion hecha en los datasets de un dia y una hora, pero al ser tantas operaciones no se puede ser tan claro en las afirmaciones porque me parece que las de compra se trasponen a las de venta (los colores en pocas palabras)."
   ]
  },
  {
   "cell_type": "code",
   "execution_count": null,
   "id": "d127fdf1",
   "metadata": {
    "is_executing": true
   },
   "outputs": [],
   "source": [
    "plot_buy_sell_signals(global_buy_signals_5m_long, global_sell_signals_5m_short, dataresult_short_5m_test)"
   ]
  },
  {
   "cell_type": "markdown",
   "id": "86ee1fed",
   "metadata": {},
   "source": [
    "## Optimizacion y backtesting"
   ]
  },
  {
   "cell_type": "markdown",
   "id": "3f0bd78f",
   "metadata": {},
   "source": [
    "Una vez se han determinado los mejores parámetros para cada modelo mediante el proceso de finetuning, el proyecto de análisis de aprendizaje automático procede a realizar un proceso de combinaciones con backtesting. Este enfoque busca identificar el mejor modelo y los mejores parámetros a través de la evaluación del rendimiento financiero, específicamente a través del análisis del profit.\n",
    "\n",
    "El backtesting implica la simulación de estrategias de trading utilizando datos históricos para evaluar el rendimiento de cada modelo y sus parámetros optimizados. Durante este proceso, se aplican las estrategias definidas previamente con los conjuntos de datos históricos para determinar su efectividad en términos de rentabilidad financiera.\n",
    "\n",
    "El objetivo principal del backtesting es identificar la estrategia de trading que genere el mayor profit o beneficio. Este profit se calcula a partir de las ganancias y pérdidas generadas por las operaciones realizadas según las señales de compra y venta generadas por cada modelo y sus respectivos parámetros.\n",
    "\n",
    "Al finalizar el proceso de optimización y backtesting, el código proporciona como resultado el mejor modelo, junto con los parámetros óptimos identificados durante el backtesting. Estos resultados representan la estrategia de trading más efectiva y rentable, basada en el análisis histórico de datos y la evaluación de su desempeño financiero."
   ]
  },
  {
   "cell_type": "markdown",
   "id": "2c7aa9db",
   "metadata": {},
   "source": [
    "Se presenta la funcion de backtesting que devuelve los parametros, y la grafica de los primeros 35 datos, ya con la funcion del backtesting y los parametros optimizados obtenidos por el proceso."
   ]
  },
  {
   "cell_type": "code",
   "execution_count": null,
   "id": "599e785f",
   "metadata": {
    "is_executing": true
   },
   "outputs": [],
   "source": [
    "portfolio_values_1d, cash_values_1d, operations_history_1d = backtest(data_1d, global_buy_signals_1d_long, global_sell_signals_1d_short, 0.8260391440506059, 1.0994972027471122, 43)\n",
    "portfolio_values_1h, cash_values_1h, operations_history_1h = backtest(data_1h, global_buy_signals_1h_long, global_sell_signals_1h_short, 0.8045410770677325, 1.0999994091707832, 50)\n",
    "portfolio_values_1m, cash_values_1m, operations_history_1m = backtest(data_1m, global_buy_signals_1m_long, global_sell_signals_1m_short, 0.8246899075687136, 1.0966755803337889, 47)\n",
    "portfolio_values_5m, cash_values_5m, operations_history_5m = backtest(data_5m, global_buy_signals_5m_long, global_sell_signals_5m_short, 0.8412379579141974, 1.0997899401664173, 29)"
   ]
  },
  {
   "cell_type": "markdown",
   "id": "003c26ae",
   "metadata": {},
   "source": [
    "Los mejores parametros se muestran anteriormente en la funcion de backtest, mientras que los mejores modelos fueron: \n",
    "\n",
    "    1d: Model :XG, Stop Loss: 0.8260391440506059, Take Profit:1.0994972027471122, Activos: 43\n",
    "    1h: Model :XG y Logisitc, Stop Loss: 0.8045410770677325, Take Profit: 1.0999994091707832, Activos: 50\n",
    "    1m: Model :XG, Stop Loss: 0.8246899075687136, Take Profit: 1.0966755803337889, Activos: 47\n",
    "    5m: Model :XG, Stop Loss: 0.8412379579141974, Take Profit: 1.0997899401664173, Activos: 29"
   ]
  },
  {
   "cell_type": "markdown",
   "id": "7012c579",
   "metadata": {},
   "source": [
    "# Analisis\n",
    "Tomamos 35 muestras para que las graficas se pudiera apreciar de mejor manera.\n",
    "\n",
    "Primero que nada sabemos que la tendencia de mercado se muestra en 3 formas: alcista, bajista y lateral. \n",
    "\n",
    "De manera general, el precio muestra tendencias laterales para los 4 datasets, es un punto importante ya que la mayoria de los traders aprovechan las otras dos tendencias de mercado para generar profit.\n",
    "\n",
    "Si bien la tendencia lateral puede ser aprovechada por algunas estrategias, es importante tener precaución, ya que la volatilidad puede ser baja y los movimientos del mercado pueden ser impredecibles. Esto aumenta el riesgo de pérdidas, especialmente para traders principiantes o aquellos que no manejan estrategias adecuadas para este tipo de mercado.\n",
    "\n",
    "En nuestro caso al encontrarnos con operaciones de compra/venta en este tipo de situaciones ya puede mostrarse como \"red flag\", sin embargo hay estrategias de trading como el \"scalping\" que se benefician de este tipo de situaciones (mercados laterales) al igual que los bots de cuadricula que mencionaba antes, muy pocas de estas estrategias suelen ser rentables a lo largo del tiempo.\n",
    "\n",
    "Podemos notar que nuestro modelo se adapta para cualquier \"time frame\", asi que podriamos tener algo positivo en ese sentido."
   ]
  },
  {
   "cell_type": "markdown",
   "id": "f6b82907",
   "metadata": {},
   "source": [
    "### 1 Dia"
   ]
  },
  {
   "cell_type": "code",
   "execution_count": null,
   "id": "3adf90b5",
   "metadata": {
    "is_executing": true
   },
   "outputs": [],
   "source": [
    "plot_operations_history(operations_history_1d)"
   ]
  },
  {
   "cell_type": "markdown",
   "id": "a2729e53",
   "metadata": {},
   "source": [
    "### 1 Hora"
   ]
  },
  {
   "cell_type": "code",
   "execution_count": null,
   "id": "c1fa1829",
   "metadata": {
    "is_executing": true
   },
   "outputs": [],
   "source": [
    "plot_operations_history(operations_history_1h)"
   ]
  },
  {
   "cell_type": "markdown",
   "id": "b368eec3",
   "metadata": {},
   "source": [
    "### 1 Minuto"
   ]
  },
  {
   "cell_type": "code",
   "execution_count": null,
   "id": "5b2dcf05",
   "metadata": {
    "is_executing": true
   },
   "outputs": [],
   "source": [
    "plot_operations_history(operations_history_1m)"
   ]
  },
  {
   "cell_type": "markdown",
   "id": "75f074fb",
   "metadata": {},
   "source": [
    "### 5 Minutos"
   ]
  },
  {
   "cell_type": "code",
   "execution_count": null,
   "id": "f90bd8d6",
   "metadata": {
    "is_executing": true
   },
   "outputs": [],
   "source": [
    "plot_operations_history(operations_history_5m)"
   ]
  },
  {
   "cell_type": "markdown",
   "id": "cc420ace",
   "metadata": {},
   "source": [
    "## Resultados obtenidos"
   ]
  },
  {
   "cell_type": "markdown",
   "id": "6a8f5e64",
   "metadata": {},
   "source": [
    "Para los 4 datasets obtuvimos diferentes parametros, los mejores parametros de dicho modelo para cada dataset.\n",
    "\n",
    "## Parametros óptimos 1 día\n",
    "\n",
    "### Señales de compra\n",
    "\n",
    "#### SVM\n",
    "- C = 0.43326595131065515\n",
    "- kernel = poly\n",
    "- degree = 2\n",
    "- gamma = scale\n",
    "\n",
    "#### XG BOOST\n",
    "- n_estimators = 200\n",
    "- max_depth = 4\n",
    "- learning_rate = 0.01737000818203036\n",
    "- subsample = 0.6\n",
    "- colsample_bytree = 0.8\n",
    "\n",
    "#### LOGISTIC\n",
    "- penalty = l1\n",
    "- C = 0.010968139046945382\n",
    "- solver = saga\n",
    "\n",
    "### Señales de venta\n",
    "\n",
    "#### SVM\n",
    "- C = 0.0035454674239493874\n",
    "- kernel = rbf\n",
    "- gamma = scale\n",
    "\n",
    "#### XG BOOST\n",
    "- n_estimators = 100\n",
    "- max_depth = 3\n",
    "- learning_rate = 0.030090107781624707\n",
    "- subsample = 0.9\n",
    "- colsample_bytree = 0.8\n",
    "\n",
    "#### LOGISTIC\n",
    "- penalty = l2\n",
    "- C = 0.6431546383805156\n",
    "- solver = liblinear\n",
    "\n",
    "## Parametros óptimos 1 hora\n",
    "\n",
    "### Señales de compra\n",
    "\n",
    "#### SVM\n",
    "- C = 0.04584664364591048\n",
    "- kernel = poly\n",
    "- degree = 2\n",
    "- gamma = auto\n",
    "\n",
    "#### XG BOOST\n",
    "- n_estimators = 900\n",
    "- max_depth = 9\n",
    "- learning_rate = 0.2220589262776878\n",
    "- subsample = 0.5\n",
    "- colsample_bytree = 0.7\n",
    "\n",
    "#### LOGISTIC\n",
    "- penalty = l1\n",
    "- C = 0.010968139046945382\n",
    "- solver = saga\n",
    "\n",
    "### Señales de venta\n",
    "\n",
    "#### SVM\n",
    "- C = 0.2018232497206618\n",
    "- kernel = rbf\n",
    "- gamma = auto\n",
    "\n",
    "#### XG BOOST\n",
    "- n_estimators = 100\n",
    "- max_depth = 10\n",
    "- learning_rate = 0.102602018285415\n",
    "- subsample = 0.5\n",
    "- colsample_bytree = 0.6\n",
    "\n",
    "#### LOGISTIC\n",
    "- penalty = l2\n",
    "- C = 0.0028315415752095535\n",
    "- solver = saga\n",
    "\n",
    "## Parametros óptimos 1 minuto\n",
    "\n",
    "### Señales de compra\n",
    "\n",
    "#### SVM\n",
    "- C = 208.31110635195978\n",
    "- kernel = rbf\n",
    "- gamma = auto\n",
    "\n",
    "#### XG BOOST\n",
    "- n_estimators = 200\n",
    "- max_depth = 8\n",
    "- learning_rate = 0.016335181464666\n",
    "- subsample = 0.6\n",
    "- colsample_bytree = 0.5\n",
    "\n",
    "#### LOGISTIC\n",
    "- penalty = l2\n",
    "- C = 0.0015827990076342706\n",
    "- solver = saga\n",
    "\n",
    "### Señales de venta\n",
    "\n",
    "#### SVM\n",
    "- C = 89.33147882881373\n",
    "- kernel = linear\n",
    "\n",
    "#### XG BOOST\n",
    "- n_estimators = 400\n",
    "- max_depth = 3\n",
    "- learning_rate = 0.061659645644687434\n",
    "- subsample = 0.8\n",
    "- colsample_bytree = 0.7\n",
    "\n",
    "#### LOGISTIC\n",
    "- penalty = l2\n",
    "- C = 0.002105767490569824\n",
    "- solver = saga\n",
    "\n",
    "## Parametros óptimos 5 minutos\n",
    "\n",
    "### Señales de compra\n",
    "\n",
    "#### SVM\n",
    "- C = 0.002176996974479978\n",
    "- kernel = sigmoid\n",
    "- gamma = scale\n",
    "\n",
    "#### XG BOOST\n",
    "- n_estimators = 1000\n",
    "- max_depth = 9\n",
    "- learning_rate = 0.014804455005781484\n",
    "- subsample = 0.9\n",
    "- colsample_bytree = 0.7\n",
    "\n",
    "#### LOGISTIC\n",
    "- penalty = l2\n",
    "- C = 0.002395829495054093\n",
    "- solver = liblinear\n",
    "\n",
    "### Señales de venta\n",
    "\n",
    "#### SVM\n",
    "- C = 0.6739747156890435\n",
    "- kernel = linear\n",
    "\n",
    "#### XG BOOST\n",
    "- n_estimators = 900\n",
    "- max_depth = 9\n",
    "- learning_rate = 0.08242884326336312\n",
    "- subsample = 0.5\n",
    "- colsample_bytree = 1.0\n",
    "\n",
    "#### LOGISTIC\n",
    "- penalty = l1\n",
    "- C = 0.0030591725482995644\n",
    "- solver = saga\n",
    "\n",
    "\n",
    "Estos valores de parámetros se seleccionaron mediante el proceso de optimización y finetuning. XGBoost se destaca por su capacidad para manejar conjuntos de datos grandes, su eficiencia computacional y su capacidad para capturar relaciones no lineales y complejas en los datos, lo que lo hace preferible en muchas aplicaciones de aprendizaje automático.\n",
    "\n",
    "### Parametros de los modelos\n",
    "\n",
    "Los parámetros definidos para la estrategia de trading son fundamentales para determinar su efectividad y gestión del riesgo, los resultados obtenidos por el metodo de optuna fueron:\n",
    "\n",
    "### 1 Dia\n",
    "\n",
    "stop_loss: 0.899950212993615\n",
    "\n",
    "take_profit: 1.0987292727726978\n",
    "\n",
    "n_shares: 47\n",
    "\n",
    "### 1 Hora\n",
    "\n",
    "stop_loss: 0.899950212993615\n",
    "\n",
    "take_profit: 1.0987292727726978\n",
    "\n",
    "n_shares: 47\n",
    "\n",
    "### 1 Minuto\n",
    "\n",
    "stop_loss: 0.899950212993615\n",
    "\n",
    "take_profit: 1.0987292727726978\n",
    "\n",
    "n_shares: 47\n",
    "\n",
    "### 5 Minutos\n",
    "\n",
    "stop_loss: 0.899950212993615\n",
    "\n",
    "take_profit: 1.0987292727726978\n",
    "\n",
    "n_shares: 47\n",
    "\n",
    "\n",
    "Estos valores determinan el nivel de riesgo y la rentabilidad esperada de la estrategia de trading. Un stop_loss adecuadamente ajustado puede limitar las pérdidas en caso de movimientos desfavorables del mercado, mientras que un take_profit bien definido puede asegurar las ganancias antes de que se reviertan las tendencias del mercado. La cantidad de shares define el tamaño de cada operación y su impacto en el capital inicial."
   ]
  },
  {
   "cell_type": "markdown",
   "id": "12821757",
   "metadata": {},
   "source": [
    "Con todo esto, pudimos obtener rendimientos que vamos a presentar un poco mas adelante, sin embargo aqui se muestran las graficas del dinero que teniamos atraves del tiempo, y la grafica del valor del portafolio atraves del tiempo tambien. Como podedmos observar ambas tienen buenos rendimientos y no bajan tanto de valor como podria asumirse con el dinero que tienes al iniciar y como va fluctuando con el tiempo."
   ]
  },
  {
   "cell_type": "markdown",
   "id": "03b03dbf",
   "metadata": {},
   "source": [
    "# Valores del portafolio\n",
    "El significado de esta variable, es notar como ha crecido o decrecido nuestra inversion a lo largo del tiempo, tomando un indice de 1, si esta por debajo estamos en perdidas, si esta por encima estamos en \"profit\".\n",
    "\n",
    "La observación de que los volúmenes de operaciones varían según el dataset se debe a la cantidad de datos y oportunidades de entrada disponibles en cada uno. Un mayor volumen de operaciones implica más oportunidades de entrada y salida, lo que puede influir en el rendimiento.\n",
    "\n",
    "Seria positivo analizar si existe una correlación directa entre el volumen de operaciones y el rendimiento. Un mayor volumen no garantiza necesariamente un mayor rendimiento, y viceversa. Se deben considerar otros factores como la calidad de las señales de entrada y la gestión del riesgo.\n",
    "\n",
    "Otro punto positivo es que en los 4 datasets, notamos que nuestro valor del portafolio termino en positivo, siendo para el dataset de 5 minutos el mejor resultado, llegando casi a un 40% de aumento en el portafolio, el peor fue el dataset de 1 minuto, llegando a quedarse el mismo valor de portafolio generando poco porcentaje de rendimiento.\n",
    "\n",
    "La similitud entre las gráficas del valor del portafolio y los movimientos del precio sugiere que la estrategia se ve favorecida por las tendencias alcistas del mercado. En este tipo de escenarios, la estrategia podría generar ganancias consistentes al aprovechar los movimientos ascendentes del precio.\n",
    "\n",
    "Todas las graficas se parecen bastantes a los movimientos de los precios, con las mismas tendencias. Podria decirse que nuestra inversion se moveria igual que a como se mueva la accion, probablemente siendo la tendencia alcista la que beneficia nuestra estrategia."
   ]
  },
  {
   "cell_type": "markdown",
   "id": "19e9d07c",
   "metadata": {},
   "source": [
    "### 1 Dia"
   ]
  },
  {
   "cell_type": "code",
   "execution_count": null,
   "id": "66209f09",
   "metadata": {
    "is_executing": true
   },
   "outputs": [],
   "source": [
    "port_value_plot(portfolio_values_1d)\n"
   ]
  },
  {
   "cell_type": "markdown",
   "id": "e7d7ee47",
   "metadata": {},
   "source": [
    "### 1 Hora"
   ]
  },
  {
   "cell_type": "code",
   "execution_count": null,
   "id": "0089acad",
   "metadata": {
    "is_executing": true
   },
   "outputs": [],
   "source": [
    "port_value_plot(portfolio_values_1h)\n"
   ]
  },
  {
   "cell_type": "markdown",
   "id": "d84bf914",
   "metadata": {},
   "source": [
    "### 1 Minuto"
   ]
  },
  {
   "cell_type": "code",
   "execution_count": null,
   "id": "14137b41",
   "metadata": {
    "is_executing": true
   },
   "outputs": [],
   "source": [
    "port_value_plot(portfolio_values_1m)"
   ]
  },
  {
   "cell_type": "markdown",
   "id": "cf22a27d",
   "metadata": {},
   "source": [
    "### 5 Minutos"
   ]
  },
  {
   "cell_type": "code",
   "execution_count": null,
   "id": "31703213",
   "metadata": {
    "is_executing": true
   },
   "outputs": [],
   "source": [
    "port_value_plot(portfolio_values_5m)"
   ]
  },
  {
   "cell_type": "markdown",
   "id": "498c443a",
   "metadata": {},
   "source": [
    "# Valores de efectivo"
   ]
  },
  {
   "cell_type": "markdown",
   "id": "6b74473d",
   "metadata": {},
   "source": [
    "En las siguientes graficas podemos notar como nuestro efectivo o el dinero que no tenemos invertido crece/decrece con el tiempo.\n",
    "\n",
    "### 1 Dia\n",
    "Para este caso podemos notar como la mayoria del dinero esta siendo invertido en distintas operaciones, aumentando o disminuyendo conforme se van abriendo operaciones, llegando a estar en 20% su valor. Se va usando el efectivo de forma lateral, llegando a usarse su mayoria hasta las ultimas operaciones registradas.\n",
    "\n",
    "El comportamiento del efectivo sugiere que la estrategia utiliza el capital de manera estratégica para maximizar las ganancias potenciales. Se invierte una cantidad significativa en operaciones, pero se mantiene un margen de efectivo disponible para cubrir posibles pérdidas y aprovechar nuevas oportunidades."
   ]
  },
  {
   "cell_type": "code",
   "execution_count": null,
   "id": "c732144a",
   "metadata": {
    "is_executing": true
   },
   "outputs": [],
   "source": [
    "plot_cash(cash_values_1d, 'Efectivo Diario')\n"
   ]
  },
  {
   "cell_type": "markdown",
   "id": "0d6cdb38",
   "metadata": {},
   "source": [
    "### 1 Hora\n",
    "Podemos notar que desde el principio el valor de nuestro efectivo llega a 0%, quiere decirse que se esta usando todo el dinero disponible desde que inician las operaciones, lo cual se debe a que el numero de operaciones ha aumentado con respecto a la del \"time frame\" de un dia.\n",
    "\n",
    "Se tiene que tener cuidado a la hora de tener un enfoque agresivo en donde se use todo el capital, a pesar de que te pueda generar mejores ganancias potenciales, tambien podria generar un riesgo mucho mayor a la hora de hablar de \"trades\" perdedores.\n",
    "\n",
    "El mayor número de operaciones en comparación con el timeframe de 1 día sugiere que la estrategia busca aprovechar al máximo las fluctuaciones del mercado a corto plazo.\n",
    " \n",
    "Aun podemos notar que en algunos momentos hay un valor de efectivo considerable sin usarse.\n"
   ]
  },
  {
   "cell_type": "code",
   "execution_count": null,
   "id": "74a1d91d",
   "metadata": {
    "is_executing": true
   },
   "outputs": [],
   "source": [
    "plot_cash(cash_values_1h, 'Efectivo por Hora')\n"
   ]
  },
  {
   "cell_type": "markdown",
   "id": "0756a739",
   "metadata": {},
   "source": [
    "\n",
    "### 1 Minuto\n",
    "\n",
    "Nuevamente al deberse a la cantidad de operaciones que se encuentran ejecutandose desde el principio y hasta el final practicamente todo el dinero esta siendo usado en la estrategia.\n",
    "\n",
    "Se tiene que tener cuidado a la hora de tener un enfoque agresivo en donde se use todo el capital, a pesar de que te pueda generar mejores ganancias potenciales, tambien podria generar un riesgo mucho mayor a la hora de hablar de \"trades\" perdedores.\n",
    "\n",
    "\n"
   ]
  },
  {
   "cell_type": "code",
   "execution_count": null,
   "id": "d109347f",
   "metadata": {
    "is_executing": true
   },
   "outputs": [],
   "source": [
    "plot_cash(cash_values_1m, 'Efectivo Mensual')\n"
   ]
  },
  {
   "cell_type": "markdown",
   "id": "f26f1167",
   "metadata": {},
   "source": [
    "\n",
    "### 5 Minutos\n",
    "\n",
    "Podemos notar momentos en los que el efectivo no se usa, pero son en pocas ocasiones, comparandolo con los \"time frames\" de un dia y una hora, sin embargo, la mayor parte del tiempo el dinero es usado en su totalidad, tambien se debe al numero de operaciones hechas por el modelo.\n",
    "\n",
    "En el \"time frame\" de 5 minutos, se observa un uso más estratégico del efectivo en comparación con el \"time frame\" de 1 minuto. La estrategia invierte y desinvierte capital de manera más dinámica, aprovechando oportunidades de mercado a corto plazo, usando una estrategia agresiva de uso de capital, pero teniendo muchos mejores resultados."
   ]
  },
  {
   "cell_type": "code",
   "execution_count": null,
   "id": "1f0cd30e",
   "metadata": {
    "is_executing": true
   },
   "outputs": [],
   "source": [
    "plot_cash(cash_values_5m, 'Efectivo cada 5 minutos')"
   ]
  },
  {
   "cell_type": "markdown",
   "id": "84f19eb2",
   "metadata": {},
   "source": [
    "En las siguientes graficas se hara una comparacion entre como se mueve nuestro efectivo con respecto a como nuestra inversion crece o decrece."
   ]
  },
  {
   "cell_type": "markdown",
   "id": "02e5b829",
   "metadata": {},
   "source": [
    "## 1 Dia"
   ]
  },
  {
   "cell_type": "code",
   "execution_count": null,
   "id": "ea2a88cd",
   "metadata": {
    "is_executing": true
   },
   "outputs": [],
   "source": [
    "cash_portvalue_plot(cash_values_1d, portfolio_values_1d)"
   ]
  },
  {
   "cell_type": "markdown",
   "id": "9ccaac7f",
   "metadata": {},
   "source": [
    "## 1 Hora"
   ]
  },
  {
   "cell_type": "code",
   "execution_count": null,
   "id": "84312282",
   "metadata": {
    "is_executing": true
   },
   "outputs": [],
   "source": [
    "cash_portvalue_plot(cash_values_1h, portfolio_values_1h)\n"
   ]
  },
  {
   "cell_type": "markdown",
   "id": "3a6bd5e5",
   "metadata": {},
   "source": [
    "## 1 Minuto"
   ]
  },
  {
   "cell_type": "code",
   "execution_count": null,
   "id": "3744ee8c",
   "metadata": {
    "is_executing": true
   },
   "outputs": [],
   "source": [
    "cash_portvalue_plot(cash_values_1m, portfolio_values_1m)\n"
   ]
  },
  {
   "cell_type": "markdown",
   "id": "18ffcb06",
   "metadata": {},
   "source": [
    "## 5 Minutos"
   ]
  },
  {
   "cell_type": "code",
   "execution_count": null,
   "id": "8040ac60",
   "metadata": {
    "is_executing": true
   },
   "outputs": [],
   "source": [
    "cash_portvalue_plot(cash_values_5m, portfolio_values_5m)"
   ]
  },
  {
   "cell_type": "code",
   "execution_count": null,
   "id": "14bbe256",
   "metadata": {
    "is_executing": true
   },
   "outputs": [],
   "source": []
  },
  {
   "cell_type": "markdown",
   "id": "e8e9cec4",
   "metadata": {},
   "source": [
    "A continuacion compararemos el valor del portafolio con respecto a una estrategia pasiva (no hacer nada) para cada dataset."
   ]
  },
  {
   "cell_type": "markdown",
   "id": "04cd7e36",
   "metadata": {},
   "source": [
    "### 1 Dia\n",
    "El modelo inicio bien, manteniendose por encima de la estrategia pasiva, llegando a estar en un 10% de profit hasta tener una caida bastante significativa llegando a estar en niveles por debajo de la estrategia pasiva. \n",
    "\n",
    "Este retroceso podría deberse a varios factores, como cambios inesperados en las condiciones del mercado, errores en la ejecución de las operaciones o limitaciones de la propia estrategia.\n",
    "\n",
    "Al final el modelo logro estar por encima, por lo que fue exitosa, consiguiendo no estar en negativo. Otra vez podemos notar que tuvo patrones similares  que el precio de cierre de la accion."
   ]
  },
  {
   "cell_type": "code",
   "execution_count": null,
   "id": "8d49d45c",
   "metadata": {
    "is_executing": true
   },
   "outputs": [],
   "source": [
    "pasive_portvalue_plot(portfolio_values_1d)\n"
   ]
  },
  {
   "cell_type": "markdown",
   "id": "40c474d5",
   "metadata": {},
   "source": [
    "### 1 Hora\n",
    "Al tratarse de los mismos niveles de precio que el dataset de 1 dia, podemos notar patrones similares en nuestro valor del portafolio, solo que en este caso el modelo para este dataset, logro estar en un 20% de \"profit\" antes de la caida significativa.\n",
    "\n",
    "Este retroceso podria deberse a varios factores, como cambios inesperados en las condiciones del mercado, errores en la ejecución de las operaciones o limitaciones de la propia estrategia.\n",
    "\n",
    "El modelo en el \"time frame\" de 1 hora alcanzo un 20% de ganancias antes de la caida, superando el 10% obtenido en el timeframe de 1 día. Esto sugiere que la estrategia pudo aprovechar mejor las oportunidades de mercado a corto plazo.\n",
    "\n",
    "Logro recuperarse de la misma manera que el de un dia, por lo que cerro en positivo, siendo mejor que no hacer nada, no aplica el dicho \"mejor nada\"."
   ]
  },
  {
   "cell_type": "code",
   "execution_count": null,
   "id": "3ce39af6",
   "metadata": {
    "is_executing": true
   },
   "outputs": [],
   "source": [
    "pasive_portvalue_plot(portfolio_values_1h)\n"
   ]
  },
  {
   "cell_type": "markdown",
   "id": "aa91835f",
   "metadata": {},
   "source": [
    "### 1 Minuto\n",
    "La mayor parte del tiempo nuestra estrategia se encontraba por debajo de la estrategia pasiva, las dificultades podrían deberse a diversos factores, como el ruido del mercado, la ejecución de operaciones a corto plazo o limitaciones en la capacidad de la estrategia para adaptarse a cambios rápidos del precio.\n",
    "\n",
    "A pesar de las dificultades iniciales, la estrategia logró recuperarse en la parte final del dataset, superando el rendimiento de la estrategia pasiva y obteniendo un resultado positivo general. Esto indica que la estrategia pudo identificar oportunidades rentables al final del periodo, aunque no tan \"jugosas\"."
   ]
  },
  {
   "cell_type": "code",
   "execution_count": null,
   "id": "3f72faf8",
   "metadata": {
    "is_executing": true
   },
   "outputs": [],
   "source": [
    "pasive_portvalue_plot(portfolio_values_1m)\n"
   ]
  },
  {
   "cell_type": "markdown",
   "id": "3ff0dcc1",
   "metadata": {},
   "source": [
    "### 5 Minutos\n",
    "De nuestras estrategias esta fue la mejor, desde el inicio supero con creces la estrategia pasiva, llegando a casi un 40% de beneficio con respecto a no hacer nada, nunca estuvo por debajo de la estrategia pasiva y se mantuvo en sus maximos de beneficio al final del dataset.\n",
    "\n",
    "A diferencia de las otras estrategias, el modelo en 5 minutos no experimentó retrocesos significativos ni estuvo por debajo de la estrategia pasiva en ningún momento. Esta consistencia y estabilidad son cualidades valiosas en una estrategia de trading.\n",
    "\n",
    "Es probable que la estrategia tenga una alta capacidad para identificar tendencias a corto plazo y posicionarse en consecuencia, generando ganancias consistentes a lo largo del día."
   ]
  },
  {
   "cell_type": "code",
   "execution_count": null,
   "id": "680e22e9",
   "metadata": {
    "is_executing": true
   },
   "outputs": [],
   "source": [
    "pasive_portvalue_plot(portfolio_values_5m)"
   ]
  },
  {
   "cell_type": "markdown",
   "id": "5b1d14d8",
   "metadata": {},
   "source": [
    "La similitud entre los patrones del modelo y el precio de cierre de la acción sugiere que la estrategia se ve favorecida por las tendencias del mercado. En este caso, la tendencia alcista del día permitió al modelo obtener ganancias a pesar del retroceso temporal."
   ]
  },
  {
   "cell_type": "markdown",
   "id": "1e78f464",
   "metadata": {},
   "source": [
    "## Conclusiones"
   ]
  },
  {
   "cell_type": "markdown",
   "id": "01e41163",
   "metadata": {},
   "source": [
    "Los modelos probados para los \"datasets\" operan en situaciones de un mercado lateral tambien lo cual podria llegar a considerarse una \"red flag\" a menos de que se esten usando tecnicas especificas para \"scalping\" o tradeos por cuadricula.\n",
    "\n",
    "Los valores de nuestros portafolios se mueven igual que el precio de la accion, por lo que los beneficios los va encontrando en medio de esta tendencia.\n",
    "\n",
    "Los modelos se ajustan bien a los distintos \"times frames\", ya que mientras mas datos tienen, mas oportunidades de entrada o salida encuentran durante todo el periodo mostrado en cada uno.\n",
    "\n",
    "Por mucho, la mejor estrategia fue la usada para el \"time frame\" de 5 minutos, llegando a tener casi un 40% de rendimiento mientras que las demas se mantuvieron en el rango de 1% y 11% de beneficio, por lo que podriamos pensar que hubiese sido mejor haber invertido en la tasa libre de riesgo.\n",
    "\n",
    "Las tecnicas de backtesting y los modelos usados, no deberian usarse como la unica herramienta de un trader, si no mas bien, ser un indicador mas en su lista de herramientas para hacer \"trading\", todos somos buenos \"traders\" en un mercado alcista, por lo que no podemos tomar los resultados como la verdad absoluta.\n",
    "\n",
    "Podemos notar que usamos 2 modelos, xg y Logistic, para el de 1 hora se combinaron los dos. Al usarse el modelo xg en varios \"dataframes\" podriamos argumentar tambien, que el modelo se ajusto de mejor manera a un \"time frame\" de 5 minutos.\n",
    "\n",
    "Es crucial realizar pruebas exhaustivas en diferentes condiciones de mercado, incluyendo mercados bajistas y laterales, para evaluar la robustez y generalización de las estrategias.\n",
    "\n",
    "En conclusión, las estrategias analizadas han mostrado potencial para generar retornos superiores a la inversión pasiva en mercados alcistas, habria que explorar otras situaciones de mercado.\n",
    "\n"
   ]
  },
  {
   "cell_type": "code",
   "execution_count": null,
   "id": "8663ff62",
   "metadata": {
    "is_executing": true
   },
   "outputs": [],
   "source": []
  }
 ],
 "metadata": {
  "kernelspec": {
   "display_name": "Python 3",
   "language": "python",
   "name": "python3"
  },
  "language_info": {
   "codemirror_mode": {
    "name": "ipython",
    "version": 3
   },
   "file_extension": ".py",
   "mimetype": "text/x-python",
   "name": "python",
   "nbconvert_exporter": "python",
   "pygments_lexer": "ipython3",
   "version": "3.8.8"
  }
 },
 "nbformat": 4,
 "nbformat_minor": 5
}
