{
 "cells": [
  {
   "cell_type": "code",
   "execution_count": null,
   "id": "b68bd9aa",
   "metadata": {
    "is_executing": true
   },
   "outputs": [],
   "source": [
    "import mplfinance as mpf\n",
    "import pandas as pd\n",
    "import ta\n",
    "import optuna\n",
    "import time\n",
    "import numpy as np\n",
    "from multiprocessing import Pool\n",
    "from itertools import combinations, chain\n",
    "from sklearn.datasets import load_iris\n",
    "from sklearn.model_selection import train_test_split\n",
    "from sklearn.preprocessing import StandardScaler\n",
    "from sklearn.linear_model import LogisticRegression\n",
    "from sklearn.svm import SVC\n",
    "from xgboost import XGBClassifier\n",
    "from sklearn.metrics import accuracy_score\n",
    "import warnings\n",
    "import matplotlib.pyplot as plt\n",
    "import tensorflow as tf\n",
    "from sklearn.model_selection import train_test_split\n",
    "from tensorflow.keras.optimizers import Adam\n",
    "from tensorflow.keras.callbacks import EarlyStopping"
   ]
  },
  {
   "cell_type": "code",
   "execution_count": null,
   "id": "196cf1f4",
   "metadata": {
    "is_executing": true,
    "ExecuteTime": {
     "start_time": "2024-04-12T06:13:03.630112Z"
    }
   },
   "outputs": [],
   "source": [
    "from utils.utils import plot_candle_chart, file_features, buy_signals_1d_dl, buy_signals_1h_dl, buy_signals_1m_dl, buy_signals_5m_dl, buy_sell, backtest1\n",
    "from utils.utils import sell_signals_1d_dl, sell_signals_1h_dl, sell_signals_1m_dl, sell_signals_5m_dl, plot_buy_sell_signals_dl, data_fun, plot_signals, plot_transacciones\n",
    "from utils.utils import backtest, plot_operations_history, port_value_plot, plot_cash, cash_portvalue_plot, pasive_portvalue_plot, create_and_compile_dnn_model"
   ]
  },
  {
   "cell_type": "markdown",
   "id": "737efa26",
   "metadata": {},
   "source": [
    "### Equipo:\n",
    "- 727671 - Daniela Natalia Barajas García\n",
    "- 733462 - Lucía Cruz Ramírez\n",
    "- 733481 - Elías Hernández Alarcón\n",
    "- 728469 - Juan Pedro Sánchez Galaz"
   ]
  },
  {
   "cell_type": "markdown",
   "id": "4c1be245",
   "metadata": {},
   "source": [
    "# Deep Learning"
   ]
  },
  {
   "cell_type": "markdown",
   "id": "651169b0",
   "metadata": {},
   "source": [
    "Nuestro proyecto de análisis mediante deep learning se centra en la exploración y modelado de conjuntos de datos de validación proporcionados durante las primeras etapas del curso. Nos adentramos en la información financiera de la empresa AAPL (Apple Inc.), llevando a cabo un análisis exhaustivo de sus datos de precios de cierre, máximos, mínimos y otros indicadores pertinentes.\n",
    "\n",
    "Los siguientes datos servirán como la base sobre la cual aplicaremos técnicas de deep learning para extraer patrones y realizar predicciones precisas sobre el comportamiento futuro de AAPL en el mercado financiero."
   ]
  },
  {
   "cell_type": "code",
   "execution_count": null,
   "id": "9226c825",
   "metadata": {
    "is_executing": true
   },
   "outputs": [],
   "source": [
    "data_1d = data_fun(\"data/aapl_1d_test.csv\")\n",
    "data_1h = data_fun(\"data/aapl_1h_test.csv\")\n",
    "data_1m = data_fun(\"data/aapl_1m_test.csv\")\n",
    "data_5m = data_fun(\"data/aapl_5m_test.csv\")\n",
    "data_1d.head()"
   ]
  },
  {
   "cell_type": "markdown",
   "id": "477bda22",
   "metadata": {},
   "source": [
    "    Fecha: Indica la fecha en que se registraron los datos de precios de las acciones de Apple. Es esencial para seguir la evolución del precio a lo largo del tiempo y detectar patrones y tendencias.\n",
    "\n",
    "    Apertura: Es el primer precio al que se negociaron las acciones de Apple en el día. Proporciona una indicación inicial de la dirección en que el precio puede moverse durante la jornada.\n",
    "\n",
    "    Alto: Es el precio más alto alcanzado durante el día de negociación para las acciones de Apple. Indica el máximo alcanzado y la fuerza alcista del mercado.\n",
    "\n",
    "    Bajo: Es el precio más bajo alcanzado durante el día de negociación. Indica el mínimo y la presión de venta en el mercado.\n",
    "\n",
    "    Cierre: Es el último precio al que se negociaron las acciones en el día. Es uno de los más importantes, reflejando el valor final al que los inversores están dispuestos a comprar o vender las acciones.\n",
    "\n",
    "    Cierre Ajustado: Considera eventos corporativos que afecten el precio de las acciones, como divisiones de acciones o dividendos. Ofrece una medida más precisa del rendimiento del precio de las acciones.\n",
    "\n",
    "    Volumen: Indica la cantidad total de acciones de Apple negociadas durante el día. Puede señalar la fuerza detrás de los movimientos de precios: un alto volumen sugiere mayor interés y actividad, mientras que un bajo volumen puede indicar menor participación y volatilidad."
   ]
  },
  {
   "cell_type": "code",
   "execution_count": null,
   "id": "b77ce7ba",
   "metadata": {
    "is_executing": true
   },
   "outputs": [],
   "source": [
    "fig, axs = plt.subplots(4, figsize=(10, 20))\n",
    "data_1d['Close'].plot(ax=axs[0])\n",
    "axs[0].set_title('Gráfico de cierre diario')\n",
    "data_1h['Close'].plot(ax=axs[1])\n",
    "axs[1].set_title('Gráfico de cierre por hora')\n",
    "data_1m['Close'].plot(ax=axs[2])\n",
    "axs[2].set_title('Gráfico de cierre mensual')\n",
    "data_5m['Close'].plot(ax=axs[3])\n",
    "axs[3].set_title('Gráfico de cierre cada 5 minutos')\n",
    "plt.tight_layout()\n",
    "plt.show()"
   ]
  },
  {
   "cell_type": "markdown",
   "id": "a8e22877",
   "metadata": {},
   "source": [
    "Las acciones de Apple (AAPL) han experimentado un crecimiento significativo en las últimas décadas. Desde su salida a bolsa en 1980, el precio de las acciones de Apple ha tenido varias tendencias alcistas y correcciones, pero en general ha mostrado una tendencia ascendente a largo plazo.\n",
    "\n",
    "La variación del precio de las acciones de Apple a menudo está relacionada con el rendimiento de sus productos y la innovación tecnológica. El lanzamiento de nuevos productos exitosos, como el iPhone, iPad, Mac y servicios como Apple Music y Apple TV+, puede impulsar el precio de las acciones."
   ]
  },
  {
   "cell_type": "markdown",
   "id": "690e961a",
   "metadata": {},
   "source": [
    "## Modelos de Deep Learning"
   ]
  },
  {
   "cell_type": "markdown",
   "id": "2a1e3530",
   "metadata": {},
   "source": [
    "Entre los modelos de Deep Learning se encuentra CNN, RNN, Transformadores y DNN.\n",
    "\n",
    "Un modelo DNN, o Red Neuronal Profunda, es una técnica de aprendizaje automático que permite a una computadora realizar tareas que serían muy difíciles de lograr utilizando técnicas de programación convencionales. Estos modelos utilizan algoritmos de aprendizaje profundo para analizar grandes cantidades de datos y realizar tareas como detección de objetos, clasificación de imágenes, procesamiento de lenguaje natural, entre otros. Las redes neuronales profundas están compuestas por varias capas ocultas entre las capas de entrada y salida, lo que les permite modelar relaciones no lineales complejas y resolver problemas del mundo real, como la clasificación de datos.\n",
    "\n",
    "Estos modelos se destacan por su capacidad para modelar relaciones no lineales complejas a través de capas ocultas entre las entradas y salidas. Estos modelos se destacan por su capacidad de entrenamiento para mejorar la precisión en la predicción, su flexibilidad en diversas aplicaciones de aprendizaje automático, incluyendo la regresión y clasificación, su uso en tareas avanzadas como detección de objetos, clasificación de imágenes y procesamiento de lenguaje natural, y su capacidad para entrenarse con conjuntos de datos extensos para mejorar la representación de características. Estas características hacen que los modelos DNN sean herramientas poderosas en el campo del aprendizaje automático, capaces de abordar tareas complejas y modelar relaciones no lineales en datos del mundo real.\n",
    "\n",
    "### ¿Por qué escogerlo?\n",
    "\n",
    "Nuestro criterio para seleccionarlo fue debido a que es un modelo clave debido a su capacidad para abordar tareas complejas que serían difíciles de realizar con técnicas de programación convencionales. Su flexibilidad en diversas aplicaciones de aprendizaje automático, su capacidad para modelar relaciones no lineales complejas, y su precisión mejorada con el entrenamiento, los convierten en una herramienta poderosa en el campo del aprendizaje automático. Además, su capacidad para reconocer patrones y aprender de manera autónoma, lo que les permite adaptarse a nuevas situaciones y datos en tiempo real. Esta capacidad de adaptación los hace ideales para aplicaciones en las que los requisitos y las condiciones cambian con el tiempo. Asimismo, su capacidad para manejar grandes volúmenes de datos de manera eficiente los convierte en una herramienta invaluable para el análisis de big data y la toma de decisiones basada en datos. En resumen, la combinación de flexibilidad, capacidad de aprendizaje autónomo y manejo eficiente de grandes conjuntos de datos hace que los modelos DNN sean una elección poderosa en el campo del aprendizaje automático."
   ]
  },
  {
   "cell_type": "markdown",
   "id": "98c67958",
   "metadata": {},
   "source": [
    "## Definicion de variables independientes y dependiente"
   ]
  },
  {
   "cell_type": "markdown",
   "id": "d4fe1604",
   "metadata": {},
   "source": [
    "Con los conjuntos de datos proporcionados, se procede a la definición de nuevos dataframes que contienen las variables independientes junto con la variable dependiente (\"response\") para su posterior entrenamiento. Es importante destacar que se generan dos conjuntos de datos distintos: uno referente a las transacciones de compra y no compra, y otro relativo a las transacciones de venta y no venta. "
   ]
  },
  {
   "cell_type": "code",
   "execution_count": null,
   "id": "135f45a5",
   "metadata": {
    "is_executing": true
   },
   "outputs": [],
   "source": [
    "dataresult_long_1d_test = file_features(\"data/aapl_1d_test.csv\", ds_type = \"buy\")\n",
    "dataresult_long_1d_test = dataresult_long_1d_test.dropna()\n",
    "dataresult_short_1d_test = file_features(\"data/aapl_1d_test.csv\", ds_type = \"sell\")\n",
    "dataresult_short_1d_test = dataresult_short_1d_test.dropna()\n",
    "dataresult_short_1d_test.head()"
   ]
  },
  {
   "cell_type": "code",
   "execution_count": null,
   "id": "0e7e5170",
   "metadata": {
    "is_executing": true
   },
   "outputs": [],
   "source": [
    "dataresult_long_1m_test = file_features(\"data/aapl_1m_test.csv\", ds_type = \"buy\")\n",
    "dataresult_long_1m_test = dataresult_long_1m_test.dropna()\n",
    "dataresult_short_1m_test = file_features(\"data/aapl_1m_test.csv\", ds_type = \"sell\")\n",
    "dataresult_short_1m_test = dataresult_short_1m_test.dropna()\n",
    "dataresult_short_1m_test.head()"
   ]
  },
  {
   "cell_type": "code",
   "execution_count": null,
   "id": "b4c0d274",
   "metadata": {
    "is_executing": true
   },
   "outputs": [],
   "source": [
    "dataresult_long_1h_test = file_features(\"data/aapl_1h_test.csv\", ds_type = \"buy\")\n",
    "dataresult_long_1h_test = dataresult_long_1h_test.dropna()\n",
    "dataresult_short_1h_test = file_features(\"data/aapl_1h_test.csv\", ds_type = \"sell\")\n",
    "dataresult_short_1h_test = dataresult_short_1h_test.dropna()\n",
    "dataresult_short_1h_test.head()"
   ]
  },
  {
   "cell_type": "code",
   "execution_count": null,
   "id": "42416b73",
   "metadata": {
    "is_executing": true
   },
   "outputs": [],
   "source": [
    "dataresult_long_5m_test = file_features(\"data/aapl_5m_test.csv\", ds_type = \"buy\")\n",
    "dataresult_long_5m_test = dataresult_long_5m_test.dropna()\n",
    "dataresult_short_5m_test = file_features(\"data/aapl_5m_test.csv\", ds_type = \"sell\")\n",
    "dataresult_short_5m_test = dataresult_short_5m_test.dropna()\n",
    "dataresult_short_5m_test.head()"
   ]
  },
  {
   "cell_type": "markdown",
   "id": "1ec6547c",
   "metadata": {},
   "source": [
    "### Para el análisis de deep learning propuesto, utilizamos la misma logica que el proyecto pasado de machin learning ya que nos demostro buenos rendimientos: se establece una metodología que se sustenta en los siguientes puntos:\n",
    "    \n",
    "* Variables Independientes y Lagging:\n",
    "\n",
    "La metodología se apoya en variables independientes, específicamente el precio de cierre (close price) de los activos financieros. Se genera un enfoque de lagging, el cual implica la creación de nuevas columnas que contienen información rezagada en el tiempo. Estas columnas con rezagos ayudan a capturar tendencias y patrones temporales en los datos históricos.\n",
    "La inclusión de rezagos en el conjunto de datos es fundamental para mejorar el poder predictivo del modelo. Al considerar información pasada, el modelo puede identificar correlaciones y patrones que podrían afectar el comportamiento futuro de los precios.\n",
    "Indicadores Técnicos CMF y RSI:\n",
    "\n",
    "* Se integran indicadores técnicos clave en el análisis, como el Money Flow Index (CMF) y el Relative Strength Index (RSI).\n",
    "\n",
    "Estos indicadores son herramientas comúnmente utilizadas en el análisis técnico de los mercados financieros.\n",
    "El CMF es un indicador que evalúa el flujo de dinero dentro o fuera de un activo durante un período determinado, ayudando a identificar posibles cambios en la tendencia de precios.\n",
    "Por otro lado, el RSI es un indicador que mide la fuerza y la velocidad del movimiento de los precios, permitiendo identificar condiciones de sobrecompra o sobreventa en un mercado.\n",
    "La inclusión de estos indicadores en el análisis brinda al modelo una perspectiva más amplia sobre la dinámica del mercado y puede ayudar a identificar oportunidades de trading potenciales.\n",
    "Volatilidad:\n",
    "\n",
    "* La volatilidad es un componente crítico en el análisis de los mercados financieros. \n",
    "\n",
    "Se calcula como la medida de la variabilidad de los precios de un activo durante un período de tiempo específico. \n",
    "La inclusión de la volatilidad en el análisis permite al modelo tener en cuenta la incertidumbre y el riesgo asociado con el comportamiento de los precios.\n",
    "Además, la volatilidad puede proporcionar información valiosa sobre la estabilidad y la dirección futura de los precios, lo que contribuye significativamente al poder predictivo del modelo.\n",
    "\n",
    "* Variable dependiente (de respuesta)\n",
    "\n",
    "Para la variable dependiente, la lógica subyacente se estructura de la siguiente manera: al comparar el precio de cierre actual con el precio de cierre de hace 10 días, se determina la acción a seguir en el mercado. Específicamente, si el precio de cierre actual es mayor que el de hace 10 días, se ejecuta una acción de venta; por el contrario, si es menor, se procede con una acción de compra. Este enfoque se aplica de manera análoga tanto para los conjuntos de datos correspondientes a las transacciones de compra como a las de venta. La definición y aplicación de esta lógica constituyen un aspecto crítico en la construcción de modelos de machine learning destinados a la predicción de movimientos financieros."
   ]
  },
  {
   "cell_type": "code",
   "execution_count": null,
   "id": "82afb4f3",
   "metadata": {
    "is_executing": true
   },
   "outputs": [],
   "source": [
    "global_buy_signals_1d_long = buy_signals_1d_dl(dataresult_long_1d_test)\n",
    "global_sell_signals_1d_short = sell_signals_1d_dl(dataresult_short_1d_test)\n",
    "global_buy_signals_1h_long = buy_signals_1h_dl(dataresult_long_1h_test)\n",
    "global_sell_signals_1h_short = sell_signals_1h_dl(dataresult_short_1h_test)\n",
    "global_buy_signals_1m_long = buy_signals_1m_dl(dataresult_long_1m_test)\n",
    "global_sell_signals_1m_short = sell_signals_1m_dl(dataresult_short_1m_test)\n",
    "global_buy_signals_5m_long = buy_signals_5m_dl(dataresult_long_5m_test)\n",
    "global_sell_signals_5m_short = sell_signals_5m_dl(dataresult_short_5m_test)\n",
    "global_sell_signals_5m_short"
   ]
  },
  {
   "cell_type": "markdown",
   "id": "cf7b1f8f",
   "metadata": {},
   "source": [
    "## Procesamiento y Fine Tuning"
   ]
  },
  {
   "cell_type": "markdown",
   "id": "98e6a681",
   "metadata": {},
   "source": [
    "Tras definir la variable objetivo y establecer la lógica de operación, el proyecto de análisis de deep learning avanza hacia la etapa de preparación de datos y ajuste de modelos. Esta fase comienza con la división de los conjuntos de datos en conjuntos de entrenamiento y prueba, proporcionando así una base sólida para evaluar el desempeño de los modelos de deep learning.\n",
    "\n",
    "Una vez divididos los conjuntos de datos, comienza el proceso de ajuste de hiperparámetros, también conocido como finetuning. En este contexto, el finetuning implica la optimización de los hiperparámetros de los modelos de deep learning para identificar las combinaciones óptimas que maximicen el rendimiento predictivo del modelo.\n",
    "\n",
    "Durante el finetuning, se exploran y ajustan hiperparámetros como la tasa de aprendizaje, la arquitectura de la red neuronal, el número de capas y neuronas, entre otros. Esta exploración exhaustiva permite determinar qué combinaciones de hiperparámetros son más efectivas para cada modelo en particular."
   ]
  },
  {
   "cell_type": "code",
   "execution_count": null,
   "id": "b48c04d3",
   "metadata": {
    "is_executing": true
   },
   "outputs": [],
   "source": [
    "plot_signals(global_buy_signals_1d_long, global_sell_signals_1d_short, dataresult_short_1d_test)\n",
    "plot_signals(global_buy_signals_1h_long, global_sell_signals_1h_short, dataresult_short_1h_test)\n",
    "plot_signals(global_buy_signals_1m_long, global_sell_signals_1m_short, dataresult_short_1m_test)\n",
    "plot_signals(global_buy_signals_5m_long, global_sell_signals_5m_short, dataresult_short_5m_test)"
   ]
  },
  {
   "cell_type": "markdown",
   "id": "aeeccb84",
   "metadata": {},
   "source": [
    "Como podemos ver, desde la definicion de nuestras predicciones de las senales de compra, podemos ver comportamientos extranos...\n",
    "\n",
    "    En el dataset de 1 dia, nuestro modelo optimo nos dice que lo mejor es comprar siempre\n",
    "    En el dataset de 1 hora, nuestro modelo optimo si tiene mas variabilidad a la hora de comprar o vender, pero esta mas sesgado a la compra\n",
    "    En el dataset de 1 minuto, nuestro modelo optimo nos dice que lo mejor es hacer compras minimas, y siempre vender\n",
    "    En el dataset de 5 minutos, nuestro modelo optimo tambien nos dice que lo mejor es comprar siempre"
   ]
  },
  {
   "cell_type": "markdown",
   "id": "86ee1fed",
   "metadata": {},
   "source": [
    "## Optimizacion y backtesting"
   ]
  },
  {
   "cell_type": "markdown",
   "id": "3f0bd78f",
   "metadata": {},
   "source": [
    "Una vez se han determinado los parámetros óptimos para cada modelo mediante el proceso de fine-tuning en deep learning, el proyecto de análisis financiero procede a realizar un proceso de combinaciones con backtesting. En este enfoque, se busca identificar el modelo más efectivo y los parámetros óptimos a través de la evaluación del rendimiento financiero, específicamente mediante el análisis del profit.\n",
    "\n",
    "El backtesting implica simular estrategias de trading utilizando datos históricos para evaluar el rendimiento de cada modelo y sus parámetros optimizados. Durante este proceso, se aplican las estrategias definidas previamente utilizando conjuntos de datos históricos para determinar su efectividad en términos de rentabilidad financiera.\n",
    "\n",
    "El objetivo principal del backtesting es identificar la estrategia de trading que genere el mayor profit o beneficio. Este profit se calcula a partir de las ganancias y pérdidas generadas por las operaciones realizadas según las señales de compra y venta generadas por cada modelo y sus respectivos parámetros.\n",
    "\n",
    "Al finalizar el proceso de optimización y backtesting, el código proporciona como resultado el mejor modelo, junto con los parámetros óptimos identificados durante el backtesting. Estos resultados representan la estrategia de trading más efectiva y rentable, basada en el análisis histórico de datos y la evaluación de su desempeño financiero."
   ]
  },
  {
   "cell_type": "markdown",
   "id": "2c7aa9db",
   "metadata": {},
   "source": [
    "Se presenta la funcion de backtesting que devuelve los parametros, ya con la funcion del backtesting y los parametros optimizados obtenidos por el proceso."
   ]
  },
  {
   "cell_type": "code",
   "execution_count": null,
   "id": "599e785f",
   "metadata": {
    "is_executing": true
   },
   "outputs": [],
   "source": [
    "buy_signals_1d, sell_signals_1d = buy_sell(global_buy_signals_1d_long, global_sell_signals_1d_short)\n",
    "portfolio_value_1d, capital_value_1d, transactions_1d = backtest1(data_1d, buy_signals_1d, sell_signals_1d, 0.8125662320480683, 1.099522023300722, 45)\n",
    "buy_signals_1h, sell_signals_1h = buy_sell(global_buy_signals_1h_long, global_sell_signals_1h_short)\n",
    "portfolio_value_1h, capital_value_1h, transactions_1h = backtest1(data_1h, buy_signals_1h, sell_signals_1h, 0.8045410770677325, 1.0999994091707832, 50)\n",
    "buy_signals_1m, sell_signals_1m = buy_sell(global_buy_signals_1m_long, global_sell_signals_1m_short)\n",
    "portfolio_value_1m, capital_value_1m, transactions_1m = backtest1(data_1m, buy_signals_1m, sell_signals_1m, 0.8246899075687136, 1.0966755803337889, 47)\n",
    "buy_signals_5m, sell_signals_5m = buy_sell(global_buy_signals_5m_long, global_sell_signals_5m_short)\n",
    "portfolio_value_5m, capital_value_5m, transactions_5m = backtest1(data_5m, buy_signals_5m, sell_signals_5m, 0.8412379579141974, 1.0997899401664173, 29)"
   ]
  },
  {
   "cell_type": "markdown",
   "id": "0e5c21b3",
   "metadata": {},
   "source": [
    "### Modelos y parametros optimos"
   ]
  },
  {
   "cell_type": "markdown",
   "id": "003c26ae",
   "metadata": {},
   "source": [
    "Los mejores parametros se muestran anteriormente en la funcion de backtest, mientras que los mejores modelos fueron: \n",
    "\n",
    "    1d: DNN1, DNN2\n",
    "    1h: DNN1\n",
    "    1m: DNN1\n",
    "    5m: DNN1, DNN3"
   ]
  },
  {
   "cell_type": "markdown",
   "id": "ba1205e8",
   "metadata": {},
   "source": [
    "#### Dataset de 1 dia"
   ]
  },
  {
   "cell_type": "markdown",
   "id": "88fed149",
   "metadata": {},
   "source": [
    "Los mejores parametros para nuestro dataset de 1d en long, modelo DNN1 fueron: {'num_layers': 5, 'num_units_layer_0': 99, 'num_units_layer_1': 255, 'num_units_layer_2': 99, 'num_units_layer_3': 238, 'num_units_layer_4': 157, 'activation_layer_0': 'sigmoid', 'activation_layer_1': 'tanh', 'activation_layer_2': 'tanh', 'activation_layer_3': 'tanh', 'activation_layer_4': 'tanh', 'learning_rate': 0.00018386130982200606}\n",
    "\n",
    "Para el modelo DNN2: {'num_layers': 6, 'num_units_layer_0': 120, 'num_units_layer_1': 109, 'num_units_layer_2': 158, 'num_units_layer_3': 104, 'num_units_layer_4': 178, 'num_units_layer_5': 164, 'activation_layer_0': 'selu', 'activation_layer_1': 'relu', 'activation_layer_2': 'selu', 'activation_layer_3': 'relu', 'activation_layer_4': 'selu', 'activation_layer_5': 'relu', 'learning_rate': 0.00011545356469724032}\n",
    "\n",
    "Los mejores parametros para nuestro dataset de 1d en short, modelo DNN1 fueron: {'num_layers': 1, 'num_units_layer_0': 68, 'activation_layer_0': 'sigmoid', 'learning_rate': 0.012725657117983725}\n",
    "\n",
    "Para el modelo DNN2: {'num_layers': 3, 'num_units_layer_0': 191, 'num_units_layer_1': 153, 'num_units_layer_2': 185, 'activation_layer_0': 'sigmoid', 'activation_layer_1': 'selu', 'activation_layer_2': 'selu', 'learning_rate': 0.0023909850276938767}"
   ]
  },
  {
   "cell_type": "markdown",
   "id": "82fc6e24",
   "metadata": {},
   "source": [
    "#### Dataset de 1 hora"
   ]
  },
  {
   "cell_type": "markdown",
   "id": "482c4ce1",
   "metadata": {},
   "source": [
    "Los mejores parametros para nuestro dataset de 1h en long, modelo DNN1 fueron: {'num_layers': 5, 'num_units_layer_0': 195, 'num_units_layer_1': 197, 'num_units_layer_2': 166, 'num_units_layer_3': 36, 'num_units_layer_4': 38, 'activation_layer_0': 'relu', 'activation_layer_1': 'relu', 'activation_layer_2': 'tanh', 'activation_layer_3': 'sigmoid', 'activation_layer_4': 'sigmoid', 'learning_rate': 0.00022097125380689752}\n",
    "\n",
    "Los mejores parametros para nuestro dataset de 1h en short, modelo DNN1 fueron: {'num_layers': 1, 'num_units_layer_0': 252, 'activation_layer_0': 'relu', 'learning_rate': 0.00017388198812466542}"
   ]
  },
  {
   "cell_type": "markdown",
   "id": "e38f8ce3",
   "metadata": {},
   "source": [
    "#### Dataset de 1 minuto"
   ]
  },
  {
   "cell_type": "markdown",
   "id": "48f2da56",
   "metadata": {},
   "source": [
    "Los mejores parametros para nuestro dataset de 1m en long, modelo DNN1 fueron: {'num_layers': 2, 'num_units_layer_0': 64, 'num_units_layer_1': 108, 'activation_layer_0': 'relu', 'activation_layer_1': 'sigmoid', 'learning_rate': 0.00022834017269211617}\n",
    "\n",
    "Los mejores parametros para nuestro dataset de 1m en short, modelo DNN1 fueron: {'num_layers': 1, 'num_units_layer_0': 42, 'activation_layer_0': 'relu', 'learning_rate': 0.0003419209078643625}"
   ]
  },
  {
   "cell_type": "markdown",
   "id": "b94ebf2d",
   "metadata": {},
   "source": [
    "#### Dataset de 5 minutos"
   ]
  },
  {
   "cell_type": "markdown",
   "id": "17a11ec7",
   "metadata": {},
   "source": [
    "Los mejores parametros para nuestro dataset de 5m en long, modelo DNN1 fueron: {'num_layers': 1, 'num_units_layer_0': 48, 'activation_layer_0': 'sigmoid', 'learning_rate': 0.00011910937340114574}\n",
    "\n",
    "Para el modelo DNN3: {'num_layers': 2, 'num_units_layer_0': 173, 'num_units_layer_1': 463, 'activation_layer_0': 'elu', 'activation_layer_1': 'elu', 'learning_rate': 1.4196702540553977e-05}\n",
    "\n",
    "Los mejores parametros para nuestro dataset de 5m en short, modelo DNN1 fueron: {'num_layers': 2, 'num_units_layer_0': 178, 'num_units_layer_1': 115, 'activation_layer_0': 'relu', 'activation_layer_1': 'relu', 'learning_rate': 0.0011702775156435393}\n",
    "\n",
    "Para el modelo DNN3: {'num_layers': 5, 'num_units_layer_0': 89, 'num_units_layer_1': 195, 'num_units_layer_2': 127, 'num_units_layer_3': 199, 'num_units_layer_4': 130, 'activation_layer_0': 'selu', 'activation_layer_1': 'elu', 'activation_layer_2': 'relu', 'activation_layer_3': 'selu', 'activation_layer_4': 'relu', 'learning_rate': 0.00036584504741541676}"
   ]
  },
  {
   "cell_type": "markdown",
   "id": "8b1cb87c",
   "metadata": {},
   "source": [
    "### Evolucion del portafolio atraves del tiempo"
   ]
  },
  {
   "cell_type": "code",
   "execution_count": null,
   "id": "57f5a383",
   "metadata": {
    "is_executing": true
   },
   "outputs": [],
   "source": [
    "port_value_plot(portfolio_value_1d)\n",
    "port_value_plot(portfolio_value_1h)\n",
    "port_value_plot(portfolio_value_1m)\n",
    "port_value_plot(portfolio_value_5m)"
   ]
  },
  {
   "cell_type": "markdown",
   "id": "2a6c0d58",
   "metadata": {},
   "source": [
    "Como podemos observar, nuestros modelos en general, a pesar de no tener tan buen accuracy como vamos a profundizar mas adelente, nos dan en 3 de los 4 archivos, rendimientos positivos en general, esto en los data sets de: 1d, 5m y 1m. Mientras que en el dataset de 1h, es el unico que nos dio perdidas."
   ]
  },
  {
   "cell_type": "markdown",
   "id": "130b7bdb",
   "metadata": {},
   "source": [
    "### Operaciones realizadas"
   ]
  },
  {
   "cell_type": "code",
   "execution_count": null,
   "id": "02396f40",
   "metadata": {
    "is_executing": true
   },
   "outputs": [],
   "source": [
    "plot_transacciones(transactions_1d)\n",
    "plot_transacciones(transactions_1h)\n",
    "plot_transacciones(transactions_1m)\n",
    "plot_transacciones(transactions_5m)"
   ]
  },
  {
   "cell_type": "markdown",
   "id": "3e130b35",
   "metadata": {},
   "source": [
    "A la hora de graficar las transacciones, podemos confirmar que, como vimos en las graficas anterior, nuestro primer modelo decidio solamente comprar todo de una vez, es por eso que solo aparece un punto graficado. Esto se repite en la ultima grafica con el ultimo modelo.\n",
    "\n",
    "En la siguiente grafica podemos observar que este modelo fue el que mas compra/ventas hizo. Con casi 350. (Algo no muy significante). A diferencia de las siguiente grafica que si compro y vendio, pero todavia menos. "
   ]
  },
  {
   "cell_type": "markdown",
   "id": "cc420ace",
   "metadata": {},
   "source": [
    "## Resultados obtenidos"
   ]
  },
  {
   "cell_type": "markdown",
   "id": "d9c6fea5",
   "metadata": {},
   "source": [
    "A continuacion se presenta la evolucion del dinero y del portafolio atraves de nuestra estrategia de trading, y como se esta se compara con una estrategia pasiva."
   ]
  },
  {
   "cell_type": "markdown",
   "id": "4734af6e",
   "metadata": {},
   "source": [
    "#### Dinero atraves del tiempo de 1 dia"
   ]
  },
  {
   "cell_type": "code",
   "execution_count": null,
   "id": "f751dd5f",
   "metadata": {
    "is_executing": true
   },
   "outputs": [],
   "source": [
    "plot_cash(capital_value_1d)"
   ]
  },
  {
   "cell_type": "markdown",
   "id": "d08bbaef",
   "metadata": {},
   "source": [
    "Como podemos observar en la estrategia optima que tomo el modelo, decidio que era mejor comprar al principio, y despues no hacer nada, por lo que tenemos nuestro dinero constante, sin fluctuaciones."
   ]
  },
  {
   "cell_type": "markdown",
   "id": "eec58dae",
   "metadata": {},
   "source": [
    "#### Dinero atraves del tiempo de 1 hora"
   ]
  },
  {
   "cell_type": "code",
   "execution_count": null,
   "id": "3dd80fa5",
   "metadata": {
    "is_executing": true
   },
   "outputs": [],
   "source": [
    "plot_cash(capital_value_1h)"
   ]
  },
  {
   "cell_type": "markdown",
   "id": "0eebf2ad",
   "metadata": {},
   "source": [
    "A diferencia de la grafica de 1 dia, aqui podemos observar como el dinero que tenemos va fluctuando conforme el paso del tiempo, teniendo ganancias y perdidas conforme vamos comprando o vendiendo. "
   ]
  },
  {
   "cell_type": "markdown",
   "id": "5948e88b",
   "metadata": {},
   "source": [
    "#### Dinero atraves del tiempo de 1 minuto"
   ]
  },
  {
   "cell_type": "code",
   "execution_count": null,
   "id": "d9f7c430",
   "metadata": {
    "is_executing": true
   },
   "outputs": [],
   "source": [
    "plot_cash(capital_value_1m)"
   ]
  },
  {
   "cell_type": "markdown",
   "id": "b417178c",
   "metadata": {},
   "source": [
    "En esta grafica, especificamente podemos ver mas claramente la estrategia, siendo que en su mayoria nos mantenemos neutrales ante alguna compra o venta. Y solamente bajo ciertas situaciones el modelo decide comprar o vender."
   ]
  },
  {
   "cell_type": "markdown",
   "id": "96cd001e",
   "metadata": {},
   "source": [
    "#### Dinero atraves del tiempo de 5 minutos"
   ]
  },
  {
   "cell_type": "code",
   "execution_count": null,
   "id": "66ae8782",
   "metadata": {
    "is_executing": true
   },
   "outputs": [],
   "source": [
    "plot_cash(capital_value_5m)"
   ]
  },
  {
   "cell_type": "markdown",
   "id": "deb1fc3a",
   "metadata": {},
   "source": [
    "En la grafica podemos ver exactamente el mismo caso que con el archivo de 1 dia, el modelo decide que lo optimo es comprar una vez, y no hacer mas."
   ]
  },
  {
   "cell_type": "markdown",
   "id": "21967168",
   "metadata": {},
   "source": [
    "## Comparando resultados"
   ]
  },
  {
   "cell_type": "code",
   "execution_count": null,
   "id": "f9dd5438",
   "metadata": {
    "is_executing": true
   },
   "outputs": [],
   "source": [
    "cash_portvalue_plot(capital_value_1d, portfolio_value_1d)\n",
    "cash_portvalue_plot(capital_value_1h, portfolio_value_1h)\n",
    "cash_portvalue_plot(capital_value_1m, portfolio_value_1m)\n",
    "cash_portvalue_plot(capital_value_5m, portfolio_value_5m)"
   ]
  },
  {
   "cell_type": "markdown",
   "id": "e90eaf61",
   "metadata": {},
   "source": [
    "Como podemos ver, al menos a nivel de comparar el dinero que teniamos con nuestro portafolio, si tenemos un mayor rendimiento, esto es algo logico ya que al principio a fuerza tenemos que comprar para tener rendimientos."
   ]
  },
  {
   "cell_type": "code",
   "execution_count": null,
   "id": "14bbe256",
   "metadata": {
    "is_executing": true
   },
   "outputs": [],
   "source": [
    "pasive_portvalue_plot(portfolio_value_1d)\n",
    "pasive_portvalue_plot(portfolio_value_1h)\n",
    "pasive_portvalue_plot(portfolio_value_1m)\n",
    "pasive_portvalue_plot(portfolio_value_5m)"
   ]
  },
  {
   "cell_type": "markdown",
   "id": "ccc2d0d7",
   "metadata": {},
   "source": [
    "Al comparar nuestros modelos con una estrategia pasiva podemos notar varias cosas, como que, apesar de que nuestros modelos no tuvieron mucho exito en predecir de la manera mas eficiente cuando comprar o cuando vender, podemos observar que en el dataset de 1 dia, 1 minuto y 5 minutos. Efectivamente tenemos ganancias comparadas con una estrategia pasiva, es decir simplemente quedarte con el 1,000,000 y no hacer nada mas."
   ]
  },
  {
   "cell_type": "markdown",
   "id": "1e78f464",
   "metadata": {},
   "source": [
    "## Conclusiones"
   ]
  },
  {
   "cell_type": "markdown",
   "id": "01e41163",
   "metadata": {},
   "source": [
    "Al comparar nuestros modelos con una estrategia pasiva de simplemente mantener el capital inicial, podemos extraer varias conclusiones:\n",
    "\n",
    "    Ganancias versus estrategia pasiva: A pesar de que nuestros modelos no lograron predecir de manera óptima los momentos de compra y venta, observamos que en los intervalos de tiempo más cortos del dataset (1 día, 1 minuto y 5 minutos), logramos obtener ganancias comparadas con la estrategia pasiva. Esto sugiere que, aunque imperfectos, nuestros modelos lograron generar un rendimiento superior al no hacer nada.\n",
    "\n",
    "    Mayor rendimiento inicialmente: Es lógico que al principio, al iniciar con un portafolio de $1,000,000, tengamos que realizar compras para generar rendimientos. Esto explica el rendimiento superior inicial de nuestros modelos en comparación con la estrategia pasiva.\n",
    "\n",
    "    Patrones de transacciones: Al graficar las transacciones realizadas por nuestros modelos, observamos que el primer modelo optó por comprar todo de una vez, mientras que el último modelo mostró un mayor número de compras y ventas, aunque estas fueron menos significativas en cantidad.\n",
    "\n",
    "    Conclusiones generales: A pesar de las limitaciones y errores en la predicción de los momentos óptimos de compra y venta, nuestros modelos lograron generar ganancias en comparación con una estrategia pasiva. Esto indica que, aunque hay margen para mejorar la eficiencia en la toma de decisiones, nuestros modelos demostraron cierto grado de capacidad para generar rendimientos en el mercado financiero. Sin embargo, es importante seguir refinando y mejorando estos modelos para maximizar su eficacia y minimizar posibles pérdidas."
   ]
  }
 ],
 "metadata": {
  "kernelspec": {
   "display_name": "Python 3 (ipykernel)",
   "language": "python",
   "name": "python3"
  },
  "language_info": {
   "codemirror_mode": {
    "name": "ipython",
    "version": 3
   },
   "file_extension": ".py",
   "mimetype": "text/x-python",
   "name": "python",
   "nbconvert_exporter": "python",
   "pygments_lexer": "ipython3",
   "version": "3.11.4"
  }
 },
 "nbformat": 4,
 "nbformat_minor": 5
}
