{
 "cells": [
  {
   "cell_type": "code",
   "execution_count": 5,
   "id": "45c74508",
   "metadata": {
    "ExecuteTime": {
     "end_time": "2024-02-26T05:26:45.452769Z",
     "start_time": "2024-02-26T05:26:45.431404Z"
    }
   },
   "outputs": [],
   "source": [
    "import pandas as pd\n",
    "import numpy as np\n",
    "import matplotlib.pyplot as plt\n",
    "import ta"
   ]
  },
  {
   "cell_type": "code",
   "execution_count": 6,
   "id": "efb24854",
   "metadata": {
    "ExecuteTime": {
     "end_time": "2024-02-26T05:26:46.517624Z",
     "start_time": "2024-02-26T05:26:46.464260Z"
    }
   },
   "outputs": [],
   "source": [
    "data = pd.read_csv(\"../../../data/aapl_5m_train.csv\")\n",
    "tsi_data = ta.momentum.TSIIndicator(data.Close, window_slow = 25, window_fast = 13)\n",
    "data[\"TSI\"] = tsi_data.tsi()\n",
    "data = data.dropna()"
   ]
  },
  {
   "cell_type": "code",
   "execution_count": 7,
   "id": "05591dab",
   "metadata": {
    "ExecuteTime": {
     "end_time": "2024-02-26T05:26:47.342321Z",
     "start_time": "2024-02-26T05:26:47.333507Z"
    }
   },
   "outputs": [],
   "source": [
    "def def_trading_strategy(data, n_shares, stop_loss_close, take_profit_close, Umbral):\n",
    "    cash= 1_000_000\n",
    "    com = 0.125/100\n",
    "    history = []\n",
    "    portfolio_value = []\n",
    "    active_operations = []\n",
    "    total_profit_loss = 0\n",
    "\n",
    "    for i, row in data.iterrows():\n",
    "        # Close active operation\n",
    "        active_op_temp = []\n",
    "        for operation in active_operations:\n",
    "            if operation[\"stop_loss\"] > row.Close:\n",
    "                cash += (row.Close * operation[\"n_shares\"]) * (1 - com)\n",
    "                # Calcular la ganancia o pérdida y actualizar el total\n",
    "                profit_loss = (row.Close * operation[\"n_shares\"]) * (1 - com) - (operation[\"bought\"] * operation[\"n_shares\"])\n",
    "                total_profit_loss += profit_loss\n",
    "                history.append({\"timestamp\": row.Timestamp, \"profit_loss\": profit_loss})\n",
    "            elif operation[\"take_profit\"] < row.Close:\n",
    "                cash += (row.Close * operation[\"n_shares\"]) * (1 - com)\n",
    "                # Calcular la ganancia o pérdida y actualizar el total\n",
    "                profit_loss = (row.Close * operation[\"n_shares\"]) * (1 - com) - (operation[\"bought\"] * operation[\"n_shares\"])\n",
    "                total_profit_loss += profit_loss\n",
    "                history.append({\"timestamp\": row.Timestamp, \"profit_loss\": profit_loss})\n",
    "            else:\n",
    "                active_op_temp.append(operation)\n",
    "        active_operations = active_op_temp\n",
    "            \n",
    "        # ¿Tenemos suficiente efectivo?\n",
    "        if cash < (row.Close * n_shares * (1 + com)):\n",
    "            asset_vals = sum([operation[\"n_shares\"] * row.Close for operation in active_operations])\n",
    "            portfolio_value.append(cash + asset_vals)\n",
    "            continue\n",
    "        \n",
    "        # Analizar la señal larga\n",
    "        if row.TSI <= Umbral:  # If ceil(Op)\n",
    "            active_operations.append({\n",
    "                \"timestamp\": row.Timestamp,\n",
    "                \"bought\": row.Close,\n",
    "                \"n_shares\": n_shares,\n",
    "                \"type\": \"long\",\n",
    "                \"stop_loss\": row.Close * stop_loss_close,\n",
    "                \"take_profit\": row.Close * take_profit_close\n",
    "            })\n",
    "            cash -= row.Close * n_shares * (1 + com)\n",
    "        \n",
    "        asset_vals = sum([operation[\"n_shares\"] * row.Close for operation in active_operations])\n",
    "        portfolio_value.append(cash + asset_vals)\n",
    "    \n",
    "    return total_profit_loss\n"
   ]
  },
  {
   "cell_type": "code",
   "execution_count": 8,
   "id": "1b913ae5",
   "metadata": {
    "ExecuteTime": {
     "end_time": "2024-02-26T06:01:07.979964Z",
     "start_time": "2024-02-26T05:26:50.492555Z"
    }
   },
   "outputs": [
    {
     "name": "stderr",
     "output_type": "stream",
     "text": [
      "[I 2024-02-25 23:26:50,489] A new study created in memory with name: no-name-1d4e3859-277f-4696-a03d-43b6c63c489e\n",
      "/var/folders/x7/frl5my251vx198wg4w_ndzxh0000gn/T/ipykernel_18862/1458817067.py:6: FutureWarning: suggest_uniform has been deprecated in v3.0.0. This feature will be removed in v6.0.0. See https://github.com/optuna/optuna/releases/tag/v3.0.0. Use suggest_float instead.\n",
      "  stop_loss_close = trial.suggest_uniform('stop_loss_close', 0.80, 1)\n",
      "/var/folders/x7/frl5my251vx198wg4w_ndzxh0000gn/T/ipykernel_18862/1458817067.py:7: FutureWarning: suggest_uniform has been deprecated in v3.0.0. This feature will be removed in v6.0.0. See https://github.com/optuna/optuna/releases/tag/v3.0.0. Use suggest_float instead.\n",
      "  take_profit_close = trial.suggest_uniform('take_profit_close', 1, 1.5)\n",
      "/var/folders/x7/frl5my251vx198wg4w_ndzxh0000gn/T/ipykernel_18862/1458817067.py:8: FutureWarning: suggest_uniform has been deprecated in v3.0.0. This feature will be removed in v6.0.0. See https://github.com/optuna/optuna/releases/tag/v3.0.0. Use suggest_float instead.\n",
      "  Umbral = trial.suggest_uniform('Umbral', -40, 10)\n",
      "[I 2024-02-25 23:27:48,383] Trial 0 finished with value: 1271.082186526527 and parameters: {'n_shares': 49, 'stop_loss_close': 0.8072363887374018, 'take_profit_close': 1.240333450743215, 'Umbral': -16.866211121773393}. Best is trial 0 with value: 1271.082186526527.\n",
      "[I 2024-02-25 23:29:09,534] Trial 1 finished with value: -128457.66403135471 and parameters: {'n_shares': 34, 'stop_loss_close': 0.9788829501200489, 'take_profit_close': 1.4965594224523686, 'Umbral': 6.2541540571854455}. Best is trial 0 with value: 1271.082186526527.\n",
      "[I 2024-02-25 23:32:13,456] Trial 2 finished with value: 55852.500434812275 and parameters: {'n_shares': 15, 'stop_loss_close': 0.8789089981964908, 'take_profit_close': 1.2123344654240913, 'Umbral': -22.65845643999996}. Best is trial 2 with value: 55852.500434812275.\n",
      "[I 2024-02-25 23:35:46,847] Trial 3 finished with value: 61880.18281315024 and parameters: {'n_shares': 13, 'stop_loss_close': 0.8396702864266435, 'take_profit_close': 1.3181265783665093, 'Umbral': -1.7844111817535122}. Best is trial 3 with value: 61880.18281315024.\n",
      "[I 2024-02-25 23:40:14,682] Trial 4 finished with value: -41692.28284655872 and parameters: {'n_shares': 7, 'stop_loss_close': 0.8169464080604165, 'take_profit_close': 1.4912641905663175, 'Umbral': -34.05224172760626}. Best is trial 3 with value: 61880.18281315024.\n",
      "[I 2024-02-25 23:43:25,602] Trial 5 finished with value: 13347.940877768166 and parameters: {'n_shares': 6, 'stop_loss_close': 0.9765499171308959, 'take_profit_close': 1.310423019168021, 'Umbral': -11.236160867772526}. Best is trial 3 with value: 61880.18281315024.\n",
      "[I 2024-02-25 23:44:35,417] Trial 6 finished with value: -184775.55181679217 and parameters: {'n_shares': 27, 'stop_loss_close': 0.979679408335439, 'take_profit_close': 1.2677304761502883, 'Umbral': 8.04748960780369}. Best is trial 3 with value: 61880.18281315024.\n",
      "[I 2024-02-25 23:45:39,887] Trial 7 finished with value: 105894.89963044778 and parameters: {'n_shares': 34, 'stop_loss_close': 0.8187911014519378, 'take_profit_close': 1.183472275860642, 'Umbral': -33.81400243736055}. Best is trial 7 with value: 105894.89963044778.\n",
      "[I 2024-02-25 23:46:31,527] Trial 8 finished with value: -155541.98764807533 and parameters: {'n_shares': 42, 'stop_loss_close': 0.9648215231714341, 'take_profit_close': 1.228973664774439, 'Umbral': -7.485052594781777}. Best is trial 7 with value: 105894.89963044778.\n",
      "[I 2024-02-25 23:47:47,080] Trial 9 finished with value: -22907.030964599675 and parameters: {'n_shares': 30, 'stop_loss_close': 0.9067180387801462, 'take_profit_close': 1.4410964292520487, 'Umbral': 4.79038634411863}. Best is trial 7 with value: 105894.89963044778.\n",
      "[I 2024-02-25 23:48:11,100] Trial 10 finished with value: -38367.166656535825 and parameters: {'n_shares': 39, 'stop_loss_close': 0.8698637753611486, 'take_profit_close': 1.0360469046939424, 'Umbral': -33.56464590999703}. Best is trial 7 with value: 105894.89963044778.\n",
      "[I 2024-02-25 23:50:17,099] Trial 11 finished with value: 106017.16749180744 and parameters: {'n_shares': 18, 'stop_loss_close': 0.843082995294087, 'take_profit_close': 1.1269700517772696, 'Umbral': -3.6339182643093224}. Best is trial 11 with value: 106017.16749180744.\n",
      "[I 2024-02-25 23:51:50,563] Trial 12 finished with value: 101530.76759875013 and parameters: {'n_shares': 20, 'stop_loss_close': 0.8486102446865091, 'take_profit_close': 1.116232041298889, 'Umbral': -24.260762800436552}. Best is trial 11 with value: 106017.16749180744.\n",
      "[I 2024-02-25 23:53:35,104] Trial 13 finished with value: -18828.772859600183 and parameters: {'n_shares': 22, 'stop_loss_close': 0.9098914052972848, 'take_profit_close': 1.1300580839663577, 'Umbral': -2.5288462874176556}. Best is trial 11 with value: 106017.16749180744.\n",
      "[I 2024-02-25 23:54:36,143] Trial 14 finished with value: 60534.5296401981 and parameters: {'n_shares': 34, 'stop_loss_close': 0.8321693997442138, 'take_profit_close': 1.1351936902137152, 'Umbral': -27.380828382152686}. Best is trial 11 with value: 106017.16749180744.\n",
      "[I 2024-02-25 23:54:51,226] Trial 15 finished with value: -5587.547794169808 and parameters: {'n_shares': 17, 'stop_loss_close': 0.8017392220148094, 'take_profit_close': 1.0280968333425127, 'Umbral': -39.8917180238208}. Best is trial 11 with value: 106017.16749180744.\n",
      "[I 2024-02-25 23:57:34,767] Trial 16 finished with value: 5389.201006511287 and parameters: {'n_shares': 1, 'stop_loss_close': 0.9290318802226516, 'take_profit_close': 1.1737083443944107, 'Umbral': -17.733987843236157}. Best is trial 11 with value: 106017.16749180744.\n",
      "[I 2024-02-25 23:59:24,991] Trial 17 finished with value: 97070.19039086894 and parameters: {'n_shares': 24, 'stop_loss_close': 0.859775674013671, 'take_profit_close': 1.0830816827915493, 'Umbral': -3.093546376751174}. Best is trial 11 with value: 106017.16749180744.\n",
      "[I 2024-02-26 00:00:18,273] Trial 18 finished with value: 116696.22254693783 and parameters: {'n_shares': 50, 'stop_loss_close': 0.8275878061158916, 'take_profit_close': 1.366840977723021, 'Umbral': -10.884594495690017}. Best is trial 18 with value: 116696.22254693783.\n",
      "[I 2024-02-26 00:01:07,954] Trial 19 finished with value: 73658.35167643796 and parameters: {'n_shares': 50, 'stop_loss_close': 0.8827562266587518, 'take_profit_close': 1.4016578950603014, 'Umbral': -11.393062679648061}. Best is trial 18 with value: 116696.22254693783.\n"
     ]
    },
    {
     "name": "stdout",
     "output_type": "stream",
     "text": [
      "Mejores parámetros encontrados:\n",
      "{'n_shares': 50, 'stop_loss_close': 0.8275878061158916, 'take_profit_close': 1.366840977723021, 'Umbral': -10.884594495690017}\n",
      "Rendimiento (Profit/Loss): 116696.22254693783\n"
     ]
    }
   ],
   "source": [
    "import optuna\n",
    "\n",
    "def objective(trial):\n",
    "    # Define los rangos de búsqueda para los parámetros\n",
    "    n_shares = trial.suggest_int('n_shares', 1, 50)\n",
    "    stop_loss_close = trial.suggest_uniform('stop_loss_close', 0.80, 1)\n",
    "    take_profit_close = trial.suggest_uniform('take_profit_close', 1, 1.5)\n",
    "    Umbral = trial.suggest_uniform('Umbral', -40, 10)\n",
    "\n",
    "    # Evalúa la función de trading con los parámetros sugeridos\n",
    "    profit_loss = def_trading_strategy(data, n_shares, stop_loss_close, take_profit_close, Umbral)\n",
    "    \n",
    "    return profit_loss  # Devuelve la métrica que se debe minimizar/maximizar\n",
    "\n",
    "# Crea un estudio Optuna\n",
    "study = optuna.create_study(direction='maximize')  # 'maximize' si se quiere maximizar la métrica\n",
    "\n",
    "# Ejecuta la optimización\n",
    "study.optimize(objective, n_trials=20)  # Puedes ajustar n_trials según tus recursos y tiempo disponible\n",
    "\n",
    "# Obtiene los mejores parámetros encontrados\n",
    "best_params = study.best_params\n",
    "best_profit_loss = study.best_value\n",
    "\n",
    "print(\"Mejores parámetros encontrados:\")\n",
    "print(best_params)\n",
    "print(\"Rendimiento (Profit/Loss):\", best_profit_loss)\n"
   ]
  },
  {
   "cell_type": "code",
   "execution_count": null,
   "id": "dbe172ec",
   "metadata": {
    "ExecuteTime": {
     "end_time": "2024-02-26T05:23:07.775022Z",
     "start_time": "2024-02-26T05:23:07.774761Z"
    }
   },
   "outputs": [],
   "source": [
    "# Condiciones para comprar y vender\n",
    "condicion_compra = data[\"TSI\"] <= -32\n",
    "condicion_venta = data[\"TSI\"] > 30\n",
    "\n",
    "# Aplicando las condiciones para obtener señales de compra y venta\n",
    "data['Senal_TSI'] = ''\n",
    "data.loc[condicion_compra, 'Senal_TSI'] = 'Compra'\n",
    "data.loc[condicion_venta, 'Senal_TSI'] = 'Venta'\n",
    "data.to_excel('../../../data/1m/TSI_BOS.xlsx', index=False)"
   ]
  },
  {
   "cell_type": "code",
   "execution_count": null,
   "id": "2c21c10f",
   "metadata": {
    "ExecuteTime": {
     "start_time": "2024-02-26T05:23:07.776317Z"
    }
   },
   "outputs": [],
   "source": []
  }
 ],
 "metadata": {
  "kernelspec": {
   "display_name": "Python 3 (ipykernel)",
   "language": "python",
   "name": "python3"
  },
  "language_info": {
   "codemirror_mode": {
    "name": "ipython",
    "version": 3
   },
   "file_extension": ".py",
   "mimetype": "text/x-python",
   "name": "python",
   "nbconvert_exporter": "python",
   "pygments_lexer": "ipython3",
   "version": "3.11.4"
  }
 },
 "nbformat": 4,
 "nbformat_minor": 5
}
