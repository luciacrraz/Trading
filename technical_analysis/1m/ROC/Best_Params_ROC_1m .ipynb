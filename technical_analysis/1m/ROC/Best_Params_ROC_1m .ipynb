{
 "cells": [
  {
   "cell_type": "code",
   "execution_count": 7,
   "id": "45c74508",
   "metadata": {
    "ExecuteTime": {
     "end_time": "2024-02-26T04:44:25.492837500Z",
     "start_time": "2024-02-26T04:44:25.484841700Z"
    }
   },
   "outputs": [],
   "source": [
    "import pandas as pd\n",
    "import numpy as np\n",
    "import matplotlib.pyplot as plt\n",
    "import ta"
   ]
  },
  {
   "cell_type": "code",
   "execution_count": 8,
   "id": "efb24854",
   "metadata": {
    "ExecuteTime": {
     "end_time": "2024-02-26T04:44:25.577555800Z",
     "start_time": "2024-02-26T04:44:25.502831300Z"
    }
   },
   "outputs": [],
   "source": [
    "data = pd.read_csv(\"../../../data/aapl_1m_train.csv\")\n",
    "roc_data = ta.momentum.ROCIndicator(data.Close, window=14)\n",
    "data[\"ROC\"] = roc_data.roc()\n",
    "data = data.dropna()"
   ]
  },
  {
   "cell_type": "code",
   "execution_count": 9,
   "id": "05591dab",
   "metadata": {
    "ExecuteTime": {
     "end_time": "2024-02-26T04:44:25.583551900Z",
     "start_time": "2024-02-26T04:44:25.553170100Z"
    }
   },
   "outputs": [],
   "source": [
    "def def_trading_strategy(data, n_shares, stop_loss_close, take_profit_close, Umbral):\n",
    "    cash= 1_000_000\n",
    "    com = 0.125/100\n",
    "    history = []\n",
    "    portfolio_value = []\n",
    "    active_operations = []\n",
    "    total_profit_loss = 0\n",
    "\n",
    "    for i, row in data.iterrows():\n",
    "        # Close active operation\n",
    "        active_op_temp = []\n",
    "        for operation in active_operations:\n",
    "            if operation[\"stop_loss\"] > row.Close:\n",
    "                cash += (row.Close * operation[\"n_shares\"]) * (1 - com)\n",
    "                # Calcular la ganancia o pérdida y actualizar el total\n",
    "                profit_loss = (row.Close * operation[\"n_shares\"]) * (1 - com) - (operation[\"bought\"] * operation[\"n_shares\"])\n",
    "                total_profit_loss += profit_loss\n",
    "                history.append({\"timestamp\": row.Timestamp, \"profit_loss\": profit_loss})\n",
    "            elif operation[\"take_profit\"] < row.Close:\n",
    "                cash += (row.Close * operation[\"n_shares\"]) * (1 - com)\n",
    "                # Calcular la ganancia o pérdida y actualizar el total\n",
    "                profit_loss = (row.Close * operation[\"n_shares\"]) * (1 - com) - (operation[\"bought\"] * operation[\"n_shares\"])\n",
    "                total_profit_loss += profit_loss\n",
    "                history.append({\"timestamp\": row.Timestamp, \"profit_loss\": profit_loss})\n",
    "            else:\n",
    "                active_op_temp.append(operation)\n",
    "        active_operations = active_op_temp\n",
    "            \n",
    "        # ¿Tenemos suficiente efectivo?\n",
    "        if cash < (row.Close * n_shares * (1 + com)):\n",
    "            asset_vals = sum([operation[\"n_shares\"] * row.Close for operation in active_operations])\n",
    "            portfolio_value.append(cash + asset_vals)\n",
    "            continue\n",
    "        \n",
    "        # Analizar la señal larga\n",
    "        if row.ROC <= Umbral:  # If ceil(Op)\n",
    "            active_operations.append({\n",
    "                \"timestamp\": row.Timestamp,\n",
    "                \"bought\": row.Close,\n",
    "                \"n_shares\": n_shares,\n",
    "                \"type\": \"long\",\n",
    "                \"stop_loss\": row.Close * stop_loss_close,\n",
    "                \"take_profit\": row.Close * take_profit_close\n",
    "            })\n",
    "            cash -= row.Close * n_shares * (1 + com)\n",
    "        \n",
    "        asset_vals = sum([operation[\"n_shares\"] * row.Close for operation in active_operations])\n",
    "        portfolio_value.append(cash + asset_vals)\n",
    "    \n",
    "    return total_profit_loss"
   ]
  },
  {
   "cell_type": "code",
   "execution_count": 10,
   "id": "1b913ae5",
   "metadata": {
    "ExecuteTime": {
     "end_time": "2024-02-26T04:44:46.781723100Z",
     "start_time": "2024-02-26T04:44:25.583551900Z"
    }
   },
   "outputs": [
    {
     "name": "stderr",
     "output_type": "stream",
     "text": [
      "[I 2024-02-25 22:44:25,618] A new study created in memory with name: no-name-c4d12863-688c-4c84-8865-601af1d84209\n",
      "C:\\Users\\DELL\\AppData\\Local\\Temp\\ipykernel_9912\\1268521632.py:6: FutureWarning: suggest_uniform has been deprecated in v3.0.0. This feature will be removed in v6.0.0. See https://github.com/optuna/optuna/releases/tag/v3.0.0. Use suggest_float instead.\n",
      "  stop_loss_close = trial.suggest_uniform('stop_loss_close', 0.80, 1)\n",
      "C:\\Users\\DELL\\AppData\\Local\\Temp\\ipykernel_9912\\1268521632.py:7: FutureWarning: suggest_uniform has been deprecated in v3.0.0. This feature will be removed in v6.0.0. See https://github.com/optuna/optuna/releases/tag/v3.0.0. Use suggest_float instead.\n",
      "  take_profit_close = trial.suggest_uniform('take_profit_close', 1, 1.5)\n",
      "C:\\Users\\DELL\\AppData\\Local\\Temp\\ipykernel_9912\\1268521632.py:8: FutureWarning: suggest_uniform has been deprecated in v3.0.0. This feature will be removed in v6.0.0. See https://github.com/optuna/optuna/releases/tag/v3.0.0. Use suggest_float instead.\n",
      "  Umbral = trial.suggest_uniform('Umbral', -10, 10)\n",
      "[I 2024-02-25 22:44:26,750] Trial 0 finished with value: -23942.297541702508 and parameters: {'n_shares': 38, 'stop_loss_close': 0.9778811966538355, 'take_profit_close': 1.2842661560285182, 'Umbral': 4.338153938399099}. Best is trial 0 with value: -23942.297541702508.\n",
      "[I 2024-02-25 22:44:28,638] Trial 1 finished with value: 25482.772541500017 and parameters: {'n_shares': 10, 'stop_loss_close': 0.899504520462718, 'take_profit_close': 1.1493556630198967, 'Umbral': 7.088715709941212}. Best is trial 1 with value: 25482.772541500017.\n",
      "[I 2024-02-25 22:44:30,746] Trial 2 finished with value: 0.0 and parameters: {'n_shares': 34, 'stop_loss_close': 0.8231488283785081, 'take_profit_close': 1.3403874260286013, 'Umbral': 1.5156046683476543}. Best is trial 1 with value: 25482.772541500017.\n",
      "[I 2024-02-25 22:44:32,333] Trial 3 finished with value: 0.0 and parameters: {'n_shares': 17, 'stop_loss_close': 0.8420120301216052, 'take_profit_close': 1.4265588114850312, 'Umbral': 0.2087093702779761}. Best is trial 1 with value: 25482.772541500017.\n",
      "[I 2024-02-25 22:44:32,380] Trial 4 finished with value: 0.0 and parameters: {'n_shares': 23, 'stop_loss_close': 0.9207718019399695, 'take_profit_close': 1.2500159716502388, 'Umbral': -9.725587898808639}. Best is trial 1 with value: 25482.772541500017.\n",
      "[I 2024-02-25 22:44:32,454] Trial 5 finished with value: 0.0 and parameters: {'n_shares': 6, 'stop_loss_close': 0.8213268758137459, 'take_profit_close': 1.4111308675653764, 'Umbral': -8.916125426431694}. Best is trial 1 with value: 25482.772541500017.\n",
      "[I 2024-02-25 22:44:32,602] Trial 6 finished with value: 0.0 and parameters: {'n_shares': 37, 'stop_loss_close': 0.8782963194041203, 'take_profit_close': 1.309950057145619, 'Umbral': -6.9297808977367925}. Best is trial 1 with value: 25482.772541500017.\n",
      "[I 2024-02-25 22:44:32,756] Trial 7 finished with value: 0.0 and parameters: {'n_shares': 38, 'stop_loss_close': 0.9522935232180281, 'take_profit_close': 1.3937219646775822, 'Umbral': -6.878105259847816}. Best is trial 1 with value: 25482.772541500017.\n",
      "[I 2024-02-25 22:44:32,862] Trial 8 finished with value: 0.0 and parameters: {'n_shares': 44, 'stop_loss_close': 0.9842437030439872, 'take_profit_close': 1.454910217640236, 'Umbral': -6.3293944281994685}. Best is trial 1 with value: 25482.772541500017.\n",
      "[I 2024-02-25 22:44:34,482] Trial 9 finished with value: 30666.115281880026 and parameters: {'n_shares': 13, 'stop_loss_close': 0.8535860475468611, 'take_profit_close': 1.0933020296752507, 'Umbral': 0.9993216202609823}. Best is trial 9 with value: 30666.115281880026.\n",
      "[I 2024-02-25 22:44:34,766] Trial 10 finished with value: 3711.2871286799977 and parameters: {'n_shares': 16, 'stop_loss_close': 0.8604957769855657, 'take_profit_close': 1.0351759982054616, 'Umbral': -2.472172013096287}. Best is trial 9 with value: 30666.115281880026.\n",
      "[I 2024-02-25 22:44:37,202] Trial 11 finished with value: 2792.428793338751 and parameters: {'n_shares': 1, 'stop_loss_close': 0.9134663402173862, 'take_profit_close': 1.1102550830890394, 'Umbral': 9.152153894963687}. Best is trial 9 with value: 30666.115281880026.\n",
      "[I 2024-02-25 22:44:39,604] Trial 12 finished with value: 32399.037539233774 and parameters: {'n_shares': 11, 'stop_loss_close': 0.8861897395210102, 'take_profit_close': 1.1430558544866687, 'Umbral': 7.904220742020423}. Best is trial 12 with value: 32399.037539233774.\n",
      "[I 2024-02-25 22:44:42,089] Trial 13 finished with value: 55239.975616650074 and parameters: {'n_shares': 24, 'stop_loss_close': 0.8014706229680878, 'take_profit_close': 1.1567180995673296, 'Umbral': 4.614276960226253}. Best is trial 13 with value: 55239.975616650074.\n",
      "[I 2024-02-25 22:44:43,252] Trial 14 finished with value: 11316.733220343755 and parameters: {'n_shares': 25, 'stop_loss_close': 0.9431031512782657, 'take_profit_close': 1.183263893639141, 'Umbral': 4.668889700367352}. Best is trial 13 with value: 55239.975616650074.\n",
      "[I 2024-02-25 22:44:45,241] Trial 15 finished with value: 21896.746098815012 and parameters: {'n_shares': 28, 'stop_loss_close': 0.8848624160717802, 'take_profit_close': 1.2033564225516016, 'Umbral': 9.646926147279908}. Best is trial 13 with value: 55239.975616650074.\n",
      "[I 2024-02-25 22:44:45,762] Trial 16 finished with value: 34054.062975062494 and parameters: {'n_shares': 50, 'stop_loss_close': 0.801281951109102, 'take_profit_close': 1.0122177186305363, 'Umbral': 5.064714626409794}. Best is trial 13 with value: 55239.975616650074.\n",
      "[I 2024-02-25 22:44:46,167] Trial 17 finished with value: 35575.00541060382 and parameters: {'n_shares': 49, 'stop_loss_close': 0.8039194823030091, 'take_profit_close': 1.0141597053973879, 'Umbral': 4.451399922042006}. Best is trial 13 with value: 55239.975616650074.\n",
      "[I 2024-02-25 22:44:46,444] Trial 18 finished with value: 11939.425142141255 and parameters: {'n_shares': 29, 'stop_loss_close': 0.8051665179121771, 'take_profit_close': 1.071851389586795, 'Umbral': -2.4673553402429906}. Best is trial 13 with value: 55239.975616650074.\n",
      "[I 2024-02-25 22:44:46,760] Trial 19 finished with value: 5816.977099875011 and parameters: {'n_shares': 20, 'stop_loss_close': 0.8311307050045985, 'take_profit_close': 1.0029769087867448, 'Umbral': 2.9783059910751226}. Best is trial 13 with value: 55239.975616650074.\n"
     ]
    },
    {
     "name": "stdout",
     "output_type": "stream",
     "text": [
      "Mejores parámetros encontrados:\n",
      "{'n_shares': 24, 'stop_loss_close': 0.8014706229680878, 'take_profit_close': 1.1567180995673296, 'Umbral': 4.614276960226253}\n",
      "Rendimiento (Profit/Loss): 55239.975616650074\n"
     ]
    }
   ],
   "source": [
    "import optuna\n",
    "\n",
    "def objective(trial):\n",
    "    # Define los rangos de búsqueda para los parámetros\n",
    "    n_shares = trial.suggest_int('n_shares', 1, 50)\n",
    "    stop_loss_close = trial.suggest_uniform('stop_loss_close', 0.80, 1)\n",
    "    take_profit_close = trial.suggest_uniform('take_profit_close', 1, 1.5)\n",
    "    Umbral = trial.suggest_uniform('Umbral', -10, 10)\n",
    "\n",
    "    # Evalúa la función de trading con los parámetros sugeridos\n",
    "    profit_loss = def_trading_strategy(data, n_shares, stop_loss_close, take_profit_close, Umbral)\n",
    "    \n",
    "    return profit_loss  # Devuelve la métrica que se debe minimizar/maximizar\n",
    "\n",
    "# Crea un estudio Optuna\n",
    "study = optuna.create_study(direction='maximize')  # 'maximize' si se quiere maximizar la métrica\n",
    "\n",
    "# Ejecuta la optimización\n",
    "study.optimize(objective, n_trials=20)  # Puedes ajustar n_trials según tus recursos y tiempo disponible\n",
    "\n",
    "# Obtiene los mejores parámetros encontrados\n",
    "best_params = study.best_params\n",
    "best_profit_loss = study.best_value\n",
    "\n",
    "print(\"Mejores parámetros encontrados:\")\n",
    "print(best_params)\n",
    "print(\"Rendimiento (Profit/Loss):\", best_profit_loss)\n"
   ]
  },
  {
   "cell_type": "code",
   "execution_count": 11,
   "id": "dbe172ec",
   "metadata": {
    "ExecuteTime": {
     "end_time": "2024-02-26T04:44:47.342731300Z",
     "start_time": "2024-02-26T04:44:46.786721400Z"
    }
   },
   "outputs": [],
   "source": [
    "# Condiciones para comprar y vender\n",
    "condicion_compra = data[\"ROC\"] <= -1.5\n",
    "condicion_venta = data[\"ROC\"] > 1.1\n",
    "\n",
    "# Aplicando las condiciones para obtener señales de compra y venta\n",
    "data['Senal_ROC'] = ''\n",
    "data.loc[condicion_compra, 'Senal_ROC'] = 'Compra'\n",
    "data.loc[condicion_venta, 'Senal_ROC'] = 'Venta'\n",
    "data.to_excel('../../../data/1m/ROC_BOS.xlsx', index=False)"
   ]
  },
  {
   "cell_type": "code",
   "execution_count": 11,
   "id": "a7de492d",
   "metadata": {
    "ExecuteTime": {
     "end_time": "2024-02-26T04:44:47.352053600Z",
     "start_time": "2024-02-26T04:44:47.348057100Z"
    }
   },
   "outputs": [],
   "source": []
  }
 ],
 "metadata": {
  "kernelspec": {
   "display_name": "Python 3 (ipykernel)",
   "language": "python",
   "name": "python3"
  },
  "language_info": {
   "codemirror_mode": {
    "name": "ipython",
    "version": 3
   },
   "file_extension": ".py",
   "mimetype": "text/x-python",
   "name": "python",
   "nbconvert_exporter": "python",
   "pygments_lexer": "ipython3",
   "version": "3.11.5"
  }
 },
 "nbformat": 4,
 "nbformat_minor": 5
}
