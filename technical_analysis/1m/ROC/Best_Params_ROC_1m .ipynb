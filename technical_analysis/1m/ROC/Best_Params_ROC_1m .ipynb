{
 "cells": [
  {
   "cell_type": "code",
   "execution_count": 17,
   "id": "45c74508",
   "metadata": {},
   "outputs": [],
   "source": [
    "import pandas as pd\n",
    "import numpy as np\n",
    "import matplotlib.pyplot as plt\n",
    "import ta"
   ]
  },
  {
   "cell_type": "code",
   "execution_count": 18,
   "id": "efb24854",
   "metadata": {},
   "outputs": [],
   "source": [
    "data = pd.read_csv(\"aapl_1m_train.csv\")\n",
    "roc_data = ta.momentum.ROCIndicator(data.Close, window=14)\n",
    "data[\"ROC\"] = roc_data.roc()\n",
    "data = data.dropna()"
   ]
  },
  {
   "cell_type": "code",
   "execution_count": 19,
   "id": "05591dab",
   "metadata": {},
   "outputs": [],
   "source": [
    "def def_trading_strategy(data, n_shares, stop_loss_close, take_profit_close, Umbral):\n",
    "    cash= 1_000_000\n",
    "    com = 0.125/100\n",
    "    history = []\n",
    "    portfolio_value = []\n",
    "    active_operations = []\n",
    "    total_profit_loss = 0\n",
    "\n",
    "    for i, row in data.iterrows():\n",
    "        # Close active operation\n",
    "        active_op_temp = []\n",
    "        for operation in active_operations:\n",
    "            if operation[\"stop_loss\"] > row.Close:\n",
    "                cash += (row.Close * operation[\"n_shares\"]) * (1 - com)\n",
    "                # Calcular la ganancia o pérdida y actualizar el total\n",
    "                profit_loss = (row.Close * operation[\"n_shares\"]) * (1 - com) - (operation[\"bought\"] * operation[\"n_shares\"])\n",
    "                total_profit_loss += profit_loss\n",
    "                history.append({\"timestamp\": row.Timestamp, \"profit_loss\": profit_loss})\n",
    "            elif operation[\"take_profit\"] < row.Close:\n",
    "                cash += (row.Close * operation[\"n_shares\"]) * (1 - com)\n",
    "                # Calcular la ganancia o pérdida y actualizar el total\n",
    "                profit_loss = (row.Close * operation[\"n_shares\"]) * (1 - com) - (operation[\"bought\"] * operation[\"n_shares\"])\n",
    "                total_profit_loss += profit_loss\n",
    "                history.append({\"timestamp\": row.Timestamp, \"profit_loss\": profit_loss})\n",
    "            else:\n",
    "                active_op_temp.append(operation)\n",
    "        active_operations = active_op_temp\n",
    "            \n",
    "        # ¿Tenemos suficiente efectivo?\n",
    "        if cash < (row.Close * n_shares * (1 + com)):\n",
    "            asset_vals = sum([operation[\"n_shares\"] * row.Close for operation in active_operations])\n",
    "            portfolio_value.append(cash + asset_vals)\n",
    "            continue\n",
    "        \n",
    "        # Analizar la señal larga\n",
    "        if row.ROC <= Umbral:  # If ceil(Op)\n",
    "            active_operations.append({\n",
    "                \"timestamp\": row.Timestamp,\n",
    "                \"bought\": row.Close,\n",
    "                \"n_shares\": n_shares,\n",
    "                \"type\": \"long\",\n",
    "                \"stop_loss\": row.Close * stop_loss_close,\n",
    "                \"take_profit\": row.Close * take_profit_close\n",
    "            })\n",
    "            cash -= row.Close * n_shares * (1 + com)\n",
    "        \n",
    "        asset_vals = sum([operation[\"n_shares\"] * row.Close for operation in active_operations])\n",
    "        portfolio_value.append(cash + asset_vals)\n",
    "    \n",
    "    return total_profit_loss"
   ]
  },
  {
   "cell_type": "code",
   "execution_count": 20,
   "id": "1b913ae5",
   "metadata": {},
   "outputs": [
    {
     "name": "stderr",
     "output_type": "stream",
     "text": [
      "[I 2024-02-25 18:46:53,801] A new study created in memory with name: no-name-2d2d7479-c469-42e3-8d09-318c6d5c30b5\n"
     ]
    },
    {
     "name": "stdout",
     "output_type": "stream",
     "text": [
      "Requirement already satisfied: optuna in c:\\users\\dell\\anaconda3\\lib\\site-packages (3.5.0)\n",
      "Requirement already satisfied: alembic>=1.5.0 in c:\\users\\dell\\anaconda3\\lib\\site-packages (from optuna) (1.13.1)\n",
      "Requirement already satisfied: colorlog in c:\\users\\dell\\anaconda3\\lib\\site-packages (from optuna) (6.8.2)\n",
      "Requirement already satisfied: numpy in c:\\users\\dell\\anaconda3\\lib\\site-packages (from optuna) (1.24.3)\n",
      "Requirement already satisfied: packaging>=20.0 in c:\\users\\dell\\anaconda3\\lib\\site-packages (from optuna) (23.1)\n",
      "Requirement already satisfied: sqlalchemy>=1.3.0 in c:\\users\\dell\\anaconda3\\lib\\site-packages (from optuna) (1.4.39)\n",
      "Requirement already satisfied: tqdm in c:\\users\\dell\\anaconda3\\lib\\site-packages (from optuna) (4.65.0)\n",
      "Requirement already satisfied: PyYAML in c:\\users\\dell\\anaconda3\\lib\\site-packages (from optuna) (6.0)\n",
      "Requirement already satisfied: Mako in c:\\users\\dell\\anaconda3\\lib\\site-packages (from alembic>=1.5.0->optuna) (1.3.2)\n",
      "Requirement already satisfied: typing-extensions>=4 in c:\\users\\dell\\anaconda3\\lib\\site-packages (from alembic>=1.5.0->optuna) (4.7.1)\n",
      "Requirement already satisfied: greenlet!=0.4.17 in c:\\users\\dell\\anaconda3\\lib\\site-packages (from sqlalchemy>=1.3.0->optuna) (2.0.1)\n",
      "Requirement already satisfied: colorama in c:\\users\\dell\\anaconda3\\lib\\site-packages (from colorlog->optuna) (0.4.6)\n",
      "Requirement already satisfied: MarkupSafe>=0.9.2 in c:\\users\\dell\\anaconda3\\lib\\site-packages (from Mako->alembic>=1.5.0->optuna) (2.1.1)\n"
     ]
    },
    {
     "name": "stderr",
     "output_type": "stream",
     "text": [
      "C:\\Users\\DELL\\AppData\\Local\\Temp\\ipykernel_3808\\1446255683.py:7: FutureWarning: suggest_uniform has been deprecated in v3.0.0. This feature will be removed in v6.0.0. See https://github.com/optuna/optuna/releases/tag/v3.0.0. Use suggest_float instead.\n",
      "  stop_loss_close = trial.suggest_uniform('stop_loss_close', 0.80, 1)\n",
      "C:\\Users\\DELL\\AppData\\Local\\Temp\\ipykernel_3808\\1446255683.py:8: FutureWarning: suggest_uniform has been deprecated in v3.0.0. This feature will be removed in v6.0.0. See https://github.com/optuna/optuna/releases/tag/v3.0.0. Use suggest_float instead.\n",
      "  take_profit_close = trial.suggest_uniform('take_profit_close', 1, 1.5)\n",
      "C:\\Users\\DELL\\AppData\\Local\\Temp\\ipykernel_3808\\1446255683.py:9: FutureWarning: suggest_uniform has been deprecated in v3.0.0. This feature will be removed in v6.0.0. See https://github.com/optuna/optuna/releases/tag/v3.0.0. Use suggest_float instead.\n",
      "  Umbral = trial.suggest_uniform('Umbral', -10, 10)\n",
      "[I 2024-02-25 18:46:54,857] Trial 0 finished with value: 19039.58513317502 and parameters: {'n_shares': 20, 'stop_loss_close': 0.9468823393370731, 'take_profit_close': 1.1534600385760012, 'Umbral': 3.749220811663827}. Best is trial 0 with value: 19039.58513317502.\n",
      "[I 2024-02-25 18:46:56,415] Trial 1 finished with value: -4345.397794184997 and parameters: {'n_shares': 42, 'stop_loss_close': 0.8958344122676807, 'take_profit_close': 1.4804394167044759, 'Umbral': 0.6087452765491559}. Best is trial 0 with value: 19039.58513317502.\n",
      "[I 2024-02-25 18:46:57,495] Trial 2 finished with value: 0.0 and parameters: {'n_shares': 20, 'stop_loss_close': 0.8076632007582502, 'take_profit_close': 1.377029538322715, 'Umbral': -0.5600048315791462}. Best is trial 0 with value: 19039.58513317502.\n",
      "[I 2024-02-25 18:46:58,011] Trial 3 finished with value: 4523.761291621259 and parameters: {'n_shares': 7, 'stop_loss_close': 0.9435557411166211, 'take_profit_close': 1.038399168826954, 'Umbral': 9.566536533473887}. Best is trial 0 with value: 19039.58513317502.\n",
      "[I 2024-02-25 18:46:58,861] Trial 4 finished with value: 48211.09069135002 and parameters: {'n_shares': 20, 'stop_loss_close': 0.8446503243839741, 'take_profit_close': 1.109281219667921, 'Umbral': 0.6573066659577282}. Best is trial 4 with value: 48211.09069135002.\n",
      "[I 2024-02-25 18:46:59,459] Trial 5 finished with value: 0.0 and parameters: {'n_shares': 18, 'stop_loss_close': 0.8182689592999243, 'take_profit_close': 1.3346588943369413, 'Umbral': -1.0108808534672225}. Best is trial 4 with value: 48211.09069135002.\n",
      "[I 2024-02-25 18:47:00,271] Trial 6 finished with value: 0.0 and parameters: {'n_shares': 6, 'stop_loss_close': 0.8853033005901528, 'take_profit_close': 1.4946295931963112, 'Umbral': -0.2934510068735392}. Best is trial 4 with value: 48211.09069135002.\n",
      "[I 2024-02-25 18:47:00,340] Trial 7 finished with value: 0.0 and parameters: {'n_shares': 41, 'stop_loss_close': 0.8286359817976372, 'take_profit_close': 1.3111563567968976, 'Umbral': -5.428770755330275}. Best is trial 4 with value: 48211.09069135002.\n",
      "[I 2024-02-25 18:47:00,394] Trial 8 finished with value: 3416.5092144674995 and parameters: {'n_shares': 37, 'stop_loss_close': 0.8784207023346409, 'take_profit_close': 1.1696763634878138, 'Umbral': -5.583711066134662}. Best is trial 4 with value: 48211.09069135002.\n",
      "[I 2024-02-25 18:47:01,355] Trial 9 finished with value: 15983.67074256001 and parameters: {'n_shares': 24, 'stop_loss_close': 0.9378506698695779, 'take_profit_close': 1.1862151652387338, 'Umbral': 8.40522961032018}. Best is trial 4 with value: 48211.09069135002.\n",
      "[I 2024-02-25 18:47:01,417] Trial 10 finished with value: 0.0 and parameters: {'n_shares': 32, 'stop_loss_close': 0.9950806071039758, 'take_profit_close': 1.0101646884176523, 'Umbral': -8.368513308007756}. Best is trial 4 with value: 48211.09069135002.\n",
      "[I 2024-02-25 18:47:02,511] Trial 11 finished with value: 53041.38910540006 and parameters: {'n_shares': 16, 'stop_loss_close': 0.8500835048850243, 'take_profit_close': 1.1076984567908923, 'Umbral': 5.147871689311305}. Best is trial 11 with value: 53041.38910540006.\n",
      "[I 2024-02-25 18:47:03,412] Trial 12 finished with value: 38518.4422170763 and parameters: {'n_shares': 13, 'stop_loss_close': 0.8468432038133681, 'take_profit_close': 1.0880416397721007, 'Umbral': 5.119574910451832}. Best is trial 11 with value: 53041.38910540006.\n",
      "[I 2024-02-25 18:47:04,326] Trial 13 finished with value: 88977.94646479012 and parameters: {'n_shares': 29, 'stop_loss_close': 0.8443050374584885, 'take_profit_close': 1.0936905670994868, 'Umbral': 4.22224465993697}. Best is trial 13 with value: 88977.94646479012.\n",
      "[I 2024-02-25 18:47:05,790] Trial 14 finished with value: 27853.570411887507 and parameters: {'n_shares': 49, 'stop_loss_close': 0.8583562403388393, 'take_profit_close': 1.2323661694904373, 'Umbral': 5.497030848148706}. Best is trial 13 with value: 88977.94646479012.\n",
      "[I 2024-02-25 18:47:06,724] Trial 15 finished with value: 86592.82995116262 and parameters: {'n_shares': 30, 'stop_loss_close': 0.86457129926798, 'take_profit_close': 1.0888335370866211, 'Umbral': 3.421572532025924}. Best is trial 13 with value: 88977.94646479012.\n",
      "[I 2024-02-25 18:47:07,343] Trial 16 finished with value: 50267.82212996256 and parameters: {'n_shares': 30, 'stop_loss_close': 0.907402004447986, 'take_profit_close': 1.0637412711416365, 'Umbral': 2.6428686098822176}. Best is trial 13 with value: 88977.94646479012.\n",
      "[I 2024-02-25 18:47:08,563] Trial 17 finished with value: 2032.1628032650056 and parameters: {'n_shares': 28, 'stop_loss_close': 0.9161386572763034, 'take_profit_close': 1.2451237034006861, 'Umbral': 7.428328077503208}. Best is trial 13 with value: 88977.94646479012.\n",
      "[I 2024-02-25 18:47:08,657] Trial 18 finished with value: 2479.1616944925076 and parameters: {'n_shares': 34, 'stop_loss_close': 0.8641052081796681, 'take_profit_close': 1.0119725904081203, 'Umbral': -2.6838528440581273}. Best is trial 13 with value: 88977.94646479012.\n",
      "[I 2024-02-25 18:47:09,649] Trial 19 finished with value: 75573.19313219006 and parameters: {'n_shares': 26, 'stop_loss_close': 0.8283200049590431, 'take_profit_close': 1.1276919654575452, 'Umbral': 2.053007188392404}. Best is trial 13 with value: 88977.94646479012.\n"
     ]
    },
    {
     "name": "stdout",
     "output_type": "stream",
     "text": [
      "Mejores parámetros encontrados:\n",
      "{'n_shares': 29, 'stop_loss_close': 0.8443050374584885, 'take_profit_close': 1.0936905670994868, 'Umbral': 4.22224465993697}\n",
      "Rendimiento (Profit/Loss): 88977.94646479012\n"
     ]
    }
   ],
   "source": [
    "!pip install optuna\n",
    "import optuna\n",
    "\n",
    "def objective(trial):\n",
    "    # Define los rangos de búsqueda para los parámetros\n",
    "    n_shares = trial.suggest_int('n_shares', 1, 50)\n",
    "    stop_loss_close = trial.suggest_uniform('stop_loss_close', 0.80, 1)\n",
    "    take_profit_close = trial.suggest_uniform('take_profit_close', 1, 1.5)\n",
    "    Umbral = trial.suggest_uniform('Umbral', -10, 10)\n",
    "\n",
    "    # Evalúa la función de trading con los parámetros sugeridos\n",
    "    profit_loss = def_trading_strategy(data, n_shares, stop_loss_close, take_profit_close, Umbral)\n",
    "    \n",
    "    return profit_loss  # Devuelve la métrica que se debe minimizar/maximizar\n",
    "\n",
    "# Crea un estudio Optuna\n",
    "study = optuna.create_study(direction='maximize')  # 'maximize' si se quiere maximizar la métrica\n",
    "\n",
    "# Ejecuta la optimización\n",
    "study.optimize(objective, n_trials=20)  # Puedes ajustar n_trials según tus recursos y tiempo disponible\n",
    "\n",
    "# Obtiene los mejores parámetros encontrados\n",
    "best_params = study.best_params\n",
    "best_profit_loss = study.best_value\n",
    "\n",
    "print(\"Mejores parámetros encontrados:\")\n",
    "print(best_params)\n",
    "print(\"Rendimiento (Profit/Loss):\", best_profit_loss)\n"
   ]
  },
  {
   "cell_type": "code",
   "execution_count": 21,
   "id": "dbe172ec",
   "metadata": {},
   "outputs": [],
   "source": [
    "# Condiciones para comprar y vender\n",
    "condicion_compra = data[\"ROC\"] <= -1.5\n",
    "condicion_venta = data[\"ROC\"] > 1.1\n",
    "\n",
    "# Aplicando las condiciones para obtener señales de compra y venta\n",
    "data['Senal_ROC'] = ''\n",
    "data.loc[condicion_compra, 'Senal_ROC'] = 'Compra'\n",
    "data.loc[condicion_venta, 'Senal_ROC'] = 'Venta'\n",
    "data.to_excel('ROC_BOS.xlsx', index=False)"
   ]
  },
  {
   "cell_type": "code",
   "execution_count": 22,
   "id": "d9cf3c61",
   "metadata": {},
   "outputs": [
    {
     "data": {
      "text/plain": [
       "Senal_ROC\n",
       "          145\n",
       "Venta     115\n",
       "Compra     91\n",
       "Name: count, dtype: int64"
      ]
     },
     "execution_count": 22,
     "metadata": {},
     "output_type": "execute_result"
    }
   ],
   "source": [
    "data['Senal_ROC'].value_counts()"
   ]
  },
  {
   "cell_type": "code",
   "execution_count": null,
   "id": "a7de492d",
   "metadata": {},
   "outputs": [],
   "source": []
  }
 ],
 "metadata": {
  "kernelspec": {
   "display_name": "Python 3 (ipykernel)",
   "language": "python",
   "name": "python3"
  },
  "language_info": {
   "codemirror_mode": {
    "name": "ipython",
    "version": 3
   },
   "file_extension": ".py",
   "mimetype": "text/x-python",
   "name": "python",
   "nbconvert_exporter": "python",
   "pygments_lexer": "ipython3",
   "version": "3.11.5"
  }
 },
 "nbformat": 4,
 "nbformat_minor": 5
}
