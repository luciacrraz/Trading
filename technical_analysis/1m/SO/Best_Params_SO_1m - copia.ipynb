{
 "cells": [
  {
   "cell_type": "code",
   "execution_count": 6,
   "id": "45c74508",
   "metadata": {
    "ExecuteTime": {
     "end_time": "2024-02-26T05:23:37.322155Z",
     "start_time": "2024-02-26T05:23:37.315423Z"
    }
   },
   "outputs": [],
   "source": [
    "import pandas as pd\n",
    "import numpy as np\n",
    "import matplotlib.pyplot as plt\n",
    "import ta\n"
   ]
  },
  {
   "cell_type": "code",
   "execution_count": 7,
   "id": "efb24854",
   "metadata": {
    "ExecuteTime": {
     "end_time": "2024-02-26T05:23:38.859171Z",
     "start_time": "2024-02-26T05:23:38.794468Z"
    }
   },
   "outputs": [],
   "source": [
    "data = pd.read_csv(\"../../../data/aapl_5m_train.csv\")\n",
    "so_data = ta.momentum.StochasticOscillator(data.High, data.Low, data.Close, window = 14, smooth_window = 3)\n",
    "data[\"SO\"] = so_data.stoch()\n",
    "data = data.dropna()"
   ]
  },
  {
   "cell_type": "code",
   "execution_count": 8,
   "id": "05591dab",
   "metadata": {
    "ExecuteTime": {
     "end_time": "2024-02-26T05:23:40.067782Z",
     "start_time": "2024-02-26T05:23:40.064073Z"
    }
   },
   "outputs": [],
   "source": [
    "def def_trading_strategy(data, n_shares, stop_loss_close, take_profit_close, Umbral):\n",
    "    cash= 1_000_000\n",
    "    com = 0.125/100\n",
    "    history = []\n",
    "    portfolio_value = []\n",
    "    active_operations = []\n",
    "    total_profit_loss = 0\n",
    "\n",
    "    for i, row in data.iterrows():\n",
    "        # Close active operation\n",
    "        active_op_temp = []\n",
    "        for operation in active_operations:\n",
    "            if operation[\"stop_loss\"] > row.Close:\n",
    "                cash += (row.Close * operation[\"n_shares\"]) * (1 - com)\n",
    "                # Calcular la ganancia o pérdida y actualizar el total\n",
    "                profit_loss = (row.Close * operation[\"n_shares\"]) * (1 - com) - (operation[\"bought\"] * operation[\"n_shares\"])\n",
    "                total_profit_loss += profit_loss\n",
    "                history.append({\"timestamp\": row.Timestamp, \"profit_loss\": profit_loss})\n",
    "            elif operation[\"take_profit\"] < row.Close:\n",
    "                cash += (row.Close * operation[\"n_shares\"]) * (1 - com)\n",
    "                # Calcular la ganancia o pérdida y actualizar el total\n",
    "                profit_loss = (row.Close * operation[\"n_shares\"]) * (1 - com) - (operation[\"bought\"] * operation[\"n_shares\"])\n",
    "                total_profit_loss += profit_loss\n",
    "                history.append({\"timestamp\": row.Timestamp, \"profit_loss\": profit_loss})\n",
    "            else:\n",
    "                active_op_temp.append(operation)\n",
    "        active_operations = active_op_temp\n",
    "            \n",
    "        # ¿Tenemos suficiente efectivo?\n",
    "        if cash < (row.Close * n_shares * (1 + com)):\n",
    "            asset_vals = sum([operation[\"n_shares\"] * row.Close for operation in active_operations])\n",
    "            portfolio_value.append(cash + asset_vals)\n",
    "            continue\n",
    "        \n",
    "        # Analizar la señal larga\n",
    "        if row.SO <= Umbral:  # If ceil(Op)\n",
    "            active_operations.append({\n",
    "                \"timestamp\": row.Timestamp,\n",
    "                \"bought\": row.Close,\n",
    "                \"n_shares\": n_shares,\n",
    "                \"type\": \"long\",\n",
    "                \"stop_loss\": row.Close * stop_loss_close,\n",
    "                \"take_profit\": row.Close * take_profit_close\n",
    "            })\n",
    "            cash -= row.Close * n_shares * (1 + com)\n",
    "        \n",
    "        asset_vals = sum([operation[\"n_shares\"] * row.Close for operation in active_operations])\n",
    "        portfolio_value.append(cash + asset_vals)\n",
    "    \n",
    "    return total_profit_loss"
   ]
  },
  {
   "cell_type": "code",
   "execution_count": null,
   "id": "1b913ae5",
   "metadata": {
    "is_executing": true,
    "ExecuteTime": {
     "start_time": "2024-02-26T05:23:41.485507Z"
    }
   },
   "outputs": [
    {
     "name": "stderr",
     "output_type": "stream",
     "text": [
      "[I 2024-02-25 23:23:41,483] A new study created in memory with name: no-name-d110cdf7-4cea-4e7c-ad81-4c560b6840a7\n",
      "/var/folders/x7/frl5my251vx198wg4w_ndzxh0000gn/T/ipykernel_18845/2633116586.py:6: FutureWarning: suggest_uniform has been deprecated in v3.0.0. This feature will be removed in v6.0.0. See https://github.com/optuna/optuna/releases/tag/v3.0.0. Use suggest_float instead.\n",
      "  stop_loss_close = trial.suggest_uniform('stop_loss_close', 0.80, 1)\n",
      "/var/folders/x7/frl5my251vx198wg4w_ndzxh0000gn/T/ipykernel_18845/2633116586.py:7: FutureWarning: suggest_uniform has been deprecated in v3.0.0. This feature will be removed in v6.0.0. See https://github.com/optuna/optuna/releases/tag/v3.0.0. Use suggest_float instead.\n",
      "  take_profit_close = trial.suggest_uniform('take_profit_close', 1, 1.5)\n",
      "/var/folders/x7/frl5my251vx198wg4w_ndzxh0000gn/T/ipykernel_18845/2633116586.py:8: FutureWarning: suggest_uniform has been deprecated in v3.0.0. This feature will be removed in v6.0.0. See https://github.com/optuna/optuna/releases/tag/v3.0.0. Use suggest_float instead.\n",
      "  Umbral = trial.suggest_uniform('Umbral', 0, 20)\n",
      "[I 2024-02-25 23:24:21,328] Trial 0 finished with value: -114420.31850266804 and parameters: {'n_shares': 39, 'stop_loss_close': 0.9680345682147424, 'take_profit_close': 1.1141702636895434, 'Umbral': 18.750450029661614}. Best is trial 0 with value: -114420.31850266804.\n",
      "[I 2024-02-25 23:25:11,390] Trial 1 finished with value: 84639.90160822569 and parameters: {'n_shares': 36, 'stop_loss_close': 0.8002781758896058, 'take_profit_close': 1.1239848057649078, 'Umbral': 4.564345311367887}. Best is trial 1 with value: 84639.90160822569.\n",
      "[I 2024-02-25 23:26:31,789] Trial 2 finished with value: -73317.16487759429 and parameters: {'n_shares': 23, 'stop_loss_close': 0.928043761342833, 'take_profit_close': 1.2554006141939877, 'Umbral': 10.877071590350836}. Best is trial 1 with value: 84639.90160822569.\n",
      "[I 2024-02-25 23:27:19,848] Trial 3 finished with value: 89191.84988979259 and parameters: {'n_shares': 46, 'stop_loss_close': 0.8354548812542022, 'take_profit_close': 1.0678352113688208, 'Umbral': 10.125387219116448}. Best is trial 3 with value: 89191.84988979259.\n",
      "[I 2024-02-25 23:28:06,033] Trial 4 finished with value: -69791.91164518546 and parameters: {'n_shares': 46, 'stop_loss_close': 0.9622551281295645, 'take_profit_close': 1.4398858831608354, 'Umbral': 7.453546707789053}. Best is trial 3 with value: 89191.84988979259.\n",
      "[I 2024-02-25 23:29:48,240] Trial 5 finished with value: -39096.29164866243 and parameters: {'n_shares': 10, 'stop_loss_close': 0.9526957577909158, 'take_profit_close': 1.396774660397424, 'Umbral': 5.388664975813304}. Best is trial 3 with value: 89191.84988979259.\n"
     ]
    }
   ],
   "source": [
    "import optuna\n",
    "\n",
    "def objective(trial):\n",
    "    # Define los rangos de búsqueda para los parámetros\n",
    "    n_shares = trial.suggest_int('n_shares', 1, 50)\n",
    "    stop_loss_close = trial.suggest_uniform('stop_loss_close', 0.80, 1)\n",
    "    take_profit_close = trial.suggest_uniform('take_profit_close', 1, 1.5)\n",
    "    Umbral = trial.suggest_uniform('Umbral', 0, 20)\n",
    "\n",
    "    # Evalúa la función de trading con los parámetros sugeridos\n",
    "    profit_loss = def_trading_strategy(data, n_shares, stop_loss_close, take_profit_close, Umbral)\n",
    "    \n",
    "    return profit_loss  # Devuelve la métrica que se debe minimizar/maximizar\n",
    "\n",
    "# Crea un estudio Optuna\n",
    "study = optuna.create_study(direction='maximize')  # 'maximize' si se quiere maximizar la métrica\n",
    "\n",
    "# Ejecuta la optimización\n",
    "study.optimize(objective, n_trials=20)  # Puedes ajustar n_trials según tus recursos y tiempo disponible\n",
    "\n",
    "# Obtiene los mejores parámetros encontrados\n",
    "best_params = study.best_params\n",
    "best_profit_loss = study.best_value\n",
    "\n",
    "print(\"Mejores parámetros encontrados:\")\n",
    "print(best_params)\n",
    "print(\"Rendimiento (Profit/Loss):\", best_profit_loss)\n"
   ]
  },
  {
   "cell_type": "code",
   "execution_count": null,
   "id": "dbe172ec",
   "metadata": {
    "ExecuteTime": {
     "start_time": "2024-02-26T05:23:03.009105Z"
    }
   },
   "outputs": [],
   "source": [
    "# Condiciones para comprar y vender\n",
    "condicion_compra = data[\"SO\"] <= 20\n",
    "condicion_venta = data[\"SO\"] > 80\n",
    "\n",
    "# Aplicando las condiciones para obtener señales de compra y venta\n",
    "data['Senal_SO'] = ''\n",
    "data.loc[condicion_compra, 'Senal_SO'] = 'Compra'\n",
    "data.loc[condicion_venta, 'Senal_SO'] = 'Venta'\n",
    "data.to_excel('../../../data/1m/SO_BOS.xlsx', index=False)"
   ]
  }
 ],
 "metadata": {
  "kernelspec": {
   "display_name": "Python 3 (ipykernel)",
   "language": "python",
   "name": "python3"
  },
  "language_info": {
   "codemirror_mode": {
    "name": "ipython",
    "version": 3
   },
   "file_extension": ".py",
   "mimetype": "text/x-python",
   "name": "python",
   "nbconvert_exporter": "python",
   "pygments_lexer": "ipython3",
   "version": "3.11.4"
  }
 },
 "nbformat": 4,
 "nbformat_minor": 5
}
