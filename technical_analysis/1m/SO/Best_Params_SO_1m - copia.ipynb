{
 "cells": [
  {
   "cell_type": "code",
   "execution_count": 1,
   "id": "45c74508",
   "metadata": {},
   "outputs": [],
   "source": [
    "import pandas as pd\n",
    "import numpy as np\n",
    "import matplotlib.pyplot as plt\n",
    "import ta"
   ]
  },
  {
   "cell_type": "code",
   "execution_count": 2,
   "id": "efb24854",
   "metadata": {},
   "outputs": [],
   "source": [
    "data = pd.read_csv(\"aapl_5m_train.csv\")\n",
    "so_data = ta.momentum.StochasticOscillator(data.High, data.Low, data.Close, window = 14, smooth_window = 3)\n",
    "data[\"SO\"] = so_data.stoch()\n",
    "data = data.dropna()"
   ]
  },
  {
   "cell_type": "code",
   "execution_count": 3,
   "id": "05591dab",
   "metadata": {},
   "outputs": [],
   "source": [
    "def def_trading_strategy(data, n_shares, stop_loss_close, take_profit_close, Umbral):\n",
    "    cash= 1_000_000\n",
    "    com = 0.125/100\n",
    "    history = []\n",
    "    portfolio_value = []\n",
    "    active_operations = []\n",
    "    total_profit_loss = 0\n",
    "\n",
    "    for i, row in data.iterrows():\n",
    "        # Close active operation\n",
    "        active_op_temp = []\n",
    "        for operation in active_operations:\n",
    "            if operation[\"stop_loss\"] > row.Close:\n",
    "                cash += (row.Close * operation[\"n_shares\"]) * (1 - com)\n",
    "                # Calcular la ganancia o pérdida y actualizar el total\n",
    "                profit_loss = (row.Close * operation[\"n_shares\"]) * (1 - com) - (operation[\"bought\"] * operation[\"n_shares\"])\n",
    "                total_profit_loss += profit_loss\n",
    "                history.append({\"timestamp\": row.Timestamp, \"profit_loss\": profit_loss})\n",
    "            elif operation[\"take_profit\"] < row.Close:\n",
    "                cash += (row.Close * operation[\"n_shares\"]) * (1 - com)\n",
    "                # Calcular la ganancia o pérdida y actualizar el total\n",
    "                profit_loss = (row.Close * operation[\"n_shares\"]) * (1 - com) - (operation[\"bought\"] * operation[\"n_shares\"])\n",
    "                total_profit_loss += profit_loss\n",
    "                history.append({\"timestamp\": row.Timestamp, \"profit_loss\": profit_loss})\n",
    "            else:\n",
    "                active_op_temp.append(operation)\n",
    "        active_operations = active_op_temp\n",
    "            \n",
    "        # ¿Tenemos suficiente efectivo?\n",
    "        if cash < (row.Close * n_shares * (1 + com)):\n",
    "            asset_vals = sum([operation[\"n_shares\"] * row.Close for operation in active_operations])\n",
    "            portfolio_value.append(cash + asset_vals)\n",
    "            continue\n",
    "        \n",
    "        # Analizar la señal larga\n",
    "        if row.SO <= Umbral:  # If ceil(Op)\n",
    "            active_operations.append({\n",
    "                \"timestamp\": row.Timestamp,\n",
    "                \"bought\": row.Close,\n",
    "                \"n_shares\": n_shares,\n",
    "                \"type\": \"long\",\n",
    "                \"stop_loss\": row.Close * stop_loss_close,\n",
    "                \"take_profit\": row.Close * take_profit_close\n",
    "            })\n",
    "            cash -= row.Close * n_shares * (1 + com)\n",
    "        \n",
    "        asset_vals = sum([operation[\"n_shares\"] * row.Close for operation in active_operations])\n",
    "        portfolio_value.append(cash + asset_vals)\n",
    "    \n",
    "    return total_profit_loss"
   ]
  },
  {
   "cell_type": "code",
   "execution_count": 4,
   "id": "1b913ae5",
   "metadata": {},
   "outputs": [
    {
     "name": "stderr",
     "output_type": "stream",
     "text": [
      "[I 2024-02-25 14:17:13,148] A new study created in memory with name: no-name-43193071-0a51-4252-a96f-21eb0f952024\n",
      "C:\\Users\\elias\\AppData\\Local\\Temp\\ipykernel_18128\\206674135.py:6: FutureWarning: suggest_uniform has been deprecated in v3.0.0. This feature will be removed in v6.0.0. See https://github.com/optuna/optuna/releases/tag/v3.0.0. Use suggest_float instead.\n",
      "  stop_loss_close = trial.suggest_uniform('stop_loss_close', 0.80, 1)\n",
      "C:\\Users\\elias\\AppData\\Local\\Temp\\ipykernel_18128\\206674135.py:7: FutureWarning: suggest_uniform has been deprecated in v3.0.0. This feature will be removed in v6.0.0. See https://github.com/optuna/optuna/releases/tag/v3.0.0. Use suggest_float instead.\n",
      "  take_profit_close = trial.suggest_uniform('take_profit_close', 1, 1.5)\n",
      "C:\\Users\\elias\\AppData\\Local\\Temp\\ipykernel_18128\\206674135.py:8: FutureWarning: suggest_uniform has been deprecated in v3.0.0. This feature will be removed in v6.0.0. See https://github.com/optuna/optuna/releases/tag/v3.0.0. Use suggest_float instead.\n",
      "  Umbral = trial.suggest_uniform('Umbral', 0, 20)\n",
      "[I 2024-02-25 14:19:32,850] Trial 0 finished with value: -26525.881704302497 and parameters: {'n_shares': 43, 'stop_loss_close': 0.8890840504612075, 'take_profit_close': 1.2475811059968684, 'Umbral': 4.5837512211747455}. Best is trial 0 with value: -26525.881704302497.\n",
      "[I 2024-02-25 14:19:59,253] Trial 1 finished with value: -951.103539244986 and parameters: {'n_shares': 1, 'stop_loss_close': 0.9759533254759091, 'take_profit_close': 1.0334869520390904, 'Umbral': 9.573708233307592}. Best is trial 1 with value: -951.103539244986.\n",
      "[I 2024-02-25 14:22:38,199] Trial 2 finished with value: -61652.480135485115 and parameters: {'n_shares': 37, 'stop_loss_close': 0.9315156565705376, 'take_profit_close': 1.337168077962605, 'Umbral': 17.87348474408354}. Best is trial 1 with value: -951.103539244986.\n",
      "[I 2024-02-25 14:33:32,639] Trial 3 finished with value: 112961.93784322504 and parameters: {'n_shares': 9, 'stop_loss_close': 0.8081336578713125, 'take_profit_close': 1.2493170551988826, 'Umbral': 15.685118149639298}. Best is trial 3 with value: 112961.93784322504.\n",
      "[I 2024-02-25 14:34:36,544] Trial 4 finished with value: 25675.951614727488 and parameters: {'n_shares': 18, 'stop_loss_close': 0.8140764931083794, 'take_profit_close': 1.2322801428689394, 'Umbral': 0.6810860692043197}. Best is trial 3 with value: 112961.93784322504.\n",
      "[I 2024-02-25 14:50:15,197] Trial 5 finished with value: 19134.23419857752 and parameters: {'n_shares': 1, 'stop_loss_close': 0.8335270372118027, 'take_profit_close': 1.2050524219571637, 'Umbral': 17.662365345155294}. Best is trial 3 with value: 112961.93784322504.\n",
      "[I 2024-02-25 14:53:11,462] Trial 6 finished with value: -134898.8387842534 and parameters: {'n_shares': 29, 'stop_loss_close': 0.9302316444703083, 'take_profit_close': 1.2121992682876301, 'Umbral': 18.542589131341057}. Best is trial 3 with value: 112961.93784322504.\n",
      "[I 2024-02-25 14:57:44,773] Trial 7 finished with value: -94117.27859114365 and parameters: {'n_shares': 19, 'stop_loss_close': 0.9281339064495637, 'take_profit_close': 1.4740478104904398, 'Umbral': 16.74293900782504}. Best is trial 3 with value: 112961.93784322504.\n",
      "[I 2024-02-25 15:02:25,212] Trial 8 finished with value: -80594.70910108135 and parameters: {'n_shares': 19, 'stop_loss_close': 0.9617456216242023, 'take_profit_close': 1.490933827550912, 'Umbral': 18.599576119911294}. Best is trial 3 with value: 112961.93784322504.\n",
      "[I 2024-02-25 15:02:40,091] Trial 9 finished with value: -7763.839333049758 and parameters: {'n_shares': 20, 'stop_loss_close': 0.8737682694790188, 'take_profit_close': 1.0040446030612826, 'Umbral': 6.637837296356537}. Best is trial 3 with value: 112961.93784322504.\n",
      "[I 2024-02-25 15:09:06,165] Trial 10 finished with value: 72162.43957072216 and parameters: {'n_shares': 9, 'stop_loss_close': 0.8577451491566629, 'take_profit_close': 1.118486009340174, 'Umbral': 13.011830126869732}. Best is trial 3 with value: 112961.93784322504.\n",
      "[I 2024-02-25 15:15:06,314] Trial 11 finished with value: 76086.19981935214 and parameters: {'n_shares': 10, 'stop_loss_close': 0.8464716651509683, 'take_profit_close': 1.1067075954122807, 'Umbral': 12.823065731228802}. Best is trial 3 with value: 112961.93784322504.\n",
      "[I 2024-02-25 15:24:12,782] Trial 12 finished with value: 69151.24632842548 and parameters: {'n_shares': 10, 'stop_loss_close': 0.8131909256065182, 'take_profit_close': 1.359894820642771, 'Umbral': 12.789796598608149}. Best is trial 3 with value: 112961.93784322504.\n",
      "[I 2024-02-25 15:30:47,297] Trial 13 finished with value: 75298.47519284811 and parameters: {'n_shares': 11, 'stop_loss_close': 0.8462802099260469, 'take_profit_close': 1.1282498534387362, 'Umbral': 14.375753894077679}. Best is trial 3 with value: 112961.93784322504.\n",
      "[I 2024-02-25 15:33:53,878] Trial 14 finished with value: 48185.9836719804 and parameters: {'n_shares': 28, 'stop_loss_close': 0.8288906468841309, 'take_profit_close': 1.1253476170729957, 'Umbral': 10.278016983904191}. Best is trial 3 with value: 112961.93784322504.\n",
      "[I 2024-02-25 15:46:18,056] Trial 15 finished with value: 60609.91599531743 and parameters: {'n_shares': 7, 'stop_loss_close': 0.8036013522337371, 'take_profit_close': 1.3190835706514619, 'Umbral': 15.029861195098807}. Best is trial 3 with value: 112961.93784322504.\n",
      "[I 2024-02-25 15:49:50,109] Trial 16 finished with value: 1522.2198595342836 and parameters: {'n_shares': 13, 'stop_loss_close': 0.8657207881658939, 'take_profit_close': 1.0726221265356617, 'Umbral': 10.41438763473736}. Best is trial 3 with value: 112961.93784322504.\n",
      "[I 2024-02-25 15:52:39,136] Trial 17 finished with value: -84259.00957220966 and parameters: {'n_shares': 33, 'stop_loss_close': 0.9046243121703331, 'take_profit_close': 1.4226124050940903, 'Umbral': 12.08940191163547}. Best is trial 3 with value: 112961.93784322504.\n",
      "[I 2024-02-25 16:04:07,178] Trial 18 finished with value: 79517.0560945509 and parameters: {'n_shares': 5, 'stop_loss_close': 0.8377646738549381, 'take_profit_close': 1.1774573689467904, 'Umbral': 15.425807418559526}. Best is trial 3 with value: 112961.93784322504.\n",
      "[I 2024-02-25 16:04:32,473] Trial 19 finished with value: -151.4712823274458 and parameters: {'n_shares': 3, 'stop_loss_close': 0.9977700938703417, 'take_profit_close': 1.1781023651555271, 'Umbral': 15.369060167597526}. Best is trial 3 with value: 112961.93784322504.\n"
     ]
    },
    {
     "name": "stdout",
     "output_type": "stream",
     "text": [
      "Mejores parámetros encontrados:\n",
      "{'n_shares': 9, 'stop_loss_close': 0.8081336578713125, 'take_profit_close': 1.2493170551988826, 'Umbral': 15.685118149639298}\n",
      "Rendimiento (Profit/Loss): 112961.93784322504\n"
     ]
    }
   ],
   "source": [
    "import optuna\n",
    "\n",
    "def objective(trial):\n",
    "    # Define los rangos de búsqueda para los parámetros\n",
    "    n_shares = trial.suggest_int('n_shares', 1, 50)\n",
    "    stop_loss_close = trial.suggest_uniform('stop_loss_close', 0.80, 1)\n",
    "    take_profit_close = trial.suggest_uniform('take_profit_close', 1, 1.5)\n",
    "    Umbral = trial.suggest_uniform('Umbral', 0, 20)\n",
    "\n",
    "    # Evalúa la función de trading con los parámetros sugeridos\n",
    "    profit_loss = def_trading_strategy(data, n_shares, stop_loss_close, take_profit_close, Umbral)\n",
    "    \n",
    "    return profit_loss  # Devuelve la métrica que se debe minimizar/maximizar\n",
    "\n",
    "# Crea un estudio Optuna\n",
    "study = optuna.create_study(direction='maximize')  # 'maximize' si se quiere maximizar la métrica\n",
    "\n",
    "# Ejecuta la optimización\n",
    "study.optimize(objective, n_trials=20)  # Puedes ajustar n_trials según tus recursos y tiempo disponible\n",
    "\n",
    "# Obtiene los mejores parámetros encontrados\n",
    "best_params = study.best_params\n",
    "best_profit_loss = study.best_value\n",
    "\n",
    "print(\"Mejores parámetros encontrados:\")\n",
    "print(best_params)\n",
    "print(\"Rendimiento (Profit/Loss):\", best_profit_loss)\n"
   ]
  },
  {
   "cell_type": "code",
   "execution_count": 9,
   "id": "dbe172ec",
   "metadata": {},
   "outputs": [],
   "source": [
    "# Condiciones para comprar y vender\n",
    "condicion_compra = data[\"SO\"] <= 20\n",
    "condicion_venta = data[\"SO\"] > 80\n",
    "\n",
    "# Aplicando las condiciones para obtener señales de compra y venta\n",
    "data['Senal_SO'] = ''\n",
    "data.loc[condicion_compra, 'Senal_SO'] = 'Compra'\n",
    "data.loc[condicion_venta, 'Senal_SO'] = 'Venta'\n",
    "data.to_excel('SO_BOS.xlsx', index=False)"
   ]
  },
  {
   "cell_type": "code",
   "execution_count": 10,
   "id": "e4cf1a29",
   "metadata": {},
   "outputs": [
    {
     "data": {
      "text/plain": [
       "Senal_SO\n",
       "Venta     30181\n",
       "Compra     5741\n",
       "           3200\n",
       "Name: count, dtype: int64"
      ]
     },
     "execution_count": 10,
     "metadata": {},
     "output_type": "execute_result"
    }
   ],
   "source": [
    "data['Senal_SO'].value_counts()"
   ]
  }
 ],
 "metadata": {
  "kernelspec": {
   "display_name": "Python 3 (ipykernel)",
   "language": "python",
   "name": "python3"
  },
  "language_info": {
   "codemirror_mode": {
    "name": "ipython",
    "version": 3
   },
   "file_extension": ".py",
   "mimetype": "text/x-python",
   "name": "python",
   "nbconvert_exporter": "python",
   "pygments_lexer": "ipython3",
   "version": "3.11.4"
  }
 },
 "nbformat": 4,
 "nbformat_minor": 5
}
