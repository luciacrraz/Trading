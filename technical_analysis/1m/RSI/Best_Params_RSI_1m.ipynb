{
 "cells": [
  {
   "cell_type": "code",
   "execution_count": 9,
   "id": "45c74508",
   "metadata": {
    "ExecuteTime": {
     "end_time": "2024-02-26T04:46:55.158958700Z",
     "start_time": "2024-02-26T04:46:55.089931Z"
    }
   },
   "outputs": [],
   "source": [
    "import pandas as pd\n",
    "import numpy as np\n",
    "import matplotlib.pyplot as plt\n",
    "import ta"
   ]
  },
  {
   "cell_type": "code",
   "execution_count": 10,
   "id": "efb24854",
   "metadata": {
    "ExecuteTime": {
     "end_time": "2024-02-26T04:46:55.208619900Z",
     "start_time": "2024-02-26T04:46:55.127975500Z"
    }
   },
   "outputs": [
    {
     "data": {
      "text/plain": "      Timestamp  Gmtoffset             Datetime        Open        High  \\\n13   1602617400          0  2020-10-13 19:30:00  121.800003  122.050003   \n14   1602682200          0  2020-10-14 13:30:00  121.000000  123.019996   \n15   1602685800          0  2020-10-14 14:30:00  121.690002  122.389999   \n16   1602689400          0  2020-10-14 15:30:00  121.610000  121.730003   \n17   1602693000          0  2020-10-14 16:30:00  120.250000  120.769897   \n..          ...        ...                  ...         ...         ...   \n390  1609432200          0  2020-12-31 16:30:00  132.529998  132.800003   \n391  1609435800          0  2020-12-31 17:30:00  132.619995  132.717605   \n392  1609439400          0  2020-12-31 18:30:00  132.565002  132.889999   \n393  1609443000          0  2020-12-31 19:30:00  132.770004  133.179992   \n394  1609446600          0  2020-12-31 20:30:00  132.794998  133.330001   \n\n            Low       Close      Volume        RSI  \n13   121.029998  121.050003  16221506.0  42.205490  \n14   120.040000  121.689903  41414544.0  46.975990  \n15   121.180000  121.599998  17702126.0  46.396536  \n16   119.709999  120.247703  22141570.0  38.669926  \n17   120.000000  120.139999  15375733.0  38.125346  \n..          ...         ...         ...        ...  \n390  131.720001  132.619995  13538948.0  40.278164  \n391  132.310104  132.560806   7474176.0  39.901949  \n392  132.009994  132.764999   9408857.0  41.917511  \n393  132.565994  132.800003  10147999.0  42.274917  \n394  132.449996  132.580001  11777361.0  40.584587  \n\n[367 rows x 9 columns]",
      "text/html": "<div>\n<style scoped>\n    .dataframe tbody tr th:only-of-type {\n        vertical-align: middle;\n    }\n\n    .dataframe tbody tr th {\n        vertical-align: top;\n    }\n\n    .dataframe thead th {\n        text-align: right;\n    }\n</style>\n<table border=\"1\" class=\"dataframe\">\n  <thead>\n    <tr style=\"text-align: right;\">\n      <th></th>\n      <th>Timestamp</th>\n      <th>Gmtoffset</th>\n      <th>Datetime</th>\n      <th>Open</th>\n      <th>High</th>\n      <th>Low</th>\n      <th>Close</th>\n      <th>Volume</th>\n      <th>RSI</th>\n    </tr>\n  </thead>\n  <tbody>\n    <tr>\n      <th>13</th>\n      <td>1602617400</td>\n      <td>0</td>\n      <td>2020-10-13 19:30:00</td>\n      <td>121.800003</td>\n      <td>122.050003</td>\n      <td>121.029998</td>\n      <td>121.050003</td>\n      <td>16221506.0</td>\n      <td>42.205490</td>\n    </tr>\n    <tr>\n      <th>14</th>\n      <td>1602682200</td>\n      <td>0</td>\n      <td>2020-10-14 13:30:00</td>\n      <td>121.000000</td>\n      <td>123.019996</td>\n      <td>120.040000</td>\n      <td>121.689903</td>\n      <td>41414544.0</td>\n      <td>46.975990</td>\n    </tr>\n    <tr>\n      <th>15</th>\n      <td>1602685800</td>\n      <td>0</td>\n      <td>2020-10-14 14:30:00</td>\n      <td>121.690002</td>\n      <td>122.389999</td>\n      <td>121.180000</td>\n      <td>121.599998</td>\n      <td>17702126.0</td>\n      <td>46.396536</td>\n    </tr>\n    <tr>\n      <th>16</th>\n      <td>1602689400</td>\n      <td>0</td>\n      <td>2020-10-14 15:30:00</td>\n      <td>121.610000</td>\n      <td>121.730003</td>\n      <td>119.709999</td>\n      <td>120.247703</td>\n      <td>22141570.0</td>\n      <td>38.669926</td>\n    </tr>\n    <tr>\n      <th>17</th>\n      <td>1602693000</td>\n      <td>0</td>\n      <td>2020-10-14 16:30:00</td>\n      <td>120.250000</td>\n      <td>120.769897</td>\n      <td>120.000000</td>\n      <td>120.139999</td>\n      <td>15375733.0</td>\n      <td>38.125346</td>\n    </tr>\n    <tr>\n      <th>...</th>\n      <td>...</td>\n      <td>...</td>\n      <td>...</td>\n      <td>...</td>\n      <td>...</td>\n      <td>...</td>\n      <td>...</td>\n      <td>...</td>\n      <td>...</td>\n    </tr>\n    <tr>\n      <th>390</th>\n      <td>1609432200</td>\n      <td>0</td>\n      <td>2020-12-31 16:30:00</td>\n      <td>132.529998</td>\n      <td>132.800003</td>\n      <td>131.720001</td>\n      <td>132.619995</td>\n      <td>13538948.0</td>\n      <td>40.278164</td>\n    </tr>\n    <tr>\n      <th>391</th>\n      <td>1609435800</td>\n      <td>0</td>\n      <td>2020-12-31 17:30:00</td>\n      <td>132.619995</td>\n      <td>132.717605</td>\n      <td>132.310104</td>\n      <td>132.560806</td>\n      <td>7474176.0</td>\n      <td>39.901949</td>\n    </tr>\n    <tr>\n      <th>392</th>\n      <td>1609439400</td>\n      <td>0</td>\n      <td>2020-12-31 18:30:00</td>\n      <td>132.565002</td>\n      <td>132.889999</td>\n      <td>132.009994</td>\n      <td>132.764999</td>\n      <td>9408857.0</td>\n      <td>41.917511</td>\n    </tr>\n    <tr>\n      <th>393</th>\n      <td>1609443000</td>\n      <td>0</td>\n      <td>2020-12-31 19:30:00</td>\n      <td>132.770004</td>\n      <td>133.179992</td>\n      <td>132.565994</td>\n      <td>132.800003</td>\n      <td>10147999.0</td>\n      <td>42.274917</td>\n    </tr>\n    <tr>\n      <th>394</th>\n      <td>1609446600</td>\n      <td>0</td>\n      <td>2020-12-31 20:30:00</td>\n      <td>132.794998</td>\n      <td>133.330001</td>\n      <td>132.449996</td>\n      <td>132.580001</td>\n      <td>11777361.0</td>\n      <td>40.584587</td>\n    </tr>\n  </tbody>\n</table>\n<p>367 rows × 9 columns</p>\n</div>"
     },
     "execution_count": 10,
     "metadata": {},
     "output_type": "execute_result"
    }
   ],
   "source": [
    "data = pd.read_csv(\"../../../data/aapl_1m_train.csv\")\n",
    "rsi_data = ta.momentum.RSIIndicator(data.Close, window=14)\n",
    "data[\"RSI\"] = rsi_data.rsi()\n",
    "data = data.dropna()\n",
    "data"
   ]
  },
  {
   "cell_type": "code",
   "execution_count": 11,
   "id": "4bb82016",
   "metadata": {
    "ExecuteTime": {
     "end_time": "2024-02-26T04:46:55.320462500Z",
     "start_time": "2024-02-26T04:46:55.187631600Z"
    }
   },
   "outputs": [],
   "source": [
    "def def_trading_strategy(data, n_shares, stop_loss_close, take_profit_close, Umbral):\n",
    "    cash= 1_000_000\n",
    "    com = 0.125/100\n",
    "    history = []\n",
    "    portfolio_value = []\n",
    "    active_operations = []\n",
    "    total_profit_loss = 0\n",
    "\n",
    "    for i, row in data.iterrows():\n",
    "        # Close active operation\n",
    "        active_op_temp = []\n",
    "        for operation in active_operations:\n",
    "            if operation[\"stop_loss\"] > row.Close:\n",
    "                cash += (row.Close * operation[\"n_shares\"]) * (1 - com)\n",
    "                # Calcular la ganancia o pérdida y actualizar el total\n",
    "                profit_loss = (row.Close * operation[\"n_shares\"]) * (1 - com) - (operation[\"bought\"] * operation[\"n_shares\"])\n",
    "                total_profit_loss += profit_loss\n",
    "                history.append({\"timestamp\": row.Timestamp, \"profit_loss\": profit_loss})\n",
    "            elif operation[\"take_profit\"] < row.Close:\n",
    "                cash += (row.Close * operation[\"n_shares\"]) * (1 - com)\n",
    "                # Calcular la ganancia o pérdida y actualizar el total\n",
    "                profit_loss = (row.Close * operation[\"n_shares\"]) * (1 - com) - (operation[\"bought\"] * operation[\"n_shares\"])\n",
    "                total_profit_loss += profit_loss\n",
    "                history.append({\"timestamp\": row.Timestamp, \"profit_loss\": profit_loss})\n",
    "            else:\n",
    "                active_op_temp.append(operation)\n",
    "        active_operations = active_op_temp\n",
    "            \n",
    "        # ¿Tenemos suficiente efectivo?\n",
    "        if cash < (row.Close * n_shares * (1 + com)):\n",
    "            asset_vals = sum([operation[\"n_shares\"] * row.Close for operation in active_operations])\n",
    "            portfolio_value.append(cash + asset_vals)\n",
    "            continue\n",
    "        \n",
    "        # Analizar la señal larga\n",
    "        if row.RSI <= Umbral:  # If ceil(Op)\n",
    "            active_operations.append({\n",
    "                \"timestamp\": row.Timestamp,\n",
    "                \"bought\": row.Close,\n",
    "                \"n_shares\": n_shares,\n",
    "                \"type\": \"long\",\n",
    "                \"stop_loss\": row.Close * stop_loss_close,\n",
    "                \"take_profit\": row.Close * take_profit_close\n",
    "            })\n",
    "            cash -= row.Close * n_shares * (1 + com)\n",
    "        \n",
    "        asset_vals = sum([operation[\"n_shares\"] * row.Close for operation in active_operations])\n",
    "        portfolio_value.append(cash + asset_vals)\n",
    "    \n",
    "    return total_profit_loss\n"
   ]
  },
  {
   "cell_type": "code",
   "execution_count": 12,
   "id": "416d31f6",
   "metadata": {
    "ExecuteTime": {
     "end_time": "2024-02-26T04:46:58.094195400Z",
     "start_time": "2024-02-26T04:46:55.275488200Z"
    }
   },
   "outputs": [
    {
     "name": "stderr",
     "output_type": "stream",
     "text": [
      "[I 2024-02-25 22:46:55,286] A new study created in memory with name: no-name-8cc39087-e776-41f1-95b4-bfea720bb9ed\n",
      "C:\\Users\\DELL\\AppData\\Local\\Temp\\ipykernel_2564\\98014024.py:6: FutureWarning: suggest_uniform has been deprecated in v3.0.0. This feature will be removed in v6.0.0. See https://github.com/optuna/optuna/releases/tag/v3.0.0. Use suggest_float instead.\n",
      "  stop_loss_close = trial.suggest_uniform('stop_loss_close', 0.80, 1)\n",
      "C:\\Users\\DELL\\AppData\\Local\\Temp\\ipykernel_2564\\98014024.py:7: FutureWarning: suggest_uniform has been deprecated in v3.0.0. This feature will be removed in v6.0.0. See https://github.com/optuna/optuna/releases/tag/v3.0.0. Use suggest_float instead.\n",
      "  take_profit_close = trial.suggest_uniform('take_profit_close', 1, 1.5)\n",
      "C:\\Users\\DELL\\AppData\\Local\\Temp\\ipykernel_2564\\98014024.py:8: FutureWarning: suggest_uniform has been deprecated in v3.0.0. This feature will be removed in v6.0.0. See https://github.com/optuna/optuna/releases/tag/v3.0.0. Use suggest_float instead.\n",
      "  Umbral = trial.suggest_uniform('Umbral', 0, 30)\n",
      "[I 2024-02-25 22:46:55,392] Trial 0 finished with value: 0.0 and parameters: {'n_shares': 33, 'stop_loss_close': 0.8378397415842248, 'take_profit_close': 1.2898761933786687, 'Umbral': 4.878012584874092}. Best is trial 0 with value: 0.0.\n",
      "[I 2024-02-25 22:46:55,571] Trial 1 finished with value: 0.0 and parameters: {'n_shares': 46, 'stop_loss_close': 0.9540177340704278, 'take_profit_close': 1.4953685952759843, 'Umbral': 0.39930339091805434}. Best is trial 0 with value: 0.0.\n",
      "[I 2024-02-25 22:46:55,868] Trial 2 finished with value: 6391.647977083757 and parameters: {'n_shares': 43, 'stop_loss_close': 0.9515588479391385, 'take_profit_close': 1.1538844302962703, 'Umbral': 25.328659042042485}. Best is trial 2 with value: 6391.647977083757.\n",
      "[I 2024-02-25 22:46:56,003] Trial 3 finished with value: 0.0 and parameters: {'n_shares': 9, 'stop_loss_close': 0.8907044698253725, 'take_profit_close': 1.249921075071922, 'Umbral': 20.59295568980024}. Best is trial 2 with value: 6391.647977083757.\n",
      "[I 2024-02-25 22:46:56,074] Trial 4 finished with value: 0.0 and parameters: {'n_shares': 40, 'stop_loss_close': 0.867396715988948, 'take_profit_close': 1.25782382972248, 'Umbral': 4.535375367242093}. Best is trial 2 with value: 6391.647977083757.\n",
      "[I 2024-02-25 22:46:56,111] Trial 5 finished with value: 0.0 and parameters: {'n_shares': 49, 'stop_loss_close': 0.9368106240072831, 'take_profit_close': 1.305018071419204, 'Umbral': 11.797986223154286}. Best is trial 2 with value: 6391.647977083757.\n",
      "[I 2024-02-25 22:46:56,161] Trial 6 finished with value: 0.0 and parameters: {'n_shares': 43, 'stop_loss_close': 0.9345190273298618, 'take_profit_close': 1.0240053876203061, 'Umbral': 12.972776201933755}. Best is trial 2 with value: 6391.647977083757.\n",
      "[I 2024-02-25 22:46:56,219] Trial 7 finished with value: 0.0 and parameters: {'n_shares': 35, 'stop_loss_close': 0.8638503056380956, 'take_profit_close': 1.226677095697621, 'Umbral': 15.625600020444974}. Best is trial 2 with value: 6391.647977083757.\n",
      "[I 2024-02-25 22:46:56,345] Trial 8 finished with value: 0.0 and parameters: {'n_shares': 46, 'stop_loss_close': 0.92569450830761, 'take_profit_close': 1.308333903727122, 'Umbral': 16.660661810090758}. Best is trial 2 with value: 6391.647977083757.\n",
      "[I 2024-02-25 22:46:56,466] Trial 9 finished with value: 0.0 and parameters: {'n_shares': 27, 'stop_loss_close': 0.9884399467583806, 'take_profit_close': 1.3056494495089255, 'Umbral': 6.400203606669156}. Best is trial 2 with value: 6391.647977083757.\n",
      "[I 2024-02-25 22:46:56,630] Trial 10 finished with value: -83.29252757999939 and parameters: {'n_shares': 16, 'stop_loss_close': 0.9981752085337569, 'take_profit_close': 1.0623110239967444, 'Umbral': 29.761673628280754}. Best is trial 2 with value: 6391.647977083757.\n",
      "[I 2024-02-25 22:46:56,872] Trial 11 finished with value: 4822.123056487504 and parameters: {'n_shares': 30, 'stop_loss_close': 0.8057929956618404, 'take_profit_close': 1.1395144651894187, 'Umbral': 25.24166315784441}. Best is trial 2 with value: 6391.647977083757.\n",
      "[I 2024-02-25 22:46:57,098] Trial 12 finished with value: 4484.490593927504 and parameters: {'n_shares': 26, 'stop_loss_close': 0.8347273326159107, 'take_profit_close': 1.134305199257331, 'Umbral': 27.147044234580257}. Best is trial 2 with value: 6391.647977083757.\n",
      "[I 2024-02-25 22:46:57,208] Trial 13 finished with value: 1083.948016545 and parameters: {'n_shares': 18, 'stop_loss_close': 0.8181437276466187, 'take_profit_close': 1.123654136200048, 'Umbral': 23.72645333257395}. Best is trial 2 with value: 6391.647977083757.\n",
      "[I 2024-02-25 22:46:57,321] Trial 14 finished with value: 2013.7398922812513 and parameters: {'n_shares': 35, 'stop_loss_close': 0.8009152021692548, 'take_profit_close': 1.1619873680799457, 'Umbral': 22.641931868193897}. Best is trial 2 with value: 6391.647977083757.\n",
      "[I 2024-02-25 22:46:57,490] Trial 15 finished with value: -21.345785497500003 and parameters: {'n_shares': 2, 'stop_loss_close': 0.9722919382553225, 'take_profit_close': 1.4003889236833906, 'Umbral': 26.00824282266696}. Best is trial 2 with value: 6391.647977083757.\n",
      "[I 2024-02-25 22:46:57,619] Trial 16 finished with value: 387.7832361187502 and parameters: {'n_shares': 19, 'stop_loss_close': 0.8965132888551642, 'take_profit_close': 1.1792253517658167, 'Umbral': 19.846904045172565}. Best is trial 2 with value: 6391.647977083757.\n",
      "[I 2024-02-25 22:46:57,783] Trial 17 finished with value: 3424.442580900001 and parameters: {'n_shares': 30, 'stop_loss_close': 0.9213392959392421, 'take_profit_close': 1.0742004082847647, 'Umbral': 29.182878195120004}. Best is trial 2 with value: 6391.647977083757.\n",
      "[I 2024-02-25 22:46:57,918] Trial 18 finished with value: 0.0 and parameters: {'n_shares': 39, 'stop_loss_close': 0.958183065027546, 'take_profit_close': 1.083963571890673, 'Umbral': 17.966514580660604}. Best is trial 2 with value: 6391.647977083757.\n",
      "[I 2024-02-25 22:46:58,080] Trial 19 finished with value: 2480.4564875475 and parameters: {'n_shares': 22, 'stop_loss_close': 0.8640147353764728, 'take_profit_close': 1.1968350138971529, 'Umbral': 24.48879267501665}. Best is trial 2 with value: 6391.647977083757.\n"
     ]
    },
    {
     "name": "stdout",
     "output_type": "stream",
     "text": [
      "Mejores parámetros encontrados:\n",
      "{'n_shares': 43, 'stop_loss_close': 0.9515588479391385, 'take_profit_close': 1.1538844302962703, 'Umbral': 25.328659042042485}\n",
      "Rendimiento (Profit/Loss): 6391.647977083757\n"
     ]
    }
   ],
   "source": [
    "import optuna\n",
    "\n",
    "def objective(trial):\n",
    "    # Define los rangos de búsqueda para los parámetros\n",
    "    n_shares = trial.suggest_int('n_shares', 1, 50)\n",
    "    stop_loss_close = trial.suggest_uniform('stop_loss_close', 0.80, 1)\n",
    "    take_profit_close = trial.suggest_uniform('take_profit_close', 1, 1.5)\n",
    "    Umbral = trial.suggest_uniform('Umbral', 0, 30)\n",
    "\n",
    "    # Evalúa la función de trading con los parámetros sugeridos\n",
    "    profit_loss = def_trading_strategy(data, n_shares, stop_loss_close, take_profit_close, Umbral)\n",
    "    \n",
    "    return profit_loss  # Devuelve la métrica que se debe minimizar/maximizar\n",
    "\n",
    "# Crea un estudio Optuna\n",
    "study = optuna.create_study(direction='maximize')  # 'maximize' si se quiere maximizar la métrica\n",
    "\n",
    "# Ejecuta la optimización\n",
    "study.optimize(objective, n_trials=20)  # Puedes ajustar n_trials según tus recursos y tiempo disponible\n",
    "\n",
    "# Obtiene los mejores parámetros encontrados\n",
    "best_params = study.best_params\n",
    "best_profit_loss = study.best_value\n",
    "\n",
    "print(\"Mejores parámetros encontrados:\")\n",
    "print(best_params)\n",
    "print(\"Rendimiento (Profit/Loss):\", best_profit_loss)\n"
   ]
  },
  {
   "cell_type": "code",
   "outputs": [],
   "source": [
    "# Condiciones para comprar y vender\n",
    "condicion_compra = data[\"RSI\"] <= -1.5\n",
    "condicion_venta = data[\"RSI\"] > 1.1\n",
    "\n",
    "# Aplicando las condiciones para obtener señales de compra y venta\n",
    "data['Senal_RSI'] = ''\n",
    "data.loc[condicion_compra, 'Senal_RSI'] = 'Compra'\n",
    "data.loc[condicion_venta, 'Senal_RSI'] = 'Venta'\n",
    "data.to_excel('../../../data/1m/RSI_BOS.xlsx', index=False)"
   ],
   "metadata": {
    "collapsed": false,
    "ExecuteTime": {
     "end_time": "2024-02-26T04:46:59.365701400Z",
     "start_time": "2024-02-26T04:46:58.096193800Z"
    }
   },
   "id": "3fe7c09cf26f1bcb",
   "execution_count": 13
  }
 ],
 "metadata": {
  "kernelspec": {
   "display_name": "Python 3 (ipykernel)",
   "language": "python",
   "name": "python3"
  },
  "language_info": {
   "codemirror_mode": {
    "name": "ipython",
    "version": 3
   },
   "file_extension": ".py",
   "mimetype": "text/x-python",
   "name": "python",
   "nbconvert_exporter": "python",
   "pygments_lexer": "ipython3",
   "version": "3.11.5"
  }
 },
 "nbformat": 4,
 "nbformat_minor": 5
}
