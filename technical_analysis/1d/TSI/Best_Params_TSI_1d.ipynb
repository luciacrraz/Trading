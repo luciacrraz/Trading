{
 "cells": [
  {
   "cell_type": "code",
   "execution_count": 13,
   "id": "45c74508",
   "metadata": {
    "ExecuteTime": {
     "end_time": "2024-02-26T03:44:58.696694Z",
     "start_time": "2024-02-26T03:44:58.688990Z"
    }
   },
   "outputs": [],
   "source": [
    "import pandas as pd\n",
    "import numpy as np\n",
    "import matplotlib.pyplot as plt\n",
    "import ta"
   ]
  },
  {
   "cell_type": "code",
   "execution_count": 14,
   "id": "efb24854",
   "metadata": {
    "ExecuteTime": {
     "end_time": "2024-02-26T03:44:58.711490Z",
     "start_time": "2024-02-26T03:44:58.695099Z"
    }
   },
   "outputs": [],
   "source": [
    "data = pd.read_csv(\"../../../data/aapl_1d_train.csv\")\n",
    "tsi_data = ta.momentum.TSIIndicator(data.Close, window_slow = 25, window_fast = 13)\n",
    "data[\"TSI\"] = tsi_data.tsi()\n",
    "data = data.dropna()"
   ]
  },
  {
   "cell_type": "code",
   "execution_count": 15,
   "id": "05591dab",
   "metadata": {
    "ExecuteTime": {
     "end_time": "2024-02-26T03:44:58.723381Z",
     "start_time": "2024-02-26T03:44:58.718105Z"
    }
   },
   "outputs": [],
   "source": [
    "def def_trading_strategy(data, n_shares, stop_loss_close, take_profit_close, Umbral):\n",
    "    cash= 1_000_000\n",
    "    com = 0.125/100\n",
    "    history = []\n",
    "    portfolio_value = []\n",
    "    active_operations = []\n",
    "    total_profit_loss = 0\n",
    "\n",
    "    for i, row in data.iterrows():\n",
    "        # Close active operation\n",
    "        active_op_temp = []\n",
    "        for operation in active_operations:\n",
    "            if operation[\"stop_loss\"] > row.Close:\n",
    "                cash += (row.Close * operation[\"n_shares\"]) * (1 - com)\n",
    "                # Calcular la ganancia o pérdida y actualizar el total\n",
    "                profit_loss = (row.Close * operation[\"n_shares\"]) * (1 - com) - (operation[\"bought\"] * operation[\"n_shares\"])\n",
    "                total_profit_loss += profit_loss\n",
    "                history.append({\"profit_loss\": profit_loss})\n",
    "            elif operation[\"take_profit\"] < row.Close:\n",
    "                cash += (row.Close * operation[\"n_shares\"]) * (1 - com)\n",
    "                # Calcular la ganancia o pérdida y actualizar el total\n",
    "                profit_loss = (row.Close * operation[\"n_shares\"]) * (1 - com) - (operation[\"bought\"] * operation[\"n_shares\"])\n",
    "                total_profit_loss += profit_loss\n",
    "                history.append({\"profit_loss\": profit_loss})\n",
    "            else:\n",
    "                active_op_temp.append(operation)\n",
    "        active_operations = active_op_temp\n",
    "            \n",
    "        # ¿Tenemos suficiente efectivo?\n",
    "        if cash < (row.Close * n_shares * (1 + com)):\n",
    "            asset_vals = sum([operation[\"n_shares\"] * row.Close for operation in active_operations])\n",
    "            portfolio_value.append(cash + asset_vals)\n",
    "            continue\n",
    "        \n",
    "        # Analizar la señal larga\n",
    "        if row.TSI <= Umbral:  # If ceil(Op)\n",
    "            active_operations.append({\n",
    "                \"bought\": row.Close,\n",
    "                \"n_shares\": n_shares,\n",
    "                \"type\": \"long\",\n",
    "                \"stop_loss\": row.Close * stop_loss_close,\n",
    "                \"take_profit\": row.Close * take_profit_close\n",
    "            })\n",
    "            cash -= row.Adjusted_close * n_shares * (1 + com)\n",
    "        \n",
    "        asset_vals = sum([operation[\"n_shares\"] * row.Close for operation in active_operations])\n",
    "        portfolio_value.append(cash + asset_vals)\n",
    "    \n",
    "    return total_profit_loss"
   ]
  },
  {
   "cell_type": "code",
   "execution_count": 16,
   "id": "1b913ae5",
   "metadata": {
    "ExecuteTime": {
     "end_time": "2024-02-26T03:45:16.175050Z",
     "start_time": "2024-02-26T03:44:58.729221Z"
    }
   },
   "outputs": [
    {
     "name": "stderr",
     "output_type": "stream",
     "text": [
      "[I 2024-02-25 21:44:58,726] A new study created in memory with name: no-name-7e80b4fc-5dab-4319-a0ad-9196a29bb3a3\n",
      "/var/folders/x7/frl5my251vx198wg4w_ndzxh0000gn/T/ipykernel_17337/1458817067.py:6: FutureWarning: suggest_uniform has been deprecated in v3.0.0. This feature will be removed in v6.0.0. See https://github.com/optuna/optuna/releases/tag/v3.0.0. Use suggest_float instead.\n",
      "  stop_loss_close = trial.suggest_uniform('stop_loss_close', 0.80, 1)\n",
      "/var/folders/x7/frl5my251vx198wg4w_ndzxh0000gn/T/ipykernel_17337/1458817067.py:7: FutureWarning: suggest_uniform has been deprecated in v3.0.0. This feature will be removed in v6.0.0. See https://github.com/optuna/optuna/releases/tag/v3.0.0. Use suggest_float instead.\n",
      "  take_profit_close = trial.suggest_uniform('take_profit_close', 1, 1.5)\n",
      "/var/folders/x7/frl5my251vx198wg4w_ndzxh0000gn/T/ipykernel_17337/1458817067.py:8: FutureWarning: suggest_uniform has been deprecated in v3.0.0. This feature will be removed in v6.0.0. See https://github.com/optuna/optuna/releases/tag/v3.0.0. Use suggest_float instead.\n",
      "  Umbral = trial.suggest_uniform('Umbral', -40, 10)\n",
      "[I 2024-02-25 21:44:59,046] Trial 0 finished with value: 70910.73113250002 and parameters: {'n_shares': 35, 'stop_loss_close': 0.8425386680667742, 'take_profit_close': 1.1625672507548086, 'Umbral': -28.016497453763915}. Best is trial 0 with value: 70910.73113250002.\n",
      "[I 2024-02-25 21:45:00,365] Trial 1 finished with value: 662169.7580190004 and parameters: {'n_shares': 22, 'stop_loss_close': 0.8449686061765779, 'take_profit_close': 1.1545072636805531, 'Umbral': 6.904370734778794}. Best is trial 1 with value: 662169.7580190004.\n",
      "[I 2024-02-25 21:45:00,678] Trial 2 finished with value: 66191.984325 and parameters: {'n_shares': 27, 'stop_loss_close': 0.8197038326725457, 'take_profit_close': 1.344072097832788, 'Umbral': -38.051330522287}. Best is trial 1 with value: 662169.7580190004.\n",
      "[I 2024-02-25 21:45:02,742] Trial 3 finished with value: 482283.52064199996 and parameters: {'n_shares': 28, 'stop_loss_close': 0.8766256634912806, 'take_profit_close': 1.471210712359665, 'Umbral': -3.7250853267379256}. Best is trial 1 with value: 662169.7580190004.\n",
      "[I 2024-02-25 21:45:03,044] Trial 4 finished with value: 69360.28814050014 and parameters: {'n_shares': 49, 'stop_loss_close': 0.9315948691474596, 'take_profit_close': 1.1572419525947195, 'Umbral': -20.191972390074657}. Best is trial 1 with value: 662169.7580190004.\n",
      "[I 2024-02-25 21:45:03,836] Trial 5 finished with value: 166411.0207320003 and parameters: {'n_shares': 33, 'stop_loss_close': 0.8896734705535423, 'take_profit_close': 1.3691039025290626, 'Umbral': -15.82727710225089}. Best is trial 1 with value: 662169.7580190004.\n",
      "[I 2024-02-25 21:45:04,642] Trial 6 finished with value: 479736.2665800001 and parameters: {'n_shares': 45, 'stop_loss_close': 0.827199705935443, 'take_profit_close': 1.4095595181069722, 'Umbral': -22.95966898031698}. Best is trial 1 with value: 662169.7580190004.\n",
      "[I 2024-02-25 21:45:05,065] Trial 7 finished with value: 40768.84793800001 and parameters: {'n_shares': 14, 'stop_loss_close': 0.8277671843328694, 'take_profit_close': 1.4188559814943522, 'Umbral': -39.564602727456766}. Best is trial 1 with value: 662169.7580190004.\n",
      "[I 2024-02-25 21:45:05,357] Trial 8 finished with value: 91167.53501249998 and parameters: {'n_shares': 45, 'stop_loss_close': 0.9162484425943731, 'take_profit_close': 1.2748155978133018, 'Umbral': -31.27501627384781}. Best is trial 1 with value: 662169.7580190004.\n",
      "[I 2024-02-25 21:45:05,806] Trial 9 finished with value: 7050.091950000008 and parameters: {'n_shares': 3, 'stop_loss_close': 0.9406288335494782, 'take_profit_close': 1.2722673262739188, 'Umbral': -16.87812918601282}. Best is trial 1 with value: 662169.7580190004.\n",
      "[I 2024-02-25 21:45:06,057] Trial 10 finished with value: 3355.0110640001917 and parameters: {'n_shares': 16, 'stop_loss_close': 0.9918314855709272, 'take_profit_close': 1.0443076541740042, 'Umbral': 8.722144741940296}. Best is trial 1 with value: 662169.7580190004.\n",
      "[I 2024-02-25 21:45:08,277] Trial 11 finished with value: 256178.80341000084 and parameters: {'n_shares': 18, 'stop_loss_close': 0.8728166425518419, 'take_profit_close': 1.4735099655444583, 'Umbral': -0.14941862919655513}. Best is trial 1 with value: 662169.7580190004.\n",
      "[I 2024-02-25 21:45:08,917] Trial 12 finished with value: 236217.87859800004 and parameters: {'n_shares': 26, 'stop_loss_close': 0.8659619612701368, 'take_profit_close': 1.1376350099660764, 'Umbral': -4.774319491473736}. Best is trial 1 with value: 662169.7580190004.\n",
      "[I 2024-02-25 21:45:09,242] Trial 13 finished with value: 42917.912292000234 and parameters: {'n_shares': 34, 'stop_loss_close': 0.8620445760275574, 'take_profit_close': 1.0393483640875596, 'Umbral': -5.180016856724823}. Best is trial 1 with value: 662169.7580190004.\n",
      "[I 2024-02-25 21:45:10,573] Trial 14 finished with value: 165383.78696000043 and parameters: {'n_shares': 7, 'stop_loss_close': 0.8966775034858246, 'take_profit_close': 1.2137365108826743, 'Umbral': 7.983484571595419}. Best is trial 1 with value: 662169.7580190004.\n",
      "[I 2024-02-25 21:45:11,836] Trial 15 finished with value: -14045.118768999735 and parameters: {'n_shares': 22, 'stop_loss_close': 0.9629355143736078, 'take_profit_close': 1.487975443697374, 'Umbral': 1.7449636769488306}. Best is trial 1 with value: 662169.7580190004.\n",
      "[I 2024-02-25 21:45:12,291] Trial 16 finished with value: 26943.535971000016 and parameters: {'n_shares': 11, 'stop_loss_close': 0.84783749116472, 'take_profit_close': 1.092954467350181, 'Umbral': -9.0601986071732}. Best is trial 1 with value: 662169.7580190004.\n",
      "[I 2024-02-25 21:45:13,791] Trial 17 finished with value: 449191.7075380008 and parameters: {'n_shares': 28, 'stop_loss_close': 0.8121244815704335, 'take_profit_close': 1.2212670022494776, 'Umbral': 2.10232238786773}. Best is trial 1 with value: 662169.7580190004.\n",
      "[I 2024-02-25 21:45:15,115] Trial 18 finished with value: 552134.8577260002 and parameters: {'n_shares': 38, 'stop_loss_close': 0.8002597013254129, 'take_profit_close': 1.3357296237368066, 'Umbral': -9.301470049281372}. Best is trial 1 with value: 662169.7580190004.\n",
      "[I 2024-02-25 21:45:16,166] Trial 19 finished with value: 491598.3949599999 and parameters: {'n_shares': 40, 'stop_loss_close': 0.8060243361870034, 'take_profit_close': 1.316780218660922, 'Umbral': -12.895084446137824}. Best is trial 1 with value: 662169.7580190004.\n"
     ]
    },
    {
     "name": "stdout",
     "output_type": "stream",
     "text": [
      "Mejores parámetros encontrados:\n",
      "{'n_shares': 22, 'stop_loss_close': 0.8449686061765779, 'take_profit_close': 1.1545072636805531, 'Umbral': 6.904370734778794}\n",
      "Rendimiento (Profit/Loss): 662169.7580190004\n"
     ]
    }
   ],
   "source": [
    "import optuna\n",
    "\n",
    "def objective(trial):\n",
    "    # Define los rangos de búsqueda para los parámetros\n",
    "    n_shares = trial.suggest_int('n_shares', 1, 50)\n",
    "    stop_loss_close = trial.suggest_uniform('stop_loss_close', 0.80, 1)\n",
    "    take_profit_close = trial.suggest_uniform('take_profit_close', 1, 1.5)\n",
    "    Umbral = trial.suggest_uniform('Umbral', -40, 10)\n",
    "\n",
    "    # Evalúa la función de trading con los parámetros sugeridos\n",
    "    profit_loss = def_trading_strategy(data, n_shares, stop_loss_close, take_profit_close, Umbral)\n",
    "    \n",
    "    return profit_loss  # Devuelve la métrica que se debe minimizar/maximizar\n",
    "\n",
    "# Crea un estudio Optuna\n",
    "study = optuna.create_study(direction='maximize')  # 'maximize' si se quiere maximizar la métrica\n",
    "\n",
    "# Ejecuta la optimización\n",
    "study.optimize(objective, n_trials=20)  # Puedes ajustar n_trials según tus recursos y tiempo disponible\n",
    "\n",
    "# Obtiene los mejores parámetros encontrados\n",
    "best_params = study.best_params\n",
    "best_profit_loss = study.best_value\n",
    "\n",
    "print(\"Mejores parámetros encontrados:\")\n",
    "print(best_params)\n",
    "print(\"Rendimiento (Profit/Loss):\", best_profit_loss)\n"
   ]
  },
  {
   "cell_type": "code",
   "execution_count": 17,
   "id": "dbe172ec",
   "metadata": {
    "ExecuteTime": {
     "end_time": "2024-02-26T03:45:16.945568Z",
     "start_time": "2024-02-26T03:45:16.177285Z"
    }
   },
   "outputs": [],
   "source": [
    "# Condiciones para comprar y vender\n",
    "condicion_compra = data[\"TSI\"] <= -32\n",
    "condicion_venta = data[\"TSI\"] > 30\n",
    "\n",
    "# Aplicando las condiciones para obtener señales de compra y venta\n",
    "data['Senal_TSI'] = ''\n",
    "data.loc[condicion_compra, 'Senal_TSI'] = 'Compra'\n",
    "data.loc[condicion_venta, 'Senal_TSI'] = 'Venta'\n",
    "data.to_excel('../../../data/1d/TSI_BOS.xlsx', index=False)"
   ]
  },
  {
   "cell_type": "code",
   "execution_count": 17,
   "id": "2c21c10f",
   "metadata": {
    "ExecuteTime": {
     "end_time": "2024-02-26T03:45:16.946489Z",
     "start_time": "2024-02-26T03:45:16.945180Z"
    }
   },
   "outputs": [],
   "source": []
  }
 ],
 "metadata": {
  "kernelspec": {
   "display_name": "Python 3 (ipykernel)",
   "language": "python",
   "name": "python3"
  },
  "language_info": {
   "codemirror_mode": {
    "name": "ipython",
    "version": 3
   },
   "file_extension": ".py",
   "mimetype": "text/x-python",
   "name": "python",
   "nbconvert_exporter": "python",
   "pygments_lexer": "ipython3",
   "version": "3.11.4"
  }
 },
 "nbformat": 4,
 "nbformat_minor": 5
}
