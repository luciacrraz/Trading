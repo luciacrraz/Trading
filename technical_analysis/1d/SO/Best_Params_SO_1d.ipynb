{
 "cells": [
  {
   "cell_type": "code",
   "execution_count": 1,
   "id": "45c74508",
   "metadata": {
    "ExecuteTime": {
     "end_time": "2024-02-26T03:43:16.324123Z",
     "start_time": "2024-02-26T03:43:14.966663Z"
    }
   },
   "outputs": [
    {
     "name": "stdout",
     "output_type": "stream",
     "text": [
      "Intel MKL WARNING: Support of Intel(R) Streaming SIMD Extensions 4.2 (Intel(R) SSE4.2) enabled only processors has been deprecated. Intel oneAPI Math Kernel Library 2025.0 will require Intel(R) Advanced Vector Extensions (Intel(R) AVX) instructions.\n",
      "Intel MKL WARNING: Support of Intel(R) Streaming SIMD Extensions 4.2 (Intel(R) SSE4.2) enabled only processors has been deprecated. Intel oneAPI Math Kernel Library 2025.0 will require Intel(R) Advanced Vector Extensions (Intel(R) AVX) instructions.\n"
     ]
    }
   ],
   "source": [
    "import pandas as pd\n",
    "import numpy as np\n",
    "import matplotlib.pyplot as plt\n",
    "import ta"
   ]
  },
  {
   "cell_type": "code",
   "execution_count": 2,
   "id": "efb24854",
   "metadata": {
    "ExecuteTime": {
     "end_time": "2024-02-26T03:43:16.335244Z",
     "start_time": "2024-02-26T03:43:16.324045Z"
    }
   },
   "outputs": [],
   "source": [
    "data = pd.read_csv(\"../../../data/aapl_1d_train.csv\")\n",
    "so_data = ta.momentum.StochasticOscillator(data.High, data.Low, data.Close, window = 14, smooth_window = 3)\n",
    "data[\"SO\"] = so_data.stoch()\n",
    "data = data.dropna()"
   ]
  },
  {
   "cell_type": "code",
   "execution_count": 3,
   "id": "05591dab",
   "metadata": {
    "ExecuteTime": {
     "end_time": "2024-02-26T03:43:16.342691Z",
     "start_time": "2024-02-26T03:43:16.335845Z"
    }
   },
   "outputs": [],
   "source": [
    "def def_trading_strategy(data, n_shares, stop_loss_close, take_profit_close, Umbral):\n",
    "    cash= 1_000_000\n",
    "    com = 0.125/100\n",
    "    history = []\n",
    "    portfolio_value = []\n",
    "    active_operations = []\n",
    "    total_profit_loss = 0\n",
    "\n",
    "    for i, row in data.iterrows():\n",
    "        # Close active operation\n",
    "        active_op_temp = []\n",
    "        for operation in active_operations:\n",
    "            if operation[\"stop_loss\"] > row.Close:\n",
    "                cash += (row.Close * operation[\"n_shares\"]) * (1 - com)\n",
    "                # Calcular la ganancia o pérdida y actualizar el total\n",
    "                profit_loss = (row.Close * operation[\"n_shares\"]) * (1 - com) - (operation[\"bought\"] * operation[\"n_shares\"])\n",
    "                total_profit_loss += profit_loss\n",
    "                history.append({\"profit_loss\": profit_loss})\n",
    "            elif operation[\"take_profit\"] < row.Close:\n",
    "                cash += (row.Close * operation[\"n_shares\"]) * (1 - com)\n",
    "                # Calcular la ganancia o pérdida y actualizar el total\n",
    "                profit_loss = (row.Close * operation[\"n_shares\"]) * (1 - com) - (operation[\"bought\"] * operation[\"n_shares\"])\n",
    "                total_profit_loss += profit_loss\n",
    "                history.append({\"profit_loss\": profit_loss})\n",
    "            else:\n",
    "                active_op_temp.append(operation)\n",
    "        active_operations = active_op_temp\n",
    "            \n",
    "        # ¿Tenemos suficiente efectivo?\n",
    "        if cash < (row.Close * n_shares * (1 + com)):\n",
    "            asset_vals = sum([operation[\"n_shares\"] * row.Close for operation in active_operations])\n",
    "            portfolio_value.append(cash + asset_vals)\n",
    "            continue\n",
    "        \n",
    "        # Analizar la señal larga\n",
    "        if row.SO <= Umbral:  # If ceil(Op)\n",
    "            active_operations.append({\n",
    "                \"bought\": row.Close,\n",
    "                \"n_shares\": n_shares,\n",
    "                \"type\": \"long\",\n",
    "                \"stop_loss\": row.Close * stop_loss_close,\n",
    "                \"take_profit\": row.Close * take_profit_close\n",
    "            })\n",
    "            cash -= row.Adjusted_close * n_shares * (1 + com)\n",
    "        \n",
    "        asset_vals = sum([operation[\"n_shares\"] * row.Close for operation in active_operations])\n",
    "        portfolio_value.append(cash + asset_vals)\n",
    "    \n",
    "    return total_profit_loss"
   ]
  },
  {
   "cell_type": "code",
   "execution_count": 4,
   "id": "1b913ae5",
   "metadata": {
    "ExecuteTime": {
     "end_time": "2024-02-26T03:43:26.490700Z",
     "start_time": "2024-02-26T03:43:16.349136Z"
    }
   },
   "outputs": [
    {
     "name": "stderr",
     "output_type": "stream",
     "text": [
      "[I 2024-02-25 21:43:16,563] A new study created in memory with name: no-name-412c92fb-2c42-4942-a78e-1c16d92a7374\n",
      "/var/folders/x7/frl5my251vx198wg4w_ndzxh0000gn/T/ipykernel_17327/2633116586.py:6: FutureWarning: suggest_uniform has been deprecated in v3.0.0. This feature will be removed in v6.0.0. See https://github.com/optuna/optuna/releases/tag/v3.0.0. Use suggest_float instead.\n",
      "  stop_loss_close = trial.suggest_uniform('stop_loss_close', 0.80, 1)\n",
      "/var/folders/x7/frl5my251vx198wg4w_ndzxh0000gn/T/ipykernel_17327/2633116586.py:7: FutureWarning: suggest_uniform has been deprecated in v3.0.0. This feature will be removed in v6.0.0. See https://github.com/optuna/optuna/releases/tag/v3.0.0. Use suggest_float instead.\n",
      "  take_profit_close = trial.suggest_uniform('take_profit_close', 1, 1.5)\n",
      "/var/folders/x7/frl5my251vx198wg4w_ndzxh0000gn/T/ipykernel_17327/2633116586.py:8: FutureWarning: suggest_uniform has been deprecated in v3.0.0. This feature will be removed in v6.0.0. See https://github.com/optuna/optuna/releases/tag/v3.0.0. Use suggest_float instead.\n",
      "  Umbral = trial.suggest_uniform('Umbral', 0, 20)\n",
      "[I 2024-02-25 21:43:16,812] Trial 0 finished with value: 22701.648020000008 and parameters: {'n_shares': 8, 'stop_loss_close': 0.916813660615067, 'take_profit_close': 1.2639612363904273, 'Umbral': 4.358213944293912}. Best is trial 0 with value: 22701.648020000008.\n",
      "[I 2024-02-25 21:43:17,764] Trial 1 finished with value: 118052.16800300014 and parameters: {'n_shares': 14, 'stop_loss_close': 0.8517499690390229, 'take_profit_close': 1.3774840654252025, 'Umbral': 14.016848936765403}. Best is trial 1 with value: 118052.16800300014.\n",
      "[I 2024-02-25 21:43:17,942] Trial 2 finished with value: 693.3804500000033 and parameters: {'n_shares': 35, 'stop_loss_close': 0.9331543526111648, 'take_profit_close': 1.0112161061151872, 'Umbral': 0.29716248134775025}. Best is trial 1 with value: 118052.16800300014.\n",
      "[I 2024-02-25 21:43:18,079] Trial 3 finished with value: 288.7092060000011 and parameters: {'n_shares': 4, 'stop_loss_close': 0.99266444263736, 'take_profit_close': 1.0554503477853898, 'Umbral': 1.3449409998275685}. Best is trial 1 with value: 118052.16800300014.\n",
      "[I 2024-02-25 21:43:18,212] Trial 4 finished with value: 4108.677382000002 and parameters: {'n_shares': 19, 'stop_loss_close': 0.940290080657637, 'take_profit_close': 1.0138838270460824, 'Umbral': 0.9273659986686833}. Best is trial 1 with value: 118052.16800300014.\n",
      "[I 2024-02-25 21:43:18,595] Trial 5 finished with value: -4853.895277500001 and parameters: {'n_shares': 5, 'stop_loss_close': 0.9687276821463318, 'take_profit_close': 1.3662938128209703, 'Umbral': 16.081792916570876}. Best is trial 1 with value: 118052.16800300014.\n",
      "[I 2024-02-25 21:43:19,042] Trial 6 finished with value: 206243.24588700008 and parameters: {'n_shares': 42, 'stop_loss_close': 0.821783924741264, 'take_profit_close': 1.2215833445405466, 'Umbral': 9.836168783948109}. Best is trial 6 with value: 206243.24588700008.\n",
      "[I 2024-02-25 21:43:19,703] Trial 7 finished with value: 118223.34750000031 and parameters: {'n_shares': 45, 'stop_loss_close': 0.9131453739569867, 'take_profit_close': 1.3070519296824035, 'Umbral': 17.49457834540065}. Best is trial 6 with value: 206243.24588700008.\n",
      "[I 2024-02-25 21:43:19,850] Trial 8 finished with value: 20356.599577500016 and parameters: {'n_shares': 45, 'stop_loss_close': 0.9449131778870684, 'take_profit_close': 1.1118127124969424, 'Umbral': 0.6261636296427064}. Best is trial 6 with value: 206243.24588700008.\n",
      "[I 2024-02-25 21:43:20,923] Trial 9 finished with value: 256443.3378780003 and parameters: {'n_shares': 41, 'stop_loss_close': 0.8810728038049223, 'take_profit_close': 1.4118684410781173, 'Umbral': 18.51548140001983}. Best is trial 9 with value: 256443.3378780003.\n",
      "[I 2024-02-25 21:43:21,685] Trial 10 finished with value: 158619.78988300022 and parameters: {'n_shares': 29, 'stop_loss_close': 0.8737864790678244, 'take_profit_close': 1.4765853029054652, 'Umbral': 11.679265419460286}. Best is trial 9 with value: 256443.3378780003.\n",
      "[I 2024-02-25 21:43:22,068] Trial 11 finished with value: 182222.8503000001 and parameters: {'n_shares': 37, 'stop_loss_close': 0.8026510827720752, 'take_profit_close': 1.169861635903953, 'Umbral': 8.07371240906684}. Best is trial 9 with value: 256443.3378780003.\n",
      "[I 2024-02-25 21:43:22,454] Trial 12 finished with value: 269315.72271100007 and parameters: {'n_shares': 49, 'stop_loss_close': 0.8163782051814408, 'take_profit_close': 1.1899039105229483, 'Umbral': 8.41212530913987}. Best is trial 12 with value: 269315.72271100007.\n",
      "[I 2024-02-25 21:43:23,532] Trial 13 finished with value: 286537.75065000006 and parameters: {'n_shares': 50, 'stop_loss_close': 0.8703302801269153, 'take_profit_close': 1.4862616159627748, 'Umbral': 19.920805718484377}. Best is trial 13 with value: 286537.75065000006.\n",
      "[I 2024-02-25 21:43:24,050] Trial 14 finished with value: 127140.73584500005 and parameters: {'n_shares': 29, 'stop_loss_close': 0.8446495114562045, 'take_profit_close': 1.4915299979333547, 'Umbral': 6.267405439006143}. Best is trial 13 with value: 286537.75065000006.\n",
      "[I 2024-02-25 21:43:24,478] Trial 15 finished with value: 336929.4298125002 and parameters: {'n_shares': 49, 'stop_loss_close': 0.837816836294432, 'take_profit_close': 1.165884668299316, 'Umbral': 13.099117200587614}. Best is trial 15 with value: 336929.4298125002.\n",
      "[I 2024-02-25 21:43:24,893] Trial 16 finished with value: 269640.32800000045 and parameters: {'n_shares': 50, 'stop_loss_close': 0.8799968033678132, 'take_profit_close': 1.1239495897100462, 'Umbral': 19.777571461049476}. Best is trial 15 with value: 336929.4298125002.\n",
      "[I 2024-02-25 21:43:25,466] Trial 17 finished with value: 252658.21876200006 and parameters: {'n_shares': 36, 'stop_loss_close': 0.8465908981129479, 'take_profit_close': 1.2910717115564174, 'Umbral': 12.827087610341653}. Best is trial 15 with value: 336929.4298125002.\n",
      "[I 2024-02-25 21:43:26,133] Trial 18 finished with value: 158467.41470400008 and parameters: {'n_shares': 24, 'stop_loss_close': 0.8605847068085273, 'take_profit_close': 1.3328349157383208, 'Umbral': 14.940050960029595}. Best is trial 15 with value: 336929.4298125002.\n",
      "[I 2024-02-25 21:43:26,486] Trial 19 finished with value: 260791.92087550016 and parameters: {'n_shares': 49, 'stop_loss_close': 0.8988458526680546, 'take_profit_close': 1.124094051074357, 'Umbral': 17.0466531632465}. Best is trial 15 with value: 336929.4298125002.\n"
     ]
    },
    {
     "name": "stdout",
     "output_type": "stream",
     "text": [
      "Mejores parámetros encontrados:\n",
      "{'n_shares': 49, 'stop_loss_close': 0.837816836294432, 'take_profit_close': 1.165884668299316, 'Umbral': 13.099117200587614}\n",
      "Rendimiento (Profit/Loss): 336929.4298125002\n"
     ]
    }
   ],
   "source": [
    "import optuna\n",
    "\n",
    "def objective(trial):\n",
    "    # Define los rangos de búsqueda para los parámetros\n",
    "    n_shares = trial.suggest_int('n_shares', 1, 50)\n",
    "    stop_loss_close = trial.suggest_uniform('stop_loss_close', 0.80, 1)\n",
    "    take_profit_close = trial.suggest_uniform('take_profit_close', 1, 1.5)\n",
    "    Umbral = trial.suggest_uniform('Umbral', 0, 20)\n",
    "\n",
    "    # Evalúa la función de trading con los parámetros sugeridos\n",
    "    profit_loss = def_trading_strategy(data, n_shares, stop_loss_close, take_profit_close, Umbral)\n",
    "    \n",
    "    return profit_loss  # Devuelve la métrica que se debe minimizar/maximizar\n",
    "\n",
    "# Crea un estudio Optuna\n",
    "study = optuna.create_study(direction='maximize')  # 'maximize' si se quiere maximizar la métrica\n",
    "\n",
    "# Ejecuta la optimización\n",
    "study.optimize(objective, n_trials=20)  # Puedes ajustar n_trials según tus recursos y tiempo disponible\n",
    "\n",
    "# Obtiene los mejores parámetros encontrados\n",
    "best_params = study.best_params\n",
    "best_profit_loss = study.best_value\n",
    "\n",
    "print(\"Mejores parámetros encontrados:\")\n",
    "print(best_params)\n",
    "print(\"Rendimiento (Profit/Loss):\", best_profit_loss)\n"
   ]
  },
  {
   "cell_type": "code",
   "execution_count": 5,
   "id": "dbe172ec",
   "metadata": {
    "ExecuteTime": {
     "end_time": "2024-02-26T03:43:27.287126Z",
     "start_time": "2024-02-26T03:43:26.495383Z"
    }
   },
   "outputs": [],
   "source": [
    "# Condiciones para comprar y vender\n",
    "condicion_compra = data[\"SO\"] <= 20\n",
    "condicion_venta = data[\"SO\"] > 80\n",
    "\n",
    "# Aplicando las condiciones para obtener señales de compra y venta\n",
    "data['Senal_SO'] = ''\n",
    "data.loc[condicion_compra, 'Senal_SO'] = 'Compra'\n",
    "data.loc[condicion_venta, 'Senal_SO'] = 'Venta'\n",
    "data.to_excel('../../../data/1d/SO_BOS.xlsx', index=False)"
   ]
  },
  {
   "cell_type": "code",
   "execution_count": 6,
   "id": "e4cf1a29",
   "metadata": {
    "ExecuteTime": {
     "end_time": "2024-02-26T03:43:27.292625Z",
     "start_time": "2024-02-26T03:43:27.290756Z"
    }
   },
   "outputs": [
    {
     "data": {
      "text/plain": "Senal_SO\n          2634\nVenta     1761\nCompra     876\nName: count, dtype: int64"
     },
     "execution_count": 6,
     "metadata": {},
     "output_type": "execute_result"
    }
   ],
   "source": [
    "data['Senal_SO'].value_counts()"
   ]
  }
 ],
 "metadata": {
  "kernelspec": {
   "display_name": "Python 3 (ipykernel)",
   "language": "python",
   "name": "python3"
  },
  "language_info": {
   "codemirror_mode": {
    "name": "ipython",
    "version": 3
   },
   "file_extension": ".py",
   "mimetype": "text/x-python",
   "name": "python",
   "nbconvert_exporter": "python",
   "pygments_lexer": "ipython3",
   "version": "3.11.4"
  }
 },
 "nbformat": 4,
 "nbformat_minor": 5
}
