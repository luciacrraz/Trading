{
 "cells": [
  {
   "cell_type": "code",
   "execution_count": 5,
   "id": "45c74508",
   "metadata": {
    "ExecuteTime": {
     "end_time": "2024-02-26T03:39:33.327767Z",
     "start_time": "2024-02-26T03:39:33.323339Z"
    }
   },
   "outputs": [],
   "source": [
    "import pandas as pd\n",
    "import numpy as np\n",
    "import matplotlib.pyplot as plt\n",
    "import ta"
   ]
  },
  {
   "cell_type": "code",
   "execution_count": 6,
   "id": "efb24854",
   "metadata": {
    "ExecuteTime": {
     "end_time": "2024-02-26T03:39:33.349330Z",
     "start_time": "2024-02-26T03:39:33.329391Z"
    }
   },
   "outputs": [],
   "source": [
    "data = pd.read_csv(\"../../../data/aapl_1d_train.csv\")\n",
    "roc_data = ta.momentum.ROCIndicator(data.Close, window=14)\n",
    "data[\"ROC\"] = roc_data.roc()\n",
    "data = data.dropna()"
   ]
  },
  {
   "cell_type": "code",
   "execution_count": 7,
   "id": "05591dab",
   "metadata": {
    "ExecuteTime": {
     "end_time": "2024-02-26T03:39:33.374842Z",
     "start_time": "2024-02-26T03:39:33.358841Z"
    }
   },
   "outputs": [],
   "source": [
    "def def_trading_strategy(data, n_shares, stop_loss_close, take_profit_close, Umbral):\n",
    "    cash= 1_000_000\n",
    "    com = 0.125/100\n",
    "    history = []\n",
    "    portfolio_value = []\n",
    "    active_operations = []\n",
    "    total_profit_loss = 0\n",
    "\n",
    "    for i, row in data.iterrows():\n",
    "        # Close active operation\n",
    "        active_op_temp = []\n",
    "        for operation in active_operations:\n",
    "            if operation[\"stop_loss\"] > row.Close:\n",
    "                cash += (row.Close * operation[\"n_shares\"]) * (1 - com)\n",
    "                # Calcular la ganancia o pérdida y actualizar el total\n",
    "                profit_loss = (row.Close * operation[\"n_shares\"]) * (1 - com) - (operation[\"bought\"] * operation[\"n_shares\"])\n",
    "                total_profit_loss += profit_loss\n",
    "                history.append({\"profit_loss\": profit_loss})\n",
    "            elif operation[\"take_profit\"] < row.Close:\n",
    "                cash += (row.Close * operation[\"n_shares\"]) * (1 - com)\n",
    "                # Calcular la ganancia o pérdida y actualizar el total\n",
    "                profit_loss = (row.Close * operation[\"n_shares\"]) * (1 - com) - (operation[\"bought\"] * operation[\"n_shares\"])\n",
    "                total_profit_loss += profit_loss\n",
    "                history.append({\"profit_loss\": profit_loss})\n",
    "            else:\n",
    "                active_op_temp.append(operation)\n",
    "        active_operations = active_op_temp\n",
    "            \n",
    "        # ¿Tenemos suficiente efectivo?\n",
    "        if cash < (row.Close * n_shares * (1 + com)):\n",
    "            asset_vals = sum([operation[\"n_shares\"] * row.Close for operation in active_operations])\n",
    "            portfolio_value.append(cash + asset_vals)\n",
    "            continue\n",
    "        \n",
    "        # Analizar la señal larga\n",
    "        if row.ROC <= Umbral:  # If ceil(Op)\n",
    "            active_operations.append({\n",
    "                \"bought\": row.Close,\n",
    "                \"n_shares\": n_shares,\n",
    "                \"type\": \"long\",\n",
    "                \"stop_loss\": row.Close * stop_loss_close,\n",
    "                \"take_profit\": row.Close * take_profit_close\n",
    "            })\n",
    "            cash -= row.Adjusted_close * n_shares * (1 + com)\n",
    "        \n",
    "        asset_vals = sum([operation[\"n_shares\"] * row.Close for operation in active_operations])\n",
    "        portfolio_value.append(cash + asset_vals)\n",
    "    \n",
    "    return total_profit_loss"
   ]
  },
  {
   "cell_type": "code",
   "execution_count": 8,
   "id": "1b913ae5",
   "metadata": {
    "ExecuteTime": {
     "end_time": "2024-02-26T03:40:10.641413Z",
     "start_time": "2024-02-26T03:39:33.364270Z"
    }
   },
   "outputs": [
    {
     "name": "stderr",
     "output_type": "stream",
     "text": [
      "[I 2024-02-25 21:39:33,753] A new study created in memory with name: no-name-696c6b77-d939-4896-8567-b1b090369772\n",
      "/var/folders/x7/frl5my251vx198wg4w_ndzxh0000gn/T/ipykernel_17181/1268521632.py:6: FutureWarning: suggest_uniform has been deprecated in v3.0.0. This feature will be removed in v6.0.0. See https://github.com/optuna/optuna/releases/tag/v3.0.0. Use suggest_float instead.\n",
      "  stop_loss_close = trial.suggest_uniform('stop_loss_close', 0.80, 1)\n",
      "/var/folders/x7/frl5my251vx198wg4w_ndzxh0000gn/T/ipykernel_17181/1268521632.py:7: FutureWarning: suggest_uniform has been deprecated in v3.0.0. This feature will be removed in v6.0.0. See https://github.com/optuna/optuna/releases/tag/v3.0.0. Use suggest_float instead.\n",
      "  take_profit_close = trial.suggest_uniform('take_profit_close', 1, 1.5)\n",
      "/var/folders/x7/frl5my251vx198wg4w_ndzxh0000gn/T/ipykernel_17181/1268521632.py:8: FutureWarning: suggest_uniform has been deprecated in v3.0.0. This feature will be removed in v6.0.0. See https://github.com/optuna/optuna/releases/tag/v3.0.0. Use suggest_float instead.\n",
      "  Umbral = trial.suggest_uniform('Umbral', -10, 10)\n",
      "[I 2024-02-25 21:39:34,054] Trial 0 finished with value: 63479.03571200024 and parameters: {'n_shares': 32, 'stop_loss_close': 0.9023051456654363, 'take_profit_close': 1.017655124585975, 'Umbral': -1.1809808115204241}. Best is trial 0 with value: 63479.03571200024.\n",
      "[I 2024-02-25 21:39:34,890] Trial 1 finished with value: 263836.2718144998 and parameters: {'n_shares': 49, 'stop_loss_close': 0.9222137402970847, 'take_profit_close': 1.3001528938328608, 'Umbral': -2.4262393414409145}. Best is trial 1 with value: 263836.2718144998.\n",
      "[I 2024-02-25 21:39:35,480] Trial 2 finished with value: 131587.9450625001 and parameters: {'n_shares': 25, 'stop_loss_close': 0.8989750645014549, 'take_profit_close': 1.3415531306789075, 'Umbral': -5.844083974772472}. Best is trial 1 with value: 263836.2718144998.\n",
      "[I 2024-02-25 21:39:39,604] Trial 3 finished with value: 784293.7544640002 and parameters: {'n_shares': 32, 'stop_loss_close': 0.8699501226375473, 'take_profit_close': 1.4842681444519923, 'Umbral': 5.426138660538847}. Best is trial 3 with value: 784293.7544640002.\n",
      "[I 2024-02-25 21:39:40,438] Trial 4 finished with value: 483615.85584400024 and parameters: {'n_shares': 44, 'stop_loss_close': 0.8986885235066829, 'take_profit_close': 1.3580943308607725, 'Umbral': -3.65066743251891}. Best is trial 3 with value: 784293.7544640002.\n",
      "[I 2024-02-25 21:39:41,249] Trial 5 finished with value: -44518.40335799953 and parameters: {'n_shares': 36, 'stop_loss_close': 0.9683768556523649, 'take_profit_close': 1.4654045280991421, 'Umbral': -1.3209184482602474}. Best is trial 3 with value: 784293.7544640002.\n",
      "[I 2024-02-25 21:39:41,721] Trial 6 finished with value: 94138.51346250056 and parameters: {'n_shares': 25, 'stop_loss_close': 0.940476268934994, 'take_profit_close': 1.0343132543800089, 'Umbral': 7.418890655932135}. Best is trial 3 with value: 784293.7544640002.\n",
      "[I 2024-02-25 21:39:41,949] Trial 7 finished with value: 1396.0432375000014 and parameters: {'n_shares': 1, 'stop_loss_close': 0.9688157039871421, 'take_profit_close': 1.2571549162253843, 'Umbral': -8.520117652983961}. Best is trial 3 with value: 784293.7544640002.\n",
      "[I 2024-02-25 21:39:45,204] Trial 8 finished with value: 378176.42683150014 and parameters: {'n_shares': 23, 'stop_loss_close': 0.8451590971988722, 'take_profit_close': 1.3583054111467965, 'Umbral': 4.636590591636731}. Best is trial 3 with value: 784293.7544640002.\n",
      "[I 2024-02-25 21:39:46,045] Trial 9 finished with value: 145648.64511400004 and parameters: {'n_shares': 28, 'stop_loss_close': 0.8137958587710218, 'take_profit_close': 1.4979893867702436, 'Umbral': -7.254795744384301}. Best is trial 3 with value: 784293.7544640002.\n",
      "[I 2024-02-25 21:39:47,205] Trial 10 finished with value: 358709.17053400096 and parameters: {'n_shares': 13, 'stop_loss_close': 0.8611891548939846, 'take_profit_close': 1.1249233904631981, 'Umbral': 3.212588239283703}. Best is trial 3 with value: 784293.7544640002.\n",
      "[I 2024-02-25 21:39:49,999] Trial 11 finished with value: 335512.38840750034 and parameters: {'n_shares': 45, 'stop_loss_close': 0.8673478352541647, 'take_profit_close': 1.4069852006624128, 'Umbral': 2.7881573523104413}. Best is trial 3 with value: 784293.7544640002.\n",
      "[I 2024-02-25 21:39:54,394] Trial 12 finished with value: 1030674.6428549998 and parameters: {'n_shares': 39, 'stop_loss_close': 0.8781619595735111, 'take_profit_close': 1.4170310627224696, 'Umbral': 8.936141234701132}. Best is trial 12 with value: 1030674.6428549998.\n",
      "[I 2024-02-25 21:39:59,506] Trial 13 finished with value: 1281824.0864714994 and parameters: {'n_shares': 39, 'stop_loss_close': 0.837591863369199, 'take_profit_close': 1.4369246532237112, 'Umbral': 9.722733340900394}. Best is trial 13 with value: 1281824.0864714994.\n",
      "[I 2024-02-25 21:40:02,007] Trial 14 finished with value: 1905873.141373503 and parameters: {'n_shares': 39, 'stop_loss_close': 0.8000337920195466, 'take_profit_close': 1.1571794218218678, 'Umbral': 9.86304233391027}. Best is trial 14 with value: 1905873.141373503.\n",
      "[I 2024-02-25 21:40:04,884] Trial 15 finished with value: 1963577.596439997 and parameters: {'n_shares': 40, 'stop_loss_close': 0.8145610488089796, 'take_profit_close': 1.1959700834512736, 'Umbral': 9.900985296544743}. Best is trial 15 with value: 1963577.596439997.\n",
      "[I 2024-02-25 21:40:07,114] Trial 16 finished with value: 2241850.5863150004 and parameters: {'n_shares': 47, 'stop_loss_close': 0.8058065979956525, 'take_profit_close': 1.1615186712190346, 'Umbral': 7.114094107194855}. Best is trial 16 with value: 2241850.5863150004.\n",
      "[I 2024-02-25 21:40:09,248] Trial 17 finished with value: 2368321.4322500154 and parameters: {'n_shares': 50, 'stop_loss_close': 0.830260478938945, 'take_profit_close': 1.1726686923536265, 'Umbral': 6.566915794374671}. Best is trial 17 with value: 2368321.4322500154.\n",
      "[I 2024-02-25 21:40:10,109] Trial 18 finished with value: 784869.2796720008 and parameters: {'n_shares': 48, 'stop_loss_close': 0.8390530231636553, 'take_profit_close': 1.0958741827322314, 'Umbral': 1.3605678925055327}. Best is trial 17 with value: 2368321.4322500154.\n",
      "[I 2024-02-25 21:40:10,625] Trial 19 finished with value: 212460.8315500016 and parameters: {'n_shares': 50, 'stop_loss_close': 0.9996397395560311, 'take_profit_close': 1.2101620137469966, 'Umbral': 6.594083310042727}. Best is trial 17 with value: 2368321.4322500154.\n"
     ]
    },
    {
     "name": "stdout",
     "output_type": "stream",
     "text": [
      "Mejores parámetros encontrados:\n",
      "{'n_shares': 50, 'stop_loss_close': 0.830260478938945, 'take_profit_close': 1.1726686923536265, 'Umbral': 6.566915794374671}\n",
      "Rendimiento (Profit/Loss): 2368321.4322500154\n"
     ]
    }
   ],
   "source": [
    "import optuna\n",
    "\n",
    "def objective(trial):\n",
    "    # Define los rangos de búsqueda para los parámetros\n",
    "    n_shares = trial.suggest_int('n_shares', 1, 50)\n",
    "    stop_loss_close = trial.suggest_uniform('stop_loss_close', 0.80, 1)\n",
    "    take_profit_close = trial.suggest_uniform('take_profit_close', 1, 1.5)\n",
    "    Umbral = trial.suggest_uniform('Umbral', -10, 10)\n",
    "\n",
    "    # Evalúa la función de trading con los parámetros sugeridos\n",
    "    profit_loss = def_trading_strategy(data, n_shares, stop_loss_close, take_profit_close, Umbral)\n",
    "    \n",
    "    return profit_loss  # Devuelve la métrica que se debe minimizar/maximizar\n",
    "\n",
    "# Crea un estudio Optuna\n",
    "study = optuna.create_study(direction='maximize')  # 'maximize' si se quiere maximizar la métrica\n",
    "\n",
    "# Ejecuta la optimización\n",
    "study.optimize(objective, n_trials=20)  # Puedes ajustar n_trials según tus recursos y tiempo disponible\n",
    "\n",
    "# Obtiene los mejores parámetros encontrados\n",
    "best_params = study.best_params\n",
    "best_profit_loss = study.best_value\n",
    "\n",
    "print(\"Mejores parámetros encontrados:\")\n",
    "print(best_params)\n",
    "print(\"Rendimiento (Profit/Loss):\", best_profit_loss)\n"
   ]
  },
  {
   "cell_type": "code",
   "execution_count": 9,
   "id": "dbe172ec",
   "metadata": {
    "ExecuteTime": {
     "end_time": "2024-02-26T03:40:11.498049Z",
     "start_time": "2024-02-26T03:40:10.638051Z"
    }
   },
   "outputs": [],
   "source": [
    "# Condiciones para comprar y vender\n",
    "condicion_compra = data[\"ROC\"] <= -1.5\n",
    "condicion_venta = data[\"ROC\"] > 1.1\n",
    "\n",
    "# Aplicando las condiciones para obtener señales de compra y venta\n",
    "data['Senal_ROC'] = ''\n",
    "data.loc[condicion_compra, 'Senal_ROC'] = 'Compra'\n",
    "data.loc[condicion_venta, 'Senal_ROC'] = 'Venta'\n",
    "data.to_excel('../../../data/1d/ROC_BOS.xlsx', index=False)"
   ]
  },
  {
   "cell_type": "code",
   "execution_count": 10,
   "id": "d9cf3c61",
   "metadata": {
    "ExecuteTime": {
     "end_time": "2024-02-26T03:40:11.510891Z",
     "start_time": "2024-02-26T03:40:11.500905Z"
    }
   },
   "outputs": [
    {
     "data": {
      "text/plain": "Senal_ROC\nVenta     2862\nCompra    1706\n           702\nName: count, dtype: int64"
     },
     "execution_count": 10,
     "metadata": {},
     "output_type": "execute_result"
    }
   ],
   "source": [
    "data['Senal_ROC'].value_counts()"
   ]
  },
  {
   "cell_type": "code",
   "execution_count": 10,
   "id": "a7de492d",
   "metadata": {
    "ExecuteTime": {
     "end_time": "2024-02-26T03:40:11.511082Z",
     "start_time": "2024-02-26T03:40:11.505718Z"
    }
   },
   "outputs": [],
   "source": []
  }
 ],
 "metadata": {
  "kernelspec": {
   "display_name": "Python 3 (ipykernel)",
   "language": "python",
   "name": "python3"
  },
  "language_info": {
   "codemirror_mode": {
    "name": "ipython",
    "version": 3
   },
   "file_extension": ".py",
   "mimetype": "text/x-python",
   "name": "python",
   "nbconvert_exporter": "python",
   "pygments_lexer": "ipython3",
   "version": "3.11.4"
  }
 },
 "nbformat": 4,
 "nbformat_minor": 5
}
