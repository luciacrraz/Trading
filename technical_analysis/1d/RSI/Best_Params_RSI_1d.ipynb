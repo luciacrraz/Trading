{
 "cells": [
  {
   "cell_type": "markdown",
   "source": [],
   "metadata": {
    "collapsed": false
   },
   "id": "302039de3e73017a"
  },
  {
   "cell_type": "code",
   "execution_count": 1,
   "id": "45c74508",
   "metadata": {
    "ExecuteTime": {
     "end_time": "2024-02-26T03:43:12.608805Z",
     "start_time": "2024-02-26T03:43:11.182053Z"
    }
   },
   "outputs": [
    {
     "name": "stdout",
     "output_type": "stream",
     "text": [
      "Intel MKL WARNING: Support of Intel(R) Streaming SIMD Extensions 4.2 (Intel(R) SSE4.2) enabled only processors has been deprecated. Intel oneAPI Math Kernel Library 2025.0 will require Intel(R) Advanced Vector Extensions (Intel(R) AVX) instructions.\n",
      "Intel MKL WARNING: Support of Intel(R) Streaming SIMD Extensions 4.2 (Intel(R) SSE4.2) enabled only processors has been deprecated. Intel oneAPI Math Kernel Library 2025.0 will require Intel(R) Advanced Vector Extensions (Intel(R) AVX) instructions.\n"
     ]
    }
   ],
   "source": [
    "import pandas as pd\n",
    "import numpy as np\n",
    "import matplotlib.pyplot as plt\n",
    "import ta"
   ]
  },
  {
   "cell_type": "code",
   "execution_count": 2,
   "id": "efb24854",
   "metadata": {
    "ExecuteTime": {
     "end_time": "2024-02-26T03:43:12.624833Z",
     "start_time": "2024-02-26T03:43:12.610440Z"
    }
   },
   "outputs": [],
   "source": [
    "data = pd.read_csv(\"../../../data/aapl_1d_train.csv\")\n",
    "rsi_data = ta.momentum.RSIIndicator(data.Close, window=14)\n",
    "data[\"RSI\"] = rsi_data.rsi()\n",
    "data = data.dropna()"
   ]
  },
  {
   "cell_type": "code",
   "execution_count": 3,
   "id": "05591dab",
   "metadata": {
    "ExecuteTime": {
     "end_time": "2024-02-26T03:43:12.633401Z",
     "start_time": "2024-02-26T03:43:12.624944Z"
    }
   },
   "outputs": [],
   "source": [
    "def def_trading_strategy(data, n_shares, stop_loss_close, take_profit_close, Umbral):\n",
    "    cash= 1_000_000\n",
    "    com = 0.125/100\n",
    "    history = []\n",
    "    portfolio_value = []\n",
    "    active_operations = []\n",
    "    total_profit_loss = 0\n",
    "\n",
    "    for i, row in data.iterrows():\n",
    "        # Close active operation\n",
    "        active_op_temp = []\n",
    "        for operation in active_operations:\n",
    "            if operation[\"stop_loss\"] > row.Close:\n",
    "                cash += (row.Close * operation[\"n_shares\"]) * (1 - com)\n",
    "                # Calcular la ganancia o pérdida y actualizar el total\n",
    "                profit_loss = (row.Close * operation[\"n_shares\"]) * (1 - com) - (operation[\"bought\"] * operation[\"n_shares\"])\n",
    "                total_profit_loss += profit_loss\n",
    "                history.append({\"profit_loss\": profit_loss})\n",
    "            elif operation[\"take_profit\"] < row.Close:\n",
    "                cash += (row.Close * operation[\"n_shares\"]) * (1 - com)\n",
    "                # Calcular la ganancia o pérdida y actualizar el total\n",
    "                profit_loss = (row.Close * operation[\"n_shares\"]) * (1 - com) - (operation[\"bought\"] * operation[\"n_shares\"])\n",
    "                total_profit_loss += profit_loss\n",
    "                history.append({\"profit_loss\": profit_loss})\n",
    "            else:\n",
    "                active_op_temp.append(operation)\n",
    "        active_operations = active_op_temp\n",
    "            \n",
    "        # ¿Tenemos suficiente efectivo?\n",
    "        if cash < (row.Close * n_shares * (1 + com)):\n",
    "            asset_vals = sum([operation[\"n_shares\"] * row.Close for operation in active_operations])\n",
    "            portfolio_value.append(cash + asset_vals)\n",
    "            continue\n",
    "        \n",
    "        # Analizar la señal larga\n",
    "        if row.RSI <= Umbral:  # If ceil(Op)\n",
    "            active_operations.append({\n",
    "                \"bought\": row.Close,\n",
    "                \"n_shares\": n_shares,\n",
    "                \"type\": \"long\",\n",
    "                \"stop_loss\": row.Close * stop_loss_close,\n",
    "                \"take_profit\": row.Close * take_profit_close\n",
    "            })\n",
    "            cash -= row.Adjusted_close * n_shares * (1 + com)\n",
    "        \n",
    "        asset_vals = sum([operation[\"n_shares\"] * row.Close for operation in active_operations])\n",
    "        portfolio_value.append(cash + asset_vals)\n",
    "    \n",
    "    return total_profit_loss"
   ]
  },
  {
   "cell_type": "code",
   "execution_count": 4,
   "id": "1b913ae5",
   "metadata": {
    "ExecuteTime": {
     "end_time": "2024-02-26T03:43:15.855942Z",
     "start_time": "2024-02-26T03:43:12.633993Z"
    }
   },
   "outputs": [
    {
     "name": "stderr",
     "output_type": "stream",
     "text": [
      "[I 2024-02-25 21:43:12,852] A new study created in memory with name: no-name-0d49b2dc-9a85-4585-beec-683ddc8c5105\n",
      "/var/folders/x7/frl5my251vx198wg4w_ndzxh0000gn/T/ipykernel_17318/1268521632.py:6: FutureWarning: suggest_uniform has been deprecated in v3.0.0. This feature will be removed in v6.0.0. See https://github.com/optuna/optuna/releases/tag/v3.0.0. Use suggest_float instead.\n",
      "  stop_loss_close = trial.suggest_uniform('stop_loss_close', 0.80, 1)\n",
      "/var/folders/x7/frl5my251vx198wg4w_ndzxh0000gn/T/ipykernel_17318/1268521632.py:7: FutureWarning: suggest_uniform has been deprecated in v3.0.0. This feature will be removed in v6.0.0. See https://github.com/optuna/optuna/releases/tag/v3.0.0. Use suggest_float instead.\n",
      "  take_profit_close = trial.suggest_uniform('take_profit_close', 1, 1.5)\n",
      "/var/folders/x7/frl5my251vx198wg4w_ndzxh0000gn/T/ipykernel_17318/1268521632.py:8: FutureWarning: suggest_uniform has been deprecated in v3.0.0. This feature will be removed in v6.0.0. See https://github.com/optuna/optuna/releases/tag/v3.0.0. Use suggest_float instead.\n",
      "  Umbral = trial.suggest_uniform('Umbral', -10, 10)\n",
      "[I 2024-02-25 21:43:12,996] Trial 0 finished with value: 0.0 and parameters: {'n_shares': 17, 'stop_loss_close': 0.8584088216864589, 'take_profit_close': 1.2386149396344295, 'Umbral': -1.0429025176002504}. Best is trial 0 with value: 0.0.\n",
      "[I 2024-02-25 21:43:13,115] Trial 1 finished with value: 0.0 and parameters: {'n_shares': 42, 'stop_loss_close': 0.8310921152316035, 'take_profit_close': 1.1264265648553096, 'Umbral': -6.382055042386443}. Best is trial 0 with value: 0.0.\n",
      "[I 2024-02-25 21:43:13,236] Trial 2 finished with value: 0.0 and parameters: {'n_shares': 18, 'stop_loss_close': 0.9625220564048772, 'take_profit_close': 1.0679031953260245, 'Umbral': -9.644097450168124}. Best is trial 0 with value: 0.0.\n",
      "[I 2024-02-25 21:43:13,361] Trial 3 finished with value: 0.0 and parameters: {'n_shares': 24, 'stop_loss_close': 0.8371678456739438, 'take_profit_close': 1.2182735957546276, 'Umbral': 6.2722132003571645}. Best is trial 0 with value: 0.0.\n",
      "[I 2024-02-25 21:43:13,487] Trial 4 finished with value: 0.0 and parameters: {'n_shares': 9, 'stop_loss_close': 0.9786835867892485, 'take_profit_close': 1.0297319927827675, 'Umbral': -3.3672106395258483}. Best is trial 0 with value: 0.0.\n",
      "[I 2024-02-25 21:43:13,608] Trial 5 finished with value: 0.0 and parameters: {'n_shares': 23, 'stop_loss_close': 0.887613737265891, 'take_profit_close': 1.23517622797259, 'Umbral': -3.8463260946052413}. Best is trial 0 with value: 0.0.\n",
      "[I 2024-02-25 21:43:13,729] Trial 6 finished with value: 0.0 and parameters: {'n_shares': 15, 'stop_loss_close': 0.8843737109302858, 'take_profit_close': 1.3189056256641594, 'Umbral': 2.7332460484700647}. Best is trial 0 with value: 0.0.\n",
      "[I 2024-02-25 21:43:13,847] Trial 7 finished with value: 0.0 and parameters: {'n_shares': 1, 'stop_loss_close': 0.9665957100697092, 'take_profit_close': 1.304294646208989, 'Umbral': -4.415881731861468}. Best is trial 0 with value: 0.0.\n",
      "[I 2024-02-25 21:43:13,990] Trial 8 finished with value: 6394.193437500001 and parameters: {'n_shares': 11, 'stop_loss_close': 0.9139912799835698, 'take_profit_close': 1.3858058448500528, 'Umbral': 9.706663497509684}. Best is trial 8 with value: 6394.193437500001.\n",
      "[I 2024-02-25 21:43:14,109] Trial 9 finished with value: 0.0 and parameters: {'n_shares': 34, 'stop_loss_close': 0.9800081746593987, 'take_profit_close': 1.4060010269561365, 'Umbral': -4.068092801834384}. Best is trial 8 with value: 6394.193437500001.\n",
      "[I 2024-02-25 21:43:14,313] Trial 10 finished with value: 1542.6768250000005 and parameters: {'n_shares': 2, 'stop_loss_close': 0.9280626029058744, 'take_profit_close': 1.4603772303437061, 'Umbral': 9.992387979891822}. Best is trial 8 with value: 6394.193437500001.\n",
      "[I 2024-02-25 21:43:14,526] Trial 11 finished with value: 688.9355875000001 and parameters: {'n_shares': 1, 'stop_loss_close': 0.9255946180666957, 'take_profit_close': 1.4620489987013057, 'Umbral': 9.546678086034115}. Best is trial 8 with value: 6394.193437500001.\n",
      "[I 2024-02-25 21:43:14,778] Trial 12 finished with value: 5936.872300000001 and parameters: {'n_shares': 8, 'stop_loss_close': 0.9291709560411031, 'take_profit_close': 1.4931524985585825, 'Umbral': 9.535493414057079}. Best is trial 8 with value: 6394.193437500001.\n",
      "[I 2024-02-25 21:43:14,922] Trial 13 finished with value: 0.0 and parameters: {'n_shares': 10, 'stop_loss_close': 0.9257850848372289, 'take_profit_close': 1.3814890394923853, 'Umbral': 5.079592940661541}. Best is trial 8 with value: 6394.193437500001.\n",
      "[I 2024-02-25 21:43:15,060] Trial 14 finished with value: 0.0 and parameters: {'n_shares': 33, 'stop_loss_close': 0.9385079260008676, 'take_profit_close': 1.4956306450592824, 'Umbral': 6.843301521285481}. Best is trial 8 with value: 6394.193437500001.\n",
      "[I 2024-02-25 21:43:15,202] Trial 15 finished with value: 0.0 and parameters: {'n_shares': 9, 'stop_loss_close': 0.8998114818059719, 'take_profit_close': 1.3911034855775573, 'Umbral': 2.3555707660305316}. Best is trial 8 with value: 6394.193437500001.\n",
      "[I 2024-02-25 21:43:15,342] Trial 16 finished with value: 0.0 and parameters: {'n_shares': 31, 'stop_loss_close': 0.9983308061781792, 'take_profit_close': 1.3265544704431007, 'Umbral': 7.651637423104029}. Best is trial 8 with value: 6394.193437500001.\n",
      "[I 2024-02-25 21:43:15,482] Trial 17 finished with value: 0.0 and parameters: {'n_shares': 11, 'stop_loss_close': 0.8606880917308908, 'take_profit_close': 1.4318353486578197, 'Umbral': 3.6731160072072235}. Best is trial 8 with value: 6394.193437500001.\n",
      "[I 2024-02-25 21:43:15,630] Trial 18 finished with value: 0.0 and parameters: {'n_shares': 44, 'stop_loss_close': 0.9466957382695632, 'take_profit_close': 1.4917461920295516, 'Umbral': 0.24502339895779135}. Best is trial 8 with value: 6394.193437500001.\n",
      "[I 2024-02-25 21:43:15,836] Trial 19 finished with value: 664.4229999999998 and parameters: {'n_shares': 20, 'stop_loss_close': 0.9090645647663008, 'take_profit_close': 1.3524240245472068, 'Umbral': 8.219010418936119}. Best is trial 8 with value: 6394.193437500001.\n"
     ]
    },
    {
     "name": "stdout",
     "output_type": "stream",
     "text": [
      "Mejores parámetros encontrados:\n",
      "{'n_shares': 11, 'stop_loss_close': 0.9139912799835698, 'take_profit_close': 1.3858058448500528, 'Umbral': 9.706663497509684}\n",
      "Rendimiento (Profit/Loss): 6394.193437500001\n"
     ]
    }
   ],
   "source": [
    "import optuna\n",
    "\n",
    "def objective(trial):\n",
    "    # Define los rangos de búsqueda para los parámetros\n",
    "    n_shares = trial.suggest_int('n_shares', 1, 50)\n",
    "    stop_loss_close = trial.suggest_uniform('stop_loss_close', 0.80, 1)\n",
    "    take_profit_close = trial.suggest_uniform('take_profit_close', 1, 1.5)\n",
    "    Umbral = trial.suggest_uniform('Umbral', -10, 10)\n",
    "\n",
    "    # Evalúa la función de trading con los parámetros sugeridos\n",
    "    profit_loss = def_trading_strategy(data, n_shares, stop_loss_close, take_profit_close, Umbral)\n",
    "    \n",
    "    return profit_loss  # Devuelve la métrica que se debe minimizar/maximizar\n",
    "\n",
    "# Crea un estudio Optuna\n",
    "study = optuna.create_study(direction='maximize')  # 'maximize' si se quiere maximizar la métrica\n",
    "\n",
    "# Ejecuta la optimización\n",
    "study.optimize(objective, n_trials=20)  # Puedes ajustar n_trials según tus recursos y tiempo disponible\n",
    "\n",
    "# Obtiene los mejores parámetros encontrados\n",
    "best_params = study.best_params\n",
    "best_profit_loss = study.best_value\n",
    "\n",
    "print(\"Mejores parámetros encontrados:\")\n",
    "print(best_params)\n",
    "print(\"Rendimiento (Profit/Loss):\", best_profit_loss)\n"
   ]
  },
  {
   "cell_type": "code",
   "execution_count": 5,
   "id": "dbe172ec",
   "metadata": {
    "ExecuteTime": {
     "end_time": "2024-02-26T03:43:16.939218Z",
     "start_time": "2024-02-26T03:43:15.866148Z"
    }
   },
   "outputs": [],
   "source": [
    "# Condiciones para comprar y vender\n",
    "condicion_compra = data[\"RSI\"] <= -1.5\n",
    "condicion_venta = data[\"RSI\"] > 1.1\n",
    "\n",
    "# Aplicando las condiciones para obtener señales de compra y venta\n",
    "data['Senal_rsi'] = ''\n",
    "data.loc[condicion_compra, 'Senal_rsi'] = 'Compra'\n",
    "data.loc[condicion_venta, 'Senal_RSI'] = 'Venta'\n",
    "data.to_excel('../../../data/1d/RSI_BOS.xlsx', index=False)"
   ]
  },
  {
   "cell_type": "code",
   "execution_count": 6,
   "id": "d9cf3c61",
   "metadata": {
    "ExecuteTime": {
     "end_time": "2024-02-26T03:43:16.947795Z",
     "start_time": "2024-02-26T03:43:16.945594Z"
    }
   },
   "outputs": [
    {
     "data": {
      "text/plain": "Senal_RSI\nVenta    5271\nName: count, dtype: int64"
     },
     "execution_count": 6,
     "metadata": {},
     "output_type": "execute_result"
    }
   ],
   "source": [
    "data['Senal_RSI'].value_counts()"
   ]
  },
  {
   "cell_type": "code",
   "execution_count": 6,
   "id": "a7de492d",
   "metadata": {
    "ExecuteTime": {
     "end_time": "2024-02-26T03:43:16.949819Z",
     "start_time": "2024-02-26T03:43:16.948266Z"
    }
   },
   "outputs": [],
   "source": []
  }
 ],
 "metadata": {
  "kernelspec": {
   "display_name": "Python 3 (ipykernel)",
   "language": "python",
   "name": "python3"
  },
  "language_info": {
   "codemirror_mode": {
    "name": "ipython",
    "version": 3
   },
   "file_extension": ".py",
   "mimetype": "text/x-python",
   "name": "python",
   "nbconvert_exporter": "python",
   "pygments_lexer": "ipython3",
   "version": "3.11.4"
  }
 },
 "nbformat": 4,
 "nbformat_minor": 5
}
