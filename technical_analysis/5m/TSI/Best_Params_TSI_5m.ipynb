{
 "cells": [
  {
   "cell_type": "code",
   "execution_count": 1,
   "id": "45c74508",
   "metadata": {
    "ExecuteTime": {
     "end_time": "2024-02-26T04:16:44.709347900Z",
     "start_time": "2024-02-26T04:16:43.465432600Z"
    }
   },
   "outputs": [],
   "source": [
    "import pandas as pd\n",
    "import numpy as np\n",
    "import matplotlib.pyplot as plt\n",
    "import ta"
   ]
  },
  {
   "cell_type": "code",
   "execution_count": 2,
   "id": "efb24854",
   "metadata": {
    "ExecuteTime": {
     "end_time": "2024-02-26T04:16:44.782572900Z",
     "start_time": "2024-02-26T04:16:44.711389600Z"
    }
   },
   "outputs": [],
   "source": [
    "data = pd.read_csv(\"../../../data/aapl_5m_train.csv\")\n",
    "tsi_data = ta.momentum.TSIIndicator(data.Close, window_slow = 25, window_fast = 13)\n",
    "data[\"TSI\"] = tsi_data.tsi()\n",
    "data = data.dropna()"
   ]
  },
  {
   "cell_type": "code",
   "execution_count": 3,
   "id": "05591dab",
   "metadata": {
    "ExecuteTime": {
     "end_time": "2024-02-26T04:16:44.792055Z",
     "start_time": "2024-02-26T04:16:44.787874600Z"
    }
   },
   "outputs": [],
   "source": [
    "def def_trading_strategy(data, n_shares, stop_loss_close, take_profit_close, Umbral):\n",
    "    cash= 1_000_000\n",
    "    com = 0.125/100\n",
    "    history = []\n",
    "    portfolio_value = []\n",
    "    active_operations = []\n",
    "    total_profit_loss = 0\n",
    "\n",
    "    for i, row in data.iterrows():\n",
    "        # Close active operation\n",
    "        active_op_temp = []\n",
    "        for operation in active_operations:\n",
    "            if operation[\"stop_loss\"] > row.Close:\n",
    "                cash += (row.Close * operation[\"n_shares\"]) * (1 - com)\n",
    "                # Calcular la ganancia o pérdida y actualizar el total\n",
    "                profit_loss = (row.Close * operation[\"n_shares\"]) * (1 - com) - (operation[\"bought\"] * operation[\"n_shares\"])\n",
    "                total_profit_loss += profit_loss\n",
    "                history.append({\"timestamp\": row.Timestamp, \"profit_loss\": profit_loss})\n",
    "            elif operation[\"take_profit\"] < row.Close:\n",
    "                cash += (row.Close * operation[\"n_shares\"]) * (1 - com)\n",
    "                # Calcular la ganancia o pérdida y actualizar el total\n",
    "                profit_loss = (row.Close * operation[\"n_shares\"]) * (1 - com) - (operation[\"bought\"] * operation[\"n_shares\"])\n",
    "                total_profit_loss += profit_loss\n",
    "                history.append({\"timestamp\": row.Timestamp, \"profit_loss\": profit_loss})\n",
    "            else:\n",
    "                active_op_temp.append(operation)\n",
    "        active_operations = active_op_temp\n",
    "            \n",
    "        # ¿Tenemos suficiente efectivo?\n",
    "        if cash < (row.Close * n_shares * (1 + com)):\n",
    "            asset_vals = sum([operation[\"n_shares\"] * row.Close for operation in active_operations])\n",
    "            portfolio_value.append(cash + asset_vals)\n",
    "            continue\n",
    "        \n",
    "        # Analizar la señal larga\n",
    "        if row.TSI <= Umbral:  # If ceil(Op)\n",
    "            active_operations.append({\n",
    "                \"timestamp\": row.Timestamp,\n",
    "                \"bought\": row.Close,\n",
    "                \"n_shares\": n_shares,\n",
    "                \"type\": \"long\",\n",
    "                \"stop_loss\": row.Close * stop_loss_close,\n",
    "                \"take_profit\": row.Close * take_profit_close\n",
    "            })\n",
    "            cash -= row.Close * n_shares * (1 + com)\n",
    "        \n",
    "        asset_vals = sum([operation[\"n_shares\"] * row.Close for operation in active_operations])\n",
    "        portfolio_value.append(cash + asset_vals)\n",
    "    \n",
    "    return total_profit_loss\n"
   ]
  },
  {
   "cell_type": "code",
   "execution_count": 4,
   "id": "1b913ae5",
   "metadata": {
    "ExecuteTime": {
     "end_time": "2024-02-26T05:33:08.069958900Z",
     "start_time": "2024-02-26T04:16:44.794231100Z"
    }
   },
   "outputs": [
    {
     "name": "stderr",
     "output_type": "stream",
     "text": [
      "[I 2024-02-25 22:16:45,639] A new study created in memory with name: no-name-199b0ab8-73a4-4948-ac2b-72c5c83b0ea7\n",
      "C:\\Users\\elias\\AppData\\Local\\Temp\\ipykernel_25044\\1458817067.py:6: FutureWarning: suggest_uniform has been deprecated in v3.0.0. This feature will be removed in v6.0.0. See https://github.com/optuna/optuna/releases/tag/v3.0.0. Use suggest_float instead.\n",
      "  stop_loss_close = trial.suggest_uniform('stop_loss_close', 0.80, 1)\n",
      "C:\\Users\\elias\\AppData\\Local\\Temp\\ipykernel_25044\\1458817067.py:7: FutureWarning: suggest_uniform has been deprecated in v3.0.0. This feature will be removed in v6.0.0. See https://github.com/optuna/optuna/releases/tag/v3.0.0. Use suggest_float instead.\n",
      "  take_profit_close = trial.suggest_uniform('take_profit_close', 1, 1.5)\n",
      "C:\\Users\\elias\\AppData\\Local\\Temp\\ipykernel_25044\\1458817067.py:8: FutureWarning: suggest_uniform has been deprecated in v3.0.0. This feature will be removed in v6.0.0. See https://github.com/optuna/optuna/releases/tag/v3.0.0. Use suggest_float instead.\n",
      "  Umbral = trial.suggest_uniform('Umbral', -40, 10)\n",
      "[I 2024-02-25 22:18:04,685] Trial 0 finished with value: -19669.582642874746 and parameters: {'n_shares': 50, 'stop_loss_close': 0.9091162083362904, 'take_profit_close': 1.314973478961631, 'Umbral': -21.57383684110371}. Best is trial 0 with value: -19669.582642874746.\n",
      "[I 2024-02-25 22:19:48,182] Trial 1 finished with value: 2089.58459131001 and parameters: {'n_shares': 46, 'stop_loss_close': 0.8458196609925359, 'take_profit_close': 1.4852860638628655, 'Umbral': -28.379298931252087}. Best is trial 1 with value: 2089.58459131001.\n",
      "[I 2024-02-25 22:20:14,450] Trial 2 finished with value: 853.8021426555956 and parameters: {'n_shares': 28, 'stop_loss_close': 0.9873406197918712, 'take_profit_close': 1.0883432142993383, 'Umbral': -26.133620446250895}. Best is trial 1 with value: 2089.58459131001.\n",
      "[I 2024-02-25 22:25:27,154] Trial 3 finished with value: 34439.28267084272 and parameters: {'n_shares': 11, 'stop_loss_close': 0.8531815229717034, 'take_profit_close': 1.3266630070515855, 'Umbral': -2.254596426453986}. Best is trial 3 with value: 34439.28267084272.\n",
      "[I 2024-02-25 22:26:43,410] Trial 4 finished with value: -149278.15267249418 and parameters: {'n_shares': 33, 'stop_loss_close': 0.9627807795600702, 'take_profit_close': 1.1630248851585225, 'Umbral': -22.74179597253247}. Best is trial 3 with value: 34439.28267084272.\n",
      "[I 2024-02-25 22:28:19,705] Trial 5 finished with value: -43728.62761542592 and parameters: {'n_shares': 7, 'stop_loss_close': 0.9082987358954819, 'take_profit_close': 1.0282645411227023, 'Umbral': -15.14050939898165}. Best is trial 3 with value: 34439.28267084272.\n",
      "[I 2024-02-25 22:29:43,737] Trial 6 finished with value: -50516.79748436243 and parameters: {'n_shares': 45, 'stop_loss_close': 0.9066627427007095, 'take_profit_close': 1.2123020405306, 'Umbral': -31.726573645789255}. Best is trial 3 with value: 34439.28267084272.\n",
      "[I 2024-02-25 22:36:05,579] Trial 7 finished with value: 47709.3087730813 and parameters: {'n_shares': 9, 'stop_loss_close': 0.8821051781019434, 'take_profit_close': 1.2031068394931488, 'Umbral': -16.966653147188374}. Best is trial 7 with value: 47709.3087730813.\n",
      "[I 2024-02-25 22:36:51,742] Trial 8 finished with value: -96617.86478389327 and parameters: {'n_shares': 49, 'stop_loss_close': 0.9661329259614888, 'take_profit_close': 1.1040986188737691, 'Umbral': -19.110259790233812}. Best is trial 7 with value: 47709.3087730813.\n",
      "[I 2024-02-25 22:41:03,584] Trial 9 finished with value: -58618.60611513535 and parameters: {'n_shares': 11, 'stop_loss_close': 0.9208349600718704, 'take_profit_close': 1.3607134955043905, 'Umbral': 5.634627197497942}. Best is trial 7 with value: 47709.3087730813.\n",
      "[I 2024-02-25 22:44:24,430] Trial 10 finished with value: -14512.542188652511 and parameters: {'n_shares': 2, 'stop_loss_close': 0.8056883696090597, 'take_profit_close': 1.4544567031208218, 'Umbral': -38.46325301792805}. Best is trial 7 with value: 47709.3087730813.\n",
      "[I 2024-02-25 22:47:13,333] Trial 11 finished with value: 47287.12536668511 and parameters: {'n_shares': 17, 'stop_loss_close': 0.8489428421565083, 'take_profit_close': 1.2937146480167694, 'Umbral': -4.159589683246835}. Best is trial 7 with value: 47709.3087730813.\n",
      "[I 2024-02-25 22:50:48,999] Trial 12 finished with value: 28469.385407516304 and parameters: {'n_shares': 19, 'stop_loss_close': 0.8612224921407512, 'take_profit_close': 1.256461202154729, 'Umbral': -6.925056912451453}. Best is trial 7 with value: 47709.3087730813.\n",
      "[I 2024-02-25 22:53:25,279] Trial 13 finished with value: 18789.70185673031 and parameters: {'n_shares': 19, 'stop_loss_close': 0.8184557070808742, 'take_profit_close': 1.2395164682763546, 'Umbral': -6.778633276233476}. Best is trial 7 with value: 47709.3087730813.\n",
      "[I 2024-02-25 22:56:13,122] Trial 14 finished with value: 52755.114837690184 and parameters: {'n_shares': 18, 'stop_loss_close': 0.8761247519880159, 'take_profit_close': 1.3953211112783532, 'Umbral': 8.31144295641986}. Best is trial 14 with value: 52755.114837690184.\n",
      "[I 2024-02-25 23:28:57,313] Trial 15 finished with value: -47905.50559395207 and parameters: {'n_shares': 1, 'stop_loss_close': 0.8792403466944805, 'take_profit_close': 1.3730817323370041, 'Umbral': 9.127305089086253}. Best is trial 14 with value: 52755.114837690184.\n",
      "[I 2024-02-25 23:30:50,590] Trial 16 finished with value: -44550.71581772414 and parameters: {'n_shares': 26, 'stop_loss_close': 0.9341235454913317, 'take_profit_close': 1.4243750671100772, 'Umbral': -12.362919464767977}. Best is trial 14 with value: 52755.114837690184.\n",
      "[I 2024-02-25 23:32:34,237] Trial 17 finished with value: 27120.102340360347 and parameters: {'n_shares': 32, 'stop_loss_close': 0.8805839762693866, 'take_profit_close': 1.169259165047196, 'Umbral': 2.557943805730016}. Best is trial 14 with value: 52755.114837690184.\n",
      "[W 2024-02-25 23:33:05,864] Trial 18 failed with parameters: {'n_shares': 14, 'stop_loss_close': 0.875613148275952, 'take_profit_close': 1.422638540240821, 'Umbral': -12.463030599634898} because of the following error: KeyboardInterrupt().\n",
      "Traceback (most recent call last):\n",
      "  File \"C:\\Users\\elias\\Documents\\kiwi\\Trading\\venv\\Lib\\site-packages\\optuna\\study\\_optimize.py\", line 200, in _run_trial\n",
      "    value_or_values = func(trial)\n",
      "                      ^^^^^^^^^^^\n",
      "  File \"C:\\Users\\elias\\AppData\\Local\\Temp\\ipykernel_25044\\1458817067.py\", line 11, in objective\n",
      "    profit_loss = def_trading_strategy(data, n_shares, stop_loss_close, take_profit_close, Umbral)\n",
      "                  ^^^^^^^^^^^^^^^^^^^^^^^^^^^^^^^^^^^^^^^^^^^^^^^^^^^^^^^^^^^^^^^^^^^^^^^^^^^^^^^^\n",
      "  File \"C:\\Users\\elias\\AppData\\Local\\Temp\\ipykernel_25044\\2359621353.py\", line 13, in def_trading_strategy\n",
      "    if operation[\"stop_loss\"] > row.Close:\n",
      "                                ^^^^^^^^^\n",
      "  File \"C:\\Users\\elias\\Documents\\kiwi\\Trading\\venv\\Lib\\site-packages\\pandas\\core\\generic.py\", line 6295, in __getattr__\n",
      "    return self[name]\n",
      "           ~~~~^^^^^^\n",
      "  File \"C:\\Users\\elias\\Documents\\kiwi\\Trading\\venv\\Lib\\site-packages\\pandas\\core\\series.py\", line 1099, in __getitem__\n",
      "    if is_integer(key) and self.index._should_fallback_to_positional:\n",
      "       ^^^^^^^^^^^^^^^\n",
      "KeyboardInterrupt\n",
      "[W 2024-02-25 23:33:05,914] Trial 18 failed with value None.\n"
     ]
    },
    {
     "ename": "KeyboardInterrupt",
     "evalue": "",
     "output_type": "error",
     "traceback": [
      "\u001B[1;31m---------------------------------------------------------------------------\u001B[0m",
      "\u001B[1;31mKeyboardInterrupt\u001B[0m                         Traceback (most recent call last)",
      "Cell \u001B[1;32mIn[4], line 19\u001B[0m\n\u001B[0;32m     16\u001B[0m study \u001B[38;5;241m=\u001B[39m optuna\u001B[38;5;241m.\u001B[39mcreate_study(direction\u001B[38;5;241m=\u001B[39m\u001B[38;5;124m'\u001B[39m\u001B[38;5;124mmaximize\u001B[39m\u001B[38;5;124m'\u001B[39m)  \u001B[38;5;66;03m# 'maximize' si se quiere maximizar la métrica\u001B[39;00m\n\u001B[0;32m     18\u001B[0m \u001B[38;5;66;03m# Ejecuta la optimización\u001B[39;00m\n\u001B[1;32m---> 19\u001B[0m \u001B[43mstudy\u001B[49m\u001B[38;5;241;43m.\u001B[39;49m\u001B[43moptimize\u001B[49m\u001B[43m(\u001B[49m\u001B[43mobjective\u001B[49m\u001B[43m,\u001B[49m\u001B[43m \u001B[49m\u001B[43mn_trials\u001B[49m\u001B[38;5;241;43m=\u001B[39;49m\u001B[38;5;241;43m20\u001B[39;49m\u001B[43m)\u001B[49m  \u001B[38;5;66;03m# Puedes ajustar n_trials según tus recursos y tiempo disponible\u001B[39;00m\n\u001B[0;32m     21\u001B[0m \u001B[38;5;66;03m# Obtiene los mejores parámetros encontrados\u001B[39;00m\n\u001B[0;32m     22\u001B[0m best_params \u001B[38;5;241m=\u001B[39m study\u001B[38;5;241m.\u001B[39mbest_params\n",
      "File \u001B[1;32m~\\Documents\\kiwi\\Trading\\venv\\Lib\\site-packages\\optuna\\study\\study.py:451\u001B[0m, in \u001B[0;36mStudy.optimize\u001B[1;34m(self, func, n_trials, timeout, n_jobs, catch, callbacks, gc_after_trial, show_progress_bar)\u001B[0m\n\u001B[0;32m    348\u001B[0m \u001B[38;5;28;01mdef\u001B[39;00m \u001B[38;5;21moptimize\u001B[39m(\n\u001B[0;32m    349\u001B[0m     \u001B[38;5;28mself\u001B[39m,\n\u001B[0;32m    350\u001B[0m     func: ObjectiveFuncType,\n\u001B[1;32m   (...)\u001B[0m\n\u001B[0;32m    357\u001B[0m     show_progress_bar: \u001B[38;5;28mbool\u001B[39m \u001B[38;5;241m=\u001B[39m \u001B[38;5;28;01mFalse\u001B[39;00m,\n\u001B[0;32m    358\u001B[0m ) \u001B[38;5;241m-\u001B[39m\u001B[38;5;241m>\u001B[39m \u001B[38;5;28;01mNone\u001B[39;00m:\n\u001B[0;32m    359\u001B[0m \u001B[38;5;250m    \u001B[39m\u001B[38;5;124;03m\"\"\"Optimize an objective function.\u001B[39;00m\n\u001B[0;32m    360\u001B[0m \n\u001B[0;32m    361\u001B[0m \u001B[38;5;124;03m    Optimization is done by choosing a suitable set of hyperparameter values from a given\u001B[39;00m\n\u001B[1;32m   (...)\u001B[0m\n\u001B[0;32m    449\u001B[0m \u001B[38;5;124;03m            If nested invocation of this method occurs.\u001B[39;00m\n\u001B[0;32m    450\u001B[0m \u001B[38;5;124;03m    \"\"\"\u001B[39;00m\n\u001B[1;32m--> 451\u001B[0m     \u001B[43m_optimize\u001B[49m\u001B[43m(\u001B[49m\n\u001B[0;32m    452\u001B[0m \u001B[43m        \u001B[49m\u001B[43mstudy\u001B[49m\u001B[38;5;241;43m=\u001B[39;49m\u001B[38;5;28;43mself\u001B[39;49m\u001B[43m,\u001B[49m\n\u001B[0;32m    453\u001B[0m \u001B[43m        \u001B[49m\u001B[43mfunc\u001B[49m\u001B[38;5;241;43m=\u001B[39;49m\u001B[43mfunc\u001B[49m\u001B[43m,\u001B[49m\n\u001B[0;32m    454\u001B[0m \u001B[43m        \u001B[49m\u001B[43mn_trials\u001B[49m\u001B[38;5;241;43m=\u001B[39;49m\u001B[43mn_trials\u001B[49m\u001B[43m,\u001B[49m\n\u001B[0;32m    455\u001B[0m \u001B[43m        \u001B[49m\u001B[43mtimeout\u001B[49m\u001B[38;5;241;43m=\u001B[39;49m\u001B[43mtimeout\u001B[49m\u001B[43m,\u001B[49m\n\u001B[0;32m    456\u001B[0m \u001B[43m        \u001B[49m\u001B[43mn_jobs\u001B[49m\u001B[38;5;241;43m=\u001B[39;49m\u001B[43mn_jobs\u001B[49m\u001B[43m,\u001B[49m\n\u001B[0;32m    457\u001B[0m \u001B[43m        \u001B[49m\u001B[43mcatch\u001B[49m\u001B[38;5;241;43m=\u001B[39;49m\u001B[38;5;28;43mtuple\u001B[39;49m\u001B[43m(\u001B[49m\u001B[43mcatch\u001B[49m\u001B[43m)\u001B[49m\u001B[43m \u001B[49m\u001B[38;5;28;43;01mif\u001B[39;49;00m\u001B[43m \u001B[49m\u001B[38;5;28;43misinstance\u001B[39;49m\u001B[43m(\u001B[49m\u001B[43mcatch\u001B[49m\u001B[43m,\u001B[49m\u001B[43m \u001B[49m\u001B[43mIterable\u001B[49m\u001B[43m)\u001B[49m\u001B[43m \u001B[49m\u001B[38;5;28;43;01melse\u001B[39;49;00m\u001B[43m \u001B[49m\u001B[43m(\u001B[49m\u001B[43mcatch\u001B[49m\u001B[43m,\u001B[49m\u001B[43m)\u001B[49m\u001B[43m,\u001B[49m\n\u001B[0;32m    458\u001B[0m \u001B[43m        \u001B[49m\u001B[43mcallbacks\u001B[49m\u001B[38;5;241;43m=\u001B[39;49m\u001B[43mcallbacks\u001B[49m\u001B[43m,\u001B[49m\n\u001B[0;32m    459\u001B[0m \u001B[43m        \u001B[49m\u001B[43mgc_after_trial\u001B[49m\u001B[38;5;241;43m=\u001B[39;49m\u001B[43mgc_after_trial\u001B[49m\u001B[43m,\u001B[49m\n\u001B[0;32m    460\u001B[0m \u001B[43m        \u001B[49m\u001B[43mshow_progress_bar\u001B[49m\u001B[38;5;241;43m=\u001B[39;49m\u001B[43mshow_progress_bar\u001B[49m\u001B[43m,\u001B[49m\n\u001B[0;32m    461\u001B[0m \u001B[43m    \u001B[49m\u001B[43m)\u001B[49m\n",
      "File \u001B[1;32m~\\Documents\\kiwi\\Trading\\venv\\Lib\\site-packages\\optuna\\study\\_optimize.py:66\u001B[0m, in \u001B[0;36m_optimize\u001B[1;34m(study, func, n_trials, timeout, n_jobs, catch, callbacks, gc_after_trial, show_progress_bar)\u001B[0m\n\u001B[0;32m     64\u001B[0m \u001B[38;5;28;01mtry\u001B[39;00m:\n\u001B[0;32m     65\u001B[0m     \u001B[38;5;28;01mif\u001B[39;00m n_jobs \u001B[38;5;241m==\u001B[39m \u001B[38;5;241m1\u001B[39m:\n\u001B[1;32m---> 66\u001B[0m         \u001B[43m_optimize_sequential\u001B[49m\u001B[43m(\u001B[49m\n\u001B[0;32m     67\u001B[0m \u001B[43m            \u001B[49m\u001B[43mstudy\u001B[49m\u001B[43m,\u001B[49m\n\u001B[0;32m     68\u001B[0m \u001B[43m            \u001B[49m\u001B[43mfunc\u001B[49m\u001B[43m,\u001B[49m\n\u001B[0;32m     69\u001B[0m \u001B[43m            \u001B[49m\u001B[43mn_trials\u001B[49m\u001B[43m,\u001B[49m\n\u001B[0;32m     70\u001B[0m \u001B[43m            \u001B[49m\u001B[43mtimeout\u001B[49m\u001B[43m,\u001B[49m\n\u001B[0;32m     71\u001B[0m \u001B[43m            \u001B[49m\u001B[43mcatch\u001B[49m\u001B[43m,\u001B[49m\n\u001B[0;32m     72\u001B[0m \u001B[43m            \u001B[49m\u001B[43mcallbacks\u001B[49m\u001B[43m,\u001B[49m\n\u001B[0;32m     73\u001B[0m \u001B[43m            \u001B[49m\u001B[43mgc_after_trial\u001B[49m\u001B[43m,\u001B[49m\n\u001B[0;32m     74\u001B[0m \u001B[43m            \u001B[49m\u001B[43mreseed_sampler_rng\u001B[49m\u001B[38;5;241;43m=\u001B[39;49m\u001B[38;5;28;43;01mFalse\u001B[39;49;00m\u001B[43m,\u001B[49m\n\u001B[0;32m     75\u001B[0m \u001B[43m            \u001B[49m\u001B[43mtime_start\u001B[49m\u001B[38;5;241;43m=\u001B[39;49m\u001B[38;5;28;43;01mNone\u001B[39;49;00m\u001B[43m,\u001B[49m\n\u001B[0;32m     76\u001B[0m \u001B[43m            \u001B[49m\u001B[43mprogress_bar\u001B[49m\u001B[38;5;241;43m=\u001B[39;49m\u001B[43mprogress_bar\u001B[49m\u001B[43m,\u001B[49m\n\u001B[0;32m     77\u001B[0m \u001B[43m        \u001B[49m\u001B[43m)\u001B[49m\n\u001B[0;32m     78\u001B[0m     \u001B[38;5;28;01melse\u001B[39;00m:\n\u001B[0;32m     79\u001B[0m         \u001B[38;5;28;01mif\u001B[39;00m n_jobs \u001B[38;5;241m==\u001B[39m \u001B[38;5;241m-\u001B[39m\u001B[38;5;241m1\u001B[39m:\n",
      "File \u001B[1;32m~\\Documents\\kiwi\\Trading\\venv\\Lib\\site-packages\\optuna\\study\\_optimize.py:163\u001B[0m, in \u001B[0;36m_optimize_sequential\u001B[1;34m(study, func, n_trials, timeout, catch, callbacks, gc_after_trial, reseed_sampler_rng, time_start, progress_bar)\u001B[0m\n\u001B[0;32m    160\u001B[0m         \u001B[38;5;28;01mbreak\u001B[39;00m\n\u001B[0;32m    162\u001B[0m \u001B[38;5;28;01mtry\u001B[39;00m:\n\u001B[1;32m--> 163\u001B[0m     frozen_trial \u001B[38;5;241m=\u001B[39m \u001B[43m_run_trial\u001B[49m\u001B[43m(\u001B[49m\u001B[43mstudy\u001B[49m\u001B[43m,\u001B[49m\u001B[43m \u001B[49m\u001B[43mfunc\u001B[49m\u001B[43m,\u001B[49m\u001B[43m \u001B[49m\u001B[43mcatch\u001B[49m\u001B[43m)\u001B[49m\n\u001B[0;32m    164\u001B[0m \u001B[38;5;28;01mfinally\u001B[39;00m:\n\u001B[0;32m    165\u001B[0m     \u001B[38;5;66;03m# The following line mitigates memory problems that can be occurred in some\u001B[39;00m\n\u001B[0;32m    166\u001B[0m     \u001B[38;5;66;03m# environments (e.g., services that use computing containers such as GitHub Actions).\u001B[39;00m\n\u001B[0;32m    167\u001B[0m     \u001B[38;5;66;03m# Please refer to the following PR for further details:\u001B[39;00m\n\u001B[0;32m    168\u001B[0m     \u001B[38;5;66;03m# https://github.com/optuna/optuna/pull/325.\u001B[39;00m\n\u001B[0;32m    169\u001B[0m     \u001B[38;5;28;01mif\u001B[39;00m gc_after_trial:\n",
      "File \u001B[1;32m~\\Documents\\kiwi\\Trading\\venv\\Lib\\site-packages\\optuna\\study\\_optimize.py:251\u001B[0m, in \u001B[0;36m_run_trial\u001B[1;34m(study, func, catch)\u001B[0m\n\u001B[0;32m    244\u001B[0m         \u001B[38;5;28;01massert\u001B[39;00m \u001B[38;5;28;01mFalse\u001B[39;00m, \u001B[38;5;124m\"\u001B[39m\u001B[38;5;124mShould not reach.\u001B[39m\u001B[38;5;124m\"\u001B[39m\n\u001B[0;32m    246\u001B[0m \u001B[38;5;28;01mif\u001B[39;00m (\n\u001B[0;32m    247\u001B[0m     frozen_trial\u001B[38;5;241m.\u001B[39mstate \u001B[38;5;241m==\u001B[39m TrialState\u001B[38;5;241m.\u001B[39mFAIL\n\u001B[0;32m    248\u001B[0m     \u001B[38;5;129;01mand\u001B[39;00m func_err \u001B[38;5;129;01mis\u001B[39;00m \u001B[38;5;129;01mnot\u001B[39;00m \u001B[38;5;28;01mNone\u001B[39;00m\n\u001B[0;32m    249\u001B[0m     \u001B[38;5;129;01mand\u001B[39;00m \u001B[38;5;129;01mnot\u001B[39;00m \u001B[38;5;28misinstance\u001B[39m(func_err, catch)\n\u001B[0;32m    250\u001B[0m ):\n\u001B[1;32m--> 251\u001B[0m     \u001B[38;5;28;01mraise\u001B[39;00m func_err\n\u001B[0;32m    252\u001B[0m \u001B[38;5;28;01mreturn\u001B[39;00m frozen_trial\n",
      "File \u001B[1;32m~\\Documents\\kiwi\\Trading\\venv\\Lib\\site-packages\\optuna\\study\\_optimize.py:200\u001B[0m, in \u001B[0;36m_run_trial\u001B[1;34m(study, func, catch)\u001B[0m\n\u001B[0;32m    198\u001B[0m \u001B[38;5;28;01mwith\u001B[39;00m get_heartbeat_thread(trial\u001B[38;5;241m.\u001B[39m_trial_id, study\u001B[38;5;241m.\u001B[39m_storage):\n\u001B[0;32m    199\u001B[0m     \u001B[38;5;28;01mtry\u001B[39;00m:\n\u001B[1;32m--> 200\u001B[0m         value_or_values \u001B[38;5;241m=\u001B[39m \u001B[43mfunc\u001B[49m\u001B[43m(\u001B[49m\u001B[43mtrial\u001B[49m\u001B[43m)\u001B[49m\n\u001B[0;32m    201\u001B[0m     \u001B[38;5;28;01mexcept\u001B[39;00m exceptions\u001B[38;5;241m.\u001B[39mTrialPruned \u001B[38;5;28;01mas\u001B[39;00m e:\n\u001B[0;32m    202\u001B[0m         \u001B[38;5;66;03m# TODO(mamu): Handle multi-objective cases.\u001B[39;00m\n\u001B[0;32m    203\u001B[0m         state \u001B[38;5;241m=\u001B[39m TrialState\u001B[38;5;241m.\u001B[39mPRUNED\n",
      "Cell \u001B[1;32mIn[4], line 11\u001B[0m, in \u001B[0;36mobjective\u001B[1;34m(trial)\u001B[0m\n\u001B[0;32m      8\u001B[0m Umbral \u001B[38;5;241m=\u001B[39m trial\u001B[38;5;241m.\u001B[39msuggest_uniform(\u001B[38;5;124m'\u001B[39m\u001B[38;5;124mUmbral\u001B[39m\u001B[38;5;124m'\u001B[39m, \u001B[38;5;241m-\u001B[39m\u001B[38;5;241m40\u001B[39m, \u001B[38;5;241m10\u001B[39m)\n\u001B[0;32m     10\u001B[0m \u001B[38;5;66;03m# Evalúa la función de trading con los parámetros sugeridos\u001B[39;00m\n\u001B[1;32m---> 11\u001B[0m profit_loss \u001B[38;5;241m=\u001B[39m \u001B[43mdef_trading_strategy\u001B[49m\u001B[43m(\u001B[49m\u001B[43mdata\u001B[49m\u001B[43m,\u001B[49m\u001B[43m \u001B[49m\u001B[43mn_shares\u001B[49m\u001B[43m,\u001B[49m\u001B[43m \u001B[49m\u001B[43mstop_loss_close\u001B[49m\u001B[43m,\u001B[49m\u001B[43m \u001B[49m\u001B[43mtake_profit_close\u001B[49m\u001B[43m,\u001B[49m\u001B[43m \u001B[49m\u001B[43mUmbral\u001B[49m\u001B[43m)\u001B[49m\n\u001B[0;32m     13\u001B[0m \u001B[38;5;28;01mreturn\u001B[39;00m profit_loss\n",
      "Cell \u001B[1;32mIn[3], line 13\u001B[0m, in \u001B[0;36mdef_trading_strategy\u001B[1;34m(data, n_shares, stop_loss_close, take_profit_close, Umbral)\u001B[0m\n\u001B[0;32m     11\u001B[0m active_op_temp \u001B[38;5;241m=\u001B[39m []\n\u001B[0;32m     12\u001B[0m \u001B[38;5;28;01mfor\u001B[39;00m operation \u001B[38;5;129;01min\u001B[39;00m active_operations:\n\u001B[1;32m---> 13\u001B[0m     \u001B[38;5;28;01mif\u001B[39;00m operation[\u001B[38;5;124m\"\u001B[39m\u001B[38;5;124mstop_loss\u001B[39m\u001B[38;5;124m\"\u001B[39m] \u001B[38;5;241m>\u001B[39m \u001B[43mrow\u001B[49m\u001B[38;5;241;43m.\u001B[39;49m\u001B[43mClose\u001B[49m:\n\u001B[0;32m     14\u001B[0m         cash \u001B[38;5;241m+\u001B[39m\u001B[38;5;241m=\u001B[39m (row\u001B[38;5;241m.\u001B[39mClose \u001B[38;5;241m*\u001B[39m operation[\u001B[38;5;124m\"\u001B[39m\u001B[38;5;124mn_shares\u001B[39m\u001B[38;5;124m\"\u001B[39m]) \u001B[38;5;241m*\u001B[39m (\u001B[38;5;241m1\u001B[39m \u001B[38;5;241m-\u001B[39m com)\n\u001B[0;32m     15\u001B[0m         \u001B[38;5;66;03m# Calcular la ganancia o pérdida y actualizar el total\u001B[39;00m\n",
      "File \u001B[1;32m~\\Documents\\kiwi\\Trading\\venv\\Lib\\site-packages\\pandas\\core\\generic.py:6295\u001B[0m, in \u001B[0;36mNDFrame.__getattr__\u001B[1;34m(self, name)\u001B[0m\n\u001B[0;32m   6287\u001B[0m \u001B[38;5;66;03m# Note: obj.x will always call obj.__getattribute__('x') prior to\u001B[39;00m\n\u001B[0;32m   6288\u001B[0m \u001B[38;5;66;03m# calling obj.__getattr__('x').\u001B[39;00m\n\u001B[0;32m   6289\u001B[0m \u001B[38;5;28;01mif\u001B[39;00m (\n\u001B[0;32m   6290\u001B[0m     name \u001B[38;5;129;01mnot\u001B[39;00m \u001B[38;5;129;01min\u001B[39;00m \u001B[38;5;28mself\u001B[39m\u001B[38;5;241m.\u001B[39m_internal_names_set\n\u001B[0;32m   6291\u001B[0m     \u001B[38;5;129;01mand\u001B[39;00m name \u001B[38;5;129;01mnot\u001B[39;00m \u001B[38;5;129;01min\u001B[39;00m \u001B[38;5;28mself\u001B[39m\u001B[38;5;241m.\u001B[39m_metadata\n\u001B[0;32m   6292\u001B[0m     \u001B[38;5;129;01mand\u001B[39;00m name \u001B[38;5;129;01mnot\u001B[39;00m \u001B[38;5;129;01min\u001B[39;00m \u001B[38;5;28mself\u001B[39m\u001B[38;5;241m.\u001B[39m_accessors\n\u001B[0;32m   6293\u001B[0m     \u001B[38;5;129;01mand\u001B[39;00m \u001B[38;5;28mself\u001B[39m\u001B[38;5;241m.\u001B[39m_info_axis\u001B[38;5;241m.\u001B[39m_can_hold_identifiers_and_holds_name(name)\n\u001B[0;32m   6294\u001B[0m ):\n\u001B[1;32m-> 6295\u001B[0m     \u001B[38;5;28;01mreturn\u001B[39;00m \u001B[38;5;28;43mself\u001B[39;49m\u001B[43m[\u001B[49m\u001B[43mname\u001B[49m\u001B[43m]\u001B[49m\n\u001B[0;32m   6296\u001B[0m \u001B[38;5;28;01mreturn\u001B[39;00m \u001B[38;5;28mobject\u001B[39m\u001B[38;5;241m.\u001B[39m\u001B[38;5;21m__getattribute__\u001B[39m(\u001B[38;5;28mself\u001B[39m, name)\n",
      "File \u001B[1;32m~\\Documents\\kiwi\\Trading\\venv\\Lib\\site-packages\\pandas\\core\\series.py:1099\u001B[0m, in \u001B[0;36mSeries.__getitem__\u001B[1;34m(self, key)\u001B[0m\n\u001B[0;32m   1096\u001B[0m \u001B[38;5;28;01mif\u001B[39;00m \u001B[38;5;28misinstance\u001B[39m(key, (\u001B[38;5;28mlist\u001B[39m, \u001B[38;5;28mtuple\u001B[39m)):\n\u001B[0;32m   1097\u001B[0m     key \u001B[38;5;241m=\u001B[39m unpack_1tuple(key)\n\u001B[1;32m-> 1099\u001B[0m \u001B[38;5;28;01mif\u001B[39;00m \u001B[43mis_integer\u001B[49m\u001B[43m(\u001B[49m\u001B[43mkey\u001B[49m\u001B[43m)\u001B[49m \u001B[38;5;129;01mand\u001B[39;00m \u001B[38;5;28mself\u001B[39m\u001B[38;5;241m.\u001B[39mindex\u001B[38;5;241m.\u001B[39m_should_fallback_to_positional:\n\u001B[0;32m   1100\u001B[0m     warnings\u001B[38;5;241m.\u001B[39mwarn(\n\u001B[0;32m   1101\u001B[0m         \u001B[38;5;66;03m# GH#50617\u001B[39;00m\n\u001B[0;32m   1102\u001B[0m         \u001B[38;5;124m\"\u001B[39m\u001B[38;5;124mSeries.__getitem__ treating keys as positions is deprecated. \u001B[39m\u001B[38;5;124m\"\u001B[39m\n\u001B[1;32m   (...)\u001B[0m\n\u001B[0;32m   1107\u001B[0m         stacklevel\u001B[38;5;241m=\u001B[39mfind_stack_level(),\n\u001B[0;32m   1108\u001B[0m     )\n\u001B[0;32m   1109\u001B[0m     \u001B[38;5;28;01mreturn\u001B[39;00m \u001B[38;5;28mself\u001B[39m\u001B[38;5;241m.\u001B[39m_values[key]\n",
      "\u001B[1;31mKeyboardInterrupt\u001B[0m: "
     ]
    }
   ],
   "source": [
    "import optuna\n",
    "\n",
    "def objective(trial):\n",
    "    # Define los rangos de búsqueda para los parámetros\n",
    "    n_shares = trial.suggest_int('n_shares', 1, 50)\n",
    "    stop_loss_close = trial.suggest_uniform('stop_loss_close', 0.80, 1)\n",
    "    take_profit_close = trial.suggest_uniform('take_profit_close', 1, 1.5)\n",
    "    Umbral = trial.suggest_uniform('Umbral', -40, 10)\n",
    "\n",
    "    # Evalúa la función de trading con los parámetros sugeridos\n",
    "    profit_loss = def_trading_strategy(data, n_shares, stop_loss_close, take_profit_close, Umbral)\n",
    "    \n",
    "    return profit_loss  # Devuelve la métrica que se debe minimizar/maximizar\n",
    "\n",
    "# Crea un estudio Optuna\n",
    "study = optuna.create_study(direction='maximize')  # 'maximize' si se quiere maximizar la métrica\n",
    "\n",
    "# Ejecuta la optimización\n",
    "study.optimize(objective, n_trials=20)  # Puedes ajustar n_trials según tus recursos y tiempo disponible\n",
    "\n",
    "# Obtiene los mejores parámetros encontrados\n",
    "best_params = study.best_params\n",
    "best_profit_loss = study.best_value\n",
    "\n",
    "print(\"Mejores parámetros encontrados:\")\n",
    "print(best_params)\n",
    "print(\"Rendimiento (Profit/Loss):\", best_profit_loss)\n"
   ]
  },
  {
   "cell_type": "code",
   "execution_count": null,
   "id": "dbe172ec",
   "metadata": {
    "ExecuteTime": {
     "start_time": "2024-02-26T05:33:08.069958900Z"
    }
   },
   "outputs": [],
   "source": [
    "# Condiciones para comprar y vender\n",
    "condicion_compra = data[\"TSI\"] <= -32\n",
    "condicion_venta = data[\"TSI\"] > 30\n",
    "\n",
    "# Aplicando las condiciones para obtener señales de compra y venta\n",
    "data['Senal_TSI'] = ''\n",
    "data.loc[condicion_compra, 'Senal_TSI'] = 'Compra'\n",
    "data.loc[condicion_venta, 'Senal_TSI'] = 'Venta'\n",
    "data.to_excel('T../../../data/5m/TSI_BOS.xlsx', index=False)"
   ]
  },
  {
   "cell_type": "code",
   "execution_count": null,
   "id": "84029993",
   "metadata": {
    "ExecuteTime": {
     "start_time": "2024-02-26T05:33:08.064790300Z"
    }
   },
   "outputs": [],
   "source": [
    "data['Senal_TSI'].value_counts()"
   ]
  },
  {
   "cell_type": "code",
   "execution_count": null,
   "id": "2c21c10f",
   "metadata": {
    "ExecuteTime": {
     "start_time": "2024-02-26T05:33:08.068944500Z"
    }
   },
   "outputs": [],
   "source": []
  }
 ],
 "metadata": {
  "kernelspec": {
   "display_name": "Python 3 (ipykernel)",
   "language": "python",
   "name": "python3"
  },
  "language_info": {
   "codemirror_mode": {
    "name": "ipython",
    "version": 3
   },
   "file_extension": ".py",
   "mimetype": "text/x-python",
   "name": "python",
   "nbconvert_exporter": "python",
   "pygments_lexer": "ipython3",
   "version": "3.11.4"
  }
 },
 "nbformat": 4,
 "nbformat_minor": 5
}
