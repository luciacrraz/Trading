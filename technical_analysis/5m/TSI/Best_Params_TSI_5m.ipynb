{
 "cells": [
  {
   "cell_type": "code",
   "execution_count": 1,
   "id": "45c74508",
   "metadata": {},
   "outputs": [],
   "source": [
    "import pandas as pd\n",
    "import numpy as np\n",
    "import matplotlib.pyplot as plt\n",
    "import ta"
   ]
  },
  {
   "cell_type": "code",
   "execution_count": 2,
   "id": "efb24854",
   "metadata": {},
   "outputs": [],
   "source": [
    "data = pd.read_csv(\"aapl_5m_train.csv\")\n",
    "tsi_data = ta.momentum.TSIIndicator(data.Close, window_slow = 25, window_fast = 13)\n",
    "data[\"TSI\"] = tsi_data.tsi()\n",
    "data = data.dropna()"
   ]
  },
  {
   "cell_type": "code",
   "execution_count": 3,
   "id": "05591dab",
   "metadata": {},
   "outputs": [],
   "source": [
    "def def_trading_strategy(data, n_shares, stop_loss_close, take_profit_close, Umbral):\n",
    "    cash= 1_000_000\n",
    "    com = 0.125/100\n",
    "    history = []\n",
    "    portfolio_value = []\n",
    "    active_operations = []\n",
    "    total_profit_loss = 0\n",
    "\n",
    "    for i, row in data.iterrows():\n",
    "        # Close active operation\n",
    "        active_op_temp = []\n",
    "        for operation in active_operations:\n",
    "            if operation[\"stop_loss\"] > row.Close:\n",
    "                cash += (row.Close * operation[\"n_shares\"]) * (1 - com)\n",
    "                # Calcular la ganancia o pérdida y actualizar el total\n",
    "                profit_loss = (row.Close * operation[\"n_shares\"]) * (1 - com) - (operation[\"bought\"] * operation[\"n_shares\"])\n",
    "                total_profit_loss += profit_loss\n",
    "                history.append({\"timestamp\": row.Timestamp, \"profit_loss\": profit_loss})\n",
    "            elif operation[\"take_profit\"] < row.Close:\n",
    "                cash += (row.Close * operation[\"n_shares\"]) * (1 - com)\n",
    "                # Calcular la ganancia o pérdida y actualizar el total\n",
    "                profit_loss = (row.Close * operation[\"n_shares\"]) * (1 - com) - (operation[\"bought\"] * operation[\"n_shares\"])\n",
    "                total_profit_loss += profit_loss\n",
    "                history.append({\"timestamp\": row.Timestamp, \"profit_loss\": profit_loss})\n",
    "            else:\n",
    "                active_op_temp.append(operation)\n",
    "        active_operations = active_op_temp\n",
    "            \n",
    "        # ¿Tenemos suficiente efectivo?\n",
    "        if cash < (row.Close * n_shares * (1 + com)):\n",
    "            asset_vals = sum([operation[\"n_shares\"] * row.Close for operation in active_operations])\n",
    "            portfolio_value.append(cash + asset_vals)\n",
    "            continue\n",
    "        \n",
    "        # Analizar la señal larga\n",
    "        if row.TSI <= Umbral:  # If ceil(Op)\n",
    "            active_operations.append({\n",
    "                \"timestamp\": row.Timestamp,\n",
    "                \"bought\": row.Close,\n",
    "                \"n_shares\": n_shares,\n",
    "                \"type\": \"long\",\n",
    "                \"stop_loss\": row.Close * stop_loss_close,\n",
    "                \"take_profit\": row.Close * take_profit_close\n",
    "            })\n",
    "            cash -= row.Close * n_shares * (1 + com)\n",
    "        \n",
    "        asset_vals = sum([operation[\"n_shares\"] * row.Close for operation in active_operations])\n",
    "        portfolio_value.append(cash + asset_vals)\n",
    "    \n",
    "    return total_profit_loss\n"
   ]
  },
  {
   "cell_type": "code",
   "execution_count": 4,
   "id": "1b913ae5",
   "metadata": {},
   "outputs": [
    {
     "name": "stderr",
     "output_type": "stream",
     "text": [
      "[I 2024-02-25 14:17:09,937] A new study created in memory with name: no-name-e4f01c4e-3b2b-4e7d-887c-8277aa950ee3\n",
      "C:\\Users\\elias\\AppData\\Local\\Temp\\ipykernel_2444\\4219617228.py:6: FutureWarning: suggest_uniform has been deprecated in v3.0.0. This feature will be removed in v6.0.0. See https://github.com/optuna/optuna/releases/tag/v3.0.0. Use suggest_float instead.\n",
      "  stop_loss_close = trial.suggest_uniform('stop_loss_close', 0.80, 1)\n",
      "C:\\Users\\elias\\AppData\\Local\\Temp\\ipykernel_2444\\4219617228.py:7: FutureWarning: suggest_uniform has been deprecated in v3.0.0. This feature will be removed in v6.0.0. See https://github.com/optuna/optuna/releases/tag/v3.0.0. Use suggest_float instead.\n",
      "  take_profit_close = trial.suggest_uniform('take_profit_close', 1, 1.5)\n",
      "C:\\Users\\elias\\AppData\\Local\\Temp\\ipykernel_2444\\4219617228.py:8: FutureWarning: suggest_uniform has been deprecated in v3.0.0. This feature will be removed in v6.0.0. See https://github.com/optuna/optuna/releases/tag/v3.0.0. Use suggest_float instead.\n",
      "  Umbral = trial.suggest_uniform('Umbral', -40, 10)\n",
      "[I 2024-02-25 14:17:26,494] Trial 0 finished with value: -62085.134844029664 and parameters: {'n_shares': 25, 'stop_loss_close': 0.9869364357991796, 'take_profit_close': 1.006845459173981, 'Umbral': -6.8404501103164606}. Best is trial 0 with value: -62085.134844029664.\n",
      "[I 2024-02-25 14:21:41,316] Trial 1 finished with value: -20394.989299684014 and parameters: {'n_shares': 22, 'stop_loss_close': 0.9124326170773985, 'take_profit_close': 1.0853838279924233, 'Umbral': -4.170611144378412}. Best is trial 1 with value: -20394.989299684014.\n",
      "[I 2024-02-25 14:39:48,867] Trial 2 finished with value: 89985.96224857525 and parameters: {'n_shares': 4, 'stop_loss_close': 0.8340956289594424, 'take_profit_close': 1.1473168169674683, 'Umbral': -9.91646650201459}. Best is trial 2 with value: 89985.96224857525.\n",
      "[I 2024-02-25 14:41:47,154] Trial 3 finished with value: -39495.492289139576 and parameters: {'n_shares': 48, 'stop_loss_close': 0.9181512569897355, 'take_profit_close': 1.2639577637580572, 'Umbral': -21.721649416672953}. Best is trial 2 with value: 89985.96224857525.\n",
      "[I 2024-02-25 14:45:23,248] Trial 4 finished with value: -104597.46888721848 and parameters: {'n_shares': 27, 'stop_loss_close': 0.9628057804365202, 'take_profit_close': 1.3444227074986115, 'Umbral': 5.548102903133419}. Best is trial 2 with value: 89985.96224857525.\n",
      "[I 2024-02-25 14:51:26,643] Trial 5 finished with value: 83079.63177736012 and parameters: {'n_shares': 16, 'stop_loss_close': 0.8234928585964393, 'take_profit_close': 1.3425184255968643, 'Umbral': -15.397504687909901}. Best is trial 2 with value: 89985.96224857525.\n",
      "[I 2024-02-25 14:56:01,896] Trial 6 finished with value: -50032.024036181014 and parameters: {'n_shares': 21, 'stop_loss_close': 0.9338935812506095, 'take_profit_close': 1.1670076693777303, 'Umbral': -3.058815760913859}. Best is trial 2 with value: 89985.96224857525.\n",
      "[I 2024-02-25 14:59:55,216] Trial 7 finished with value: 162807.1380193231 and parameters: {'n_shares': 22, 'stop_loss_close': 0.8208742448275378, 'take_profit_close': 1.1862296827314263, 'Umbral': -32.60173310379612}. Best is trial 7 with value: 162807.1380193231.\n",
      "[I 2024-02-25 15:02:20,616] Trial 8 finished with value: -28068.17321840622 and parameters: {'n_shares': 45, 'stop_loss_close': 0.9360874183626059, 'take_profit_close': 1.1775531391447724, 'Umbral': 2.862655228206613}. Best is trial 7 with value: 162807.1380193231.\n",
      "[I 2024-02-25 15:08:18,760] Trial 9 finished with value: 68290.5572881239 and parameters: {'n_shares': 17, 'stop_loss_close': 0.8075778869451216, 'take_profit_close': 1.3497612732610946, 'Umbral': -16.54913466885011}. Best is trial 7 with value: 162807.1380193231.\n",
      "[I 2024-02-25 15:10:54,666] Trial 10 finished with value: 36447.72423635249 and parameters: {'n_shares': 38, 'stop_loss_close': 0.8655572940788406, 'take_profit_close': 1.468196134599815, 'Umbral': -39.3695948648406}. Best is trial 7 with value: 162807.1380193231.\n",
      "[I 2024-02-25 15:14:57,939] Trial 11 finished with value: 6190.357927487517 and parameters: {'n_shares': 1, 'stop_loss_close': 0.8581742780981438, 'take_profit_close': 1.1422499340933945, 'Umbral': -30.771275529093675}. Best is trial 7 with value: 162807.1380193231.\n",
      "[I 2024-02-25 15:22:10,742] Trial 12 finished with value: 5154.21322970249 and parameters: {'n_shares': 1, 'stop_loss_close': 0.8550881344770259, 'take_profit_close': 1.231452330429663, 'Umbral': -29.053625655271603}. Best is trial 7 with value: 162807.1380193231.\n",
      "[I 2024-02-25 15:26:31,397] Trial 13 finished with value: -5696.809051083175 and parameters: {'n_shares': 9, 'stop_loss_close': 0.8359465082114816, 'take_profit_close': 1.0723647105065977, 'Umbral': -25.01001043081649}. Best is trial 7 with value: 162807.1380193231.\n",
      "[I 2024-02-25 15:28:47,461] Trial 14 finished with value: 16736.21722683766 and parameters: {'n_shares': 35, 'stop_loss_close': 0.8883592766604681, 'take_profit_close': 1.2536542627766143, 'Umbral': -37.61065636065976}. Best is trial 7 with value: 162807.1380193231.\n",
      "[I 2024-02-25 15:38:00,341] Trial 15 finished with value: 85569.530506696 and parameters: {'n_shares': 9, 'stop_loss_close': 0.8018930136894863, 'take_profit_close': 1.1071622660305789, 'Umbral': -10.705962101806424}. Best is trial 7 with value: 162807.1380193231.\n",
      "[I 2024-02-25 15:38:19,749] Trial 16 finished with value: -17448.426184559165 and parameters: {'n_shares': 32, 'stop_loss_close': 0.8783393401991978, 'take_profit_close': 1.001866955664286, 'Umbral': -19.57722523914753}. Best is trial 7 with value: 162807.1380193231.\n",
      "[I 2024-02-25 15:47:16,049] Trial 17 finished with value: 47461.225943601516 and parameters: {'n_shares': 11, 'stop_loss_close': 0.8356387300814129, 'take_profit_close': 1.2159489596613233, 'Umbral': -10.689907528302136}. Best is trial 7 with value: 162807.1380193231.\n",
      "[I 2024-02-25 15:55:33,773] Trial 18 finished with value: -3486.042991950003 and parameters: {'n_shares': 6, 'stop_loss_close': 0.8211624594075165, 'take_profit_close': 1.2973199840085352, 'Umbral': -33.12520575768972}. Best is trial 7 with value: 162807.1380193231.\n",
      "[I 2024-02-25 16:02:42,548] Trial 19 finished with value: 79634.7038519065 and parameters: {'n_shares': 15, 'stop_loss_close': 0.8468001171375967, 'take_profit_close': 1.4418388417917243, 'Umbral': -25.52176751481264}. Best is trial 7 with value: 162807.1380193231.\n"
     ]
    },
    {
     "name": "stdout",
     "output_type": "stream",
     "text": [
      "Mejores parámetros encontrados:\n",
      "{'n_shares': 22, 'stop_loss_close': 0.8208742448275378, 'take_profit_close': 1.1862296827314263, 'Umbral': -32.60173310379612}\n",
      "Rendimiento (Profit/Loss): 162807.1380193231\n"
     ]
    }
   ],
   "source": [
    "import optuna\n",
    "\n",
    "def objective(trial):\n",
    "    # Define los rangos de búsqueda para los parámetros\n",
    "    n_shares = trial.suggest_int('n_shares', 1, 50)\n",
    "    stop_loss_close = trial.suggest_uniform('stop_loss_close', 0.80, 1)\n",
    "    take_profit_close = trial.suggest_uniform('take_profit_close', 1, 1.5)\n",
    "    Umbral = trial.suggest_uniform('Umbral', -40, 10)\n",
    "\n",
    "    # Evalúa la función de trading con los parámetros sugeridos\n",
    "    profit_loss = def_trading_strategy(data, n_shares, stop_loss_close, take_profit_close, Umbral)\n",
    "    \n",
    "    return profit_loss  # Devuelve la métrica que se debe minimizar/maximizar\n",
    "\n",
    "# Crea un estudio Optuna\n",
    "study = optuna.create_study(direction='maximize')  # 'maximize' si se quiere maximizar la métrica\n",
    "\n",
    "# Ejecuta la optimización\n",
    "study.optimize(objective, n_trials=20)  # Puedes ajustar n_trials según tus recursos y tiempo disponible\n",
    "\n",
    "# Obtiene los mejores parámetros encontrados\n",
    "best_params = study.best_params\n",
    "best_profit_loss = study.best_value\n",
    "\n",
    "print(\"Mejores parámetros encontrados:\")\n",
    "print(best_params)\n",
    "print(\"Rendimiento (Profit/Loss):\", best_profit_loss)\n"
   ]
  },
  {
   "cell_type": "code",
   "execution_count": 16,
   "id": "dbe172ec",
   "metadata": {},
   "outputs": [],
   "source": [
    "# Condiciones para comprar y vender\n",
    "condicion_compra = data[\"TSI\"] <= -32\n",
    "condicion_venta = data[\"TSI\"] > 30\n",
    "\n",
    "# Aplicando las condiciones para obtener señales de compra y venta\n",
    "data['Senal_TSI'] = ''\n",
    "data.loc[condicion_compra, 'Senal_TSI'] = 'Compra'\n",
    "data.loc[condicion_venta, 'Senal_TSI'] = 'Venta'\n",
    "data.to_excel('TSI_BOS.xlsx', index=False)"
   ]
  },
  {
   "cell_type": "code",
   "execution_count": 17,
   "id": "84029993",
   "metadata": {},
   "outputs": [
    {
     "data": {
      "text/plain": [
       "Senal_TSI\n",
       "          32391\n",
       "Venta      3998\n",
       "Compra     2734\n",
       "Name: count, dtype: int64"
      ]
     },
     "execution_count": 17,
     "metadata": {},
     "output_type": "execute_result"
    }
   ],
   "source": [
    "data['Senal_TSI'].value_counts()"
   ]
  },
  {
   "cell_type": "code",
   "execution_count": null,
   "id": "2c21c10f",
   "metadata": {},
   "outputs": [],
   "source": []
  }
 ],
 "metadata": {
  "kernelspec": {
   "display_name": "Python 3 (ipykernel)",
   "language": "python",
   "name": "python3"
  },
  "language_info": {
   "codemirror_mode": {
    "name": "ipython",
    "version": 3
   },
   "file_extension": ".py",
   "mimetype": "text/x-python",
   "name": "python",
   "nbconvert_exporter": "python",
   "pygments_lexer": "ipython3",
   "version": "3.11.4"
  }
 },
 "nbformat": 4,
 "nbformat_minor": 5
}
