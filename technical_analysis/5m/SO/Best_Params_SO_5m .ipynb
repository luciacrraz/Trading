{
 "cells": [
  {
   "cell_type": "code",
   "execution_count": 10,
   "id": "45c74508",
   "metadata": {
    "ExecuteTime": {
     "end_time": "2024-02-26T05:49:49.129321500Z",
     "start_time": "2024-02-26T05:49:49.083275Z"
    }
   },
   "outputs": [],
   "source": [
    "import pandas as pd\n",
    "import numpy as np\n",
    "import matplotlib.pyplot as plt\n",
    "import ta"
   ]
  },
  {
   "cell_type": "code",
   "execution_count": 11,
   "id": "efb24854",
   "metadata": {
    "ExecuteTime": {
     "end_time": "2024-02-26T05:49:49.881055700Z",
     "start_time": "2024-02-26T05:49:49.148390200Z"
    }
   },
   "outputs": [],
   "source": [
    "data = pd.read_csv(\"../../../data/aapl_5m_train.csv\")\n",
    "so_data = ta.momentum.StochasticOscillator(data.High, data.Low, data.Close, window = 14, smooth_window = 3)\n",
    "data[\"SO\"] = so_data.stoch()\n",
    "data = data.dropna()"
   ]
  },
  {
   "cell_type": "code",
   "execution_count": 12,
   "id": "05591dab",
   "metadata": {
    "ExecuteTime": {
     "end_time": "2024-02-26T05:49:49.954525200Z",
     "start_time": "2024-02-26T05:49:49.869739800Z"
    }
   },
   "outputs": [],
   "source": [
    "def def_trading_strategy(data, n_shares, stop_loss_close, take_profit_close, Umbral):\n",
    "    cash= 1_000_000\n",
    "    com = 0.125/100\n",
    "    history = []\n",
    "    portfolio_value = []\n",
    "    active_operations = []\n",
    "    total_profit_loss = 0\n",
    "\n",
    "    for i, row in data.iterrows():\n",
    "        # Close active operation\n",
    "        active_op_temp = []\n",
    "        for operation in active_operations:\n",
    "            if operation[\"stop_loss\"] > row.Close:\n",
    "                cash += (row.Close * operation[\"n_shares\"]) * (1 - com)\n",
    "                # Calcular la ganancia o pérdida y actualizar el total\n",
    "                profit_loss = (row.Close * operation[\"n_shares\"]) * (1 - com) - (operation[\"bought\"] * operation[\"n_shares\"])\n",
    "                total_profit_loss += profit_loss\n",
    "                history.append({\"timestamp\": row.Timestamp, \"profit_loss\": profit_loss})\n",
    "            elif operation[\"take_profit\"] < row.Close:\n",
    "                cash += (row.Close * operation[\"n_shares\"]) * (1 - com)\n",
    "                # Calcular la ganancia o pérdida y actualizar el total\n",
    "                profit_loss = (row.Close * operation[\"n_shares\"]) * (1 - com) - (operation[\"bought\"] * operation[\"n_shares\"])\n",
    "                total_profit_loss += profit_loss\n",
    "                history.append({\"timestamp\": row.Timestamp, \"profit_loss\": profit_loss})\n",
    "            else:\n",
    "                active_op_temp.append(operation)\n",
    "        active_operations = active_op_temp\n",
    "            \n",
    "        # ¿Tenemos suficiente efectivo?\n",
    "        if cash < (row.Close * n_shares * (1 + com)):\n",
    "            asset_vals = sum([operation[\"n_shares\"] * row.Close for operation in active_operations])\n",
    "            portfolio_value.append(cash + asset_vals)\n",
    "            continue\n",
    "        \n",
    "        # Analizar la señal larga\n",
    "        if row.SO <= Umbral:  # If ceil(Op)\n",
    "            active_operations.append({\n",
    "                \"timestamp\": row.Timestamp,\n",
    "                \"bought\": row.Close,\n",
    "                \"n_shares\": n_shares,\n",
    "                \"type\": \"long\",\n",
    "                \"stop_loss\": row.Close * stop_loss_close,\n",
    "                \"take_profit\": row.Close * take_profit_close\n",
    "            })\n",
    "            cash -= row.Close * n_shares * (1 + com)\n",
    "        \n",
    "        asset_vals = sum([operation[\"n_shares\"] * row.Close for operation in active_operations])\n",
    "        portfolio_value.append(cash + asset_vals)\n",
    "    \n",
    "    return total_profit_loss"
   ]
  },
  {
   "cell_type": "code",
   "execution_count": null,
   "id": "1b913ae5",
   "metadata": {
    "is_executing": true,
    "ExecuteTime": {
     "start_time": "2024-02-26T05:49:49.928262Z"
    }
   },
   "outputs": [
    {
     "name": "stderr",
     "output_type": "stream",
     "text": [
      "[I 2024-02-25 23:49:49,944] A new study created in memory with name: no-name-05d249c3-d96a-4f5d-9d88-6fc8035a18b2\n",
      "C:\\Users\\elias\\AppData\\Local\\Temp\\ipykernel_22984\\2633116586.py:6: FutureWarning: suggest_uniform has been deprecated in v3.0.0. This feature will be removed in v6.0.0. See https://github.com/optuna/optuna/releases/tag/v3.0.0. Use suggest_float instead.\n",
      "  stop_loss_close = trial.suggest_uniform('stop_loss_close', 0.80, 1)\n",
      "C:\\Users\\elias\\AppData\\Local\\Temp\\ipykernel_22984\\2633116586.py:7: FutureWarning: suggest_uniform has been deprecated in v3.0.0. This feature will be removed in v6.0.0. See https://github.com/optuna/optuna/releases/tag/v3.0.0. Use suggest_float instead.\n",
      "  take_profit_close = trial.suggest_uniform('take_profit_close', 1, 1.5)\n",
      "C:\\Users\\elias\\AppData\\Local\\Temp\\ipykernel_22984\\2633116586.py:8: FutureWarning: suggest_uniform has been deprecated in v3.0.0. This feature will be removed in v6.0.0. See https://github.com/optuna/optuna/releases/tag/v3.0.0. Use suggest_float instead.\n",
      "  Umbral = trial.suggest_uniform('Umbral', 0, 20)\n",
      "[I 2024-02-25 23:51:19,923] Trial 0 finished with value: 72833.65890099999 and parameters: {'n_shares': 40, 'stop_loss_close': 0.8348824671724987, 'take_profit_close': 1.2607265089111102, 'Umbral': 16.075367530810645}. Best is trial 0 with value: 72833.65890099999.\n",
      "[I 2024-02-25 23:52:27,571] Trial 1 finished with value: -70126.35292287484 and parameters: {'n_shares': 50, 'stop_loss_close': 0.9360764454233212, 'take_profit_close': 1.3527509985815858, 'Umbral': 13.682547119924884}. Best is trial 0 with value: 72833.65890099999.\n",
      "[I 2024-02-25 23:52:36,961] Trial 2 finished with value: -12766.604419449606 and parameters: {'n_shares': 20, 'stop_loss_close': 0.8080373814214115, 'take_profit_close': 1.0012013986972512, 'Umbral': 11.702801782904451}. Best is trial 0 with value: 72833.65890099999.\n",
      "[I 2024-02-25 23:54:44,804] Trial 3 finished with value: 35667.14672982142 and parameters: {'n_shares': 7, 'stop_loss_close': 0.8607485194226834, 'take_profit_close': 1.1717216298167414, 'Umbral': 6.083991838748881}. Best is trial 0 with value: 72833.65890099999.\n",
      "[I 2024-02-25 23:55:18,165] Trial 4 finished with value: 35879.77350189371 and parameters: {'n_shares': 15, 'stop_loss_close': 0.961381199217313, 'take_profit_close': 1.2059166543995405, 'Umbral': 3.9417176787540087}. Best is trial 0 with value: 72833.65890099999.\n",
      "[I 2024-02-26 00:01:52,283] Trial 5 finished with value: 16240.416279631441 and parameters: {'n_shares': 7, 'stop_loss_close': 0.8489647239034331, 'take_profit_close': 1.4401328118992218, 'Umbral': 7.661872084135453}. Best is trial 0 with value: 72833.65890099999.\n",
      "[I 2024-02-26 00:05:23,738] Trial 6 finished with value: 83076.3430776484 and parameters: {'n_shares': 14, 'stop_loss_close': 0.8415610446675698, 'take_profit_close': 1.1299793340020892, 'Umbral': 17.01116746352738}. Best is trial 6 with value: 83076.3430776484.\n",
      "[I 2024-02-26 00:07:08,723] Trial 7 finished with value: 55507.35948600512 and parameters: {'n_shares': 28, 'stop_loss_close': 0.8104577305226348, 'take_profit_close': 1.3197481046526538, 'Umbral': 13.721620127901904}. Best is trial 6 with value: 83076.3430776484.\n",
      "[I 2024-02-26 00:08:10,414] Trial 8 finished with value: -73680.37593527252 and parameters: {'n_shares': 27, 'stop_loss_close': 0.8363714664924812, 'take_profit_close': 1.47079529237794, 'Umbral': 0.9044598676205551}. Best is trial 6 with value: 83076.3430776484.\n",
      "[I 2024-02-26 00:10:42,201] Trial 9 finished with value: -59130.32364986238 and parameters: {'n_shares': 15, 'stop_loss_close': 0.9531732157094921, 'take_profit_close': 1.4805327310839256, 'Umbral': 9.101061096238386}. Best is trial 6 with value: 83076.3430776484.\n",
      "[I 2024-02-26 00:11:49,324] Trial 10 finished with value: -98261.72700798055 and parameters: {'n_shares': 35, 'stop_loss_close': 0.8978139087550755, 'take_profit_close': 1.0792812407852317, 'Umbral': 18.710619977695195}. Best is trial 6 with value: 83076.3430776484.\n",
      "[I 2024-02-26 00:12:57,875] Trial 11 finished with value: 11188.589240640124 and parameters: {'n_shares': 42, 'stop_loss_close': 0.886341944110046, 'take_profit_close': 1.1253663329735797, 'Umbral': 19.56484905459305}. Best is trial 6 with value: 83076.3430776484.\n",
      "[I 2024-02-26 00:14:12,215] Trial 12 finished with value: 4149.958231937591 and parameters: {'n_shares': 38, 'stop_loss_close': 0.8663833394825718, 'take_profit_close': 1.2711349384167256, 'Umbral': 16.529938517930088}. Best is trial 6 with value: 83076.3430776484.\n",
      "[I 2024-02-26 00:15:12,910] Trial 13 finished with value: 41662.15363113758 and parameters: {'n_shares': 47, 'stop_loss_close': 0.8234453653680608, 'take_profit_close': 1.243884249075591, 'Umbral': 15.267399001180097}. Best is trial 6 with value: 83076.3430776484.\n",
      "[I 2024-02-26 00:16:57,286] Trial 14 finished with value: 1336.49719896372 and parameters: {'n_shares': 1, 'stop_loss_close': 0.9112184415656549, 'take_profit_close': 1.076192675139842, 'Umbral': 17.123461893565693}. Best is trial 6 with value: 83076.3430776484.\n",
      "[I 2024-02-26 00:17:42,560] Trial 15 finished with value: 54683.003937953894 and parameters: {'n_shares': 31, 'stop_loss_close': 0.9875209522456612, 'take_profit_close': 1.3672968332596938, 'Umbral': 11.180520929927098}. Best is trial 6 with value: 83076.3430776484.\n",
      "[I 2024-02-26 00:19:33,891] Trial 16 finished with value: -59536.140824324706 and parameters: {'n_shares': 22, 'stop_loss_close': 0.8810592988955128, 'take_profit_close': 1.1640557976205317, 'Umbral': 14.229447250528668}. Best is trial 6 with value: 83076.3430776484.\n"
     ]
    }
   ],
   "source": [
    "import optuna\n",
    "\n",
    "def objective(trial):\n",
    "    # Define los rangos de búsqueda para los parámetros\n",
    "    n_shares = trial.suggest_int('n_shares', 1, 50)\n",
    "    stop_loss_close = trial.suggest_uniform('stop_loss_close', 0.80, 1)\n",
    "    take_profit_close = trial.suggest_uniform('take_profit_close', 1, 1.5)\n",
    "    Umbral = trial.suggest_uniform('Umbral', 0, 20)\n",
    "\n",
    "    # Evalúa la función de trading con los parámetros sugeridos\n",
    "    profit_loss = def_trading_strategy(data, n_shares, stop_loss_close, take_profit_close, Umbral)\n",
    "    \n",
    "    return profit_loss  # Devuelve la métrica que se debe minimizar/maximizar\n",
    "\n",
    "# Crea un estudio Optuna\n",
    "study = optuna.create_study(direction='maximize')  # 'maximize' si se quiere maximizar la métrica\n",
    "\n",
    "# Ejecuta la optimización\n",
    "study.optimize(objective, n_trials=20)  # Puedes ajustar n_trials según tus recursos y tiempo disponible\n",
    "\n",
    "# Obtiene los mejores parámetros encontrados\n",
    "best_params = study.best_params\n",
    "best_profit_loss = study.best_value\n",
    "\n",
    "print(\"Mejores parámetros encontrados:\")\n",
    "print(best_params)\n",
    "print(\"Rendimiento (Profit/Loss):\", best_profit_loss)\n"
   ]
  },
  {
   "cell_type": "code",
   "execution_count": null,
   "id": "dbe172ec",
   "metadata": {
    "is_executing": true
   },
   "outputs": [],
   "source": [
    "# Condiciones para comprar y vender\n",
    "condicion_compra = data[\"SO\"] <= 20\n",
    "condicion_venta = data[\"SO\"] > 80\n",
    "\n",
    "# Aplicando las condiciones para obtener señales de compra y venta\n",
    "data['Senal_SO'] = ''\n",
    "data.loc[condicion_compra, 'Senal_SO'] = 'Compra'\n",
    "data.loc[condicion_venta, 'Senal_SO'] = 'Venta'\n",
    "data.to_excel('../../../data/5m/SO_BOS.xlsx', index=False)"
   ]
  },
  {
   "cell_type": "code",
   "execution_count": null,
   "id": "e4cf1a29",
   "metadata": {
    "is_executing": true
   },
   "outputs": [],
   "source": [
    "data['Senal_SO'].value_counts()"
   ]
  },
  {
   "cell_type": "code",
   "outputs": [],
   "source": [],
   "metadata": {
    "collapsed": false,
    "is_executing": true
   },
   "id": "45c89b8f6ada539b"
  }
 ],
 "metadata": {
  "kernelspec": {
   "display_name": "Python 3 (ipykernel)",
   "language": "python",
   "name": "python3"
  },
  "language_info": {
   "codemirror_mode": {
    "name": "ipython",
    "version": 3
   },
   "file_extension": ".py",
   "mimetype": "text/x-python",
   "name": "python",
   "nbconvert_exporter": "python",
   "pygments_lexer": "ipython3",
   "version": "3.11.4"
  }
 },
 "nbformat": 4,
 "nbformat_minor": 5
}
