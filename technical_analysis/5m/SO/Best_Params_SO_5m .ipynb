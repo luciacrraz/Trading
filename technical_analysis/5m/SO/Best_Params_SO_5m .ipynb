{
 "cells": [
  {
   "cell_type": "code",
   "execution_count": 1,
   "id": "45c74508",
   "metadata": {
    "ExecuteTime": {
     "end_time": "2024-02-26T04:16:52.168049300Z",
     "start_time": "2024-02-26T04:16:50.843687400Z"
    }
   },
   "outputs": [],
   "source": [
    "import pandas as pd\n",
    "import numpy as np\n",
    "import matplotlib.pyplot as plt\n",
    "import ta"
   ]
  },
  {
   "cell_type": "code",
   "execution_count": 2,
   "id": "efb24854",
   "metadata": {
    "ExecuteTime": {
     "end_time": "2024-02-26T04:16:52.276638700Z",
     "start_time": "2024-02-26T04:16:52.172160800Z"
    }
   },
   "outputs": [],
   "source": [
    "data = pd.read_csv(\"../../../data/aapl_5m_train.csv\")\n",
    "so_data = ta.momentum.StochasticOscillator(data.High, data.Low, data.Close, window = 14, smooth_window = 3)\n",
    "data[\"SO\"] = so_data.stoch()\n",
    "data = data.dropna()"
   ]
  },
  {
   "cell_type": "code",
   "execution_count": 3,
   "id": "05591dab",
   "metadata": {
    "ExecuteTime": {
     "end_time": "2024-02-26T04:16:52.297442900Z",
     "start_time": "2024-02-26T04:16:52.282815700Z"
    }
   },
   "outputs": [],
   "source": [
    "def def_trading_strategy(data, n_shares, stop_loss_close, take_profit_close, Umbral):\n",
    "    cash= 1_000_000\n",
    "    com = 0.125/100\n",
    "    history = []\n",
    "    portfolio_value = []\n",
    "    active_operations = []\n",
    "    total_profit_loss = 0\n",
    "\n",
    "    for i, row in data.iterrows():\n",
    "        # Close active operation\n",
    "        active_op_temp = []\n",
    "        for operation in active_operations:\n",
    "            if operation[\"stop_loss\"] > row.Close:\n",
    "                cash += (row.Close * operation[\"n_shares\"]) * (1 - com)\n",
    "                # Calcular la ganancia o pérdida y actualizar el total\n",
    "                profit_loss = (row.Close * operation[\"n_shares\"]) * (1 - com) - (operation[\"bought\"] * operation[\"n_shares\"])\n",
    "                total_profit_loss += profit_loss\n",
    "                history.append({\"timestamp\": row.Timestamp, \"profit_loss\": profit_loss})\n",
    "            elif operation[\"take_profit\"] < row.Close:\n",
    "                cash += (row.Close * operation[\"n_shares\"]) * (1 - com)\n",
    "                # Calcular la ganancia o pérdida y actualizar el total\n",
    "                profit_loss = (row.Close * operation[\"n_shares\"]) * (1 - com) - (operation[\"bought\"] * operation[\"n_shares\"])\n",
    "                total_profit_loss += profit_loss\n",
    "                history.append({\"timestamp\": row.Timestamp, \"profit_loss\": profit_loss})\n",
    "            else:\n",
    "                active_op_temp.append(operation)\n",
    "        active_operations = active_op_temp\n",
    "            \n",
    "        # ¿Tenemos suficiente efectivo?\n",
    "        if cash < (row.Close * n_shares * (1 + com)):\n",
    "            asset_vals = sum([operation[\"n_shares\"] * row.Close for operation in active_operations])\n",
    "            portfolio_value.append(cash + asset_vals)\n",
    "            continue\n",
    "        \n",
    "        # Analizar la señal larga\n",
    "        if row.SO <= Umbral:  # If ceil(Op)\n",
    "            active_operations.append({\n",
    "                \"timestamp\": row.Timestamp,\n",
    "                \"bought\": row.Close,\n",
    "                \"n_shares\": n_shares,\n",
    "                \"type\": \"long\",\n",
    "                \"stop_loss\": row.Close * stop_loss_close,\n",
    "                \"take_profit\": row.Close * take_profit_close\n",
    "            })\n",
    "            cash -= row.Close * n_shares * (1 + com)\n",
    "        \n",
    "        asset_vals = sum([operation[\"n_shares\"] * row.Close for operation in active_operations])\n",
    "        portfolio_value.append(cash + asset_vals)\n",
    "    \n",
    "    return total_profit_loss"
   ]
  },
  {
   "cell_type": "code",
   "execution_count": 4,
   "id": "1b913ae5",
   "metadata": {
    "ExecuteTime": {
     "end_time": "2024-02-26T04:52:05.672841700Z",
     "start_time": "2024-02-26T04:16:52.296116300Z"
    }
   },
   "outputs": [
    {
     "name": "stderr",
     "output_type": "stream",
     "text": [
      "[I 2024-02-25 22:16:52,868] A new study created in memory with name: no-name-714ea01e-4e29-44e9-b1af-4eecf533f22c\n",
      "C:\\Users\\elias\\AppData\\Local\\Temp\\ipykernel_22984\\2633116586.py:6: FutureWarning: suggest_uniform has been deprecated in v3.0.0. This feature will be removed in v6.0.0. See https://github.com/optuna/optuna/releases/tag/v3.0.0. Use suggest_float instead.\n",
      "  stop_loss_close = trial.suggest_uniform('stop_loss_close', 0.80, 1)\n",
      "C:\\Users\\elias\\AppData\\Local\\Temp\\ipykernel_22984\\2633116586.py:7: FutureWarning: suggest_uniform has been deprecated in v3.0.0. This feature will be removed in v6.0.0. See https://github.com/optuna/optuna/releases/tag/v3.0.0. Use suggest_float instead.\n",
      "  take_profit_close = trial.suggest_uniform('take_profit_close', 1, 1.5)\n",
      "C:\\Users\\elias\\AppData\\Local\\Temp\\ipykernel_22984\\2633116586.py:8: FutureWarning: suggest_uniform has been deprecated in v3.0.0. This feature will be removed in v6.0.0. See https://github.com/optuna/optuna/releases/tag/v3.0.0. Use suggest_float instead.\n",
      "  Umbral = trial.suggest_uniform('Umbral', 0, 20)\n",
      "[I 2024-02-25 22:19:08,369] Trial 0 finished with value: 10611.96384430506 and parameters: {'n_shares': 2, 'stop_loss_close': 0.8385949094066905, 'take_profit_close': 1.1854430836891479, 'Umbral': 4.482388867974539}. Best is trial 0 with value: 10611.96384430506.\n",
      "[I 2024-02-25 22:21:04,368] Trial 1 finished with value: -3187.170596639999 and parameters: {'n_shares': 1, 'stop_loss_close': 0.8571441588811597, 'take_profit_close': 1.4206353028854335, 'Umbral': 1.2340089755228023}. Best is trial 0 with value: 10611.96384430506.\n",
      "[I 2024-02-25 22:21:37,179] Trial 2 finished with value: -79957.03566701857 and parameters: {'n_shares': 48, 'stop_loss_close': 0.9092447281206634, 'take_profit_close': 1.0082226294630519, 'Umbral': 19.540438652278343}. Best is trial 0 with value: 10611.96384430506.\n",
      "[I 2024-02-25 22:23:24,476] Trial 3 finished with value: 92584.67746906132 and parameters: {'n_shares': 27, 'stop_loss_close': 0.8408174352267977, 'take_profit_close': 1.281204076902907, 'Umbral': 4.671261674656337}. Best is trial 3 with value: 92584.67746906132.\n",
      "[I 2024-02-25 22:24:42,554] Trial 4 finished with value: -111230.37130513748 and parameters: {'n_shares': 26, 'stop_loss_close': 0.9822733151926031, 'take_profit_close': 1.3581833259696519, 'Umbral': 19.163058751340262}. Best is trial 3 with value: 92584.67746906132.\n",
      "[I 2024-02-25 22:29:49,056] Trial 5 finished with value: -65888.50791025981 and parameters: {'n_shares': 7, 'stop_loss_close': 0.916917093465155, 'take_profit_close': 1.2852551801587908, 'Umbral': 12.254631720077853}. Best is trial 3 with value: 92584.67746906132.\n",
      "[I 2024-02-25 22:31:50,651] Trial 6 finished with value: 56503.768310261614 and parameters: {'n_shares': 33, 'stop_loss_close': 0.8084945759435467, 'take_profit_close': 1.0642292848404011, 'Umbral': 18.648908307738}. Best is trial 3 with value: 92584.67746906132.\n",
      "[I 2024-02-25 22:31:54,219] Trial 7 finished with value: -5707.237023899879 and parameters: {'n_shares': 18, 'stop_loss_close': 0.9148142234012412, 'take_profit_close': 1.0014312786689108, 'Umbral': 4.298670106103344}. Best is trial 3 with value: 92584.67746906132.\n",
      "[I 2024-02-25 22:32:16,028] Trial 8 finished with value: 4171.9526646363 and parameters: {'n_shares': 13, 'stop_loss_close': 0.9881718758139437, 'take_profit_close': 1.1066527471606502, 'Umbral': 6.953167191817342}. Best is trial 3 with value: 92584.67746906132.\n",
      "[I 2024-02-25 22:32:35,240] Trial 9 finished with value: -1637.9673702437433 and parameters: {'n_shares': 1, 'stop_loss_close': 0.9344298624381456, 'take_profit_close': 1.0324078422820349, 'Umbral': 4.847934232558262}. Best is trial 3 with value: 92584.67746906132.\n",
      "[I 2024-02-25 22:34:09,596] Trial 10 finished with value: -23128.194416973736 and parameters: {'n_shares': 39, 'stop_loss_close': 0.8659872590351674, 'take_profit_close': 1.473386143830176, 'Umbral': 11.88496241138315}. Best is trial 3 with value: 92584.67746906132.\n",
      "[I 2024-02-25 22:36:13,995] Trial 11 finished with value: -798.519101738726 and parameters: {'n_shares': 31, 'stop_loss_close': 0.800347554966027, 'take_profit_close': 1.2348421414520172, 'Umbral': 14.875763862221259}. Best is trial 3 with value: 92584.67746906132.\n",
      "[I 2024-02-25 22:37:34,650] Trial 12 finished with value: 21976.793344730504 and parameters: {'n_shares': 34, 'stop_loss_close': 0.8020553661213299, 'take_profit_close': 1.1426019071752826, 'Umbral': 8.653039519504514}. Best is trial 3 with value: 92584.67746906132.\n",
      "[I 2024-02-25 22:39:37,773] Trial 13 finished with value: 74391.39893855958 and parameters: {'n_shares': 22, 'stop_loss_close': 0.8363449178701514, 'take_profit_close': 1.3112027411946374, 'Umbral': 15.527628508609526}. Best is trial 3 with value: 92584.67746906132.\n",
      "[I 2024-02-25 22:41:50,640] Trial 14 finished with value: -59370.81458377483 and parameters: {'n_shares': 20, 'stop_loss_close': 0.8777576034728682, 'take_profit_close': 1.3179246867272731, 'Umbral': 15.051927764454877}. Best is trial 3 with value: 92584.67746906132.\n",
      "[I 2024-02-25 22:42:44,492] Trial 15 finished with value: -28364.46479274 and parameters: {'n_shares': 24, 'stop_loss_close': 0.8351461162690333, 'take_profit_close': 1.38830943993875, 'Umbral': 0.889472358816715}. Best is trial 3 with value: 92584.67746906132.\n",
      "[I 2024-02-25 22:46:11,343] Trial 16 finished with value: 70796.5205532655 and parameters: {'n_shares': 13, 'stop_loss_close': 0.8324721771941829, 'take_profit_close': 1.2553549591994344, 'Umbral': 15.955252861608821}. Best is trial 3 with value: 92584.67746906132.\n",
      "[I 2024-02-25 22:47:14,154] Trial 17 finished with value: -26941.107821722162 and parameters: {'n_shares': 42, 'stop_loss_close': 0.8843599151257283, 'take_profit_close': 1.1944164547500542, 'Umbral': 10.141389939477353}. Best is trial 3 with value: 92584.67746906132.\n",
      "[I 2024-02-25 22:49:26,662] Trial 18 finished with value: 73011.65962434742 and parameters: {'n_shares': 27, 'stop_loss_close': 0.8544874948767539, 'take_profit_close': 1.3276780347525303, 'Umbral': 7.807749251742528}. Best is trial 3 with value: 92584.67746906132.\n",
      "[I 2024-02-25 22:52:05,605] Trial 19 finished with value: -84569.91673477483 and parameters: {'n_shares': 20, 'stop_loss_close': 0.9414358882081413, 'take_profit_close': 1.4993626331605892, 'Umbral': 11.260453121451615}. Best is trial 3 with value: 92584.67746906132.\n"
     ]
    },
    {
     "name": "stdout",
     "output_type": "stream",
     "text": [
      "Mejores parámetros encontrados:\n",
      "{'n_shares': 27, 'stop_loss_close': 0.8408174352267977, 'take_profit_close': 1.281204076902907, 'Umbral': 4.671261674656337}\n",
      "Rendimiento (Profit/Loss): 92584.67746906132\n"
     ]
    }
   ],
   "source": [
    "import optuna\n",
    "\n",
    "def objective(trial):\n",
    "    # Define los rangos de búsqueda para los parámetros\n",
    "    n_shares = trial.suggest_int('n_shares', 1, 50)\n",
    "    stop_loss_close = trial.suggest_uniform('stop_loss_close', 0.80, 1)\n",
    "    take_profit_close = trial.suggest_uniform('take_profit_close', 1, 1.5)\n",
    "    Umbral = trial.suggest_uniform('Umbral', 0, 20)\n",
    "\n",
    "    # Evalúa la función de trading con los parámetros sugeridos\n",
    "    profit_loss = def_trading_strategy(data, n_shares, stop_loss_close, take_profit_close, Umbral)\n",
    "    \n",
    "    return profit_loss  # Devuelve la métrica que se debe minimizar/maximizar\n",
    "\n",
    "# Crea un estudio Optuna\n",
    "study = optuna.create_study(direction='maximize')  # 'maximize' si se quiere maximizar la métrica\n",
    "\n",
    "# Ejecuta la optimización\n",
    "study.optimize(objective, n_trials=20)  # Puedes ajustar n_trials según tus recursos y tiempo disponible\n",
    "\n",
    "# Obtiene los mejores parámetros encontrados\n",
    "best_params = study.best_params\n",
    "best_profit_loss = study.best_value\n",
    "\n",
    "print(\"Mejores parámetros encontrados:\")\n",
    "print(best_params)\n",
    "print(\"Rendimiento (Profit/Loss):\", best_profit_loss)\n"
   ]
  },
  {
   "cell_type": "code",
   "execution_count": 8,
   "id": "dbe172ec",
   "metadata": {
    "ExecuteTime": {
     "end_time": "2024-02-26T05:35:03.506756900Z",
     "start_time": "2024-02-26T05:34:50.116334400Z"
    }
   },
   "outputs": [],
   "source": [
    "# Condiciones para comprar y vender\n",
    "condicion_compra = data[\"SO\"] <= 20\n",
    "condicion_venta = data[\"SO\"] > 80\n",
    "\n",
    "# Aplicando las condiciones para obtener señales de compra y venta\n",
    "data['Senal_SO'] = ''\n",
    "data.loc[condicion_compra, 'Senal_SO'] = 'Compra'\n",
    "data.loc[condicion_venta, 'Senal_SO'] = 'Venta'\n",
    "data.to_excel('../../../data/5m/SO_BOS.xlsx', index=False)"
   ]
  },
  {
   "cell_type": "code",
   "execution_count": 9,
   "id": "e4cf1a29",
   "metadata": {
    "ExecuteTime": {
     "end_time": "2024-02-26T05:35:03.521276Z",
     "start_time": "2024-02-26T05:35:03.518257400Z"
    }
   },
   "outputs": [
    {
     "data": {
      "text/plain": "Senal_SO\n          21180\nVenta      9533\nCompra     8409\nName: count, dtype: int64"
     },
     "execution_count": 9,
     "metadata": {},
     "output_type": "execute_result"
    }
   ],
   "source": [
    "data['Senal_SO'].value_counts()"
   ]
  },
  {
   "cell_type": "code",
   "outputs": [],
   "source": [],
   "metadata": {
    "collapsed": false
   },
   "id": "45c89b8f6ada539b"
  }
 ],
 "metadata": {
  "kernelspec": {
   "display_name": "Python 3 (ipykernel)",
   "language": "python",
   "name": "python3"
  },
  "language_info": {
   "codemirror_mode": {
    "name": "ipython",
    "version": 3
   },
   "file_extension": ".py",
   "mimetype": "text/x-python",
   "name": "python",
   "nbconvert_exporter": "python",
   "pygments_lexer": "ipython3",
   "version": "3.11.4"
  }
 },
 "nbformat": 4,
 "nbformat_minor": 5
}
