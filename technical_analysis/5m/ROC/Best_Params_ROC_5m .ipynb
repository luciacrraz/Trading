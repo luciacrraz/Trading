{
 "cells": [
  {
   "cell_type": "code",
   "execution_count": 1,
   "id": "45c74508",
   "metadata": {},
   "outputs": [],
   "source": [
    "import pandas as pd\n",
    "import numpy as np\n",
    "import matplotlib.pyplot as plt\n",
    "import ta"
   ]
  },
  {
   "cell_type": "code",
   "execution_count": 2,
   "id": "efb24854",
   "metadata": {},
   "outputs": [],
   "source": [
    "data = pd.read_csv(\"aapl_5m_train.csv\")\n",
    "roc_data = ta.momentum.ROCIndicator(data.Close, window=14)\n",
    "data[\"ROC\"] = roc_data.roc()\n",
    "data = data.dropna()"
   ]
  },
  {
   "cell_type": "code",
   "execution_count": 3,
   "id": "05591dab",
   "metadata": {},
   "outputs": [],
   "source": [
    "def def_trading_strategy(data, n_shares, stop_loss_close, take_profit_close, Umbral):\n",
    "    cash= 1_000_000\n",
    "    com = 0.125/100\n",
    "    history = []\n",
    "    portfolio_value = []\n",
    "    active_operations = []\n",
    "    total_profit_loss = 0\n",
    "\n",
    "    for i, row in data.iterrows():\n",
    "        # Close active operation\n",
    "        active_op_temp = []\n",
    "        for operation in active_operations:\n",
    "            if operation[\"stop_loss\"] > row.Close:\n",
    "                cash += (row.Close * operation[\"n_shares\"]) * (1 - com)\n",
    "                # Calcular la ganancia o pérdida y actualizar el total\n",
    "                profit_loss = (row.Close * operation[\"n_shares\"]) * (1 - com) - (operation[\"bought\"] * operation[\"n_shares\"])\n",
    "                total_profit_loss += profit_loss\n",
    "                history.append({\"timestamp\": row.Timestamp, \"profit_loss\": profit_loss})\n",
    "            elif operation[\"take_profit\"] < row.Close:\n",
    "                cash += (row.Close * operation[\"n_shares\"]) * (1 - com)\n",
    "                # Calcular la ganancia o pérdida y actualizar el total\n",
    "                profit_loss = (row.Close * operation[\"n_shares\"]) * (1 - com) - (operation[\"bought\"] * operation[\"n_shares\"])\n",
    "                total_profit_loss += profit_loss\n",
    "                history.append({\"timestamp\": row.Timestamp, \"profit_loss\": profit_loss})\n",
    "            else:\n",
    "                active_op_temp.append(operation)\n",
    "        active_operations = active_op_temp\n",
    "            \n",
    "        # ¿Tenemos suficiente efectivo?\n",
    "        if cash < (row.Close * n_shares * (1 + com)):\n",
    "            asset_vals = sum([operation[\"n_shares\"] * row.Close for operation in active_operations])\n",
    "            portfolio_value.append(cash + asset_vals)\n",
    "            continue\n",
    "        \n",
    "        # Analizar la señal larga\n",
    "        if row.ROC <= Umbral:  # If ceil(Op)\n",
    "            active_operations.append({\n",
    "                \"timestamp\": row.Timestamp,\n",
    "                \"bought\": row.Close,\n",
    "                \"n_shares\": n_shares,\n",
    "                \"type\": \"long\",\n",
    "                \"stop_loss\": row.Close * stop_loss_close,\n",
    "                \"take_profit\": row.Close * take_profit_close\n",
    "            })\n",
    "            cash -= row.Close * n_shares * (1 + com)\n",
    "        \n",
    "        asset_vals = sum([operation[\"n_shares\"] * row.Close for operation in active_operations])\n",
    "        portfolio_value.append(cash + asset_vals)\n",
    "    \n",
    "    return total_profit_loss"
   ]
  },
  {
   "cell_type": "code",
   "execution_count": 4,
   "id": "1b913ae5",
   "metadata": {},
   "outputs": [
    {
     "name": "stderr",
     "output_type": "stream",
     "text": [
      "[I 2024-02-25 14:16:59,542] A new study created in memory with name: no-name-83fd57ae-9564-45fb-8880-4a960ecbeeb4\n",
      "C:\\Users\\elias\\AppData\\Local\\Temp\\ipykernel_25788\\4198235827.py:6: FutureWarning: suggest_uniform has been deprecated in v3.0.0. This feature will be removed in v6.0.0. See https://github.com/optuna/optuna/releases/tag/v3.0.0. Use suggest_float instead.\n",
      "  stop_loss_close = trial.suggest_uniform('stop_loss_close', 0.80, 1)\n",
      "C:\\Users\\elias\\AppData\\Local\\Temp\\ipykernel_25788\\4198235827.py:7: FutureWarning: suggest_uniform has been deprecated in v3.0.0. This feature will be removed in v6.0.0. See https://github.com/optuna/optuna/releases/tag/v3.0.0. Use suggest_float instead.\n",
      "  take_profit_close = trial.suggest_uniform('take_profit_close', 1, 1.5)\n",
      "C:\\Users\\elias\\AppData\\Local\\Temp\\ipykernel_25788\\4198235827.py:8: FutureWarning: suggest_uniform has been deprecated in v3.0.0. This feature will be removed in v6.0.0. See https://github.com/optuna/optuna/releases/tag/v3.0.0. Use suggest_float instead.\n",
      "  Umbral = trial.suggest_uniform('Umbral', -10, 10)\n",
      "[I 2024-02-25 14:20:33,397] Trial 0 finished with value: -190928.89091951947 and parameters: {'n_shares': 26, 'stop_loss_close': 0.9819227649763912, 'take_profit_close': 1.3308428417231564, 'Umbral': 4.246491065918285}. Best is trial 0 with value: -190928.89091951947.\n",
      "[I 2024-02-25 14:26:55,187] Trial 1 finished with value: -57503.69033185925 and parameters: {'n_shares': 16, 'stop_loss_close': 0.9143809226773035, 'take_profit_close': 1.2291502704960777, 'Umbral': 6.72236501033041}. Best is trial 1 with value: -57503.69033185925.\n",
      "[I 2024-02-25 14:27:00,397] Trial 2 finished with value: 1196.4968382750003 and parameters: {'n_shares': 12, 'stop_loss_close': 0.8143750486537074, 'take_profit_close': 1.1648397149513599, 'Umbral': -4.279629916320193}. Best is trial 2 with value: 1196.4968382750003.\n",
      "[I 2024-02-25 14:27:07,059] Trial 3 finished with value: 5397.7471571450715 and parameters: {'n_shares': 28, 'stop_loss_close': 0.9760110709170664, 'take_profit_close': 1.0749531133619545, 'Umbral': -2.463685038548025}. Best is trial 3 with value: 5397.7471571450715.\n",
      "[I 2024-02-25 14:29:34,456] Trial 4 finished with value: -78891.43987661964 and parameters: {'n_shares': 42, 'stop_loss_close': 0.966155508162215, 'take_profit_close': 1.459421070886085, 'Umbral': 6.737445020096942}. Best is trial 3 with value: 5397.7471571450715.\n",
      "[I 2024-02-25 14:29:37,502] Trial 5 finished with value: -485.39785458750157 and parameters: {'n_shares': 30, 'stop_loss_close': 0.9112901224740209, 'take_profit_close': 1.125962901240671, 'Umbral': -4.638325735645841}. Best is trial 3 with value: 5397.7471571450715.\n",
      "[I 2024-02-25 14:32:04,328] Trial 6 finished with value: -13813.405680402775 and parameters: {'n_shares': 43, 'stop_loss_close': 0.892936200678732, 'take_profit_close': 1.213898838652812, 'Umbral': 6.734481792572623}. Best is trial 3 with value: 5397.7471571450715.\n",
      "[I 2024-02-25 14:33:21,169] Trial 7 finished with value: -34132.30057391249 and parameters: {'n_shares': 30, 'stop_loss_close': 0.9056880706787807, 'take_profit_close': 1.312667059256273, 'Umbral': -2.250754282638283}. Best is trial 3 with value: 5397.7471571450715.\n",
      "[I 2024-02-25 14:33:23,757] Trial 8 finished with value: 0.0 and parameters: {'n_shares': 41, 'stop_loss_close': 0.8808862647340023, 'take_profit_close': 1.089473461258569, 'Umbral': -7.504554458226796}. Best is trial 3 with value: 5397.7471571450715.\n",
      "[I 2024-02-25 14:39:33,255] Trial 9 finished with value: 0.0 and parameters: {'n_shares': 18, 'stop_loss_close': 0.8230097241351264, 'take_profit_close': 1.4956694651156799, 'Umbral': 5.333922353565427}. Best is trial 3 with value: 5397.7471571450715.\n",
      "[I 2024-02-25 14:40:17,206] Trial 10 finished with value: -6491.762936087367 and parameters: {'n_shares': 1, 'stop_loss_close': 0.9549784848152404, 'take_profit_close': 1.0022173255781945, 'Umbral': 2.0120776377616325}. Best is trial 3 with value: 5397.7471571450715.\n",
      "[I 2024-02-25 14:42:34,031] Trial 11 finished with value: 36988.64292795879 and parameters: {'n_shares': 7, 'stop_loss_close': 0.8292085152989868, 'take_profit_close': 1.1095166492437003, 'Umbral': -1.2069251337904698}. Best is trial 11 with value: 36988.64292795879.\n",
      "[I 2024-02-25 14:57:12,035] Trial 12 finished with value: -9537.80015753341 and parameters: {'n_shares': 3, 'stop_loss_close': 0.8508391659785668, 'take_profit_close': 1.0387747123563735, 'Umbral': 0.24660998047001215}. Best is trial 11 with value: 36988.64292795879.\n",
      "[I 2024-02-25 14:57:14,880] Trial 13 finished with value: 0.0 and parameters: {'n_shares': 34, 'stop_loss_close': 0.9415645991020838, 'take_profit_close': 1.0793994996698513, 'Umbral': -9.382243784337996}. Best is trial 11 with value: 36988.64292795879.\n",
      "[I 2024-02-25 15:09:04,741] Trial 14 finished with value: 98867.8158419155 and parameters: {'n_shares': 9, 'stop_loss_close': 0.8530483302481182, 'take_profit_close': 1.1630344216790067, 'Umbral': 9.90074013075512}. Best is trial 14 with value: 98867.8158419155.\n",
      "[I 2024-02-25 15:20:51,476] Trial 15 finished with value: 112980.61492244151 and parameters: {'n_shares': 9, 'stop_loss_close': 0.8479030722382629, 'take_profit_close': 1.1663494184921364, 'Umbral': 9.952509535749991}. Best is trial 15 with value: 112980.61492244151.\n",
      "[I 2024-02-25 15:26:05,650] Trial 16 finished with value: 38643.423177175064 and parameters: {'n_shares': 20, 'stop_loss_close': 0.8623227935329378, 'take_profit_close': 1.3012489428308598, 'Umbral': 8.83942022663496}. Best is trial 15 with value: 112980.61492244151.\n",
      "[I 2024-02-25 15:37:01,053] Trial 17 finished with value: 19138.058153010847 and parameters: {'n_shares': 9, 'stop_loss_close': 0.8001326486233697, 'take_profit_close': 1.1668291590348505, 'Umbral': 9.87336898410546}. Best is trial 15 with value: 112980.61492244151.\n",
      "[I 2024-02-25 15:45:22,528] Trial 18 finished with value: 88531.90545471932 and parameters: {'n_shares': 13, 'stop_loss_close': 0.85341052956923, 'take_profit_close': 1.371202370412898, 'Umbral': 3.328541271264047}. Best is trial 15 with value: 112980.61492244151.\n",
      "[I 2024-02-25 15:50:32,538] Trial 19 finished with value: 38889.71683345849 and parameters: {'n_shares': 21, 'stop_loss_close': 0.8757434590008045, 'take_profit_close': 1.1886020523588643, 'Umbral': 8.664622166759482}. Best is trial 15 with value: 112980.61492244151.\n"
     ]
    },
    {
     "name": "stdout",
     "output_type": "stream",
     "text": [
      "Mejores parámetros encontrados:\n",
      "{'n_shares': 9, 'stop_loss_close': 0.8479030722382629, 'take_profit_close': 1.1663494184921364, 'Umbral': 9.952509535749991}\n",
      "Rendimiento (Profit/Loss): 112980.61492244151\n"
     ]
    }
   ],
   "source": [
    "import optuna\n",
    "\n",
    "def objective(trial):\n",
    "    # Define los rangos de búsqueda para los parámetros\n",
    "    n_shares = trial.suggest_int('n_shares', 1, 50)\n",
    "    stop_loss_close = trial.suggest_uniform('stop_loss_close', 0.80, 1)\n",
    "    take_profit_close = trial.suggest_uniform('take_profit_close', 1, 1.5)\n",
    "    Umbral = trial.suggest_uniform('Umbral', -10, 10)\n",
    "\n",
    "    # Evalúa la función de trading con los parámetros sugeridos\n",
    "    profit_loss = def_trading_strategy(data, n_shares, stop_loss_close, take_profit_close, Umbral)\n",
    "    \n",
    "    return profit_loss  # Devuelve la métrica que se debe minimizar/maximizar\n",
    "\n",
    "# Crea un estudio Optuna\n",
    "study = optuna.create_study(direction='maximize')  # 'maximize' si se quiere maximizar la métrica\n",
    "\n",
    "# Ejecuta la optimización\n",
    "study.optimize(objective, n_trials=20)  # Puedes ajustar n_trials según tus recursos y tiempo disponible\n",
    "\n",
    "# Obtiene los mejores parámetros encontrados\n",
    "best_params = study.best_params\n",
    "best_profit_loss = study.best_value\n",
    "\n",
    "print(\"Mejores parámetros encontrados:\")\n",
    "print(best_params)\n",
    "print(\"Rendimiento (Profit/Loss):\", best_profit_loss)\n"
   ]
  },
  {
   "cell_type": "code",
   "execution_count": 32,
   "id": "dbe172ec",
   "metadata": {},
   "outputs": [],
   "source": [
    "# Condiciones para comprar y vender\n",
    "condicion_compra = data[\"ROC\"] <= -1.5\n",
    "condicion_venta = data[\"ROC\"] > 1.1\n",
    "\n",
    "# Aplicando las condiciones para obtener señales de compra y venta\n",
    "data['Senal_ROC'] = ''\n",
    "data.loc[condicion_compra, 'Senal_ROC'] = 'Compra'\n",
    "data.loc[condicion_venta, 'Senal_ROC'] = 'Venta'\n",
    "data.to_excel('ROC_BOS.xlsx', index=False)"
   ]
  },
  {
   "cell_type": "code",
   "execution_count": 33,
   "id": "d9cf3c61",
   "metadata": {},
   "outputs": [
    {
     "data": {
      "text/plain": [
       "Senal_ROC\n",
       "          35546\n",
       "Venta      2243\n",
       "Compra     1353\n",
       "Name: count, dtype: int64"
      ]
     },
     "execution_count": 33,
     "metadata": {},
     "output_type": "execute_result"
    }
   ],
   "source": [
    "data['Senal_ROC'].value_counts()"
   ]
  },
  {
   "cell_type": "code",
   "execution_count": null,
   "id": "a7de492d",
   "metadata": {},
   "outputs": [],
   "source": []
  }
 ],
 "metadata": {
  "kernelspec": {
   "display_name": "Python 3 (ipykernel)",
   "language": "python",
   "name": "python3"
  },
  "language_info": {
   "codemirror_mode": {
    "name": "ipython",
    "version": 3
   },
   "file_extension": ".py",
   "mimetype": "text/x-python",
   "name": "python",
   "nbconvert_exporter": "python",
   "pygments_lexer": "ipython3",
   "version": "3.11.4"
  }
 },
 "nbformat": 4,
 "nbformat_minor": 5
}
