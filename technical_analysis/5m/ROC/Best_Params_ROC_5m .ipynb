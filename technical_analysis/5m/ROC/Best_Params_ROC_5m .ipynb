{
 "cells": [
  {
   "cell_type": "code",
   "outputs": [],
   "source": [
    "import pandas as pd\n",
    "import numpy as np\n",
    "import matplotlib.pyplot as plt\n",
    "import ta"
   ],
   "metadata": {
    "ExecuteTime": {
     "end_time": "2024-02-26T04:02:52.493303400Z",
     "start_time": "2024-02-26T04:02:52.375055Z"
    }
   },
   "id": "45c74508",
   "execution_count": 10
  },
  {
   "cell_type": "code",
   "outputs": [],
   "source": [
    "data = pd.read_csv(\"../../../data/aapl_5m_train.csv\")\n",
    "roc_data = ta.momentum.ROCIndicator(data.Close, window=14)\n",
    "data[\"ROC\"] = roc_data.roc()\n",
    "data = data.dropna()"
   ],
   "metadata": {
    "ExecuteTime": {
     "end_time": "2024-02-26T04:02:52.830907600Z",
     "start_time": "2024-02-26T04:02:52.434778200Z"
    }
   },
   "id": "efb24854",
   "execution_count": 11
  },
  {
   "cell_type": "code",
   "execution_count": 12,
   "id": "05591dab",
   "metadata": {
    "ExecuteTime": {
     "end_time": "2024-02-26T04:02:52.929555400Z",
     "start_time": "2024-02-26T04:02:52.653878700Z"
    }
   },
   "outputs": [],
   "source": [
    "def def_trading_strategy(data, n_shares, stop_loss_close, take_profit_close, Umbral):\n",
    "    cash= 1_000_000\n",
    "    com = 0.125/100\n",
    "    history = []\n",
    "    portfolio_value = []\n",
    "    active_operations = []\n",
    "    total_profit_loss = 0\n",
    "\n",
    "    for i, row in data.iterrows():\n",
    "        # Close active operation\n",
    "        active_op_temp = []\n",
    "        for operation in active_operations:\n",
    "            if operation[\"stop_loss\"] > row.Close:\n",
    "                cash += (row.Close * operation[\"n_shares\"]) * (1 - com)\n",
    "                # Calcular la ganancia o pérdida y actualizar el total\n",
    "                profit_loss = (row.Close * operation[\"n_shares\"]) * (1 - com) - (operation[\"bought\"] * operation[\"n_shares\"])\n",
    "                total_profit_loss += profit_loss\n",
    "                history.append({\"timestamp\": row.Timestamp, \"profit_loss\": profit_loss})\n",
    "            elif operation[\"take_profit\"] < row.Close:\n",
    "                cash += (row.Close * operation[\"n_shares\"]) * (1 - com)\n",
    "                # Calcular la ganancia o pérdida y actualizar el total\n",
    "                profit_loss = (row.Close * operation[\"n_shares\"]) * (1 - com) - (operation[\"bought\"] * operation[\"n_shares\"])\n",
    "                total_profit_loss += profit_loss\n",
    "                history.append({\"timestamp\": row.Timestamp, \"profit_loss\": profit_loss})\n",
    "            else:\n",
    "                active_op_temp.append(operation)\n",
    "        active_operations = active_op_temp\n",
    "            \n",
    "        # ¿Tenemos suficiente efectivo?\n",
    "        if cash < (row.Close * n_shares * (1 + com)):\n",
    "            asset_vals = sum([operation[\"n_shares\"] * row.Close for operation in active_operations])\n",
    "            portfolio_value.append(cash + asset_vals)\n",
    "            continue\n",
    "        \n",
    "        # Analizar la señal larga\n",
    "        if row.ROC <= Umbral:  # If ceil(Op)\n",
    "            active_operations.append({\n",
    "                \"timestamp\": row.Timestamp,\n",
    "                \"bought\": row.Close,\n",
    "                \"n_shares\": n_shares,\n",
    "                \"type\": \"long\",\n",
    "                \"stop_loss\": row.Close * stop_loss_close,\n",
    "                \"take_profit\": row.Close * take_profit_close\n",
    "            })\n",
    "            cash -= row.Close * n_shares * (1 + com)\n",
    "        \n",
    "        asset_vals = sum([operation[\"n_shares\"] * row.Close for operation in active_operations])\n",
    "        portfolio_value.append(cash + asset_vals)\n",
    "    \n",
    "    return total_profit_loss"
   ]
  },
  {
   "cell_type": "code",
   "execution_count": 13,
   "id": "1b913ae5",
   "metadata": {
    "ExecuteTime": {
     "end_time": "2024-02-26T04:32:08.333793Z",
     "start_time": "2024-02-26T04:02:52.890128400Z"
    }
   },
   "outputs": [
    {
     "name": "stderr",
     "output_type": "stream",
     "text": [
      "[I 2024-02-25 22:02:54,971] A new study created in memory with name: no-name-2884ffc3-9394-4d06-80c0-4502a61e5ce0\n",
      "C:\\Users\\elias\\AppData\\Local\\Temp\\ipykernel_13248\\1268521632.py:6: FutureWarning: suggest_uniform has been deprecated in v3.0.0. This feature will be removed in v6.0.0. See https://github.com/optuna/optuna/releases/tag/v3.0.0. Use suggest_float instead.\n",
      "  stop_loss_close = trial.suggest_uniform('stop_loss_close', 0.80, 1)\n",
      "C:\\Users\\elias\\AppData\\Local\\Temp\\ipykernel_13248\\1268521632.py:7: FutureWarning: suggest_uniform has been deprecated in v3.0.0. This feature will be removed in v6.0.0. See https://github.com/optuna/optuna/releases/tag/v3.0.0. Use suggest_float instead.\n",
      "  take_profit_close = trial.suggest_uniform('take_profit_close', 1, 1.5)\n",
      "C:\\Users\\elias\\AppData\\Local\\Temp\\ipykernel_13248\\1268521632.py:8: FutureWarning: suggest_uniform has been deprecated in v3.0.0. This feature will be removed in v6.0.0. See https://github.com/optuna/optuna/releases/tag/v3.0.0. Use suggest_float instead.\n",
      "  Umbral = trial.suggest_uniform('Umbral', -10, 10)\n",
      "[I 2024-02-25 22:05:25,026] Trial 0 finished with value: -190014.974617954 and parameters: {'n_shares': 17, 'stop_loss_close': 0.9621019378949136, 'take_profit_close': 1.2147601837134707, 'Umbral': 4.722140823594579}. Best is trial 0 with value: -190014.974617954.\n",
      "[I 2024-02-25 22:06:18,057] Trial 1 finished with value: -174828.88875250024 and parameters: {'n_shares': 46, 'stop_loss_close': 0.9819511651321701, 'take_profit_close': 1.2986352389520341, 'Umbral': 5.261342302901014}. Best is trial 1 with value: -174828.88875250024.\n",
      "[I 2024-02-25 22:06:19,821] Trial 2 finished with value: 2263.8983506999984 and parameters: {'n_shares': 40, 'stop_loss_close': 0.8512016897618566, 'take_profit_close': 1.2327820130987892, 'Umbral': -5.053694583589776}. Best is trial 2 with value: 2263.8983506999984.\n",
      "[I 2024-02-25 22:07:25,262] Trial 3 finished with value: -31382.9384122356 and parameters: {'n_shares': 43, 'stop_loss_close': 0.912610968657268, 'take_profit_close': 1.1376086493489832, 'Umbral': 7.816946101760962}. Best is trial 2 with value: 2263.8983506999984.\n",
      "[I 2024-02-25 22:07:26,853] Trial 4 finished with value: 0.0 and parameters: {'n_shares': 26, 'stop_loss_close': 0.875283523491288, 'take_profit_close': 1.2444572267677065, 'Umbral': -6.414918398466083}. Best is trial 2 with value: 2263.8983506999984.\n",
      "[I 2024-02-25 22:09:45,558] Trial 5 finished with value: -52993.609450425065 and parameters: {'n_shares': 20, 'stop_loss_close': 0.9273987610632259, 'take_profit_close': 1.4946826266820765, 'Umbral': 0.9183298415393324}. Best is trial 2 with value: 2263.8983506999984.\n",
      "[I 2024-02-25 22:10:53,936] Trial 6 finished with value: -2796.10911053387 and parameters: {'n_shares': 41, 'stop_loss_close': 0.860505453577461, 'take_profit_close': 1.0835631067221605, 'Umbral': 3.1868324218599735}. Best is trial 2 with value: 2263.8983506999984.\n",
      "[I 2024-02-25 22:16:53,529] Trial 7 finished with value: -679.6536228603513 and parameters: {'n_shares': 8, 'stop_loss_close': 0.8870513575209102, 'take_profit_close': 1.406444113794068, 'Umbral': 7.239660535916666}. Best is trial 2 with value: 2263.8983506999984.\n",
      "[I 2024-02-25 22:20:44,874] Trial 8 finished with value: 0.0 and parameters: {'n_shares': 19, 'stop_loss_close': 0.8044715942475614, 'take_profit_close': 1.4750910761830465, 'Umbral': 7.34214565706478}. Best is trial 2 with value: 2263.8983506999984.\n",
      "[I 2024-02-25 22:20:47,092] Trial 9 finished with value: 0.0 and parameters: {'n_shares': 48, 'stop_loss_close': 0.8122961682232175, 'take_profit_close': 1.0178815934610503, 'Umbral': -8.809358864866699}. Best is trial 2 with value: 2263.8983506999984.\n",
      "[I 2024-02-25 22:20:54,120] Trial 10 finished with value: 6051.8707267425 and parameters: {'n_shares': 33, 'stop_loss_close': 0.8465939863134253, 'take_profit_close': 1.3274815226365673, 'Umbral': -3.8873544825727335}. Best is trial 10 with value: 6051.8707267425.\n",
      "[I 2024-02-25 22:21:05,144] Trial 11 finished with value: -428.8262704687504 and parameters: {'n_shares': 33, 'stop_loss_close': 0.8469889640432569, 'take_profit_close': 1.348082286874603, 'Umbral': -3.649477368534428}. Best is trial 10 with value: 6051.8707267425.\n",
      "[I 2024-02-25 22:21:17,959] Trial 12 finished with value: 39459.46436478754 and parameters: {'n_shares': 33, 'stop_loss_close': 0.8348061812006701, 'take_profit_close': 1.1807777293958244, 'Umbral': -3.2010351506626273}. Best is trial 12 with value: 39459.46436478754.\n",
      "[I 2024-02-25 22:22:05,981] Trial 13 finished with value: 66813.01683561261 and parameters: {'n_shares': 29, 'stop_loss_close': 0.8310814066631831, 'take_profit_close': 1.1556288944141737, 'Umbral': -1.910971325545781}. Best is trial 13 with value: 66813.01683561261.\n",
      "[I 2024-02-25 22:23:33,893] Trial 14 finished with value: 94146.59253041311 and parameters: {'n_shares': 30, 'stop_loss_close': 0.824702054970629, 'take_profit_close': 1.1595929380792334, 'Umbral': -1.052285785517046}. Best is trial 14 with value: 94146.59253041311.\n",
      "[I 2024-02-25 22:25:18,943] Trial 15 finished with value: 43002.30240812291 and parameters: {'n_shares': 27, 'stop_loss_close': 0.8211395772087666, 'take_profit_close': 1.1121861906740693, 'Umbral': -0.6829750267757411}. Best is trial 14 with value: 94146.59253041311.\n",
      "[I 2024-02-25 22:25:44,585] Trial 16 finished with value: -9212.69999881871 and parameters: {'n_shares': 3, 'stop_loss_close': 0.9279198293953647, 'take_profit_close': 1.03713237633185, 'Umbral': -0.8650263829520866}. Best is trial 14 with value: 94146.59253041311.\n",
      "[I 2024-02-25 22:31:10,659] Trial 17 finished with value: 13047.065468954745 and parameters: {'n_shares': 13, 'stop_loss_close': 0.8014469816786679, 'take_profit_close': 1.154068308525019, 'Umbral': 1.7061060177349492}. Best is trial 14 with value: 94146.59253041311.\n",
      "[I 2024-02-25 22:32:06,366] Trial 18 finished with value: 74687.62336095373 and parameters: {'n_shares': 29, 'stop_loss_close': 0.8247865032489686, 'take_profit_close': 1.054645735688349, 'Umbral': -1.2960397334749378}. Best is trial 14 with value: 94146.59253041311.\n",
      "[I 2024-02-25 22:32:08,217] Trial 19 finished with value: 0.0 and parameters: {'n_shares': 38, 'stop_loss_close': 0.8740827424832158, 'take_profit_close': 1.0850276468148399, 'Umbral': -9.941475254251708}. Best is trial 14 with value: 94146.59253041311.\n"
     ]
    },
    {
     "name": "stdout",
     "output_type": "stream",
     "text": [
      "Mejores parámetros encontrados:\n",
      "{'n_shares': 30, 'stop_loss_close': 0.824702054970629, 'take_profit_close': 1.1595929380792334, 'Umbral': -1.052285785517046}\n",
      "Rendimiento (Profit/Loss): 94146.59253041311\n"
     ]
    }
   ],
   "source": [
    "import optuna\n",
    "\n",
    "def objective(trial):\n",
    "    # Define los rangos de búsqueda para los parámetros\n",
    "    n_shares = trial.suggest_int('n_shares', 1, 50)\n",
    "    stop_loss_close = trial.suggest_uniform('stop_loss_close', 0.80, 1)\n",
    "    take_profit_close = trial.suggest_uniform('take_profit_close', 1, 1.5)\n",
    "    Umbral = trial.suggest_uniform('Umbral', -10, 10)\n",
    "\n",
    "    # Evalúa la función de trading con los parámetros sugeridos\n",
    "    profit_loss = def_trading_strategy(data, n_shares, stop_loss_close, take_profit_close, Umbral)\n",
    "    \n",
    "    return profit_loss  # Devuelve la métrica que se debe minimizar/maximizar\n",
    "\n",
    "# Crea un estudio Optuna\n",
    "study = optuna.create_study(direction='maximize')  # 'maximize' si se quiere maximizar la métrica\n",
    "\n",
    "# Ejecuta la optimización\n",
    "study.optimize(objective, n_trials=20)  # Puedes ajustar n_trials según tus recursos y tiempo disponible\n",
    "\n",
    "# Obtiene los mejores parámetros encontrados\n",
    "best_params = study.best_params\n",
    "best_profit_loss = study.best_value\n",
    "\n",
    "print(\"Mejores parámetros encontrados:\")\n",
    "print(best_params)\n",
    "print(\"Rendimiento (Profit/Loss):\", best_profit_loss)\n"
   ]
  },
  {
   "cell_type": "code",
   "execution_count": 19,
   "id": "dbe172ec",
   "metadata": {
    "ExecuteTime": {
     "end_time": "2024-02-26T05:34:52.118542300Z",
     "start_time": "2024-02-26T05:34:39.295302200Z"
    }
   },
   "outputs": [],
   "source": [
    "# Condiciones para comprar y vender\n",
    "condicion_compra = data[\"ROC\"] <= -1.5\n",
    "condicion_venta = data[\"ROC\"] > 1.1\n",
    "\n",
    "# Aplicando las condiciones para obtener señales de compra y venta\n",
    "data['Senal_ROC'] = ''\n",
    "data.loc[condicion_compra, 'Senal_ROC'] = 'Compra'\n",
    "data.loc[condicion_venta, 'Senal_ROC'] = 'Venta'\n",
    "data.to_excel('../../../data/5m/ROC_BOS.xlsx', index=False)"
   ]
  },
  {
   "cell_type": "code",
   "execution_count": 20,
   "id": "d9cf3c61",
   "metadata": {
    "ExecuteTime": {
     "end_time": "2024-02-26T05:34:52.176218500Z",
     "start_time": "2024-02-26T05:34:52.154384Z"
    }
   },
   "outputs": [
    {
     "data": {
      "text/plain": "Senal_ROC\n          35546\nVenta      2243\nCompra     1353\nName: count, dtype: int64"
     },
     "execution_count": 20,
     "metadata": {},
     "output_type": "execute_result"
    }
   ],
   "source": [
    "data['Senal_ROC'].value_counts()"
   ]
  },
  {
   "cell_type": "code",
   "execution_count": null,
   "id": "a7de492d",
   "metadata": {
    "ExecuteTime": {
     "start_time": "2024-02-26T04:32:09.368733500Z"
    }
   },
   "outputs": [],
   "source": []
  }
 ],
 "metadata": {
  "kernelspec": {
   "display_name": "Python 3 (ipykernel)",
   "language": "python",
   "name": "python3"
  },
  "language_info": {
   "codemirror_mode": {
    "name": "ipython",
    "version": 3
   },
   "file_extension": ".py",
   "mimetype": "text/x-python",
   "name": "python",
   "nbconvert_exporter": "python",
   "pygments_lexer": "ipython3",
   "version": "3.11.4"
  }
 },
 "nbformat": 4,
 "nbformat_minor": 5
}
