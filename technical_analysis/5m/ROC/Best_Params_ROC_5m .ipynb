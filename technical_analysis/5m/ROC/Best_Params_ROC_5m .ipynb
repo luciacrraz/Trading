{
 "cells": [
  {
   "cell_type": "code",
   "outputs": [],
   "source": [
    "import pandas as pd\n",
    "import numpy as np\n",
    "import matplotlib.pyplot as plt\n",
    "import ta"
   ],
   "metadata": {
    "ExecuteTime": {
     "end_time": "2024-02-26T05:49:47.115046600Z",
     "start_time": "2024-02-26T05:49:47.104860200Z"
    }
   },
   "id": "45c74508",
   "execution_count": 21
  },
  {
   "cell_type": "code",
   "outputs": [],
   "source": [
    "data = pd.read_csv(\"../../../data/aapl_5m_train.csv\")\n",
    "roc_data = ta.momentum.ROCIndicator(data.Close, window=14)\n",
    "data[\"ROC\"] = roc_data.roc()\n",
    "data = data.dropna()"
   ],
   "metadata": {
    "ExecuteTime": {
     "end_time": "2024-02-26T05:49:47.399890400Z",
     "start_time": "2024-02-26T05:49:47.134104100Z"
    }
   },
   "id": "efb24854",
   "execution_count": 22
  },
  {
   "cell_type": "code",
   "execution_count": 23,
   "id": "05591dab",
   "metadata": {
    "ExecuteTime": {
     "end_time": "2024-02-26T05:49:47.455482700Z",
     "start_time": "2024-02-26T05:49:47.447195300Z"
    }
   },
   "outputs": [],
   "source": [
    "def def_trading_strategy(data, n_shares, stop_loss_close, take_profit_close, Umbral):\n",
    "    cash= 1_000_000\n",
    "    com = 0.125/100\n",
    "    history = []\n",
    "    portfolio_value = []\n",
    "    active_operations = []\n",
    "    total_profit_loss = 0\n",
    "\n",
    "    for i, row in data.iterrows():\n",
    "        # Close active operation\n",
    "        active_op_temp = []\n",
    "        for operation in active_operations:\n",
    "            if operation[\"stop_loss\"] > row.Close:\n",
    "                cash += (row.Close * operation[\"n_shares\"]) * (1 - com)\n",
    "                # Calcular la ganancia o pérdida y actualizar el total\n",
    "                profit_loss = (row.Close * operation[\"n_shares\"]) * (1 - com) - (operation[\"bought\"] * operation[\"n_shares\"])\n",
    "                total_profit_loss += profit_loss\n",
    "                history.append({\"timestamp\": row.Timestamp, \"profit_loss\": profit_loss})\n",
    "            elif operation[\"take_profit\"] < row.Close:\n",
    "                cash += (row.Close * operation[\"n_shares\"]) * (1 - com)\n",
    "                # Calcular la ganancia o pérdida y actualizar el total\n",
    "                profit_loss = (row.Close * operation[\"n_shares\"]) * (1 - com) - (operation[\"bought\"] * operation[\"n_shares\"])\n",
    "                total_profit_loss += profit_loss\n",
    "                history.append({\"timestamp\": row.Timestamp, \"profit_loss\": profit_loss})\n",
    "            else:\n",
    "                active_op_temp.append(operation)\n",
    "        active_operations = active_op_temp\n",
    "            \n",
    "        # ¿Tenemos suficiente efectivo?\n",
    "        if cash < (row.Close * n_shares * (1 + com)):\n",
    "            asset_vals = sum([operation[\"n_shares\"] * row.Close for operation in active_operations])\n",
    "            portfolio_value.append(cash + asset_vals)\n",
    "            continue\n",
    "        \n",
    "        # Analizar la señal larga\n",
    "        if row.ROC <= Umbral:  # If ceil(Op)\n",
    "            active_operations.append({\n",
    "                \"timestamp\": row.Timestamp,\n",
    "                \"bought\": row.Close,\n",
    "                \"n_shares\": n_shares,\n",
    "                \"type\": \"long\",\n",
    "                \"stop_loss\": row.Close * stop_loss_close,\n",
    "                \"take_profit\": row.Close * take_profit_close\n",
    "            })\n",
    "            cash -= row.Close * n_shares * (1 + com)\n",
    "        \n",
    "        asset_vals = sum([operation[\"n_shares\"] * row.Close for operation in active_operations])\n",
    "        portfolio_value.append(cash + asset_vals)\n",
    "    \n",
    "    return total_profit_loss"
   ]
  },
  {
   "cell_type": "code",
   "execution_count": null,
   "id": "1b913ae5",
   "metadata": {
    "is_executing": true,
    "ExecuteTime": {
     "start_time": "2024-02-26T05:49:47.463029900Z"
    }
   },
   "outputs": [
    {
     "name": "stderr",
     "output_type": "stream",
     "text": [
      "[I 2024-02-25 23:49:47,495] A new study created in memory with name: no-name-029d8f4b-f08d-4dbe-b3a9-b7ef42475b60\n",
      "C:\\Users\\elias\\AppData\\Local\\Temp\\ipykernel_13248\\1268521632.py:6: FutureWarning: suggest_uniform has been deprecated in v3.0.0. This feature will be removed in v6.0.0. See https://github.com/optuna/optuna/releases/tag/v3.0.0. Use suggest_float instead.\n",
      "  stop_loss_close = trial.suggest_uniform('stop_loss_close', 0.80, 1)\n",
      "C:\\Users\\elias\\AppData\\Local\\Temp\\ipykernel_13248\\1268521632.py:7: FutureWarning: suggest_uniform has been deprecated in v3.0.0. This feature will be removed in v6.0.0. See https://github.com/optuna/optuna/releases/tag/v3.0.0. Use suggest_float instead.\n",
      "  take_profit_close = trial.suggest_uniform('take_profit_close', 1, 1.5)\n",
      "C:\\Users\\elias\\AppData\\Local\\Temp\\ipykernel_13248\\1268521632.py:8: FutureWarning: suggest_uniform has been deprecated in v3.0.0. This feature will be removed in v6.0.0. See https://github.com/optuna/optuna/releases/tag/v3.0.0. Use suggest_float instead.\n",
      "  Umbral = trial.suggest_uniform('Umbral', -10, 10)\n",
      "[I 2024-02-25 23:51:12,548] Trial 0 finished with value: 86244.66278859388 and parameters: {'n_shares': 45, 'stop_loss_close': 0.8329609913181782, 'take_profit_close': 1.167791716505001, 'Umbral': 0.4712662396230254}. Best is trial 0 with value: 86244.66278859388.\n",
      "[I 2024-02-25 23:51:14,194] Trial 1 finished with value: 0.0 and parameters: {'n_shares': 16, 'stop_loss_close': 0.9612010563813187, 'take_profit_close': 1.3790084099796802, 'Umbral': -6.585378195192901}. Best is trial 0 with value: 86244.66278859388.\n",
      "[I 2024-02-25 23:52:00,645] Trial 2 finished with value: 87267.23445825001 and parameters: {'n_shares': 45, 'stop_loss_close': 0.8175908646696547, 'take_profit_close': 1.260538658568514, 'Umbral': -2.1801186275124174}. Best is trial 2 with value: 87267.23445825001.\n",
      "[I 2024-02-25 23:54:20,264] Trial 3 finished with value: 20210.887360031287 and parameters: {'n_shares': 25, 'stop_loss_close': 0.8028998495111384, 'take_profit_close': 1.1487934184838773, 'Umbral': 6.506956892068974}. Best is trial 2 with value: 87267.23445825001.\n",
      "[I 2024-02-25 23:56:19,200] Trial 4 finished with value: 58066.785143438574 and parameters: {'n_shares': 25, 'stop_loss_close': 0.8301924031707745, 'take_profit_close': 1.020403600209324, 'Umbral': 0.6239691331290906}. Best is trial 2 with value: 87267.23445825001.\n",
      "[I 2024-02-25 23:56:21,775] Trial 5 finished with value: -189.96549901999998 and parameters: {'n_shares': 4, 'stop_loss_close': 0.9131674031175268, 'take_profit_close': 1.1425955029221069, 'Umbral': -4.56899345310873}. Best is trial 2 with value: 87267.23445825001.\n",
      "[I 2024-02-25 23:57:52,813] Trial 6 finished with value: -1739.3102162149153 and parameters: {'n_shares': 44, 'stop_loss_close': 0.9175780020522095, 'take_profit_close': 1.3207152628834073, 'Umbral': 3.0430552445058616}. Best is trial 2 with value: 87267.23445825001.\n",
      "[I 2024-02-25 23:57:54,677] Trial 7 finished with value: 0.0 and parameters: {'n_shares': 28, 'stop_loss_close': 0.9578516582910935, 'take_profit_close': 1.367528085887956, 'Umbral': -7.35090861220244}. Best is trial 2 with value: 87267.23445825001.\n"
     ]
    }
   ],
   "source": [
    "import optuna\n",
    "\n",
    "def objective(trial):\n",
    "    # Define los rangos de búsqueda para los parámetros\n",
    "    n_shares = trial.suggest_int('n_shares', 1, 50)\n",
    "    stop_loss_close = trial.suggest_uniform('stop_loss_close', 0.80, 1)\n",
    "    take_profit_close = trial.suggest_uniform('take_profit_close', 1, 1.5)\n",
    "    Umbral = trial.suggest_uniform('Umbral', -10, 10)\n",
    "\n",
    "    # Evalúa la función de trading con los parámetros sugeridos\n",
    "    profit_loss = def_trading_strategy(data, n_shares, stop_loss_close, take_profit_close, Umbral)\n",
    "    \n",
    "    return profit_loss  # Devuelve la métrica que se debe minimizar/maximizar\n",
    "\n",
    "# Crea un estudio Optuna\n",
    "study = optuna.create_study(direction='maximize')  # 'maximize' si se quiere maximizar la métrica\n",
    "\n",
    "# Ejecuta la optimización\n",
    "study.optimize(objective, n_trials=20)  # Puedes ajustar n_trials según tus recursos y tiempo disponible\n",
    "\n",
    "# Obtiene los mejores parámetros encontrados\n",
    "best_params = study.best_params\n",
    "best_profit_loss = study.best_value\n",
    "\n",
    "print(\"Mejores parámetros encontrados:\")\n",
    "print(best_params)\n",
    "print(\"Rendimiento (Profit/Loss):\", best_profit_loss)\n"
   ]
  },
  {
   "cell_type": "code",
   "execution_count": null,
   "id": "dbe172ec",
   "metadata": {
    "is_executing": true
   },
   "outputs": [],
   "source": [
    "# Condiciones para comprar y vender\n",
    "condicion_compra = data[\"ROC\"] <= -1.5\n",
    "condicion_venta = data[\"ROC\"] > 1.1\n",
    "\n",
    "# Aplicando las condiciones para obtener señales de compra y venta\n",
    "data['Senal_ROC'] = ''\n",
    "data.loc[condicion_compra, 'Senal_ROC'] = 'Compra'\n",
    "data.loc[condicion_venta, 'Senal_ROC'] = 'Venta'\n",
    "data.to_excel('../../../data/5m/ROC_BOS.xlsx', index=False)"
   ]
  },
  {
   "cell_type": "code",
   "execution_count": null,
   "id": "d9cf3c61",
   "metadata": {
    "is_executing": true
   },
   "outputs": [],
   "source": [
    "data['Senal_ROC'].value_counts()"
   ]
  },
  {
   "cell_type": "code",
   "execution_count": null,
   "id": "a7de492d",
   "metadata": {
    "is_executing": true
   },
   "outputs": [],
   "source": []
  }
 ],
 "metadata": {
  "kernelspec": {
   "display_name": "Python 3 (ipykernel)",
   "language": "python",
   "name": "python3"
  },
  "language_info": {
   "codemirror_mode": {
    "name": "ipython",
    "version": 3
   },
   "file_extension": ".py",
   "mimetype": "text/x-python",
   "name": "python",
   "nbconvert_exporter": "python",
   "pygments_lexer": "ipython3",
   "version": "3.11.4"
  }
 },
 "nbformat": 4,
 "nbformat_minor": 5
}
