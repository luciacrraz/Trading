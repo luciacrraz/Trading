{
 "cells": [
  {
   "cell_type": "code",
   "execution_count": 1,
   "id": "45c74508",
   "metadata": {
    "ExecuteTime": {
     "end_time": "2024-02-26T04:16:50.027053600Z",
     "start_time": "2024-02-26T04:16:48.464271900Z"
    }
   },
   "outputs": [],
   "source": [
    "import pandas as pd\n",
    "import numpy as np\n",
    "import matplotlib.pyplot as plt\n",
    "import ta"
   ]
  },
  {
   "cell_type": "code",
   "execution_count": 2,
   "id": "efb24854",
   "metadata": {
    "ExecuteTime": {
     "end_time": "2024-02-26T04:16:50.144197500Z",
     "start_time": "2024-02-26T04:16:50.029550900Z"
    }
   },
   "outputs": [
    {
     "data": {
      "text/plain": "       Unnamed: 0   Timestamp  Gmtoffset             Datetime        Open  \\\n13             13  1609774500          0  2021-01-04 15:35:00  130.680694   \n14             14  1609774800          0  2021-01-04 15:40:00  131.111297   \n15             15  1609775100          0  2021-01-04 15:45:00  131.044006   \n16             16  1609775400          0  2021-01-04 15:50:00  130.750000   \n17             17  1609775700          0  2021-01-04 15:55:00  130.700103   \n...           ...         ...        ...                  ...         ...   \n39573       19787  1672432500          0  2022-12-30 20:35:00  129.020004   \n39574       19788  1672432800          0  2022-12-30 20:40:00  129.029998   \n39575       19789  1672433100          0  2022-12-30 20:45:00  129.059997   \n39576       19790  1672433400          0  2022-12-30 20:50:00  129.375000   \n39577       19791  1672433700          0  2022-12-30 20:55:00  129.764999   \n\n             High         Low       Close     Volume        RSI  \n13     131.139999  130.559997  131.115097  1150255.0  36.865564  \n14     131.309997  131.029998  131.044998  1253385.0  35.884280  \n15     131.044006  130.479995  130.749893  1730254.0  32.020190  \n16     130.830001  130.449996  130.709793  1887654.0  31.523450  \n17     131.250000  130.699996  131.000000  1608419.0  38.909727  \n...           ...         ...         ...        ...        ...  \n39573  129.050003  128.899993  129.039993   773964.0  65.886471  \n39574  129.130004  128.919998  129.054992   833767.0  66.263680  \n39575  129.399993  129.020004  129.380004  2136910.0  73.183295  \n39576  129.929992  129.330001  129.764404  2879267.0  78.737959  \n39577  129.949996  129.619995  129.949996  3896812.0  80.805224  \n\n[39147 rows x 10 columns]",
      "text/html": "<div>\n<style scoped>\n    .dataframe tbody tr th:only-of-type {\n        vertical-align: middle;\n    }\n\n    .dataframe tbody tr th {\n        vertical-align: top;\n    }\n\n    .dataframe thead th {\n        text-align: right;\n    }\n</style>\n<table border=\"1\" class=\"dataframe\">\n  <thead>\n    <tr style=\"text-align: right;\">\n      <th></th>\n      <th>Unnamed: 0</th>\n      <th>Timestamp</th>\n      <th>Gmtoffset</th>\n      <th>Datetime</th>\n      <th>Open</th>\n      <th>High</th>\n      <th>Low</th>\n      <th>Close</th>\n      <th>Volume</th>\n      <th>RSI</th>\n    </tr>\n  </thead>\n  <tbody>\n    <tr>\n      <th>13</th>\n      <td>13</td>\n      <td>1609774500</td>\n      <td>0</td>\n      <td>2021-01-04 15:35:00</td>\n      <td>130.680694</td>\n      <td>131.139999</td>\n      <td>130.559997</td>\n      <td>131.115097</td>\n      <td>1150255.0</td>\n      <td>36.865564</td>\n    </tr>\n    <tr>\n      <th>14</th>\n      <td>14</td>\n      <td>1609774800</td>\n      <td>0</td>\n      <td>2021-01-04 15:40:00</td>\n      <td>131.111297</td>\n      <td>131.309997</td>\n      <td>131.029998</td>\n      <td>131.044998</td>\n      <td>1253385.0</td>\n      <td>35.884280</td>\n    </tr>\n    <tr>\n      <th>15</th>\n      <td>15</td>\n      <td>1609775100</td>\n      <td>0</td>\n      <td>2021-01-04 15:45:00</td>\n      <td>131.044006</td>\n      <td>131.044006</td>\n      <td>130.479995</td>\n      <td>130.749893</td>\n      <td>1730254.0</td>\n      <td>32.020190</td>\n    </tr>\n    <tr>\n      <th>16</th>\n      <td>16</td>\n      <td>1609775400</td>\n      <td>0</td>\n      <td>2021-01-04 15:50:00</td>\n      <td>130.750000</td>\n      <td>130.830001</td>\n      <td>130.449996</td>\n      <td>130.709793</td>\n      <td>1887654.0</td>\n      <td>31.523450</td>\n    </tr>\n    <tr>\n      <th>17</th>\n      <td>17</td>\n      <td>1609775700</td>\n      <td>0</td>\n      <td>2021-01-04 15:55:00</td>\n      <td>130.700103</td>\n      <td>131.250000</td>\n      <td>130.699996</td>\n      <td>131.000000</td>\n      <td>1608419.0</td>\n      <td>38.909727</td>\n    </tr>\n    <tr>\n      <th>...</th>\n      <td>...</td>\n      <td>...</td>\n      <td>...</td>\n      <td>...</td>\n      <td>...</td>\n      <td>...</td>\n      <td>...</td>\n      <td>...</td>\n      <td>...</td>\n      <td>...</td>\n    </tr>\n    <tr>\n      <th>39573</th>\n      <td>19787</td>\n      <td>1672432500</td>\n      <td>0</td>\n      <td>2022-12-30 20:35:00</td>\n      <td>129.020004</td>\n      <td>129.050003</td>\n      <td>128.899993</td>\n      <td>129.039993</td>\n      <td>773964.0</td>\n      <td>65.886471</td>\n    </tr>\n    <tr>\n      <th>39574</th>\n      <td>19788</td>\n      <td>1672432800</td>\n      <td>0</td>\n      <td>2022-12-30 20:40:00</td>\n      <td>129.029998</td>\n      <td>129.130004</td>\n      <td>128.919998</td>\n      <td>129.054992</td>\n      <td>833767.0</td>\n      <td>66.263680</td>\n    </tr>\n    <tr>\n      <th>39575</th>\n      <td>19789</td>\n      <td>1672433100</td>\n      <td>0</td>\n      <td>2022-12-30 20:45:00</td>\n      <td>129.059997</td>\n      <td>129.399993</td>\n      <td>129.020004</td>\n      <td>129.380004</td>\n      <td>2136910.0</td>\n      <td>73.183295</td>\n    </tr>\n    <tr>\n      <th>39576</th>\n      <td>19790</td>\n      <td>1672433400</td>\n      <td>0</td>\n      <td>2022-12-30 20:50:00</td>\n      <td>129.375000</td>\n      <td>129.929992</td>\n      <td>129.330001</td>\n      <td>129.764404</td>\n      <td>2879267.0</td>\n      <td>78.737959</td>\n    </tr>\n    <tr>\n      <th>39577</th>\n      <td>19791</td>\n      <td>1672433700</td>\n      <td>0</td>\n      <td>2022-12-30 20:55:00</td>\n      <td>129.764999</td>\n      <td>129.949996</td>\n      <td>129.619995</td>\n      <td>129.949996</td>\n      <td>3896812.0</td>\n      <td>80.805224</td>\n    </tr>\n  </tbody>\n</table>\n<p>39147 rows × 10 columns</p>\n</div>"
     },
     "execution_count": 2,
     "metadata": {},
     "output_type": "execute_result"
    }
   ],
   "source": [
    "data = pd.read_csv(\"../../../data/aapl_5m_train.csv\")\n",
    "rsi_data = ta.momentum.RSIIndicator(data.Close, window=14)\n",
    "data[\"RSI\"] = rsi_data.rsi()\n",
    "data = data.dropna()\n",
    "data"
   ]
  },
  {
   "cell_type": "code",
   "execution_count": 3,
   "id": "4bb82016",
   "metadata": {
    "ExecuteTime": {
     "end_time": "2024-02-26T04:16:50.146199500Z",
     "start_time": "2024-02-26T04:16:50.129426600Z"
    }
   },
   "outputs": [],
   "source": [
    "def def_trading_strategy(data, n_shares, stop_loss_close, take_profit_close, Umbral):\n",
    "    cash= 1_000_000\n",
    "    com = 0.125/100\n",
    "    history = []\n",
    "    portfolio_value = []\n",
    "    active_operations = []\n",
    "    total_profit_loss = 0\n",
    "\n",
    "    for i, row in data.iterrows():\n",
    "        # Close active operation\n",
    "        active_op_temp = []\n",
    "        for operation in active_operations:\n",
    "            if operation[\"stop_loss\"] > row.Close:\n",
    "                cash += (row.Close * operation[\"n_shares\"]) * (1 - com)\n",
    "                # Calcular la ganancia o pérdida y actualizar el total\n",
    "                profit_loss = (row.Close * operation[\"n_shares\"]) * (1 - com) - (operation[\"bought\"] * operation[\"n_shares\"])\n",
    "                total_profit_loss += profit_loss\n",
    "                history.append({\"timestamp\": row.Timestamp, \"profit_loss\": profit_loss})\n",
    "            elif operation[\"take_profit\"] < row.Close:\n",
    "                cash += (row.Close * operation[\"n_shares\"]) * (1 - com)\n",
    "                # Calcular la ganancia o pérdida y actualizar el total\n",
    "                profit_loss = (row.Close * operation[\"n_shares\"]) * (1 - com) - (operation[\"bought\"] * operation[\"n_shares\"])\n",
    "                total_profit_loss += profit_loss\n",
    "                history.append({\"timestamp\": row.Timestamp, \"profit_loss\": profit_loss})\n",
    "            else:\n",
    "                active_op_temp.append(operation)\n",
    "        active_operations = active_op_temp\n",
    "            \n",
    "        # ¿Tenemos suficiente efectivo?\n",
    "        if cash < (row.Close * n_shares * (1 + com)):\n",
    "            asset_vals = sum([operation[\"n_shares\"] * row.Close for operation in active_operations])\n",
    "            portfolio_value.append(cash + asset_vals)\n",
    "            continue\n",
    "        \n",
    "        # Analizar la señal larga\n",
    "        if row.RSI <= Umbral:  # If ceil(Op)\n",
    "            active_operations.append({\n",
    "                \"timestamp\": row.Timestamp,\n",
    "                \"bought\": row.Close,\n",
    "                \"n_shares\": n_shares,\n",
    "                \"type\": \"long\",\n",
    "                \"stop_loss\": row.Close * stop_loss_close,\n",
    "                \"take_profit\": row.Close * take_profit_close\n",
    "            })\n",
    "            cash -= row.Close * n_shares * (1 + com)\n",
    "        \n",
    "        asset_vals = sum([operation[\"n_shares\"] * row.Close for operation in active_operations])\n",
    "        portfolio_value.append(cash + asset_vals)\n",
    "    \n",
    "    return total_profit_loss\n"
   ]
  },
  {
   "cell_type": "code",
   "execution_count": 4,
   "id": "416d31f6",
   "metadata": {
    "ExecuteTime": {
     "end_time": "2024-02-26T04:32:29.471270400Z",
     "start_time": "2024-02-26T04:16:50.140356200Z"
    }
   },
   "outputs": [
    {
     "name": "stderr",
     "output_type": "stream",
     "text": [
      "[I 2024-02-25 22:16:51,051] A new study created in memory with name: no-name-049f4d1c-14fe-4864-af96-0602428edfa7\n",
      "C:\\Users\\elias\\AppData\\Local\\Temp\\ipykernel_12728\\98014024.py:6: FutureWarning: suggest_uniform has been deprecated in v3.0.0. This feature will be removed in v6.0.0. See https://github.com/optuna/optuna/releases/tag/v3.0.0. Use suggest_float instead.\n",
      "  stop_loss_close = trial.suggest_uniform('stop_loss_close', 0.80, 1)\n",
      "C:\\Users\\elias\\AppData\\Local\\Temp\\ipykernel_12728\\98014024.py:7: FutureWarning: suggest_uniform has been deprecated in v3.0.0. This feature will be removed in v6.0.0. See https://github.com/optuna/optuna/releases/tag/v3.0.0. Use suggest_float instead.\n",
      "  take_profit_close = trial.suggest_uniform('take_profit_close', 1, 1.5)\n",
      "C:\\Users\\elias\\AppData\\Local\\Temp\\ipykernel_12728\\98014024.py:8: FutureWarning: suggest_uniform has been deprecated in v3.0.0. This feature will be removed in v6.0.0. See https://github.com/optuna/optuna/releases/tag/v3.0.0. Use suggest_float instead.\n",
      "  Umbral = trial.suggest_uniform('Umbral', 0, 30)\n",
      "[I 2024-02-25 22:18:05,292] Trial 0 finished with value: -7720.2167281324855 and parameters: {'n_shares': 34, 'stop_loss_close': 0.8097204801368982, 'take_profit_close': 1.4415463208197856, 'Umbral': 21.995598426776322}. Best is trial 0 with value: -7720.2167281324855.\n",
      "[I 2024-02-25 22:18:22,339] Trial 1 finished with value: 6508.362783969989 and parameters: {'n_shares': 8, 'stop_loss_close': 0.8387704768931612, 'take_profit_close': 1.082215662217812, 'Umbral': 21.820658955888465}. Best is trial 1 with value: 6508.362783969989.\n",
      "[I 2024-02-25 22:18:24,291] Trial 2 finished with value: 811.1923735387472 and parameters: {'n_shares': 37, 'stop_loss_close': 0.9213753336614584, 'take_profit_close': 1.0078593424408062, 'Umbral': 10.34455323179986}. Best is trial 1 with value: 6508.362783969989.\n",
      "[I 2024-02-25 22:18:33,678] Trial 3 finished with value: 746.377251150001 and parameters: {'n_shares': 12, 'stop_loss_close': 0.8823181998014399, 'take_profit_close': 1.2927406867938167, 'Umbral': 14.239535756919693}. Best is trial 1 with value: 6508.362783969989.\n",
      "[I 2024-02-25 22:19:56,002] Trial 4 finished with value: 88243.52023919355 and parameters: {'n_shares': 41, 'stop_loss_close': 0.8139636332316393, 'take_profit_close': 1.4065101550591352, 'Umbral': 26.733562361846456}. Best is trial 4 with value: 88243.52023919355.\n",
      "[I 2024-02-25 22:20:10,544] Trial 5 finished with value: 20249.58450343126 and parameters: {'n_shares': 33, 'stop_loss_close': 0.8562718043742937, 'take_profit_close': 1.281246907944725, 'Umbral': 15.283109833463802}. Best is trial 4 with value: 88243.52023919355.\n",
      "[I 2024-02-25 22:20:13,204] Trial 6 finished with value: 7884.069132810009 and parameters: {'n_shares': 39, 'stop_loss_close': 0.9503349168437352, 'take_profit_close': 1.0939420507039483, 'Umbral': 12.801490788814359}. Best is trial 4 with value: 88243.52023919355.\n",
      "[I 2024-02-25 22:21:23,828] Trial 7 finished with value: -27435.975056594918 and parameters: {'n_shares': 42, 'stop_loss_close': 0.8928571256333513, 'take_profit_close': 1.452118365753599, 'Umbral': 23.72652118576065}. Best is trial 4 with value: 88243.52023919355.\n",
      "[I 2024-02-25 22:21:28,101] Trial 8 finished with value: 23980.41363608001 and parameters: {'n_shares': 32, 'stop_loss_close': 0.8126373645341753, 'take_profit_close': 1.0713288829496481, 'Umbral': 15.649141497273767}. Best is trial 4 with value: 88243.52023919355.\n",
      "[I 2024-02-25 22:22:04,983] Trial 9 finished with value: 43539.2058022538 and parameters: {'n_shares': 17, 'stop_loss_close': 0.8284645237083599, 'take_profit_close': 1.1397313765551487, 'Umbral': 24.200043168617633}. Best is trial 4 with value: 88243.52023919355.\n",
      "[I 2024-02-25 22:22:06,697] Trial 10 finished with value: 0.0 and parameters: {'n_shares': 48, 'stop_loss_close': 0.9901187782330761, 'take_profit_close': 1.3667308090151549, 'Umbral': 2.2713545006859395}. Best is trial 4 with value: 88243.52023919355.\n",
      "[I 2024-02-25 22:23:59,354] Trial 11 finished with value: 131908.52491772542 and parameters: {'n_shares': 20, 'stop_loss_close': 0.8000477904130789, 'take_profit_close': 1.18530969397691, 'Umbral': 29.58383185966886}. Best is trial 11 with value: 131908.52491772542.\n",
      "[I 2024-02-25 22:25:40,122] Trial 12 finished with value: 90485.44127497508 and parameters: {'n_shares': 20, 'stop_loss_close': 0.8527992458500581, 'take_profit_close': 1.1864024763513168, 'Umbral': 29.533333899237523}. Best is trial 11 with value: 131908.52491772542.\n",
      "[I 2024-02-25 22:27:20,564] Trial 13 finished with value: 86352.0902298075 and parameters: {'n_shares': 21, 'stop_loss_close': 0.8594024179773841, 'take_profit_close': 1.198139677756594, 'Umbral': 28.672663104815687}. Best is trial 11 with value: 131908.52491772542.\n",
      "[I 2024-02-25 22:29:14,277] Trial 14 finished with value: 4036.294901370011 and parameters: {'n_shares': 1, 'stop_loss_close': 0.8648360725919081, 'take_profit_close': 1.2030872575476927, 'Umbral': 29.097213265380045}. Best is trial 11 with value: 131908.52491772542.\n",
      "[I 2024-02-25 22:29:34,537] Trial 15 finished with value: 47534.072193747525 and parameters: {'n_shares': 23, 'stop_loss_close': 0.8014877853993315, 'take_profit_close': 1.1998599765409612, 'Umbral': 19.104300698219138}. Best is trial 11 with value: 131908.52491772542.\n",
      "[I 2024-02-25 22:31:02,411] Trial 16 finished with value: -78729.49846700963 and parameters: {'n_shares': 27, 'stop_loss_close': 0.9144481933083333, 'take_profit_close': 1.333312563380645, 'Umbral': 29.95462443804084}. Best is trial 11 with value: 131908.52491772542.\n",
      "[I 2024-02-25 22:31:04,523] Trial 17 finished with value: 1143.0223332562502 and parameters: {'n_shares': 15, 'stop_loss_close': 0.8375587735138291, 'take_profit_close': 1.1456424211209482, 'Umbral': 6.311692229679755}. Best is trial 11 with value: 131908.52491772542.\n",
      "[I 2024-02-25 22:32:18,456] Trial 18 finished with value: 12440.316851550073 and parameters: {'n_shares': 6, 'stop_loss_close': 0.8751156077317157, 'take_profit_close': 1.2374320013141134, 'Umbral': 26.301010648538032}. Best is trial 11 with value: 131908.52491772542.\n",
      "[I 2024-02-25 22:32:29,450] Trial 19 finished with value: 48292.35717027379 and parameters: {'n_shares': 27, 'stop_loss_close': 0.8393242603188602, 'take_profit_close': 1.1447498017058184, 'Umbral': 18.602388839579657}. Best is trial 11 with value: 131908.52491772542.\n"
     ]
    },
    {
     "name": "stdout",
     "output_type": "stream",
     "text": [
      "Mejores parámetros encontrados:\n",
      "{'n_shares': 20, 'stop_loss_close': 0.8000477904130789, 'take_profit_close': 1.18530969397691, 'Umbral': 29.58383185966886}\n",
      "Rendimiento (Profit/Loss): 131908.52491772542\n"
     ]
    }
   ],
   "source": [
    "import optuna\n",
    "\n",
    "def objective(trial):\n",
    "    # Define los rangos de búsqueda para los parámetros\n",
    "    n_shares = trial.suggest_int('n_shares', 1, 50)\n",
    "    stop_loss_close = trial.suggest_uniform('stop_loss_close', 0.80, 1)\n",
    "    take_profit_close = trial.suggest_uniform('take_profit_close', 1, 1.5)\n",
    "    Umbral = trial.suggest_uniform('Umbral', 0, 30)\n",
    "\n",
    "    # Evalúa la función de trading con los parámetros sugeridos\n",
    "    profit_loss = def_trading_strategy(data, n_shares, stop_loss_close, take_profit_close, Umbral)\n",
    "    \n",
    "    return profit_loss  # Devuelve la métrica que se debe minimizar/maximizar\n",
    "\n",
    "# Crea un estudio Optuna\n",
    "study = optuna.create_study(direction='maximize')  # 'maximize' si se quiere maximizar la métrica\n",
    "\n",
    "# Ejecuta la optimización\n",
    "study.optimize(objective, n_trials=20)  # Puedes ajustar n_trials según tus recursos y tiempo disponible\n",
    "\n",
    "# Obtiene los mejores parámetros encontrados\n",
    "best_params = study.best_params\n",
    "best_profit_loss = study.best_value\n",
    "\n",
    "print(\"Mejores parámetros encontrados:\")\n",
    "print(best_params)\n",
    "print(\"Rendimiento (Profit/Loss):\", best_profit_loss)\n"
   ]
  },
  {
   "cell_type": "code",
   "execution_count": 10,
   "id": "f77c3c85",
   "metadata": {
    "ExecuteTime": {
     "end_time": "2024-02-26T05:35:01.569302200Z",
     "start_time": "2024-02-26T05:34:45.989214700Z"
    }
   },
   "outputs": [],
   "source": [
    "# Condiciones para comprar y vender\n",
    "condicion_compra = data[\"RSI\"] <= 30\n",
    "condicion_venta = data[\"RSI\"] > 70\n",
    "\n",
    "# Aplicando las condiciones para obtener señales de compra y venta\n",
    "data['Senal_RSI'] = ''\n",
    "data.loc[condicion_compra, 'Senal_RSI'] = 'Compra'\n",
    "data.loc[condicion_venta, 'Senal_RSI'] = 'Venta'\n",
    "data.to_excel('../../../data/5m/RSI_BOS.xlsx', index=False)"
   ]
  },
  {
   "cell_type": "code",
   "execution_count": 11,
   "id": "20ccd6f2",
   "metadata": {
    "ExecuteTime": {
     "end_time": "2024-02-26T05:35:01.584728900Z",
     "start_time": "2024-02-26T05:35:01.573307300Z"
    }
   },
   "outputs": [
    {
     "data": {
      "text/plain": "Senal_RSI\n          34529\nVenta      2523\nCompra     2095\nName: count, dtype: int64"
     },
     "execution_count": 11,
     "metadata": {},
     "output_type": "execute_result"
    }
   ],
   "source": [
    "data['Senal_RSI'].value_counts()"
   ]
  },
  {
   "cell_type": "code",
   "outputs": [],
   "source": [],
   "metadata": {
    "collapsed": false
   },
   "id": "f0b8719602ecc53b"
  }
 ],
 "metadata": {
  "kernelspec": {
   "display_name": "Python 3 (ipykernel)",
   "language": "python",
   "name": "python3"
  },
  "language_info": {
   "codemirror_mode": {
    "name": "ipython",
    "version": 3
   },
   "file_extension": ".py",
   "mimetype": "text/x-python",
   "name": "python",
   "nbconvert_exporter": "python",
   "pygments_lexer": "ipython3",
   "version": "3.11.4"
  }
 },
 "nbformat": 4,
 "nbformat_minor": 5
}
