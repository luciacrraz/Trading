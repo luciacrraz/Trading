{
 "cells": [
  {
   "cell_type": "code",
   "execution_count": 12,
   "id": "45c74508",
   "metadata": {
    "ExecuteTime": {
     "end_time": "2024-02-26T05:49:45.318756300Z",
     "start_time": "2024-02-26T05:49:45.286139300Z"
    }
   },
   "outputs": [],
   "source": [
    "import pandas as pd\n",
    "import numpy as np\n",
    "import matplotlib.pyplot as plt\n",
    "import ta"
   ]
  },
  {
   "cell_type": "code",
   "execution_count": 13,
   "id": "efb24854",
   "metadata": {
    "ExecuteTime": {
     "end_time": "2024-02-26T05:49:45.801013100Z",
     "start_time": "2024-02-26T05:49:45.321052600Z"
    }
   },
   "outputs": [
    {
     "data": {
      "text/plain": "       Unnamed: 0   Timestamp  Gmtoffset             Datetime        Open  \\\n13             13  1609774500          0  2021-01-04 15:35:00  130.680694   \n14             14  1609774800          0  2021-01-04 15:40:00  131.111297   \n15             15  1609775100          0  2021-01-04 15:45:00  131.044006   \n16             16  1609775400          0  2021-01-04 15:50:00  130.750000   \n17             17  1609775700          0  2021-01-04 15:55:00  130.700103   \n...           ...         ...        ...                  ...         ...   \n39573       19787  1672432500          0  2022-12-30 20:35:00  129.020004   \n39574       19788  1672432800          0  2022-12-30 20:40:00  129.029998   \n39575       19789  1672433100          0  2022-12-30 20:45:00  129.059997   \n39576       19790  1672433400          0  2022-12-30 20:50:00  129.375000   \n39577       19791  1672433700          0  2022-12-30 20:55:00  129.764999   \n\n             High         Low       Close     Volume        RSI  \n13     131.139999  130.559997  131.115097  1150255.0  36.865564  \n14     131.309997  131.029998  131.044998  1253385.0  35.884280  \n15     131.044006  130.479995  130.749893  1730254.0  32.020190  \n16     130.830001  130.449996  130.709793  1887654.0  31.523450  \n17     131.250000  130.699996  131.000000  1608419.0  38.909727  \n...           ...         ...         ...        ...        ...  \n39573  129.050003  128.899993  129.039993   773964.0  65.886471  \n39574  129.130004  128.919998  129.054992   833767.0  66.263680  \n39575  129.399993  129.020004  129.380004  2136910.0  73.183295  \n39576  129.929992  129.330001  129.764404  2879267.0  78.737959  \n39577  129.949996  129.619995  129.949996  3896812.0  80.805224  \n\n[39147 rows x 10 columns]",
      "text/html": "<div>\n<style scoped>\n    .dataframe tbody tr th:only-of-type {\n        vertical-align: middle;\n    }\n\n    .dataframe tbody tr th {\n        vertical-align: top;\n    }\n\n    .dataframe thead th {\n        text-align: right;\n    }\n</style>\n<table border=\"1\" class=\"dataframe\">\n  <thead>\n    <tr style=\"text-align: right;\">\n      <th></th>\n      <th>Unnamed: 0</th>\n      <th>Timestamp</th>\n      <th>Gmtoffset</th>\n      <th>Datetime</th>\n      <th>Open</th>\n      <th>High</th>\n      <th>Low</th>\n      <th>Close</th>\n      <th>Volume</th>\n      <th>RSI</th>\n    </tr>\n  </thead>\n  <tbody>\n    <tr>\n      <th>13</th>\n      <td>13</td>\n      <td>1609774500</td>\n      <td>0</td>\n      <td>2021-01-04 15:35:00</td>\n      <td>130.680694</td>\n      <td>131.139999</td>\n      <td>130.559997</td>\n      <td>131.115097</td>\n      <td>1150255.0</td>\n      <td>36.865564</td>\n    </tr>\n    <tr>\n      <th>14</th>\n      <td>14</td>\n      <td>1609774800</td>\n      <td>0</td>\n      <td>2021-01-04 15:40:00</td>\n      <td>131.111297</td>\n      <td>131.309997</td>\n      <td>131.029998</td>\n      <td>131.044998</td>\n      <td>1253385.0</td>\n      <td>35.884280</td>\n    </tr>\n    <tr>\n      <th>15</th>\n      <td>15</td>\n      <td>1609775100</td>\n      <td>0</td>\n      <td>2021-01-04 15:45:00</td>\n      <td>131.044006</td>\n      <td>131.044006</td>\n      <td>130.479995</td>\n      <td>130.749893</td>\n      <td>1730254.0</td>\n      <td>32.020190</td>\n    </tr>\n    <tr>\n      <th>16</th>\n      <td>16</td>\n      <td>1609775400</td>\n      <td>0</td>\n      <td>2021-01-04 15:50:00</td>\n      <td>130.750000</td>\n      <td>130.830001</td>\n      <td>130.449996</td>\n      <td>130.709793</td>\n      <td>1887654.0</td>\n      <td>31.523450</td>\n    </tr>\n    <tr>\n      <th>17</th>\n      <td>17</td>\n      <td>1609775700</td>\n      <td>0</td>\n      <td>2021-01-04 15:55:00</td>\n      <td>130.700103</td>\n      <td>131.250000</td>\n      <td>130.699996</td>\n      <td>131.000000</td>\n      <td>1608419.0</td>\n      <td>38.909727</td>\n    </tr>\n    <tr>\n      <th>...</th>\n      <td>...</td>\n      <td>...</td>\n      <td>...</td>\n      <td>...</td>\n      <td>...</td>\n      <td>...</td>\n      <td>...</td>\n      <td>...</td>\n      <td>...</td>\n      <td>...</td>\n    </tr>\n    <tr>\n      <th>39573</th>\n      <td>19787</td>\n      <td>1672432500</td>\n      <td>0</td>\n      <td>2022-12-30 20:35:00</td>\n      <td>129.020004</td>\n      <td>129.050003</td>\n      <td>128.899993</td>\n      <td>129.039993</td>\n      <td>773964.0</td>\n      <td>65.886471</td>\n    </tr>\n    <tr>\n      <th>39574</th>\n      <td>19788</td>\n      <td>1672432800</td>\n      <td>0</td>\n      <td>2022-12-30 20:40:00</td>\n      <td>129.029998</td>\n      <td>129.130004</td>\n      <td>128.919998</td>\n      <td>129.054992</td>\n      <td>833767.0</td>\n      <td>66.263680</td>\n    </tr>\n    <tr>\n      <th>39575</th>\n      <td>19789</td>\n      <td>1672433100</td>\n      <td>0</td>\n      <td>2022-12-30 20:45:00</td>\n      <td>129.059997</td>\n      <td>129.399993</td>\n      <td>129.020004</td>\n      <td>129.380004</td>\n      <td>2136910.0</td>\n      <td>73.183295</td>\n    </tr>\n    <tr>\n      <th>39576</th>\n      <td>19790</td>\n      <td>1672433400</td>\n      <td>0</td>\n      <td>2022-12-30 20:50:00</td>\n      <td>129.375000</td>\n      <td>129.929992</td>\n      <td>129.330001</td>\n      <td>129.764404</td>\n      <td>2879267.0</td>\n      <td>78.737959</td>\n    </tr>\n    <tr>\n      <th>39577</th>\n      <td>19791</td>\n      <td>1672433700</td>\n      <td>0</td>\n      <td>2022-12-30 20:55:00</td>\n      <td>129.764999</td>\n      <td>129.949996</td>\n      <td>129.619995</td>\n      <td>129.949996</td>\n      <td>3896812.0</td>\n      <td>80.805224</td>\n    </tr>\n  </tbody>\n</table>\n<p>39147 rows × 10 columns</p>\n</div>"
     },
     "execution_count": 13,
     "metadata": {},
     "output_type": "execute_result"
    }
   ],
   "source": [
    "data = pd.read_csv(\"../../../data/aapl_5m_train.csv\")\n",
    "rsi_data = ta.momentum.RSIIndicator(data.Close, window=14)\n",
    "data[\"RSI\"] = rsi_data.rsi()\n",
    "data = data.dropna()\n",
    "data"
   ]
  },
  {
   "cell_type": "code",
   "execution_count": 14,
   "id": "4bb82016",
   "metadata": {
    "ExecuteTime": {
     "end_time": "2024-02-26T05:49:45.848106900Z",
     "start_time": "2024-02-26T05:49:45.828776500Z"
    }
   },
   "outputs": [],
   "source": [
    "def def_trading_strategy(data, n_shares, stop_loss_close, take_profit_close, Umbral):\n",
    "    cash= 1_000_000\n",
    "    com = 0.125/100\n",
    "    history = []\n",
    "    portfolio_value = []\n",
    "    active_operations = []\n",
    "    total_profit_loss = 0\n",
    "\n",
    "    for i, row in data.iterrows():\n",
    "        # Close active operation\n",
    "        active_op_temp = []\n",
    "        for operation in active_operations:\n",
    "            if operation[\"stop_loss\"] > row.Close:\n",
    "                cash += (row.Close * operation[\"n_shares\"]) * (1 - com)\n",
    "                # Calcular la ganancia o pérdida y actualizar el total\n",
    "                profit_loss = (row.Close * operation[\"n_shares\"]) * (1 - com) - (operation[\"bought\"] * operation[\"n_shares\"])\n",
    "                total_profit_loss += profit_loss\n",
    "                history.append({\"timestamp\": row.Timestamp, \"profit_loss\": profit_loss})\n",
    "            elif operation[\"take_profit\"] < row.Close:\n",
    "                cash += (row.Close * operation[\"n_shares\"]) * (1 - com)\n",
    "                # Calcular la ganancia o pérdida y actualizar el total\n",
    "                profit_loss = (row.Close * operation[\"n_shares\"]) * (1 - com) - (operation[\"bought\"] * operation[\"n_shares\"])\n",
    "                total_profit_loss += profit_loss\n",
    "                history.append({\"timestamp\": row.Timestamp, \"profit_loss\": profit_loss})\n",
    "            else:\n",
    "                active_op_temp.append(operation)\n",
    "        active_operations = active_op_temp\n",
    "            \n",
    "        # ¿Tenemos suficiente efectivo?\n",
    "        if cash < (row.Close * n_shares * (1 + com)):\n",
    "            asset_vals = sum([operation[\"n_shares\"] * row.Close for operation in active_operations])\n",
    "            portfolio_value.append(cash + asset_vals)\n",
    "            continue\n",
    "        \n",
    "        # Analizar la señal larga\n",
    "        if row.RSI <= Umbral:  # If ceil(Op)\n",
    "            active_operations.append({\n",
    "                \"timestamp\": row.Timestamp,\n",
    "                \"bought\": row.Close,\n",
    "                \"n_shares\": n_shares,\n",
    "                \"type\": \"long\",\n",
    "                \"stop_loss\": row.Close * stop_loss_close,\n",
    "                \"take_profit\": row.Close * take_profit_close\n",
    "            })\n",
    "            cash -= row.Close * n_shares * (1 + com)\n",
    "        \n",
    "        asset_vals = sum([operation[\"n_shares\"] * row.Close for operation in active_operations])\n",
    "        portfolio_value.append(cash + asset_vals)\n",
    "    \n",
    "    return total_profit_loss\n"
   ]
  },
  {
   "cell_type": "code",
   "execution_count": 15,
   "id": "416d31f6",
   "metadata": {
    "ExecuteTime": {
     "end_time": "2024-02-26T05:57:02.986669400Z",
     "start_time": "2024-02-26T05:49:45.848106900Z"
    }
   },
   "outputs": [
    {
     "name": "stderr",
     "output_type": "stream",
     "text": [
      "[I 2024-02-25 23:49:45,859] A new study created in memory with name: no-name-08f254fe-cd86-4b44-998b-114873a1a16d\n",
      "C:\\Users\\elias\\AppData\\Local\\Temp\\ipykernel_12728\\98014024.py:6: FutureWarning: suggest_uniform has been deprecated in v3.0.0. This feature will be removed in v6.0.0. See https://github.com/optuna/optuna/releases/tag/v3.0.0. Use suggest_float instead.\n",
      "  stop_loss_close = trial.suggest_uniform('stop_loss_close', 0.80, 1)\n",
      "C:\\Users\\elias\\AppData\\Local\\Temp\\ipykernel_12728\\98014024.py:7: FutureWarning: suggest_uniform has been deprecated in v3.0.0. This feature will be removed in v6.0.0. See https://github.com/optuna/optuna/releases/tag/v3.0.0. Use suggest_float instead.\n",
      "  take_profit_close = trial.suggest_uniform('take_profit_close', 1, 1.5)\n",
      "C:\\Users\\elias\\AppData\\Local\\Temp\\ipykernel_12728\\98014024.py:8: FutureWarning: suggest_uniform has been deprecated in v3.0.0. This feature will be removed in v6.0.0. See https://github.com/optuna/optuna/releases/tag/v3.0.0. Use suggest_float instead.\n",
      "  Umbral = trial.suggest_uniform('Umbral', 0, 30)\n",
      "[I 2024-02-25 23:49:50,381] Trial 0 finished with value: -13971.723786019931 and parameters: {'n_shares': 22, 'stop_loss_close': 0.9598986294525907, 'take_profit_close': 1.0097423423741492, 'Umbral': 24.721876929191726}. Best is trial 0 with value: -13971.723786019931.\n",
      "[I 2024-02-25 23:49:52,679] Trial 1 finished with value: 1061.9715570775006 and parameters: {'n_shares': 31, 'stop_loss_close': 0.9532407781255422, 'take_profit_close': 1.2816251967891577, 'Umbral': 4.963535261244321}. Best is trial 1 with value: 1061.9715570775006.\n",
      "[I 2024-02-25 23:50:10,990] Trial 2 finished with value: -245.57585534993905 and parameters: {'n_shares': 40, 'stop_loss_close': 0.9467537030333117, 'take_profit_close': 1.3497019058910074, 'Umbral': 19.54877430249442}. Best is trial 1 with value: 1061.9715570775006.\n",
      "[I 2024-02-25 23:50:13,722] Trial 3 finished with value: 0.0 and parameters: {'n_shares': 42, 'stop_loss_close': 0.91991727720577, 'take_profit_close': 1.4171269360144478, 'Umbral': 4.399653211787026}. Best is trial 1 with value: 1061.9715570775006.\n",
      "[I 2024-02-25 23:50:24,844] Trial 4 finished with value: 36440.25014214376 and parameters: {'n_shares': 35, 'stop_loss_close': 0.8739191264403487, 'take_profit_close': 1.2490155630988282, 'Umbral': 15.638344731415266}. Best is trial 4 with value: 36440.25014214376.\n",
      "[I 2024-02-25 23:51:12,140] Trial 5 finished with value: -46353.5130262125 and parameters: {'n_shares': 30, 'stop_loss_close': 0.949660911480354, 'take_profit_close': 1.4384570728455834, 'Umbral': 24.045985033436125}. Best is trial 4 with value: 36440.25014214376.\n",
      "[I 2024-02-25 23:52:28,913] Trial 6 finished with value: -80798.3868017249 and parameters: {'n_shares': 18, 'stop_loss_close': 0.932197879009389, 'take_profit_close': 1.4368141498814122, 'Umbral': 26.3313459927864}. Best is trial 4 with value: 36440.25014214376.\n",
      "[I 2024-02-25 23:52:31,029] Trial 7 finished with value: 207.62882506500023 and parameters: {'n_shares': 3, 'stop_loss_close': 0.8700753084294298, 'take_profit_close': 1.108376744783259, 'Umbral': 7.120998401578427}. Best is trial 4 with value: 36440.25014214376.\n",
      "[I 2024-02-25 23:52:44,132] Trial 8 finished with value: 5126.473458086468 and parameters: {'n_shares': 43, 'stop_loss_close': 0.980262725492277, 'take_profit_close': 1.2202160365026309, 'Umbral': 26.73860140991376}. Best is trial 4 with value: 36440.25014214376.\n",
      "[I 2024-02-25 23:53:11,658] Trial 9 finished with value: -25934.099434109903 and parameters: {'n_shares': 28, 'stop_loss_close': 0.9779350495466703, 'take_profit_close': 1.4249509372630214, 'Umbral': 26.37211149319836}. Best is trial 4 with value: 36440.25014214376.\n",
      "[I 2024-02-25 23:53:16,184] Trial 10 finished with value: 10790.4047931 and parameters: {'n_shares': 12, 'stop_loss_close': 0.808323935859242, 'take_profit_close': 1.1850995026702513, 'Umbral': 12.13226411941416}. Best is trial 4 with value: 36440.25014214376.\n",
      "[I 2024-02-25 23:53:20,032] Trial 11 finished with value: 6274.860449332499 and parameters: {'n_shares': 9, 'stop_loss_close': 0.8083388617336136, 'take_profit_close': 1.1917623245178424, 'Umbral': 11.271505776472555}. Best is trial 4 with value: 36440.25014214376.\n",
      "[I 2024-02-25 23:53:24,352] Trial 12 finished with value: 14376.379325002503 and parameters: {'n_shares': 13, 'stop_loss_close': 0.8522057838693126, 'take_profit_close': 1.1341562905935696, 'Umbral': 14.376101031699307}. Best is trial 4 with value: 36440.25014214376.\n",
      "[I 2024-02-25 23:53:30,454] Trial 13 finished with value: 55662.23166718749 and parameters: {'n_shares': 50, 'stop_loss_close': 0.8670450994066936, 'take_profit_close': 1.109249146343117, 'Umbral': 17.303550074529127}. Best is trial 13 with value: 55662.23166718749.\n",
      "[I 2024-02-25 23:53:35,832] Trial 14 finished with value: -3902.2695842499134 and parameters: {'n_shares': 50, 'stop_loss_close': 0.87844169297047, 'take_profit_close': 1.0297229930126173, 'Umbral': 19.505473285082523}. Best is trial 13 with value: 55662.23166718749.\n",
      "[I 2024-02-25 23:54:06,614] Trial 15 finished with value: 37379.25619168502 and parameters: {'n_shares': 36, 'stop_loss_close': 0.8449156989212679, 'take_profit_close': 1.29154480616635, 'Umbral': 19.450229586713874}. Best is trial 13 with value: 55662.23166718749.\n",
      "[I 2024-02-25 23:54:45,503] Trial 16 finished with value: 41028.93880751999 and parameters: {'n_shares': 48, 'stop_loss_close': 0.8304987513923433, 'take_profit_close': 1.325062757209874, 'Umbral': 19.71390860707909}. Best is trial 13 with value: 55662.23166718749.\n",
      "[I 2024-02-25 23:55:53,706] Trial 17 finished with value: 10410.528925125001 and parameters: {'n_shares': 50, 'stop_loss_close': 0.831409282736116, 'take_profit_close': 1.4992297097857108, 'Umbral': 29.750038992107314}. Best is trial 13 with value: 55662.23166718749.\n",
      "[I 2024-02-25 23:55:59,681] Trial 18 finished with value: 38779.47111829499 and parameters: {'n_shares': 46, 'stop_loss_close': 0.9059969237740583, 'take_profit_close': 1.1050791954997903, 'Umbral': 17.287452022226137}. Best is trial 13 with value: 55662.23166718749.\n",
      "[I 2024-02-25 23:57:02,950] Trial 19 finished with value: 33460.38384362124 and parameters: {'n_shares': 37, 'stop_loss_close': 0.829771329102216, 'take_profit_close': 1.3192369455459216, 'Umbral': 22.140612387767412}. Best is trial 13 with value: 55662.23166718749.\n"
     ]
    },
    {
     "name": "stdout",
     "output_type": "stream",
     "text": [
      "Mejores parámetros encontrados:\n",
      "{'n_shares': 50, 'stop_loss_close': 0.8670450994066936, 'take_profit_close': 1.109249146343117, 'Umbral': 17.303550074529127}\n",
      "Rendimiento (Profit/Loss): 55662.23166718749\n"
     ]
    }
   ],
   "source": [
    "import optuna\n",
    "\n",
    "def objective(trial):\n",
    "    # Define los rangos de búsqueda para los parámetros\n",
    "    n_shares = trial.suggest_int('n_shares', 1, 50)\n",
    "    stop_loss_close = trial.suggest_uniform('stop_loss_close', 0.80, 1)\n",
    "    take_profit_close = trial.suggest_uniform('take_profit_close', 1, 1.5)\n",
    "    Umbral = trial.suggest_uniform('Umbral', 0, 30)\n",
    "\n",
    "    # Evalúa la función de trading con los parámetros sugeridos\n",
    "    profit_loss = def_trading_strategy(data, n_shares, stop_loss_close, take_profit_close, Umbral)\n",
    "    \n",
    "    return profit_loss  # Devuelve la métrica que se debe minimizar/maximizar\n",
    "\n",
    "# Crea un estudio Optuna\n",
    "study = optuna.create_study(direction='maximize')  # 'maximize' si se quiere maximizar la métrica\n",
    "\n",
    "# Ejecuta la optimización\n",
    "study.optimize(objective, n_trials=20)  # Puedes ajustar n_trials según tus recursos y tiempo disponible\n",
    "\n",
    "# Obtiene los mejores parámetros encontrados\n",
    "best_params = study.best_params\n",
    "best_profit_loss = study.best_value\n",
    "\n",
    "print(\"Mejores parámetros encontrados:\")\n",
    "print(best_params)\n",
    "print(\"Rendimiento (Profit/Loss):\", best_profit_loss)\n"
   ]
  },
  {
   "cell_type": "code",
   "execution_count": 16,
   "id": "f77c3c85",
   "metadata": {
    "ExecuteTime": {
     "end_time": "2024-02-26T05:57:14.102424800Z",
     "start_time": "2024-02-26T05:57:03.019377100Z"
    }
   },
   "outputs": [],
   "source": [
    "# Condiciones para comprar y vender\n",
    "condicion_compra = data[\"RSI\"] <= 30\n",
    "condicion_venta = data[\"RSI\"] > 70\n",
    "\n",
    "# Aplicando las condiciones para obtener señales de compra y venta\n",
    "data['Senal_RSI'] = ''\n",
    "data.loc[condicion_compra, 'Senal_RSI'] = 'Compra'\n",
    "data.loc[condicion_venta, 'Senal_RSI'] = 'Venta'\n",
    "data.to_excel('../../../data/5m/RSI_BOS.xlsx', index=False)"
   ]
  },
  {
   "cell_type": "code",
   "execution_count": 17,
   "id": "20ccd6f2",
   "metadata": {
    "ExecuteTime": {
     "end_time": "2024-02-26T05:57:14.118922200Z",
     "start_time": "2024-02-26T05:57:14.104425700Z"
    }
   },
   "outputs": [
    {
     "data": {
      "text/plain": "Senal_RSI\n          34529\nVenta      2523\nCompra     2095\nName: count, dtype: int64"
     },
     "execution_count": 17,
     "metadata": {},
     "output_type": "execute_result"
    }
   ],
   "source": [
    "data['Senal_RSI'].value_counts()"
   ]
  },
  {
   "cell_type": "code",
   "outputs": [],
   "source": [],
   "metadata": {
    "collapsed": false,
    "ExecuteTime": {
     "end_time": "2024-02-26T05:57:14.122934200Z",
     "start_time": "2024-02-26T05:57:14.118922200Z"
    }
   },
   "id": "f0b8719602ecc53b",
   "execution_count": 17
  }
 ],
 "metadata": {
  "kernelspec": {
   "display_name": "Python 3 (ipykernel)",
   "language": "python",
   "name": "python3"
  },
  "language_info": {
   "codemirror_mode": {
    "name": "ipython",
    "version": 3
   },
   "file_extension": ".py",
   "mimetype": "text/x-python",
   "name": "python",
   "nbconvert_exporter": "python",
   "pygments_lexer": "ipython3",
   "version": "3.11.4"
  }
 },
 "nbformat": 4,
 "nbformat_minor": 5
}
