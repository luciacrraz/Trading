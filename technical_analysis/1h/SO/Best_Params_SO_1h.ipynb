{
 "cells": [
  {
   "cell_type": "code",
   "execution_count": 1,
   "id": "45c74508",
   "metadata": {
    "ExecuteTime": {
     "end_time": "2024-02-26T04:59:10.967623100Z",
     "start_time": "2024-02-26T04:59:08.242447500Z"
    }
   },
   "outputs": [],
   "source": [
    "import pandas as pd\n",
    "import numpy as np\n",
    "import matplotlib.pyplot as plt\n",
    "import ta"
   ]
  },
  {
   "cell_type": "code",
   "execution_count": 2,
   "id": "efb24854",
   "metadata": {
    "ExecuteTime": {
     "end_time": "2024-02-26T04:59:11.023460Z",
     "start_time": "2024-02-26T04:59:10.647328100Z"
    }
   },
   "outputs": [],
   "source": [
    "data = pd.read_csv(\"../../../data/aapl_1h_train.csv\")\n",
    "so_data = ta.momentum.StochasticOscillator(data.High, data.Low, data.Close, window = 14, smooth_window = 3)\n",
    "data[\"SO\"] = so_data.stoch()\n",
    "data = data.dropna()"
   ]
  },
  {
   "cell_type": "code",
   "execution_count": 3,
   "id": "05591dab",
   "metadata": {
    "ExecuteTime": {
     "end_time": "2024-02-26T04:59:11.082667600Z",
     "start_time": "2024-02-26T04:59:10.676988800Z"
    }
   },
   "outputs": [],
   "source": [
    "def def_trading_strategy(data, n_shares, stop_loss_close, take_profit_close, Umbral):\n",
    "    cash= 1_000_000\n",
    "    com = 0.125/100\n",
    "    history = []\n",
    "    portfolio_value = []\n",
    "    active_operations = []\n",
    "    total_profit_loss = 0\n",
    "\n",
    "    for i, row in data.iterrows():\n",
    "        # Close active operation\n",
    "        active_op_temp = []\n",
    "        for operation in active_operations:\n",
    "            if operation[\"stop_loss\"] > row.Close:\n",
    "                cash += (row.Close * operation[\"n_shares\"]) * (1 - com)\n",
    "                # Calcular la ganancia o pérdida y actualizar el total\n",
    "                profit_loss = (row.Close * operation[\"n_shares\"]) * (1 - com) - (operation[\"bought\"] * operation[\"n_shares\"])\n",
    "                total_profit_loss += profit_loss\n",
    "                history.append({\"timestamp\": row.Timestamp, \"profit_loss\": profit_loss})\n",
    "            elif operation[\"take_profit\"] < row.Close:\n",
    "                cash += (row.Close * operation[\"n_shares\"]) * (1 - com)\n",
    "                # Calcular la ganancia o pérdida y actualizar el total\n",
    "                profit_loss = (row.Close * operation[\"n_shares\"]) * (1 - com) - (operation[\"bought\"] * operation[\"n_shares\"])\n",
    "                total_profit_loss += profit_loss\n",
    "                history.append({\"timestamp\": row.Timestamp, \"profit_loss\": profit_loss})\n",
    "            else:\n",
    "                active_op_temp.append(operation)\n",
    "        active_operations = active_op_temp\n",
    "            \n",
    "        # ¿Tenemos suficiente efectivo?\n",
    "        if cash < (row.Close * n_shares * (1 + com)):\n",
    "            asset_vals = sum([operation[\"n_shares\"] * row.Close for operation in active_operations])\n",
    "            portfolio_value.append(cash + asset_vals)\n",
    "            continue\n",
    "        \n",
    "        # Analizar la señal larga\n",
    "        if row.SO <= Umbral:  # If ceil(Op)\n",
    "            active_operations.append({\n",
    "                \"timestamp\": row.Timestamp,\n",
    "                \"bought\": row.Close,\n",
    "                \"n_shares\": n_shares,\n",
    "                \"type\": \"long\",\n",
    "                \"stop_loss\": row.Close * stop_loss_close,\n",
    "                \"take_profit\": row.Close * take_profit_close\n",
    "            })\n",
    "            cash -= row.Close * n_shares * (1 + com)\n",
    "        \n",
    "        asset_vals = sum([operation[\"n_shares\"] * row.Close for operation in active_operations])\n",
    "        portfolio_value.append(cash + asset_vals)\n",
    "    \n",
    "    return total_profit_loss"
   ]
  },
  {
   "cell_type": "code",
   "execution_count": 4,
   "id": "1b913ae5",
   "metadata": {
    "ExecuteTime": {
     "end_time": "2024-02-26T04:59:18.178571100Z",
     "start_time": "2024-02-26T04:59:10.689138600Z"
    }
   },
   "outputs": [
    {
     "name": "stderr",
     "output_type": "stream",
     "text": [
      "[I 2024-02-25 22:59:11,591] A new study created in memory with name: no-name-0ccc4baf-b36a-4b0f-8070-6f991f0e0815\n",
      "C:\\Users\\carlo\\AppData\\Local\\Temp\\ipykernel_28272\\2529039827.py:6: FutureWarning: suggest_uniform has been deprecated in v3.0.0. This feature will be removed in v6.0.0. See https://github.com/optuna/optuna/releases/tag/v3.0.0. Use suggest_float instead.\n",
      "  stop_loss_close = trial.suggest_uniform('stop_loss_close', 0.80, 1)\n",
      "C:\\Users\\carlo\\AppData\\Local\\Temp\\ipykernel_28272\\2529039827.py:7: FutureWarning: suggest_uniform has been deprecated in v3.0.0. This feature will be removed in v6.0.0. See https://github.com/optuna/optuna/releases/tag/v3.0.0. Use suggest_float instead.\n",
      "  take_profit_close = trial.suggest_uniform('take_profit_close', 1, 2)\n",
      "C:\\Users\\carlo\\AppData\\Local\\Temp\\ipykernel_28272\\2529039827.py:8: FutureWarning: suggest_uniform has been deprecated in v3.0.0. This feature will be removed in v6.0.0. See https://github.com/optuna/optuna/releases/tag/v3.0.0. Use suggest_float instead.\n",
      "  Umbral = trial.suggest_uniform('Umbral', 0, 20)\n",
      "[I 2024-02-25 22:59:11,818] Trial 0 finished with value: 0.0 and parameters: {'n_shares': 3, 'stop_loss_close': 0.8990609624731675, 'take_profit_close': 1.7307463341439013, 'Umbral': 4.975225365282112}. Best is trial 0 with value: 0.0.\n",
      "[I 2024-02-25 22:59:12,366] Trial 1 finished with value: 0.0 and parameters: {'n_shares': 22, 'stop_loss_close': 0.8064839687052678, 'take_profit_close': 1.3949745652749845, 'Umbral': 15.612828924690309}. Best is trial 0 with value: 0.0.\n",
      "[I 2024-02-25 22:59:12,777] Trial 2 finished with value: 0.0 and parameters: {'n_shares': 8, 'stop_loss_close': 0.8508847069766283, 'take_profit_close': 1.7680033809003612, 'Umbral': 11.334456573287074}. Best is trial 0 with value: 0.0.\n",
      "[I 2024-02-25 22:59:13,288] Trial 3 finished with value: -1650.0561442000007 and parameters: {'n_shares': 32, 'stop_loss_close': 0.9264605885908984, 'take_profit_close': 1.5095315643056806, 'Umbral': 19.773985781413394}. Best is trial 0 with value: 0.0.\n",
      "[I 2024-02-25 22:59:13,579] Trial 4 finished with value: -705.5470975524995 and parameters: {'n_shares': 14, 'stop_loss_close': 0.9500439269133695, 'take_profit_close': 1.6109664680113112, 'Umbral': 9.086350426416939}. Best is trial 0 with value: 0.0.\n",
      "[I 2024-02-25 22:59:13,845] Trial 5 finished with value: -90.44968401000006 and parameters: {'n_shares': 8, 'stop_loss_close': 0.913417473115444, 'take_profit_close': 1.8087576126533405, 'Umbral': 8.578332844872463}. Best is trial 0 with value: 0.0.\n",
      "[I 2024-02-25 22:59:13,896] Trial 6 finished with value: 0.0 and parameters: {'n_shares': 37, 'stop_loss_close': 0.8084747983087798, 'take_profit_close': 1.551894960015345, 'Umbral': 0.050711740857802834}. Best is trial 0 with value: 0.0.\n",
      "[I 2024-02-25 22:59:14,208] Trial 7 finished with value: -227.15641026749995 and parameters: {'n_shares': 7, 'stop_loss_close': 0.9196816855440096, 'take_profit_close': 1.5654464177879237, 'Umbral': 11.331669049248333}. Best is trial 0 with value: 0.0.\n",
      "[I 2024-02-25 22:59:14,380] Trial 8 finished with value: 1903.3370292249992 and parameters: {'n_shares': 10, 'stop_loss_close': 0.9803617253748415, 'take_profit_close': 1.1159563143038382, 'Umbral': 10.804167291252078}. Best is trial 8 with value: 1903.3370292249992.\n",
      "[I 2024-02-25 22:59:14,684] Trial 9 finished with value: -318.08175003500014 and parameters: {'n_shares': 14, 'stop_loss_close': 0.9119643637581432, 'take_profit_close': 1.3053527691950082, 'Umbral': 11.24076516801113}. Best is trial 8 with value: 1903.3370292249992.\n",
      "[I 2024-02-25 22:59:14,785] Trial 10 finished with value: 76.55211195000084 and parameters: {'n_shares': 24, 'stop_loss_close': 0.9998767169545927, 'take_profit_close': 1.008420236483939, 'Umbral': 16.129134504970462}. Best is trial 8 with value: 1903.3370292249992.\n",
      "[I 2024-02-25 22:59:14,903] Trial 11 finished with value: 2115.4737687600027 and parameters: {'n_shares': 48, 'stop_loss_close': 0.9859180362632629, 'take_profit_close': 1.019371284844481, 'Umbral': 15.965168295645345}. Best is trial 11 with value: 2115.4737687600027.\n",
      "[I 2024-02-25 22:59:15,022] Trial 12 finished with value: 1853.1945871200114 and parameters: {'n_shares': 48, 'stop_loss_close': 0.9950247099879693, 'take_profit_close': 1.0321803701075702, 'Umbral': 15.369370048653217}. Best is trial 11 with value: 2115.4737687600027.\n",
      "[I 2024-02-25 22:59:15,327] Trial 13 finished with value: 13873.47331973751 and parameters: {'n_shares': 46, 'stop_loss_close': 0.9620545709491002, 'take_profit_close': 1.19769034442738, 'Umbral': 19.887795474803738}. Best is trial 13 with value: 13873.47331973751.\n",
      "[I 2024-02-25 22:59:15,626] Trial 14 finished with value: 9408.302711648765 and parameters: {'n_shares': 49, 'stop_loss_close': 0.9637489587695627, 'take_profit_close': 1.2134733077704491, 'Umbral': 19.698550399881267}. Best is trial 13 with value: 13873.47331973751.\n",
      "[I 2024-02-25 22:59:15,978] Trial 15 finished with value: 7642.937268330002 and parameters: {'n_shares': 39, 'stop_loss_close': 0.9529670065309922, 'take_profit_close': 1.224693837740573, 'Umbral': 19.956723072492572}. Best is trial 13 with value: 13873.47331973751.\n",
      "[I 2024-02-25 22:59:16,480] Trial 16 finished with value: 17573.78012687001 and parameters: {'n_shares': 43, 'stop_loss_close': 0.8832353436221332, 'take_profit_close': 1.202138000839058, 'Umbral': 18.403335707816993}. Best is trial 16 with value: 17573.78012687001.\n",
      "[I 2024-02-25 22:59:17,073] Trial 17 finished with value: 0.0 and parameters: {'n_shares': 40, 'stop_loss_close': 0.8812017137213547, 'take_profit_close': 1.9786182856410646, 'Umbral': 18.125255164339414}. Best is trial 16 with value: 17573.78012687001.\n",
      "[I 2024-02-25 22:59:17,490] Trial 18 finished with value: 0.0 and parameters: {'n_shares': 32, 'stop_loss_close': 0.8719538168062368, 'take_profit_close': 1.3634528578054097, 'Umbral': 13.412535540540915}. Best is trial 16 with value: 17573.78012687001.\n",
      "[I 2024-02-25 22:59:17,891] Trial 19 finished with value: 25714.81710000001 and parameters: {'n_shares': 45, 'stop_loss_close': 0.8393093546867869, 'take_profit_close': 1.1735579352674388, 'Umbral': 17.575530994663918}. Best is trial 19 with value: 25714.81710000001.\n"
     ]
    },
    {
     "name": "stdout",
     "output_type": "stream",
     "text": [
      "Mejores parámetros encontrados:\n",
      "{'n_shares': 45, 'stop_loss_close': 0.8393093546867869, 'take_profit_close': 1.1735579352674388, 'Umbral': 17.575530994663918}\n",
      "Rendimiento (Profit/Loss): 25714.81710000001\n"
     ]
    }
   ],
   "source": [
    "import optuna\n",
    "\n",
    "def objective(trial):\n",
    "    # Define los rangos de búsqueda para los parámetros\n",
    "    n_shares = trial.suggest_int('n_shares', 1, 50)\n",
    "    stop_loss_close = trial.suggest_uniform('stop_loss_close', 0.80, 1)\n",
    "    take_profit_close = trial.suggest_uniform('take_profit_close', 1, 2)\n",
    "    Umbral = trial.suggest_uniform('Umbral', 0, 20)\n",
    "\n",
    "    # Evalúa la función de trading con los parámetros sugeridos\n",
    "    profit_loss = def_trading_strategy(data, n_shares, stop_loss_close, take_profit_close, Umbral)\n",
    "    \n",
    "    return profit_loss  # Devuelve la métrica que se debe minimizar/maximizar\n",
    "\n",
    "# Crea un estudio Optuna\n",
    "study = optuna.create_study(direction='maximize')  # 'maximize' si se quiere maximizar la métrica\n",
    "\n",
    "# Ejecuta la optimización\n",
    "study.optimize(objective, n_trials=20)  # Puedes ajustar n_trials según tus recursos y tiempo disponible\n",
    "\n",
    "# Obtiene los mejores parámetros encontrados\n",
    "best_params = study.best_params\n",
    "best_profit_loss = study.best_value\n",
    "\n",
    "print(\"Mejores parámetros encontrados:\")\n",
    "print(best_params)\n",
    "print(\"Rendimiento (Profit/Loss):\", best_profit_loss)\n"
   ]
  },
  {
   "cell_type": "code",
   "execution_count": 5,
   "id": "dbe172ec",
   "metadata": {
    "ExecuteTime": {
     "end_time": "2024-02-26T04:59:18.648268300Z",
     "start_time": "2024-02-26T04:59:17.905822100Z"
    }
   },
   "outputs": [],
   "source": [
    "# Condiciones para comprar y vender\n",
    "condicion_compra = data[\"SO\"] <= 20\n",
    "condicion_venta = data[\"SO\"] > 80\n",
    "\n",
    "# Aplicando las condiciones para obtener señales de compra y venta\n",
    "data['Senal_SO'] = ''\n",
    "data.loc[condicion_compra, 'Senal_SO'] = 'Compra'\n",
    "data.loc[condicion_venta, 'Senal_SO'] = 'Venta'\n",
    "data.to_excel('../../../data/1h/SO_BOS.xlsx', index=False)"
   ]
  },
  {
   "cell_type": "code",
   "execution_count": 6,
   "id": "e4cf1a29",
   "metadata": {
    "ExecuteTime": {
     "end_time": "2024-02-26T04:59:18.738242600Z",
     "start_time": "2024-02-26T04:59:18.646267800Z"
    }
   },
   "outputs": [
    {
     "data": {
      "text/plain": "Senal_SO\n          187\nVenta      78\nCompra     63\nName: count, dtype: int64"
     },
     "execution_count": 6,
     "metadata": {},
     "output_type": "execute_result"
    }
   ],
   "source": [
    "data['Senal_SO'].value_counts()"
   ]
  },
  {
   "cell_type": "code",
   "execution_count": 6,
   "id": "9c171743",
   "metadata": {
    "ExecuteTime": {
     "end_time": "2024-02-26T04:59:18.780591100Z",
     "start_time": "2024-02-26T04:59:18.664236500Z"
    }
   },
   "outputs": [],
   "source": []
  },
  {
   "cell_type": "code",
   "execution_count": 6,
   "id": "342dbd7f",
   "metadata": {
    "ExecuteTime": {
     "end_time": "2024-02-26T04:59:18.824109900Z",
     "start_time": "2024-02-26T04:59:18.668253900Z"
    }
   },
   "outputs": [],
   "source": []
  }
 ],
 "metadata": {
  "kernelspec": {
   "display_name": "Python 3 (ipykernel)",
   "language": "python",
   "name": "python3"
  },
  "language_info": {
   "codemirror_mode": {
    "name": "ipython",
    "version": 3
   },
   "file_extension": ".py",
   "mimetype": "text/x-python",
   "name": "python",
   "nbconvert_exporter": "python",
   "pygments_lexer": "ipython3",
   "version": "3.11.4"
  }
 },
 "nbformat": 4,
 "nbformat_minor": 5
}
