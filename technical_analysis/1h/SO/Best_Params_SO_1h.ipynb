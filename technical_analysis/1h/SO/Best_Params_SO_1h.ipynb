{
 "cells": [
  {
   "cell_type": "code",
   "execution_count": 7,
   "id": "45c74508",
   "metadata": {},
   "outputs": [],
   "source": [
    "import pandas as pd\n",
    "import numpy as np\n",
    "import matplotlib.pyplot as plt\n",
    "import ta"
   ]
  },
  {
   "cell_type": "code",
   "execution_count": 8,
   "id": "efb24854",
   "metadata": {},
   "outputs": [],
   "source": [
    "data = pd.read_csv(\"aapl_1h_train.csv\")\n",
    "so_data = ta.momentum.StochasticOscillator(data.High, data.Low, data.Close, window = 14, smooth_window = 3)\n",
    "data[\"SO\"] = so_data.stoch()\n",
    "data = data.dropna()"
   ]
  },
  {
   "cell_type": "code",
   "execution_count": 9,
   "id": "05591dab",
   "metadata": {},
   "outputs": [],
   "source": [
    "def def_trading_strategy(data, n_shares, stop_loss_close, take_profit_close, Umbral):\n",
    "    cash= 1_000_000\n",
    "    com = 0.125/100\n",
    "    history = []\n",
    "    portfolio_value = []\n",
    "    active_operations = []\n",
    "    total_profit_loss = 0\n",
    "\n",
    "    for i, row in data.iterrows():\n",
    "        # Close active operation\n",
    "        active_op_temp = []\n",
    "        for operation in active_operations:\n",
    "            if operation[\"stop_loss\"] > row.Close:\n",
    "                cash += (row.Close * operation[\"n_shares\"]) * (1 - com)\n",
    "                # Calcular la ganancia o pérdida y actualizar el total\n",
    "                profit_loss = (row.Close * operation[\"n_shares\"]) * (1 - com) - (operation[\"bought\"] * operation[\"n_shares\"])\n",
    "                total_profit_loss += profit_loss\n",
    "                history.append({\"timestamp\": row.Timestamp, \"profit_loss\": profit_loss})\n",
    "            elif operation[\"take_profit\"] < row.Close:\n",
    "                cash += (row.Close * operation[\"n_shares\"]) * (1 - com)\n",
    "                # Calcular la ganancia o pérdida y actualizar el total\n",
    "                profit_loss = (row.Close * operation[\"n_shares\"]) * (1 - com) - (operation[\"bought\"] * operation[\"n_shares\"])\n",
    "                total_profit_loss += profit_loss\n",
    "                history.append({\"timestamp\": row.Timestamp, \"profit_loss\": profit_loss})\n",
    "            else:\n",
    "                active_op_temp.append(operation)\n",
    "        active_operations = active_op_temp\n",
    "            \n",
    "        # ¿Tenemos suficiente efectivo?\n",
    "        if cash < (row.Close * n_shares * (1 + com)):\n",
    "            asset_vals = sum([operation[\"n_shares\"] * row.Close for operation in active_operations])\n",
    "            portfolio_value.append(cash + asset_vals)\n",
    "            continue\n",
    "        \n",
    "        # Analizar la señal larga\n",
    "        if row.SO <= Umbral:  # If ceil(Op)\n",
    "            active_operations.append({\n",
    "                \"timestamp\": row.Timestamp,\n",
    "                \"bought\": row.Close,\n",
    "                \"n_shares\": n_shares,\n",
    "                \"type\": \"long\",\n",
    "                \"stop_loss\": row.Close * stop_loss_close,\n",
    "                \"take_profit\": row.Close * take_profit_close\n",
    "            })\n",
    "            cash -= row.Close * n_shares * (1 + com)\n",
    "        \n",
    "        asset_vals = sum([operation[\"n_shares\"] * row.Close for operation in active_operations])\n",
    "        portfolio_value.append(cash + asset_vals)\n",
    "    \n",
    "    return total_profit_loss"
   ]
  },
  {
   "cell_type": "code",
   "execution_count": 10,
   "id": "1b913ae5",
   "metadata": {},
   "outputs": [
    {
     "name": "stderr",
     "output_type": "stream",
     "text": [
      "[I 2024-02-25 19:11:15,440] A new study created in memory with name: no-name-bafd8379-369c-4de5-b141-5b0a7d15b489\n",
      "C:\\Users\\elias\\AppData\\Local\\Temp\\ipykernel_19380\\3947602299.py:6: FutureWarning: suggest_uniform has been deprecated in v3.0.0. This feature will be removed in v6.0.0. See https://github.com/optuna/optuna/releases/tag/v3.0.0. Use suggest_float instead.\n",
      "  stop_loss_close = trial.suggest_uniform('stop_loss_close', 0.80, 1)\n",
      "C:\\Users\\elias\\AppData\\Local\\Temp\\ipykernel_19380\\3947602299.py:7: FutureWarning: suggest_uniform has been deprecated in v3.0.0. This feature will be removed in v6.0.0. See https://github.com/optuna/optuna/releases/tag/v3.0.0. Use suggest_float instead.\n",
      "  take_profit_close = trial.suggest_uniform('take_profit_close', 1, 2)\n",
      "C:\\Users\\elias\\AppData\\Local\\Temp\\ipykernel_19380\\3947602299.py:8: FutureWarning: suggest_uniform has been deprecated in v3.0.0. This feature will be removed in v6.0.0. See https://github.com/optuna/optuna/releases/tag/v3.0.0. Use suggest_float instead.\n",
      "  Umbral = trial.suggest_uniform('Umbral', 0, 20)\n",
      "[I 2024-02-25 19:11:15,468] Trial 0 finished with value: 636.4903862375004 and parameters: {'n_shares': 38, 'stop_loss_close': 0.8021935870381285, 'take_profit_close': 1.1321942557509954, 'Umbral': 0.14212947893051497}. Best is trial 0 with value: 636.4903862375004.\n",
      "[I 2024-02-25 19:11:15,495] Trial 1 finished with value: 207.1167715800002 and parameters: {'n_shares': 48, 'stop_loss_close': 0.9792851135138682, 'take_profit_close': 1.088344913499992, 'Umbral': 1.0827943924196126}. Best is trial 0 with value: 636.4903862375004.\n",
      "[I 2024-02-25 19:11:15,632] Trial 2 finished with value: -3318.133589117502 and parameters: {'n_shares': 47, 'stop_loss_close': 0.9569475863292465, 'take_profit_close': 1.783566579481704, 'Umbral': 13.103515740887932}. Best is trial 0 with value: 636.4903862375004.\n",
      "[I 2024-02-25 19:11:15,752] Trial 3 finished with value: -722.5461700800004 and parameters: {'n_shares': 16, 'stop_loss_close': 0.9604756879016799, 'take_profit_close': 1.4461840638130865, 'Umbral': 8.758863312412563}. Best is trial 0 with value: 636.4903862375004.\n",
      "[I 2024-02-25 19:11:15,866] Trial 4 finished with value: 7866.943448550008 and parameters: {'n_shares': 24, 'stop_loss_close': 0.9440405553726572, 'take_profit_close': 1.2005845253437109, 'Umbral': 13.64282535505698}. Best is trial 4 with value: 7866.943448550008.\n",
      "[I 2024-02-25 19:11:15,915] Trial 5 finished with value: -331.3161060550001 and parameters: {'n_shares': 44, 'stop_loss_close': 0.9475181823455262, 'take_profit_close': 1.3989378624301454, 'Umbral': 3.9882775188413144}. Best is trial 4 with value: 7866.943448550008.\n",
      "[I 2024-02-25 19:11:15,996] Trial 6 finished with value: 10903.1720339175 and parameters: {'n_shares': 41, 'stop_loss_close': 0.8792163087004357, 'take_profit_close': 1.1381495321855613, 'Umbral': 6.810717050892256}. Best is trial 6 with value: 10903.1720339175.\n",
      "[I 2024-02-25 19:11:16,245] Trial 7 finished with value: 0.0 and parameters: {'n_shares': 50, 'stop_loss_close': 0.846875052050153, 'take_profit_close': 1.863651166210106, 'Umbral': 19.833743356223277}. Best is trial 6 with value: 10903.1720339175.\n",
      "[I 2024-02-25 19:11:16,418] Trial 8 finished with value: 2936.0328067375012 and parameters: {'n_shares': 5, 'stop_loss_close': 0.8133111593175351, 'take_profit_close': 1.1529559256815003, 'Umbral': 18.145259264830504}. Best is trial 6 with value: 10903.1720339175.\n",
      "[I 2024-02-25 19:11:16,580] Trial 9 finished with value: 24948.830906763746 and parameters: {'n_shares': 49, 'stop_loss_close': 0.8344892926335012, 'take_profit_close': 1.1907615045505926, 'Umbral': 14.679772570421044}. Best is trial 9 with value: 24948.830906763746.\n",
      "[I 2024-02-25 19:11:16,765] Trial 10 finished with value: -389.7465233837497 and parameters: {'n_shares': 31, 'stop_loss_close': 0.8970158342117281, 'take_profit_close': 1.6325649882249635, 'Umbral': 15.116663435301257}. Best is trial 9 with value: 24948.830906763746.\n",
      "[I 2024-02-25 19:11:16,885] Trial 11 finished with value: 0.0 and parameters: {'n_shares': 36, 'stop_loss_close': 0.8696808555291148, 'take_profit_close': 1.30828514100394, 'Umbral': 7.983195014665872}. Best is trial 9 with value: 24948.830906763746.\n",
      "[I 2024-02-25 19:11:16,933] Trial 12 finished with value: 2584.430956100002 and parameters: {'n_shares': 40, 'stop_loss_close': 0.8417213905084409, 'take_profit_close': 1.0218339737086166, 'Umbral': 5.927906218544061}. Best is trial 9 with value: 24948.830906763746.\n",
      "[I 2024-02-25 19:11:17,090] Trial 13 finished with value: -663.3527262975003 and parameters: {'n_shares': 27, 'stop_loss_close': 0.8996246957678184, 'take_profit_close': 1.2941255390727366, 'Umbral': 11.322942325755022}. Best is trial 9 with value: 24948.830906763746.\n",
      "[I 2024-02-25 19:11:17,258] Trial 14 finished with value: 0.0 and parameters: {'n_shares': 32, 'stop_loss_close': 0.8674426040887993, 'take_profit_close': 1.6325830542599657, 'Umbral': 10.822890186447266}. Best is trial 9 with value: 24948.830906763746.\n",
      "[I 2024-02-25 19:11:17,485] Trial 15 finished with value: 0.0 and parameters: {'n_shares': 20, 'stop_loss_close': 0.83356361829234, 'take_profit_close': 1.3100282374600025, 'Umbral': 16.459545965988994}. Best is trial 9 with value: 24948.830906763746.\n",
      "[I 2024-02-25 19:11:17,531] Trial 16 finished with value: 2067.002817550001 and parameters: {'n_shares': 44, 'stop_loss_close': 0.9217403449660027, 'take_profit_close': 1.0169707036890114, 'Umbral': 5.58324556077729}. Best is trial 9 with value: 24948.830906763746.\n",
      "[I 2024-02-25 19:11:17,611] Trial 17 finished with value: 0.0 and parameters: {'n_shares': 12, 'stop_loss_close': 0.8745822676949049, 'take_profit_close': 1.5813966005429894, 'Umbral': 3.1791987824922794}. Best is trial 9 with value: 24948.830906763746.\n",
      "[I 2024-02-25 19:11:17,732] Trial 18 finished with value: 7405.534635712503 and parameters: {'n_shares': 42, 'stop_loss_close': 0.824351330637486, 'take_profit_close': 1.227076909340833, 'Umbral': 7.83814473244069}. Best is trial 9 with value: 24948.830906763746.\n",
      "[I 2024-02-25 19:11:17,934] Trial 19 finished with value: -1108.0649469149998 and parameters: {'n_shares': 34, 'stop_loss_close': 0.9182590934975898, 'take_profit_close': 1.3921106766626077, 'Umbral': 12.106927663590907}. Best is trial 9 with value: 24948.830906763746.\n"
     ]
    },
    {
     "name": "stdout",
     "output_type": "stream",
     "text": [
      "Mejores parámetros encontrados:\n",
      "{'n_shares': 49, 'stop_loss_close': 0.8344892926335012, 'take_profit_close': 1.1907615045505926, 'Umbral': 14.679772570421044}\n",
      "Rendimiento (Profit/Loss): 24948.830906763746\n"
     ]
    }
   ],
   "source": [
    "import optuna\n",
    "\n",
    "def objective(trial):\n",
    "    # Define los rangos de búsqueda para los parámetros\n",
    "    n_shares = trial.suggest_int('n_shares', 1, 50)\n",
    "    stop_loss_close = trial.suggest_uniform('stop_loss_close', 0.80, 1)\n",
    "    take_profit_close = trial.suggest_uniform('take_profit_close', 1, 2)\n",
    "    Umbral = trial.suggest_uniform('Umbral', 0, 20)\n",
    "\n",
    "    # Evalúa la función de trading con los parámetros sugeridos\n",
    "    profit_loss = def_trading_strategy(data, n_shares, stop_loss_close, take_profit_close, Umbral)\n",
    "    \n",
    "    return profit_loss  # Devuelve la métrica que se debe minimizar/maximizar\n",
    "\n",
    "# Crea un estudio Optuna\n",
    "study = optuna.create_study(direction='maximize')  # 'maximize' si se quiere maximizar la métrica\n",
    "\n",
    "# Ejecuta la optimización\n",
    "study.optimize(objective, n_trials=20)  # Puedes ajustar n_trials según tus recursos y tiempo disponible\n",
    "\n",
    "# Obtiene los mejores parámetros encontrados\n",
    "best_params = study.best_params\n",
    "best_profit_loss = study.best_value\n",
    "\n",
    "print(\"Mejores parámetros encontrados:\")\n",
    "print(best_params)\n",
    "print(\"Rendimiento (Profit/Loss):\", best_profit_loss)\n"
   ]
  },
  {
   "cell_type": "code",
   "execution_count": 11,
   "id": "dbe172ec",
   "metadata": {},
   "outputs": [],
   "source": [
    "# Condiciones para comprar y vender\n",
    "condicion_compra = data[\"SO\"] <= 20\n",
    "condicion_venta = data[\"SO\"] > 80\n",
    "\n",
    "# Aplicando las condiciones para obtener señales de compra y venta\n",
    "data['Senal_SO'] = ''\n",
    "data.loc[condicion_compra, 'Senal_SO'] = 'Compra'\n",
    "data.loc[condicion_venta, 'Senal_SO'] = 'Venta'\n",
    "data.to_excel('SO_BOS.xlsx', index=False)"
   ]
  },
  {
   "cell_type": "code",
   "execution_count": 12,
   "id": "e4cf1a29",
   "metadata": {},
   "outputs": [
    {
     "data": {
      "text/plain": [
       "Senal_SO\n",
       "          187\n",
       "Venta      78\n",
       "Compra     63\n",
       "Name: count, dtype: int64"
      ]
     },
     "execution_count": 12,
     "metadata": {},
     "output_type": "execute_result"
    }
   ],
   "source": [
    "data['Senal_SO'].value_counts()"
   ]
  },
  {
   "cell_type": "code",
   "execution_count": null,
   "id": "9c171743",
   "metadata": {},
   "outputs": [],
   "source": []
  },
  {
   "cell_type": "code",
   "execution_count": null,
   "id": "342dbd7f",
   "metadata": {},
   "outputs": [],
   "source": []
  }
 ],
 "metadata": {
  "kernelspec": {
   "display_name": "Python 3 (ipykernel)",
   "language": "python",
   "name": "python3"
  },
  "language_info": {
   "codemirror_mode": {
    "name": "ipython",
    "version": 3
   },
   "file_extension": ".py",
   "mimetype": "text/x-python",
   "name": "python",
   "nbconvert_exporter": "python",
   "pygments_lexer": "ipython3",
   "version": "3.11.4"
  }
 },
 "nbformat": 4,
 "nbformat_minor": 5
}
