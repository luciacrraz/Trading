{
 "cells": [
  {
   "cell_type": "code",
   "execution_count": 8,
   "id": "45c74508",
   "metadata": {
    "ExecuteTime": {
     "end_time": "2024-02-26T04:59:21.946158500Z",
     "start_time": "2024-02-26T04:59:21.779902400Z"
    }
   },
   "outputs": [],
   "source": [
    "import pandas as pd\n",
    "import numpy as np\n",
    "import matplotlib.pyplot as plt\n",
    "import ta"
   ]
  },
  {
   "cell_type": "code",
   "execution_count": 9,
   "id": "efb24854",
   "metadata": {
    "ExecuteTime": {
     "end_time": "2024-02-26T04:59:21.990817600Z",
     "start_time": "2024-02-26T04:59:21.792154500Z"
    }
   },
   "outputs": [],
   "source": [
    "data = pd.read_csv(\"../../../data/aapl_1h_train.csv\")\n",
    "tsi_data = ta.momentum.TSIIndicator(data.Close, window_slow = 25, window_fast = 13)\n",
    "data[\"TSI\"] = tsi_data.tsi()\n",
    "data = data.dropna()"
   ]
  },
  {
   "cell_type": "code",
   "execution_count": 10,
   "id": "7416ec61",
   "metadata": {
    "ExecuteTime": {
     "end_time": "2024-02-26T04:59:22.091998Z",
     "start_time": "2024-02-26T04:59:21.809186500Z"
    }
   },
   "outputs": [
    {
     "data": {
      "text/plain": "      Timestamp  Gmtoffset             Datetime        Open        High  \\\n37   1603121400          0  2020-10-19 15:30:00  119.110000  119.510002   \n38   1603125000          0  2020-10-19 16:30:00  118.800003  119.139999   \n39   1603128600          0  2020-10-19 17:30:00  118.699996  118.750000   \n40   1603132200          0  2020-10-19 18:30:00  117.690002  117.830001   \n41   1603135800          0  2020-10-19 19:30:00  116.349998  116.900001   \n..          ...        ...                  ...         ...         ...   \n390  1609432200          0  2020-12-31 16:30:00  132.529998  132.800003   \n391  1609435800          0  2020-12-31 17:30:00  132.619995  132.717605   \n392  1609439400          0  2020-12-31 18:30:00  132.565002  132.889999   \n393  1609443000          0  2020-12-31 19:30:00  132.770004  133.179992   \n394  1609446600          0  2020-12-31 20:30:00  132.794998  133.330001   \n\n            Low       Close      Volume       TSI  \n37   118.400398  118.815002  11743873.0  8.185917  \n38   118.584999  118.699996   8185217.0  6.227720  \n39   117.529998  117.830497  13320284.0  2.988857  \n40   116.160003  116.363700  20231178.0 -2.263912  \n41   115.660003  116.000000  15044773.0 -7.058797  \n..          ...         ...         ...       ...  \n390  131.720001  132.619995  13538948.0 -1.705551  \n391  132.310104  132.560806   7474176.0 -4.240807  \n392  132.009994  132.764999   9408857.0 -5.929122  \n393  132.565994  132.800003  10147999.0 -7.278637  \n394  132.449996  132.580001  11777361.0 -8.886927  \n\n[343 rows x 9 columns]",
      "text/html": "<div>\n<style scoped>\n    .dataframe tbody tr th:only-of-type {\n        vertical-align: middle;\n    }\n\n    .dataframe tbody tr th {\n        vertical-align: top;\n    }\n\n    .dataframe thead th {\n        text-align: right;\n    }\n</style>\n<table border=\"1\" class=\"dataframe\">\n  <thead>\n    <tr style=\"text-align: right;\">\n      <th></th>\n      <th>Timestamp</th>\n      <th>Gmtoffset</th>\n      <th>Datetime</th>\n      <th>Open</th>\n      <th>High</th>\n      <th>Low</th>\n      <th>Close</th>\n      <th>Volume</th>\n      <th>TSI</th>\n    </tr>\n  </thead>\n  <tbody>\n    <tr>\n      <th>37</th>\n      <td>1603121400</td>\n      <td>0</td>\n      <td>2020-10-19 15:30:00</td>\n      <td>119.110000</td>\n      <td>119.510002</td>\n      <td>118.400398</td>\n      <td>118.815002</td>\n      <td>11743873.0</td>\n      <td>8.185917</td>\n    </tr>\n    <tr>\n      <th>38</th>\n      <td>1603125000</td>\n      <td>0</td>\n      <td>2020-10-19 16:30:00</td>\n      <td>118.800003</td>\n      <td>119.139999</td>\n      <td>118.584999</td>\n      <td>118.699996</td>\n      <td>8185217.0</td>\n      <td>6.227720</td>\n    </tr>\n    <tr>\n      <th>39</th>\n      <td>1603128600</td>\n      <td>0</td>\n      <td>2020-10-19 17:30:00</td>\n      <td>118.699996</td>\n      <td>118.750000</td>\n      <td>117.529998</td>\n      <td>117.830497</td>\n      <td>13320284.0</td>\n      <td>2.988857</td>\n    </tr>\n    <tr>\n      <th>40</th>\n      <td>1603132200</td>\n      <td>0</td>\n      <td>2020-10-19 18:30:00</td>\n      <td>117.690002</td>\n      <td>117.830001</td>\n      <td>116.160003</td>\n      <td>116.363700</td>\n      <td>20231178.0</td>\n      <td>-2.263912</td>\n    </tr>\n    <tr>\n      <th>41</th>\n      <td>1603135800</td>\n      <td>0</td>\n      <td>2020-10-19 19:30:00</td>\n      <td>116.349998</td>\n      <td>116.900001</td>\n      <td>115.660003</td>\n      <td>116.000000</td>\n      <td>15044773.0</td>\n      <td>-7.058797</td>\n    </tr>\n    <tr>\n      <th>...</th>\n      <td>...</td>\n      <td>...</td>\n      <td>...</td>\n      <td>...</td>\n      <td>...</td>\n      <td>...</td>\n      <td>...</td>\n      <td>...</td>\n      <td>...</td>\n    </tr>\n    <tr>\n      <th>390</th>\n      <td>1609432200</td>\n      <td>0</td>\n      <td>2020-12-31 16:30:00</td>\n      <td>132.529998</td>\n      <td>132.800003</td>\n      <td>131.720001</td>\n      <td>132.619995</td>\n      <td>13538948.0</td>\n      <td>-1.705551</td>\n    </tr>\n    <tr>\n      <th>391</th>\n      <td>1609435800</td>\n      <td>0</td>\n      <td>2020-12-31 17:30:00</td>\n      <td>132.619995</td>\n      <td>132.717605</td>\n      <td>132.310104</td>\n      <td>132.560806</td>\n      <td>7474176.0</td>\n      <td>-4.240807</td>\n    </tr>\n    <tr>\n      <th>392</th>\n      <td>1609439400</td>\n      <td>0</td>\n      <td>2020-12-31 18:30:00</td>\n      <td>132.565002</td>\n      <td>132.889999</td>\n      <td>132.009994</td>\n      <td>132.764999</td>\n      <td>9408857.0</td>\n      <td>-5.929122</td>\n    </tr>\n    <tr>\n      <th>393</th>\n      <td>1609443000</td>\n      <td>0</td>\n      <td>2020-12-31 19:30:00</td>\n      <td>132.770004</td>\n      <td>133.179992</td>\n      <td>132.565994</td>\n      <td>132.800003</td>\n      <td>10147999.0</td>\n      <td>-7.278637</td>\n    </tr>\n    <tr>\n      <th>394</th>\n      <td>1609446600</td>\n      <td>0</td>\n      <td>2020-12-31 20:30:00</td>\n      <td>132.794998</td>\n      <td>133.330001</td>\n      <td>132.449996</td>\n      <td>132.580001</td>\n      <td>11777361.0</td>\n      <td>-8.886927</td>\n    </tr>\n  </tbody>\n</table>\n<p>343 rows × 9 columns</p>\n</div>"
     },
     "execution_count": 10,
     "metadata": {},
     "output_type": "execute_result"
    }
   ],
   "source": [
    "data"
   ]
  },
  {
   "cell_type": "code",
   "execution_count": 11,
   "id": "6cd4e7fe",
   "metadata": {
    "ExecuteTime": {
     "end_time": "2024-02-26T04:59:22.136191400Z",
     "start_time": "2024-02-26T04:59:21.850664900Z"
    }
   },
   "outputs": [],
   "source": [
    "def def_trading_strategy(data, n_shares, stop_loss_close, take_profit_close, Umbral):\n",
    "    cash= 1_000_000\n",
    "    com = 0.125/100\n",
    "    history = []\n",
    "    portfolio_value = []\n",
    "    active_operations = []\n",
    "    total_profit_loss = 0\n",
    "\n",
    "    for i, row in data.iterrows():\n",
    "        # Close active operation\n",
    "        active_op_temp = []\n",
    "        for operation in active_operations:\n",
    "            if operation[\"stop_loss\"] > row.Close:\n",
    "                cash += (row.Close * operation[\"n_shares\"]) * (1 - com)\n",
    "                # Calcular la ganancia o pérdida y actualizar el total\n",
    "                profit_loss = (row.Close * operation[\"n_shares\"]) * (1 - com) - (operation[\"bought\"] * operation[\"n_shares\"])\n",
    "                total_profit_loss += profit_loss\n",
    "                history.append({\"timestamp\": row.Timestamp, \"profit_loss\": profit_loss})\n",
    "            elif operation[\"take_profit\"] < row.Close:\n",
    "                cash += (row.Close * operation[\"n_shares\"]) * (1 - com)\n",
    "                # Calcular la ganancia o pérdida y actualizar el total\n",
    "                profit_loss = (row.Close * operation[\"n_shares\"]) * (1 - com) - (operation[\"bought\"] * operation[\"n_shares\"])\n",
    "                total_profit_loss += profit_loss\n",
    "                history.append({\"timestamp\": row.Timestamp, \"profit_loss\": profit_loss})\n",
    "            else:\n",
    "                active_op_temp.append(operation)\n",
    "        active_operations = active_op_temp\n",
    "            \n",
    "        # ¿Tenemos suficiente efectivo?\n",
    "        if cash < (row.Close * n_shares * (1 + com)):\n",
    "            asset_vals = sum([operation[\"n_shares\"] * row.Close for operation in active_operations])\n",
    "            portfolio_value.append(cash + asset_vals)\n",
    "            continue\n",
    "        \n",
    "        # Analizar la señal larga\n",
    "        if row.TSI <= Umbral:  # If ceil(Op)\n",
    "            active_operations.append({\n",
    "                \"timestamp\": row.Timestamp,\n",
    "                \"bought\": row.Close,\n",
    "                \"n_shares\": n_shares,\n",
    "                \"type\": \"long\",\n",
    "                \"stop_loss\": row.Close * stop_loss_close,\n",
    "                \"take_profit\": row.Close * take_profit_close\n",
    "            })\n",
    "            cash -= row.Close * n_shares * (1 + com)\n",
    "        \n",
    "        asset_vals = sum([operation[\"n_shares\"] * row.Close for operation in active_operations])\n",
    "        portfolio_value.append(cash + asset_vals)\n",
    "    \n",
    "    return total_profit_loss"
   ]
  },
  {
   "cell_type": "code",
   "execution_count": 12,
   "id": "1b913ae5",
   "metadata": {
    "ExecuteTime": {
     "end_time": "2024-02-26T04:59:33.691928800Z",
     "start_time": "2024-02-26T04:59:21.864171900Z"
    }
   },
   "outputs": [
    {
     "name": "stderr",
     "output_type": "stream",
     "text": [
      "[I 2024-02-25 22:59:21,862] A new study created in memory with name: no-name-2b5451ff-94cd-403c-9a7d-b7b833be4e15\n",
      "C:\\Users\\carlo\\AppData\\Local\\Temp\\ipykernel_29108\\260268852.py:6: FutureWarning: suggest_uniform has been deprecated in v3.0.0. This feature will be removed in v6.0.0. See https://github.com/optuna/optuna/releases/tag/v3.0.0. Use suggest_float instead.\n",
      "  stop_loss_close = trial.suggest_uniform('stop_loss_close', 0.80, 1)\n",
      "C:\\Users\\carlo\\AppData\\Local\\Temp\\ipykernel_29108\\260268852.py:7: FutureWarning: suggest_uniform has been deprecated in v3.0.0. This feature will be removed in v6.0.0. See https://github.com/optuna/optuna/releases/tag/v3.0.0. Use suggest_float instead.\n",
      "  take_profit_close = trial.suggest_uniform('take_profit_close', 1, 2)\n",
      "C:\\Users\\carlo\\AppData\\Local\\Temp\\ipykernel_29108\\260268852.py:8: FutureWarning: suggest_uniform has been deprecated in v3.0.0. This feature will be removed in v6.0.0. See https://github.com/optuna/optuna/releases/tag/v3.0.0. Use suggest_float instead.\n",
      "  Umbral = trial.suggest_uniform('Umbral', -40, 10)\n",
      "[I 2024-02-25 22:59:22,304] Trial 0 finished with value: -7028.00128278749 and parameters: {'n_shares': 30, 'stop_loss_close': 0.993431453229827, 'take_profit_close': 1.9770903205765678, 'Umbral': 8.159878910125833}. Best is trial 0 with value: -7028.00128278749.\n",
      "[I 2024-02-25 22:59:22,391] Trial 1 finished with value: 0.0 and parameters: {'n_shares': 40, 'stop_loss_close': 0.9510252754392116, 'take_profit_close': 1.2494524664220892, 'Umbral': -38.67779982285004}. Best is trial 1 with value: 0.0.\n",
      "[I 2024-02-25 22:59:22,481] Trial 2 finished with value: 8324.874857625 and parameters: {'n_shares': 50, 'stop_loss_close': 0.9724094119101261, 'take_profit_close': 1.0746280777240953, 'Umbral': -23.999983282479633}. Best is trial 2 with value: 8324.874857625.\n",
      "[I 2024-02-25 22:59:22,556] Trial 3 finished with value: 2418.4898024624986 and parameters: {'n_shares': 27, 'stop_loss_close': 0.9722301499331218, 'take_profit_close': 1.1121744535211173, 'Umbral': -36.83992295993399}. Best is trial 2 with value: 8324.874857625.\n",
      "[I 2024-02-25 22:59:22,650] Trial 4 finished with value: 0.0 and parameters: {'n_shares': 48, 'stop_loss_close': 0.8033620147977676, 'take_profit_close': 1.2713779752534706, 'Umbral': -38.00966993912652}. Best is trial 2 with value: 8324.874857625.\n",
      "[I 2024-02-25 22:59:23,436] Trial 5 finished with value: 0.0 and parameters: {'n_shares': 31, 'stop_loss_close': 0.8366280898125092, 'take_profit_close': 1.4413404800007117, 'Umbral': -15.617072896213728}. Best is trial 2 with value: 8324.874857625.\n",
      "[I 2024-02-25 22:59:24,017] Trial 6 finished with value: -14559.971144171232 and parameters: {'n_shares': 47, 'stop_loss_close': 0.9872363321160162, 'take_profit_close': 1.7939867770516504, 'Umbral': 6.691020239249596}. Best is trial 2 with value: 8324.874857625.\n",
      "[I 2024-02-25 22:59:24,680] Trial 7 finished with value: -1931.9686153949979 and parameters: {'n_shares': 42, 'stop_loss_close': 0.936404602898553, 'take_profit_close': 1.4769955083798965, 'Umbral': -15.541705316827802}. Best is trial 2 with value: 8324.874857625.\n",
      "[I 2024-02-25 22:59:24,794] Trial 8 finished with value: 0.0 and parameters: {'n_shares': 20, 'stop_loss_close': 0.8266842158424434, 'take_profit_close': 1.998396563555169, 'Umbral': -35.87390045089226}. Best is trial 2 with value: 8324.874857625.\n",
      "[I 2024-02-25 22:59:25,888] Trial 9 finished with value: 0.0 and parameters: {'n_shares': 38, 'stop_loss_close': 0.853046752221692, 'take_profit_close': 1.7236751132880437, 'Umbral': -11.136654083828493}. Best is trial 2 with value: 8324.874857625.\n",
      "[I 2024-02-25 22:59:25,994] Trial 10 finished with value: 471.91028714375045 and parameters: {'n_shares': 5, 'stop_loss_close': 0.9008499664870163, 'take_profit_close': 1.0265188055565082, 'Umbral': -26.201703519698796}. Best is trial 2 with value: 8324.874857625.\n",
      "[I 2024-02-25 22:59:26,093] Trial 11 finished with value: 294.37038802000075 and parameters: {'n_shares': 16, 'stop_loss_close': 0.9516274265306578, 'take_profit_close': 1.0011327489266482, 'Umbral': -26.45836709809054}. Best is trial 2 with value: 8324.874857625.\n",
      "[I 2024-02-25 22:59:26,344] Trial 12 finished with value: 1038.335317092501 and parameters: {'n_shares': 7, 'stop_loss_close': 0.9131306233305685, 'take_profit_close': 1.2163301613174102, 'Umbral': -27.318306601997214}. Best is trial 2 with value: 8324.874857625.\n",
      "[I 2024-02-25 22:59:26,491] Trial 13 finished with value: 3484.5742392562515 and parameters: {'n_shares': 23, 'stop_loss_close': 0.9700567625788012, 'take_profit_close': 1.1124627771607107, 'Umbral': -29.468050655794613}. Best is trial 2 with value: 8324.874857625.\n",
      "[I 2024-02-25 22:59:27,877] Trial 14 finished with value: -1764.1761857074998 and parameters: {'n_shares': 17, 'stop_loss_close': 0.922234528799617, 'take_profit_close': 1.3505770656414084, 'Umbral': -7.512718319204161}. Best is trial 2 with value: 8324.874857625.\n",
      "[I 2024-02-25 22:59:28,319] Trial 15 finished with value: 9591.788579895016 and parameters: {'n_shares': 12, 'stop_loss_close': 0.8816315452859925, 'take_profit_close': 1.141866910820377, 'Umbral': -21.799286310647144}. Best is trial 15 with value: 9591.788579895016.\n",
      "[I 2024-02-25 22:59:28,837] Trial 16 finished with value: 0.0 and parameters: {'n_shares': 13, 'stop_loss_close': 0.8772444451975989, 'take_profit_close': 1.6203804545587275, 'Umbral': -22.159295345043265}. Best is trial 15 with value: 9591.788579895016.\n",
      "[I 2024-02-25 22:59:30,306] Trial 17 finished with value: 23259.318356325013 and parameters: {'n_shares': 10, 'stop_loss_close': 0.8791099117690606, 'take_profit_close': 1.1535552563836566, 'Umbral': 0.5043550157272385}. Best is trial 17 with value: 23259.318356325013.\n",
      "[I 2024-02-25 22:59:32,120] Trial 18 finished with value: 0.0 and parameters: {'n_shares': 1, 'stop_loss_close': 0.8708244912685217, 'take_profit_close': 1.3631924805750266, 'Umbral': 0.36745220833480285}. Best is trial 17 with value: 23259.318356325013.\n",
      "[I 2024-02-25 22:59:33,593] Trial 19 finished with value: 15274.501013125006 and parameters: {'n_shares': 10, 'stop_loss_close': 0.8783885841009051, 'take_profit_close': 1.183422715401048, 'Umbral': -2.935854288190522}. Best is trial 17 with value: 23259.318356325013.\n"
     ]
    },
    {
     "name": "stdout",
     "output_type": "stream",
     "text": [
      "Mejores parámetros encontrados:\n",
      "{'n_shares': 10, 'stop_loss_close': 0.8791099117690606, 'take_profit_close': 1.1535552563836566, 'Umbral': 0.5043550157272385}\n",
      "Rendimiento (Profit/Loss): 23259.318356325013\n"
     ]
    }
   ],
   "source": [
    "import optuna\n",
    "\n",
    "def objective(trial):\n",
    "    # Define los rangos de búsqueda para los parámetros\n",
    "    n_shares = trial.suggest_int('n_shares', 1, 50)\n",
    "    stop_loss_close = trial.suggest_uniform('stop_loss_close', 0.80, 1)\n",
    "    take_profit_close = trial.suggest_uniform('take_profit_close', 1, 2)\n",
    "    Umbral = trial.suggest_uniform('Umbral', -40, 10)\n",
    "\n",
    "    # Evalúa la función de trading con los parámetros sugeridos\n",
    "    profit_loss = def_trading_strategy(data, n_shares, stop_loss_close, take_profit_close, Umbral)\n",
    "    \n",
    "    return profit_loss  # Devuelve la métrica que se debe minimizar/maximizar\n",
    "\n",
    "# Crea un estudio Optuna\n",
    "study = optuna.create_study(direction='maximize')  # 'maximize' si se quiere maximizar la métrica\n",
    "\n",
    "# Ejecuta la optimización\n",
    "study.optimize(objective, n_trials=20)  # Puedes ajustar n_trials según tus recursos y tiempo disponible\n",
    "\n",
    "# Obtiene los mejores parámetros encontrados\n",
    "best_params = study.best_params\n",
    "best_profit_loss = study.best_value\n",
    "\n",
    "print(\"Mejores parámetros encontrados:\")\n",
    "print(best_params)\n",
    "print(\"Rendimiento (Profit/Loss):\", best_profit_loss)\n"
   ]
  },
  {
   "cell_type": "code",
   "execution_count": 13,
   "id": "dbe172ec",
   "metadata": {
    "ExecuteTime": {
     "end_time": "2024-02-26T04:59:33.830141200Z",
     "start_time": "2024-02-26T04:59:33.612170600Z"
    }
   },
   "outputs": [],
   "source": [
    "# Condiciones para comprar y vender\n",
    "condicion_compra = data[\"TSI\"] <= -32\n",
    "condicion_venta = data[\"TSI\"] > 30\n",
    "\n",
    "# Aplicando las condiciones para obtener señales de compra y venta\n",
    "data['Senal_TSI'] = ''\n",
    "data.loc[condicion_compra, 'Senal_TSI'] = 'Compra'\n",
    "data.loc[condicion_venta, 'Senal_TSI'] = 'Venta'\n",
    "data.to_excel('../../../data/1h/TSI_BOS.xlsx', index=False)"
   ]
  },
  {
   "cell_type": "code",
   "execution_count": 14,
   "id": "84029993",
   "metadata": {
    "ExecuteTime": {
     "end_time": "2024-02-26T04:59:33.927500300Z",
     "start_time": "2024-02-26T04:59:33.795201Z"
    }
   },
   "outputs": [
    {
     "data": {
      "text/plain": "Senal_TSI\n          287\nVenta      45\nCompra     11\nName: count, dtype: int64"
     },
     "execution_count": 14,
     "metadata": {},
     "output_type": "execute_result"
    }
   ],
   "source": [
    "data['Senal_TSI'].value_counts()"
   ]
  },
  {
   "cell_type": "code",
   "execution_count": 14,
   "id": "2c21c10f",
   "metadata": {
    "ExecuteTime": {
     "end_time": "2024-02-26T04:59:33.968789700Z",
     "start_time": "2024-02-26T04:59:33.808635Z"
    }
   },
   "outputs": [],
   "source": []
  }
 ],
 "metadata": {
  "kernelspec": {
   "display_name": "Python 3 (ipykernel)",
   "language": "python",
   "name": "python3"
  },
  "language_info": {
   "codemirror_mode": {
    "name": "ipython",
    "version": 3
   },
   "file_extension": ".py",
   "mimetype": "text/x-python",
   "name": "python",
   "nbconvert_exporter": "python",
   "pygments_lexer": "ipython3",
   "version": "3.11.4"
  }
 },
 "nbformat": 4,
 "nbformat_minor": 5
}
