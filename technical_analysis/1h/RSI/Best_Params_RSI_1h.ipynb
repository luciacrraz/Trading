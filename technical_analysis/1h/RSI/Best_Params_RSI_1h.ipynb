{
 "cells": [
  {
   "cell_type": "code",
   "execution_count": 1,
   "id": "45c74508",
   "metadata": {
    "ExecuteTime": {
     "end_time": "2024-02-26T04:59:07.901971800Z",
     "start_time": "2024-02-26T04:59:05.534356800Z"
    }
   },
   "outputs": [],
   "source": [
    "import pandas as pd\n",
    "import numpy as np\n",
    "import matplotlib.pyplot as plt\n",
    "import ta"
   ]
  },
  {
   "cell_type": "code",
   "execution_count": 2,
   "id": "efb24854",
   "metadata": {
    "ExecuteTime": {
     "end_time": "2024-02-26T04:59:08.084703200Z",
     "start_time": "2024-02-26T04:59:07.760892600Z"
    }
   },
   "outputs": [
    {
     "data": {
      "text/plain": "      Timestamp  Gmtoffset             Datetime        Open        High  \\\n13   1602617400          0  2020-10-13 19:30:00  121.800003  122.050003   \n14   1602682200          0  2020-10-14 13:30:00  121.000000  123.019996   \n15   1602685800          0  2020-10-14 14:30:00  121.690002  122.389999   \n16   1602689400          0  2020-10-14 15:30:00  121.610000  121.730003   \n17   1602693000          0  2020-10-14 16:30:00  120.250000  120.769897   \n..          ...        ...                  ...         ...         ...   \n390  1609432200          0  2020-12-31 16:30:00  132.529998  132.800003   \n391  1609435800          0  2020-12-31 17:30:00  132.619995  132.717605   \n392  1609439400          0  2020-12-31 18:30:00  132.565002  132.889999   \n393  1609443000          0  2020-12-31 19:30:00  132.770004  133.179992   \n394  1609446600          0  2020-12-31 20:30:00  132.794998  133.330001   \n\n            Low       Close      Volume        RSI  \n13   121.029998  121.050003  16221506.0  42.205490  \n14   120.040000  121.689903  41414544.0  46.975990  \n15   121.180000  121.599998  17702126.0  46.396536  \n16   119.709999  120.247703  22141570.0  38.669926  \n17   120.000000  120.139999  15375733.0  38.125346  \n..          ...         ...         ...        ...  \n390  131.720001  132.619995  13538948.0  40.278164  \n391  132.310104  132.560806   7474176.0  39.901949  \n392  132.009994  132.764999   9408857.0  41.917511  \n393  132.565994  132.800003  10147999.0  42.274917  \n394  132.449996  132.580001  11777361.0  40.584587  \n\n[367 rows x 9 columns]",
      "text/html": "<div>\n<style scoped>\n    .dataframe tbody tr th:only-of-type {\n        vertical-align: middle;\n    }\n\n    .dataframe tbody tr th {\n        vertical-align: top;\n    }\n\n    .dataframe thead th {\n        text-align: right;\n    }\n</style>\n<table border=\"1\" class=\"dataframe\">\n  <thead>\n    <tr style=\"text-align: right;\">\n      <th></th>\n      <th>Timestamp</th>\n      <th>Gmtoffset</th>\n      <th>Datetime</th>\n      <th>Open</th>\n      <th>High</th>\n      <th>Low</th>\n      <th>Close</th>\n      <th>Volume</th>\n      <th>RSI</th>\n    </tr>\n  </thead>\n  <tbody>\n    <tr>\n      <th>13</th>\n      <td>1602617400</td>\n      <td>0</td>\n      <td>2020-10-13 19:30:00</td>\n      <td>121.800003</td>\n      <td>122.050003</td>\n      <td>121.029998</td>\n      <td>121.050003</td>\n      <td>16221506.0</td>\n      <td>42.205490</td>\n    </tr>\n    <tr>\n      <th>14</th>\n      <td>1602682200</td>\n      <td>0</td>\n      <td>2020-10-14 13:30:00</td>\n      <td>121.000000</td>\n      <td>123.019996</td>\n      <td>120.040000</td>\n      <td>121.689903</td>\n      <td>41414544.0</td>\n      <td>46.975990</td>\n    </tr>\n    <tr>\n      <th>15</th>\n      <td>1602685800</td>\n      <td>0</td>\n      <td>2020-10-14 14:30:00</td>\n      <td>121.690002</td>\n      <td>122.389999</td>\n      <td>121.180000</td>\n      <td>121.599998</td>\n      <td>17702126.0</td>\n      <td>46.396536</td>\n    </tr>\n    <tr>\n      <th>16</th>\n      <td>1602689400</td>\n      <td>0</td>\n      <td>2020-10-14 15:30:00</td>\n      <td>121.610000</td>\n      <td>121.730003</td>\n      <td>119.709999</td>\n      <td>120.247703</td>\n      <td>22141570.0</td>\n      <td>38.669926</td>\n    </tr>\n    <tr>\n      <th>17</th>\n      <td>1602693000</td>\n      <td>0</td>\n      <td>2020-10-14 16:30:00</td>\n      <td>120.250000</td>\n      <td>120.769897</td>\n      <td>120.000000</td>\n      <td>120.139999</td>\n      <td>15375733.0</td>\n      <td>38.125346</td>\n    </tr>\n    <tr>\n      <th>...</th>\n      <td>...</td>\n      <td>...</td>\n      <td>...</td>\n      <td>...</td>\n      <td>...</td>\n      <td>...</td>\n      <td>...</td>\n      <td>...</td>\n      <td>...</td>\n    </tr>\n    <tr>\n      <th>390</th>\n      <td>1609432200</td>\n      <td>0</td>\n      <td>2020-12-31 16:30:00</td>\n      <td>132.529998</td>\n      <td>132.800003</td>\n      <td>131.720001</td>\n      <td>132.619995</td>\n      <td>13538948.0</td>\n      <td>40.278164</td>\n    </tr>\n    <tr>\n      <th>391</th>\n      <td>1609435800</td>\n      <td>0</td>\n      <td>2020-12-31 17:30:00</td>\n      <td>132.619995</td>\n      <td>132.717605</td>\n      <td>132.310104</td>\n      <td>132.560806</td>\n      <td>7474176.0</td>\n      <td>39.901949</td>\n    </tr>\n    <tr>\n      <th>392</th>\n      <td>1609439400</td>\n      <td>0</td>\n      <td>2020-12-31 18:30:00</td>\n      <td>132.565002</td>\n      <td>132.889999</td>\n      <td>132.009994</td>\n      <td>132.764999</td>\n      <td>9408857.0</td>\n      <td>41.917511</td>\n    </tr>\n    <tr>\n      <th>393</th>\n      <td>1609443000</td>\n      <td>0</td>\n      <td>2020-12-31 19:30:00</td>\n      <td>132.770004</td>\n      <td>133.179992</td>\n      <td>132.565994</td>\n      <td>132.800003</td>\n      <td>10147999.0</td>\n      <td>42.274917</td>\n    </tr>\n    <tr>\n      <th>394</th>\n      <td>1609446600</td>\n      <td>0</td>\n      <td>2020-12-31 20:30:00</td>\n      <td>132.794998</td>\n      <td>133.330001</td>\n      <td>132.449996</td>\n      <td>132.580001</td>\n      <td>11777361.0</td>\n      <td>40.584587</td>\n    </tr>\n  </tbody>\n</table>\n<p>367 rows × 9 columns</p>\n</div>"
     },
     "execution_count": 2,
     "metadata": {},
     "output_type": "execute_result"
    }
   ],
   "source": [
    "data = pd.read_csv(\"../../../data/aapl_1h_train.csv\")\n",
    "rsi_data = ta.momentum.RSIIndicator(data.Close, window=14)\n",
    "data[\"RSI\"] = rsi_data.rsi()\n",
    "data = data.dropna()\n",
    "data"
   ]
  },
  {
   "cell_type": "code",
   "execution_count": 3,
   "id": "4bb82016",
   "metadata": {
    "ExecuteTime": {
     "end_time": "2024-02-26T04:59:08.136365200Z",
     "start_time": "2024-02-26T04:59:07.826358700Z"
    }
   },
   "outputs": [],
   "source": [
    "def def_trading_strategy(data, n_shares, stop_loss_close, take_profit_close, Umbral):\n",
    "    cash= 1_000_000\n",
    "    com = 0.125/100\n",
    "    history = []\n",
    "    portfolio_value = []\n",
    "    active_operations = []\n",
    "    total_profit_loss = 0\n",
    "\n",
    "    for i, row in data.iterrows():\n",
    "        # Close active operation\n",
    "        active_op_temp = []\n",
    "        for operation in active_operations:\n",
    "            if operation[\"stop_loss\"] > row.Close:\n",
    "                cash += (row.Close * operation[\"n_shares\"]) * (1 - com)\n",
    "                # Calcular la ganancia o pérdida y actualizar el total\n",
    "                profit_loss = (row.Close * operation[\"n_shares\"]) * (1 - com) - (operation[\"bought\"] * operation[\"n_shares\"])\n",
    "                total_profit_loss += profit_loss\n",
    "                history.append({\"timestamp\": row.Timestamp, \"profit_loss\": profit_loss})\n",
    "            elif operation[\"take_profit\"] < row.Close:\n",
    "                cash += (row.Close * operation[\"n_shares\"]) * (1 - com)\n",
    "                # Calcular la ganancia o pérdida y actualizar el total\n",
    "                profit_loss = (row.Close * operation[\"n_shares\"]) * (1 - com) - (operation[\"bought\"] * operation[\"n_shares\"])\n",
    "                total_profit_loss += profit_loss\n",
    "                history.append({\"timestamp\": row.Timestamp, \"profit_loss\": profit_loss})\n",
    "            else:\n",
    "                active_op_temp.append(operation)\n",
    "        active_operations = active_op_temp\n",
    "            \n",
    "        # ¿Tenemos suficiente efectivo?\n",
    "        if cash < (row.Close * n_shares * (1 + com)):\n",
    "            asset_vals = sum([operation[\"n_shares\"] * row.Close for operation in active_operations])\n",
    "            portfolio_value.append(cash + asset_vals)\n",
    "            continue\n",
    "        \n",
    "        # Analizar la señal larga\n",
    "        if row.RSI <= Umbral:  # If ceil(Op)\n",
    "            active_operations.append({\n",
    "                \"timestamp\": row.Timestamp,\n",
    "                \"bought\": row.Close,\n",
    "                \"n_shares\": n_shares,\n",
    "                \"type\": \"long\",\n",
    "                \"stop_loss\": row.Close * stop_loss_close,\n",
    "                \"take_profit\": row.Close * take_profit_close\n",
    "            })\n",
    "            cash -= row.Close * n_shares * (1 + com)\n",
    "        \n",
    "        asset_vals = sum([operation[\"n_shares\"] * row.Close for operation in active_operations])\n",
    "        portfolio_value.append(cash + asset_vals)\n",
    "    \n",
    "    return total_profit_loss\n"
   ]
  },
  {
   "cell_type": "code",
   "execution_count": 4,
   "id": "416d31f6",
   "metadata": {
    "ExecuteTime": {
     "end_time": "2024-02-26T04:59:11.654966700Z",
     "start_time": "2024-02-26T04:59:07.847967900Z"
    }
   },
   "outputs": [
    {
     "name": "stderr",
     "output_type": "stream",
     "text": [
      "[I 2024-02-25 22:59:08,795] A new study created in memory with name: no-name-71bbf15d-b0fd-4373-9b0d-a3639cc865ae\n",
      "C:\\Users\\carlo\\AppData\\Local\\Temp\\ipykernel_31332\\4272933360.py:6: FutureWarning: suggest_uniform has been deprecated in v3.0.0. This feature will be removed in v6.0.0. See https://github.com/optuna/optuna/releases/tag/v3.0.0. Use suggest_float instead.\n",
      "  stop_loss_close = trial.suggest_uniform('stop_loss_close', 0.80, 1)\n",
      "C:\\Users\\carlo\\AppData\\Local\\Temp\\ipykernel_31332\\4272933360.py:7: FutureWarning: suggest_uniform has been deprecated in v3.0.0. This feature will be removed in v6.0.0. See https://github.com/optuna/optuna/releases/tag/v3.0.0. Use suggest_float instead.\n",
      "  take_profit_close = trial.suggest_uniform('take_profit_close', 1, 2)\n",
      "C:\\Users\\carlo\\AppData\\Local\\Temp\\ipykernel_31332\\4272933360.py:8: FutureWarning: suggest_uniform has been deprecated in v3.0.0. This feature will be removed in v6.0.0. See https://github.com/optuna/optuna/releases/tag/v3.0.0. Use suggest_float instead.\n",
      "  Umbral = trial.suggest_uniform('Umbral', 0, 30)\n",
      "[I 2024-02-25 22:59:08,854] Trial 0 finished with value: 0.0 and parameters: {'n_shares': 13, 'stop_loss_close': 0.869410964675992, 'take_profit_close': 1.7770270833208532, 'Umbral': 13.417132559066069}. Best is trial 0 with value: 0.0.\n",
      "[I 2024-02-25 22:59:08,966] Trial 1 finished with value: 995.349004625001 and parameters: {'n_shares': 10, 'stop_loss_close': 0.9811798777250375, 'take_profit_close': 1.152656622203832, 'Umbral': 27.515740964565673}. Best is trial 1 with value: 995.349004625001.\n",
      "[I 2024-02-25 22:59:09,024] Trial 2 finished with value: 0.0 and parameters: {'n_shares': 28, 'stop_loss_close': 0.92448055545219, 'take_profit_close': 1.6010831797583425, 'Umbral': 14.733570815195893}. Best is trial 1 with value: 995.349004625001.\n",
      "[I 2024-02-25 22:59:09,119] Trial 3 finished with value: 2276.762398929998 and parameters: {'n_shares': 37, 'stop_loss_close': 0.9701831560511355, 'take_profit_close': 1.1109557317662104, 'Umbral': 27.466688191485}. Best is trial 3 with value: 2276.762398929998.\n",
      "[I 2024-02-25 22:59:09,179] Trial 4 finished with value: 0.0 and parameters: {'n_shares': 48, 'stop_loss_close': 0.9734086663802896, 'take_profit_close': 1.7923818882148808, 'Umbral': 17.170263494302954}. Best is trial 3 with value: 2276.762398929998.\n",
      "[I 2024-02-25 22:59:09,264] Trial 5 finished with value: 1649.5485007099996 and parameters: {'n_shares': 44, 'stop_loss_close': 0.8249304121441237, 'take_profit_close': 1.0305136248453173, 'Umbral': 25.727293428538303}. Best is trial 3 with value: 2276.762398929998.\n",
      "[I 2024-02-25 22:59:09,363] Trial 6 finished with value: 0.0 and parameters: {'n_shares': 12, 'stop_loss_close': 0.9671358900870004, 'take_profit_close': 1.641808646335243, 'Umbral': 7.373196010664193}. Best is trial 3 with value: 2276.762398929998.\n",
      "[I 2024-02-25 22:59:09,409] Trial 7 finished with value: 0.0 and parameters: {'n_shares': 20, 'stop_loss_close': 0.9690271613004516, 'take_profit_close': 1.589625004371374, 'Umbral': 12.729597001771182}. Best is trial 3 with value: 2276.762398929998.\n",
      "[I 2024-02-25 22:59:09,529] Trial 8 finished with value: 2627.504809020002 and parameters: {'n_shares': 26, 'stop_loss_close': 0.9429080084275144, 'take_profit_close': 1.0925510448240594, 'Umbral': 28.268027464823174}. Best is trial 8 with value: 2627.504809020002.\n",
      "[I 2024-02-25 22:59:09,681] Trial 9 finished with value: 38.01908363999996 and parameters: {'n_shares': 3, 'stop_loss_close': 0.9709216132909688, 'take_profit_close': 1.111041474047234, 'Umbral': 19.2171413269199}. Best is trial 8 with value: 2627.504809020002.\n",
      "[I 2024-02-25 22:59:09,811] Trial 10 finished with value: 0.0 and parameters: {'n_shares': 30, 'stop_loss_close': 0.9096202155092278, 'take_profit_close': 1.3243976922855611, 'Umbral': 3.8589823641741443}. Best is trial 8 with value: 2627.504809020002.\n",
      "[I 2024-02-25 22:59:10,067] Trial 11 finished with value: -635.8371725549996 and parameters: {'n_shares': 39, 'stop_loss_close': 0.9320564063186265, 'take_profit_close': 1.3344480884135101, 'Umbral': 29.584043729254578}. Best is trial 8 with value: 2627.504809020002.\n",
      "[I 2024-02-25 22:59:10,213] Trial 12 finished with value: 0.0 and parameters: {'n_shares': 35, 'stop_loss_close': 0.8769168681664995, 'take_profit_close': 1.3044962353981775, 'Umbral': 21.718761955612685}. Best is trial 8 with value: 2627.504809020002.\n",
      "[I 2024-02-25 22:59:10,409] Trial 13 finished with value: 0.0 and parameters: {'n_shares': 22, 'stop_loss_close': 0.9371908756518472, 'take_profit_close': 1.9794734864353791, 'Umbral': 23.76783952788161}. Best is trial 8 with value: 2627.504809020002.\n",
      "[I 2024-02-25 22:59:10,650] Trial 14 finished with value: 3669.627029805003 and parameters: {'n_shares': 36, 'stop_loss_close': 0.9452146134888363, 'take_profit_close': 1.2054809928551606, 'Umbral': 29.484907833629137}. Best is trial 14 with value: 3669.627029805003.\n",
      "[I 2024-02-25 22:59:10,863] Trial 15 finished with value: 0.0 and parameters: {'n_shares': 31, 'stop_loss_close': 0.8880994268775048, 'take_profit_close': 1.2351587229299432, 'Umbral': 29.52947514389626}. Best is trial 14 with value: 3669.627029805003.\n",
      "[I 2024-02-25 22:59:10,968] Trial 16 finished with value: -13.856487913749788 and parameters: {'n_shares': 23, 'stop_loss_close': 0.9967401101657665, 'take_profit_close': 1.476257075206837, 'Umbral': 22.322088772169263}. Best is trial 14 with value: 3669.627029805003.\n",
      "[I 2024-02-25 22:59:11,074] Trial 17 finished with value: 0.0 and parameters: {'n_shares': 41, 'stop_loss_close': 0.8555470274901382, 'take_profit_close': 1.4099810161274333, 'Umbral': 9.17929985846514}. Best is trial 14 with value: 3669.627029805003.\n",
      "[I 2024-02-25 22:59:11,184] Trial 18 finished with value: 46.552183792500045 and parameters: {'n_shares': 17, 'stop_loss_close': 0.9476373094361761, 'take_profit_close': 1.0192662284262735, 'Umbral': 19.683930870160168}. Best is trial 14 with value: 3669.627029805003.\n",
      "[I 2024-02-25 22:59:11,297] Trial 19 finished with value: 0.0 and parameters: {'n_shares': 33, 'stop_loss_close': 0.9122694338201128, 'take_profit_close': 1.1964832257025932, 'Umbral': 0.1316892588007441}. Best is trial 14 with value: 3669.627029805003.\n"
     ]
    },
    {
     "name": "stdout",
     "output_type": "stream",
     "text": [
      "Mejores parámetros encontrados:\n",
      "{'n_shares': 36, 'stop_loss_close': 0.9452146134888363, 'take_profit_close': 1.2054809928551606, 'Umbral': 29.484907833629137}\n",
      "Rendimiento (Profit/Loss): 3669.627029805003\n"
     ]
    }
   ],
   "source": [
    "import optuna\n",
    "\n",
    "def objective(trial):\n",
    "    # Define los rangos de búsqueda para los parámetros\n",
    "    n_shares = trial.suggest_int('n_shares', 1, 50)\n",
    "    stop_loss_close = trial.suggest_uniform('stop_loss_close', 0.80, 1)\n",
    "    take_profit_close = trial.suggest_uniform('take_profit_close', 1, 2)\n",
    "    Umbral = trial.suggest_uniform('Umbral', 0, 30)\n",
    "\n",
    "    # Evalúa la función de trading con los parámetros sugeridos\n",
    "    profit_loss = def_trading_strategy(data, n_shares, stop_loss_close, take_profit_close, Umbral)\n",
    "    \n",
    "    return profit_loss  # Devuelve la métrica que se debe minimizar/maximizar\n",
    "\n",
    "# Crea un estudio Optuna\n",
    "study = optuna.create_study(direction='maximize')  # 'maximize' si se quiere maximizar la métrica\n",
    "\n",
    "# Ejecuta la optimización\n",
    "study.optimize(objective, n_trials=20)  # Puedes ajustar n_trials según tus recursos y tiempo disponible\n",
    "\n",
    "# Obtiene los mejores parámetros encontrados\n",
    "best_params = study.best_params\n",
    "best_profit_loss = study.best_value\n",
    "\n",
    "print(\"Mejores parámetros encontrados:\")\n",
    "print(best_params)\n",
    "print(\"Rendimiento (Profit/Loss):\", best_profit_loss)\n"
   ]
  },
  {
   "cell_type": "code",
   "execution_count": 5,
   "id": "f77c3c85",
   "metadata": {
    "ExecuteTime": {
     "end_time": "2024-02-26T04:59:12.432069400Z",
     "start_time": "2024-02-26T04:59:11.313335100Z"
    }
   },
   "outputs": [],
   "source": [
    "# Condiciones para comprar y vender\n",
    "condicion_compra = data[\"RSI\"] <= 30\n",
    "condicion_venta = data[\"RSI\"] > 70\n",
    "\n",
    "# Aplicando las condiciones para obtener señales de compra y venta\n",
    "data['Senal_RSI'] = ''\n",
    "data.loc[condicion_compra, 'Senal_RSI'] = 'Compra'\n",
    "data.loc[condicion_venta, 'Senal_RSI'] = 'Venta'\n",
    "data.to_excel('../../../data/1h/RSI_BOS.xlsx', index=False)"
   ]
  },
  {
   "cell_type": "code",
   "execution_count": 6,
   "id": "20ccd6f2",
   "metadata": {
    "ExecuteTime": {
     "end_time": "2024-02-26T04:59:12.536543400Z",
     "start_time": "2024-02-26T04:59:12.389105Z"
    }
   },
   "outputs": [
    {
     "data": {
      "text/plain": "Senal_RSI\n          330\nVenta      23\nCompra     14\nName: count, dtype: int64"
     },
     "execution_count": 6,
     "metadata": {},
     "output_type": "execute_result"
    }
   ],
   "source": [
    "data['Senal_RSI'].value_counts()"
   ]
  },
  {
   "cell_type": "code",
   "execution_count": 6,
   "id": "b348ad94",
   "metadata": {
    "ExecuteTime": {
     "end_time": "2024-02-26T04:59:12.586229400Z",
     "start_time": "2024-02-26T04:59:12.405881900Z"
    }
   },
   "outputs": [],
   "source": []
  },
  {
   "cell_type": "code",
   "execution_count": 6,
   "id": "7e68542e",
   "metadata": {
    "ExecuteTime": {
     "end_time": "2024-02-26T04:59:12.632107400Z",
     "start_time": "2024-02-26T04:59:12.411401800Z"
    }
   },
   "outputs": [],
   "source": []
  }
 ],
 "metadata": {
  "kernelspec": {
   "display_name": "Python 3 (ipykernel)",
   "language": "python",
   "name": "python3"
  },
  "language_info": {
   "codemirror_mode": {
    "name": "ipython",
    "version": 3
   },
   "file_extension": ".py",
   "mimetype": "text/x-python",
   "name": "python",
   "nbconvert_exporter": "python",
   "pygments_lexer": "ipython3",
   "version": "3.11.4"
  }
 },
 "nbformat": 4,
 "nbformat_minor": 5
}
