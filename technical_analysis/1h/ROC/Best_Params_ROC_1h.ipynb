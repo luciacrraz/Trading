{
 "cells": [
  {
   "cell_type": "code",
   "execution_count": 1,
   "id": "45c74508",
   "metadata": {
    "ExecuteTime": {
     "end_time": "2024-02-26T05:05:50.002276Z",
     "start_time": "2024-02-26T05:05:48.790716Z"
    }
   },
   "outputs": [
    {
     "name": "stdout",
     "output_type": "stream",
     "text": [
      "Intel MKL WARNING: Support of Intel(R) Streaming SIMD Extensions 4.2 (Intel(R) SSE4.2) enabled only processors has been deprecated. Intel oneAPI Math Kernel Library 2025.0 will require Intel(R) Advanced Vector Extensions (Intel(R) AVX) instructions.\n",
      "Intel MKL WARNING: Support of Intel(R) Streaming SIMD Extensions 4.2 (Intel(R) SSE4.2) enabled only processors has been deprecated. Intel oneAPI Math Kernel Library 2025.0 will require Intel(R) Advanced Vector Extensions (Intel(R) AVX) instructions.\n"
     ]
    }
   ],
   "source": [
    "import pandas as pd\n",
    "import numpy as np\n",
    "import matplotlib.pyplot as plt\n",
    "import ta"
   ]
  },
  {
   "cell_type": "code",
   "execution_count": 2,
   "id": "efb24854",
   "metadata": {
    "ExecuteTime": {
     "end_time": "2024-02-26T05:05:50.035671Z",
     "start_time": "2024-02-26T05:05:49.994642Z"
    }
   },
   "outputs": [],
   "source": [
    "data = pd.read_csv(\"../../../data/aapl_1h_train.csv\")\n",
    "roc_data = ta.momentum.ROCIndicator(data.Close, window=14)\n",
    "data[\"ROC\"] = roc_data.roc()\n",
    "data = data.dropna()"
   ]
  },
  {
   "cell_type": "code",
   "execution_count": 3,
   "id": "05591dab",
   "metadata": {
    "ExecuteTime": {
     "end_time": "2024-02-26T05:05:50.035958Z",
     "start_time": "2024-02-26T05:05:50.003055Z"
    }
   },
   "outputs": [],
   "source": [
    "def def_trading_strategy(data, n_shares, stop_loss_close, take_profit_close, Umbral):\n",
    "    cash= 1_000_000\n",
    "    com = 0.125/100\n",
    "    history = []\n",
    "    portfolio_value = []\n",
    "    active_operations = []\n",
    "    total_profit_loss = 0\n",
    "\n",
    "    for i, row in data.iterrows():\n",
    "        # Close active operation\n",
    "        active_op_temp = []\n",
    "        for operation in active_operations:\n",
    "            if operation[\"stop_loss\"] > row.Close:\n",
    "                cash += (row.Close * operation[\"n_shares\"]) * (1 - com)\n",
    "                # Calcular la ganancia o pérdida y actualizar el total\n",
    "                profit_loss = (row.Close * operation[\"n_shares\"]) * (1 - com) - (operation[\"bought\"] * operation[\"n_shares\"])\n",
    "                total_profit_loss += profit_loss\n",
    "                history.append({\"timestamp\": row.Timestamp, \"profit_loss\": profit_loss})\n",
    "            elif operation[\"take_profit\"] < row.Close:\n",
    "                cash += (row.Close * operation[\"n_shares\"]) * (1 - com)\n",
    "                # Calcular la ganancia o pérdida y actualizar el total\n",
    "                profit_loss = (row.Close * operation[\"n_shares\"]) * (1 - com) - (operation[\"bought\"] * operation[\"n_shares\"])\n",
    "                total_profit_loss += profit_loss\n",
    "                history.append({\"timestamp\": row.Timestamp, \"profit_loss\": profit_loss})\n",
    "            else:\n",
    "                active_op_temp.append(operation)\n",
    "        active_operations = active_op_temp\n",
    "            \n",
    "        # ¿Tenemos suficiente efectivo?\n",
    "        if cash < (row.Close * n_shares * (1 + com)):\n",
    "            asset_vals = sum([operation[\"n_shares\"] * row.Close for operation in active_operations])\n",
    "            portfolio_value.append(cash + asset_vals)\n",
    "            continue\n",
    "        \n",
    "        # Analizar la señal larga\n",
    "        if row.ROC <= Umbral:  # If ceil(Op)\n",
    "            active_operations.append({\n",
    "                \"timestamp\": row.Timestamp,\n",
    "                \"bought\": row.Close,\n",
    "                \"n_shares\": n_shares,\n",
    "                \"type\": \"long\",\n",
    "                \"stop_loss\": row.Close * stop_loss_close,\n",
    "                \"take_profit\": row.Close * take_profit_close\n",
    "            })\n",
    "            cash -= row.Close * n_shares * (1 + com)\n",
    "        \n",
    "        asset_vals = sum([operation[\"n_shares\"] * row.Close for operation in active_operations])\n",
    "        portfolio_value.append(cash + asset_vals)\n",
    "    \n",
    "    return total_profit_loss"
   ]
  },
  {
   "cell_type": "code",
   "execution_count": 4,
   "id": "1b913ae5",
   "metadata": {
    "ExecuteTime": {
     "end_time": "2024-02-26T05:05:54.736135Z",
     "start_time": "2024-02-26T05:05:50.011553Z"
    }
   },
   "outputs": [
    {
     "name": "stderr",
     "output_type": "stream",
     "text": [
      "[I 2024-02-25 23:05:50,245] A new study created in memory with name: no-name-77f0d83b-03a8-443e-952a-c3f452acd6af\n",
      "/var/folders/x7/frl5my251vx198wg4w_ndzxh0000gn/T/ipykernel_18522/3856062009.py:6: FutureWarning: suggest_uniform has been deprecated in v3.0.0. This feature will be removed in v6.0.0. See https://github.com/optuna/optuna/releases/tag/v3.0.0. Use suggest_float instead.\n",
      "  stop_loss_close = trial.suggest_uniform('stop_loss_close', 0.80, 1)\n",
      "/var/folders/x7/frl5my251vx198wg4w_ndzxh0000gn/T/ipykernel_18522/3856062009.py:7: FutureWarning: suggest_uniform has been deprecated in v3.0.0. This feature will be removed in v6.0.0. See https://github.com/optuna/optuna/releases/tag/v3.0.0. Use suggest_float instead.\n",
      "  take_profit_close = trial.suggest_uniform('take_profit_close', 1, 2)\n",
      "/var/folders/x7/frl5my251vx198wg4w_ndzxh0000gn/T/ipykernel_18522/3856062009.py:8: FutureWarning: suggest_uniform has been deprecated in v3.0.0. This feature will be removed in v6.0.0. See https://github.com/optuna/optuna/releases/tag/v3.0.0. Use suggest_float instead.\n",
      "  Umbral = trial.suggest_uniform('Umbral', -10, 10)\n",
      "[I 2024-02-25 23:05:50,304] Trial 0 finished with value: 0.0 and parameters: {'n_shares': 15, 'stop_loss_close': 0.878270227707115, 'take_profit_close': 1.8030832357209516, 'Umbral': -3.214664917669041}. Best is trial 0 with value: 0.0.\n",
      "[I 2024-02-25 23:05:50,314] Trial 1 finished with value: 397.8666499999996 and parameters: {'n_shares': 5, 'stop_loss_close': 0.8464012671267169, 'take_profit_close': 1.1061328094585212, 'Umbral': -4.571644472765244}. Best is trial 1 with value: 397.8666499999996.\n",
      "[I 2024-02-25 23:05:50,495] Trial 2 finished with value: -31515.934080749983 and parameters: {'n_shares': 50, 'stop_loss_close': 0.9822808956934858, 'take_profit_close': 1.9299284993407113, 'Umbral': 6.591317617275706}. Best is trial 1 with value: 397.8666499999996.\n",
      "[I 2024-02-25 23:05:50,505] Trial 3 finished with value: 0.0 and parameters: {'n_shares': 8, 'stop_loss_close': 0.883667335353444, 'take_profit_close': 1.5975946547446833, 'Umbral': -8.21894887771702}. Best is trial 1 with value: 397.8666499999996.\n",
      "[I 2024-02-25 23:05:50,525] Trial 4 finished with value: 0.0 and parameters: {'n_shares': 47, 'stop_loss_close': 0.8227201053453865, 'take_profit_close': 1.647247475166024, 'Umbral': -5.423236960635975}. Best is trial 1 with value: 397.8666499999996.\n",
      "[I 2024-02-25 23:05:50,537] Trial 5 finished with value: 0.0 and parameters: {'n_shares': 45, 'stop_loss_close': 0.9854437648464469, 'take_profit_close': 1.9733980990799815, 'Umbral': -7.6158353026370555}. Best is trial 1 with value: 397.8666499999996.\n",
      "[I 2024-02-25 23:05:50,870] Trial 6 finished with value: 122695.35854360003 and parameters: {'n_shares': 40, 'stop_loss_close': 0.8219244439556228, 'take_profit_close': 1.0987183298261525, 'Umbral': 4.578919001010856}. Best is trial 6 with value: 122695.35854360003.\n",
      "[I 2024-02-25 23:05:51,302] Trial 7 finished with value: 0.0 and parameters: {'n_shares': 27, 'stop_loss_close': 0.8271696051960025, 'take_profit_close': 1.82402375793186, 'Umbral': 2.568773197838251}. Best is trial 6 with value: 122695.35854360003.\n",
      "[I 2024-02-25 23:05:51,681] Trial 8 finished with value: -15309.41655545 and parameters: {'n_shares': 31, 'stop_loss_close': 0.9340556124660725, 'take_profit_close': 1.3686256355500976, 'Umbral': 9.701694610791275}. Best is trial 6 with value: 122695.35854360003.\n",
      "[I 2024-02-25 23:05:51,690] Trial 9 finished with value: 0.0 and parameters: {'n_shares': 10, 'stop_loss_close': 0.9447670122467727, 'take_profit_close': 1.7923390417859744, 'Umbral': -7.66754689963088}. Best is trial 6 with value: 122695.35854360003.\n",
      "[I 2024-02-25 23:05:51,931] Trial 10 finished with value: 67489.4638857688 and parameters: {'n_shares': 35, 'stop_loss_close': 0.8083818119689786, 'take_profit_close': 1.0612676660590843, 'Umbral': 1.7386188190768053}. Best is trial 6 with value: 122695.35854360003.\n",
      "[I 2024-02-25 23:05:52,055] Trial 11 finished with value: 30412.50982227124 and parameters: {'n_shares': 37, 'stop_loss_close': 0.8010499419760814, 'take_profit_close': 1.0240695285951793, 'Umbral': 1.4101390913369605}. Best is trial 6 with value: 122695.35854360003.\n",
      "[I 2024-02-25 23:05:52,498] Trial 12 finished with value: 21241.655947383762 and parameters: {'n_shares': 37, 'stop_loss_close': 0.8578074020996205, 'take_profit_close': 1.2347346496553757, 'Umbral': 4.7745239518108615}. Best is trial 6 with value: 122695.35854360003.\n",
      "[I 2024-02-25 23:05:52,652] Trial 13 finished with value: 6814.459451423751 and parameters: {'n_shares': 19, 'stop_loss_close': 0.802764161495281, 'take_profit_close': 1.253165438320657, 'Umbral': -1.909976921844353}. Best is trial 6 with value: 122695.35854360003.\n",
      "[I 2024-02-25 23:05:52,720] Trial 14 finished with value: 5517.599829251289 and parameters: {'n_shares': 39, 'stop_loss_close': 0.9103554543838663, 'take_profit_close': 1.0040166404527233, 'Umbral': 4.850064573612018}. Best is trial 6 with value: 122695.35854360003.\n",
      "[I 2024-02-25 23:05:53,065] Trial 15 finished with value: 0.0 and parameters: {'n_shares': 32, 'stop_loss_close': 0.844242015235018, 'take_profit_close': 1.4104823926751218, 'Umbral': 0.43326274674721876}. Best is trial 6 with value: 122695.35854360003.\n",
      "[I 2024-02-25 23:05:53,567] Trial 16 finished with value: 16617.34236139251 and parameters: {'n_shares': 23, 'stop_loss_close': 0.8233323130754756, 'take_profit_close': 1.2100566023348251, 'Umbral': 7.919509278198337}. Best is trial 6 with value: 122695.35854360003.\n",
      "[I 2024-02-25 23:05:53,941] Trial 17 finished with value: 123605.11305675757 and parameters: {'n_shares': 42, 'stop_loss_close': 0.866229494046748, 'take_profit_close': 1.1380498415282596, 'Umbral': 3.4420282517653025}. Best is trial 17 with value: 123605.11305675757.\n",
      "[I 2024-02-25 23:05:54,315] Trial 18 finished with value: 110209.31515495006 and parameters: {'n_shares': 44, 'stop_loss_close': 0.8814635740715847, 'take_profit_close': 1.1530389429853554, 'Umbral': 3.3450043082713345}. Best is trial 17 with value: 123605.11305675757.\n",
      "[I 2024-02-25 23:05:54,730] Trial 19 finished with value: 0.0 and parameters: {'n_shares': 42, 'stop_loss_close': 0.862967642247049, 'take_profit_close': 1.369798461543224, 'Umbral': 5.948995255510487}. Best is trial 17 with value: 123605.11305675757.\n"
     ]
    },
    {
     "name": "stdout",
     "output_type": "stream",
     "text": [
      "Mejores parámetros encontrados:\n",
      "{'n_shares': 42, 'stop_loss_close': 0.866229494046748, 'take_profit_close': 1.1380498415282596, 'Umbral': 3.4420282517653025}\n",
      "Rendimiento (Profit/Loss): 123605.11305675757\n"
     ]
    }
   ],
   "source": [
    "import optuna\n",
    "\n",
    "def objective(trial):\n",
    "    # Define los rangos de búsqueda para los parámetros\n",
    "    n_shares = trial.suggest_int('n_shares', 1, 50)\n",
    "    stop_loss_close = trial.suggest_uniform('stop_loss_close', 0.80, 1)\n",
    "    take_profit_close = trial.suggest_uniform('take_profit_close', 1, 2)\n",
    "    Umbral = trial.suggest_uniform('Umbral', -10, 10)\n",
    "\n",
    "    # Evalúa la función de trading con los parámetros sugeridos\n",
    "    profit_loss = def_trading_strategy(data, n_shares, stop_loss_close, take_profit_close, Umbral)\n",
    "    \n",
    "    return profit_loss  # Devuelve la métrica que se debe minimizar/maximizar\n",
    "\n",
    "# Crea un estudio Optuna\n",
    "study = optuna.create_study(direction='maximize')  # 'maximize' si se quiere maximizar la métrica\n",
    "\n",
    "# Ejecuta la optimización\n",
    "study.optimize(objective, n_trials=20)  # Puedes ajustar n_trials según tus recursos y tiempo disponible\n",
    "\n",
    "# Obtiene los mejores parámetros encontrados\n",
    "best_params = study.best_params\n",
    "best_profit_loss = study.best_value\n",
    "\n",
    "print(\"Mejores parámetros encontrados:\")\n",
    "print(best_params)\n",
    "print(\"Rendimiento (Profit/Loss):\", best_profit_loss)\n"
   ]
  },
  {
   "cell_type": "code",
   "execution_count": 5,
   "id": "dbe172ec",
   "metadata": {
    "ExecuteTime": {
     "end_time": "2024-02-26T05:05:54.920479Z",
     "start_time": "2024-02-26T05:05:54.739995Z"
    }
   },
   "outputs": [],
   "source": [
    "# Condiciones para comprar y vender\n",
    "condicion_compra = data[\"ROC\"] <= -1.5\n",
    "condicion_venta = data[\"ROC\"] > 1.1\n",
    "\n",
    "# Aplicando las condiciones para obtener señales de compra y venta\n",
    "data['Senal_ROC'] = ''\n",
    "data.loc[condicion_compra, 'Senal_ROC'] = 'Compra'\n",
    "data.loc[condicion_venta, 'Senal_ROC'] = 'Venta'\n",
    "data.to_excel('../../../data/1h/ROC_BOS.xlsx', index=False)"
   ]
  },
  {
   "cell_type": "code",
   "execution_count": 6,
   "id": "d9cf3c61",
   "metadata": {
    "ExecuteTime": {
     "end_time": "2024-02-26T05:05:54.928133Z",
     "start_time": "2024-02-26T05:05:54.924889Z"
    }
   },
   "outputs": [
    {
     "data": {
      "text/plain": "Senal_ROC\n          145\nVenta     115\nCompra     91\nName: count, dtype: int64"
     },
     "execution_count": 6,
     "metadata": {},
     "output_type": "execute_result"
    }
   ],
   "source": [
    "data['Senal_ROC'].value_counts()"
   ]
  },
  {
   "cell_type": "code",
   "execution_count": 6,
   "id": "a7de492d",
   "metadata": {
    "ExecuteTime": {
     "end_time": "2024-02-26T05:05:54.931256Z",
     "start_time": "2024-02-26T05:05:54.928053Z"
    }
   },
   "outputs": [],
   "source": []
  },
  {
   "cell_type": "code",
   "execution_count": 6,
   "id": "779a813d",
   "metadata": {
    "ExecuteTime": {
     "end_time": "2024-02-26T05:05:54.933449Z",
     "start_time": "2024-02-26T05:05:54.930672Z"
    }
   },
   "outputs": [],
   "source": []
  }
 ],
 "metadata": {
  "kernelspec": {
   "display_name": "Python 3 (ipykernel)",
   "language": "python",
   "name": "python3"
  },
  "language_info": {
   "codemirror_mode": {
    "name": "ipython",
    "version": 3
   },
   "file_extension": ".py",
   "mimetype": "text/x-python",
   "name": "python",
   "nbconvert_exporter": "python",
   "pygments_lexer": "ipython3",
   "version": "3.11.4"
  }
 },
 "nbformat": 4,
 "nbformat_minor": 5
}
