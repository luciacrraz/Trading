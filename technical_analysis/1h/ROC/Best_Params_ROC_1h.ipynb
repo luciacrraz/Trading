{
 "cells": [
  {
   "cell_type": "code",
   "execution_count": 7,
   "id": "45c74508",
   "metadata": {},
   "outputs": [],
   "source": [
    "import pandas as pd\n",
    "import numpy as np\n",
    "import matplotlib.pyplot as plt\n",
    "import ta"
   ]
  },
  {
   "cell_type": "code",
   "execution_count": 8,
   "id": "efb24854",
   "metadata": {},
   "outputs": [],
   "source": [
    "data = pd.read_csv(\"aapl_1h_train.csv\")\n",
    "roc_data = ta.momentum.ROCIndicator(data.Close, window=14)\n",
    "data[\"ROC\"] = roc_data.roc()\n",
    "data = data.dropna()"
   ]
  },
  {
   "cell_type": "code",
   "execution_count": 9,
   "id": "05591dab",
   "metadata": {},
   "outputs": [],
   "source": [
    "def def_trading_strategy(data, n_shares, stop_loss_close, take_profit_close, Umbral):\n",
    "    cash= 1_000_000\n",
    "    com = 0.125/100\n",
    "    history = []\n",
    "    portfolio_value = []\n",
    "    active_operations = []\n",
    "    total_profit_loss = 0\n",
    "\n",
    "    for i, row in data.iterrows():\n",
    "        # Close active operation\n",
    "        active_op_temp = []\n",
    "        for operation in active_operations:\n",
    "            if operation[\"stop_loss\"] > row.Close:\n",
    "                cash += (row.Close * operation[\"n_shares\"]) * (1 - com)\n",
    "                # Calcular la ganancia o pérdida y actualizar el total\n",
    "                profit_loss = (row.Close * operation[\"n_shares\"]) * (1 - com) - (operation[\"bought\"] * operation[\"n_shares\"])\n",
    "                total_profit_loss += profit_loss\n",
    "                history.append({\"timestamp\": row.Timestamp, \"profit_loss\": profit_loss})\n",
    "            elif operation[\"take_profit\"] < row.Close:\n",
    "                cash += (row.Close * operation[\"n_shares\"]) * (1 - com)\n",
    "                # Calcular la ganancia o pérdida y actualizar el total\n",
    "                profit_loss = (row.Close * operation[\"n_shares\"]) * (1 - com) - (operation[\"bought\"] * operation[\"n_shares\"])\n",
    "                total_profit_loss += profit_loss\n",
    "                history.append({\"timestamp\": row.Timestamp, \"profit_loss\": profit_loss})\n",
    "            else:\n",
    "                active_op_temp.append(operation)\n",
    "        active_operations = active_op_temp\n",
    "            \n",
    "        # ¿Tenemos suficiente efectivo?\n",
    "        if cash < (row.Close * n_shares * (1 + com)):\n",
    "            asset_vals = sum([operation[\"n_shares\"] * row.Close for operation in active_operations])\n",
    "            portfolio_value.append(cash + asset_vals)\n",
    "            continue\n",
    "        \n",
    "        # Analizar la señal larga\n",
    "        if row.ROC <= Umbral:  # If ceil(Op)\n",
    "            active_operations.append({\n",
    "                \"timestamp\": row.Timestamp,\n",
    "                \"bought\": row.Close,\n",
    "                \"n_shares\": n_shares,\n",
    "                \"type\": \"long\",\n",
    "                \"stop_loss\": row.Close * stop_loss_close,\n",
    "                \"take_profit\": row.Close * take_profit_close\n",
    "            })\n",
    "            cash -= row.Close * n_shares * (1 + com)\n",
    "        \n",
    "        asset_vals = sum([operation[\"n_shares\"] * row.Close for operation in active_operations])\n",
    "        portfolio_value.append(cash + asset_vals)\n",
    "    \n",
    "    return total_profit_loss"
   ]
  },
  {
   "cell_type": "code",
   "execution_count": 10,
   "id": "1b913ae5",
   "metadata": {},
   "outputs": [
    {
     "name": "stderr",
     "output_type": "stream",
     "text": [
      "[I 2024-02-25 19:11:25,457] A new study created in memory with name: no-name-5b5d9155-e2b4-4839-8d9f-cc9a02cad05f\n",
      "C:\\Users\\elias\\AppData\\Local\\Temp\\ipykernel_25160\\2654301648.py:6: FutureWarning: suggest_uniform has been deprecated in v3.0.0. This feature will be removed in v6.0.0. See https://github.com/optuna/optuna/releases/tag/v3.0.0. Use suggest_float instead.\n",
      "  stop_loss_close = trial.suggest_uniform('stop_loss_close', 0.80, 1)\n",
      "C:\\Users\\elias\\AppData\\Local\\Temp\\ipykernel_25160\\2654301648.py:7: FutureWarning: suggest_uniform has been deprecated in v3.0.0. This feature will be removed in v6.0.0. See https://github.com/optuna/optuna/releases/tag/v3.0.0. Use suggest_float instead.\n",
      "  take_profit_close = trial.suggest_uniform('take_profit_close', 1, 2)\n",
      "C:\\Users\\elias\\AppData\\Local\\Temp\\ipykernel_25160\\2654301648.py:8: FutureWarning: suggest_uniform has been deprecated in v3.0.0. This feature will be removed in v6.0.0. See https://github.com/optuna/optuna/releases/tag/v3.0.0. Use suggest_float instead.\n",
      "  Umbral = trial.suggest_uniform('Umbral', -10, 10)\n",
      "[I 2024-02-25 19:11:25,966] Trial 0 finished with value: -19368.364899764983 and parameters: {'n_shares': 28, 'stop_loss_close': 0.9636021655462068, 'take_profit_close': 1.3008466082728496, 'Umbral': 8.9911711265141}. Best is trial 0 with value: -19368.364899764983.\n",
      "[I 2024-02-25 19:11:26,008] Trial 1 finished with value: 0.0 and parameters: {'n_shares': 8, 'stop_loss_close': 0.8847549777710539, 'take_profit_close': 1.6428266301615753, 'Umbral': -5.817677655350879}. Best is trial 1 with value: 0.0.\n",
      "[I 2024-02-25 19:11:26,282] Trial 2 finished with value: -11863.342492691241 and parameters: {'n_shares': 33, 'stop_loss_close': 0.9585845518127387, 'take_profit_close': 1.6729261785173866, 'Umbral': -0.5821280370679993}. Best is trial 1 with value: 0.0.\n",
      "[I 2024-02-25 19:11:26,418] Trial 3 finished with value: 114.19358150001563 and parameters: {'n_shares': 25, 'stop_loss_close': 0.9631364957056245, 'take_profit_close': 1.0471599020725864, 'Umbral': 0.6467043715621834}. Best is trial 3 with value: 114.19358150001563.\n",
      "[I 2024-02-25 19:11:26,810] Trial 4 finished with value: -18969.94205452497 and parameters: {'n_shares': 30, 'stop_loss_close': 0.97271064020814, 'take_profit_close': 1.3962270564964974, 'Umbral': 3.919661469452418}. Best is trial 3 with value: 114.19358150001563.\n",
      "[I 2024-02-25 19:11:26,876] Trial 5 finished with value: -62.44451191999951 and parameters: {'n_shares': 32, 'stop_loss_close': 0.9923038583983153, 'take_profit_close': 1.4472100885793662, 'Umbral': -3.970974832351592}. Best is trial 3 with value: 114.19358150001563.\n",
      "[I 2024-02-25 19:11:27,083] Trial 6 finished with value: -6538.157810318753 and parameters: {'n_shares': 35, 'stop_loss_close': 0.9529413422039332, 'take_profit_close': 1.600056322911499, 'Umbral': -1.5287481054821654}. Best is trial 3 with value: 114.19358150001563.\n",
      "[I 2024-02-25 19:11:27,927] Trial 7 finished with value: -12609.963875217505 and parameters: {'n_shares': 41, 'stop_loss_close': 0.9127450084501862, 'take_profit_close': 1.9203993219588371, 'Umbral': 8.447876009900416}. Best is trial 3 with value: 114.19358150001563.\n",
      "[I 2024-02-25 19:11:28,259] Trial 8 finished with value: 12318.366269385002 and parameters: {'n_shares': 33, 'stop_loss_close': 0.8600673206256555, 'take_profit_close': 1.242913616839113, 'Umbral': -1.6034946341351421}. Best is trial 8 with value: 12318.366269385002.\n",
      "[I 2024-02-25 19:11:28,400] Trial 9 finished with value: 2927.8228125250353 and parameters: {'n_shares': 26, 'stop_loss_close': 0.9982729904006544, 'take_profit_close': 1.1754224986414958, 'Umbral': 6.754838559787984}. Best is trial 8 with value: 12318.366269385002.\n",
      "[I 2024-02-25 19:11:28,439] Trial 10 finished with value: 0.0 and parameters: {'n_shares': 14, 'stop_loss_close': 0.8268796270876893, 'take_profit_close': 1.0267430214874775, 'Umbral': -9.719559489748555}. Best is trial 8 with value: 12318.366269385002.\n",
      "[I 2024-02-25 19:11:29,245] Trial 11 finished with value: 32185.912579423766 and parameters: {'n_shares': 49, 'stop_loss_close': 0.8518677760436538, 'take_profit_close': 1.214869107033987, 'Umbral': 4.206279596636142}. Best is trial 11 with value: 32185.912579423766.\n",
      "[I 2024-02-25 19:11:30,042] Trial 12 finished with value: 27546.184113124997 and parameters: {'n_shares': 50, 'stop_loss_close': 0.8381290626440819, 'take_profit_close': 1.2357348525829446, 'Umbral': 3.3916869525170696}. Best is trial 11 with value: 32185.912579423766.\n",
      "[I 2024-02-25 19:11:30,786] Trial 13 finished with value: 125080.76720882748 and parameters: {'n_shares': 49, 'stop_loss_close': 0.806542754370057, 'take_profit_close': 1.1438712716825703, 'Umbral': 4.0283542537559915}. Best is trial 13 with value: 125080.76720882748.\n",
      "[I 2024-02-25 19:11:31,450] Trial 14 finished with value: 130260.31508287507 and parameters: {'n_shares': 50, 'stop_loss_close': 0.8067739083882272, 'take_profit_close': 1.106714763673431, 'Umbral': 4.356417329550424}. Best is trial 14 with value: 130260.31508287507.\n",
      "[I 2024-02-25 19:11:32,192] Trial 15 finished with value: 125271.77759558003 and parameters: {'n_shares': 44, 'stop_loss_close': 0.800277372929054, 'take_profit_close': 1.0984812127473347, 'Umbral': 6.212019099875654}. Best is trial 14 with value: 130260.31508287507.\n",
      "[I 2024-02-25 19:11:32,309] Trial 16 finished with value: 8514.140966595016 and parameters: {'n_shares': 41, 'stop_loss_close': 0.8020223801519704, 'take_profit_close': 1.0006807102865478, 'Umbral': 6.34140756538784}. Best is trial 14 with value: 130260.31508287507.\n",
      "[I 2024-02-25 19:11:33,118] Trial 17 finished with value: -1715.326756184998 and parameters: {'n_shares': 42, 'stop_loss_close': 0.889622605418929, 'take_profit_close': 1.3503528691001447, 'Umbral': 1.6111715237534927}. Best is trial 14 with value: 130260.31508287507.\n",
      "[I 2024-02-25 19:11:33,994] Trial 18 finished with value: -7741.155069875 and parameters: {'n_shares': 20, 'stop_loss_close': 0.9194348600019423, 'take_profit_close': 1.8664484820577119, 'Umbral': 6.37948928118777}. Best is trial 14 with value: 130260.31508287507.\n",
      "[I 2024-02-25 19:11:34,764] Trial 19 finished with value: 132148.64652781884 and parameters: {'n_shares': 43, 'stop_loss_close': 0.8259301094543237, 'take_profit_close': 1.1233683893863784, 'Umbral': 9.432109033456987}. Best is trial 19 with value: 132148.64652781884.\n"
     ]
    },
    {
     "name": "stdout",
     "output_type": "stream",
     "text": [
      "Mejores parámetros encontrados:\n",
      "{'n_shares': 43, 'stop_loss_close': 0.8259301094543237, 'take_profit_close': 1.1233683893863784, 'Umbral': 9.432109033456987}\n",
      "Rendimiento (Profit/Loss): 132148.64652781884\n"
     ]
    }
   ],
   "source": [
    "import optuna\n",
    "\n",
    "def objective(trial):\n",
    "    # Define los rangos de búsqueda para los parámetros\n",
    "    n_shares = trial.suggest_int('n_shares', 1, 50)\n",
    "    stop_loss_close = trial.suggest_uniform('stop_loss_close', 0.80, 1)\n",
    "    take_profit_close = trial.suggest_uniform('take_profit_close', 1, 2)\n",
    "    Umbral = trial.suggest_uniform('Umbral', -10, 10)\n",
    "\n",
    "    # Evalúa la función de trading con los parámetros sugeridos\n",
    "    profit_loss = def_trading_strategy(data, n_shares, stop_loss_close, take_profit_close, Umbral)\n",
    "    \n",
    "    return profit_loss  # Devuelve la métrica que se debe minimizar/maximizar\n",
    "\n",
    "# Crea un estudio Optuna\n",
    "study = optuna.create_study(direction='maximize')  # 'maximize' si se quiere maximizar la métrica\n",
    "\n",
    "# Ejecuta la optimización\n",
    "study.optimize(objective, n_trials=20)  # Puedes ajustar n_trials según tus recursos y tiempo disponible\n",
    "\n",
    "# Obtiene los mejores parámetros encontrados\n",
    "best_params = study.best_params\n",
    "best_profit_loss = study.best_value\n",
    "\n",
    "print(\"Mejores parámetros encontrados:\")\n",
    "print(best_params)\n",
    "print(\"Rendimiento (Profit/Loss):\", best_profit_loss)\n"
   ]
  },
  {
   "cell_type": "code",
   "execution_count": 11,
   "id": "dbe172ec",
   "metadata": {},
   "outputs": [],
   "source": [
    "# Condiciones para comprar y vender\n",
    "condicion_compra = data[\"ROC\"] <= -1.5\n",
    "condicion_venta = data[\"ROC\"] > 1.1\n",
    "\n",
    "# Aplicando las condiciones para obtener señales de compra y venta\n",
    "data['Senal_ROC'] = ''\n",
    "data.loc[condicion_compra, 'Senal_ROC'] = 'Compra'\n",
    "data.loc[condicion_venta, 'Senal_ROC'] = 'Venta'\n",
    "data.to_excel('ROC_BOS.xlsx', index=False)"
   ]
  },
  {
   "cell_type": "code",
   "execution_count": 12,
   "id": "d9cf3c61",
   "metadata": {},
   "outputs": [
    {
     "data": {
      "text/plain": [
       "Senal_ROC\n",
       "          145\n",
       "Venta     115\n",
       "Compra     91\n",
       "Name: count, dtype: int64"
      ]
     },
     "execution_count": 12,
     "metadata": {},
     "output_type": "execute_result"
    }
   ],
   "source": [
    "data['Senal_ROC'].value_counts()"
   ]
  },
  {
   "cell_type": "code",
   "execution_count": null,
   "id": "a7de492d",
   "metadata": {},
   "outputs": [],
   "source": []
  },
  {
   "cell_type": "code",
   "execution_count": null,
   "id": "779a813d",
   "metadata": {},
   "outputs": [],
   "source": []
  }
 ],
 "metadata": {
  "kernelspec": {
   "display_name": "Python 3 (ipykernel)",
   "language": "python",
   "name": "python3"
  },
  "language_info": {
   "codemirror_mode": {
    "name": "ipython",
    "version": 3
   },
   "file_extension": ".py",
   "mimetype": "text/x-python",
   "name": "python",
   "nbconvert_exporter": "python",
   "pygments_lexer": "ipython3",
   "version": "3.11.4"
  }
 },
 "nbformat": 4,
 "nbformat_minor": 5
}
