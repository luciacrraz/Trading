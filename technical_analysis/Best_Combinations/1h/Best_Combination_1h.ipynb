{
 "cells": [
  {
   "cell_type": "code",
   "execution_count": 2,
   "id": "0fbc80b1",
   "metadata": {
    "ExecuteTime": {
     "end_time": "2024-02-26T05:06:16.001496Z",
     "start_time": "2024-02-26T05:06:15.837923Z"
    }
   },
   "outputs": [],
   "source": [
    "import pandas as pd\n",
    "from itertools import combinations\n",
    "\n",
    "# Creamos un DataFrame de ejemplo\n",
    "data = pd.read_csv(\"../../../data/aapl_1h_train.csv\")\n",
    "data_rsi = pd.read_excel(\"../../../data/1h/RSI_BOS.xlsx\")\n",
    "data_roc = pd.read_excel(\"../../../data/1h/ROC_BOS.xlsx\")\n",
    "data_tsi = pd.read_excel(\"../../../data/1h/TSI_BOS.xlsx\")\n",
    "data_SO = pd.read_excel(\"../../../data/1h/SO_BOS.xlsx\")\n",
    "\n",
    "df = pd.DataFrame()\n",
    "df[\"RSI\"] = data_rsi['Senal_RSI']\n",
    "df[\"ROC\"] = data_roc['Senal_ROC']\n",
    "df[\"TSI\"] = data_tsi['Senal_TSI']\n",
    "df[\"SO\"] = data_SO['Senal_SO']"
   ]
  },
  {
   "cell_type": "code",
   "execution_count": 3,
   "id": "71a156f5",
   "metadata": {
    "ExecuteTime": {
     "end_time": "2024-02-26T05:06:16.058378Z",
     "start_time": "2024-02-26T05:06:16.044628Z"
    }
   },
   "outputs": [],
   "source": [
    "# Definimos las combinaciones posibles de indicadores\n",
    "indicadores = [\"RSI\", \"ROC\", \"TSI\", \"SO\"]\n",
    "combinaciones = []\n",
    "for r in range(1, len(indicadores) + 1):\n",
    "    combinaciones.extend(combinations(indicadores, r))\n",
    "\n",
    "# Creamos las nuevas columnas\n",
    "for comb in combinaciones:\n",
    "    new_column_name = '_'.join(comb)\n",
    "    df[new_column_name] = df[list(comb)].apply(lambda x: ' ' if ' ' in x.values or len(set(x.values)) > 1 else x.values[0], axis=1)\n",
    "\n",
    "df[\"close\"] = data[\"Close\"]\n",
    "df = df.fillna(\" \")"
   ]
  },
  {
   "cell_type": "code",
   "execution_count": 4,
   "id": "17beaf7f",
   "metadata": {
    "ExecuteTime": {
     "end_time": "2024-02-26T05:06:16.073730Z",
     "start_time": "2024-02-26T05:06:16.061491Z"
    }
   },
   "outputs": [
    {
     "data": {
      "text/plain": "    RSI     ROC TSI      SO RSI_ROC RSI_TSI RSI_SO ROC_TSI  ROC_SO TSI_SO  \\\n0                                                                           \n1                                                                           \n2        Compra                                                             \n3        Compra      Compra                                 Compra          \n4        Compra      Compra                                 Compra          \n..   ..     ...  ..     ...     ...     ...    ...     ...     ...    ...   \n362                                                                         \n363                                                                         \n364                                                                         \n365                                                                         \n366                                                                         \n\n    RSI_ROC_TSI RSI_ROC_SO RSI_TSI_SO ROC_TSI_SO RSI_ROC_TSI_SO       close  \n0                                                                120.919998  \n1                                                                122.529998  \n2                                                                123.261001  \n3                                                                    123.93  \n4                                                                125.050003  \n..          ...        ...        ...        ...            ...         ...  \n362                                                              133.135604  \n363                                                              132.147094  \n364                                                              131.880004  \n365                                                              131.990005  \n366                                                                   132.0  \n\n[367 rows x 16 columns]",
      "text/html": "<div>\n<style scoped>\n    .dataframe tbody tr th:only-of-type {\n        vertical-align: middle;\n    }\n\n    .dataframe tbody tr th {\n        vertical-align: top;\n    }\n\n    .dataframe thead th {\n        text-align: right;\n    }\n</style>\n<table border=\"1\" class=\"dataframe\">\n  <thead>\n    <tr style=\"text-align: right;\">\n      <th></th>\n      <th>RSI</th>\n      <th>ROC</th>\n      <th>TSI</th>\n      <th>SO</th>\n      <th>RSI_ROC</th>\n      <th>RSI_TSI</th>\n      <th>RSI_SO</th>\n      <th>ROC_TSI</th>\n      <th>ROC_SO</th>\n      <th>TSI_SO</th>\n      <th>RSI_ROC_TSI</th>\n      <th>RSI_ROC_SO</th>\n      <th>RSI_TSI_SO</th>\n      <th>ROC_TSI_SO</th>\n      <th>RSI_ROC_TSI_SO</th>\n      <th>close</th>\n    </tr>\n  </thead>\n  <tbody>\n    <tr>\n      <th>0</th>\n      <td></td>\n      <td></td>\n      <td></td>\n      <td></td>\n      <td></td>\n      <td></td>\n      <td></td>\n      <td></td>\n      <td></td>\n      <td></td>\n      <td></td>\n      <td></td>\n      <td></td>\n      <td></td>\n      <td></td>\n      <td>120.919998</td>\n    </tr>\n    <tr>\n      <th>1</th>\n      <td></td>\n      <td></td>\n      <td></td>\n      <td></td>\n      <td></td>\n      <td></td>\n      <td></td>\n      <td></td>\n      <td></td>\n      <td></td>\n      <td></td>\n      <td></td>\n      <td></td>\n      <td></td>\n      <td></td>\n      <td>122.529998</td>\n    </tr>\n    <tr>\n      <th>2</th>\n      <td></td>\n      <td>Compra</td>\n      <td></td>\n      <td></td>\n      <td></td>\n      <td></td>\n      <td></td>\n      <td></td>\n      <td></td>\n      <td></td>\n      <td></td>\n      <td></td>\n      <td></td>\n      <td></td>\n      <td></td>\n      <td>123.261001</td>\n    </tr>\n    <tr>\n      <th>3</th>\n      <td></td>\n      <td>Compra</td>\n      <td></td>\n      <td>Compra</td>\n      <td></td>\n      <td></td>\n      <td></td>\n      <td></td>\n      <td>Compra</td>\n      <td></td>\n      <td></td>\n      <td></td>\n      <td></td>\n      <td></td>\n      <td></td>\n      <td>123.93</td>\n    </tr>\n    <tr>\n      <th>4</th>\n      <td></td>\n      <td>Compra</td>\n      <td></td>\n      <td>Compra</td>\n      <td></td>\n      <td></td>\n      <td></td>\n      <td></td>\n      <td>Compra</td>\n      <td></td>\n      <td></td>\n      <td></td>\n      <td></td>\n      <td></td>\n      <td></td>\n      <td>125.050003</td>\n    </tr>\n    <tr>\n      <th>...</th>\n      <td>...</td>\n      <td>...</td>\n      <td>...</td>\n      <td>...</td>\n      <td>...</td>\n      <td>...</td>\n      <td>...</td>\n      <td>...</td>\n      <td>...</td>\n      <td>...</td>\n      <td>...</td>\n      <td>...</td>\n      <td>...</td>\n      <td>...</td>\n      <td>...</td>\n      <td>...</td>\n    </tr>\n    <tr>\n      <th>362</th>\n      <td></td>\n      <td></td>\n      <td></td>\n      <td></td>\n      <td></td>\n      <td></td>\n      <td></td>\n      <td></td>\n      <td></td>\n      <td></td>\n      <td></td>\n      <td></td>\n      <td></td>\n      <td></td>\n      <td></td>\n      <td>133.135604</td>\n    </tr>\n    <tr>\n      <th>363</th>\n      <td></td>\n      <td></td>\n      <td></td>\n      <td></td>\n      <td></td>\n      <td></td>\n      <td></td>\n      <td></td>\n      <td></td>\n      <td></td>\n      <td></td>\n      <td></td>\n      <td></td>\n      <td></td>\n      <td></td>\n      <td>132.147094</td>\n    </tr>\n    <tr>\n      <th>364</th>\n      <td></td>\n      <td></td>\n      <td></td>\n      <td></td>\n      <td></td>\n      <td></td>\n      <td></td>\n      <td></td>\n      <td></td>\n      <td></td>\n      <td></td>\n      <td></td>\n      <td></td>\n      <td></td>\n      <td></td>\n      <td>131.880004</td>\n    </tr>\n    <tr>\n      <th>365</th>\n      <td></td>\n      <td></td>\n      <td></td>\n      <td></td>\n      <td></td>\n      <td></td>\n      <td></td>\n      <td></td>\n      <td></td>\n      <td></td>\n      <td></td>\n      <td></td>\n      <td></td>\n      <td></td>\n      <td></td>\n      <td>131.990005</td>\n    </tr>\n    <tr>\n      <th>366</th>\n      <td></td>\n      <td></td>\n      <td></td>\n      <td></td>\n      <td></td>\n      <td></td>\n      <td></td>\n      <td></td>\n      <td></td>\n      <td></td>\n      <td></td>\n      <td></td>\n      <td></td>\n      <td></td>\n      <td></td>\n      <td>132.0</td>\n    </tr>\n  </tbody>\n</table>\n<p>367 rows × 16 columns</p>\n</div>"
     },
     "execution_count": 4,
     "metadata": {},
     "output_type": "execute_result"
    }
   ],
   "source": [
    "df"
   ]
  },
  {
   "cell_type": "code",
   "execution_count": 5,
   "id": "74d301e4",
   "metadata": {
    "ExecuteTime": {
     "end_time": "2024-02-26T05:06:16.204384Z",
     "start_time": "2024-02-26T05:06:16.089239Z"
    }
   },
   "outputs": [
    {
     "name": "stdout",
     "output_type": "stream",
     "text": [
      "El mejor indicador en términos de beneficio es 'RSI'.\n"
     ]
    }
   ],
   "source": [
    "import pandas as pd\n",
    "\n",
    "# Supongamos que tienes un DataFrame llamado 'df' con tus 16 columnas de señales de compra y venta,\n",
    "# y que también tienes una columna 'close' que contiene los precios de cierre de las acciones.\n",
    "\n",
    "# Inicializa variables para mantener el máximo beneficio y la mejor columna\n",
    "max_profit = float('-inf')  # Inicializa el máximo beneficio con un valor negativo infinito\n",
    "best_column = None\n",
    "\n",
    "# Itera sobre cada columna de señales de compra y venta\n",
    "for column in df.columns:\n",
    "    if column == 'close':  # Ignora la columna 'close'\n",
    "        continue\n",
    "    \n",
    "    capital = 1000000  # Capital inicial\n",
    "    position = 0  # Inicialmente, no estamos en una posición\n",
    "    \n",
    "    # Itera sobre cada fila del DataFrame\n",
    "    for index, row in df.iterrows():\n",
    "        signal = row[column]  # Obtiene la señal de compra/venta para la columna actual\n",
    "        close_price = row['close']  # Precio de cierre\n",
    "        \n",
    "        # Lógica de compra y venta\n",
    "        if signal == 'comprar' and position <= 0:\n",
    "            position = 1\n",
    "            entry_price = close_price\n",
    "        elif signal == 'vender' and position >= 0:\n",
    "            if position == 1:\n",
    "                capital *= (close_price / entry_price)  # Calcula el nuevo capital después de vender\n",
    "            position = 0\n",
    "    \n",
    "    # Si quedamos con una posición larga abierta al final del periodo, la cerramos\n",
    "    if position == 1:\n",
    "        capital *= (df['close'].iloc[-1] / entry_price)\n",
    "    \n",
    "    # Calcula el beneficio para esta columna\n",
    "    profit = capital - 10000  # Restamos el capital inicial\n",
    "    \n",
    "    # Compara si el beneficio actual es mayor que el máximo beneficio registrado\n",
    "    if profit > max_profit:\n",
    "        max_profit = profit\n",
    "        best_column = column\n",
    "\n",
    "print(f\"El mejor indicador en términos de beneficio es '{best_column}'.\")"
   ]
  },
  {
   "cell_type": "code",
   "execution_count": 5,
   "id": "9d004778",
   "metadata": {
    "ExecuteTime": {
     "end_time": "2024-02-26T05:06:16.209074Z",
     "start_time": "2024-02-26T05:06:16.205406Z"
    }
   },
   "outputs": [],
   "source": []
  }
 ],
 "metadata": {
  "kernelspec": {
   "display_name": "Python 3 (ipykernel)",
   "language": "python",
   "name": "python3"
  },
  "language_info": {
   "codemirror_mode": {
    "name": "ipython",
    "version": 3
   },
   "file_extension": ".py",
   "mimetype": "text/x-python",
   "name": "python",
   "nbconvert_exporter": "python",
   "pygments_lexer": "ipython3",
   "version": "3.11.4"
  }
 },
 "nbformat": 4,
 "nbformat_minor": 5
}
