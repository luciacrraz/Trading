{
 "cells": [
  {
   "cell_type": "code",
   "execution_count": 2,
   "id": "0fbc80b1",
   "metadata": {
    "ExecuteTime": {
     "end_time": "2024-02-26T04:59:05.459487Z",
     "start_time": "2024-02-26T04:59:03.662731Z"
    }
   },
   "outputs": [],
   "source": [
    "import pandas as pd\n",
    "from itertools import combinations\n",
    "\n",
    "# Creamos un DataFrame de ejemplo\n",
    "data = pd.read_csv(\"../../../data/aapl_1d_train.csv\")\n",
    "data_rsi = pd.read_excel(\"../../../data/1d/RSI_BOS.xlsx\")\n",
    "data_roc = pd.read_excel(\"../../../data/1d/ROC_BOS.xlsx\")\n",
    "data_tsi = pd.read_excel(\"../../../data/1d/TSI_BOS.xlsx\")\n",
    "data_SO = pd.read_excel(\"../../../data/1d/SO_BOS.xlsx\")\n",
    "\n",
    "df = pd.DataFrame()\n",
    "df[\"RSI\"] = data_rsi['Senal_RSI']\n",
    "df[\"ROC\"] = data_roc['Senal_ROC']\n",
    "df[\"TSI\"] = data_tsi['Senal_TSI']\n",
    "df[\"SO\"] = data_SO['Senal_SO']"
   ]
  },
  {
   "cell_type": "code",
   "execution_count": 3,
   "id": "71a156f5",
   "metadata": {
    "ExecuteTime": {
     "end_time": "2024-02-26T04:59:06.065054Z",
     "start_time": "2024-02-26T04:59:05.480521Z"
    }
   },
   "outputs": [],
   "source": [
    "# Definimos las combinaciones posibles de indicadores\n",
    "indicadores = [\"RSI\", \"ROC\", \"TSI\", \"SO\"]\n",
    "combinaciones = []\n",
    "for r in range(1, len(indicadores) + 1):\n",
    "    combinaciones.extend(combinations(indicadores, r))\n",
    "\n",
    "# Creamos las nuevas columnas\n",
    "for comb in combinaciones:\n",
    "    new_column_name = '_'.join(comb)\n",
    "    df[new_column_name] = df[list(comb)].apply(lambda x: ' ' if ' ' in x.values or len(set(x.values)) > 1 else x.values[0], axis=1)\n",
    "\n",
    "df[\"close\"] = data[\"Close\"]\n",
    "df = df.fillna(\" \")"
   ]
  },
  {
   "cell_type": "code",
   "execution_count": 4,
   "id": "17beaf7f",
   "metadata": {
    "ExecuteTime": {
     "end_time": "2024-02-26T04:59:06.083014Z",
     "start_time": "2024-02-26T04:59:06.072851Z"
    }
   },
   "outputs": [
    {
     "data": {
      "text/plain": "        RSI     ROC TSI     SO RSI_ROC RSI_TSI RSI_SO ROC_TSI ROC_SO TSI_SO  \\\n0     Venta  Compra                                                           \n1     Venta   Venta              Venta                                        \n2     Venta   Venta              Venta                                        \n3     Venta   Venta              Venta                                        \n4     Venta   Venta              Venta                                        \n...     ...     ...  ..    ...     ...     ...    ...     ...    ...    ...   \n5266  Venta   Venta      Venta   Venta          Venta          Venta          \n5267  Venta   Venta      Venta   Venta          Venta          Venta          \n5268  Venta   Venta              Venta                                        \n5269  Venta   Venta              Venta                                        \n5270  Venta                                                                   \n\n     RSI_ROC_TSI RSI_ROC_SO RSI_TSI_SO ROC_TSI_SO RSI_ROC_TSI_SO     close  \n0                                                                 111.9328  \n1                                                                 102.5024  \n2                                                                 104.0032  \n3                                                                  94.9984  \n4                                                                  99.5008  \n...          ...        ...        ...        ...            ...       ...  \n5266                  Venta                                       123.7500  \n5267                  Venta                                       124.3800  \n5268                                                              121.7800  \n5269                                                              123.2400  \n5270                                                              122.4100  \n\n[5271 rows x 16 columns]",
      "text/html": "<div>\n<style scoped>\n    .dataframe tbody tr th:only-of-type {\n        vertical-align: middle;\n    }\n\n    .dataframe tbody tr th {\n        vertical-align: top;\n    }\n\n    .dataframe thead th {\n        text-align: right;\n    }\n</style>\n<table border=\"1\" class=\"dataframe\">\n  <thead>\n    <tr style=\"text-align: right;\">\n      <th></th>\n      <th>RSI</th>\n      <th>ROC</th>\n      <th>TSI</th>\n      <th>SO</th>\n      <th>RSI_ROC</th>\n      <th>RSI_TSI</th>\n      <th>RSI_SO</th>\n      <th>ROC_TSI</th>\n      <th>ROC_SO</th>\n      <th>TSI_SO</th>\n      <th>RSI_ROC_TSI</th>\n      <th>RSI_ROC_SO</th>\n      <th>RSI_TSI_SO</th>\n      <th>ROC_TSI_SO</th>\n      <th>RSI_ROC_TSI_SO</th>\n      <th>close</th>\n    </tr>\n  </thead>\n  <tbody>\n    <tr>\n      <th>0</th>\n      <td>Venta</td>\n      <td>Compra</td>\n      <td></td>\n      <td></td>\n      <td></td>\n      <td></td>\n      <td></td>\n      <td></td>\n      <td></td>\n      <td></td>\n      <td></td>\n      <td></td>\n      <td></td>\n      <td></td>\n      <td></td>\n      <td>111.9328</td>\n    </tr>\n    <tr>\n      <th>1</th>\n      <td>Venta</td>\n      <td>Venta</td>\n      <td></td>\n      <td></td>\n      <td>Venta</td>\n      <td></td>\n      <td></td>\n      <td></td>\n      <td></td>\n      <td></td>\n      <td></td>\n      <td></td>\n      <td></td>\n      <td></td>\n      <td></td>\n      <td>102.5024</td>\n    </tr>\n    <tr>\n      <th>2</th>\n      <td>Venta</td>\n      <td>Venta</td>\n      <td></td>\n      <td></td>\n      <td>Venta</td>\n      <td></td>\n      <td></td>\n      <td></td>\n      <td></td>\n      <td></td>\n      <td></td>\n      <td></td>\n      <td></td>\n      <td></td>\n      <td></td>\n      <td>104.0032</td>\n    </tr>\n    <tr>\n      <th>3</th>\n      <td>Venta</td>\n      <td>Venta</td>\n      <td></td>\n      <td></td>\n      <td>Venta</td>\n      <td></td>\n      <td></td>\n      <td></td>\n      <td></td>\n      <td></td>\n      <td></td>\n      <td></td>\n      <td></td>\n      <td></td>\n      <td></td>\n      <td>94.9984</td>\n    </tr>\n    <tr>\n      <th>4</th>\n      <td>Venta</td>\n      <td>Venta</td>\n      <td></td>\n      <td></td>\n      <td>Venta</td>\n      <td></td>\n      <td></td>\n      <td></td>\n      <td></td>\n      <td></td>\n      <td></td>\n      <td></td>\n      <td></td>\n      <td></td>\n      <td></td>\n      <td>99.5008</td>\n    </tr>\n    <tr>\n      <th>...</th>\n      <td>...</td>\n      <td>...</td>\n      <td>...</td>\n      <td>...</td>\n      <td>...</td>\n      <td>...</td>\n      <td>...</td>\n      <td>...</td>\n      <td>...</td>\n      <td>...</td>\n      <td>...</td>\n      <td>...</td>\n      <td>...</td>\n      <td>...</td>\n      <td>...</td>\n      <td>...</td>\n    </tr>\n    <tr>\n      <th>5266</th>\n      <td>Venta</td>\n      <td>Venta</td>\n      <td></td>\n      <td>Venta</td>\n      <td>Venta</td>\n      <td></td>\n      <td>Venta</td>\n      <td></td>\n      <td>Venta</td>\n      <td></td>\n      <td></td>\n      <td>Venta</td>\n      <td></td>\n      <td></td>\n      <td></td>\n      <td>123.7500</td>\n    </tr>\n    <tr>\n      <th>5267</th>\n      <td>Venta</td>\n      <td>Venta</td>\n      <td></td>\n      <td>Venta</td>\n      <td>Venta</td>\n      <td></td>\n      <td>Venta</td>\n      <td></td>\n      <td>Venta</td>\n      <td></td>\n      <td></td>\n      <td>Venta</td>\n      <td></td>\n      <td></td>\n      <td></td>\n      <td>124.3800</td>\n    </tr>\n    <tr>\n      <th>5268</th>\n      <td>Venta</td>\n      <td>Venta</td>\n      <td></td>\n      <td></td>\n      <td>Venta</td>\n      <td></td>\n      <td></td>\n      <td></td>\n      <td></td>\n      <td></td>\n      <td></td>\n      <td></td>\n      <td></td>\n      <td></td>\n      <td></td>\n      <td>121.7800</td>\n    </tr>\n    <tr>\n      <th>5269</th>\n      <td>Venta</td>\n      <td>Venta</td>\n      <td></td>\n      <td></td>\n      <td>Venta</td>\n      <td></td>\n      <td></td>\n      <td></td>\n      <td></td>\n      <td></td>\n      <td></td>\n      <td></td>\n      <td></td>\n      <td></td>\n      <td></td>\n      <td>123.2400</td>\n    </tr>\n    <tr>\n      <th>5270</th>\n      <td>Venta</td>\n      <td></td>\n      <td></td>\n      <td></td>\n      <td></td>\n      <td></td>\n      <td></td>\n      <td></td>\n      <td></td>\n      <td></td>\n      <td></td>\n      <td></td>\n      <td></td>\n      <td></td>\n      <td></td>\n      <td>122.4100</td>\n    </tr>\n  </tbody>\n</table>\n<p>5271 rows × 16 columns</p>\n</div>"
     },
     "execution_count": 4,
     "metadata": {},
     "output_type": "execute_result"
    }
   ],
   "source": [
    "df"
   ]
  },
  {
   "cell_type": "code",
   "execution_count": 5,
   "id": "74d301e4",
   "metadata": {
    "ExecuteTime": {
     "end_time": "2024-02-26T04:59:07.722280Z",
     "start_time": "2024-02-26T04:59:06.083080Z"
    }
   },
   "outputs": [
    {
     "name": "stdout",
     "output_type": "stream",
     "text": [
      "El mejor indicador en términos de beneficio es 'RSI'.\n"
     ]
    }
   ],
   "source": [
    "import pandas as pd\n",
    "\n",
    "# Supongamos que tienes un DataFrame llamado 'df' con tus 16 columnas de señales de compra y venta,\n",
    "# y que también tienes una columna 'close' que contiene los precios de cierre de las acciones.\n",
    "\n",
    "# Inicializa variables para mantener el máximo beneficio y la mejor columna\n",
    "max_profit = float('-inf')  # Inicializa el máximo beneficio con un valor negativo infinito\n",
    "best_column = None\n",
    "\n",
    "# Itera sobre cada columna de señales de compra y venta\n",
    "for column in df.columns:\n",
    "    if column == 'close':  # Ignora la columna 'close'\n",
    "        continue\n",
    "    \n",
    "    capital = 1000000  # Capital inicial\n",
    "    position = 0  # Inicialmente, no estamos en una posición\n",
    "    \n",
    "    # Itera sobre cada fila del DataFrame\n",
    "    for index, row in df.iterrows():\n",
    "        signal = row[column]  # Obtiene la señal de compra/venta para la columna actual\n",
    "        close_price = row['close']  # Precio de cierre\n",
    "        \n",
    "        # Lógica de compra y venta\n",
    "        if signal == 'comprar' and position <= 0:\n",
    "            position = 1\n",
    "            entry_price = close_price\n",
    "        elif signal == 'vender' and position >= 0:\n",
    "            if position == 1:\n",
    "                capital *= (close_price / entry_price)  # Calcula el nuevo capital después de vender\n",
    "            position = 0\n",
    "    \n",
    "    # Si quedamos con una posición larga abierta al final del periodo, la cerramos\n",
    "    if position == 1:\n",
    "        capital *= (df['close'].iloc[-1] / entry_price)\n",
    "    \n",
    "    # Calcula el beneficio para esta columna\n",
    "    profit = capital - 10000  # Restamos el capital inicial\n",
    "    \n",
    "    # Compara si el beneficio actual es mayor que el máximo beneficio registrado\n",
    "    if profit > max_profit:\n",
    "        max_profit = profit\n",
    "        best_column = column\n",
    "\n",
    "print(f\"El mejor indicador en términos de beneficio es '{best_column}'.\")"
   ]
  },
  {
   "cell_type": "code",
   "execution_count": 5,
   "id": "9d004778",
   "metadata": {
    "ExecuteTime": {
     "end_time": "2024-02-26T04:59:07.726392Z",
     "start_time": "2024-02-26T04:59:07.722322Z"
    }
   },
   "outputs": [],
   "source": []
  }
 ],
 "metadata": {
  "kernelspec": {
   "display_name": "Python 3 (ipykernel)",
   "language": "python",
   "name": "python3"
  },
  "language_info": {
   "codemirror_mode": {
    "name": "ipython",
    "version": 3
   },
   "file_extension": ".py",
   "mimetype": "text/x-python",
   "name": "python",
   "nbconvert_exporter": "python",
   "pygments_lexer": "ipython3",
   "version": "3.11.4"
  }
 },
 "nbformat": 4,
 "nbformat_minor": 5
}
