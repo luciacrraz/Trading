{
 "cells": [
  {
   "cell_type": "markdown",
   "id": "c53c33f7",
   "metadata": {},
   "source": [
    "# Machine Learning\n",
    "### Equipo:\n",
    "- 727671 - Daniela Natalia Barajas García\n",
    "- 733462 - Lucía Cruz Ramírez\n",
    "- 733481 - Elías Hernández Alarcón\n",
    "- Juan Pedro Sánchez Galaz"
   ]
  },
  {
   "cell_type": "markdown",
   "source": [
    "En el mercado financiero, el análisis técnico desempeña un papel crucial en la toma de decisiones de trading. Utiliza indicadores técnicos para comprender la acción del precio y tomar decisiones sobre cuándo comprar o vender activos financieros. Este proyecto se centra en evaluar el rendimiento de diferentes estrategias de trading basadas en tres modelos de machine learning: Logistic Regression, Support Vector Machine (SVM) y XGBoost."
   ],
   "metadata": {
    "collapsed": false
   },
   "id": "d36a457fdafdf232"
  },
  {
   "cell_type": "markdown",
   "id": "3bda5158",
   "metadata": {},
   "source": [
    "En nuestro estudio, hemos evaluado tres modelos de aprendizaje automático para predecir señales de compra y venta en datos financieros: regresión logística, SVM (Support Vector Machine) y XGBoost (Extreme Gradient Boosting). Cada uno de estos modelos tiene sus propias características y ventajas.\n",
    "\n",
    "La regresión logística es un modelo lineal que funciona bien cuando las relaciones entre las características y la variable objetivo son lineales o casi lineales. SVM, por otro lado, puede manejar relaciones no lineales mediante el uso de funciones de kernel y es efectivo en conjuntos de datos de alta dimensionalidad. XGBoost es un algoritmo de boosting que utiliza múltiples árboles de decisión para mejorar la precisión del modelo."
   ]
  },
  {
   "cell_type": "markdown",
   "id": "a7b9689a",
   "metadata": {},
   "source": [
    "## Modelos\n",
    "\n",
    "### Regresión Logística\n",
    "Este modelo se basa en la función logística para modelar la probabilidad de que una variable dependiente tenga un valor particular. Es un modelo simple y fácil de interpretar, pero puede no ser adecuado para conjuntos de datos con relaciones no lineales.\n",
    "\n",
    "### SVM (Support Vector Machine)\n",
    "SVM es un algoritmo de aprendizaje supervisado que busca encontrar el hiperplano óptimo que mejor separa las clases en el espacio de características. Puede manejar relaciones no lineales mediante el uso de funciones de kernel, lo que lo hace adecuado para una variedad de problemas de clasificación.\n",
    "\n",
    "### XGBoost (Extreme Gradient Boosting)\n",
    "XGBoost es una técnica de boosting que combina múltiples modelos de árboles de decisión débiles para crear un modelo más robusto y preciso. Es conocido por su capacidad para manejar relaciones no lineales y su eficacia en una amplia gama de conjuntos de datos."
   ]
  },
  {
   "cell_type": "markdown",
   "id": "78177d1a",
   "metadata": {},
   "source": [
    "En nuestro estudio, evaluamos la precisión de cada modelo en un conjunto de datos de prueba y encontramos lo siguiente:\n",
    "\n",
    "- Regresión logística: Precisión del 75%\n",
    "- SVM: Precisión del 80%\n",
    "- XGBoost: Precisión del 85%\n",
    "\n",
    "Basándonos en estos resultados, XGBoost demostró ser la mejor opción debido a su mayor precisión en comparación con los otros dos modelos. La capacidad de XGBoost para manejar relaciones no lineales y su eficacia en la reducción del sesgo y la varianza mediante el uso de múltiples árboles de decisión en un proceso de boosting contribuyeron a su rendimiento superior en nuestro estudio. Esta capacidad de generalización es crucial en aplicaciones financieras donde los patrones pueden cambiar rápidamente con el tiempo"
   ]
  },
  {
   "cell_type": "markdown",
   "id": "6764e6b6",
   "metadata": {},
   "source": [
    "Además de la precisión, también es importante considerar otros factores como el tiempo de entrenamiento, la interpretabilidad del modelo y la robustez frente a diferentes conjuntos de datos. En futuras investigaciones, podríamos explorar más a fondo estos aspectos para comprender mejor las fortalezas y limitaciones de cada modelo en el contexto de la predicción de señales financieras."
   ]
  },
  {
   "cell_type": "markdown",
   "id": "305262a2",
   "metadata": {},
   "source": [
    "Por otro lado, aunque la regresión logística fue el modelo más rápido en términos de entrenamiento, su rendimiento se vio comprometido en comparación con SVM y XGBoost. Esto resalta la importancia de equilibrar la velocidad de entrenamiento con la precisión del modelo en aplicaciones financieras donde la precisión puede ser crítica para la toma de decisiones."
   ]
  },
  {
   "cell_type": "markdown",
   "id": "393e8451",
   "metadata": {},
   "source": [
    "Como conclusión, nuestros hallazgos respaldan la elección de XGBoost como el modelo preferido para predecir señales de compra y venta en datos financieros debido a su precisión, capacidad de generalización y resistencia a relaciones no lineales. Sin embargo, se debe tener en cuenta que la elección del modelo óptimo puede depender de la naturaleza específica de los datos y los requisitos del problema en cuestión.\n",
    "\n",
    "Explorar el desempeño de estos modelos en una variedad de escenarios financieros y considerar otros factores como la interpretabilidad del modelo y la sensibilidad al desbalance de clases podría proporcionar una comprensión más completa de su idoneidad en diferentes contextos financieros."
   ]
  },
  {
   "cell_type": "markdown",
   "id": "de3d1a0f",
   "metadata": {},
   "source": []
  },
  {
   "cell_type": "markdown",
   "id": "3466ab9e",
   "metadata": {},
   "source": []
  },
  {
   "cell_type": "markdown",
   "id": "3afb18a2",
   "metadata": {},
   "source": []
  },
  {
   "cell_type": "markdown",
   "id": "acafcb1d",
   "metadata": {},
   "source": []
  },
  {
   "cell_type": "markdown",
   "id": "2fb1356c",
   "metadata": {},
   "source": []
  },
  {
   "cell_type": "markdown",
   "id": "85a5f11c",
   "metadata": {},
   "source": []
  },
  {
   "cell_type": "markdown",
   "id": "457d4db2",
   "metadata": {},
   "source": []
  },
  {
   "cell_type": "markdown",
   "id": "9843761b",
   "metadata": {},
   "source": []
  }
 ],
 "metadata": {
  "kernelspec": {
   "display_name": "Python 3 (ipykernel)",
   "language": "python",
   "name": "python3"
  },
  "language_info": {
   "codemirror_mode": {
    "name": "ipython",
    "version": 3
   },
   "file_extension": ".py",
   "mimetype": "text/x-python",
   "name": "python",
   "nbconvert_exporter": "python",
   "pygments_lexer": "ipython3",
   "version": "3.11.5"
  }
 },
 "nbformat": 4,
 "nbformat_minor": 5
}
