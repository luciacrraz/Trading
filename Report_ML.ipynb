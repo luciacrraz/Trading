{
 "cells": [
  {
   "cell_type": "markdown",
   "source": [
    "El análisis técnico constituye una pieza fundamental en la toma de decisiones dentro del mercado financiero, proporcionando información crucial para orientar estrategias de trading efectivas. En este contexto, nuestro estudio se centra en la evaluación del rendimiento de diferentes estrategias de trading basadas en cuatro indicadores técnicos ampliamente reconocidos: el Índice de Fuerza Relativa (RSI), la Tasa de Cambio de Retorno (ROC), el Índice de Fuerza Verdadera (TSI) y el Oscilador Estocástico (SO).\n",
    "\n",
    "Estos indicadores, pilares del análisis técnico, permiten interpretar la acción del precio y discernir tendencias en el mercado financiero. Su capacidad para identificar tanto la dirección como la fuerza de las tendencias, facilita la detección de oportunidades óptimas de compra y venta."
   ],
   "metadata": {
    "collapsed": false
   },
   "id": "31096a3bfd10e758"
  },
  {
   "cell_type": "markdown",
   "source": [
    "El objetivo de nuestra investigación es analizar minuciosamente el desempeño de diversas estrategias de trading, empleando backtesting en diferentes intervalos temporales que abarcan desde temporalidades de 1 día hasta 1 minuto. Este enfoque nos permitirá recopilar datos precisos y relevantes, esenciales para fundamentar decisiones estratégicas en el mercado financiero.\n",
    "\n",
    "A lo largo del estudio, se detallará cada indicador técnico junto con la metodología empleada para el backtesting. Posteriormente, se presentarán y analizarán los resultados obtenidos, resaltando las conclusiones más significativas que puedan aportar valor a la práctica del trading."
   ],
   "metadata": {
    "collapsed": false
   },
   "id": "231df18f999fd3fb"
  },
  {
   "cell_type": "markdown",
   "source": [
    "## Teoria\n",
    "En el análisis técnico del mercado financiero, los indicadores RSI (Relative Strength Index), ROC (Rate of Change), Stochastic Oscillator (SO) y TSI (True Strength Index) son fundamentales debido a sus capacidades para identificar tendencias, momentum y posibles puntos de reversión."
   ],
   "metadata": {
    "collapsed": false
   },
   "id": "dbc49a7e85675c1d"
  },
  {
   "cell_type": "markdown",
   "source": [
    "## RSI (Relative Strength Index): \n",
    "Es un indicador de momentum que mide la velocidad y cambio de los movimientos de precios. Identifica condiciones de sobrecompra y sobreventa, indicando una posible reversión bajista cuando está por encima de 70 y una posible reversión alcista cuando está por debajo de 30."
   ],
   "metadata": {
    "collapsed": false
   },
   "id": "1977b567ffcc6814"
  },
  {
   "cell_type": "markdown",
   "source": [
    "### ROC (Rate of Change):\n",
    "Mide el cambio porcentual en el precio de un activo durante un período de tiempo específico. Es útil para detectar posibles puntos de inflexión en la tendencia mediante cambios bruscos en el porcentaje."
   ],
   "metadata": {
    "collapsed": false
   },
   "id": "6f4ffec07bed7600"
  },
  {
   "cell_type": "markdown",
   "source": [
    "### Stochastic Oscillator (SO):\n",
    "Compara el precio de cierre de un activo con su rango de precios durante un período de tiempo específico. Similar al RSI, identifica condiciones de sobrecompra y sobreventa, cruzando ciertos niveles (generalmente 80 para sobrecompra y 20 para sobreventa)."
   ],
   "metadata": {
    "collapsed": false
   },
   "id": "a2b8aa32a8e0e836"
  },
  {
   "cell_type": "markdown",
   "source": [
    "### TSI (True Strength Index): \n",
    "Combina suavizado de precios con suavizado de momentum para identificar tendencias a largo plazo y puntos de reversión. Genera señales de compra o venta al cruzar ciertos niveles y puede identificar divergencias entre el indicador y el precio."
   ],
   "metadata": {
    "collapsed": false
   },
   "id": "1ab3f423c3b2e6af"
  },
  {
   "cell_type": "markdown",
   "source": [
    "Optuna fue seleccionado como herramienta de optimización de hiperparámetros debido a su eficiencia y facilidad de uso. Además, su integración con bibliotecas populares de Python, como Scikit-learn y TensorFlow, lo hace altamente adaptable. Optuna se relacionó con TA-Lib, ya que se utilizó para optimizar los hiperparámetros de modelos basados en los indicadores técnicos calculados con TA-Lib.\n",
    "\n",
    "TA-Lib se utilizó por su amplia variedad de funciones para calcular indicadores técnicos comunes, como RSI y Stochastic Oscillator. Su fiabilidad, precisión y integración con Python la convierten en una herramienta sólida para el análisis técnico y la implementación de estrategias de trading."
   ],
   "metadata": {
    "collapsed": false
   },
   "id": "6901db4d2b45526d"
  },
  {
   "cell_type": "markdown",
   "source": [
    "Se tomó en cuenta una variedad de temporalidades, que abarcan desde intervalos de 1 día hasta 1 minuto y 5 minutos, con el propósito de ajustar las estrategias de trading a diversos horizontes temporales y satisfacer las necesidades específicas de scalping. Este enfoque permite una mayor flexibilidad en la aplicación de las estrategias, ya que cada intervalo de tiempo presenta características únicas en cuanto a la volatilidad y la frecuencia de los movimientos del mercado. Al considerar múltiples temporalidades, se puede obtener una visión más completa del comportamiento del mercado y tomar decisiones más informadas en función de las condiciones específicas del momento."
   ],
   "metadata": {
    "collapsed": false
   },
   "id": "f8045cf10041cdc3"
  },
  {
   "cell_type": "markdown",
   "source": [
    "## Diseño"
   ],
   "metadata": {
    "collapsed": false
   },
   "id": "44fa343cd5cb9616"
  },
  {
   "cell_type": "markdown",
   "source": [
    "La metodología utilizada en este estudio involucró varias etapas cruciales para evaluar el rendimiento de las estrategias de trading. En primer lugar, se exploraron un total de 16 estrategias distintas, las cuales combinaban los cuatro indicadores técnicos mencionados: RSI, ROC, TSI y SO. Esta variedad de estrategias permitió una evaluación exhaustiva de diferentes enfoques para el trading en base a estos indicadores.\n",
    "\n",
    "Posteriormente, se llevó a cabo un proceso de backtesting en cuatro marcos temporales distintos: 1 día, 1 hora, 5 minutos y 1 minuto. Esta diversidad de intervalos temporales proporcionó una visión holística de cómo funcionaban las estrategias en diferentes escalas de tiempo, desde el análisis a largo plazo hasta el intradía."
   ],
   "metadata": {
    "collapsed": false
   },
   "id": "8ef7d7dafd4c46e1"
  },
  {
   "cell_type": "markdown",
   "source": [
    "Para realizar el backtesting, se utilizaron datos históricos del valor de las acciones de Apple (AAPL), abarcando un intervalo de sesiones representativo. Esta selección de datos históricos proporcionó un contexto realista para evaluar el rendimiento de las estrategias, permitiendo obtener resultados más confiables y significativos.\n",
    "\n",
    "Una vez completado el proceso de backtesting, se identificó una estrategia en particular que se centraba únicamente en el uso del indicador RSI. Esta estrategia se seleccionó para un análisis más profundo debido a su desempeño destacado en las pruebas iniciales.\n",
    "\n",
    "Finalmente, se procedió a optimizar los parámetros de la estrategia basada en el indicador RSI en el marco temporal de 1 minuto utilizando la librería de optimización de hiperparámetros Optuna. Esta herramienta proporcionó una forma eficiente y efectiva de encontrar la combinación óptima de parámetros para mejorar el rendimiento de la estrategia en este intervalo temporal específico."
   ],
   "metadata": {
    "collapsed": false
   },
   "id": "b9280a9b23d7feec"
  },
  {
   "cell_type": "markdown",
   "source": [
    "Los parametros obtenidos fueron: \n",
    "\n",
    "n_shares: Este parámetro representa la cantidad de acciones que se comprarán o venderán en cada operación. En el código de optimizacion, establecimos que el mejor numero de n_shares para nuestro modelo de trading era: 39\n",
    "\n",
    "take_profit: Es el nivel de precio al que se venderá una acción para asegurar las ganancias. Si el precio de la acción alcanza este nivel, se cerrará la posición con una ganancia. En el código de optimizacion, establecimos que el mejor numero para el take_proft de nuestro modelo de trading era: 1.05\n",
    "\n",
    "stop_loss: Es el nivel de precio al que se venderá una acción para limitar las pérdidas. Si el precio de la acción cae a este nivel, se cerrará la posición para evitar mayores pérdidas. En el código de optimizacion, establecimos que el mejor numero para el stop_loss de nuestro modelo de trading era: 0.88\n",
    "\n",
    "El umbral del indicador RSI, indicador técnico utilizado en el análisis técnico del mercado financiero que oscila entre 0 y 100 y se utiliza para determinar si un activo financiero está sobrecomprado o sobrevendido en un período de tiempo específico. En el código de optimizacion, establecimos que el mejor numero para el indicador rsi del modelo de trading era: 23"
   ],
   "metadata": {
    "collapsed": false
   },
   "id": "41f7816ce490d7bc"
  },
  {
   "cell_type": "markdown",
   "source": [
    "## Senales de Compra/Venta"
   ],
   "metadata": {
    "collapsed": false
   },
   "id": "608561d2eab55f02"
  },
  {
   "cell_type": "markdown",
   "source": [
    "En el contexto de nuestra estrategia, utilizamos el RSI de manera directa al establecer reglas específicas para comprar y vender acciones. La regla que usamos fue la siguiente:\n",
    "\n",
    "Si el precio actual de las acciones es mayor que el último precio multiplicado por 1.05, entonces se vende.\n",
    "Si el precio actual de las acciones es menor que el último precio multiplicado por 0.88, entonces se compra.\n",
    "Esta estrategia se basa en la suposición de que cuando el precio de las acciones se desvía significativamente del precio anterior, existe una oportunidad para obtener ganancias mediante la venta o la compra, respectivamente. La multiplicación por 1.05 y 0.88 establece umbrales específicos que reflejan una cierta volatilidad y cambio en el precio que puede indicar condiciones de sobrecompra o sobreventa según tu criterio (Estos parametros especificos estan avalados y justificados por nuestro codigo de optimizacion).\n"
   ],
   "metadata": {
    "collapsed": false
   },
   "id": "3db73c51eaca7ae5"
  },
  {
   "cell_type": "markdown",
   "source": [
    "## Resultados\n",
    "Como ya mencionamos, nuestra estrategia puramente se baso en el indicador RSI."
   ],
   "metadata": {
    "collapsed": false
   },
   "id": "899767f92ca102c5"
  },
  {
   "cell_type": "markdown",
   "source": [],
   "metadata": {
    "collapsed": false
   },
   "id": "87d494a97c54028f"
  },
  {
   "cell_type": "markdown",
   "source": [],
   "metadata": {
    "collapsed": false
   },
   "id": "2b52826c4a1b7364"
  }
 ],
 "metadata": {
  "kernelspec": {
   "display_name": "Python 3",
   "language": "python",
   "name": "python3"
  },
  "language_info": {
   "codemirror_mode": {
    "name": "ipython",
    "version": 2
   },
   "file_extension": ".py",
   "mimetype": "text/x-python",
   "name": "python",
   "nbconvert_exporter": "python",
   "pygments_lexer": "ipython2",
   "version": "2.7.6"
  }
 },
 "nbformat": 4,
 "nbformat_minor": 5
}
