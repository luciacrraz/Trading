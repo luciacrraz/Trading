{
 "cells": [
  {
   "cell_type": "markdown",
   "id": "0a320643",
   "metadata": {},
   "source": [
    "\n",
    "### Equipo:\n",
    "- 727671 - Daniela Natalia Barajas García\n",
    "- 733462 - Lucía Cruz Ramírez\n",
    "- 733481 - Elías Hernández Alarcón\n",
    "- 728469 - Juan Pedro Sánchez Galaz"
   ]
  },
  {
   "cell_type": "code",
   "execution_count": 1,
   "id": "16745bf8",
   "metadata": {
    "ExecuteTime": {
     "end_time": "2024-03-10T18:51:25.476114900Z",
     "start_time": "2024-03-10T18:51:24.827088400Z"
    }
   },
   "outputs": [],
   "source": [
    "import pandas as pd"
   ]
  },
  {
   "cell_type": "code",
   "execution_count": 2,
   "id": "196cf1f4",
   "metadata": {
    "ExecuteTime": {
     "end_time": "2024-03-10T18:51:31.553853900Z",
     "start_time": "2024-03-10T18:51:25.480119Z"
    }
   },
   "outputs": [
    {
     "ename": "FileNotFoundError",
     "evalue": "[Errno 2] No such file or directory: '../data/aapl_1d_test.csv'",
     "output_type": "error",
     "traceback": [
      "\u001B[1;31m---------------------------------------------------------------------------\u001B[0m",
      "\u001B[1;31mFileNotFoundError\u001B[0m                         Traceback (most recent call last)",
      "Cell \u001B[1;32mIn[2], line 1\u001B[0m\n\u001B[1;32m----> 1\u001B[0m \u001B[38;5;28;01mfrom\u001B[39;00m \u001B[38;5;21;01mutils\u001B[39;00m\u001B[38;5;21;01m.\u001B[39;00m\u001B[38;5;21;01mutils\u001B[39;00m \u001B[38;5;28;01mimport\u001B[39;00m file_features, buy_signals, sell_signals, plot_buy_sell_signals, backtest, data_fun, plot_operations_history\n\u001B[0;32m      2\u001B[0m file_path \u001B[38;5;241m=\u001B[39m \u001B[38;5;124m\"\u001B[39m\u001B[38;5;124mdata/aapl_1d_test.csv\u001B[39m\u001B[38;5;124m\"\u001B[39m\n",
      "File \u001B[1;32m~\\Desktop\\Trading\\utils\\utils.py:375\u001B[0m\n\u001B[0;32m    373\u001B[0m file_path \u001B[38;5;241m=\u001B[39m \u001B[38;5;124m\"\u001B[39m\u001B[38;5;124m../data/aapl_1d_test.csv\u001B[39m\u001B[38;5;124m\"\u001B[39m\n\u001B[0;32m    374\u001B[0m \u001B[38;5;66;03m# explicar el data set\u001B[39;00m\n\u001B[1;32m--> 375\u001B[0m data_1m_test \u001B[38;5;241m=\u001B[39m pd\u001B[38;5;241m.\u001B[39mread_csv(file_path)\n\u001B[0;32m    376\u001B[0m data_1m_test \u001B[38;5;241m=\u001B[39m data_1m_test\u001B[38;5;241m.\u001B[39mdropna()\n\u001B[0;32m    377\u001B[0m \u001B[38;5;66;03m# grafica de vela del precio close sin hacer nada\u001B[39;00m\n",
      "File \u001B[1;32m~\\anaconda3\\envs\\Trading\\Lib\\site-packages\\pandas\\io\\parsers\\readers.py:1026\u001B[0m, in \u001B[0;36mread_csv\u001B[1;34m(filepath_or_buffer, sep, delimiter, header, names, index_col, usecols, dtype, engine, converters, true_values, false_values, skipinitialspace, skiprows, skipfooter, nrows, na_values, keep_default_na, na_filter, verbose, skip_blank_lines, parse_dates, infer_datetime_format, keep_date_col, date_parser, date_format, dayfirst, cache_dates, iterator, chunksize, compression, thousands, decimal, lineterminator, quotechar, quoting, doublequote, escapechar, comment, encoding, encoding_errors, dialect, on_bad_lines, delim_whitespace, low_memory, memory_map, float_precision, storage_options, dtype_backend)\u001B[0m\n\u001B[0;32m   1013\u001B[0m kwds_defaults \u001B[38;5;241m=\u001B[39m _refine_defaults_read(\n\u001B[0;32m   1014\u001B[0m     dialect,\n\u001B[0;32m   1015\u001B[0m     delimiter,\n\u001B[1;32m   (...)\u001B[0m\n\u001B[0;32m   1022\u001B[0m     dtype_backend\u001B[38;5;241m=\u001B[39mdtype_backend,\n\u001B[0;32m   1023\u001B[0m )\n\u001B[0;32m   1024\u001B[0m kwds\u001B[38;5;241m.\u001B[39mupdate(kwds_defaults)\n\u001B[1;32m-> 1026\u001B[0m \u001B[38;5;28;01mreturn\u001B[39;00m _read(filepath_or_buffer, kwds)\n",
      "File \u001B[1;32m~\\anaconda3\\envs\\Trading\\Lib\\site-packages\\pandas\\io\\parsers\\readers.py:620\u001B[0m, in \u001B[0;36m_read\u001B[1;34m(filepath_or_buffer, kwds)\u001B[0m\n\u001B[0;32m    617\u001B[0m _validate_names(kwds\u001B[38;5;241m.\u001B[39mget(\u001B[38;5;124m\"\u001B[39m\u001B[38;5;124mnames\u001B[39m\u001B[38;5;124m\"\u001B[39m, \u001B[38;5;28;01mNone\u001B[39;00m))\n\u001B[0;32m    619\u001B[0m \u001B[38;5;66;03m# Create the parser.\u001B[39;00m\n\u001B[1;32m--> 620\u001B[0m parser \u001B[38;5;241m=\u001B[39m TextFileReader(filepath_or_buffer, \u001B[38;5;241m*\u001B[39m\u001B[38;5;241m*\u001B[39mkwds)\n\u001B[0;32m    622\u001B[0m \u001B[38;5;28;01mif\u001B[39;00m chunksize \u001B[38;5;129;01mor\u001B[39;00m iterator:\n\u001B[0;32m    623\u001B[0m     \u001B[38;5;28;01mreturn\u001B[39;00m parser\n",
      "File \u001B[1;32m~\\anaconda3\\envs\\Trading\\Lib\\site-packages\\pandas\\io\\parsers\\readers.py:1620\u001B[0m, in \u001B[0;36mTextFileReader.__init__\u001B[1;34m(self, f, engine, **kwds)\u001B[0m\n\u001B[0;32m   1617\u001B[0m     \u001B[38;5;28mself\u001B[39m\u001B[38;5;241m.\u001B[39moptions[\u001B[38;5;124m\"\u001B[39m\u001B[38;5;124mhas_index_names\u001B[39m\u001B[38;5;124m\"\u001B[39m] \u001B[38;5;241m=\u001B[39m kwds[\u001B[38;5;124m\"\u001B[39m\u001B[38;5;124mhas_index_names\u001B[39m\u001B[38;5;124m\"\u001B[39m]\n\u001B[0;32m   1619\u001B[0m \u001B[38;5;28mself\u001B[39m\u001B[38;5;241m.\u001B[39mhandles: IOHandles \u001B[38;5;241m|\u001B[39m \u001B[38;5;28;01mNone\u001B[39;00m \u001B[38;5;241m=\u001B[39m \u001B[38;5;28;01mNone\u001B[39;00m\n\u001B[1;32m-> 1620\u001B[0m \u001B[38;5;28mself\u001B[39m\u001B[38;5;241m.\u001B[39m_engine \u001B[38;5;241m=\u001B[39m \u001B[38;5;28mself\u001B[39m\u001B[38;5;241m.\u001B[39m_make_engine(f, \u001B[38;5;28mself\u001B[39m\u001B[38;5;241m.\u001B[39mengine)\n",
      "File \u001B[1;32m~\\anaconda3\\envs\\Trading\\Lib\\site-packages\\pandas\\io\\parsers\\readers.py:1880\u001B[0m, in \u001B[0;36mTextFileReader._make_engine\u001B[1;34m(self, f, engine)\u001B[0m\n\u001B[0;32m   1878\u001B[0m     \u001B[38;5;28;01mif\u001B[39;00m \u001B[38;5;124m\"\u001B[39m\u001B[38;5;124mb\u001B[39m\u001B[38;5;124m\"\u001B[39m \u001B[38;5;129;01mnot\u001B[39;00m \u001B[38;5;129;01min\u001B[39;00m mode:\n\u001B[0;32m   1879\u001B[0m         mode \u001B[38;5;241m+\u001B[39m\u001B[38;5;241m=\u001B[39m \u001B[38;5;124m\"\u001B[39m\u001B[38;5;124mb\u001B[39m\u001B[38;5;124m\"\u001B[39m\n\u001B[1;32m-> 1880\u001B[0m \u001B[38;5;28mself\u001B[39m\u001B[38;5;241m.\u001B[39mhandles \u001B[38;5;241m=\u001B[39m get_handle(\n\u001B[0;32m   1881\u001B[0m     f,\n\u001B[0;32m   1882\u001B[0m     mode,\n\u001B[0;32m   1883\u001B[0m     encoding\u001B[38;5;241m=\u001B[39m\u001B[38;5;28mself\u001B[39m\u001B[38;5;241m.\u001B[39moptions\u001B[38;5;241m.\u001B[39mget(\u001B[38;5;124m\"\u001B[39m\u001B[38;5;124mencoding\u001B[39m\u001B[38;5;124m\"\u001B[39m, \u001B[38;5;28;01mNone\u001B[39;00m),\n\u001B[0;32m   1884\u001B[0m     compression\u001B[38;5;241m=\u001B[39m\u001B[38;5;28mself\u001B[39m\u001B[38;5;241m.\u001B[39moptions\u001B[38;5;241m.\u001B[39mget(\u001B[38;5;124m\"\u001B[39m\u001B[38;5;124mcompression\u001B[39m\u001B[38;5;124m\"\u001B[39m, \u001B[38;5;28;01mNone\u001B[39;00m),\n\u001B[0;32m   1885\u001B[0m     memory_map\u001B[38;5;241m=\u001B[39m\u001B[38;5;28mself\u001B[39m\u001B[38;5;241m.\u001B[39moptions\u001B[38;5;241m.\u001B[39mget(\u001B[38;5;124m\"\u001B[39m\u001B[38;5;124mmemory_map\u001B[39m\u001B[38;5;124m\"\u001B[39m, \u001B[38;5;28;01mFalse\u001B[39;00m),\n\u001B[0;32m   1886\u001B[0m     is_text\u001B[38;5;241m=\u001B[39mis_text,\n\u001B[0;32m   1887\u001B[0m     errors\u001B[38;5;241m=\u001B[39m\u001B[38;5;28mself\u001B[39m\u001B[38;5;241m.\u001B[39moptions\u001B[38;5;241m.\u001B[39mget(\u001B[38;5;124m\"\u001B[39m\u001B[38;5;124mencoding_errors\u001B[39m\u001B[38;5;124m\"\u001B[39m, \u001B[38;5;124m\"\u001B[39m\u001B[38;5;124mstrict\u001B[39m\u001B[38;5;124m\"\u001B[39m),\n\u001B[0;32m   1888\u001B[0m     storage_options\u001B[38;5;241m=\u001B[39m\u001B[38;5;28mself\u001B[39m\u001B[38;5;241m.\u001B[39moptions\u001B[38;5;241m.\u001B[39mget(\u001B[38;5;124m\"\u001B[39m\u001B[38;5;124mstorage_options\u001B[39m\u001B[38;5;124m\"\u001B[39m, \u001B[38;5;28;01mNone\u001B[39;00m),\n\u001B[0;32m   1889\u001B[0m )\n\u001B[0;32m   1890\u001B[0m \u001B[38;5;28;01massert\u001B[39;00m \u001B[38;5;28mself\u001B[39m\u001B[38;5;241m.\u001B[39mhandles \u001B[38;5;129;01mis\u001B[39;00m \u001B[38;5;129;01mnot\u001B[39;00m \u001B[38;5;28;01mNone\u001B[39;00m\n\u001B[0;32m   1891\u001B[0m f \u001B[38;5;241m=\u001B[39m \u001B[38;5;28mself\u001B[39m\u001B[38;5;241m.\u001B[39mhandles\u001B[38;5;241m.\u001B[39mhandle\n",
      "File \u001B[1;32m~\\anaconda3\\envs\\Trading\\Lib\\site-packages\\pandas\\io\\common.py:873\u001B[0m, in \u001B[0;36mget_handle\u001B[1;34m(path_or_buf, mode, encoding, compression, memory_map, is_text, errors, storage_options)\u001B[0m\n\u001B[0;32m    868\u001B[0m \u001B[38;5;28;01melif\u001B[39;00m \u001B[38;5;28misinstance\u001B[39m(handle, \u001B[38;5;28mstr\u001B[39m):\n\u001B[0;32m    869\u001B[0m     \u001B[38;5;66;03m# Check whether the filename is to be opened in binary mode.\u001B[39;00m\n\u001B[0;32m    870\u001B[0m     \u001B[38;5;66;03m# Binary mode does not support 'encoding' and 'newline'.\u001B[39;00m\n\u001B[0;32m    871\u001B[0m     \u001B[38;5;28;01mif\u001B[39;00m ioargs\u001B[38;5;241m.\u001B[39mencoding \u001B[38;5;129;01mand\u001B[39;00m \u001B[38;5;124m\"\u001B[39m\u001B[38;5;124mb\u001B[39m\u001B[38;5;124m\"\u001B[39m \u001B[38;5;129;01mnot\u001B[39;00m \u001B[38;5;129;01min\u001B[39;00m ioargs\u001B[38;5;241m.\u001B[39mmode:\n\u001B[0;32m    872\u001B[0m         \u001B[38;5;66;03m# Encoding\u001B[39;00m\n\u001B[1;32m--> 873\u001B[0m         handle \u001B[38;5;241m=\u001B[39m \u001B[38;5;28mopen\u001B[39m(\n\u001B[0;32m    874\u001B[0m             handle,\n\u001B[0;32m    875\u001B[0m             ioargs\u001B[38;5;241m.\u001B[39mmode,\n\u001B[0;32m    876\u001B[0m             encoding\u001B[38;5;241m=\u001B[39mioargs\u001B[38;5;241m.\u001B[39mencoding,\n\u001B[0;32m    877\u001B[0m             errors\u001B[38;5;241m=\u001B[39merrors,\n\u001B[0;32m    878\u001B[0m             newline\u001B[38;5;241m=\u001B[39m\u001B[38;5;124m\"\u001B[39m\u001B[38;5;124m\"\u001B[39m,\n\u001B[0;32m    879\u001B[0m         )\n\u001B[0;32m    880\u001B[0m     \u001B[38;5;28;01melse\u001B[39;00m:\n\u001B[0;32m    881\u001B[0m         \u001B[38;5;66;03m# Binary mode\u001B[39;00m\n\u001B[0;32m    882\u001B[0m         handle \u001B[38;5;241m=\u001B[39m \u001B[38;5;28mopen\u001B[39m(handle, ioargs\u001B[38;5;241m.\u001B[39mmode)\n",
      "\u001B[1;31mFileNotFoundError\u001B[0m: [Errno 2] No such file or directory: '../data/aapl_1d_test.csv'"
     ]
    }
   ],
   "source": [
    "from utils.utils import file_features, buy_signals, sell_signals, plot_buy_sell_signals, backtest, data_fun, plot_operations_history\n",
    "file_path = \"data/aapl_1d_test.csv\""
   ]
  },
  {
   "cell_type": "markdown",
   "id": "4c1be245",
   "metadata": {},
   "source": [
    "# Machine Learning"
   ]
  },
  {
   "cell_type": "markdown",
   "id": "651169b0",
   "metadata": {},
   "source": [
    "Nuestro proyecto de análisis de machine learning se centra en la exploración y modelado de conjuntos de validación proporcionados durante las primeras etapas del curso. En particular, nos sumergimos en la información financiera de la empresa AAPL (Apple Inc.), examinando meticulosamente sus datos de precios de cierre, máximos, mínimos, y otros indicadores relevantes."
   ]
  },
  {
   "cell_type": "code",
   "execution_count": null,
   "id": "e698a743",
   "metadata": {
    "ExecuteTime": {
     "start_time": "2024-03-10T17:42:49.384093300Z"
    }
   },
   "outputs": [],
   "source": [
    "data_1m_test = pd.read_csv(file_path)\n",
    "data_1m_test = data_1m_test.dropna()\n",
    "data_1m_test.head()"
   ]
  },
  {
   "cell_type": "markdown",
   "id": "262af5bf",
   "metadata": {},
   "source": [
    "Como podemos observar, los precios de las acciones de Apple han experimentado un rango considerable en un período de casi 700 días, oscilando desde los 120 hasta los 200. Esta variabilidad en el precio sugiere una notable volatilidad en el mercado de acciones de Apple durante este período de tiempo.\n",
    "\n",
    "La volatilidad en los precios de las acciones de Apple indica fluctuaciones significativas en el valor de mercado de la empresa a lo largo del período analizado. Este rango amplio de precios refleja la incertidumbre y la dinámica inherentes al mercado de valores, donde factores económicos, noticias corporativas y condiciones del mercado pueden influir en la percepción de los inversionistas y, por ende, en los precios de las acciones."
   ]
  },
  {
   "cell_type": "code",
   "execution_count": 19,
   "id": "502112af",
   "metadata": {
    "ExecuteTime": {
     "end_time": "2024-03-10T17:42:49.567599200Z",
     "start_time": "2024-03-10T17:42:49.440759100Z"
    }
   },
   "outputs": [
    {
     "ename": "NameError",
     "evalue": "name 'data_1m_test' is not defined",
     "output_type": "error",
     "traceback": [
      "\u001B[1;31m---------------------------------------------------------------------------\u001B[0m",
      "\u001B[1;31mNameError\u001B[0m                                 Traceback (most recent call last)",
      "Cell \u001B[1;32mIn[19], line 1\u001B[0m\n\u001B[1;32m----> 1\u001B[0m data_1m_test[\u001B[38;5;124m'\u001B[39m\u001B[38;5;124mClose\u001B[39m\u001B[38;5;124m'\u001B[39m]\u001B[38;5;241m.\u001B[39mplot()\n",
      "\u001B[1;31mNameError\u001B[0m: name 'data_1m_test' is not defined"
     ]
    }
   ],
   "source": [
    "data_1m_test['Close'].plot()"
   ]
  },
  {
   "cell_type": "markdown",
   "id": "690e961a",
   "metadata": {},
   "source": [
    "## Modelos de Machine Learning"
   ]
  },
  {
   "cell_type": "markdown",
   "id": "2a1e3530",
   "metadata": {},
   "source": [
    "* 1. Logistic Regression:\n",
    "\n",
    "Definición: Logistic Regression es un modelo de clasificación que se emplea para predecir la probabilidad de ocurrencia de un evento binario.\n",
    "Características: Se trata de un modelo lineal que utiliza la función logística para calcular las probabilidades.\n",
    "Hiperparámetros: Entre los hiperparámetros más relevantes se encuentran el parámetro de regularización (C), que controla la fuerza de la regularización, y la técnica de regularización (L1 o L2).\n",
    "Funcionamiento: Logistic Regression calcula la probabilidad de que una instancia pertenezca a una clase utilizando la función logística, y posteriormente aplica un umbral para clasificar las instancias en una clase u otra.\n",
    "\n",
    "* 2. Support Vector Machine (SVM):\n",
    "\n",
    "Definición: SVM es un modelo de aprendizaje supervisado que se utiliza tanto para clasificación como para regresión.\n",
    "Características: SVM busca encontrar el hiperplano que mejor separa las clases en el espacio de características.\n",
    "Hiperparámetros: Entre los hiperparámetros clave se incluyen el tipo de kernel (lineal, polinomial, radial, etc.), el parámetro de regularización (C) y el parámetro del kernel (gamma).\n",
    "Funcionamiento: SVM mapea los datos de entrada a un espacio de características de alta dimensión donde busca encontrar el hiperplano que maximiza el margen entre las clases.\n",
    "\n",
    "* 3. XGBoost:\n",
    "\n",
    "Definición: XGBoost es una implementación de Gradient Boosting que se utiliza ampliamente en competiciones de ciencia de datos y machine learning.\n",
    "Características: XGBoost es altamente eficiente y escalable, y puede manejar conjuntos de datos grandes con millones de instancias y características.\n",
    "Hiperparámetros: Algunos hiperparámetros clave incluyen la tasa de aprendizaje (learning rate), el número de árboles (n_estimators), la profundidad máxima del árbol (max_depth) y la función de pérdida.\n",
    "Funcionamiento: XGBoost funciona mediante la construcción secuencial de árboles de decisión débiles, donde cada árbol se entrena para corregir los errores del modelo anterior."
   ]
  },
  {
   "cell_type": "markdown",
   "id": "98c67958",
   "metadata": {},
   "source": [
    "## Definicion de variables independientes y dependiente"
   ]
  },
  {
   "cell_type": "markdown",
   "id": "d4fe1604",
   "metadata": {},
   "source": [
    "Con los conjuntos de datos proporcionados, se procede a la definición de nuevos dataframes que contienen las variables independientes junto con la variable dependiente (\"response\") para su posterior entrenamiento. Es importante destacar que se generan dos conjuntos de datos distintos: uno referente a las transacciones de compra y no compra, y otro relativo a las transacciones de venta y no venta. "
   ]
  },
  {
   "cell_type": "code",
   "outputs": [],
   "source": [
    "data_test_long = file_features(data_1m_test, ds_type=\"buy\")\n",
    "data_test_buy = file_features(data_1m_test, ds_type=\"sell\")\n",
    "global_buy_signals = buy_signals(data_test_long)\n",
    "global_sell_signals = sell_signals(data_test_buy)"
   ],
   "metadata": {
    "collapsed": false,
    "ExecuteTime": {
     "start_time": "2024-03-10T17:42:49.462619300Z"
    }
   },
   "id": "d46f469e9cc8b723",
   "execution_count": null
  },
  {
   "cell_type": "code",
   "execution_count": 20,
   "id": "01078108",
   "metadata": {
    "ExecuteTime": {
     "start_time": "2024-03-10T17:42:49.551066600Z"
    }
   },
   "outputs": [
    {
     "ename": "NameError",
     "evalue": "name 'plot_buy_sell_signals' is not defined",
     "output_type": "error",
     "traceback": [
      "\u001B[1;31m---------------------------------------------------------------------------\u001B[0m",
      "\u001B[1;31mNameError\u001B[0m                                 Traceback (most recent call last)",
      "Cell \u001B[1;32mIn[20], line 1\u001B[0m\n\u001B[1;32m----> 1\u001B[0m plot_buy_sell_signals(global_buy_signals, global_sell_signals, data_test_long)\n",
      "\u001B[1;31mNameError\u001B[0m: name 'plot_buy_sell_signals' is not defined"
     ]
    }
   ],
   "source": [
    "plot_buy_sell_signals(global_buy_signals, global_sell_signals, data_test_long)"
   ]
  },
  {
   "cell_type": "code",
   "outputs": [
    {
     "ename": "NameError",
     "evalue": "name 'buy_signals' is not defined",
     "output_type": "error",
     "traceback": [
      "\u001B[1;31m---------------------------------------------------------------------------\u001B[0m",
      "\u001B[1;31mNameError\u001B[0m                                 Traceback (most recent call last)",
      "Cell \u001B[1;32mIn[21], line 1\u001B[0m\n\u001B[1;32m----> 1\u001B[0m global_buy_signals \u001B[38;5;241m=\u001B[39m buy_signals(data_test_long)\n\u001B[0;32m      2\u001B[0m global_sell_signals \u001B[38;5;241m=\u001B[39m sell_signals(data_test_buy)\n\u001B[0;32m      3\u001B[0m global_buy_signals\u001B[38;5;241m.\u001B[39mhead()\n",
      "\u001B[1;31mNameError\u001B[0m: name 'buy_signals' is not defined"
     ]
    }
   ],
   "source": [
    "global_buy_signals = buy_signals(data_test_long)\n",
    "global_sell_signals = sell_signals(data_test_buy)\n",
    "global_buy_signals.head()"
   ],
   "metadata": {
    "ExecuteTime": {
     "end_time": "2024-03-10T17:42:49.759190800Z",
     "start_time": "2024-03-10T17:42:49.652612Z"
    }
   },
   "id": "135f45a5",
   "execution_count": 21
  },
  {
   "cell_type": "markdown",
   "source": [
    "Para el análisis de machine learning propuesto, se establece una metodología que se sustenta en los siguientes puntos:\n",
    "    \n",
    "* Variables Independientes y Lagging:\n",
    "\n",
    "La metodología se apoya en variables independientes, específicamente el precio de cierre (close price) de los activos financieros. Se genera un enfoque de lagging, el cual implica la creación de nuevas columnas que contienen información rezagada en el tiempo. Estas columnas con rezagos ayudan a capturar tendencias y patrones temporales en los datos históricos.\n",
    "La inclusión de rezagos en el conjunto de datos es fundamental para mejorar el poder predictivo del modelo. Al considerar información pasada, el modelo puede identificar correlaciones y patrones que podrían afectar el comportamiento futuro de los precios.\n",
    "Indicadores Técnicos CMF y RSI:\n",
    "\n",
    "* Se integran indicadores técnicos clave en el análisis, como el Money Flow Index (CMF) y el Relative Strength Index (RSI).\n",
    "\n",
    "Estos indicadores son herramientas comúnmente utilizadas en el análisis técnico de los mercados financieros.\n",
    "El CMF es un indicador que evalúa el flujo de dinero dentro o fuera de un activo durante un período determinado, ayudando a identificar posibles cambios en la tendencia de precios.\n",
    "Por otro lado, el RSI es un indicador que mide la fuerza y la velocidad del movimiento de los precios, permitiendo identificar condiciones de sobrecompra o sobreventa en un mercado.\n",
    "La inclusión de estos indicadores en el análisis brinda al modelo una perspectiva más amplia sobre la dinámica del mercado y puede ayudar a identificar oportunidades de trading potenciales.\n",
    "Volatilidad:\n",
    "\n",
    "* La volatilidad es un componente crítico en el análisis de los mercados financieros. \n",
    "\n",
    "Se calcula como la medida de la variabilidad de los precios de un activo durante un período de tiempo específico. \n",
    "La inclusión de la volatilidad en el análisis permite al modelo tener en cuenta la incertidumbre y el riesgo asociado con el comportamiento de los precios.\n",
    "Además, la volatilidad puede proporcionar información valiosa sobre la estabilidad y la dirección futura de los precios, lo que contribuye significativamente al poder predictivo del modelo.\n",
    "\n",
    "* Variable dependiente (de respuesta)\n",
    "\n",
    "Para la variable dependiente, la lógica subyacente se estructura de la siguiente manera: al comparar el precio de cierre actual con el precio de cierre de hace 10 días, se determina la acción a seguir en el mercado. Específicamente, si el precio de cierre actual es mayor que el de hace 10 días, se ejecuta una acción de venta; por el contrario, si es menor, se procede con una acción de compra. Este enfoque se aplica de manera análoga tanto para los conjuntos de datos correspondientes a las transacciones de compra como a las de venta. La definición y aplicación de esta lógica constituyen un aspecto crítico en la construcción de modelos de machine learning destinados a la predicción de movimientos financieros."
   ],
   "metadata": {},
   "id": "1ec6547c"
  },
  {
   "cell_type": "code",
   "outputs": [
    {
     "ename": "NameError",
     "evalue": "name 'file_features' is not defined",
     "output_type": "error",
     "traceback": [
      "\u001B[1;31m---------------------------------------------------------------------------\u001B[0m",
      "\u001B[1;31mNameError\u001B[0m                                 Traceback (most recent call last)",
      "Cell \u001B[1;32mIn[22], line 1\u001B[0m\n\u001B[1;32m----> 1\u001B[0m data_test_long \u001B[38;5;241m=\u001B[39m file_features(data_1m_test, ds_type\u001B[38;5;241m=\u001B[39m\u001B[38;5;124m\"\u001B[39m\u001B[38;5;124mbuy\u001B[39m\u001B[38;5;124m\"\u001B[39m)\n\u001B[0;32m      2\u001B[0m data_test_buy \u001B[38;5;241m=\u001B[39m file_features(data_1m_test, ds_type\u001B[38;5;241m=\u001B[39m\u001B[38;5;124m\"\u001B[39m\u001B[38;5;124msell\u001B[39m\u001B[38;5;124m\"\u001B[39m)\n\u001B[0;32m      3\u001B[0m data_test_long\u001B[38;5;241m.\u001B[39mhead()\n",
      "\u001B[1;31mNameError\u001B[0m: name 'file_features' is not defined"
     ]
    }
   ],
   "source": [
    "data_test_long = file_features(data_1m_test, ds_type=\"buy\")\n",
    "data_test_buy = file_features(data_1m_test, ds_type=\"sell\")\n",
    "data_test_long.head()"
   ],
   "metadata": {
    "ExecuteTime": {
     "start_time": "2024-03-10T17:42:49.697819600Z"
    }
   },
   "id": "82afb4f3",
   "execution_count": 22
  },
  {
   "cell_type": "markdown",
   "source": [
    "## Procesamiento y Fine Tuning"
   ],
   "metadata": {},
   "id": "cf7b1f8f"
  },
  {
   "cell_type": "markdown",
   "source": [
    "Tras la definición de la variable dependiente y la lógica de operación establecida, el proyecto de análisis de aprendizaje automático avanza hacia la fase de preparación de datos y ajuste de modelos. Este proceso se inicia con la partición de los conjuntos de datos en conjuntos de entrenamiento y pruebas, lo que proporciona una base sólida para evaluar el rendimiento de los modelos de aprendizaje automático.\n",
    "\n",
    "Una vez divididos los conjuntos de datos, se da inicio al proceso de ajuste de hiperparámetros, también conocido como finetuning. En este contexto, el finetuning implica la optimización de los parámetros de los modelos de aprendizaje automático con el fin de identificar las combinaciones óptimas que maximicen el rendimiento predictivo del modelo.\n",
    "\n",
    "Durante el proceso de finetuning, se exploran y ajustan los hiperparámetros de los modelos, tales como la tasa de aprendizaje, la profundidad del árbol de decisión, el número de vecinos en el algoritmo de vecinos más cercanos, entre otros. Esta exploración exhaustiva permite determinar qué combinaciones de hiperparámetros son más efectivas para cada modelo en particular."
   ],
   "metadata": {},
   "id": "98e6a681"
  },
  {
   "cell_type": "markdown",
   "source": [
    "A continuacion se presenta la grafica de como se ven las opciones de compra o venta ya con los parametros optimos, y la mejor estrategia, esto siguien el precio de cierre de la accion. "
   ],
   "metadata": {},
   "id": "adae0a11"
  },
  {
   "cell_type": "markdown",
   "id": "86ee1fed",
   "metadata": {},
   "source": [
    "## Optimizacion y backtesting"
   ]
  },
  {
   "cell_type": "markdown",
   "id": "3f0bd78f",
   "metadata": {},
   "source": [
    "Una vez se han determinado los mejores parámetros para cada modelo mediante el proceso de finetuning, el proyecto de análisis de aprendizaje automático procede a realizar un proceso de combinaciones con backtesting. Este enfoque busca identificar el mejor modelo y los mejores parámetros a través de la evaluación del rendimiento financiero, específicamente a través del análisis del profit.\n",
    "\n",
    "El backtesting implica la simulación de estrategias de trading utilizando datos históricos para evaluar el rendimiento de cada modelo y sus parámetros optimizados. Durante este proceso, se aplican las estrategias definidas previamente con los conjuntos de datos históricos para determinar su efectividad en términos de rentabilidad financiera.\n",
    "\n",
    "El objetivo principal del backtesting es identificar la estrategia de trading que genere el mayor profit o beneficio. Este profit se calcula a partir de las ganancias y pérdidas generadas por las operaciones realizadas según las señales de compra y venta generadas por cada modelo y sus respectivos parámetros.\n",
    "\n",
    "Al finalizar el proceso de optimización y backtesting, el código proporciona como resultado el mejor modelo, junto con los parámetros óptimos identificados durante el backtesting. Estos resultados representan la estrategia de trading más efectiva y rentable, basada en el análisis histórico de datos y la evaluación de su desempeño financiero."
   ]
  },
  {
   "cell_type": "markdown",
   "id": "2c7aa9db",
   "metadata": {},
   "source": [
    "Se presenta la funcion de backtesting que devuelve los parametros, y la grafica de los primeros 35 datos, ya con la funcion del backtesting y los parametros optimizados obtenidos por el proceso."
   ]
  },
  {
   "cell_type": "code",
   "execution_count": 23,
   "id": "599e785f",
   "metadata": {
    "ExecuteTime": {
     "end_time": "2024-03-10T17:42:49.845305700Z",
     "start_time": "2024-03-10T17:42:49.773106500Z"
    }
   },
   "outputs": [
    {
     "ename": "NameError",
     "evalue": "name 'data_fun' is not defined",
     "output_type": "error",
     "traceback": [
      "\u001B[1;31m---------------------------------------------------------------------------\u001B[0m",
      "\u001B[1;31mNameError\u001B[0m                                 Traceback (most recent call last)",
      "Cell \u001B[1;32mIn[23], line 1\u001B[0m\n\u001B[1;32m----> 1\u001B[0m data_1m \u001B[38;5;241m=\u001B[39m data_fun(file_path)\n\u001B[0;32m      2\u001B[0m portfolio_values, cash_values, operations_history,  \u001B[38;5;241m=\u001B[39m backtest(data_1m, global_buy_signals[\u001B[38;5;124m\"\u001B[39m\u001B[38;5;124mpredicciones_xgboost\u001B[39m\u001B[38;5;124m\"\u001B[39m], global_sell_signals[\u001B[38;5;124m\"\u001B[39m\u001B[38;5;124mpredicciones_xgboost\u001B[39m\u001B[38;5;124m\"\u001B[39m], \u001B[38;5;241m0.88\u001B[39m, \u001B[38;5;241m1.05\u001B[39m, \u001B[38;5;241m39\u001B[39m)\n",
      "\u001B[1;31mNameError\u001B[0m: name 'data_fun' is not defined"
     ]
    }
   ],
   "source": [
    "data_1m = data_fun(file_path)\n",
    "portfolio_values, cash_values, operations_history,  = backtest(data_1m, global_buy_signals[\"predicciones_xgboost\"], global_sell_signals[\"predicciones_xgboost\"], 0.88, 1.05, 39)"
   ]
  },
  {
   "cell_type": "code",
   "execution_count": 24,
   "id": "7e03372f",
   "metadata": {
    "ExecuteTime": {
     "start_time": "2024-03-10T17:42:49.841305400Z"
    }
   },
   "outputs": [
    {
     "ename": "NameError",
     "evalue": "name 'plot_operations_history' is not defined",
     "output_type": "error",
     "traceback": [
      "\u001B[1;31m---------------------------------------------------------------------------\u001B[0m",
      "\u001B[1;31mNameError\u001B[0m                                 Traceback (most recent call last)",
      "Cell \u001B[1;32mIn[24], line 1\u001B[0m\n\u001B[1;32m----> 1\u001B[0m plot_operations \u001B[38;5;241m=\u001B[39m plot_operations_history(operations_history)\n",
      "\u001B[1;31mNameError\u001B[0m: name 'plot_operations_history' is not defined"
     ]
    }
   ],
   "source": [
    "plot_operations = plot_operations_history(operations_history)"
   ]
  }
 ],
 "metadata": {
  "kernelspec": {
   "display_name": "Python 3 (ipykernel)",
   "language": "python",
   "name": "python3"
  },
  "language_info": {
   "codemirror_mode": {
    "name": "ipython",
    "version": 3
   },
   "file_extension": ".py",
   "mimetype": "text/x-python",
   "name": "python",
   "nbconvert_exporter": "python",
   "pygments_lexer": "ipython3",
   "version": "3.11.7"
  }
 },
 "nbformat": 4,
 "nbformat_minor": 5
}
