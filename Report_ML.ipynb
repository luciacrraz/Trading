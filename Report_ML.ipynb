{
 "cells": [
  {
   "cell_type": "code",
   "outputs": [],
   "source": [
    "import mplfinance as mpf\n",
    "import pandas as pd\n",
    "import ta\n",
    "import optuna\n",
    "import time\n",
    "import numpy as np\n",
    "from multiprocessing import Pool\n",
    "from itertools import combinations, chain\n",
    "from sklearn.datasets import load_iris\n",
    "from sklearn.model_selection import train_test_split\n",
    "from sklearn.preprocessing import StandardScaler\n",
    "from sklearn.linear_model import LogisticRegression\n",
    "from sklearn.svm import SVC\n",
    "from xgboost import XGBClassifier\n",
    "from sklearn.metrics import accuracy_score\n",
    "import warnings\n",
    "import matplotlib.pyplot as plt"
   ],
   "metadata": {
    "collapsed": false,
    "ExecuteTime": {
     "end_time": "2024-04-12T06:06:33.206483200Z",
     "start_time": "2024-04-12T06:06:33.191115700Z"
    }
   },
   "id": "c0a958fddbcac457",
   "execution_count": 8
  },
  {
   "cell_type": "code",
<<<<<<< HEAD
=======
<<<<<<< HEAD
   "outputs": [],
   "source": [],
   "metadata": {
    "collapsed": false
   },
   "id": "de3bc2e50b6c1538"
  },
  {
   "cell_type": "code",
   "execution_count": 14,
=======
   "execution_count": null,
>>>>>>> f420d76c458fa117c8cefac2d8a3700f6324d091
   "id": "196cf1f4",
   "metadata": {
    "is_executing": true,
    "ExecuteTime": {
     "start_time": "2024-04-12T05:49:09.726426Z"
    }
   },
>>>>>>> de0c7b1d0ccdfe638b45d1f7c617fe433d24807c
   "outputs": [
    {
     "ename": "ModuleNotFoundError",
     "evalue": "No module named 'distutils'",
     "output_type": "error",
     "traceback": [
      "\u001B[1;31m---------------------------------------------------------------------------\u001B[0m",
      "\u001B[1;31mModuleNotFoundError\u001B[0m                       Traceback (most recent call last)",
      "Cell \u001B[1;32mIn[9], line 1\u001B[0m\n\u001B[1;32m----> 1\u001B[0m \u001B[38;5;28;01mfrom\u001B[39;00m \u001B[38;5;21;01mutils\u001B[39;00m\u001B[38;5;21;01m.\u001B[39;00m\u001B[38;5;21;01mutils\u001B[39;00m \u001B[38;5;28;01mimport\u001B[39;00m plot_candle_chart, file_features, buy_signals_1d, buy_signals_1h, buy_signals_1m, buy_signals_5m\n\u001B[0;32m      2\u001B[0m \u001B[38;5;28;01mfrom\u001B[39;00m \u001B[38;5;21;01mutils\u001B[39;00m\u001B[38;5;21;01m.\u001B[39;00m\u001B[38;5;21;01mutils\u001B[39;00m \u001B[38;5;28;01mimport\u001B[39;00m sell_signals_1d, sell_signals_1h, sell_signals_1m, sell_signals_5m, plot_buy_sell_signals, data_fun\n\u001B[0;32m      3\u001B[0m \u001B[38;5;28;01mfrom\u001B[39;00m \u001B[38;5;21;01mutils\u001B[39;00m\u001B[38;5;21;01m.\u001B[39;00m\u001B[38;5;21;01mutils\u001B[39;00m \u001B[38;5;28;01mimport\u001B[39;00m backtest, plot_operations_history, port_value_plot, plot_cash, cash_portvalue_plot, pasive_portvalue_plot\n",
      "File \u001B[1;32m~\\Documents\\kiwi\\Trading\\utils\\utils.py:18\u001B[0m\n\u001B[0;32m     16\u001B[0m \u001B[38;5;28;01mimport\u001B[39;00m \u001B[38;5;21;01mwarnings\u001B[39;00m\n\u001B[0;32m     17\u001B[0m \u001B[38;5;28;01mimport\u001B[39;00m \u001B[38;5;21;01mmatplotlib\u001B[39;00m\u001B[38;5;21;01m.\u001B[39;00m\u001B[38;5;21;01mpyplot\u001B[39;00m \u001B[38;5;28;01mas\u001B[39;00m \u001B[38;5;21;01mplt\u001B[39;00m\n\u001B[1;32m---> 18\u001B[0m \u001B[38;5;28;01mimport\u001B[39;00m \u001B[38;5;21;01mtensorflow\u001B[39;00m \u001B[38;5;28;01mas\u001B[39;00m \u001B[38;5;21;01mtf\u001B[39;00m\n\u001B[0;32m     19\u001B[0m \u001B[38;5;28;01mfrom\u001B[39;00m \u001B[38;5;21;01msklearn\u001B[39;00m\u001B[38;5;21;01m.\u001B[39;00m\u001B[38;5;21;01mmodel_selection\u001B[39;00m \u001B[38;5;28;01mimport\u001B[39;00m train_test_split\n\u001B[0;32m     20\u001B[0m \u001B[38;5;28;01mfrom\u001B[39;00m \u001B[38;5;21;01mtensorflow\u001B[39;00m\u001B[38;5;21;01m.\u001B[39;00m\u001B[38;5;21;01mkeras\u001B[39;00m\u001B[38;5;21;01m.\u001B[39;00m\u001B[38;5;21;01moptimizers\u001B[39;00m \u001B[38;5;28;01mimport\u001B[39;00m Adam\n",
      "File \u001B[1;32m~\\Documents\\kiwi\\Trading\\venv\\Lib\\site-packages\\tensorflow\\__init__.py:30\u001B[0m\n\u001B[0;32m     15\u001B[0m \u001B[38;5;124;03m\"\"\"\u001B[39;00m\n\u001B[0;32m     16\u001B[0m \u001B[38;5;124;03mTop-level module of TensorFlow. By convention, we refer to this module as\u001B[39;00m\n\u001B[0;32m     17\u001B[0m \u001B[38;5;124;03m`tf` instead of `tensorflow`, following the common practice of importing\u001B[39;00m\n\u001B[1;32m   (...)\u001B[0m\n\u001B[0;32m     26\u001B[0m \u001B[38;5;124;03mthis file with a file generated from [`api_template.__init__.py`](https://www.github.com/tensorflow/tensorflow/blob/master/tensorflow/api_template.__init__.py)\u001B[39;00m\n\u001B[0;32m     27\u001B[0m \u001B[38;5;124;03m\"\"\"\u001B[39;00m\n\u001B[0;32m     28\u001B[0m \u001B[38;5;66;03m# pylint: disable=g-bad-import-order,protected-access,g-import-not-at-top\u001B[39;00m\n\u001B[1;32m---> 30\u001B[0m \u001B[38;5;28;01mimport\u001B[39;00m \u001B[38;5;21;01mdistutils\u001B[39;00m \u001B[38;5;28;01mas\u001B[39;00m \u001B[38;5;21;01m_distutils\u001B[39;00m\n\u001B[0;32m     31\u001B[0m \u001B[38;5;28;01mimport\u001B[39;00m \u001B[38;5;21;01mimportlib\u001B[39;00m\n\u001B[0;32m     32\u001B[0m \u001B[38;5;28;01mimport\u001B[39;00m \u001B[38;5;21;01minspect\u001B[39;00m \u001B[38;5;28;01mas\u001B[39;00m \u001B[38;5;21;01m_inspect\u001B[39;00m\n",
      "\u001B[1;31mModuleNotFoundError\u001B[0m: No module named 'distutils'"
     ]
    }
   ],
   "source": [
    "from utils.utils import plot_candle_chart, file_features, buy_signals_1d, buy_signals_1h, buy_signals_1m, buy_signals_5m\n",
    "from utils.utils import sell_signals_1d, sell_signals_1h, sell_signals_1m, sell_signals_5m, plot_buy_sell_signals, data_fun\n",
    "from utils.utils import backtest, plot_operations_history, port_value_plot, plot_cash, cash_portvalue_plot, pasive_portvalue_plot"
   ],
   "metadata": {
    "collapsed": false,
    "ExecuteTime": {
     "end_time": "2024-04-12T06:06:34.373865200Z",
     "start_time": "2024-04-12T06:06:34.164513300Z"
    }
   },
   "id": "a2179e4f9d2654c7",
   "execution_count": 9
  },
  {
   "cell_type": "markdown",
   "source": [
    "# Machin Learning"
   ],
   "metadata": {
    "collapsed": false
   },
   "id": "d918bc8dd2b68234"
  },
  {
   "cell_type": "markdown",
   "source": [
    "Nuestro proyecto de análisis de machine learning se centra en la exploración y modelado de conjuntos de validación proporcionados durante las primeras etapas del curso. En particular, nos sumergimos en la información financiera de la empresa AAPL (Apple Inc.), examinando meticulosamente sus datos de precios de cierre, máximos, mínimos, y otros indicadores relevantes."
   ],
   "metadata": {
    "collapsed": false
   },
   "id": "553a3a837cb3d406"
  },
  {
   "cell_type": "code",
   "outputs": [],
   "source": [
    "data_1d = data_fun(\"aapl_1d_test.csv\")\n",
    "data_1h = data_fun(\"aapl_1h_test.csv\")\n",
    "data_1m = data_fun(\"aapl_1m_test.csv\")\n",
    "data_5m = data_fun(\"aapl_5m_test.csv\")\n",
    "data_1d.head()"
   ],
   "metadata": {
    "collapsed": false
   },
   "id": "1a7c599c8a284e3b"
  },
  {
   "cell_type": "markdown",
   "source": [
    "    Fecha: Indica la fecha en que se registraron los datos de precios de las acciones de Apple. Es esencial para seguir la evolución del precio a lo largo del tiempo y detectar patrones y tendencias.\n",
    "\n",
    "    Apertura: Es el primer precio al que se negociaron las acciones de Apple en el día. Proporciona una indicación inicial de la dirección en que el precio puede moverse durante la jornada.\n",
    "\n",
    "    Alto: Es el precio más alto alcanzado durante el día de negociación para las acciones de Apple. Indica el máximo alcanzado y la fuerza alcista del mercado.\n",
    "\n",
    "    Bajo: Es el precio más bajo alcanzado durante el día de negociación. Indica el mínimo y la presión de venta en el mercado.\n",
    "\n",
    "    Cierre: Es el último precio al que se negociaron las acciones en el día. Es uno de los más importantes, reflejando el valor final al que los inversores están dispuestos a comprar o vender las acciones.\n",
    "\n",
    "    Cierre Ajustado: Considera eventos corporativos que afecten el precio de las acciones, como divisiones de acciones o dividendos. Ofrece una medida más precisa del rendimiento del precio de las acciones.\n",
    "\n",
    "    Volumen: Indica la cantidad total de acciones de Apple negociadas durante el día. Puede señalar la fuerza detrás de los movimientos de precios: un alto volumen sugiere mayor interés y actividad, mientras que un bajo volumen puede indicar menor participación y volatilidad."
   ],
   "metadata": {
    "collapsed": false
   },
   "id": "463a91754edb871d"
  },
  {
   "cell_type": "code",
   "outputs": [],
   "source": [
    "fig, axs = plt.subplots(4, figsize=(10, 20))\n",
    "data_1d['Close'].plot(ax=axs[0])\n",
    "axs[0].set_title('Gráfico de cierre diario')\n",
    "data_1h['Close'].plot(ax=axs[1])\n",
    "axs[1].set_title('Gráfico de cierre por hora')\n",
    "data_1m['Close'].plot(ax=axs[2])\n",
    "axs[2].set_title('Gráfico de cierre mensual')\n",
    "data_5m['Close'].plot(ax=axs[3])\n",
    "axs[3].set_title('Gráfico de cierre cada 5 minutos')\n",
    "plt.tight_layout()\n",
    "plt.show()"
   ],
   "metadata": {
    "collapsed": false
   },
   "id": "3eed0df3bcee8a5"
  },
  {
   "cell_type": "markdown",
   "source": [
    "Las acciones de Apple (AAPL) han experimentado un crecimiento significativo en las últimas décadas. Desde su salida a bolsa en 1980, el precio de las acciones de Apple ha tenido varias tendencias alcistas y correcciones, pero en general ha mostrado una tendencia ascendente a largo plazo.\n",
    "\n",
    "La variación del precio de las acciones de Apple a menudo está relacionada con el rendimiento de sus productos y la innovación tecnológica. El lanzamiento de nuevos productos exitosos, como el iPhone, iPad, Mac y servicios como Apple Music y Apple TV+, puede impulsar el precio de las acciones."
   ],
   "metadata": {
    "collapsed": false
   },
   "id": "e15f3ce24c59cc3"
  },
  {
   "cell_type": "markdown",
   "source": [
    "## Modelos de Machin Learning"
   ],
   "metadata": {
    "collapsed": false
   },
   "id": "c7e98dbf8677154f"
  },
  {
   "cell_type": "markdown",
   "source": [
    "* 1. Logistic Regression:\n",
    "\n",
    "Definición: Logistic Regression es un modelo de clasificación que se emplea para predecir la probabilidad de ocurrencia de un evento binario.\n",
    "Características: Se trata de un modelo lineal que utiliza la función logística para calcular las probabilidades.\n",
    "Hiperparámetros: Entre los hiperparámetros más relevantes se encuentran el parámetro de regularización (C), que controla la fuerza de la regularización, y la técnica de regularización (L1 o L2).\n",
    "Funcionamiento: Logistic Regression calcula la probabilidad de que una instancia pertenezca a una clase utilizando la función logística, y posteriormente aplica un umbral para clasificar las instancias en una clase u otra.\n",
    "\n",
    "* 2. Support Vector Machine (SVM):\n",
    "\n",
    "Definición: SVM es un modelo de aprendizaje supervisado que se utiliza tanto para clasificación como para regresión.\n",
    "Características: SVM busca encontrar el hiperplano que mejor separa las clases en el espacio de características.\n",
    "Hiperparámetros: Entre los hiperparámetros clave se incluyen el tipo de kernel (lineal, polinomial, radial, etc.), el parámetro de regularización (C) y el parámetro del kernel (gamma).\n",
    "Funcionamiento: SVM mapea los datos de entrada a un espacio de características de alta dimensión donde busca encontrar el hiperplano que maximiza el margen entre las clases.\n",
    "\n",
    "* 3. XGBoost:\n",
    "\n",
    "Definición: XGBoost es una implementación de Gradient Boosting que se utiliza ampliamente en competiciones de ciencia de datos y machine learning.\n",
    "Características: XGBoost es altamente eficiente y escalable, y puede manejar conjuntos de datos grandes con millones de instancias y características.\n",
    "Hiperparámetros: Algunos hiperparámetros clave incluyen la tasa de aprendizaje (learning rate), el número de árboles (n_estimators), la profundidad máxima del árbol (max_depth) y la función de pérdida.\n",
    "Funcionamiento: XGBoost funciona mediante la construcción secuencial de árboles de decisión débiles, donde cada árbol se entrena para corregir los errores del modelo anterior."
   ],
   "metadata": {
    "collapsed": false
   },
   "id": "2c0dbb51f1821cce"
  },
  {
   "cell_type": "markdown",
   "source": [
    "## Definicion de variables independientes y dependiente"
   ],
   "metadata": {
    "collapsed": false
   },
   "id": "8c1d826265db4ba1"
  },
  {
   "cell_type": "markdown",
   "source": [
    "Con los conjuntos de datos proporcionados, se procede a la definición de nuevos dataframes que contienen las variables independientes junto con la variable dependiente (\"response\") para su posterior entrenamiento. Es importante destacar que se generan dos conjuntos de datos distintos: uno referente a las transacciones de compra y no compra, y otro relativo a las transacciones de venta y no venta. "
   ],
   "metadata": {
    "collapsed": false
   },
   "id": "6b2fc1d391c29e7b"
  },
  {
   "cell_type": "code",
   "outputs": [],
   "source": [
    "dataresult_long_1d_test = file_features(\"aapl_1d_test.csv\", ds_type = \"buy\")\n",
    "dataresult_long_1d_test = dataresult_long_1d_test.dropna()\n",
    "dataresult_short_1d_test = file_features(\"aapl_1d_test.csv\", ds_type = \"sell\")\n",
    "dataresult_short_1d_test = dataresult_short_1d_test.dropna()\n",
    "dataresult_short_1d_test.head()"
   ],
   "metadata": {
    "collapsed": false
   },
   "id": "362b24a6a2a73193"
  },
  {
   "cell_type": "code",
   "outputs": [],
   "source": [
    "dataresult_long_1m_test = file_features(\"aapl_1m_test.csv\", ds_type = \"buy\")\n",
    "dataresult_long_1m_test = dataresult_long_1m_test.dropna()\n",
    "dataresult_short_1m_test = file_features(\"aapl_1m_test.csv\", ds_type = \"sell\")\n",
    "dataresult_short_1m_test = dataresult_short_1m_test.dropna()\n",
    "dataresult_short_1m_test.head()"
   ],
   "metadata": {
    "collapsed": false
   },
   "id": "e0df7a5c8ac3d84a"
  },
  {
   "cell_type": "code",
   "outputs": [],
   "source": [
    "dataresult_long_1h_test = file_features(\"aapl_1h_test.csv\", ds_type = \"buy\")\n",
    "dataresult_long_1h_test = dataresult_long_1h_test.dropna()\n",
    "dataresult_short_1h_test = file_features(\"aapl_1h_test.csv\", ds_type = \"sell\")\n",
    "dataresult_short_1h_test = dataresult_short_1h_test.dropna()\n",
    "dataresult_short_1h_test.head()"
   ],
   "metadata": {
    "collapsed": false
   },
   "id": "e13db5110835239c"
  },
  {
   "cell_type": "code",
   "outputs": [],
   "source": [
    "dataresult_long_5m_test = file_features(\"aapl_5m_test.csv\", ds_type = \"buy\")\n",
    "dataresult_long_5m_test = dataresult_long_5m_test.dropna()\n",
    "dataresult_short_5m_test = file_features(\"aapl_5m_test.csv\", ds_type = \"sell\")\n",
    "dataresult_short_5m_test = dataresult_short_5m_test.dropna()\n",
    "dataresult_short_5m_test.head()"
   ],
   "metadata": {
    "collapsed": false
   },
   "id": "d2c396e37c44a6be"
  },
  {
   "cell_type": "markdown",
   "source": [
    "Para el análisis de machine learning propuesto, se establece una metodología que se sustenta en los siguientes puntos:\n",
    "    \n",
    "* Variables Independientes y Lagging:\n",
    "\n",
    "La metodología se apoya en variables independientes, específicamente el precio de cierre (close price) de los activos financieros. Se genera un enfoque de lagging, el cual implica la creación de nuevas columnas que contienen información rezagada en el tiempo. Estas columnas con rezagos ayudan a capturar tendencias y patrones temporales en los datos históricos.\n",
    "La inclusión de rezagos en el conjunto de datos es fundamental para mejorar el poder predictivo del modelo. Al considerar información pasada, el modelo puede identificar correlaciones y patrones que podrían afectar el comportamiento futuro de los precios.\n",
    "Indicadores Técnicos CMF y RSI:\n",
    "\n",
    "* Se integran indicadores técnicos clave en el análisis, como el Money Flow Index (CMF) y el Relative Strength Index (RSI).\n",
    "\n",
    "Estos indicadores son herramientas comúnmente utilizadas en el análisis técnico de los mercados financieros.\n",
    "El CMF es un indicador que evalúa el flujo de dinero dentro o fuera de un activo durante un período determinado, ayudando a identificar posibles cambios en la tendencia de precios.\n",
    "Por otro lado, el RSI es un indicador que mide la fuerza y la velocidad del movimiento de los precios, permitiendo identificar condiciones de sobrecompra o sobreventa en un mercado.\n",
    "La inclusión de estos indicadores en el análisis brinda al modelo una perspectiva más amplia sobre la dinámica del mercado y puede ayudar a identificar oportunidades de trading potenciales.\n",
    "Volatilidad:\n",
    "\n",
    "* La volatilidad es un componente crítico en el análisis de los mercados financieros. \n",
    "\n",
    "Se calcula como la medida de la variabilidad de los precios de un activo durante un período de tiempo específico. \n",
    "La inclusión de la volatilidad en el análisis permite al modelo tener en cuenta la incertidumbre y el riesgo asociado con el comportamiento de los precios.\n",
    "Además, la volatilidad puede proporcionar información valiosa sobre la estabilidad y la dirección futura de los precios, lo que contribuye significativamente al poder predictivo del modelo.\n",
    "\n",
    "* Variable dependiente (de respuesta)\n",
    "\n",
    "Para la variable dependiente, la lógica subyacente se estructura de la siguiente manera: al comparar el precio de cierre actual con el precio de cierre de hace 10 días, se determina la acción a seguir en el mercado. Específicamente, si el precio de cierre actual es mayor que el de hace 10 días, se ejecuta una acción de venta; por el contrario, si es menor, se procede con una acción de compra. Este enfoque se aplica de manera análoga tanto para los conjuntos de datos correspondientes a las transacciones de compra como a las de venta. La definición y aplicación de esta lógica constituyen un aspecto crítico en la construcción de modelos de machine learning destinados a la predicción de movimientos financieros."
   ],
   "metadata": {
    "collapsed": false
   },
   "id": "50a8903ce6f84315"
  },
  {
   "cell_type": "code",
   "outputs": [],
   "source": [
    "global_buy_signals_1d_long = buy_signals_1d(dataresult_long_1d_test)\n",
    "global_sell_signals_1d_short = sell_signals_1d(dataresult_short_1d_test)\n",
    "global_buy_signals_1h_long = buy_signals_1h(dataresult_long_1h_test)\n",
    "global_sell_signals_1h_short = sell_signals_1h(dataresult_short_1h_test)\n",
    "global_buy_signals_1m_long = buy_signals_1m(dataresult_long_1m_test)\n",
    "global_sell_signals_1m_short = sell_signals_1m(dataresult_short_1m_test)\n",
    "global_buy_signals_5m_long = buy_signals_5m(dataresult_long_5m_test)\n",
    "global_sell_signals_5m_short = sell_signals_5m(dataresult_short_5m_test)\n",
    "global_sell_signals_5m_short"
   ],
   "metadata": {
    "collapsed": false
   },
   "id": "a3ec4712801ebda0"
  },
  {
   "cell_type": "markdown",
   "source": [
    "## Procesamiento y Fine Tuning"
   ],
   "metadata": {
    "collapsed": false
   },
   "id": "55a64c3be06a460a"
  },
  {
   "cell_type": "markdown",
   "source": [
    "Tras la definición de la variable dependiente y la lógica de operación establecida, el proyecto de análisis de aprendizaje automático avanza hacia la fase de preparación de datos y ajuste de modelos. Este proceso se inicia con la partición de los conjuntos de datos en conjuntos de entrenamiento y pruebas, lo que proporciona una base sólida para evaluar el rendimiento de los modelos de aprendizaje automático.\n",
    "\n",
    "Una vez divididos los conjuntos de datos, se da inicio al proceso de ajuste de hiperparámetros, también conocido como finetuning. En este contexto, el finetuning implica la optimización de los parámetros de los modelos de aprendizaje automático con el fin de identificar las combinaciones óptimas que maximicen el rendimiento predictivo del modelo.\n",
    "\n",
    "Durante el proceso de finetuning, se exploran y ajustan los hiperparámetros de los modelos, tales como la tasa de aprendizaje, la profundidad del árbol de decisión, el número de vecinos en el algoritmo de vecinos más cercanos, entre otros. Esta exploración exhaustiva permite determinar qué combinaciones de hiperparámetros son más efectivas para cada modelo en particular."
   ],
   "metadata": {
    "collapsed": false
   },
   "id": "b476d14d4f065823"
  },
  {
   "cell_type": "markdown",
   "source": [
    "A continuacion se presenta la grafica de como se ven las opciones de compra o venta ya con los parametros optimos, y la mejor estrategia, esto siguien el precio de cierre de la accion. "
   ],
   "metadata": {
    "collapsed": false
   },
   "id": "dcd85b2e324a7c31"
  },
  {
   "cell_type": "code",
   "outputs": [],
   "source": [
    "plot_buy_sell_signals(global_buy_signals_1d_long, global_sell_signals_1d_short, dataresult_short_1d_test)\n",
    "plot_buy_sell_signals(global_buy_signals_1h_long, global_sell_signals_1h_short, dataresult_short_1h_test)\n",
    "plot_buy_sell_signals(global_buy_signals_1m_long, global_sell_signals_1m_short, dataresult_short_1m_test)\n",
    "plot_buy_sell_signals(global_buy_signals_5m_long, global_sell_signals_5m_short, dataresult_short_5m_test)"
   ],
   "metadata": {
    "collapsed": false
   },
   "id": "4e7421f1ecd1bd8a"
  },
  {
   "cell_type": "markdown",
   "source": [
    "## Optimizacion y backtesting"
   ],
   "metadata": {
    "collapsed": false
   },
   "id": "958dfafc4ac82c64"
  },
  {
   "cell_type": "markdown",
   "source": [
    "Una vez se han determinado los mejores parámetros para cada modelo mediante el proceso de finetuning, el proyecto de análisis de aprendizaje automático procede a realizar un proceso de combinaciones con backtesting. Este enfoque busca identificar el mejor modelo y los mejores parámetros a través de la evaluación del rendimiento financiero, específicamente a través del análisis del profit.\n",
    "\n",
    "El backtesting implica la simulación de estrategias de trading utilizando datos históricos para evaluar el rendimiento de cada modelo y sus parámetros optimizados. Durante este proceso, se aplican las estrategias definidas previamente con los conjuntos de datos históricos para determinar su efectividad en términos de rentabilidad financiera.\n",
    "\n",
    "El objetivo principal del backtesting es identificar la estrategia de trading que genere el mayor profit o beneficio. Este profit se calcula a partir de las ganancias y pérdidas generadas por las operaciones realizadas según las señales de compra y venta generadas por cada modelo y sus respectivos parámetros.\n",
    "\n",
    "Al finalizar el proceso de optimización y backtesting, el código proporciona como resultado el mejor modelo, junto con los parámetros óptimos identificados durante el backtesting. Estos resultados representan la estrategia de trading más efectiva y rentable, basada en el análisis histórico de datos y la evaluación de su desempeño financiero."
   ],
   "metadata": {
    "collapsed": false
   },
   "id": "94b7e89a31e164b"
  },
  {
   "cell_type": "markdown",
   "source": [
    "Se presenta la funcion de backtesting que devuelve los parametros, y la grafica de los primeros 35 datos, ya con la funcion del backtesting y los parametros optimizados obtenidos por el proceso."
   ],
   "metadata": {
    "collapsed": false
   },
   "id": "dab59564cb5413b8"
  },
  {
   "cell_type": "code",
   "outputs": [],
   "source": [
    "portfolio_values_1d, cash_values_1d, operations_history_1d = backtest(data_1d, global_buy_signals_1d_long, global_sell_signals_1d_short, 0.8260391440506059, 1.0994972027471122, 43)\n",
    "portfolio_values_1h, cash_values_1h, operations_history_1h = backtest(data_1h, global_buy_signals_1h_long, global_sell_signals_1h_short, 0.8045410770677325, 1.0999994091707832, 50)\n",
    "portfolio_values_1m, cash_values_1m, operations_history_1m = backtest(data_1m, global_buy_signals_1m_long, global_sell_signals_1m_short, 0.8246899075687136, 1.0966755803337889, 47)\n",
    "portfolio_values_5m, cash_values_5m, operations_history_5m = backtest(data_5m, global_buy_signals_5m_long, global_sell_signals_5m_short, 0.8412379579141974, 1.0997899401664173, 29)"
   ],
   "metadata": {
    "collapsed": false
   },
   "id": "2b7ea8feb32a6567"
  },
  {
   "cell_type": "markdown",
   "source": [
    "Los mejores parametros se muestran anteriormente en la funcion de backtest, mientras que los mejores modelos fueron: \n",
    "\n",
    "    1d: XG\n",
    "    1h: Logistic, XG\n",
    "    1m: XG\n",
    "    5m: XF"
   ],
   "metadata": {
    "collapsed": false
   },
   "id": "dd95fe4ee694b680"
  },
  {
   "cell_type": "code",
   "outputs": [],
   "source": [
    "plot_operations_history(operations_history_1d)\n",
    "plot_operations_history(operations_history_1h)\n",
    "plot_operations_history(operations_history_1m)\n",
    "plot_operations_history(operations_history_5m)"
   ],
   "metadata": {
    "collapsed": false
   },
   "id": "f813a2f2d8dc9320"
  },
  {
   "cell_type": "markdown",
   "source": [
    "## Decisiones con los resultados obtenidos"
   ],
   "metadata": {
    "collapsed": false
   },
   "id": "6586f852fe016aee"
  },
  {
   "cell_type": "markdown",
   "source": [
    "Decidimos usar el dataset de 1 dia, en lugar de los datasets de 1 minuto, 5 minutos y 1 hora, esto se basa en que el accuracy obtenido en los 4 data sets, realmente no es muy diferente como para ser algo significativo, aparte de la eficiencia computacional y la capacidad predictiva: a pesar de que los datasets de alta frecuencia ofrecen una gran cantidad de información detallada sobre la actividad del mercado, su utilización conlleva una complejidad computacional significativa y puede verse afectada por el ruido y la volatilidad del mercado. El dataset de 1 día proporciona una visión más general y consolidada del comportamiento del mercado a lo largo del tiempo, lo que puede facilitar la identificación de tendencias y patrones de largo plazo.\n",
    "\n",
    "El codigo nos arojo que el mejor modelo predictivo fue XGBoost con los parámetros de: \n",
    "\n",
    "n_estimators: 300\n",
    "\n",
    "max_depth: 7\n",
    "\n",
    "learning_rate: 0.01845611375279615\n",
    "\n",
    "subsample: 0.7\n",
    "\n",
    "colsample_bytree: 0.9\n",
    "\n",
    "Estos valores de parámetros se seleccionaron mediante el proceso de optimización y finetuning. XGBoost se destaca por su capacidad para manejar conjuntos de datos grandes, su eficiencia computacional y su capacidad para capturar relaciones no lineales y complejas en los datos, lo que lo hace preferible en muchas aplicaciones de aprendizaje automático.\n",
    "\n",
    "Los parámetros definidos para la estrategia de trading son fundamentales para determinar su efectividad y gestión del riesgo, los resultados obtenidos por el metodo de optuna fueron:\n",
    "\n",
    "stop_loss: 0.899950212993615\n",
    "\n",
    "take_profit: 1.0987292727726978\n",
    "\n",
    "n_shares: 47\n",
    "\n",
    "Estos valores determinan el nivel de riesgo y la rentabilidad esperada de la estrategia de trading. Un stop_loss adecuadamente ajustado puede limitar las pérdidas en caso de movimientos desfavorables del mercado, mientras que un take_profit bien definido puede asegurar las ganancias antes de que se reviertan las tendencias del mercado. La cantidad de shares define el tamaño de cada operación y su impacto en el capital inicial."
   ],
   "metadata": {
    "collapsed": false
   },
   "id": "6cf02a788e48cd36"
  },
  {
   "cell_type": "markdown",
   "source": [
    "Con todo esto, pudimos obtener rendimientos que vamos a presentar un poco mas adelante, sin embargo aqui se muestran las graficas del dinero que teniamos atraves del tiempo, y la grafica del valor del portafolio atraves del tiempo tambien. Como podedmos observar ambas tienen buenos rendimientos y no bajan tanto de valor como podria asumirse con el dinero que tienes al iniciar y como va fluctuando con el tiempo."
   ],
   "metadata": {
    "collapsed": false
   },
   "id": "dd65317b5f344dd2"
  },
  {
   "cell_type": "code",
   "outputs": [],
   "source": [
    "port_value_plot(portfolio_values_1d)\n",
    "port_value_plot(portfolio_values_1h)\n",
    "port_value_plot(portfolio_values_1m)\n",
    "port_value_plot(portfolio_values_5m)"
   ],
   "metadata": {
    "collapsed": false
   },
   "id": "75347041b0f052e4"
  },
  {
   "cell_type": "code",
   "outputs": [],
   "source": [
    "plot_cash(cash_values_1d, 'Efectivo Diario')\n",
    "plot_cash(cash_values_1h, 'Efectivo por Hora')\n",
    "plot_cash(cash_values_1m, 'Efectivo Mensual')\n",
    "plot_cash(cash_values_5m, 'Efectivo cada 5 minutos')"
   ],
   "metadata": {
    "collapsed": false
   },
   "id": "ffe8e53ac4125383"
  },
  {
   "cell_type": "markdown",
   "source": [
    "## Resultados en ganancias"
   ],
   "metadata": {
    "collapsed": false
   },
   "id": "20a7468a91fad444"
  },
  {
   "cell_type": "markdown",
   "source": [
    "El resultado obtenido de nuestro modelo de trading XGBoost, que generó un profit de 1050416.75 con un monto inicial de 1,000,000, revela la efectividad y el potencial de las estrategias basadas en aprendizaje automático en el contexto del mercado financiero. Esta ganancia significativa representa un rendimiento positivo que supera con creces la estrategia pasiva de simplemente mantener el dinero sin arriesgarse."
   ],
   "metadata": {
    "collapsed": false
   },
   "id": "41cd93086d94302"
  },
  {
   "cell_type": "code",
   "outputs": [],
   "source": [
    "cash_portvalue_plot(cash_values_1d, portfolio_values_1d)\n",
    "cash_portvalue_plot(cash_values_1h, portfolio_values_1h)\n",
    "cash_portvalue_plot(cash_values_1m, portfolio_values_1m)\n",
    "cash_portvalue_plot(cash_values_5m, portfolio_values_5m)"
   ],
   "metadata": {
    "collapsed": false
   },
   "id": "3a84cd8ff7c68f0a"
  },
  {
   "cell_type": "markdown",
   "source": [
    "Al comparar el dinero y el valor de portafolio atraves del tiempo, vemos que si tenemos ganancias suficientes para considerar la estrategia como un buen rendimiento."
   ],
   "metadata": {
    "collapsed": false
   },
   "id": "cca78fa2bbed7ee3"
  },
  {
   "cell_type": "code",
   "outputs": [],
   "source": [
    "pasive_portvalue_plot(portfolio_values_1d)\n",
    "pasive_portvalue_plot(portfolio_values_1h)\n",
    "pasive_portvalue_plot(portfolio_values_1m)\n",
    "pasive_portvalue_plot(portfolio_values_5m)"
   ],
   "metadata": {
    "collapsed": false
   },
   "id": "914dc1bc5e550227"
  },
  {
   "cell_type": "markdown",
   "source": [
    "## Conclusiones"
   ],
   "metadata": {
    "collapsed": false
   },
   "id": "9bbc47e6e418dca0"
  },
  {
   "cell_type": "markdown",
   "source": [
    "Eficacia del modelo de trading: La capacidad del modelo XGBoost para generar un profit sustancial demuestra su capacidad para identificar patrones y señales comerciales rentables en los datos históricos del mercado. Este resultado respalda la utilidad y la aplicabilidad de los modelos de aprendizaje automático en la toma de decisiones financieras.\n",
    "\n",
    "Valor del análisis predictivo: El análisis predictivo facilitado por el aprendizaje automático permite a los inversionistas tomar decisiones informadas y estratégicas, lo que resulta en mayores ganancias y un mejor desempeño en comparación con las estrategias pasivas.\n",
    "\n",
    "Ganancias potenciales frente a estrategias conservadoras: La diferencia entre el profit generado por el modelo de trading y las ganancias potenciales de una estrategia pasiva resalta la importancia del riesgo y la recompensa en el mercado financiero. Aunque las estrategias conservadoras pueden ofrecer cierta seguridad, también limitan el potencial de ganancias.\n",
    "\n",
    "Importancia de la optimización y el backtesting: El proceso de optimización de parámetros y el backtesting permiten identificar y validar estrategias comerciales efectivas antes de su implementación en condiciones reales. Estas etapas son fundamentales para mitigar riesgos y maximizar rendimientos en el mercado financiero."
   ],
   "metadata": {
    "collapsed": false
   },
   "id": "8c1d7c8b6e49b49d"
  }
 ],
 "metadata": {
  "kernelspec": {
   "display_name": "Python 3",
   "language": "python",
   "name": "python3"
  },
  "language_info": {
   "codemirror_mode": {
    "name": "ipython",
    "version": 3
   },
   "file_extension": ".py",
   "mimetype": "text/x-python",
   "name": "python",
   "nbconvert_exporter": "python",
   "pygments_lexer": "ipython3",
   "version": "3.8.8"
  }
 },
 "nbformat": 4,
 "nbformat_minor": 5
}
