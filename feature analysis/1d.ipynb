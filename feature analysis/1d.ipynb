{
 "cells": [
  {
   "cell_type": "code",
   "outputs": [],
   "source": [
    "import pandas as pd\n",
    "import matplotlib.pyplot as plt\n",
    "import numpy as np\n"
   ],
   "metadata": {
    "collapsed": false,
    "ExecuteTime": {
     "end_time": "2024-03-07T01:57:07.972981Z",
     "start_time": "2024-03-07T01:57:07.960811Z"
    }
   },
   "id": "705f62a38860b136",
   "execution_count": 5
  },
  {
   "cell_type": "code",
   "outputs": [],
   "source": [
    "data = pd.read_csv(\"../data/aapl_1d_train.csv\")"
   ],
   "metadata": {
    "collapsed": true,
    "ExecuteTime": {
     "end_time": "2024-03-07T01:57:07.985558Z",
     "start_time": "2024-03-07T01:57:07.969019Z"
    }
   },
   "id": "initial_id",
   "execution_count": 6
  },
  {
   "cell_type": "code",
   "outputs": [
    {
     "data": {
      "text/plain": "         Date      Open      High       Low     Close  Adjusted_close  \\\n0  2000-01-03  104.8768  112.5040  101.6848  111.9328          0.8472   \n1  2000-01-04  108.2480  110.6224  101.1920  102.5024          0.7758   \n2  2000-01-05  103.7456  110.5664  102.9952  104.0032          0.7872   \n3  2000-01-06  106.1200  107.0048   94.9984   94.9984          0.7190   \n4  2000-01-07   96.4992  101.0016   95.5024   99.5008          0.7531   \n\n      Volume  \n0  535796800  \n1  512377600  \n2  778321600  \n3  767972800  \n4  460734400  ",
      "text/html": "<div>\n<style scoped>\n    .dataframe tbody tr th:only-of-type {\n        vertical-align: middle;\n    }\n\n    .dataframe tbody tr th {\n        vertical-align: top;\n    }\n\n    .dataframe thead th {\n        text-align: right;\n    }\n</style>\n<table border=\"1\" class=\"dataframe\">\n  <thead>\n    <tr style=\"text-align: right;\">\n      <th></th>\n      <th>Date</th>\n      <th>Open</th>\n      <th>High</th>\n      <th>Low</th>\n      <th>Close</th>\n      <th>Adjusted_close</th>\n      <th>Volume</th>\n    </tr>\n  </thead>\n  <tbody>\n    <tr>\n      <th>0</th>\n      <td>2000-01-03</td>\n      <td>104.8768</td>\n      <td>112.5040</td>\n      <td>101.6848</td>\n      <td>111.9328</td>\n      <td>0.8472</td>\n      <td>535796800</td>\n    </tr>\n    <tr>\n      <th>1</th>\n      <td>2000-01-04</td>\n      <td>108.2480</td>\n      <td>110.6224</td>\n      <td>101.1920</td>\n      <td>102.5024</td>\n      <td>0.7758</td>\n      <td>512377600</td>\n    </tr>\n    <tr>\n      <th>2</th>\n      <td>2000-01-05</td>\n      <td>103.7456</td>\n      <td>110.5664</td>\n      <td>102.9952</td>\n      <td>104.0032</td>\n      <td>0.7872</td>\n      <td>778321600</td>\n    </tr>\n    <tr>\n      <th>3</th>\n      <td>2000-01-06</td>\n      <td>106.1200</td>\n      <td>107.0048</td>\n      <td>94.9984</td>\n      <td>94.9984</td>\n      <td>0.7190</td>\n      <td>767972800</td>\n    </tr>\n    <tr>\n      <th>4</th>\n      <td>2000-01-07</td>\n      <td>96.4992</td>\n      <td>101.0016</td>\n      <td>95.5024</td>\n      <td>99.5008</td>\n      <td>0.7531</td>\n      <td>460734400</td>\n    </tr>\n  </tbody>\n</table>\n</div>"
     },
     "execution_count": 7,
     "metadata": {},
     "output_type": "execute_result"
    }
   ],
   "source": [
    "data.head()"
   ],
   "metadata": {
    "collapsed": false,
    "ExecuteTime": {
     "end_time": "2024-03-07T01:57:07.997086Z",
     "start_time": "2024-03-07T01:57:07.983561Z"
    }
   },
   "id": "8068f816af59017d",
   "execution_count": 7
  },
  {
   "cell_type": "code",
   "outputs": [
    {
     "data": {
      "text/plain": "         Date      Open      High       Low     Close  Adjusted_close  \\\n0  2000-01-03  104.8768  112.5040  101.6848  111.9328          0.8472   \n1  2000-01-04  108.2480  110.6224  101.1920  102.5024          0.7758   \n2  2000-01-05  103.7456  110.5664  102.9952  104.0032          0.7872   \n3  2000-01-06  106.1200  107.0048   94.9984   94.9984          0.7190   \n4  2000-01-07   96.4992  101.0016   95.5024   99.5008          0.7531   \n\n      Volume  High-Low  Close-Change%    MA_3days        y  \n0  535796800   10.8192            NaN         NaN   Vender  \n1  512377600    9.4304      -8.425055         NaN  Comprar  \n2  778321600    7.5712       1.464161  106.146133   Vender  \n3  767972800   12.0064      -8.658195  100.501333  Comprar  \n4  460734400    5.4992       4.739448   99.500800   Vender  ",
      "text/html": "<div>\n<style scoped>\n    .dataframe tbody tr th:only-of-type {\n        vertical-align: middle;\n    }\n\n    .dataframe tbody tr th {\n        vertical-align: top;\n    }\n\n    .dataframe thead th {\n        text-align: right;\n    }\n</style>\n<table border=\"1\" class=\"dataframe\">\n  <thead>\n    <tr style=\"text-align: right;\">\n      <th></th>\n      <th>Date</th>\n      <th>Open</th>\n      <th>High</th>\n      <th>Low</th>\n      <th>Close</th>\n      <th>Adjusted_close</th>\n      <th>Volume</th>\n      <th>High-Low</th>\n      <th>Close-Change%</th>\n      <th>MA_3days</th>\n      <th>y</th>\n    </tr>\n  </thead>\n  <tbody>\n    <tr>\n      <th>0</th>\n      <td>2000-01-03</td>\n      <td>104.8768</td>\n      <td>112.5040</td>\n      <td>101.6848</td>\n      <td>111.9328</td>\n      <td>0.8472</td>\n      <td>535796800</td>\n      <td>10.8192</td>\n      <td>NaN</td>\n      <td>NaN</td>\n      <td>Vender</td>\n    </tr>\n    <tr>\n      <th>1</th>\n      <td>2000-01-04</td>\n      <td>108.2480</td>\n      <td>110.6224</td>\n      <td>101.1920</td>\n      <td>102.5024</td>\n      <td>0.7758</td>\n      <td>512377600</td>\n      <td>9.4304</td>\n      <td>-8.425055</td>\n      <td>NaN</td>\n      <td>Comprar</td>\n    </tr>\n    <tr>\n      <th>2</th>\n      <td>2000-01-05</td>\n      <td>103.7456</td>\n      <td>110.5664</td>\n      <td>102.9952</td>\n      <td>104.0032</td>\n      <td>0.7872</td>\n      <td>778321600</td>\n      <td>7.5712</td>\n      <td>1.464161</td>\n      <td>106.146133</td>\n      <td>Vender</td>\n    </tr>\n    <tr>\n      <th>3</th>\n      <td>2000-01-06</td>\n      <td>106.1200</td>\n      <td>107.0048</td>\n      <td>94.9984</td>\n      <td>94.9984</td>\n      <td>0.7190</td>\n      <td>767972800</td>\n      <td>12.0064</td>\n      <td>-8.658195</td>\n      <td>100.501333</td>\n      <td>Comprar</td>\n    </tr>\n    <tr>\n      <th>4</th>\n      <td>2000-01-07</td>\n      <td>96.4992</td>\n      <td>101.0016</td>\n      <td>95.5024</td>\n      <td>99.5008</td>\n      <td>0.7531</td>\n      <td>460734400</td>\n      <td>5.4992</td>\n      <td>4.739448</td>\n      <td>99.500800</td>\n      <td>Vender</td>\n    </tr>\n  </tbody>\n</table>\n</div>"
     },
     "execution_count": 8,
     "metadata": {},
     "output_type": "execute_result"
    }
   ],
   "source": [
    "# Feature engineering: Calcular la diferencia entre el alto y bajo del día\n",
    "data['High-Low'] = data['High'] - data['Low']\n",
    "\n",
    "# Feature engineering: Calcular el porcentaje de cambio en el precio de cierre\n",
    "data['Close-Change%'] = data['Close'].pct_change() * 100\n",
    "\n",
    "# Feature engineering: Calcular el promedio móvil de 3 días del precio de cierre\n",
    "data['MA_3days'] = data['Close'].rolling(window=3).mean()\n",
    "\n",
    "# Crear la columna 'y' basada en la diferencia entre el cierre de un día y el siguiente\n",
    "data['y'] = data['Close'].diff().shift(-1)\n",
    "\n",
    "# Asignar valores a la columna 'y' categóricamente (comprar, vender, mantener)\n",
    "data['y'] = pd.cut(data['y'], bins=[-float('inf'), 0, float('inf')], labels=['Vender', 'Comprar'])\n",
    "\n",
    "# Imprimir el DataFrame resultante con las nuevas características\n",
    "data.head()\n"
   ],
   "metadata": {
    "collapsed": false,
    "ExecuteTime": {
     "end_time": "2024-03-07T01:57:08.014508Z",
     "start_time": "2024-03-07T01:57:07.997437Z"
    }
   },
   "id": "5dae3b7c0c18c57c",
   "execution_count": 8
  },
  {
   "cell_type": "code",
   "outputs": [],
   "source": [],
   "metadata": {
    "collapsed": false,
    "ExecuteTime": {
     "end_time": "2024-03-07T01:57:08.029119Z",
     "start_time": "2024-03-07T01:57:08.011999Z"
    }
   },
   "id": "8650a5e0b14b2bf9",
   "execution_count": 8
  }
 ],
 "metadata": {
  "kernelspec": {
   "display_name": "Python 3",
   "language": "python",
   "name": "python3"
  },
  "language_info": {
   "codemirror_mode": {
    "name": "ipython",
    "version": 2
   },
   "file_extension": ".py",
   "mimetype": "text/x-python",
   "name": "python",
   "nbconvert_exporter": "python",
   "pygments_lexer": "ipython2",
   "version": "2.7.6"
  }
 },
 "nbformat": 4,
 "nbformat_minor": 5
}
