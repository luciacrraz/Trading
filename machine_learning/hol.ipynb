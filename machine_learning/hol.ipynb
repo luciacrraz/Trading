{
 "cells": [
  {
   "cell_type": "code",
   "execution_count": 1,
   "id": "48634767",
   "metadata": {
    "ExecuteTime": {
     "end_time": "2024-03-08T15:52:30.591601Z",
     "start_time": "2024-03-08T15:52:28.234561Z"
    }
   },
   "outputs": [
    {
     "name": "stdout",
     "output_type": "stream",
     "text": [
      "Intel MKL WARNING: Support of Intel(R) Streaming SIMD Extensions 4.2 (Intel(R) SSE4.2) enabled only processors has been deprecated. Intel oneAPI Math Kernel Library 2025.0 will require Intel(R) Advanced Vector Extensions (Intel(R) AVX) instructions.\n",
      "Intel MKL WARNING: Support of Intel(R) Streaming SIMD Extensions 4.2 (Intel(R) SSE4.2) enabled only processors has been deprecated. Intel oneAPI Math Kernel Library 2025.0 will require Intel(R) Advanced Vector Extensions (Intel(R) AVX) instructions.\n"
     ]
    }
   ],
   "source": [
    "import pandas as pd\n",
    "import ta \n",
    "import optuna \n",
    "import time\n",
    "import numpy as np\n",
    "from multiprocessing import Pool\n",
    "from itertools import combinations, chain \n",
    "from sklearn.datasets import load_iris\n",
    "from sklearn.model_selection import train_test_split\n",
    "from sklearn.preprocessing import StandardScaler\n",
    "from sklearn.linear_model import LogisticRegression\n",
    "from sklearn.svm import SVC\n",
    "from xgboost import XGBClassifier\n",
    "from sklearn.metrics import accuracy_score"
   ]
  },
  {
   "cell_type": "code",
   "outputs": [],
   "source": [
    "data_1d = pd.read_csv(\"../data/aapl_1d_train.csv\")\n",
    "data_1d = data_1d.dropna()"
   ],
   "metadata": {
    "collapsed": false,
    "ExecuteTime": {
     "end_time": "2024-03-08T15:52:30.608311Z",
     "start_time": "2024-03-08T15:52:30.592476Z"
    }
   },
   "id": "53de620ec153039b",
   "execution_count": 2
  },
  {
   "cell_type": "code",
   "outputs": [],
   "source": [
    "data_1h = pd.read_csv(\"../data/aapl_1h_train.csv\")\n",
    "data_1h= data_1h.dropna()"
   ],
   "metadata": {
    "collapsed": false,
    "ExecuteTime": {
     "end_time": "2024-03-08T15:52:30.620244Z",
     "start_time": "2024-03-08T15:52:30.608616Z"
    }
   },
   "id": "d3e5e38789841ce1",
   "execution_count": 3
  },
  {
   "cell_type": "code",
   "outputs": [],
   "source": [
    "data_5m = pd.read_csv(\"../data/aapl_5m_train.csv\")\n",
    "data_5m = data_5m.dropna()"
   ],
   "metadata": {
    "collapsed": false,
    "ExecuteTime": {
     "end_time": "2024-03-08T15:52:30.671911Z",
     "start_time": "2024-03-08T15:52:30.617355Z"
    }
   },
   "id": "e1497ba14f06d99b",
   "execution_count": 4
  },
  {
   "cell_type": "code",
   "execution_count": 5,
   "id": "bd6a19f0",
   "metadata": {
    "ExecuteTime": {
     "end_time": "2024-03-08T15:52:30.678093Z",
     "start_time": "2024-03-08T15:52:30.672077Z"
    }
   },
   "outputs": [],
   "source": [
    "data_1m = pd.read_csv(\"../data/aapl_1m_train.csv\")\n",
    "data_1m = data_1m.dropna()"
   ]
  },
  {
   "cell_type": "code",
   "execution_count": 6,
   "id": "5a5b2716",
   "metadata": {
    "ExecuteTime": {
     "end_time": "2024-03-08T15:52:30.679339Z",
     "start_time": "2024-03-08T15:52:30.676767Z"
    }
   },
   "outputs": [],
   "source": [
    "def powerset(s):\n",
    "    return chain.from_iterable(combinations(s,r) for r in range(1,len(s)+1))"
   ]
  },
  {
   "cell_type": "code",
   "execution_count": 7,
   "id": "804c600e",
   "metadata": {
    "ExecuteTime": {
     "end_time": "2024-03-08T15:52:30.685146Z",
     "start_time": "2024-03-08T15:52:30.681893Z"
    }
   },
   "outputs": [],
   "source": [
    "def file_features(data, ds_type: str):\n",
    "    data1=pd.DataFrame()\n",
    "    #Calcular indicadores tecnicos\n",
    "    cmf_data = ta.volume.ChaikinMoneyFlowIndicator(data.High, data.Low, data.Close, data.Volume, window = 14)\n",
    "    rsi_data = ta.momentum.RSIIndicator(data.Close, window=14)\n",
    "    \n",
    "    data1[\"CMF\"] = cmf_data.chaikin_money_flow()\n",
    "    data1[\"RSI\"] = rsi_data.rsi()\n",
    "    # Calcular la volatilidad\n",
    "    data1['Volatility'] = data['High'] - data['Low']\n",
    "    data1['Close_Lag0'] = data['Close']\n",
    "    # Calcular las tendencias\n",
    "    for i in range(1, 5 + 1):\n",
    "        data1[f'Close_Lag{i}'] = data['Close'].shift(i)\n",
    "    #Variable ded respuesta\n",
    "    if ds_type == \"buy\":\n",
    "        data1['Response'] = (data['Close'] < data['Close'].shift(-10))\n",
    "    else:\n",
    "        data1['Response'] = (data['Close'] > data['Close'].shift(-10))\n",
    "    \n",
    "    data1 = data1.drop(data1.index[:30])\n",
    "    data1 = data1.drop(data1.index[-30:])\n",
    "    data1.reset_index(drop=True, inplace=True)\n",
    "    \n",
    "    return data1"
   ]
  },
  {
   "cell_type": "code",
   "execution_count": 8,
   "id": "a9fc36b0",
   "metadata": {
    "ExecuteTime": {
     "end_time": "2024-03-08T15:52:30.715935Z",
     "start_time": "2024-03-08T15:52:30.695778Z"
    }
   },
   "outputs": [
    {
     "data": {
      "text/plain": "          CMF        RSI  Volatility  Close_Lag0  Close_Lag1  Close_Lag2  \\\n0    0.037057  42.198356    0.650001  119.830001  119.889999  121.150001   \n1    0.110396  44.020547    1.010003  120.059997  119.830001  119.889999   \n2    0.079499  44.875763    0.485000  120.165100  120.059997  119.830001   \n3    0.007440  43.137629    0.790001  119.907699  120.165100  120.059997   \n4    0.016513  37.447391    1.139999  118.970001  119.907699  120.165100   \n..        ...        ...         ...         ...         ...         ...   \n315  0.230007  60.275954    0.309998  131.610000  131.755905  132.080001   \n316  0.129291  55.880925    0.960006  130.960006  131.610000  131.755905   \n317  0.148648  65.063275    2.080490  133.135604  130.960006  131.610000   \n318  0.132043  59.049706    1.350006  132.147094  133.135604  130.960006   \n319  0.057199  57.503207    0.770004  131.880004  132.147094  133.135604   \n\n     Close_Lag3  Close_Lag4  Close_Lag5  Response  \n0    120.699996  120.955001  120.608398      True  \n1    121.150001  120.699996  120.955001      True  \n2    119.889999  121.150001  120.699996      True  \n3    119.830001  119.889999  121.150001      True  \n4    120.059997  119.830001  119.889999      True  \n..          ...         ...         ...       ...  \n315  132.068298  131.389999  131.733795     False  \n316  132.080001  132.068298  131.389999     False  \n317  131.755905  132.080001  132.068298     False  \n318  131.610000  131.755905  132.080001     False  \n319  130.960006  131.610000  131.755905     False  \n\n[320 rows x 10 columns]",
      "text/html": "<div>\n<style scoped>\n    .dataframe tbody tr th:only-of-type {\n        vertical-align: middle;\n    }\n\n    .dataframe tbody tr th {\n        vertical-align: top;\n    }\n\n    .dataframe thead th {\n        text-align: right;\n    }\n</style>\n<table border=\"1\" class=\"dataframe\">\n  <thead>\n    <tr style=\"text-align: right;\">\n      <th></th>\n      <th>CMF</th>\n      <th>RSI</th>\n      <th>Volatility</th>\n      <th>Close_Lag0</th>\n      <th>Close_Lag1</th>\n      <th>Close_Lag2</th>\n      <th>Close_Lag3</th>\n      <th>Close_Lag4</th>\n      <th>Close_Lag5</th>\n      <th>Response</th>\n    </tr>\n  </thead>\n  <tbody>\n    <tr>\n      <th>0</th>\n      <td>0.037057</td>\n      <td>42.198356</td>\n      <td>0.650001</td>\n      <td>119.830001</td>\n      <td>119.889999</td>\n      <td>121.150001</td>\n      <td>120.699996</td>\n      <td>120.955001</td>\n      <td>120.608398</td>\n      <td>True</td>\n    </tr>\n    <tr>\n      <th>1</th>\n      <td>0.110396</td>\n      <td>44.020547</td>\n      <td>1.010003</td>\n      <td>120.059997</td>\n      <td>119.830001</td>\n      <td>119.889999</td>\n      <td>121.150001</td>\n      <td>120.699996</td>\n      <td>120.955001</td>\n      <td>True</td>\n    </tr>\n    <tr>\n      <th>2</th>\n      <td>0.079499</td>\n      <td>44.875763</td>\n      <td>0.485000</td>\n      <td>120.165100</td>\n      <td>120.059997</td>\n      <td>119.830001</td>\n      <td>119.889999</td>\n      <td>121.150001</td>\n      <td>120.699996</td>\n      <td>True</td>\n    </tr>\n    <tr>\n      <th>3</th>\n      <td>0.007440</td>\n      <td>43.137629</td>\n      <td>0.790001</td>\n      <td>119.907699</td>\n      <td>120.165100</td>\n      <td>120.059997</td>\n      <td>119.830001</td>\n      <td>119.889999</td>\n      <td>121.150001</td>\n      <td>True</td>\n    </tr>\n    <tr>\n      <th>4</th>\n      <td>0.016513</td>\n      <td>37.447391</td>\n      <td>1.139999</td>\n      <td>118.970001</td>\n      <td>119.907699</td>\n      <td>120.165100</td>\n      <td>120.059997</td>\n      <td>119.830001</td>\n      <td>119.889999</td>\n      <td>True</td>\n    </tr>\n    <tr>\n      <th>...</th>\n      <td>...</td>\n      <td>...</td>\n      <td>...</td>\n      <td>...</td>\n      <td>...</td>\n      <td>...</td>\n      <td>...</td>\n      <td>...</td>\n      <td>...</td>\n      <td>...</td>\n    </tr>\n    <tr>\n      <th>315</th>\n      <td>0.230007</td>\n      <td>60.275954</td>\n      <td>0.309998</td>\n      <td>131.610000</td>\n      <td>131.755905</td>\n      <td>132.080001</td>\n      <td>132.068298</td>\n      <td>131.389999</td>\n      <td>131.733795</td>\n      <td>False</td>\n    </tr>\n    <tr>\n      <th>316</th>\n      <td>0.129291</td>\n      <td>55.880925</td>\n      <td>0.960006</td>\n      <td>130.960006</td>\n      <td>131.610000</td>\n      <td>131.755905</td>\n      <td>132.080001</td>\n      <td>132.068298</td>\n      <td>131.389999</td>\n      <td>False</td>\n    </tr>\n    <tr>\n      <th>317</th>\n      <td>0.148648</td>\n      <td>65.063275</td>\n      <td>2.080490</td>\n      <td>133.135604</td>\n      <td>130.960006</td>\n      <td>131.610000</td>\n      <td>131.755905</td>\n      <td>132.080001</td>\n      <td>132.068298</td>\n      <td>False</td>\n    </tr>\n    <tr>\n      <th>318</th>\n      <td>0.132043</td>\n      <td>59.049706</td>\n      <td>1.350006</td>\n      <td>132.147094</td>\n      <td>133.135604</td>\n      <td>130.960006</td>\n      <td>131.610000</td>\n      <td>131.755905</td>\n      <td>132.080001</td>\n      <td>False</td>\n    </tr>\n    <tr>\n      <th>319</th>\n      <td>0.057199</td>\n      <td>57.503207</td>\n      <td>0.770004</td>\n      <td>131.880004</td>\n      <td>132.147094</td>\n      <td>133.135604</td>\n      <td>130.960006</td>\n      <td>131.610000</td>\n      <td>131.755905</td>\n      <td>False</td>\n    </tr>\n  </tbody>\n</table>\n<p>320 rows × 10 columns</p>\n</div>"
     },
     "execution_count": 8,
     "metadata": {},
     "output_type": "execute_result"
    }
   ],
   "source": [
    "dataresult_long_1d = file_features(data_1m, ds_type=\"buy\")\n",
    "dataresult_short_1d = file_features(data_1m, ds_type=\"sell\")\n",
    "dataresult_short_1d"
   ]
  },
  {
   "cell_type": "code",
   "execution_count": 9,
   "id": "604de33f",
   "metadata": {
    "ExecuteTime": {
     "end_time": "2024-03-08T15:52:30.721094Z",
     "start_time": "2024-03-08T15:52:30.716837Z"
    }
   },
   "outputs": [],
   "source": [
    "def objective_log_regresor(trial, data):\n",
    "    # Dividir los datos en conjuntos de entrenamiento y prueba\n",
    "    X = data.iloc[:, :-1]\n",
    "    # Selecciona la variable objetivo\n",
    "    y = data.iloc[:, -1]\n",
    "    X_train, X_test, y_train, y_test = train_test_split(X, y, test_size=0.2, shuffle=False)\n",
    "    \n",
    "    # Definir los parámetros a optimizar\n",
    "    penalty = trial.suggest_categorical('penalty', ['l1', 'l2'])\n",
    "    C = trial.suggest_loguniform('C', 0.001, 1000)\n",
    "    solver = trial.suggest_categorical('solver', ['liblinear', 'saga'])\n",
    "\n",
    "    # Crear el modelo de regresión logística con los parámetros sugeridos\n",
    "    model = LogisticRegression(penalty=penalty, C=C, solver=solver, max_iter=10_000, random_state=123)\n",
    "    # Entrenar el modelo\n",
    "    model.fit(X_train, y_train)\n",
    "    # Calcular la precisión en el conjunto de prueba\n",
    "    y_pred = model.predict(X_test)\n",
    "    accuracy = accuracy_score(y_test, y_pred)\n",
    "    return accuracy"
   ]
  },
  {
   "cell_type": "code",
   "execution_count": 10,
   "id": "5fe8b39b",
   "metadata": {
    "ExecuteTime": {
     "end_time": "2024-03-08T15:52:30.750239Z",
     "start_time": "2024-03-08T15:52:30.722280Z"
    }
   },
   "outputs": [],
   "source": [
    "def objective_svm(trial, data):\n",
    "    # Dividir los datos en conjuntos de entrenamiento y prueba\n",
    "    X = data.iloc[:, :-1]\n",
    "    # Selecciona la variable objetivo\n",
    "    y = data.iloc[:, -1]\n",
    "    X_train, X_test, y_train, y_test = train_test_split(X, y, test_size=0.2, shuffle=False)\n",
    "\n",
    "    # Definir los parámetros a optimizar\n",
    "    C = trial.suggest_loguniform('C', 0.001, 1000)\n",
    "    kernel = trial.suggest_categorical('kernel', ['linear', 'poly', 'rbf', 'sigmoid'])\n",
    "    if kernel == 'poly':\n",
    "        degree = trial.suggest_int('degree', 2, 5)\n",
    "    else:\n",
    "        degree = 3  # Valor predeterminado si el kernel no es 'poly'\n",
    "    gamma = trial.suggest_categorical('gamma', ['scale', 'auto']) if kernel in ['rbf', 'poly', 'sigmoid'] else 'scale'\n",
    "    # Crear el modelo SVM con los parámetros sugeridos\n",
    "    model = SVC(C=C, kernel=kernel, degree=degree, gamma=gamma, max_iter=100_000, random_state=123)\n",
    "    # Entrenar el modelo\n",
    "    model.fit(X_train, y_train)\n",
    "    # Calcular la precisión en el conjunto de prueba\n",
    "    y_pred = model.predict(X_test)\n",
    "    accuracy = accuracy_score(y_test, y_pred)\n",
    "    return accuracy"
   ]
  },
  {
   "cell_type": "code",
   "execution_count": 11,
   "id": "eecadda3",
   "metadata": {
    "ExecuteTime": {
     "end_time": "2024-03-08T15:52:30.750993Z",
     "start_time": "2024-03-08T15:52:30.725978Z"
    }
   },
   "outputs": [],
   "source": [
    "def objective_xgboost(trial, data):\n",
    "    data = data.copy()\n",
    "    # Dividir los datos en conjuntos de entrenamiento y prueba\n",
    "    X = data.iloc[:, :-1]\n",
    "    # Selecciona la variable objetivo\n",
    "    y = data.iloc[:, -1]\n",
    "    X_train, X_test, y_train, y_test = train_test_split(X, y, test_size=0.2, shuffle=False)\n",
    "    # Definir los parámetros a optimizar\n",
    "    n_estimators = trial.suggest_int('n_estimators', 100, 1000, step=100)\n",
    "    max_depth = trial.suggest_int('max_depth', 3, 10)\n",
    "    learning_rate = trial.suggest_loguniform('learning_rate', 0.01, 0.5)\n",
    "    subsample = trial.suggest_discrete_uniform('subsample', 0.5, 1.0, 0.1)\n",
    "    colsample_bytree = trial.suggest_discrete_uniform('colsample_bytree', 0.5, 1.0, 0.1)\n",
    "    # Crear el modelo XGBoost con los parámetros sugeridos\n",
    "    model = XGBClassifier(\n",
    "        n_estimators=n_estimators,\n",
    "        max_depth=max_depth,\n",
    "        learning_rate=learning_rate,\n",
    "        subsample=subsample,\n",
    "        colsample_bytree=colsample_bytree,\n",
    "        random_state=123\n",
    "    )\n",
    "    # Entrenar el modelo\n",
    "    model.fit(X_train, y_train)\n",
    "    # Calcular la precisión en el conjunto de prueba\n",
    "    y_pred = model.predict(X_test)\n",
    "    accuracy = accuracy_score(y_test, y_pred)\n",
    "    return accuracy"
   ]
  },
  {
   "cell_type": "code",
   "execution_count": 12,
   "id": "934c7559",
   "metadata": {
    "ExecuteTime": {
     "end_time": "2024-03-08T15:52:30.775293Z",
     "start_time": "2024-03-08T15:52:30.728763Z"
    }
   },
   "outputs": [],
   "source": [
    "def optimize_params_log_regresor(data):\n",
    "    # Crear un estudio Optuna para la optimización\n",
    "    study = optuna.create_study(direction='maximize')\n",
    "    \n",
    "    # Función objetivo con el dataset como parámetro fijo\n",
    "    objective_fn = lambda trial: objective_log_regresor(trial, data)\n",
    "    \n",
    "    # Ejecutar la optimización\n",
    "    study.optimize(objective_fn, n_trials=2)\n",
    "\n",
    "    # Obtener los mejores parámetros\n",
    "    best_params = study.best_params\n",
    "    best_accuracy = study.best_value\n",
    "\n",
    "    return best_params, best_accuracy"
   ]
  },
  {
   "cell_type": "code",
   "execution_count": 13,
   "id": "3cb87b5b",
   "metadata": {
    "ExecuteTime": {
     "end_time": "2024-03-08T15:52:30.776023Z",
     "start_time": "2024-03-08T15:52:30.731427Z"
    }
   },
   "outputs": [],
   "source": [
    "def optimize_params_svm(data):\n",
    "    # Crear un estudio Optuna para la optimización\n",
    "    study = optuna.create_study(direction='maximize')\n",
    "    \n",
    "    # Función objetivo con el dataset como parámetro fijo\n",
    "    objective_fn = lambda trial: objective_svm(trial, data)\n",
    "    \n",
    "    # Ejecutar la optimización\n",
    "    study.optimize(objective_fn, n_trials=2)\n",
    "\n",
    "    # Obtener los mejores parámetros\n",
    "    best_params = study.best_params\n",
    "    best_accuracy = study.best_value\n",
    "\n",
    "    return best_params, best_accuracy"
   ]
  },
  {
   "cell_type": "code",
   "execution_count": 14,
   "id": "111d2162",
   "metadata": {
    "ExecuteTime": {
     "end_time": "2024-03-08T15:52:30.776512Z",
     "start_time": "2024-03-08T15:52:30.733916Z"
    }
   },
   "outputs": [],
   "source": [
    "def optimize_params_xgboost(data):\n",
    "    # Crear un estudio Optuna para la optimización\n",
    "    study = optuna.create_study(direction='maximize')\n",
    "    \n",
    "    # Función objetivo con el dataset como parámetro fijo\n",
    "    objective_fn = lambda trial: objective_xgboost(trial, data)\n",
    "    \n",
    "    # Ejecutar la optimización\n",
    "    study.optimize(objective_fn, n_trials=2)\n",
    "\n",
    "    # Obtener los mejores parámetros\n",
    "    best_params = study.best_params\n",
    "    best_accuracy = study.best_value\n",
    "\n",
    "    return best_params, best_accuracy"
   ]
  },
  {
   "cell_type": "code",
   "execution_count": 15,
   "id": "69ac8749",
   "metadata": {
    "ExecuteTime": {
     "end_time": "2024-03-08T15:52:30.791304Z",
     "start_time": "2024-03-08T15:52:30.736022Z"
    }
   },
   "outputs": [],
   "source": [
    "def optimize_params(data):\n",
    "    # Optimización de regresión logística\n",
    "    best_params_lr, best_accuracy_lr = optimize_params_log_regresor(data)\n",
    "    print(\"Mejores parámetros de regresión logística:\", best_params_lr)\n",
    "    print(\"Precisión del modelo de regresión logística:\", best_accuracy_lr)\n",
    "    # Optimización de SVM\n",
    "    best_params_svm, best_accuracy_svm = optimize_params_svm(data)\n",
    "    print(\"Mejores parámetros de SVM:\", best_params_svm)\n",
    "    print(\"Precisión del modelo de SVM:\", best_accuracy_svm)\n",
    "    # Optimización de XGBoost\n",
    "    best_params_xgb, best_accuracy_xgb = optimize_params_xgboost(data)\n",
    "    print(\"Mejores parámetros de XGBoost:\", best_params_xgb)\n",
    "    print(\"Precisión del modelo de XGBoost:\", best_accuracy_xgb)"
   ]
  },
  {
   "cell_type": "code",
   "execution_count": 16,
   "id": "55bd6a2b",
   "metadata": {
    "ExecuteTime": {
     "end_time": "2024-03-08T15:52:32.617719Z",
     "start_time": "2024-03-08T15:52:30.739145Z"
    }
   },
   "outputs": [
    {
     "name": "stderr",
     "output_type": "stream",
     "text": [
      "[I 2024-03-08 09:52:30,738] A new study created in memory with name: no-name-1a4bbb8a-7055-47d3-8111-bcc02c154b2c\n",
      "/var/folders/x7/frl5my251vx198wg4w_ndzxh0000gn/T/ipykernel_55825/583301789.py:10: FutureWarning: suggest_loguniform has been deprecated in v3.0.0. This feature will be removed in v6.0.0. See https://github.com/optuna/optuna/releases/tag/v3.0.0. Use suggest_float(..., log=True) instead.\n",
      "  C = trial.suggest_loguniform('C', 0.001, 1000)\n",
      "[I 2024-03-08 09:52:30,751] Trial 0 finished with value: 0.765625 and parameters: {'penalty': 'l1', 'C': 0.0023247647259174516, 'solver': 'saga'}. Best is trial 0 with value: 0.765625.\n",
      "/var/folders/x7/frl5my251vx198wg4w_ndzxh0000gn/T/ipykernel_55825/583301789.py:10: FutureWarning: suggest_loguniform has been deprecated in v3.0.0. This feature will be removed in v6.0.0. See https://github.com/optuna/optuna/releases/tag/v3.0.0. Use suggest_float(..., log=True) instead.\n",
      "  C = trial.suggest_loguniform('C', 0.001, 1000)\n",
      "[I 2024-03-08 09:52:30,967] Trial 1 finished with value: 0.3125 and parameters: {'penalty': 'l2', 'C': 304.09600299777014, 'solver': 'saga'}. Best is trial 0 with value: 0.765625.\n",
      "[I 2024-03-08 09:52:30,968] A new study created in memory with name: no-name-96c898f2-f3ed-46c3-b525-c9becfb66070\n",
      "/var/folders/x7/frl5my251vx198wg4w_ndzxh0000gn/T/ipykernel_55825/1519862151.py:9: FutureWarning: suggest_loguniform has been deprecated in v3.0.0. This feature will be removed in v6.0.0. See https://github.com/optuna/optuna/releases/tag/v3.0.0. Use suggest_float(..., log=True) instead.\n",
      "  C = trial.suggest_loguniform('C', 0.001, 1000)\n",
      "[I 2024-03-08 09:52:30,980] Trial 0 finished with value: 0.234375 and parameters: {'C': 237.30645354385865, 'kernel': 'sigmoid', 'gamma': 'auto'}. Best is trial 0 with value: 0.234375.\n",
      "/var/folders/x7/frl5my251vx198wg4w_ndzxh0000gn/T/ipykernel_55825/1519862151.py:9: FutureWarning: suggest_loguniform has been deprecated in v3.0.0. This feature will be removed in v6.0.0. See https://github.com/optuna/optuna/releases/tag/v3.0.0. Use suggest_float(..., log=True) instead.\n",
      "  C = trial.suggest_loguniform('C', 0.001, 1000)\n",
      "[I 2024-03-08 09:52:30,988] Trial 1 finished with value: 0.234375 and parameters: {'C': 1.252084455453242, 'kernel': 'sigmoid', 'gamma': 'scale'}. Best is trial 0 with value: 0.234375.\n",
      "[I 2024-03-08 09:52:30,988] A new study created in memory with name: no-name-13cd3cbb-7612-423e-9a75-879e76e2e97a\n",
      "/var/folders/x7/frl5my251vx198wg4w_ndzxh0000gn/T/ipykernel_55825/3346511705.py:11: FutureWarning: suggest_loguniform has been deprecated in v3.0.0. This feature will be removed in v6.0.0. See https://github.com/optuna/optuna/releases/tag/v3.0.0. Use suggest_float(..., log=True) instead.\n",
      "  learning_rate = trial.suggest_loguniform('learning_rate', 0.01, 0.5)\n",
      "/var/folders/x7/frl5my251vx198wg4w_ndzxh0000gn/T/ipykernel_55825/3346511705.py:12: FutureWarning: suggest_discrete_uniform has been deprecated in v3.0.0. This feature will be removed in v6.0.0. See https://github.com/optuna/optuna/releases/tag/v3.0.0. Use suggest_float(..., step=...) instead.\n",
      "  subsample = trial.suggest_discrete_uniform('subsample', 0.5, 1.0, 0.1)\n",
      "/var/folders/x7/frl5my251vx198wg4w_ndzxh0000gn/T/ipykernel_55825/3346511705.py:13: FutureWarning: suggest_discrete_uniform has been deprecated in v3.0.0. This feature will be removed in v6.0.0. See https://github.com/optuna/optuna/releases/tag/v3.0.0. Use suggest_float(..., step=...) instead.\n",
      "  colsample_bytree = trial.suggest_discrete_uniform('colsample_bytree', 0.5, 1.0, 0.1)\n"
     ]
    },
    {
     "name": "stdout",
     "output_type": "stream",
     "text": [
      "Mejores parámetros de regresión logística: {'penalty': 'l1', 'C': 0.0023247647259174516, 'solver': 'saga'}\n",
      "Precisión del modelo de regresión logística: 0.765625\n",
      "Mejores parámetros de SVM: {'C': 237.30645354385865, 'kernel': 'sigmoid', 'gamma': 'auto'}\n",
      "Precisión del modelo de SVM: 0.234375\n"
     ]
    },
    {
     "name": "stderr",
     "output_type": "stream",
     "text": [
      "[I 2024-03-08 09:52:31,345] Trial 0 finished with value: 0.4375 and parameters: {'n_estimators': 900, 'max_depth': 6, 'learning_rate': 0.49198096684074955, 'subsample': 0.6, 'colsample_bytree': 0.8}. Best is trial 0 with value: 0.4375.\n",
      "/var/folders/x7/frl5my251vx198wg4w_ndzxh0000gn/T/ipykernel_55825/3346511705.py:11: FutureWarning: suggest_loguniform has been deprecated in v3.0.0. This feature will be removed in v6.0.0. See https://github.com/optuna/optuna/releases/tag/v3.0.0. Use suggest_float(..., log=True) instead.\n",
      "  learning_rate = trial.suggest_loguniform('learning_rate', 0.01, 0.5)\n",
      "/var/folders/x7/frl5my251vx198wg4w_ndzxh0000gn/T/ipykernel_55825/3346511705.py:12: FutureWarning: suggest_discrete_uniform has been deprecated in v3.0.0. This feature will be removed in v6.0.0. See https://github.com/optuna/optuna/releases/tag/v3.0.0. Use suggest_float(..., step=...) instead.\n",
      "  subsample = trial.suggest_discrete_uniform('subsample', 0.5, 1.0, 0.1)\n",
      "/var/folders/x7/frl5my251vx198wg4w_ndzxh0000gn/T/ipykernel_55825/3346511705.py:13: FutureWarning: suggest_discrete_uniform has been deprecated in v3.0.0. This feature will be removed in v6.0.0. See https://github.com/optuna/optuna/releases/tag/v3.0.0. Use suggest_float(..., step=...) instead.\n",
      "  colsample_bytree = trial.suggest_discrete_uniform('colsample_bytree', 0.5, 1.0, 0.1)\n",
      "[I 2024-03-08 09:52:31,400] Trial 1 finished with value: 0.4375 and parameters: {'n_estimators': 100, 'max_depth': 8, 'learning_rate': 0.25941791373402096, 'subsample': 0.8, 'colsample_bytree': 0.5}. Best is trial 0 with value: 0.4375.\n",
      "[I 2024-03-08 09:52:31,402] A new study created in memory with name: no-name-4cc5782b-e6f5-4488-bcc3-59224030be56\n",
      "/var/folders/x7/frl5my251vx198wg4w_ndzxh0000gn/T/ipykernel_55825/583301789.py:10: FutureWarning: suggest_loguniform has been deprecated in v3.0.0. This feature will be removed in v6.0.0. See https://github.com/optuna/optuna/releases/tag/v3.0.0. Use suggest_float(..., log=True) instead.\n",
      "  C = trial.suggest_loguniform('C', 0.001, 1000)\n"
     ]
    },
    {
     "name": "stdout",
     "output_type": "stream",
     "text": [
      "Mejores parámetros de XGBoost: {'n_estimators': 900, 'max_depth': 6, 'learning_rate': 0.49198096684074955, 'subsample': 0.6, 'colsample_bytree': 0.8}\n",
      "Precisión del modelo de XGBoost: 0.4375\n"
     ]
    },
    {
     "name": "stderr",
     "output_type": "stream",
     "text": [
      "[I 2024-03-08 09:52:32,192] Trial 0 finished with value: 0.203125 and parameters: {'penalty': 'l1', 'C': 14.91745433837624, 'solver': 'liblinear'}. Best is trial 0 with value: 0.203125.\n",
      "/var/folders/x7/frl5my251vx198wg4w_ndzxh0000gn/T/ipykernel_55825/583301789.py:10: FutureWarning: suggest_loguniform has been deprecated in v3.0.0. This feature will be removed in v6.0.0. See https://github.com/optuna/optuna/releases/tag/v3.0.0. Use suggest_float(..., log=True) instead.\n",
      "  C = trial.suggest_loguniform('C', 0.001, 1000)\n",
      "[I 2024-03-08 09:52:32,204] Trial 1 finished with value: 0.265625 and parameters: {'penalty': 'l2', 'C': 125.59746539838365, 'solver': 'liblinear'}. Best is trial 1 with value: 0.265625.\n",
      "[I 2024-03-08 09:52:32,206] A new study created in memory with name: no-name-880ba328-0996-4134-86ab-cdc4a374a566\n",
      "/var/folders/x7/frl5my251vx198wg4w_ndzxh0000gn/T/ipykernel_55825/1519862151.py:9: FutureWarning: suggest_loguniform has been deprecated in v3.0.0. This feature will be removed in v6.0.0. See https://github.com/optuna/optuna/releases/tag/v3.0.0. Use suggest_float(..., log=True) instead.\n",
      "  C = trial.suggest_loguniform('C', 0.001, 1000)\n",
      "/opt/anaconda3/envs/trading/lib/python3.11/site-packages/sklearn/svm/_base.py:297: ConvergenceWarning: Solver terminated early (max_iter=100000).  Consider pre-processing your data with StandardScaler or MinMaxScaler.\n",
      "  warnings.warn(\n",
      "[I 2024-03-08 09:52:32,252] Trial 0 finished with value: 0.3125 and parameters: {'C': 19.902738975695588, 'kernel': 'linear'}. Best is trial 0 with value: 0.3125.\n",
      "/var/folders/x7/frl5my251vx198wg4w_ndzxh0000gn/T/ipykernel_55825/1519862151.py:9: FutureWarning: suggest_loguniform has been deprecated in v3.0.0. This feature will be removed in v6.0.0. See https://github.com/optuna/optuna/releases/tag/v3.0.0. Use suggest_float(..., log=True) instead.\n",
      "  C = trial.suggest_loguniform('C', 0.001, 1000)\n",
      "[I 2024-03-08 09:52:32,261] Trial 1 finished with value: 0.21875 and parameters: {'C': 0.015778637525842715, 'kernel': 'rbf', 'gamma': 'scale'}. Best is trial 0 with value: 0.3125.\n",
      "[I 2024-03-08 09:52:32,262] A new study created in memory with name: no-name-c0644947-5247-4184-ad55-d37b9475c68d\n",
      "/var/folders/x7/frl5my251vx198wg4w_ndzxh0000gn/T/ipykernel_55825/3346511705.py:11: FutureWarning: suggest_loguniform has been deprecated in v3.0.0. This feature will be removed in v6.0.0. See https://github.com/optuna/optuna/releases/tag/v3.0.0. Use suggest_float(..., log=True) instead.\n",
      "  learning_rate = trial.suggest_loguniform('learning_rate', 0.01, 0.5)\n",
      "/var/folders/x7/frl5my251vx198wg4w_ndzxh0000gn/T/ipykernel_55825/3346511705.py:12: FutureWarning: suggest_discrete_uniform has been deprecated in v3.0.0. This feature will be removed in v6.0.0. See https://github.com/optuna/optuna/releases/tag/v3.0.0. Use suggest_float(..., step=...) instead.\n",
      "  subsample = trial.suggest_discrete_uniform('subsample', 0.5, 1.0, 0.1)\n",
      "/var/folders/x7/frl5my251vx198wg4w_ndzxh0000gn/T/ipykernel_55825/3346511705.py:13: FutureWarning: suggest_discrete_uniform has been deprecated in v3.0.0. This feature will be removed in v6.0.0. See https://github.com/optuna/optuna/releases/tag/v3.0.0. Use suggest_float(..., step=...) instead.\n",
      "  colsample_bytree = trial.suggest_discrete_uniform('colsample_bytree', 0.5, 1.0, 0.1)\n"
     ]
    },
    {
     "name": "stdout",
     "output_type": "stream",
     "text": [
      "Mejores parámetros de regresión logística: {'penalty': 'l2', 'C': 125.59746539838365, 'solver': 'liblinear'}\n",
      "Precisión del modelo de regresión logística: 0.265625\n",
      "Mejores parámetros de SVM: {'C': 19.902738975695588, 'kernel': 'linear'}\n",
      "Precisión del modelo de SVM: 0.3125\n"
     ]
    },
    {
     "name": "stderr",
     "output_type": "stream",
     "text": [
      "[I 2024-03-08 09:52:32,523] Trial 0 finished with value: 0.421875 and parameters: {'n_estimators': 800, 'max_depth': 10, 'learning_rate': 0.24767342500671413, 'subsample': 0.8, 'colsample_bytree': 0.5}. Best is trial 0 with value: 0.421875.\n",
      "/var/folders/x7/frl5my251vx198wg4w_ndzxh0000gn/T/ipykernel_55825/3346511705.py:11: FutureWarning: suggest_loguniform has been deprecated in v3.0.0. This feature will be removed in v6.0.0. See https://github.com/optuna/optuna/releases/tag/v3.0.0. Use suggest_float(..., log=True) instead.\n",
      "  learning_rate = trial.suggest_loguniform('learning_rate', 0.01, 0.5)\n",
      "/var/folders/x7/frl5my251vx198wg4w_ndzxh0000gn/T/ipykernel_55825/3346511705.py:12: FutureWarning: suggest_discrete_uniform has been deprecated in v3.0.0. This feature will be removed in v6.0.0. See https://github.com/optuna/optuna/releases/tag/v3.0.0. Use suggest_float(..., step=...) instead.\n",
      "  subsample = trial.suggest_discrete_uniform('subsample', 0.5, 1.0, 0.1)\n",
      "/var/folders/x7/frl5my251vx198wg4w_ndzxh0000gn/T/ipykernel_55825/3346511705.py:13: FutureWarning: suggest_discrete_uniform has been deprecated in v3.0.0. This feature will be removed in v6.0.0. See https://github.com/optuna/optuna/releases/tag/v3.0.0. Use suggest_float(..., step=...) instead.\n",
      "  colsample_bytree = trial.suggest_discrete_uniform('colsample_bytree', 0.5, 1.0, 0.1)\n",
      "[I 2024-03-08 09:52:32,608] Trial 1 finished with value: 0.34375 and parameters: {'n_estimators': 300, 'max_depth': 10, 'learning_rate': 0.46954020376337907, 'subsample': 1.0, 'colsample_bytree': 0.6}. Best is trial 0 with value: 0.421875.\n"
     ]
    },
    {
     "name": "stdout",
     "output_type": "stream",
     "text": [
      "Mejores parámetros de XGBoost: {'n_estimators': 800, 'max_depth': 10, 'learning_rate': 0.24767342500671413, 'subsample': 0.8, 'colsample_bytree': 0.5}\n",
      "Precisión del modelo de XGBoost: 0.421875\n"
     ]
    }
   ],
   "source": [
    "params_1d_long = optimize_params(dataresult_long_1d)\n",
    "params_1d_short = optimize_params(dataresult_short_1d)"
   ]
  },
  {
   "cell_type": "code",
   "execution_count": 17,
   "id": "90a7effd",
   "metadata": {
    "ExecuteTime": {
     "end_time": "2024-03-08T15:52:32.623398Z",
     "start_time": "2024-03-08T15:52:32.617796Z"
    }
   },
   "outputs": [],
   "source": [
    "def buy_signals(data):\n",
    "    buy_signals = pd.DataFrame()\n",
    "    # Selecciona las características\n",
    "    X = data.iloc[:, :-1]\n",
    "    # Selecciona la variable objetivo\n",
    "    y = data.iloc[:, -1]\n",
    "\n",
    "    # Crear modelos con los mejores parámetros encontrados para cada algoritmo\n",
    "    best_logistic_model = LogisticRegression(penalty='l1', C=142.00912335775166, solver='liblinear')\n",
    "    best_svm_model = SVC(C=1.0, kernel='rbf', gamma='scale')\n",
    "    best_xgboost_model = XGBClassifier(n_estimators=100, max_depth=3, learning_rate=0.1, subsample=0.8, colsample_bytree=0.8)\n",
    "\n",
    "    # Entrenar los modelos con todo el conjunto de datos original\n",
    "    best_logistic_model.fit(X, y)\n",
    "    best_svm_model.fit(X, y)\n",
    "    best_xgboost_model.fit(X, y)\n",
    "\n",
    "    # Realizar predicciones en el conjunto de datos original\n",
    "    predictions_lr = best_logistic_model.predict(X)\n",
    "    predictions_svm = best_svm_model.predict(X)\n",
    "    predictions_xgboost = best_xgboost_model.predict(X)\n",
    "\n",
    "    # Agregar las predicciones como nuevas columnas al conjunto de datos original\n",
    "    buy_signals['predicciones_lr'] = predictions_lr\n",
    "    buy_signals['predicciones_svm'] = predictions_svm\n",
    "    buy_signals['predicciones_xgboost'] = predictions_xgboost\n",
    "    \n",
    "    return buy_signals"
   ]
  },
  {
   "cell_type": "code",
   "execution_count": 18,
   "id": "1d2bdcc0",
   "metadata": {
    "ExecuteTime": {
     "end_time": "2024-03-08T15:52:32.628466Z",
     "start_time": "2024-03-08T15:52:32.623732Z"
    }
   },
   "outputs": [],
   "source": [
    "def sell_signals(data):\n",
    "    sell_signals = pd.DataFrame()\n",
    "    # Selecciona las características\n",
    "    X = data.iloc[:, :-1]\n",
    "    # Selecciona la variable objetivo\n",
    "    y = data.iloc[:, -1]\n",
    "\n",
    "    # Crear modelos con los mejores parámetros encontrados para cada algoritmo\n",
    "    best_logistic_model = LogisticRegression(penalty='l1', C=142.00912335775166, solver='liblinear')\n",
    "    best_svm_model = SVC(C=1.0, kernel='rbf', gamma='scale')\n",
    "    best_xgboost_model = XGBClassifier(n_estimators=100, max_depth=3, learning_rate=0.1, subsample=0.8, colsample_bytree=0.8)\n",
    "\n",
    "    # Entrenar los modelos con todo el conjunto de datos original\n",
    "    best_logistic_model.fit(X, y)\n",
    "    best_svm_model.fit(X, y)\n",
    "    best_xgboost_model.fit(X, y)\n",
    "\n",
    "    # Realizar predicciones en el conjunto de datos original\n",
    "    predictions_lr = best_logistic_model.predict(X)\n",
    "    predictions_svm = best_svm_model.predict(X)\n",
    "    predictions_xgboost = best_xgboost_model.predict(X)\n",
    "    predictions_xgboost_bool = predictions_xgboost.astype(bool)\n",
    "\n",
    "    # Agregar las predicciones como nuevas columnas al conjunto de datos original\n",
    "    sell_signals['predicciones_lr'] = predictions_lr\n",
    "    sell_signals['predicciones_svm'] = predictions_svm\n",
    "    sell_signals['predicciones_xgboost'] = predictions_xgboost_bool\n",
    "    \n",
    "    return sell_signals"
   ]
  },
  {
   "cell_type": "code",
   "execution_count": 19,
   "id": "90906dd0",
   "metadata": {
    "ExecuteTime": {
     "end_time": "2024-03-08T15:52:32.923512Z",
     "start_time": "2024-03-08T15:52:32.627954Z"
    }
   },
   "outputs": [
    {
     "name": "stderr",
     "output_type": "stream",
     "text": [
      "/opt/anaconda3/envs/trading/lib/python3.11/site-packages/sklearn/svm/_base.py:1237: ConvergenceWarning: Liblinear failed to converge, increase the number of iterations.\n",
      "  warnings.warn(\n",
      "/opt/anaconda3/envs/trading/lib/python3.11/site-packages/sklearn/svm/_base.py:1237: ConvergenceWarning: Liblinear failed to converge, increase the number of iterations.\n",
      "  warnings.warn(\n"
     ]
    }
   ],
   "source": [
    "global_buy_signals = buy_signals(dataresult_long_1d)\n",
    "global_sell_signals = sell_signals(dataresult_short_1d)"
   ]
  },
  {
   "cell_type": "code",
   "execution_count": 20,
   "id": "146facd0",
   "metadata": {
    "ExecuteTime": {
     "end_time": "2024-03-08T15:52:32.931759Z",
     "start_time": "2024-03-08T15:52:32.927944Z"
    }
   },
   "outputs": [],
   "source": [
    "def backtest(data, buy_signals, sell_signals, stop_loss, take_profit, n_shares):\n",
    "    history = []\n",
    "    active_operations = []\n",
    "    cash = 1_000_000\n",
    "    com = 1.25 / 100\n",
    "    \n",
    "    for i, row in data.iterrows():\n",
    "        # close active operation\n",
    "        active_op_temp = []\n",
    "        for operation in active_operations:\n",
    "            if operation[\"stop_loss\"] > row.Close:\n",
    "                cash += (row.Close * operation[\"n_shares\"]) * (1 - com)\n",
    "            elif operation[\"take_profit\"] < row.Close:\n",
    "                cash += (row.Close * operation[\"n_shares\"]) * (1 - com)\n",
    "            else:\n",
    "                active_op_temp.append(operation)\n",
    "        active_operations = active_op_temp\n",
    "\n",
    "        # check if we have enough cash\n",
    "        if cash < (row.Close * (1 + com)):\n",
    "            asset_vals = sum([operation[\"n_shares\"] * row.Close for operation in active_operations])\n",
    "            portfolio_value = cash + asset_vals\n",
    "            continue\n",
    "\n",
    "        # Apply buy signals\n",
    "        if buy_signals.loc[i].any():\n",
    "            active_operations.append({\n",
    "                \"bought\": row.Close,\n",
    "                \"n_shares\": n_shares,\n",
    "                \"stop_loss\": row.Close * stop_loss,\n",
    "                \"take_profit\": row.Close * take_profit\n",
    "            })\n",
    "\n",
    "            cash -= row.Close * (1 + com) * n_shares\n",
    "\n",
    "        # Apply sell signals\n",
    "        if sell_signals.loc[i].any():\n",
    "            active_op_temp = []\n",
    "            for operation in active_operations:\n",
    "                if operation[\"take_profit\"] < row.Close or operation[\"stop_loss\"] > row.Close:\n",
    "                    cash += (row.Close * operation[\"n_shares\"]) * (1 - com)\n",
    "                else:\n",
    "                    active_op_temp.append(operation)\n",
    "            active_operations = active_op_temp\n",
    "\n",
    "        asset_vals = sum([operation[\"n_shares\"] * row.Close for operation in active_operations])\n",
    "        portfolio_value = cash + asset_vals\n",
    "\n",
    "    return portfolio_value"
   ]
  },
  {
   "cell_type": "code",
   "execution_count": 21,
   "id": "703d56ef",
   "metadata": {
    "ExecuteTime": {
     "end_time": "2024-03-08T15:52:32.937391Z",
     "start_time": "2024-03-08T15:52:32.931566Z"
    }
   },
   "outputs": [],
   "source": [
    "def optimize(trial, strategy, data):\n",
    "    portfolio_value = 0\n",
    "\n",
    "    stop_loss = trial.suggest_float(\"stop_loss\", 0.00250, 0.05)\n",
    "    take_profit = trial.suggest_float(\"take_profit\", 0.00250, 0.05)\n",
    "    n_shares = trial.suggest_int(\"n_shares\", 5, 200)\n",
    "\n",
    "    strat_params = {}\n",
    "\n",
    "    buy_signals = pd.DataFrame()\n",
    "    sell_signals = pd.DataFrame()\n",
    "\n",
    "    if \"logistic\" in strategy:\n",
    "        buy_signals[\"logistic\"] = global_buy_signals[\"predicciones_lr\"]\n",
    "        sell_signals[\"logistic\"] = global_sell_signals[\"predicciones_lr\"]\n",
    "        \n",
    "    if \"svm\" in strategy:\n",
    "        buy_signals[\"svm\"] = global_buy_signals[\"predicciones_svm\"]\n",
    "        sell_signals[\"svm\"] = global_sell_signals[\"predicciones_svm\"]\n",
    "        \n",
    "    if \"xg\" in strategy:\n",
    "        buy_signals[\"xg\"] = global_buy_signals[\"predicciones_xgboost\"]\n",
    "        sell_signals[\"xg\"] = global_sell_signals[\"predicciones_xgboost\"]\n",
    "    \n",
    "    return backtest(data, buy_signals, sell_signals, stop_loss, take_profit, n_shares)"
   ]
  },
  {
   "cell_type": "code",
   "execution_count": 22,
   "id": "a4885d14",
   "metadata": {
    "ExecuteTime": {
     "end_time": "2024-03-08T15:52:32.942340Z",
     "start_time": "2024-03-08T15:52:32.936712Z"
    }
   },
   "outputs": [],
   "source": [
    "def optimize_file(data):\n",
    "    data = data.drop(data.index[:30])\n",
    "    data = data.drop(data.index[-30:])\n",
    "    data.reset_index(drop=True, inplace=True)\n",
    "    strategies = list(powerset([\"logistic\", \"svm\", \"xg\"]))\n",
    "    best_strat = None\n",
    "    best_val = -1\n",
    "    best_params = None\n",
    "\n",
    "    for strat in strategies:\n",
    "        study = optuna.create_study(direction=\"maximize\")\n",
    "        study.optimize(lambda x: optimize(x, strat, data), n_trials=30)\n",
    "        value = study.best_value\n",
    "        if value > best_val:\n",
    "            best_val = value\n",
    "            best_strat = strat\n",
    "            best_params = study.best_params\n",
    "    print(study.best_value)\n",
    "    print(best_strat)\n",
    "    print(best_params)\n",
    "\n",
    "    return {\"file\": data,\n",
    "            \"strat\": best_strat,\n",
    "            \"value\": best_val,\n",
    "            \"params\": best_params}"
   ]
  },
  {
   "cell_type": "code",
   "execution_count": 23,
   "id": "5fbac6d1",
   "metadata": {
    "scrolled": false,
    "ExecuteTime": {
     "end_time": "2024-03-08T15:52:39.557593Z",
     "start_time": "2024-03-08T15:52:32.941436Z"
    }
   },
   "outputs": [
    {
     "name": "stderr",
     "output_type": "stream",
     "text": [
      "[I 2024-03-08 09:52:32,940] A new study created in memory with name: no-name-1f2e64e8-fb27-4941-a416-b85cc289cad8\n",
      "[I 2024-03-08 09:52:32,966] Trial 0 finished with value: 917884.8775802505 and parameters: {'stop_loss': 0.04244308488074175, 'take_profit': 0.03604590935976131, 'n_shares': 140}. Best is trial 0 with value: 917884.8775802505.\n",
      "[I 2024-03-08 09:52:32,992] Trial 1 finished with value: 968327.0242095251 and parameters: {'stop_loss': 0.03820298681559703, 'take_profit': 0.036406831258872153, 'n_shares': 54}. Best is trial 1 with value: 968327.0242095251.\n",
      "[I 2024-03-08 09:52:33,016] Trial 2 finished with value: 886798.4383784883 and parameters: {'stop_loss': 0.046405644448177005, 'take_profit': 0.03242889647667265, 'n_shares': 193}. Best is trial 1 with value: 968327.0242095251.\n",
      "[I 2024-03-08 09:52:33,041] Trial 3 finished with value: 940759.804540038 and parameters: {'stop_loss': 0.02702005855694973, 'take_profit': 0.02772089429493936, 'n_shares': 101}. Best is trial 1 with value: 968327.0242095251.\n",
      "[I 2024-03-08 09:52:33,066] Trial 4 finished with value: 925509.8532335124 and parameters: {'stop_loss': 0.01196133317901825, 'take_profit': 0.03788097812461099, 'n_shares': 127}. Best is trial 1 with value: 968327.0242095251.\n",
      "[I 2024-03-08 09:52:33,093] Trial 5 finished with value: 978298.1462176376 and parameters: {'stop_loss': 0.020993476433808656, 'take_profit': 0.040588725729203856, 'n_shares': 37}. Best is trial 5 with value: 978298.1462176376.\n",
      "[I 2024-03-08 09:52:33,117] Trial 6 finished with value: 972432.7803305138 and parameters: {'stop_loss': 0.02595574840267515, 'take_profit': 0.037538246469718727, 'n_shares': 47}. Best is trial 5 with value: 978298.1462176376.\n",
      "[I 2024-03-08 09:52:33,139] Trial 7 finished with value: 914952.1946366868 and parameters: {'stop_loss': 0.009012266690216462, 'take_profit': 0.017637972759898004, 'n_shares': 145}. Best is trial 5 with value: 978298.1462176376.\n",
      "[I 2024-03-08 09:52:33,162] Trial 8 finished with value: 994721.1707015864 and parameters: {'stop_loss': 0.04594700463145492, 'take_profit': 0.010418395065441639, 'n_shares': 9}. Best is trial 8 with value: 994721.1707015864.\n",
      "[I 2024-03-08 09:52:33,186] Trial 9 finished with value: 951317.4631368628 and parameters: {'stop_loss': 0.020922091669592278, 'take_profit': 0.017165165292792953, 'n_shares': 83}. Best is trial 8 with value: 994721.1707015864.\n",
      "[I 2024-03-08 09:52:33,220] Trial 10 finished with value: 985336.5852821867 and parameters: {'stop_loss': 0.03361869066396054, 'take_profit': 0.0027350145599266866, 'n_shares': 25}. Best is trial 8 with value: 994721.1707015864.\n",
      "[I 2024-03-08 09:52:33,250] Trial 11 finished with value: 997067.3170564368 and parameters: {'stop_loss': 0.03562907176111564, 'take_profit': 0.00260927486010302, 'n_shares': 5}. Best is trial 11 with value: 997067.3170564368.\n",
      "[I 2024-03-08 09:52:33,281] Trial 12 finished with value: 995307.7072902988 and parameters: {'stop_loss': 0.048830253219069475, 'take_profit': 0.004381888616879562, 'n_shares': 8}. Best is trial 11 with value: 997067.3170564368.\n",
      "[I 2024-03-08 09:52:33,311] Trial 13 finished with value: 994721.1707015864 and parameters: {'stop_loss': 0.03629139879918362, 'take_profit': 0.04909588604013772, 'n_shares': 9}. Best is trial 11 with value: 997067.3170564368.\n",
      "[I 2024-03-08 09:52:33,342] Trial 14 finished with value: 960702.0485562636 and parameters: {'stop_loss': 0.04701064633583307, 'take_profit': 0.0030242682481300617, 'n_shares': 67}. Best is trial 11 with value: 997067.3170564368.\n",
      "[I 2024-03-08 09:52:33,371] Trial 15 finished with value: 994721.1707015864 and parameters: {'stop_loss': 0.049839029932955435, 'take_profit': 0.010618600523641577, 'n_shares': 9}. Best is trial 11 with value: 997067.3170564368.\n",
      "[I 2024-03-08 09:52:33,401] Trial 16 finished with value: 956009.7558465634 and parameters: {'stop_loss': 0.032149559957973195, 'take_profit': 0.010842128570706152, 'n_shares': 75}. Best is trial 11 with value: 997067.3170564368.\n",
      "[I 2024-03-08 09:52:33,432] Trial 17 finished with value: 981817.3657499137 and parameters: {'stop_loss': 0.03959051888677393, 'take_profit': 0.019774348403768724, 'n_shares': 31}. Best is trial 11 with value: 997067.3170564368.\n",
      "[I 2024-03-08 09:52:33,461] Trial 18 finished with value: 883865.7554349247 and parameters: {'stop_loss': 0.028908882705461908, 'take_profit': 0.007391060000308704, 'n_shares': 198}. Best is trial 11 with value: 997067.3170564368.\n",
      "[I 2024-03-08 09:52:33,490] Trial 19 finished with value: 943105.9508948865 and parameters: {'stop_loss': 0.041605939693142024, 'take_profit': 0.023235393404574086, 'n_shares': 97}. Best is trial 11 with value: 997067.3170564368.\n",
      "[I 2024-03-08 09:52:33,549] Trial 20 finished with value: 903221.4628624392 and parameters: {'stop_loss': 0.018823157871527267, 'take_profit': 0.01478116006958726, 'n_shares': 165}. Best is trial 11 with value: 997067.3170564368.\n",
      "[I 2024-03-08 09:52:33,582] Trial 21 finished with value: 995307.7072902988 and parameters: {'stop_loss': 0.04402109918792486, 'take_profit': 0.007401643780361728, 'n_shares': 8}. Best is trial 11 with value: 997067.3170564368.\n",
      "[I 2024-03-08 09:52:33,614] Trial 22 finished with value: 987096.1950483257 and parameters: {'stop_loss': 0.04993759276247466, 'take_profit': 0.0067091054408599275, 'n_shares': 22}. Best is trial 11 with value: 997067.3170564368.\n",
      "[I 2024-03-08 09:52:33,646] Trial 23 finished with value: 968913.5607982377 and parameters: {'stop_loss': 0.04171533272997424, 'take_profit': 0.006249639543878329, 'n_shares': 53}. Best is trial 11 with value: 997067.3170564368.\n",
      "[I 2024-03-08 09:52:33,677] Trial 24 finished with value: 997067.3170564368 and parameters: {'stop_loss': 0.03616038626625276, 'take_profit': 0.013450428201096267, 'n_shares': 5}. Best is trial 11 with value: 997067.3170564368.\n",
      "[I 2024-03-08 09:52:33,708] Trial 25 finished with value: 975951.9998627874 and parameters: {'stop_loss': 0.0025956228160197888, 'take_profit': 0.012604904046695481, 'n_shares': 41}. Best is trial 11 with value: 997067.3170564368.\n",
      "[I 2024-03-08 09:52:33,738] Trial 26 finished with value: 985923.1218708996 and parameters: {'stop_loss': 0.03522058984587064, 'take_profit': 0.004511030148420457, 'n_shares': 24}. Best is trial 11 with value: 997067.3170564368.\n",
      "[I 2024-03-08 09:52:33,770] Trial 27 finished with value: 965980.8778546746 and parameters: {'stop_loss': 0.030382091313968514, 'take_profit': 0.023542477844343785, 'n_shares': 58}. Best is trial 11 with value: 997067.3170564368.\n",
      "[I 2024-03-08 09:52:33,802] Trial 28 finished with value: 987682.7316370374 and parameters: {'stop_loss': 0.037073571989780923, 'take_profit': 0.014780532166601149, 'n_shares': 21}. Best is trial 11 with value: 997067.3170564368.\n",
      "[I 2024-03-08 09:52:33,833] Trial 29 finished with value: 978298.1462176376 and parameters: {'stop_loss': 0.023753989491608337, 'take_profit': 0.009891417899919305, 'n_shares': 37}. Best is trial 11 with value: 997067.3170564368.\n",
      "[I 2024-03-08 09:52:33,833] A new study created in memory with name: no-name-903f1ece-700c-4fdf-a7d4-10a29e117ab0\n",
      "[I 2024-03-08 09:52:33,859] Trial 0 finished with value: 885562.1914043156 and parameters: {'stop_loss': 0.01565482593432044, 'take_profit': 0.019308788235559954, 'n_shares': 121}. Best is trial 0 with value: 885562.1914043156.\n",
      "[I 2024-03-08 09:52:33,884] Trial 1 finished with value: 957440.4844065657 and parameters: {'stop_loss': 0.047204844910839754, 'take_profit': 0.022329413252281553, 'n_shares': 45}. Best is trial 1 with value: 957440.4844065657.\n",
      "[I 2024-03-08 09:52:33,909] Trial 2 finished with value: 967843.9215516243 and parameters: {'stop_loss': 0.02484005590396244, 'take_profit': 0.022117055219222012, 'n_shares': 34}. Best is trial 2 with value: 967843.9215516243.\n",
      "[I 2024-03-08 09:52:33,935] Trial 3 finished with value: 975410.0576571249 and parameters: {'stop_loss': 0.0250189667388685, 'take_profit': 0.0035844802801591564, 'n_shares': 26}. Best is trial 3 with value: 975410.0576571249.\n",
      "[I 2024-03-08 09:52:33,960] Trial 4 finished with value: 813683.8984020624 and parameters: {'stop_loss': 0.039400922801996814, 'take_profit': 0.030308181601645997, 'n_shares': 197}. Best is trial 3 with value: 975410.0576571249.\n",
      "[I 2024-03-08 09:52:33,985] Trial 5 finished with value: 907314.8327076253 and parameters: {'stop_loss': 0.03022427178799957, 'take_profit': 0.01750297057464456, 'n_shares': 98}. Best is trial 3 with value: 975410.0576571249.\n",
      "[I 2024-03-08 09:52:34,012] Trial 6 finished with value: 966898.1545384384 and parameters: {'stop_loss': 0.0039194669677687435, 'take_profit': 0.007850786460350593, 'n_shares': 35}. Best is trial 3 with value: 975410.0576571249.\n",
      "[I 2024-03-08 09:52:34,038] Trial 7 finished with value: 977301.5916835008 and parameters: {'stop_loss': 0.031607247256819036, 'take_profit': 0.04157235390100132, 'n_shares': 24}. Best is trial 7 with value: 977301.5916835008.\n",
      "[I 2024-03-08 09:52:34,064] Trial 8 finished with value: 824087.3355471251 and parameters: {'stop_loss': 0.04503388137574289, 'take_profit': 0.04827100718911226, 'n_shares': 186}. Best is trial 7 with value: 977301.5916835008.\n",
      "[I 2024-03-08 09:52:34,089] Trial 9 finished with value: 975410.0576571249 and parameters: {'stop_loss': 0.045419677699449226, 'take_profit': 0.013213013815832734, 'n_shares': 26}. Best is trial 7 with value: 977301.5916835008.\n",
      "[I 2024-03-08 09:52:34,121] Trial 10 finished with value: 906369.0656944385 and parameters: {'stop_loss': 0.03397500872724095, 'take_profit': 0.0407039250035485, 'n_shares': 99}. Best is trial 7 with value: 977301.5916835008.\n",
      "[I 2024-03-08 09:52:34,155] Trial 11 finished with value: 935687.8431032514 and parameters: {'stop_loss': 0.01825021896964838, 'take_profit': 0.03408022388316674, 'n_shares': 68}. Best is trial 7 with value: 977301.5916835008.\n",
      "[I 2024-03-08 09:52:34,187] Trial 12 finished with value: 989596.5628549369 and parameters: {'stop_loss': 0.02263428747800709, 'take_profit': 0.03916481388279543, 'n_shares': 11}. Best is trial 12 with value: 989596.5628549369.\n",
      "[I 2024-03-08 09:52:34,220] Trial 13 finished with value: 990542.3298681282 and parameters: {'stop_loss': 0.014900464735309843, 'take_profit': 0.04278995036270871, 'n_shares': 10}. Best is trial 13 with value: 990542.3298681282.\n",
      "[I 2024-03-08 09:52:34,253] Trial 14 finished with value: 934742.0760900622 and parameters: {'stop_loss': 0.010482602118464652, 'take_profit': 0.04835690483903827, 'n_shares': 69}. Best is trial 13 with value: 990542.3298681282.\n",
      "[I 2024-03-08 09:52:34,286] Trial 15 finished with value: 994325.3979208758 and parameters: {'stop_loss': 0.018335099774150848, 'take_profit': 0.038453164542988263, 'n_shares': 6}. Best is trial 15 with value: 994325.3979208758.\n",
      "[I 2024-03-08 09:52:34,321] Trial 16 finished with value: 855297.646982314 and parameters: {'stop_loss': 0.009800346997015305, 'take_profit': 0.03354768533427697, 'n_shares': 153}. Best is trial 15 with value: 994325.3979208758.\n",
      "[I 2024-03-08 09:52:34,353] Trial 17 finished with value: 941362.445182375 and parameters: {'stop_loss': 0.016993041827033498, 'take_profit': 0.02718127189801291, 'n_shares': 62}. Best is trial 15 with value: 994325.3979208758.\n",
      "[I 2024-03-08 09:52:34,386] Trial 18 finished with value: 883670.6573779366 and parameters: {'stop_loss': 0.004545119370430511, 'take_profit': 0.045003908828417906, 'n_shares': 123}. Best is trial 15 with value: 994325.3979208758.\n",
      "[I 2024-03-08 09:52:34,419] Trial 19 finished with value: 995271.164934062 and parameters: {'stop_loss': 0.011463865329017444, 'take_profit': 0.03598391951795217, 'n_shares': 5}. Best is trial 19 with value: 995271.164934062.\n",
      "[I 2024-03-08 09:52:34,452] Trial 20 finished with value: 953657.4163538126 and parameters: {'stop_loss': 0.009886656466713098, 'take_profit': 0.03491587971428753, 'n_shares': 49}. Best is trial 19 with value: 995271.164934062.\n",
      "[I 2024-03-08 09:52:34,485] Trial 21 finished with value: 995271.164934062 and parameters: {'stop_loss': 0.013183281493221635, 'take_profit': 0.03733944324258141, 'n_shares': 5}. Best is trial 19 with value: 995271.164934062.\n",
      "[I 2024-03-08 09:52:34,519] Trial 22 finished with value: 990542.3298681282 and parameters: {'stop_loss': 0.021157842871797884, 'take_profit': 0.03713848891829072, 'n_shares': 10}. Best is trial 19 with value: 995271.164934062.\n",
      "[I 2024-03-08 09:52:34,554] Trial 23 finished with value: 995271.164934062 and parameters: {'stop_loss': 0.010861647709495159, 'take_profit': 0.03060506150751355, 'n_shares': 5}. Best is trial 19 with value: 995271.164934062.\n",
      "[I 2024-03-08 09:52:34,587] Trial 24 finished with value: 924338.6389449975 and parameters: {'stop_loss': 0.007080036192133202, 'take_profit': 0.02962452122812756, 'n_shares': 80}. Best is trial 19 with value: 995271.164934062.\n",
      "[I 2024-03-08 09:52:34,621] Trial 25 finished with value: 952711.6493406249 and parameters: {'stop_loss': 0.013403560788083772, 'take_profit': 0.030708594039297706, 'n_shares': 50}. Best is trial 19 with value: 995271.164934062.\n",
      "[I 2024-03-08 09:52:34,655] Trial 26 finished with value: 981084.6597362475 and parameters: {'stop_loss': 0.01217475603124481, 'take_profit': 0.025562869474866648, 'n_shares': 20}. Best is trial 19 with value: 995271.164934062.\n",
      "[I 2024-03-08 09:52:34,689] Trial 27 finished with value: 995271.164934062 and parameters: {'stop_loss': 0.007017591026897104, 'take_profit': 0.026088928361218483, 'n_shares': 5}. Best is trial 19 with value: 995271.164934062.\n",
      "[I 2024-03-08 09:52:34,724] Trial 28 finished with value: 963115.0864856872 and parameters: {'stop_loss': 0.003004837273281028, 'take_profit': 0.045010156028046366, 'n_shares': 39}. Best is trial 19 with value: 995271.164934062.\n",
      "[I 2024-03-08 09:52:34,759] Trial 29 finished with value: 876104.5212724381 and parameters: {'stop_loss': 0.015002909861662488, 'take_profit': 0.03517510233706227, 'n_shares': 131}. Best is trial 19 with value: 995271.164934062.\n",
      "[I 2024-03-08 09:52:34,760] A new study created in memory with name: no-name-47f81185-3677-466d-aacd-15d05e307b78\n",
      "[I 2024-03-08 09:52:34,782] Trial 0 finished with value: 982125.9954478006 and parameters: {'stop_loss': 0.04100560076216634, 'take_profit': 0.015339113337946143, 'n_shares': 36}. Best is trial 0 with value: 982125.9954478006.\n",
      "[I 2024-03-08 09:52:34,805] Trial 1 finished with value: 944391.9858375998 and parameters: {'stop_loss': 0.04535175296997708, 'take_profit': 0.03736254823709068, 'n_shares': 112}. Best is trial 0 with value: 982125.9954478006.\n",
      "[I 2024-03-08 09:52:34,827] Trial 2 finished with value: 954818.488493051 and parameters: {'stop_loss': 0.02131602605657663, 'take_profit': 0.041797056450437804, 'n_shares': 91}. Best is trial 0 with value: 982125.9954478006.\n",
      "[I 2024-03-08 09:52:34,849] Trial 3 finished with value: 951839.4877343497 and parameters: {'stop_loss': 0.019231335198283496, 'take_profit': 0.03596987128165595, 'n_shares': 97}. Best is trial 0 with value: 982125.9954478006.\n",
      "[I 2024-03-08 09:52:34,871] Trial 4 finished with value: 962762.4905162512 and parameters: {'stop_loss': 0.013154667002563295, 'take_profit': 0.024667326329987225, 'n_shares': 75}. Best is trial 0 with value: 982125.9954478006.\n",
      "[I 2024-03-08 09:52:34,894] Trial 5 finished with value: 942405.9853318009 and parameters: {'stop_loss': 0.031792787169387306, 'take_profit': 0.04716085375046361, 'n_shares': 116}. Best is trial 0 with value: 982125.9954478006.\n",
      "[I 2024-03-08 09:52:34,916] Trial 6 finished with value: 928007.4816647491 and parameters: {'stop_loss': 0.040327278549062415, 'take_profit': 0.009385438932234747, 'n_shares': 145}. Best is trial 0 with value: 982125.9954478006.\n",
      "[I 2024-03-08 09:52:34,938] Trial 7 finished with value: 924531.9807796001 and parameters: {'stop_loss': 0.005350303331755183, 'take_profit': 0.0028495258198627054, 'n_shares': 152}. Best is trial 0 with value: 982125.9954478006.\n",
      "[I 2024-03-08 09:52:34,960] Trial 8 finished with value: 901196.4748364505 and parameters: {'stop_loss': 0.028449409129532116, 'take_profit': 0.008603449418818552, 'n_shares': 199}. Best is trial 0 with value: 982125.9954478006.\n",
      "[I 2024-03-08 09:52:34,982] Trial 9 finished with value: 984111.9959536007 and parameters: {'stop_loss': 0.027833405271605556, 'take_profit': 0.012432473838693921, 'n_shares': 32}. Best is trial 9 with value: 984111.9959536007.\n",
      "[I 2024-03-08 09:52:35,011] Trial 10 finished with value: 997020.9992413007 and parameters: {'stop_loss': 0.03511203822494851, 'take_profit': 0.022889724484635304, 'n_shares': 6}. Best is trial 10 with value: 997020.9992413007.\n",
      "[I 2024-03-08 09:52:35,040] Trial 11 finished with value: 997517.49936775 and parameters: {'stop_loss': 0.034588981520722574, 'take_profit': 0.023717941532341004, 'n_shares': 5}. Best is trial 11 with value: 997517.49936775.\n",
      "[I 2024-03-08 09:52:35,068] Trial 12 finished with value: 996524.4991148498 and parameters: {'stop_loss': 0.03463577205085907, 'take_profit': 0.02436635031072614, 'n_shares': 7}. Best is trial 11 with value: 997517.49936775.\n",
      "[I 2024-03-08 09:52:35,098] Trial 13 finished with value: 997517.49936775 and parameters: {'stop_loss': 0.03761088039326885, 'take_profit': 0.020259603861371937, 'n_shares': 5}. Best is trial 11 with value: 997517.49936775.\n",
      "[I 2024-03-08 09:52:35,127] Trial 14 finished with value: 974678.4935510501 and parameters: {'stop_loss': 0.046600522155696135, 'take_profit': 0.01855666365224506, 'n_shares': 51}. Best is trial 11 with value: 997517.49936775.\n",
      "[I 2024-03-08 09:52:35,156] Trial 15 finished with value: 970706.49253945 and parameters: {'stop_loss': 0.03797870800470873, 'take_profit': 0.0308311898528104, 'n_shares': 59}. Best is trial 11 with value: 997517.49936775.\n",
      "[I 2024-03-08 09:52:35,184] Trial 16 finished with value: 987587.4968387494 and parameters: {'stop_loss': 0.021876803508678225, 'take_profit': 0.03224714061362688, 'n_shares': 25}. Best is trial 11 with value: 997517.49936775.\n",
      "[I 2024-03-08 09:52:35,214] Trial 17 finished with value: 972692.4930452488 and parameters: {'stop_loss': 0.049128931620781136, 'take_profit': 0.0279049752679425, 'n_shares': 55}. Best is trial 11 with value: 997517.49936775.\n",
      "[I 2024-03-08 09:52:35,244] Trial 18 finished with value: 997020.9992413007 and parameters: {'stop_loss': 0.0420630325894123, 'take_profit': 0.019657769429911803, 'n_shares': 6}. Best is trial 11 with value: 997517.49936775.\n",
      "[I 2024-03-08 09:52:35,272] Trial 19 finished with value: 962762.4905162512 and parameters: {'stop_loss': 0.03192169812112974, 'take_profit': 0.01801373661777175, 'n_shares': 75}. Best is trial 11 with value: 997517.49936775.\n",
      "[I 2024-03-08 09:52:35,301] Trial 20 finished with value: 988580.4970916498 and parameters: {'stop_loss': 0.015474217243867914, 'take_profit': 0.027974334733462218, 'n_shares': 23}. Best is trial 11 with value: 997517.49936775.\n",
      "[I 2024-03-08 09:52:35,330] Trial 21 finished with value: 995034.9987355024 and parameters: {'stop_loss': 0.03667575366655628, 'take_profit': 0.022189196720721255, 'n_shares': 10}. Best is trial 11 with value: 997517.49936775.\n",
      "[I 2024-03-08 09:52:35,358] Trial 22 finished with value: 979146.9946890998 and parameters: {'stop_loss': 0.032762650313961285, 'take_profit': 0.021502061250410907, 'n_shares': 42}. Best is trial 11 with value: 997517.49936775.\n",
      "[I 2024-03-08 09:52:35,389] Trial 23 finished with value: 989076.9972181004 and parameters: {'stop_loss': 0.02521375436614067, 'take_profit': 0.015295961124904067, 'n_shares': 22}. Best is trial 11 with value: 997517.49936775.\n",
      "[I 2024-03-08 09:52:35,418] Trial 24 finished with value: 992055.9979768007 and parameters: {'stop_loss': 0.03672686847100569, 'take_profit': 0.0306195698404389, 'n_shares': 16}. Best is trial 11 with value: 997517.49936775.\n",
      "[I 2024-03-08 09:52:35,447] Trial 25 finished with value: 965244.9911485008 and parameters: {'stop_loss': 0.04445132656749955, 'take_profit': 0.025696697024130244, 'n_shares': 70}. Best is trial 11 with value: 997517.49936775.\n",
      "[I 2024-03-08 09:52:35,476] Trial 26 finished with value: 979643.4948155504 and parameters: {'stop_loss': 0.029283607180414402, 'take_profit': 0.014192755948236492, 'n_shares': 41}. Best is trial 11 with value: 997517.49936775.\n",
      "[I 2024-03-08 09:52:35,505] Trial 27 finished with value: 997020.9992413007 and parameters: {'stop_loss': 0.025027941907367054, 'take_profit': 0.03445215229888428, 'n_shares': 6}. Best is trial 11 with value: 997517.49936775.\n",
      "[I 2024-03-08 09:52:35,534] Trial 28 finished with value: 914105.4781241505 and parameters: {'stop_loss': 0.03896470418176548, 'take_profit': 0.021046258929308052, 'n_shares': 173}. Best is trial 11 with value: 997517.49936775.\n",
      "[I 2024-03-08 09:52:35,563] Trial 29 finished with value: 979643.4948155504 and parameters: {'stop_loss': 0.042165954659952605, 'take_profit': 0.009972910430794835, 'n_shares': 41}. Best is trial 11 with value: 997517.49936775.\n",
      "[I 2024-03-08 09:52:35,564] A new study created in memory with name: no-name-97307be4-b8a2-4a7d-9f8f-4b0c9194a2c2\n",
      "[I 2024-03-08 09:52:35,591] Trial 0 finished with value: 967629.750319875 and parameters: {'stop_loss': 0.031204556432653168, 'take_profit': 0.021542642757866774, 'n_shares': 34}. Best is trial 0 with value: 967629.750319875.\n",
      "[I 2024-03-08 09:52:35,616] Trial 1 finished with value: 980958.6766587477 and parameters: {'stop_loss': 0.039301628907090436, 'take_profit': 0.030352905194235922, 'n_shares': 20}. Best is trial 1 with value: 980958.6766587477.\n",
      "[I 2024-03-08 09:52:35,642] Trial 2 finished with value: 904793.3832937505 and parameters: {'stop_loss': 0.04390989574360126, 'take_profit': 0.03287679333189354, 'n_shares': 100}. Best is trial 1 with value: 980958.6766587477.\n",
      "[I 2024-03-08 09:52:35,668] Trial 3 finished with value: 953348.7578139367 and parameters: {'stop_loss': 0.018818545058945497, 'take_profit': 0.04811454708171773, 'n_shares': 49}. Best is trial 1 with value: 980958.6766587477.\n",
      "[I 2024-03-08 09:52:35,694] Trial 4 finished with value: 902889.2509596252 and parameters: {'stop_loss': 0.036255401816215664, 'take_profit': 0.011808420946563808, 'n_shares': 102}. Best is trial 1 with value: 980958.6766587477.\n",
      "[I 2024-03-08 09:52:35,720] Trial 5 finished with value: 838148.7515993757 and parameters: {'stop_loss': 0.00807093921539063, 'take_profit': 0.02484506755614364, 'n_shares': 170}. Best is trial 1 with value: 980958.6766587477.\n",
      "[I 2024-03-08 09:52:35,746] Trial 6 finished with value: 976198.3458234358 and parameters: {'stop_loss': 0.04390424130732607, 'take_profit': 0.025665366057556385, 'n_shares': 25}. Best is trial 1 with value: 980958.6766587477.\n",
      "[I 2024-03-08 09:52:35,772] Trial 7 finished with value: 862902.4719430002 and parameters: {'stop_loss': 0.048290845895550556, 'take_profit': 0.026650715265759108, 'n_shares': 144}. Best is trial 1 with value: 980958.6766587477.\n",
      "[I 2024-03-08 09:52:35,799] Trial 8 finished with value: 868614.8689453757 and parameters: {'stop_loss': 0.026806839332156943, 'take_profit': 0.02955310716163624, 'n_shares': 138}. Best is trial 1 with value: 980958.6766587477.\n",
      "[I 2024-03-08 09:52:35,825] Trial 9 finished with value: 912409.9126302515 and parameters: {'stop_loss': 0.04920938144914288, 'take_profit': 0.02694416205328109, 'n_shares': 92}. Best is trial 1 with value: 980958.6766587477.\n",
      "[I 2024-03-08 09:52:35,859] Trial 10 finished with value: 940971.8976421255 and parameters: {'stop_loss': 0.013933305559120132, 'take_profit': 0.04330412312435856, 'n_shares': 62}. Best is trial 1 with value: 980958.6766587477.\n",
      "[I 2024-03-08 09:52:35,892] Trial 11 finished with value: 988575.2059952499 and parameters: {'stop_loss': 0.03877379243389245, 'take_profit': 0.014834301822087092, 'n_shares': 12}. Best is trial 11 with value: 988575.2059952499.\n",
      "[I 2024-03-08 09:52:35,926] Trial 12 finished with value: 992383.4706634991 and parameters: {'stop_loss': 0.03614056597777757, 'take_profit': 0.0028898384513722578, 'n_shares': 8}. Best is trial 12 with value: 992383.4706634991.\n",
      "[I 2024-03-08 09:52:35,959] Trial 13 finished with value: 994287.6029976257 and parameters: {'stop_loss': 0.030135511403160474, 'take_profit': 0.0027875234918312702, 'n_shares': 6}. Best is trial 13 with value: 994287.6029976257.\n",
      "[I 2024-03-08 09:52:35,991] Trial 14 finished with value: 932403.3021385617 and parameters: {'stop_loss': 0.022474355521355162, 'take_profit': 0.005038046852824815, 'n_shares': 71}. Best is trial 13 with value: 994287.6029976257.\n",
      "[I 2024-03-08 09:52:36,024] Trial 15 finished with value: 993335.5368305618 and parameters: {'stop_loss': 0.03083242623094355, 'take_profit': 0.0030269890311533237, 'n_shares': 7}. Best is trial 13 with value: 994287.6029976257.\n",
      "[I 2024-03-08 09:52:36,058] Trial 16 finished with value: 956204.9563151262 and parameters: {'stop_loss': 0.029369809860657483, 'take_profit': 0.009815704485110016, 'n_shares': 46}. Best is trial 13 with value: 994287.6029976257.\n",
      "[I 2024-03-08 09:52:36,090] Trial 17 finished with value: 931451.2359714994 and parameters: {'stop_loss': 0.02168702732523512, 'take_profit': 0.017344857585234845, 'n_shares': 72}. Best is trial 13 with value: 994287.6029976257.\n",
      "[I 2024-03-08 09:52:36,123] Trial 18 finished with value: 821011.5605922496 and parameters: {'stop_loss': 0.0031524296372260723, 'take_profit': 0.007842944816063152, 'n_shares': 188}. Best is trial 13 with value: 994287.6029976257.\n",
      "[I 2024-03-08 09:52:36,155] Trial 19 finished with value: 877183.4644489385 and parameters: {'stop_loss': 0.03318706062567821, 'take_profit': 0.01872049327793225, 'n_shares': 129}. Best is trial 13 with value: 994287.6029976257.\n",
      "[I 2024-03-08 09:52:36,189] Trial 20 finished with value: 994287.6029976257 and parameters: {'stop_loss': 0.015298074186039177, 'take_profit': 0.00285543472350794, 'n_shares': 6}. Best is trial 13 with value: 994287.6029976257.\n",
      "[I 2024-03-08 09:52:36,223] Trial 21 finished with value: 994287.6029976257 and parameters: {'stop_loss': 0.01556711851694541, 'take_profit': 0.005178326245958263, 'n_shares': 6}. Best is trial 13 with value: 994287.6029976257.\n",
      "[I 2024-03-08 09:52:36,256] Trial 22 finished with value: 964773.5518186878 and parameters: {'stop_loss': 0.0119032518995059, 'take_profit': 0.0068613421802663, 'n_shares': 37}. Best is trial 13 with value: 994287.6029976257.\n",
      "[I 2024-03-08 09:52:36,290] Trial 23 finished with value: 974294.2134893127 and parameters: {'stop_loss': 0.014143002038733685, 'take_profit': 0.012142436223026841, 'n_shares': 27}. Best is trial 13 with value: 994287.6029976257.\n",
      "[I 2024-03-08 09:52:36,325] Trial 24 finished with value: 947636.3608115605 and parameters: {'stop_loss': 0.018735516324905468, 'take_profit': 0.00812327128137612, 'n_shares': 55}. Best is trial 13 with value: 994287.6029976257.\n",
      "[I 2024-03-08 09:52:36,359] Trial 25 finished with value: 965725.6179857507 and parameters: {'stop_loss': 0.02420068697844595, 'take_profit': 0.0027573314450513886, 'n_shares': 36}. Best is trial 13 with value: 994287.6029976257.\n",
      "[I 2024-03-08 09:52:36,393] Trial 26 finished with value: 995239.6691646872 and parameters: {'stop_loss': 0.008396442767588084, 'take_profit': 0.0375049187085825, 'n_shares': 5}. Best is trial 26 with value: 995239.6691646872.\n",
      "[I 2024-03-08 09:52:36,428] Trial 27 finished with value: 922882.6404679364 and parameters: {'stop_loss': 0.007032340531741606, 'take_profit': 0.03669704895774044, 'n_shares': 81}. Best is trial 26 with value: 995239.6691646872.\n",
      "[I 2024-03-08 09:52:36,462] Trial 28 finished with value: 980958.6766587477 and parameters: {'stop_loss': 0.008817195008541138, 'take_profit': 0.03935660520801631, 'n_shares': 20}. Best is trial 26 with value: 995239.6691646872.\n",
      "[I 2024-03-08 09:52:36,497] Trial 29 finished with value: 966677.6841528132 and parameters: {'stop_loss': 0.004663282177342614, 'take_profit': 0.020425063381167886, 'n_shares': 35}. Best is trial 26 with value: 995239.6691646872.\n",
      "[I 2024-03-08 09:52:36,498] A new study created in memory with name: no-name-f8e81fcd-ec4f-4533-8249-078987c64026\n",
      "[I 2024-03-08 09:52:36,527] Trial 0 finished with value: 879240.2828786891 and parameters: {'stop_loss': 0.004020132777473071, 'take_profit': 0.04733306130847946, 'n_shares': 165}. Best is trial 0 with value: 879240.2828786891.\n",
      "[I 2024-03-08 09:52:36,555] Trial 1 finished with value: 975848.0565757374 and parameters: {'stop_loss': 0.029824630495788748, 'take_profit': 0.017892905935808827, 'n_shares': 33}. Best is trial 1 with value: 975848.0565757374.\n",
      "[I 2024-03-08 09:52:36,583] Trial 2 finished with value: 863870.8643359753 and parameters: {'stop_loss': 0.01086606253013728, 'take_profit': 0.03085663159180794, 'n_shares': 186}. Best is trial 1 with value: 975848.0565757374.\n",
      "[I 2024-03-08 09:52:36,611] Trial 3 finished with value: 898269.0867887125 and parameters: {'stop_loss': 0.03707105721875666, 'take_profit': 0.008394439101353216, 'n_shares': 139}. Best is trial 1 with value: 975848.0565757374.\n",
      "[I 2024-03-08 09:52:36,639] Trial 4 finished with value: 986094.3356042127 and parameters: {'stop_loss': 0.023260482061211844, 'take_profit': 0.012856568652379455, 'n_shares': 19}. Best is trial 4 with value: 986094.3356042127.\n",
      "[I 2024-03-08 09:52:36,667] Trial 5 finished with value: 931935.4321679875 and parameters: {'stop_loss': 0.02972415011278194, 'take_profit': 0.037947628171319796, 'n_shares': 93}. Best is trial 4 with value: 986094.3356042127.\n",
      "[I 2024-03-08 09:52:36,695] Trial 6 finished with value: 942181.7111964643 and parameters: {'stop_loss': 0.018094661965138974, 'take_profit': 0.0060576219493969005, 'n_shares': 79}. Best is trial 4 with value: 986094.3356042127.\n",
      "[I 2024-03-08 09:52:36,722] Trial 7 finished with value: 973652.4253553506 and parameters: {'stop_loss': 0.014886149066718311, 'take_profit': 0.006817750763152226, 'n_shares': 36}. Best is trial 4 with value: 986094.3356042127.\n",
      "[I 2024-03-08 09:52:36,750] Trial 8 finished with value: 898269.0867887125 and parameters: {'stop_loss': 0.03199928115702425, 'take_profit': 0.017712552522636094, 'n_shares': 139}. Best is trial 4 with value: 986094.3356042127.\n",
      "[I 2024-03-08 09:52:36,779] Trial 9 finished with value: 899000.9638621758 and parameters: {'stop_loss': 0.020045517994786998, 'take_profit': 0.03806818895443628, 'n_shares': 138}. Best is trial 4 with value: 986094.3356042127.\n",
      "[I 2024-03-08 09:52:36,816] Trial 10 finished with value: 996340.6146326873 and parameters: {'stop_loss': 0.04618445191623885, 'take_profit': 0.019215426675639337, 'n_shares': 5}. Best is trial 10 with value: 996340.6146326873.\n",
      "[I 2024-03-08 09:52:36,850] Trial 11 finished with value: 987558.0897511375 and parameters: {'stop_loss': 0.04894292358810742, 'take_profit': 0.01882064069635808, 'n_shares': 17}. Best is trial 10 with value: 996340.6146326873.\n",
      "[I 2024-03-08 09:52:36,885] Trial 12 finished with value: 996340.6146326873 and parameters: {'stop_loss': 0.04922803388845938, 'take_profit': 0.024887472568744306, 'n_shares': 5}. Best is trial 10 with value: 996340.6146326873.\n",
      "[I 2024-03-08 09:52:36,919] Trial 13 finished with value: 956819.2526657127 and parameters: {'stop_loss': 0.04801112595476774, 'take_profit': 0.026765165483331545, 'n_shares': 59}. Best is trial 10 with value: 996340.6146326873.\n",
      "[I 2024-03-08 09:52:36,955] Trial 14 finished with value: 994144.9834122992 and parameters: {'stop_loss': 0.04282602692285003, 'take_profit': 0.02448893708213578, 'n_shares': 8}. Best is trial 10 with value: 996340.6146326873.\n",
      "[I 2024-03-08 09:52:36,989] Trial 15 finished with value: 957551.1297391753 and parameters: {'stop_loss': 0.04001570711654559, 'take_profit': 0.03183614337975913, 'n_shares': 58}. Best is trial 10 with value: 996340.6146326873.\n",
      "[I 2024-03-08 09:52:37,025] Trial 16 finished with value: 961210.5151064876 and parameters: {'stop_loss': 0.04557104938111461, 'take_profit': 0.02403209308322937, 'n_shares': 53}. Best is trial 10 with value: 996340.6146326873.\n",
      "[I 2024-03-08 09:52:37,061] Trial 17 finished with value: 995608.7375592259 and parameters: {'stop_loss': 0.039147367672480456, 'take_profit': 0.012940377556395134, 'n_shares': 6}. Best is trial 10 with value: 996340.6146326873.\n",
      "[I 2024-03-08 09:52:37,095] Trial 18 finished with value: 972188.6712084241 and parameters: {'stop_loss': 0.03521634091853163, 'take_profit': 0.035586975022930935, 'n_shares': 38}. Best is trial 10 with value: 996340.6146326873.\n",
      "[I 2024-03-08 09:52:37,131] Trial 19 finished with value: 914370.382404889 and parameters: {'stop_loss': 0.0441032920678227, 'take_profit': 0.021610054346545657, 'n_shares': 117}. Best is trial 10 with value: 996340.6146326873.\n",
      "[I 2024-03-08 09:52:37,166] Trial 20 finished with value: 944377.3424168503 and parameters: {'stop_loss': 0.02568322264134946, 'take_profit': 0.04627478968184951, 'n_shares': 76}. Best is trial 10 with value: 996340.6146326873.\n",
      "[I 2024-03-08 09:52:37,203] Trial 21 finished with value: 993413.1063388361 and parameters: {'stop_loss': 0.04021445076962003, 'take_profit': 0.012909511139849955, 'n_shares': 9}. Best is trial 10 with value: 996340.6146326873.\n",
      "[I 2024-03-08 09:52:37,239] Trial 22 finished with value: 996340.6146326873 and parameters: {'stop_loss': 0.049931847209406625, 'take_profit': 0.011980958577180578, 'n_shares': 5}. Best is trial 10 with value: 996340.6146326873.\n",
      "[I 2024-03-08 09:52:37,276] Trial 23 finished with value: 976579.933649201 and parameters: {'stop_loss': 0.049330417274960105, 'take_profit': 0.027863404414481496, 'n_shares': 32}. Best is trial 10 with value: 996340.6146326873.\n",
      "[I 2024-03-08 09:52:37,312] Trial 24 finished with value: 980971.196089976 and parameters: {'stop_loss': 0.044833482927272246, 'take_profit': 0.011366218155348506, 'n_shares': 26}. Best is trial 10 with value: 996340.6146326873.\n",
      "[I 2024-03-08 09:52:37,347] Trial 25 finished with value: 964869.9004738 and parameters: {'stop_loss': 0.048984846470912675, 'take_profit': 0.020070989681669937, 'n_shares': 48}. Best is trial 10 with value: 996340.6146326873.\n",
      "[I 2024-03-08 09:52:37,382] Trial 26 finished with value: 946572.9736372383 and parameters: {'stop_loss': 0.03411809754909556, 'take_profit': 0.0026994929135132593, 'n_shares': 73}. Best is trial 10 with value: 996340.6146326873.\n",
      "[I 2024-03-08 09:52:37,417] Trial 27 finished with value: 984630.5814572873 and parameters: {'stop_loss': 0.042436135585822245, 'take_profit': 0.01573184006515283, 'n_shares': 21}. Best is trial 10 with value: 996340.6146326873.\n",
      "[I 2024-03-08 09:52:37,451] Trial 28 finished with value: 922421.0302129746 and parameters: {'stop_loss': 0.04632511852265055, 'take_profit': 0.023674201961977524, 'n_shares': 106}. Best is trial 10 with value: 996340.6146326873.\n",
      "[I 2024-03-08 09:52:37,485] Trial 29 finished with value: 967797.4087676497 and parameters: {'stop_loss': 0.049939661532011466, 'take_profit': 0.015320654978399934, 'n_shares': 44}. Best is trial 10 with value: 996340.6146326873.\n",
      "[I 2024-03-08 09:52:37,486] A new study created in memory with name: no-name-351e23c1-5ddc-4e36-b208-f8932ac3d7a2\n",
      "[I 2024-03-08 09:52:37,514] Trial 0 finished with value: 845132.8044778024 and parameters: {'stop_loss': 0.04968801289178231, 'take_profit': 0.007030357389089409, 'n_shares': 168}. Best is trial 0 with value: 845132.8044778024.\n",
      "[I 2024-03-08 09:52:37,543] Trial 1 finished with value: 981563.4291044972 and parameters: {'stop_loss': 0.009802023824887342, 'take_profit': 0.0485013919424758, 'n_shares': 20}. Best is trial 1 with value: 981563.4291044972.\n",
      "[I 2024-03-08 09:52:37,572] Trial 2 finished with value: 887536.9175374494 and parameters: {'stop_loss': 0.007759880845318227, 'take_profit': 0.04985390240486338, 'n_shares': 122}. Best is trial 1 with value: 981563.4291044972.\n",
      "[I 2024-03-08 09:52:37,602] Trial 3 finished with value: 963126.8582090009 and parameters: {'stop_loss': 0.017507729109777305, 'take_profit': 0.0428633577620879, 'n_shares': 40}. Best is trial 1 with value: 981563.4291044972.\n",
      "[I 2024-03-08 09:52:37,630] Trial 4 finished with value: 983407.0861940515 and parameters: {'stop_loss': 0.006830487483462166, 'take_profit': 0.024129417905243214, 'n_shares': 18}. Best is trial 4 with value: 983407.0861940515.\n",
      "[I 2024-03-08 09:52:37,659] Trial 5 finished with value: 870022.1751867265 and parameters: {'stop_loss': 0.013694798561999035, 'take_profit': 0.006968868544262555, 'n_shares': 141}. Best is trial 4 with value: 983407.0861940515.\n",
      "[I 2024-03-08 09:52:37,688] Trial 6 finished with value: 953908.5727612497 and parameters: {'stop_loss': 0.04291218931693363, 'take_profit': 0.04609191417039025, 'n_shares': 50}. Best is trial 4 with value: 983407.0861940515.\n",
      "[I 2024-03-08 09:52:37,717] Trial 7 finished with value: 933628.3447761992 and parameters: {'stop_loss': 0.020657505452967153, 'take_profit': 0.022909417370859254, 'n_shares': 72}. Best is trial 4 with value: 983407.0861940515.\n",
      "[I 2024-03-08 09:52:37,748] Trial 8 finished with value: 877396.8035449248 and parameters: {'stop_loss': 0.027659469132978842, 'take_profit': 0.04633541900004291, 'n_shares': 133}. Best is trial 4 with value: 983407.0861940515.\n",
      "[I 2024-03-08 09:52:37,778] Trial 9 finished with value: 885693.2604478995 and parameters: {'stop_loss': 0.0078139915648859, 'take_profit': 0.040684682897740194, 'n_shares': 124}. Best is trial 4 with value: 983407.0861940515.\n",
      "[I 2024-03-08 09:52:37,815] Trial 10 finished with value: 995390.8572761245 and parameters: {'stop_loss': 0.031611518551324366, 'take_profit': 0.02367909223899368, 'n_shares': 5}. Best is trial 10 with value: 995390.8572761245.\n",
      "[I 2024-03-08 09:52:37,851] Trial 11 finished with value: 994469.0287313511 and parameters: {'stop_loss': 0.03247145243345811, 'take_profit': 0.02380183501409425, 'n_shares': 6}. Best is trial 10 with value: 995390.8572761245.\n",
      "[I 2024-03-08 09:52:37,886] Trial 12 finished with value: 994469.0287313511 and parameters: {'stop_loss': 0.03283484031480455, 'take_profit': 0.032124025979286486, 'n_shares': 6}. Best is trial 10 with value: 995390.8572761245.\n",
      "[I 2024-03-08 09:52:37,923] Trial 13 finished with value: 922566.4022389007 and parameters: {'stop_loss': 0.03555858318573464, 'take_profit': 0.017714685938840527, 'n_shares': 84}. Best is trial 10 with value: 995390.8572761245.\n",
      "[I 2024-03-08 09:52:37,959] Trial 14 finished with value: 817477.9481345507 and parameters: {'stop_loss': 0.03564441775210149, 'take_profit': 0.03222634506793976, 'n_shares': 198}. Best is trial 10 with value: 995390.8572761245.\n",
      "[I 2024-03-08 09:52:37,995] Trial 15 finished with value: 953908.5727612497 and parameters: {'stop_loss': 0.02803373794349802, 'take_profit': 0.015898606931649618, 'n_shares': 50}. Best is trial 10 with value: 995390.8572761245.\n",
      "[I 2024-03-08 09:52:38,034] Trial 16 finished with value: 926253.7164179978 and parameters: {'stop_loss': 0.04047488544257085, 'take_profit': 0.032775901160504675, 'n_shares': 80}. Best is trial 10 with value: 995390.8572761245.\n",
      "[I 2024-03-08 09:52:38,079] Trial 17 finished with value: 972345.143656755 and parameters: {'stop_loss': 0.025685717716184036, 'take_profit': 0.014027264346871304, 'n_shares': 30}. Best is trial 10 with value: 995390.8572761245.\n",
      "[I 2024-03-08 09:52:38,116] Trial 18 finished with value: 993547.2001865748 and parameters: {'stop_loss': 0.0229003858482638, 'take_profit': 0.026843359744362947, 'n_shares': 7}. Best is trial 10 with value: 995390.8572761245.\n",
      "[I 2024-03-08 09:52:38,151] Trial 19 finished with value: 941924.801679173 and parameters: {'stop_loss': 0.03157988122999719, 'take_profit': 0.01993754042846308, 'n_shares': 63}. Best is trial 10 with value: 995390.8572761245.\n",
      "[I 2024-03-08 09:52:38,187] Trial 20 finished with value: 905973.4884329507 and parameters: {'stop_loss': 0.04200117776729081, 'take_profit': 0.02772487969749455, 'n_shares': 102}. Best is trial 10 with value: 995390.8572761245.\n",
      "[I 2024-03-08 09:52:38,225] Trial 21 finished with value: 995390.8572761245 and parameters: {'stop_loss': 0.033357056313698966, 'take_profit': 0.03476242279671477, 'n_shares': 5}. Best is trial 10 with value: 995390.8572761245.\n",
      "[I 2024-03-08 09:52:38,260] Trial 22 finished with value: 974188.8007463004 and parameters: {'stop_loss': 0.03149892857228268, 'take_profit': 0.03738449717423504, 'n_shares': 28}. Best is trial 10 with value: 995390.8572761245.\n",
      "[I 2024-03-08 09:52:38,296] Trial 23 finished with value: 992625.3716417997 and parameters: {'stop_loss': 0.038646215703657484, 'take_profit': 0.011453869358503161, 'n_shares': 8}. Best is trial 10 with value: 995390.8572761245.\n",
      "[I 2024-03-08 09:52:38,334] Trial 24 finished with value: 964048.686753775 and parameters: {'stop_loss': 0.03572273849119352, 'take_profit': 0.03688680738508239, 'n_shares': 39}. Best is trial 10 with value: 995390.8572761245.\n",
      "[I 2024-03-08 09:52:38,371] Trial 25 finished with value: 947455.7729478253 and parameters: {'stop_loss': 0.04979925519696167, 'take_profit': 0.02835209682970023, 'n_shares': 57}. Best is trial 10 with value: 995390.8572761245.\n",
      "[I 2024-03-08 09:52:38,408] Trial 26 finished with value: 976954.286380623 and parameters: {'stop_loss': 0.04454924730077059, 'take_profit': 0.0222976463473935, 'n_shares': 25}. Best is trial 10 with value: 995390.8572761245.\n",
      "[I 2024-03-08 09:52:38,444] Trial 27 finished with value: 964970.5152985496 and parameters: {'stop_loss': 0.025176075190799924, 'take_profit': 0.030644850285407935, 'n_shares': 38}. Best is trial 10 with value: 995390.8572761245.\n",
      "[I 2024-03-08 09:52:38,482] Trial 28 finished with value: 910582.6311568245 and parameters: {'stop_loss': 0.0029892106442812594, 'take_profit': 0.03662199861721208, 'n_shares': 97}. Best is trial 10 with value: 995390.8572761245.\n",
      "[I 2024-03-08 09:52:38,518] Trial 29 finished with value: 832227.2048509504 and parameters: {'stop_loss': 0.046368376055806265, 'take_profit': 0.0034259281156048017, 'n_shares': 182}. Best is trial 10 with value: 995390.8572761245.\n",
      "[I 2024-03-08 09:52:38,519] A new study created in memory with name: no-name-f1701c5f-af0d-4311-9047-fe35d1e429d4\n",
      "[I 2024-03-08 09:52:38,548] Trial 0 finished with value: 870256.6379196264 and parameters: {'stop_loss': 0.0429403451109618, 'take_profit': 0.018874507648634093, 'n_shares': 138}. Best is trial 0 with value: 870256.6379196264.\n",
      "[I 2024-03-08 09:52:38,577] Trial 1 finished with value: 940769.3347024353 and parameters: {'stop_loss': 0.04334712768277666, 'take_profit': 0.02732378033908344, 'n_shares': 63}. Best is trial 1 with value: 940769.3347024353.\n",
      "[I 2024-03-08 09:52:38,607] Trial 2 finished with value: 940769.3347024353 and parameters: {'stop_loss': 0.0401487504572104, 'take_profit': 0.014876461845266538, 'n_shares': 63}. Best is trial 1 with value: 940769.3347024353.\n",
      "[I 2024-03-08 09:52:38,636] Trial 3 finished with value: 965213.736253813 and parameters: {'stop_loss': 0.007028375437012433, 'take_profit': 0.046750929886398375, 'n_shares': 37}. Best is trial 3 with value: 965213.736253813.\n",
      "[I 2024-03-08 09:52:38,665] Trial 4 finished with value: 941709.5039928757 and parameters: {'stop_loss': 0.02561332400635029, 'take_profit': 0.03133565257976083, 'n_shares': 62}. Best is trial 3 with value: 965213.736253813.\n",
      "[I 2024-03-08 09:52:38,694] Trial 5 finished with value: 835470.3741734395 and parameters: {'stop_loss': 0.016135437417430384, 'take_profit': 0.031201659536500757, 'n_shares': 175}. Best is trial 3 with value: 965213.736253813.\n",
      "[I 2024-03-08 09:52:38,722] Trial 6 finished with value: 900342.0552136234 and parameters: {'stop_loss': 0.009688258957374418, 'take_profit': 0.0482376840470974, 'n_shares': 106}. Best is trial 3 with value: 965213.736253813.\n",
      "[I 2024-03-08 09:52:38,752] Trial 7 finished with value: 861795.114305687 and parameters: {'stop_loss': 0.02828084431717961, 'take_profit': 0.03953920234921331, 'n_shares': 147}. Best is trial 3 with value: 965213.736253813.\n",
      "[I 2024-03-08 09:52:38,784] Trial 8 finished with value: 861795.114305687 and parameters: {'stop_loss': 0.004242595052352213, 'take_profit': 0.03703186978298507, 'n_shares': 147}. Best is trial 3 with value: 965213.736253813.\n",
      "[I 2024-03-08 09:52:38,814] Trial 9 finished with value: 850513.0828204384 and parameters: {'stop_loss': 0.04595354911062918, 'take_profit': 0.024133087131480293, 'n_shares': 159}. Best is trial 3 with value: 965213.736253813.\n",
      "[I 2024-03-08 09:52:38,852] Trial 10 finished with value: 982136.7834816878 and parameters: {'stop_loss': 0.01830935089597416, 'take_profit': 0.007211444132478359, 'n_shares': 19}. Best is trial 10 with value: 982136.7834816878.\n",
      "[I 2024-03-08 09:52:38,888] Trial 11 finished with value: 987777.7992243144 and parameters: {'stop_loss': 0.01842704777106472, 'take_profit': 0.0032952971430109147, 'n_shares': 13}. Best is trial 11 with value: 987777.7992243144.\n",
      "[I 2024-03-08 09:52:38,923] Trial 12 finished with value: 992478.6456764993 and parameters: {'stop_loss': 0.020222723336001832, 'take_profit': 0.0036168636112383495, 'n_shares': 8}. Best is trial 12 with value: 992478.6456764993.\n",
      "[I 2024-03-08 09:52:38,960] Trial 13 finished with value: 991538.4763860608 and parameters: {'stop_loss': 0.02925298591181984, 'take_profit': 0.0029558091346846074, 'n_shares': 9}. Best is trial 12 with value: 992478.6456764993.\n",
      "[I 2024-03-08 09:52:38,997] Trial 14 finished with value: 966153.9055442507 and parameters: {'stop_loss': 0.031850891309519444, 'take_profit': 0.011683462529190771, 'n_shares': 36}. Best is trial 12 with value: 992478.6456764993.\n",
      "[I 2024-03-08 09:52:39,033] Trial 15 finished with value: 911624.0866988738 and parameters: {'stop_loss': 0.03581982711995091, 'take_profit': 0.0029980548478848843, 'n_shares': 94}. Best is trial 12 with value: 992478.6456764993.\n",
      "[I 2024-03-08 09:52:39,069] Trial 16 finished with value: 988717.9685147498 and parameters: {'stop_loss': 0.022642116651573705, 'take_profit': 0.01019939076830581, 'n_shares': 12}. Best is trial 12 with value: 992478.6456764993.\n",
      "[I 2024-03-08 09:52:39,107] Trial 17 finished with value: 961453.0590920622 and parameters: {'stop_loss': 0.012864508186993761, 'take_profit': 0.018359779156561035, 'n_shares': 41}. Best is trial 12 with value: 992478.6456764993.\n",
      "[I 2024-03-08 09:52:39,143] Trial 18 finished with value: 908803.5788275617 and parameters: {'stop_loss': 0.032391485477482614, 'take_profit': 0.008821631480192757, 'n_shares': 97}. Best is trial 12 with value: 992478.6456764993.\n",
      "[I 2024-03-08 09:52:39,180] Trial 19 finished with value: 994358.9842573759 and parameters: {'stop_loss': 0.02317465045357267, 'take_profit': 0.01505003213329349, 'n_shares': 6}. Best is trial 19 with value: 994358.9842573759.\n",
      "[I 2024-03-08 09:52:39,217] Trial 20 finished with value: 926666.7953458749 and parameters: {'stop_loss': 0.02319544771147346, 'take_profit': 0.01639444523552789, 'n_shares': 78}. Best is trial 19 with value: 994358.9842573759.\n",
      "[I 2024-03-08 09:52:39,252] Trial 21 finished with value: 995299.1535478123 and parameters: {'stop_loss': 0.031036986614475924, 'take_profit': 0.005854897199060619, 'n_shares': 5}. Best is trial 21 with value: 995299.1535478123.\n",
      "[I 2024-03-08 09:52:39,290] Trial 22 finished with value: 811966.1419124984 and parameters: {'stop_loss': 0.03667250311343185, 'take_profit': 0.0069133063985566436, 'n_shares': 200}. Best is trial 21 with value: 995299.1535478123.\n",
      "[I 2024-03-08 09:52:39,328] Trial 23 finished with value: 970854.7519964388 and parameters: {'stop_loss': 0.02268716765520553, 'take_profit': 0.012821451779506964, 'n_shares': 31}. Best is trial 21 with value: 995299.1535478123.\n",
      "[I 2024-03-08 09:52:39,365] Trial 24 finished with value: 977435.9370295006 and parameters: {'stop_loss': 0.01414057594489343, 'take_profit': 0.019980905248336636, 'n_shares': 24}. Best is trial 21 with value: 995299.1535478123.\n",
      "[I 2024-03-08 09:52:39,401] Trial 25 finished with value: 952051.3661876874 and parameters: {'stop_loss': 0.0494123349718248, 'take_profit': 0.0077116830213805835, 'n_shares': 51}. Best is trial 21 with value: 995299.1535478123.\n",
      "[I 2024-03-08 09:52:39,439] Trial 26 finished with value: 887179.6851474993 and parameters: {'stop_loss': 0.018810043286106547, 'take_profit': 0.021450586383916, 'n_shares': 120}. Best is trial 21 with value: 995299.1535478123.\n",
      "[I 2024-03-08 09:52:39,477] Trial 27 finished with value: 994358.9842573759 and parameters: {'stop_loss': 0.024975277707941154, 'take_profit': 0.013837564717721696, 'n_shares': 6}. Best is trial 21 with value: 995299.1535478123.\n",
      "[I 2024-03-08 09:52:39,514] Trial 28 finished with value: 975555.598448625 and parameters: {'stop_loss': 0.026584284978925128, 'take_profit': 0.014036386337148037, 'n_shares': 26}. Best is trial 21 with value: 995299.1535478123.\n",
      "[I 2024-03-08 09:52:39,551] Trial 29 finished with value: 955812.043349439 and parameters: {'stop_loss': 0.033366826830170816, 'take_profit': 0.02325098218382459, 'n_shares': 47}. Best is trial 21 with value: 995299.1535478123.\n"
     ]
    },
    {
     "name": "stdout",
     "output_type": "stream",
     "text": [
      "995299.1535478123\n",
      "('xg',)\n",
      "{'stop_loss': 0.034588981520722574, 'take_profit': 0.023717941532341004, 'n_shares': 5}\n"
     ]
    }
   ],
   "source": [
    "file_1d = optimize_file(data_1d)\n",
    "file_1m = optimize_file(data_1m)\n",
    "file_5m = optimize_file(data_5m)\n",
    "file_1h = optimize_file(data_1h)\n"
   ]
  },
  {
   "cell_type": "code",
   "execution_count": 23,
   "id": "4d341a5f",
   "metadata": {
    "ExecuteTime": {
     "end_time": "2024-03-08T15:52:39.559067Z",
     "start_time": "2024-03-08T15:52:39.556680Z"
    }
   },
   "outputs": [],
   "source": []
  }
 ],
 "metadata": {
  "kernelspec": {
   "display_name": "Python 3 (ipykernel)",
   "language": "python",
   "name": "python3"
  },
  "language_info": {
   "codemirror_mode": {
    "name": "ipython",
    "version": 3
   },
   "file_extension": ".py",
   "mimetype": "text/x-python",
   "name": "python",
   "nbconvert_exporter": "python",
   "pygments_lexer": "ipython3",
   "version": "3.11.4"
  }
 },
 "nbformat": 4,
 "nbformat_minor": 5
}
