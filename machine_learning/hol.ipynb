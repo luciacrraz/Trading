{
 "cells": [
  {
   "cell_type": "code",
   "execution_count": 184,
   "id": "48634767",
   "metadata": {
    "ExecuteTime": {
     "end_time": "2024-03-08T16:44:01.238946Z",
     "start_time": "2024-03-08T16:44:01.206695Z"
    }
   },
   "outputs": [],
   "source": [
    "import pandas as pd\n",
    "import ta \n",
    "import optuna \n",
    "import time\n",
    "import numpy as np\n",
    "from multiprocessing import Pool\n",
    "from itertools import combinations, chain \n",
    "from sklearn.datasets import load_iris\n",
    "from sklearn.model_selection import train_test_split\n",
    "from sklearn.preprocessing import StandardScaler\n",
    "from sklearn.linear_model import LogisticRegression\n",
    "from sklearn.svm import SVC\n",
    "from xgboost import XGBClassifier\n",
    "from sklearn.metrics import accuracy_score\n",
    "import warnings\n",
    "warnings.filterwarnings(\"ignore\")"
   ]
  },
  {
   "cell_type": "code",
   "outputs": [],
   "source": [
    "data_1d = pd.read_csv(\"../data/aapl_1d_train.csv\")\n",
    "data_1d = data_1d.dropna()\n",
    "data_1d.reset_index(drop=True, inplace=True)"
   ],
   "metadata": {
    "collapsed": false,
    "ExecuteTime": {
     "end_time": "2024-03-08T16:44:01.264885Z",
     "start_time": "2024-03-08T16:44:01.236059Z"
    }
   },
   "id": "53de620ec153039b",
   "execution_count": 185
  },
  {
   "cell_type": "code",
   "outputs": [],
   "source": [
    "data_1h = pd.read_csv(\"../data/aapl_1h_train.csv\")\n",
    "data_1h= data_1h.dropna()\n",
    "data_1h.reset_index(drop=True, inplace=True)"
   ],
   "metadata": {
    "collapsed": false,
    "ExecuteTime": {
     "end_time": "2024-03-08T16:44:01.270602Z",
     "start_time": "2024-03-08T16:44:01.251446Z"
    }
   },
   "id": "d3e5e38789841ce1",
   "execution_count": 186
  },
  {
   "cell_type": "code",
   "outputs": [],
   "source": [
    "data_5m = pd.read_csv(\"../data/aapl_5m_train.csv\")\n",
    "data_5m = data_5m.dropna()\n",
    "data_5m.reset_index(drop=True, inplace=True)"
   ],
   "metadata": {
    "collapsed": false,
    "ExecuteTime": {
     "end_time": "2024-03-08T16:44:01.328652Z",
     "start_time": "2024-03-08T16:44:01.268825Z"
    }
   },
   "id": "e1497ba14f06d99b",
   "execution_count": 187
  },
  {
   "cell_type": "code",
   "execution_count": 188,
   "id": "bd6a19f0",
   "metadata": {
    "ExecuteTime": {
     "end_time": "2024-03-08T16:44:01.337279Z",
     "start_time": "2024-03-08T16:44:01.327360Z"
    }
   },
   "outputs": [],
   "source": [
    "data_1m = pd.read_csv(\"../data/aapl_1m_train.csv\")\n",
    "data_1m = data_1m.dropna()\n",
    "data_1m.reset_index(drop=True, inplace=True)"
   ]
  },
  {
   "cell_type": "code",
   "execution_count": 189,
   "id": "5a5b2716",
   "metadata": {
    "ExecuteTime": {
     "end_time": "2024-03-08T16:44:01.338183Z",
     "start_time": "2024-03-08T16:44:01.332167Z"
    }
   },
   "outputs": [],
   "source": [
    "def powerset(s):\n",
    "    return chain.from_iterable(combinations(s,r) for r in range(1,len(s)+1))"
   ]
  },
  {
   "cell_type": "code",
   "execution_count": 190,
   "id": "804c600e",
   "metadata": {
    "ExecuteTime": {
     "end_time": "2024-03-08T16:44:01.346683Z",
     "start_time": "2024-03-08T16:44:01.336953Z"
    }
   },
   "outputs": [],
   "source": [
    "def file_features(data, ds_type: str):\n",
    "    data1=pd.DataFrame()\n",
    "    #Calcular indicadores tecnicos\n",
    "    cmf_data = ta.volume.ChaikinMoneyFlowIndicator(data.High, data.Low, data.Close, data.Volume, window = 14)\n",
    "    rsi_data = ta.momentum.RSIIndicator(data.Close, window=14)\n",
    "    \n",
    "    data1[\"CMF\"] = cmf_data.chaikin_money_flow()\n",
    "    data1[\"RSI\"] = rsi_data.rsi()\n",
    "    # Calcular la volatilidad\n",
    "    data1['Volatility'] = data['High'] - data['Low']\n",
    "    data1['Close_Lag0'] = data['Close']\n",
    "    # Calcular las tendencias\n",
    "    for i in range(1, 5 + 1):\n",
    "        data1[f'Close_Lag{i}'] = data['Close'].shift(i)\n",
    "    #Variable ded respuesta\n",
    "    if ds_type == \"buy\":\n",
    "        data1['Response'] = (data['Close'] < data['Close'].shift(-10))\n",
    "    else:\n",
    "        data1['Response'] = (data['Close'] > data['Close'].shift(-10))\n",
    "    \n",
    "    data1 = data1.drop(data1.index[:30])\n",
    "    data1 = data1.drop(data1.index[-30:])\n",
    "    data1.reset_index(drop=True, inplace=True)\n",
    "    \n",
    "    return data1"
   ]
  },
  {
   "cell_type": "code",
   "outputs": [
    {
     "data": {
      "text/plain": "           CMF        RSI  Volatility  Close_Lag0  Close_Lag1  Close_Lag2  \\\n0     0.246933  61.064016      4.7488    119.0000    115.8080    108.7520   \n1     0.223372  55.142449      6.0032    114.1280    119.0000    115.8080   \n2     0.314459  55.852561      2.3856    114.8784    114.1280    119.0000   \n3     0.171494  51.598684      4.4912    111.2496    114.8784    114.1280   \n4     0.254775  54.250846     10.2480    113.8144    111.2496    114.8784   \n...        ...        ...         ...         ...         ...         ...   \n5219  0.040511  45.850110      3.1900    119.4900    115.9700    116.3200   \n5220  0.035327  45.534960      1.9600    119.2100    119.4900    115.9700   \n5221  0.049474  45.606858      1.8000    119.2600    119.2100    119.4900   \n5222  0.049731  47.169059      2.8400    120.3000    119.2600    119.2100   \n5223  0.110775  45.926133      1.7100    119.3900    120.3000    119.2600   \n\n      Close_Lag3  Close_Lag4  Close_Lag5  Response  \n0       113.5008    112.6272    114.8784     False  \n1       108.7520    113.5008    112.6272     False  \n2       115.8080    108.7520    113.5008     False  \n3       119.0000    115.8080    108.7520     False  \n4       114.1280    119.0000    115.8080     False  \n...          ...         ...         ...       ...  \n5219    118.6900    119.0300    114.9500      True  \n5220    116.3200    118.6900    119.0300      True  \n5221    115.9700    116.3200    118.6900      True  \n5222    119.4900    115.9700    116.3200     False  \n5223    119.2100    119.4900    115.9700     False  \n\n[5224 rows x 10 columns]",
      "text/html": "<div>\n<style scoped>\n    .dataframe tbody tr th:only-of-type {\n        vertical-align: middle;\n    }\n\n    .dataframe tbody tr th {\n        vertical-align: top;\n    }\n\n    .dataframe thead th {\n        text-align: right;\n    }\n</style>\n<table border=\"1\" class=\"dataframe\">\n  <thead>\n    <tr style=\"text-align: right;\">\n      <th></th>\n      <th>CMF</th>\n      <th>RSI</th>\n      <th>Volatility</th>\n      <th>Close_Lag0</th>\n      <th>Close_Lag1</th>\n      <th>Close_Lag2</th>\n      <th>Close_Lag3</th>\n      <th>Close_Lag4</th>\n      <th>Close_Lag5</th>\n      <th>Response</th>\n    </tr>\n  </thead>\n  <tbody>\n    <tr>\n      <th>0</th>\n      <td>0.246933</td>\n      <td>61.064016</td>\n      <td>4.7488</td>\n      <td>119.0000</td>\n      <td>115.8080</td>\n      <td>108.7520</td>\n      <td>113.5008</td>\n      <td>112.6272</td>\n      <td>114.8784</td>\n      <td>False</td>\n    </tr>\n    <tr>\n      <th>1</th>\n      <td>0.223372</td>\n      <td>55.142449</td>\n      <td>6.0032</td>\n      <td>114.1280</td>\n      <td>119.0000</td>\n      <td>115.8080</td>\n      <td>108.7520</td>\n      <td>113.5008</td>\n      <td>112.6272</td>\n      <td>False</td>\n    </tr>\n    <tr>\n      <th>2</th>\n      <td>0.314459</td>\n      <td>55.852561</td>\n      <td>2.3856</td>\n      <td>114.8784</td>\n      <td>114.1280</td>\n      <td>119.0000</td>\n      <td>115.8080</td>\n      <td>108.7520</td>\n      <td>113.5008</td>\n      <td>False</td>\n    </tr>\n    <tr>\n      <th>3</th>\n      <td>0.171494</td>\n      <td>51.598684</td>\n      <td>4.4912</td>\n      <td>111.2496</td>\n      <td>114.8784</td>\n      <td>114.1280</td>\n      <td>119.0000</td>\n      <td>115.8080</td>\n      <td>108.7520</td>\n      <td>False</td>\n    </tr>\n    <tr>\n      <th>4</th>\n      <td>0.254775</td>\n      <td>54.250846</td>\n      <td>10.2480</td>\n      <td>113.8144</td>\n      <td>111.2496</td>\n      <td>114.8784</td>\n      <td>114.1280</td>\n      <td>119.0000</td>\n      <td>115.8080</td>\n      <td>False</td>\n    </tr>\n    <tr>\n      <th>...</th>\n      <td>...</td>\n      <td>...</td>\n      <td>...</td>\n      <td>...</td>\n      <td>...</td>\n      <td>...</td>\n      <td>...</td>\n      <td>...</td>\n      <td>...</td>\n      <td>...</td>\n    </tr>\n    <tr>\n      <th>5219</th>\n      <td>0.040511</td>\n      <td>45.850110</td>\n      <td>3.1900</td>\n      <td>119.4900</td>\n      <td>115.9700</td>\n      <td>116.3200</td>\n      <td>118.6900</td>\n      <td>119.0300</td>\n      <td>114.9500</td>\n      <td>True</td>\n    </tr>\n    <tr>\n      <th>5220</th>\n      <td>0.035327</td>\n      <td>45.534960</td>\n      <td>1.9600</td>\n      <td>119.2100</td>\n      <td>119.4900</td>\n      <td>115.9700</td>\n      <td>116.3200</td>\n      <td>118.6900</td>\n      <td>119.0300</td>\n      <td>True</td>\n    </tr>\n    <tr>\n      <th>5221</th>\n      <td>0.049474</td>\n      <td>45.606858</td>\n      <td>1.8000</td>\n      <td>119.2600</td>\n      <td>119.2100</td>\n      <td>119.4900</td>\n      <td>115.9700</td>\n      <td>116.3200</td>\n      <td>118.6900</td>\n      <td>True</td>\n    </tr>\n    <tr>\n      <th>5222</th>\n      <td>0.049731</td>\n      <td>47.169059</td>\n      <td>2.8400</td>\n      <td>120.3000</td>\n      <td>119.2600</td>\n      <td>119.2100</td>\n      <td>119.4900</td>\n      <td>115.9700</td>\n      <td>116.3200</td>\n      <td>False</td>\n    </tr>\n    <tr>\n      <th>5223</th>\n      <td>0.110775</td>\n      <td>45.926133</td>\n      <td>1.7100</td>\n      <td>119.3900</td>\n      <td>120.3000</td>\n      <td>119.2600</td>\n      <td>119.2100</td>\n      <td>119.4900</td>\n      <td>115.9700</td>\n      <td>False</td>\n    </tr>\n  </tbody>\n</table>\n<p>5224 rows × 10 columns</p>\n</div>"
     },
     "execution_count": 191,
     "metadata": {},
     "output_type": "execute_result"
    }
   ],
   "source": [
    "dataresult_long_1d = file_features(data_1d, ds_type=\"buy\")\n",
    "dataresult_short_1d = file_features(data_1d, ds_type=\"sell\")\n",
    "dataresult_short_1d"
   ],
   "metadata": {
    "collapsed": false,
    "ExecuteTime": {
     "end_time": "2024-03-08T16:44:01.415403Z",
     "start_time": "2024-03-08T16:44:01.339839Z"
    }
   },
   "id": "f730d1f3e2a7223a",
   "execution_count": 191
  },
  {
   "cell_type": "code",
   "outputs": [
    {
     "data": {
      "text/plain": "          CMF        RSI  Volatility  Close_Lag0  Close_Lag1  Close_Lag2  \\\n0    0.037057  42.198356    0.650001  119.830001  119.889999  121.150001   \n1    0.110396  44.020547    1.010003  120.059997  119.830001  119.889999   \n2    0.079499  44.875763    0.485000  120.165100  120.059997  119.830001   \n3    0.007440  43.137629    0.790001  119.907699  120.165100  120.059997   \n4    0.016513  37.447391    1.139999  118.970001  119.907699  120.165100   \n..        ...        ...         ...         ...         ...         ...   \n315  0.230007  60.275954    0.309998  131.610000  131.755905  132.080001   \n316  0.129291  55.880925    0.960006  130.960006  131.610000  131.755905   \n317  0.148648  65.063275    2.080490  133.135604  130.960006  131.610000   \n318  0.132043  59.049706    1.350006  132.147094  133.135604  130.960006   \n319  0.057199  57.503207    0.770004  131.880004  132.147094  133.135604   \n\n     Close_Lag3  Close_Lag4  Close_Lag5  Response  \n0    120.699996  120.955001  120.608398      True  \n1    121.150001  120.699996  120.955001      True  \n2    119.889999  121.150001  120.699996      True  \n3    119.830001  119.889999  121.150001      True  \n4    120.059997  119.830001  119.889999      True  \n..          ...         ...         ...       ...  \n315  132.068298  131.389999  131.733795     False  \n316  132.080001  132.068298  131.389999     False  \n317  131.755905  132.080001  132.068298     False  \n318  131.610000  131.755905  132.080001     False  \n319  130.960006  131.610000  131.755905     False  \n\n[320 rows x 10 columns]",
      "text/html": "<div>\n<style scoped>\n    .dataframe tbody tr th:only-of-type {\n        vertical-align: middle;\n    }\n\n    .dataframe tbody tr th {\n        vertical-align: top;\n    }\n\n    .dataframe thead th {\n        text-align: right;\n    }\n</style>\n<table border=\"1\" class=\"dataframe\">\n  <thead>\n    <tr style=\"text-align: right;\">\n      <th></th>\n      <th>CMF</th>\n      <th>RSI</th>\n      <th>Volatility</th>\n      <th>Close_Lag0</th>\n      <th>Close_Lag1</th>\n      <th>Close_Lag2</th>\n      <th>Close_Lag3</th>\n      <th>Close_Lag4</th>\n      <th>Close_Lag5</th>\n      <th>Response</th>\n    </tr>\n  </thead>\n  <tbody>\n    <tr>\n      <th>0</th>\n      <td>0.037057</td>\n      <td>42.198356</td>\n      <td>0.650001</td>\n      <td>119.830001</td>\n      <td>119.889999</td>\n      <td>121.150001</td>\n      <td>120.699996</td>\n      <td>120.955001</td>\n      <td>120.608398</td>\n      <td>True</td>\n    </tr>\n    <tr>\n      <th>1</th>\n      <td>0.110396</td>\n      <td>44.020547</td>\n      <td>1.010003</td>\n      <td>120.059997</td>\n      <td>119.830001</td>\n      <td>119.889999</td>\n      <td>121.150001</td>\n      <td>120.699996</td>\n      <td>120.955001</td>\n      <td>True</td>\n    </tr>\n    <tr>\n      <th>2</th>\n      <td>0.079499</td>\n      <td>44.875763</td>\n      <td>0.485000</td>\n      <td>120.165100</td>\n      <td>120.059997</td>\n      <td>119.830001</td>\n      <td>119.889999</td>\n      <td>121.150001</td>\n      <td>120.699996</td>\n      <td>True</td>\n    </tr>\n    <tr>\n      <th>3</th>\n      <td>0.007440</td>\n      <td>43.137629</td>\n      <td>0.790001</td>\n      <td>119.907699</td>\n      <td>120.165100</td>\n      <td>120.059997</td>\n      <td>119.830001</td>\n      <td>119.889999</td>\n      <td>121.150001</td>\n      <td>True</td>\n    </tr>\n    <tr>\n      <th>4</th>\n      <td>0.016513</td>\n      <td>37.447391</td>\n      <td>1.139999</td>\n      <td>118.970001</td>\n      <td>119.907699</td>\n      <td>120.165100</td>\n      <td>120.059997</td>\n      <td>119.830001</td>\n      <td>119.889999</td>\n      <td>True</td>\n    </tr>\n    <tr>\n      <th>...</th>\n      <td>...</td>\n      <td>...</td>\n      <td>...</td>\n      <td>...</td>\n      <td>...</td>\n      <td>...</td>\n      <td>...</td>\n      <td>...</td>\n      <td>...</td>\n      <td>...</td>\n    </tr>\n    <tr>\n      <th>315</th>\n      <td>0.230007</td>\n      <td>60.275954</td>\n      <td>0.309998</td>\n      <td>131.610000</td>\n      <td>131.755905</td>\n      <td>132.080001</td>\n      <td>132.068298</td>\n      <td>131.389999</td>\n      <td>131.733795</td>\n      <td>False</td>\n    </tr>\n    <tr>\n      <th>316</th>\n      <td>0.129291</td>\n      <td>55.880925</td>\n      <td>0.960006</td>\n      <td>130.960006</td>\n      <td>131.610000</td>\n      <td>131.755905</td>\n      <td>132.080001</td>\n      <td>132.068298</td>\n      <td>131.389999</td>\n      <td>False</td>\n    </tr>\n    <tr>\n      <th>317</th>\n      <td>0.148648</td>\n      <td>65.063275</td>\n      <td>2.080490</td>\n      <td>133.135604</td>\n      <td>130.960006</td>\n      <td>131.610000</td>\n      <td>131.755905</td>\n      <td>132.080001</td>\n      <td>132.068298</td>\n      <td>False</td>\n    </tr>\n    <tr>\n      <th>318</th>\n      <td>0.132043</td>\n      <td>59.049706</td>\n      <td>1.350006</td>\n      <td>132.147094</td>\n      <td>133.135604</td>\n      <td>130.960006</td>\n      <td>131.610000</td>\n      <td>131.755905</td>\n      <td>132.080001</td>\n      <td>False</td>\n    </tr>\n    <tr>\n      <th>319</th>\n      <td>0.057199</td>\n      <td>57.503207</td>\n      <td>0.770004</td>\n      <td>131.880004</td>\n      <td>132.147094</td>\n      <td>133.135604</td>\n      <td>130.960006</td>\n      <td>131.610000</td>\n      <td>131.755905</td>\n      <td>False</td>\n    </tr>\n  </tbody>\n</table>\n<p>320 rows × 10 columns</p>\n</div>"
     },
     "execution_count": 192,
     "metadata": {},
     "output_type": "execute_result"
    }
   ],
   "source": [
    "dataresult_long_1h = file_features(data_1h, ds_type=\"buy\")\n",
    "dataresult_short_1h = file_features(data_1h, ds_type=\"sell\")\n",
    "dataresult_short_1h"
   ],
   "metadata": {
    "collapsed": false,
    "ExecuteTime": {
     "end_time": "2024-03-08T16:44:01.416371Z",
     "start_time": "2024-03-08T16:44:01.406245Z"
    }
   },
   "id": "72d4e40d754aa68b",
   "execution_count": 192
  },
  {
   "cell_type": "code",
   "outputs": [
    {
     "data": {
      "text/plain": "          CMF        RSI  Volatility  Close_Lag0  Close_Lag1  Close_Lag2  \\\n0    0.037057  42.198356    0.650001  119.830001  119.889999  121.150001   \n1    0.110396  44.020547    1.010003  120.059997  119.830001  119.889999   \n2    0.079499  44.875763    0.485000  120.165100  120.059997  119.830001   \n3    0.007440  43.137629    0.790001  119.907699  120.165100  120.059997   \n4    0.016513  37.447391    1.139999  118.970001  119.907699  120.165100   \n..        ...        ...         ...         ...         ...         ...   \n315  0.230007  60.275954    0.309998  131.610000  131.755905  132.080001   \n316  0.129291  55.880925    0.960006  130.960006  131.610000  131.755905   \n317  0.148648  65.063275    2.080490  133.135604  130.960006  131.610000   \n318  0.132043  59.049706    1.350006  132.147094  133.135604  130.960006   \n319  0.057199  57.503207    0.770004  131.880004  132.147094  133.135604   \n\n     Close_Lag3  Close_Lag4  Close_Lag5  Response  \n0    120.699996  120.955001  120.608398      True  \n1    121.150001  120.699996  120.955001      True  \n2    119.889999  121.150001  120.699996      True  \n3    119.830001  119.889999  121.150001      True  \n4    120.059997  119.830001  119.889999      True  \n..          ...         ...         ...       ...  \n315  132.068298  131.389999  131.733795     False  \n316  132.080001  132.068298  131.389999     False  \n317  131.755905  132.080001  132.068298     False  \n318  131.610000  131.755905  132.080001     False  \n319  130.960006  131.610000  131.755905     False  \n\n[320 rows x 10 columns]",
      "text/html": "<div>\n<style scoped>\n    .dataframe tbody tr th:only-of-type {\n        vertical-align: middle;\n    }\n\n    .dataframe tbody tr th {\n        vertical-align: top;\n    }\n\n    .dataframe thead th {\n        text-align: right;\n    }\n</style>\n<table border=\"1\" class=\"dataframe\">\n  <thead>\n    <tr style=\"text-align: right;\">\n      <th></th>\n      <th>CMF</th>\n      <th>RSI</th>\n      <th>Volatility</th>\n      <th>Close_Lag0</th>\n      <th>Close_Lag1</th>\n      <th>Close_Lag2</th>\n      <th>Close_Lag3</th>\n      <th>Close_Lag4</th>\n      <th>Close_Lag5</th>\n      <th>Response</th>\n    </tr>\n  </thead>\n  <tbody>\n    <tr>\n      <th>0</th>\n      <td>0.037057</td>\n      <td>42.198356</td>\n      <td>0.650001</td>\n      <td>119.830001</td>\n      <td>119.889999</td>\n      <td>121.150001</td>\n      <td>120.699996</td>\n      <td>120.955001</td>\n      <td>120.608398</td>\n      <td>True</td>\n    </tr>\n    <tr>\n      <th>1</th>\n      <td>0.110396</td>\n      <td>44.020547</td>\n      <td>1.010003</td>\n      <td>120.059997</td>\n      <td>119.830001</td>\n      <td>119.889999</td>\n      <td>121.150001</td>\n      <td>120.699996</td>\n      <td>120.955001</td>\n      <td>True</td>\n    </tr>\n    <tr>\n      <th>2</th>\n      <td>0.079499</td>\n      <td>44.875763</td>\n      <td>0.485000</td>\n      <td>120.165100</td>\n      <td>120.059997</td>\n      <td>119.830001</td>\n      <td>119.889999</td>\n      <td>121.150001</td>\n      <td>120.699996</td>\n      <td>True</td>\n    </tr>\n    <tr>\n      <th>3</th>\n      <td>0.007440</td>\n      <td>43.137629</td>\n      <td>0.790001</td>\n      <td>119.907699</td>\n      <td>120.165100</td>\n      <td>120.059997</td>\n      <td>119.830001</td>\n      <td>119.889999</td>\n      <td>121.150001</td>\n      <td>True</td>\n    </tr>\n    <tr>\n      <th>4</th>\n      <td>0.016513</td>\n      <td>37.447391</td>\n      <td>1.139999</td>\n      <td>118.970001</td>\n      <td>119.907699</td>\n      <td>120.165100</td>\n      <td>120.059997</td>\n      <td>119.830001</td>\n      <td>119.889999</td>\n      <td>True</td>\n    </tr>\n    <tr>\n      <th>...</th>\n      <td>...</td>\n      <td>...</td>\n      <td>...</td>\n      <td>...</td>\n      <td>...</td>\n      <td>...</td>\n      <td>...</td>\n      <td>...</td>\n      <td>...</td>\n      <td>...</td>\n    </tr>\n    <tr>\n      <th>315</th>\n      <td>0.230007</td>\n      <td>60.275954</td>\n      <td>0.309998</td>\n      <td>131.610000</td>\n      <td>131.755905</td>\n      <td>132.080001</td>\n      <td>132.068298</td>\n      <td>131.389999</td>\n      <td>131.733795</td>\n      <td>False</td>\n    </tr>\n    <tr>\n      <th>316</th>\n      <td>0.129291</td>\n      <td>55.880925</td>\n      <td>0.960006</td>\n      <td>130.960006</td>\n      <td>131.610000</td>\n      <td>131.755905</td>\n      <td>132.080001</td>\n      <td>132.068298</td>\n      <td>131.389999</td>\n      <td>False</td>\n    </tr>\n    <tr>\n      <th>317</th>\n      <td>0.148648</td>\n      <td>65.063275</td>\n      <td>2.080490</td>\n      <td>133.135604</td>\n      <td>130.960006</td>\n      <td>131.610000</td>\n      <td>131.755905</td>\n      <td>132.080001</td>\n      <td>132.068298</td>\n      <td>False</td>\n    </tr>\n    <tr>\n      <th>318</th>\n      <td>0.132043</td>\n      <td>59.049706</td>\n      <td>1.350006</td>\n      <td>132.147094</td>\n      <td>133.135604</td>\n      <td>130.960006</td>\n      <td>131.610000</td>\n      <td>131.755905</td>\n      <td>132.080001</td>\n      <td>False</td>\n    </tr>\n    <tr>\n      <th>319</th>\n      <td>0.057199</td>\n      <td>57.503207</td>\n      <td>0.770004</td>\n      <td>131.880004</td>\n      <td>132.147094</td>\n      <td>133.135604</td>\n      <td>130.960006</td>\n      <td>131.610000</td>\n      <td>131.755905</td>\n      <td>False</td>\n    </tr>\n  </tbody>\n</table>\n<p>320 rows × 10 columns</p>\n</div>"
     },
     "execution_count": 193,
     "metadata": {},
     "output_type": "execute_result"
    }
   ],
   "source": [
    "dataresult_long_1m = file_features(data_1m, ds_type=\"buy\")\n",
    "dataresult_short_1m = file_features(data_1m, ds_type=\"sell\")\n",
    "dataresult_short_1m"
   ],
   "metadata": {
    "collapsed": false,
    "ExecuteTime": {
     "end_time": "2024-03-08T16:44:01.425517Z",
     "start_time": "2024-03-08T16:44:01.406917Z"
    }
   },
   "id": "22993da531083695",
   "execution_count": 193
  },
  {
   "cell_type": "code",
   "execution_count": 194,
   "id": "a9fc36b0",
   "metadata": {
    "ExecuteTime": {
     "end_time": "2024-03-08T16:44:01.504616Z",
     "start_time": "2024-03-08T16:44:01.423029Z"
    }
   },
   "outputs": [
    {
     "data": {
      "text/plain": "            CMF        RSI  Volatility  Close_Lag0  Close_Lag1  Close_Lag2  \\\n0     -0.313878  20.771997    0.519303  128.580001  128.820007  129.148498   \n1     -0.377612  19.268881    0.440003  128.351699  128.580001  128.820007   \n2     -0.449526  14.581731    0.849793  127.410003  128.351699  128.580001   \n3     -0.284874  26.712155    1.269996  128.005004  127.410003  128.351699   \n4     -0.293277  31.714234    0.649993  128.289993  128.005004  127.410003   \n...         ...        ...         ...         ...         ...         ...   \n39095 -0.015916  49.213141    0.169907  128.779998  128.854995  128.955001   \n39096  0.046092  49.526522    0.129898  128.789993  128.779998  128.854995   \n39097 -0.087267  42.227222    0.340012  128.529998  128.789993  128.779998   \n39098 -0.092697  36.251868    0.419998  128.259994  128.529998  128.789993   \n39099 -0.046236  38.674933    0.350601  128.330001  128.259994  128.529998   \n\n       Close_Lag3  Close_Lag4  Close_Lag5  Response  \n0      129.413299  129.390106  129.690002      True  \n1      129.148498  129.413299  129.390106     False  \n2      128.820007  129.148498  129.413299     False  \n3      128.580001  128.820007  129.148498     False  \n4      128.351699  128.580001  128.820007     False  \n...           ...         ...         ...       ...  \n39095  128.755004  128.860000  128.830001      True  \n39096  128.955001  128.755004  128.860000      True  \n39097  128.854995  128.955001  128.755004      True  \n39098  128.779998  128.854995  128.955001      True  \n39099  128.789993  128.779998  128.854995      True  \n\n[39100 rows x 10 columns]",
      "text/html": "<div>\n<style scoped>\n    .dataframe tbody tr th:only-of-type {\n        vertical-align: middle;\n    }\n\n    .dataframe tbody tr th {\n        vertical-align: top;\n    }\n\n    .dataframe thead th {\n        text-align: right;\n    }\n</style>\n<table border=\"1\" class=\"dataframe\">\n  <thead>\n    <tr style=\"text-align: right;\">\n      <th></th>\n      <th>CMF</th>\n      <th>RSI</th>\n      <th>Volatility</th>\n      <th>Close_Lag0</th>\n      <th>Close_Lag1</th>\n      <th>Close_Lag2</th>\n      <th>Close_Lag3</th>\n      <th>Close_Lag4</th>\n      <th>Close_Lag5</th>\n      <th>Response</th>\n    </tr>\n  </thead>\n  <tbody>\n    <tr>\n      <th>0</th>\n      <td>-0.313878</td>\n      <td>20.771997</td>\n      <td>0.519303</td>\n      <td>128.580001</td>\n      <td>128.820007</td>\n      <td>129.148498</td>\n      <td>129.413299</td>\n      <td>129.390106</td>\n      <td>129.690002</td>\n      <td>True</td>\n    </tr>\n    <tr>\n      <th>1</th>\n      <td>-0.377612</td>\n      <td>19.268881</td>\n      <td>0.440003</td>\n      <td>128.351699</td>\n      <td>128.580001</td>\n      <td>128.820007</td>\n      <td>129.148498</td>\n      <td>129.413299</td>\n      <td>129.390106</td>\n      <td>False</td>\n    </tr>\n    <tr>\n      <th>2</th>\n      <td>-0.449526</td>\n      <td>14.581731</td>\n      <td>0.849793</td>\n      <td>127.410003</td>\n      <td>128.351699</td>\n      <td>128.580001</td>\n      <td>128.820007</td>\n      <td>129.148498</td>\n      <td>129.413299</td>\n      <td>False</td>\n    </tr>\n    <tr>\n      <th>3</th>\n      <td>-0.284874</td>\n      <td>26.712155</td>\n      <td>1.269996</td>\n      <td>128.005004</td>\n      <td>127.410003</td>\n      <td>128.351699</td>\n      <td>128.580001</td>\n      <td>128.820007</td>\n      <td>129.148498</td>\n      <td>False</td>\n    </tr>\n    <tr>\n      <th>4</th>\n      <td>-0.293277</td>\n      <td>31.714234</td>\n      <td>0.649993</td>\n      <td>128.289993</td>\n      <td>128.005004</td>\n      <td>127.410003</td>\n      <td>128.351699</td>\n      <td>128.580001</td>\n      <td>128.820007</td>\n      <td>False</td>\n    </tr>\n    <tr>\n      <th>...</th>\n      <td>...</td>\n      <td>...</td>\n      <td>...</td>\n      <td>...</td>\n      <td>...</td>\n      <td>...</td>\n      <td>...</td>\n      <td>...</td>\n      <td>...</td>\n      <td>...</td>\n    </tr>\n    <tr>\n      <th>39095</th>\n      <td>-0.015916</td>\n      <td>49.213141</td>\n      <td>0.169907</td>\n      <td>128.779998</td>\n      <td>128.854995</td>\n      <td>128.955001</td>\n      <td>128.755004</td>\n      <td>128.860000</td>\n      <td>128.830001</td>\n      <td>True</td>\n    </tr>\n    <tr>\n      <th>39096</th>\n      <td>0.046092</td>\n      <td>49.526522</td>\n      <td>0.129898</td>\n      <td>128.789993</td>\n      <td>128.779998</td>\n      <td>128.854995</td>\n      <td>128.955001</td>\n      <td>128.755004</td>\n      <td>128.860000</td>\n      <td>True</td>\n    </tr>\n    <tr>\n      <th>39097</th>\n      <td>-0.087267</td>\n      <td>42.227222</td>\n      <td>0.340012</td>\n      <td>128.529998</td>\n      <td>128.789993</td>\n      <td>128.779998</td>\n      <td>128.854995</td>\n      <td>128.955001</td>\n      <td>128.755004</td>\n      <td>True</td>\n    </tr>\n    <tr>\n      <th>39098</th>\n      <td>-0.092697</td>\n      <td>36.251868</td>\n      <td>0.419998</td>\n      <td>128.259994</td>\n      <td>128.529998</td>\n      <td>128.789993</td>\n      <td>128.779998</td>\n      <td>128.854995</td>\n      <td>128.955001</td>\n      <td>True</td>\n    </tr>\n    <tr>\n      <th>39099</th>\n      <td>-0.046236</td>\n      <td>38.674933</td>\n      <td>0.350601</td>\n      <td>128.330001</td>\n      <td>128.259994</td>\n      <td>128.529998</td>\n      <td>128.789993</td>\n      <td>128.779998</td>\n      <td>128.854995</td>\n      <td>True</td>\n    </tr>\n  </tbody>\n</table>\n<p>39100 rows × 10 columns</p>\n</div>"
     },
     "execution_count": 194,
     "metadata": {},
     "output_type": "execute_result"
    }
   ],
   "source": [
    "dataresult_long_5m = file_features(data_5m, ds_type=\"buy\")\n",
    "dataresult_short_5m = file_features(data_5m, ds_type=\"sell\")\n",
    "dataresult_short_5m"
   ]
  },
  {
   "cell_type": "code",
   "execution_count": 195,
   "id": "604de33f",
   "metadata": {
    "ExecuteTime": {
     "end_time": "2024-03-08T16:44:01.505222Z",
     "start_time": "2024-03-08T16:44:01.452832Z"
    }
   },
   "outputs": [],
   "source": [
    "def objective_log_regresor(trial, data):\n",
    "    # Dividir los datos en conjuntos de entrenamiento y prueba\n",
    "    X = data.iloc[:, :-1]\n",
    "    # Selecciona la variable objetivo\n",
    "    y = data.iloc[:, -1]\n",
    "    X_train, X_test, y_train, y_test = train_test_split(X, y, test_size=0.2, shuffle=False)\n",
    "    \n",
    "    # Definir los parámetros a optimizar\n",
    "    penalty = trial.suggest_categorical('penalty', ['l1', 'l2'])\n",
    "    C = trial.suggest_loguniform('C', 0.001, 1000)\n",
    "    solver = trial.suggest_categorical('solver', ['liblinear', 'saga'])\n",
    "\n",
    "    # Crear el modelo de regresión logística con los parámetros sugeridos\n",
    "    model = LogisticRegression(penalty=penalty, C=C, solver=solver, max_iter=10_000, random_state=123)\n",
    "    # Entrenar el modelo\n",
    "    model.fit(X_train, y_train)\n",
    "    # Calcular la precisión en el conjunto de prueba\n",
    "    y_pred = model.predict(X_test)\n",
    "    accuracy = accuracy_score(y_test, y_pred)\n",
    "    return accuracy"
   ]
  },
  {
   "cell_type": "code",
   "execution_count": 196,
   "id": "5fe8b39b",
   "metadata": {
    "ExecuteTime": {
     "end_time": "2024-03-08T16:44:01.506087Z",
     "start_time": "2024-03-08T16:44:01.456771Z"
    }
   },
   "outputs": [],
   "source": [
    "def objective_svm(trial, data):\n",
    "    # Dividir los datos en conjuntos de entrenamiento y prueba\n",
    "    X = data.iloc[:, :-1]\n",
    "    # Selecciona la variable objetivo\n",
    "    y = data.iloc[:, -1]\n",
    "    X_train, X_test, y_train, y_test = train_test_split(X, y, test_size=0.2, shuffle=False)\n",
    "\n",
    "    # Definir los parámetros a optimizar\n",
    "    C = trial.suggest_loguniform('C', 0.001, 1000)\n",
    "    kernel = trial.suggest_categorical('kernel', ['linear', 'poly', 'rbf', 'sigmoid'])\n",
    "    if kernel == 'poly':\n",
    "        degree = trial.suggest_int('degree', 2, 5)\n",
    "    else:\n",
    "        degree = 3  # Valor predeterminado si el kernel no es 'poly'\n",
    "    gamma = trial.suggest_categorical('gamma', ['scale', 'auto']) if kernel in ['rbf', 'poly', 'sigmoid'] else 'scale'\n",
    "    # Crear el modelo SVM con los parámetros sugeridos\n",
    "    model = SVC(C=C, kernel=kernel, degree=degree, gamma=gamma, max_iter=100_000, random_state=123)\n",
    "    # Entrenar el modelo\n",
    "    model.fit(X_train, y_train)\n",
    "    # Calcular la precisión en el conjunto de prueba\n",
    "    y_pred = model.predict(X_test)\n",
    "    accuracy = accuracy_score(y_test, y_pred)\n",
    "    return accuracy"
   ]
  },
  {
   "cell_type": "code",
   "execution_count": 197,
   "id": "eecadda3",
   "metadata": {
    "ExecuteTime": {
     "end_time": "2024-03-08T16:44:01.516454Z",
     "start_time": "2024-03-08T16:44:01.461328Z"
    }
   },
   "outputs": [],
   "source": [
    "def objective_xgboost(trial, data):\n",
    "    data = data.copy()\n",
    "    # Dividir los datos en conjuntos de entrenamiento y prueba\n",
    "    X = data.iloc[:, :-1]\n",
    "    # Selecciona la variable objetivo\n",
    "    y = data.iloc[:, -1]\n",
    "    X_train, X_test, y_train, y_test = train_test_split(X, y, test_size=0.2, shuffle=False)\n",
    "    # Definir los parámetros a optimizar\n",
    "    n_estimators = trial.suggest_int('n_estimators', 100, 1000, step=100)\n",
    "    max_depth = trial.suggest_int('max_depth', 3, 10)\n",
    "    learning_rate = trial.suggest_loguniform('learning_rate', 0.01, 0.5)\n",
    "    subsample = trial.suggest_discrete_uniform('subsample', 0.5, 1.0, 0.1)\n",
    "    colsample_bytree = trial.suggest_discrete_uniform('colsample_bytree', 0.5, 1.0, 0.1)\n",
    "    # Crear el modelo XGBoost con los parámetros sugeridos\n",
    "    model = XGBClassifier(\n",
    "        n_estimators=n_estimators,\n",
    "        max_depth=max_depth,\n",
    "        learning_rate=learning_rate,\n",
    "        subsample=subsample,\n",
    "        colsample_bytree=colsample_bytree,\n",
    "        random_state=123\n",
    "    )\n",
    "    # Entrenar el modelo\n",
    "    model.fit(X_train, y_train)\n",
    "    # Calcular la precisión en el conjunto de prueba\n",
    "    y_pred = model.predict(X_test)\n",
    "    accuracy = accuracy_score(y_test, y_pred)\n",
    "    return accuracy"
   ]
  },
  {
   "cell_type": "code",
   "execution_count": 198,
   "id": "934c7559",
   "metadata": {
    "ExecuteTime": {
     "end_time": "2024-03-08T16:44:01.522675Z",
     "start_time": "2024-03-08T16:44:01.465985Z"
    }
   },
   "outputs": [],
   "source": [
    "def optimize_params_log_regresor(data):\n",
    "    # Crear un estudio Optuna para la optimización\n",
    "    study = optuna.create_study(direction='maximize')\n",
    "    \n",
    "    # Función objetivo con el dataset como parámetro fijo\n",
    "    objective_fn = lambda trial: objective_log_regresor(trial, data)\n",
    "    \n",
    "    # Ejecutar la optimización\n",
    "    study.optimize(objective_fn, n_trials=2)\n",
    "\n",
    "    # Obtener los mejores parámetros\n",
    "    best_params = study.best_params\n",
    "    best_accuracy = study.best_value\n",
    "\n",
    "    return best_params, best_accuracy"
   ]
  },
  {
   "cell_type": "code",
   "execution_count": 199,
   "id": "3cb87b5b",
   "metadata": {
    "ExecuteTime": {
     "end_time": "2024-03-08T16:44:01.527640Z",
     "start_time": "2024-03-08T16:44:01.469801Z"
    }
   },
   "outputs": [],
   "source": [
    "def optimize_params_svm(data):\n",
    "    # Crear un estudio Optuna para la optimización\n",
    "    study = optuna.create_study(direction='maximize')\n",
    "    \n",
    "    # Función objetivo con el dataset como parámetro fijo\n",
    "    objective_fn = lambda trial: objective_svm(trial, data)\n",
    "    \n",
    "    # Ejecutar la optimización\n",
    "    study.optimize(objective_fn, n_trials=2)\n",
    "\n",
    "    # Obtener los mejores parámetros\n",
    "    best_params = study.best_params\n",
    "    best_accuracy = study.best_value\n",
    "\n",
    "    return best_params, best_accuracy"
   ]
  },
  {
   "cell_type": "code",
   "execution_count": 200,
   "id": "111d2162",
   "metadata": {
    "ExecuteTime": {
     "end_time": "2024-03-08T16:44:01.528371Z",
     "start_time": "2024-03-08T16:44:01.472782Z"
    }
   },
   "outputs": [],
   "source": [
    "def optimize_params_xgboost(data):\n",
    "    # Crear un estudio Optuna para la optimización\n",
    "    study = optuna.create_study(direction='maximize')\n",
    "    \n",
    "    # Función objetivo con el dataset como parámetro fijo\n",
    "    objective_fn = lambda trial: objective_xgboost(trial, data)\n",
    "    \n",
    "    # Ejecutar la optimización\n",
    "    study.optimize(objective_fn, n_trials=2)\n",
    "\n",
    "    # Obtener los mejores parámetros\n",
    "    best_params = study.best_params\n",
    "    best_accuracy = study.best_value\n",
    "\n",
    "    return best_params, best_accuracy"
   ]
  },
  {
   "cell_type": "code",
   "execution_count": 201,
   "id": "69ac8749",
   "metadata": {
    "ExecuteTime": {
     "end_time": "2024-03-08T16:44:01.569455Z",
     "start_time": "2024-03-08T16:44:01.508437Z"
    }
   },
   "outputs": [],
   "source": [
    "def optimize_params(data):\n",
    "    # Optimización de regresión logística\n",
    "    best_params_lr, best_accuracy_lr = optimize_params_log_regresor(data)\n",
    "    print(\"Mejores parámetros de regresión logística:\", best_params_lr)\n",
    "    print(\"Precisión del modelo de regresión logística:\", best_accuracy_lr)\n",
    "    # Optimización de SVM\n",
    "    best_params_svm, best_accuracy_svm = optimize_params_svm(data)\n",
    "    print(\"Mejores parámetros de SVM:\", best_params_svm)\n",
    "    print(\"Precisión del modelo de SVM:\", best_accuracy_svm)\n",
    "    # Optimización de XGBoost\n",
    "    best_params_xgb, best_accuracy_xgb = optimize_params_xgboost(data)\n",
    "    print(\"Mejores parámetros de XGBoost:\", best_params_xgb)\n",
    "    print(\"Precisión del modelo de XGBoost:\", best_accuracy_xgb)"
   ]
  },
  {
   "cell_type": "code",
   "execution_count": 202,
   "id": "55bd6a2b",
   "metadata": {
    "ExecuteTime": {
     "end_time": "2024-03-08T16:44:18.986082Z",
     "start_time": "2024-03-08T16:44:01.572473Z"
    }
   },
   "outputs": [
    {
     "name": "stderr",
     "output_type": "stream",
     "text": [
      "[I 2024-03-08 10:44:01,570] A new study created in memory with name: no-name-d1ad5ceb-53ee-4ffc-b4d2-5f34e62fa553\n",
      "[I 2024-03-08 10:44:05,589] Trial 0 finished with value: 0.6564593301435406 and parameters: {'penalty': 'l1', 'C': 338.8347276808977, 'solver': 'saga'}. Best is trial 0 with value: 0.6564593301435406.\n",
      "[I 2024-03-08 10:44:09,434] Trial 1 finished with value: 0.6564593301435406 and parameters: {'penalty': 'l1', 'C': 120.29526600413703, 'solver': 'saga'}. Best is trial 0 with value: 0.6564593301435406.\n",
      "[I 2024-03-08 10:44:09,435] A new study created in memory with name: no-name-49c9cf16-ae28-495e-94c4-6df7df1cef3f\n"
     ]
    },
    {
     "name": "stdout",
     "output_type": "stream",
     "text": [
      "Mejores parámetros de regresión logística: {'penalty': 'l1', 'C': 338.8347276808977, 'solver': 'saga'}\n",
      "Precisión del modelo de regresión logística: 0.6564593301435406\n"
     ]
    },
    {
     "name": "stderr",
     "output_type": "stream",
     "text": [
      "[I 2024-03-08 10:44:10,307] Trial 0 finished with value: 0.6593301435406699 and parameters: {'C': 0.0016060352833009584, 'kernel': 'linear'}. Best is trial 0 with value: 0.6593301435406699.\n",
      "[I 2024-03-08 10:44:10,670] Trial 1 finished with value: 0.6593301435406699 and parameters: {'C': 4.936418357583564, 'kernel': 'sigmoid', 'gamma': 'auto'}. Best is trial 0 with value: 0.6593301435406699.\n",
      "[I 2024-03-08 10:44:10,670] A new study created in memory with name: no-name-dcb95bd2-114d-4014-816d-d9d4cf702d9b\n"
     ]
    },
    {
     "name": "stdout",
     "output_type": "stream",
     "text": [
      "Mejores parámetros de SVM: {'C': 0.0016060352833009584, 'kernel': 'linear'}\n",
      "Precisión del modelo de SVM: 0.6593301435406699\n"
     ]
    },
    {
     "name": "stderr",
     "output_type": "stream",
     "text": [
      "[I 2024-03-08 10:44:10,982] Trial 0 finished with value: 0.5712918660287082 and parameters: {'n_estimators': 400, 'max_depth': 7, 'learning_rate': 0.20497189453932135, 'subsample': 0.8, 'colsample_bytree': 0.5}. Best is trial 0 with value: 0.5712918660287082.\n",
      "[I 2024-03-08 10:44:11,734] Trial 1 finished with value: 0.5684210526315789 and parameters: {'n_estimators': 900, 'max_depth': 8, 'learning_rate': 0.04242629295608167, 'subsample': 0.9, 'colsample_bytree': 0.8}. Best is trial 0 with value: 0.5712918660287082.\n",
      "[I 2024-03-08 10:44:11,735] A new study created in memory with name: no-name-d3a860a6-c347-4268-97cf-7faf174f41a3\n"
     ]
    },
    {
     "name": "stdout",
     "output_type": "stream",
     "text": [
      "Mejores parámetros de XGBoost: {'n_estimators': 400, 'max_depth': 7, 'learning_rate': 0.20497189453932135, 'subsample': 0.8, 'colsample_bytree': 0.5}\n",
      "Precisión del modelo de XGBoost: 0.5712918660287082\n"
     ]
    },
    {
     "name": "stderr",
     "output_type": "stream",
     "text": [
      "[I 2024-03-08 10:44:13,077] Trial 0 finished with value: 0.6602870813397129 and parameters: {'penalty': 'l1', 'C': 505.00639904258753, 'solver': 'liblinear'}. Best is trial 0 with value: 0.6602870813397129.\n",
      "[I 2024-03-08 10:44:16,853] Trial 1 finished with value: 0.6593301435406699 and parameters: {'penalty': 'l1', 'C': 32.869461572372934, 'solver': 'saga'}. Best is trial 0 with value: 0.6602870813397129.\n",
      "[I 2024-03-08 10:44:16,854] A new study created in memory with name: no-name-241c6c4c-76eb-4a68-aea8-aa2327306182\n"
     ]
    },
    {
     "name": "stdout",
     "output_type": "stream",
     "text": [
      "Mejores parámetros de regresión logística: {'penalty': 'l1', 'C': 505.00639904258753, 'solver': 'liblinear'}\n",
      "Precisión del modelo de regresión logística: 0.6602870813397129\n"
     ]
    },
    {
     "name": "stderr",
     "output_type": "stream",
     "text": [
      "[I 2024-03-08 10:44:17,353] Trial 0 finished with value: 0.661244019138756 and parameters: {'C': 0.0019435907131005682, 'kernel': 'sigmoid', 'gamma': 'scale'}. Best is trial 0 with value: 0.661244019138756.\n",
      "[I 2024-03-08 10:44:18,128] Trial 1 finished with value: 0.661244019138756 and parameters: {'C': 9.751654044428191, 'kernel': 'poly', 'degree': 2, 'gamma': 'scale'}. Best is trial 0 with value: 0.661244019138756.\n",
      "[I 2024-03-08 10:44:18,128] A new study created in memory with name: no-name-200af927-8397-4615-bbf5-db6355ffc967\n",
      "[I 2024-03-08 10:44:18,287] Trial 0 finished with value: 0.569377990430622 and parameters: {'n_estimators': 600, 'max_depth': 3, 'learning_rate': 0.08087896167042405, 'subsample': 0.8, 'colsample_bytree': 0.5}. Best is trial 0 with value: 0.569377990430622.\n"
     ]
    },
    {
     "name": "stdout",
     "output_type": "stream",
     "text": [
      "Mejores parámetros de SVM: {'C': 0.0019435907131005682, 'kernel': 'sigmoid', 'gamma': 'scale'}\n",
      "Precisión del modelo de SVM: 0.661244019138756\n"
     ]
    },
    {
     "name": "stderr",
     "output_type": "stream",
     "text": [
      "[I 2024-03-08 10:44:18,981] Trial 1 finished with value: 0.5492822966507177 and parameters: {'n_estimators': 800, 'max_depth': 8, 'learning_rate': 0.016854675011246666, 'subsample': 1.0, 'colsample_bytree': 0.8}. Best is trial 0 with value: 0.569377990430622.\n"
     ]
    },
    {
     "name": "stdout",
     "output_type": "stream",
     "text": [
      "Mejores parámetros de XGBoost: {'n_estimators': 600, 'max_depth': 3, 'learning_rate': 0.08087896167042405, 'subsample': 0.8, 'colsample_bytree': 0.5}\n",
      "Precisión del modelo de XGBoost: 0.569377990430622\n"
     ]
    }
   ],
   "source": [
    "params_1d_long = optimize_params(dataresult_long_1d)\n",
    "params_1d_short = optimize_params(dataresult_short_1d)"
   ]
  },
  {
   "cell_type": "code",
   "outputs": [
    {
     "name": "stderr",
     "output_type": "stream",
     "text": [
      "[I 2024-03-08 10:44:18,987] A new study created in memory with name: no-name-5d03c708-8ca4-4bb2-8bfb-599fb8946f3a\n",
      "[I 2024-03-08 10:44:18,993] Trial 0 finished with value: 0.234375 and parameters: {'penalty': 'l1', 'C': 0.0014278079128057035, 'solver': 'liblinear'}. Best is trial 0 with value: 0.234375.\n",
      "[I 2024-03-08 10:44:18,997] Trial 1 finished with value: 0.234375 and parameters: {'penalty': 'l1', 'C': 0.006416180832892937, 'solver': 'liblinear'}. Best is trial 0 with value: 0.234375.\n",
      "[I 2024-03-08 10:44:18,998] A new study created in memory with name: no-name-c111216b-0062-4a0a-b39a-ce84712b57f6\n",
      "[I 2024-03-08 10:44:19,006] Trial 0 finished with value: 0.234375 and parameters: {'C': 0.0016083695514863604, 'kernel': 'rbf', 'gamma': 'auto'}. Best is trial 0 with value: 0.234375.\n",
      "[I 2024-03-08 10:44:19,013] Trial 1 finished with value: 0.234375 and parameters: {'C': 0.003387734982153313, 'kernel': 'rbf', 'gamma': 'auto'}. Best is trial 0 with value: 0.234375.\n",
      "[I 2024-03-08 10:44:19,014] A new study created in memory with name: no-name-8b4963bf-f04a-46c8-bab3-ff70f39d8daf\n"
     ]
    },
    {
     "name": "stdout",
     "output_type": "stream",
     "text": [
      "Mejores parámetros de regresión logística: {'penalty': 'l1', 'C': 0.0014278079128057035, 'solver': 'liblinear'}\n",
      "Precisión del modelo de regresión logística: 0.234375\n",
      "Mejores parámetros de SVM: {'C': 0.0016083695514863604, 'kernel': 'rbf', 'gamma': 'auto'}\n",
      "Precisión del modelo de SVM: 0.234375\n"
     ]
    },
    {
     "name": "stderr",
     "output_type": "stream",
     "text": [
      "[I 2024-03-08 10:44:19,204] Trial 0 finished with value: 0.40625 and parameters: {'n_estimators': 500, 'max_depth': 7, 'learning_rate': 0.050090043255527315, 'subsample': 0.6, 'colsample_bytree': 0.9}. Best is trial 0 with value: 0.40625.\n",
      "[I 2024-03-08 10:44:19,444] Trial 1 finished with value: 0.390625 and parameters: {'n_estimators': 900, 'max_depth': 5, 'learning_rate': 0.05676849407675641, 'subsample': 0.6, 'colsample_bytree': 0.7}. Best is trial 0 with value: 0.40625.\n",
      "[I 2024-03-08 10:44:19,445] A new study created in memory with name: no-name-75f82ac8-3ccf-42fc-880a-733615160b9d\n",
      "[I 2024-03-08 10:44:19,453] Trial 0 finished with value: 0.78125 and parameters: {'penalty': 'l1', 'C': 0.001101925237033472, 'solver': 'saga'}. Best is trial 0 with value: 0.78125.\n",
      "[I 2024-03-08 10:44:19,629] Trial 1 finished with value: 0.328125 and parameters: {'penalty': 'l2', 'C': 0.31223845581324766, 'solver': 'saga'}. Best is trial 0 with value: 0.78125.\n",
      "[I 2024-03-08 10:44:19,630] A new study created in memory with name: no-name-e555ce70-8125-45ea-bcbd-1473a5b67d2b\n",
      "[I 2024-03-08 10:44:19,638] Trial 0 finished with value: 0.21875 and parameters: {'C': 3.1829337194198657, 'kernel': 'rbf', 'gamma': 'scale'}. Best is trial 0 with value: 0.21875.\n",
      "[I 2024-03-08 10:44:19,644] Trial 1 finished with value: 0.21875 and parameters: {'C': 0.04633228569339373, 'kernel': 'linear'}. Best is trial 0 with value: 0.21875.\n",
      "[I 2024-03-08 10:44:19,645] A new study created in memory with name: no-name-512d65a5-432f-4058-b3ba-49a8819d221c\n"
     ]
    },
    {
     "name": "stdout",
     "output_type": "stream",
     "text": [
      "Mejores parámetros de XGBoost: {'n_estimators': 500, 'max_depth': 7, 'learning_rate': 0.050090043255527315, 'subsample': 0.6, 'colsample_bytree': 0.9}\n",
      "Precisión del modelo de XGBoost: 0.40625\n",
      "Mejores parámetros de regresión logística: {'penalty': 'l1', 'C': 0.001101925237033472, 'solver': 'saga'}\n",
      "Precisión del modelo de regresión logística: 0.78125\n",
      "Mejores parámetros de SVM: {'C': 3.1829337194198657, 'kernel': 'rbf', 'gamma': 'scale'}\n",
      "Precisión del modelo de SVM: 0.21875\n"
     ]
    },
    {
     "name": "stderr",
     "output_type": "stream",
     "text": [
      "[I 2024-03-08 10:44:19,713] Trial 0 finished with value: 0.4375 and parameters: {'n_estimators': 100, 'max_depth': 10, 'learning_rate': 0.04533156402768964, 'subsample': 0.5, 'colsample_bytree': 0.5}. Best is trial 0 with value: 0.4375.\n",
      "[I 2024-03-08 10:44:20,457] Trial 1 finished with value: 0.359375 and parameters: {'n_estimators': 600, 'max_depth': 7, 'learning_rate': 0.022793135399056988, 'subsample': 1.0, 'colsample_bytree': 0.8}. Best is trial 0 with value: 0.4375.\n"
     ]
    },
    {
     "name": "stdout",
     "output_type": "stream",
     "text": [
      "Mejores parámetros de XGBoost: {'n_estimators': 100, 'max_depth': 10, 'learning_rate': 0.04533156402768964, 'subsample': 0.5, 'colsample_bytree': 0.5}\n",
      "Precisión del modelo de XGBoost: 0.4375\n"
     ]
    }
   ],
   "source": [
    "params_1h_long = optimize_params(dataresult_long_1h)\n",
    "params_1h_short = optimize_params(dataresult_short_1h)"
   ],
   "metadata": {
    "collapsed": false,
    "ExecuteTime": {
     "end_time": "2024-03-08T16:44:20.472248Z",
     "start_time": "2024-03-08T16:44:18.988524Z"
    }
   },
   "id": "5740925cb4ae7b3b",
   "execution_count": 203
  },
  {
   "cell_type": "code",
   "outputs": [
    {
     "name": "stderr",
     "output_type": "stream",
     "text": [
      "[I 2024-03-08 10:44:20,464] A new study created in memory with name: no-name-39e0a670-dc2d-472e-a3a0-b76cdaac96f0\n",
      "[I 2024-03-08 10:44:20,480] Trial 0 finished with value: 0.3125 and parameters: {'penalty': 'l2', 'C': 8.463289162084212, 'solver': 'liblinear'}. Best is trial 0 with value: 0.3125.\n",
      "[I 2024-03-08 10:44:20,486] Trial 1 finished with value: 0.359375 and parameters: {'penalty': 'l2', 'C': 0.010405629107406833, 'solver': 'liblinear'}. Best is trial 1 with value: 0.359375.\n",
      "[I 2024-03-08 10:44:20,487] A new study created in memory with name: no-name-6e01a354-28b8-4f18-89ba-1977ea04232d\n",
      "[I 2024-03-08 10:44:20,495] Trial 0 finished with value: 0.234375 and parameters: {'C': 0.02891729617292502, 'kernel': 'linear'}. Best is trial 0 with value: 0.234375.\n",
      "[I 2024-03-08 10:44:20,502] Trial 1 finished with value: 0.234375 and parameters: {'C': 0.005587796621533931, 'kernel': 'sigmoid', 'gamma': 'auto'}. Best is trial 0 with value: 0.234375.\n",
      "[I 2024-03-08 10:44:20,503] A new study created in memory with name: no-name-b8be6847-47d5-430e-bc84-3b70aa09b06c\n"
     ]
    },
    {
     "name": "stdout",
     "output_type": "stream",
     "text": [
      "Mejores parámetros de regresión logística: {'penalty': 'l2', 'C': 0.010405629107406833, 'solver': 'liblinear'}\n",
      "Precisión del modelo de regresión logística: 0.359375\n",
      "Mejores parámetros de SVM: {'C': 0.02891729617292502, 'kernel': 'linear'}\n",
      "Precisión del modelo de SVM: 0.234375\n"
     ]
    },
    {
     "name": "stderr",
     "output_type": "stream",
     "text": [
      "[I 2024-03-08 10:44:20,769] Trial 0 finished with value: 0.375 and parameters: {'n_estimators': 300, 'max_depth': 9, 'learning_rate': 0.02572836520302602, 'subsample': 0.8, 'colsample_bytree': 1.0}. Best is trial 0 with value: 0.375.\n",
      "[I 2024-03-08 10:44:20,922] Trial 1 finished with value: 0.359375 and parameters: {'n_estimators': 500, 'max_depth': 10, 'learning_rate': 0.10180470895971654, 'subsample': 0.9, 'colsample_bytree': 0.9}. Best is trial 0 with value: 0.375.\n",
      "[I 2024-03-08 10:44:20,922] A new study created in memory with name: no-name-5f318273-f8cd-4612-86a6-ff0b18a05acc\n",
      "[I 2024-03-08 10:44:20,927] Trial 0 finished with value: 0.78125 and parameters: {'penalty': 'l1', 'C': 0.002778605059659017, 'solver': 'saga'}. Best is trial 0 with value: 0.78125.\n",
      "[I 2024-03-08 10:44:20,932] Trial 1 finished with value: 0.3125 and parameters: {'penalty': 'l2', 'C': 18.71856251277501, 'solver': 'liblinear'}. Best is trial 0 with value: 0.78125.\n",
      "[I 2024-03-08 10:44:20,933] A new study created in memory with name: no-name-1adc8513-8b41-4526-863b-00dcf5dd3ca5\n",
      "[I 2024-03-08 10:44:20,940] Trial 0 finished with value: 0.21875 and parameters: {'C': 7.844989934658931, 'kernel': 'rbf', 'gamma': 'scale'}. Best is trial 0 with value: 0.21875.\n",
      "[I 2024-03-08 10:44:20,947] Trial 1 finished with value: 0.78125 and parameters: {'C': 0.28120622947860485, 'kernel': 'rbf', 'gamma': 'auto'}. Best is trial 1 with value: 0.78125.\n",
      "[I 2024-03-08 10:44:20,948] A new study created in memory with name: no-name-03ffc08d-9f3a-40b5-a12e-7a2a6e68131b\n",
      "[I 2024-03-08 10:44:21,076] Trial 0 finished with value: 0.40625 and parameters: {'n_estimators': 400, 'max_depth': 3, 'learning_rate': 0.11719371112820326, 'subsample': 0.7, 'colsample_bytree': 0.8}. Best is trial 0 with value: 0.40625.\n"
     ]
    },
    {
     "name": "stdout",
     "output_type": "stream",
     "text": [
      "Mejores parámetros de XGBoost: {'n_estimators': 300, 'max_depth': 9, 'learning_rate': 0.02572836520302602, 'subsample': 0.8, 'colsample_bytree': 1.0}\n",
      "Precisión del modelo de XGBoost: 0.375\n",
      "Mejores parámetros de regresión logística: {'penalty': 'l1', 'C': 0.002778605059659017, 'solver': 'saga'}\n",
      "Precisión del modelo de regresión logística: 0.78125\n",
      "Mejores parámetros de SVM: {'C': 0.28120622947860485, 'kernel': 'rbf', 'gamma': 'auto'}\n",
      "Precisión del modelo de SVM: 0.78125\n"
     ]
    },
    {
     "name": "stderr",
     "output_type": "stream",
     "text": [
      "[I 2024-03-08 10:44:21,325] Trial 1 finished with value: 0.359375 and parameters: {'n_estimators': 1000, 'max_depth': 3, 'learning_rate': 0.30721293075791994, 'subsample': 0.9, 'colsample_bytree': 0.7}. Best is trial 0 with value: 0.40625.\n"
     ]
    },
    {
     "name": "stdout",
     "output_type": "stream",
     "text": [
      "Mejores parámetros de XGBoost: {'n_estimators': 400, 'max_depth': 3, 'learning_rate': 0.11719371112820326, 'subsample': 0.7, 'colsample_bytree': 0.8}\n",
      "Precisión del modelo de XGBoost: 0.40625\n"
     ]
    }
   ],
   "source": [
    "params_1m_long = optimize_params(dataresult_long_1m)\n",
    "params_1m_short = optimize_params(dataresult_short_1m)"
   ],
   "metadata": {
    "collapsed": false,
    "ExecuteTime": {
     "end_time": "2024-03-08T16:44:21.329297Z",
     "start_time": "2024-03-08T16:44:20.467366Z"
    }
   },
   "id": "48601a2f1ae968b0",
   "execution_count": 204
  },
  {
   "cell_type": "code",
   "outputs": [
    {
     "name": "stderr",
     "output_type": "stream",
     "text": [
      "[I 2024-03-08 10:44:21,330] A new study created in memory with name: no-name-d19ecfed-b938-4a11-b21e-f7509a778a5a\n",
      "[I 2024-03-08 10:44:25,087] Trial 0 finished with value: 0.4966751918158568 and parameters: {'penalty': 'l2', 'C': 1.8666504477996768, 'solver': 'saga'}. Best is trial 0 with value: 0.4966751918158568.\n",
      "[I 2024-03-08 10:50:01,508] Trial 1 finished with value: 0.4989769820971867 and parameters: {'penalty': 'l1', 'C': 4.043049203980127, 'solver': 'liblinear'}. Best is trial 1 with value: 0.4989769820971867.\n",
      "[I 2024-03-08 10:50:01,511] A new study created in memory with name: no-name-f02d0604-6b5a-456f-aa7c-78294eff92bb\n"
     ]
    },
    {
     "name": "stdout",
     "output_type": "stream",
     "text": [
      "Mejores parámetros de regresión logística: {'penalty': 'l1', 'C': 4.043049203980127, 'solver': 'liblinear'}\n",
      "Precisión del modelo de regresión logística: 0.4989769820971867\n"
     ]
    },
    {
     "name": "stderr",
     "output_type": "stream",
     "text": [
      "[I 2024-03-08 10:50:45,632] Trial 0 finished with value: 0.5023017902813299 and parameters: {'C': 29.24008590889724, 'kernel': 'rbf', 'gamma': 'scale'}. Best is trial 0 with value: 0.5023017902813299.\n",
      "[I 2024-03-08 10:50:59,725] Trial 1 finished with value: 0.5006393861892583 and parameters: {'C': 382.68098832113617, 'kernel': 'poly', 'degree': 3, 'gamma': 'auto'}. Best is trial 0 with value: 0.5023017902813299.\n",
      "[I 2024-03-08 10:50:59,726] A new study created in memory with name: no-name-e19313df-f43d-4098-aa1a-0fcd28e695ce\n"
     ]
    },
    {
     "name": "stdout",
     "output_type": "stream",
     "text": [
      "Mejores parámetros de SVM: {'C': 29.24008590889724, 'kernel': 'rbf', 'gamma': 'scale'}\n",
      "Precisión del modelo de SVM: 0.5023017902813299\n"
     ]
    },
    {
     "name": "stderr",
     "output_type": "stream",
     "text": [
      "[I 2024-03-08 10:51:00,209] Trial 0 finished with value: 0.49539641943734014 and parameters: {'n_estimators': 700, 'max_depth': 3, 'learning_rate': 0.010616472415453023, 'subsample': 0.5, 'colsample_bytree': 0.8}. Best is trial 0 with value: 0.49539641943734014.\n",
      "[I 2024-03-08 10:51:00,354] Trial 1 finished with value: 0.4971867007672634 and parameters: {'n_estimators': 200, 'max_depth': 3, 'learning_rate': 0.11290588406986976, 'subsample': 0.6, 'colsample_bytree': 0.7}. Best is trial 1 with value: 0.4971867007672634.\n",
      "[I 2024-03-08 10:51:00,355] A new study created in memory with name: no-name-b38a8520-f957-455b-a633-53146c02d216\n"
     ]
    },
    {
     "name": "stdout",
     "output_type": "stream",
     "text": [
      "Mejores parámetros de XGBoost: {'n_estimators': 200, 'max_depth': 3, 'learning_rate': 0.11290588406986976, 'subsample': 0.6, 'colsample_bytree': 0.7}\n",
      "Precisión del modelo de XGBoost: 0.4971867007672634\n"
     ]
    },
    {
     "name": "stderr",
     "output_type": "stream",
     "text": [
      "[I 2024-03-08 10:51:04,140] Trial 0 finished with value: 0.49910485933503834 and parameters: {'penalty': 'l2', 'C': 21.093935718999266, 'solver': 'saga'}. Best is trial 0 with value: 0.49910485933503834.\n",
      "[I 2024-03-08 10:53:33,157] Trial 1 finished with value: 0.5025575447570333 and parameters: {'penalty': 'l1', 'C': 0.20108432606818857, 'solver': 'liblinear'}. Best is trial 1 with value: 0.5025575447570333.\n",
      "[I 2024-03-08 10:53:33,160] A new study created in memory with name: no-name-33051b06-d813-47e9-a6c7-5baad2d708c2\n"
     ]
    },
    {
     "name": "stdout",
     "output_type": "stream",
     "text": [
      "Mejores parámetros de regresión logística: {'penalty': 'l1', 'C': 0.20108432606818857, 'solver': 'liblinear'}\n",
      "Precisión del modelo de regresión logística: 0.5025575447570333\n"
     ]
    },
    {
     "name": "stderr",
     "output_type": "stream",
     "text": [
      "[I 2024-03-08 10:54:17,521] Trial 0 finished with value: 0.5046035805626599 and parameters: {'C': 3.23470738361756, 'kernel': 'rbf', 'gamma': 'scale'}. Best is trial 0 with value: 0.5046035805626599.\n",
      "[I 2024-03-08 10:54:59,574] Trial 1 finished with value: 0.5019181585677749 and parameters: {'C': 0.002864880934479293, 'kernel': 'rbf', 'gamma': 'auto'}. Best is trial 0 with value: 0.5046035805626599.\n",
      "[I 2024-03-08 10:54:59,582] A new study created in memory with name: no-name-5b367e4e-f138-4e14-b54d-a14069704664\n"
     ]
    },
    {
     "name": "stdout",
     "output_type": "stream",
     "text": [
      "Mejores parámetros de SVM: {'C': 3.23470738361756, 'kernel': 'rbf', 'gamma': 'scale'}\n",
      "Precisión del modelo de SVM: 0.5046035805626599\n"
     ]
    },
    {
     "name": "stderr",
     "output_type": "stream",
     "text": [
      "[I 2024-03-08 10:55:00,418] Trial 0 finished with value: 0.5010230179028133 and parameters: {'n_estimators': 500, 'max_depth': 7, 'learning_rate': 0.030360926232124368, 'subsample': 0.6, 'colsample_bytree': 0.7}. Best is trial 0 with value: 0.5010230179028133.\n",
      "[I 2024-03-08 10:55:02,060] Trial 1 finished with value: 0.5016624040920716 and parameters: {'n_estimators': 700, 'max_depth': 9, 'learning_rate': 0.0512583014964379, 'subsample': 0.9, 'colsample_bytree': 0.9}. Best is trial 1 with value: 0.5016624040920716.\n"
     ]
    },
    {
     "name": "stdout",
     "output_type": "stream",
     "text": [
      "Mejores parámetros de XGBoost: {'n_estimators': 700, 'max_depth': 9, 'learning_rate': 0.0512583014964379, 'subsample': 0.9, 'colsample_bytree': 0.9}\n",
      "Precisión del modelo de XGBoost: 0.5016624040920716\n"
     ]
    }
   ],
   "source": [
    "params_5m_long = optimize_params(dataresult_long_5m)\n",
    "params_5m_short = optimize_params(dataresult_short_5m)"
   ],
   "metadata": {
    "collapsed": false,
    "ExecuteTime": {
     "end_time": "2024-03-08T16:55:02.068389Z",
     "start_time": "2024-03-08T16:44:21.331299Z"
    }
   },
   "id": "34e8b978d0e0180c",
   "execution_count": 205
  },
  {
   "cell_type": "code",
   "execution_count": 225,
   "id": "90a7effd",
   "metadata": {
    "ExecuteTime": {
     "end_time": "2024-03-08T17:30:36.271970Z",
     "start_time": "2024-03-08T17:30:36.269362Z"
    }
   },
   "outputs": [],
   "source": [
    "def buy_signals(data):\n",
    "    buy_signals = pd.DataFrame()\n",
    "    # Selecciona las características\n",
    "    X = data.iloc[:, :-1]\n",
    "    # Selecciona la variable objetivo\n",
    "    y = data.iloc[:, -1]\n",
    "\n",
    "    # Crear modelos con los mejores parámetros encontrados para cada algoritmo\n",
    "    best_logistic_model = LogisticRegression(penalty='l2', C= 0.010405629107406833, solver= 'liblinear')\n",
    "    best_svm_model = SVC(C=0.02891729617292502, kernel= 'linear', gamma='scale')\n",
    "    best_xgboost_model = XGBClassifier(n_estimators=300, max_depth=9, learning_rate=0.02572836520302602, subsample=0.8, colsample_bytree=1.0)\n",
    "\n",
    "    # Entrenar los modelos con todo el conjunto de datos original\n",
    "    best_logistic_model.fit(X, y)\n",
    "    best_svm_model.fit(X, y)\n",
    "    best_xgboost_model.fit(X, y)\n",
    "\n",
    "    # Realizar predicciones en el conjunto de datos original\n",
    "    predictions_lr = best_logistic_model.predict(X)\n",
    "    predictions_svm = best_svm_model.predict(X)\n",
    "    predictions_xgboost = best_xgboost_model.predict(X)\n",
    "\n",
    "    # Agregar las predicciones como nuevas columnas al conjunto de datos original\n",
    "    buy_signals['predicciones_lr'] = predictions_lr\n",
    "    buy_signals['predicciones_svm'] = predictions_svm\n",
    "    buy_signals['predicciones_xgboost'] = predictions_xgboost\n",
    "    \n",
    "    return buy_signals"
   ]
  },
  {
   "cell_type": "code",
   "execution_count": 226,
   "id": "1d2bdcc0",
   "metadata": {
    "ExecuteTime": {
     "end_time": "2024-03-08T17:30:36.860335Z",
     "start_time": "2024-03-08T17:30:36.851428Z"
    }
   },
   "outputs": [],
   "source": [
    "def sell_signals(data):\n",
    "    sell_signals = pd.DataFrame()\n",
    "    # Selecciona las características\n",
    "    X = data.iloc[:, :-1]\n",
    "    # Selecciona la variable objetivo\n",
    "    y = data.iloc[:, -1]\n",
    "\n",
    "    # Crear modelos con los mejores parámetros encontrados para cada algoritmo\n",
    "    best_logistic_model = LogisticRegression(penalty= 'l1', C= 0.002778605059659017, solver= 'saga')\n",
    "    best_svm_model = SVC(C= 0.28120622947860485, kernel= 'rbf', gamma= 'auto')\n",
    "    best_xgboost_model = XGBClassifier(n_estimators= 400, max_depth= 3, learning_rate= 0.11719371112820326, subsample= 0.7, colsample_bytree= 0.8)\n",
    "\n",
    "    # Entrenar los modelos con todo el conjunto de datos original\n",
    "    best_logistic_model.fit(X, y)\n",
    "    best_svm_model.fit(X, y)\n",
    "    best_xgboost_model.fit(X, y)\n",
    "\n",
    "    # Realizar predicciones en el conjunto de datos original\n",
    "    predictions_lr = best_logistic_model.predict(X)\n",
    "    predictions_svm = best_svm_model.predict(X)\n",
    "    predictions_xgboost = best_xgboost_model.predict(X)\n",
    "    predictions_xgboost_bool = predictions_xgboost.astype(bool)\n",
    "\n",
    "    # Agregar las predicciones como nuevas columnas al conjunto de datos original\n",
    "    sell_signals['predicciones_lr'] = predictions_lr\n",
    "    sell_signals['predicciones_svm'] = predictions_svm\n",
    "    sell_signals['predicciones_xgboost'] = predictions_xgboost_bool\n",
    "    \n",
    "    return sell_signals"
   ]
  },
  {
   "cell_type": "code",
   "execution_count": 227,
   "id": "90906dd0",
   "metadata": {
    "ExecuteTime": {
     "end_time": "2024-03-08T17:31:29.377959Z",
     "start_time": "2024-03-08T17:30:37.524963Z"
    }
   },
   "outputs": [],
   "source": [
    "global_buy_signals = buy_signals(dataresult_long_1d)\n",
    "global_sell_signals = sell_signals(dataresult_short_1d)"
   ]
  },
  {
   "cell_type": "code",
   "outputs": [],
   "source": [
    "global_buy_signals = buy_signals(dataresult_long_1h)\n",
    "global_sell_signals = sell_signals(dataresult_short_1h)"
   ],
   "metadata": {
    "collapsed": false,
    "ExecuteTime": {
     "end_time": "2024-03-08T17:31:29.663442Z",
     "start_time": "2024-03-08T17:31:29.379975Z"
    }
   },
   "id": "38ba42f906532848",
   "execution_count": 228
  },
  {
   "cell_type": "code",
   "outputs": [],
   "source": [
    "global_buy_signals = buy_signals(dataresult_long_1m)\n",
    "global_sell_signals = sell_signals(dataresult_short_1m)"
   ],
   "metadata": {
    "collapsed": false,
    "ExecuteTime": {
     "end_time": "2024-03-08T17:31:29.956742Z",
     "start_time": "2024-03-08T17:31:29.666972Z"
    }
   },
   "id": "4f8999c107a62d97",
   "execution_count": 229
  },
  {
   "cell_type": "code",
   "outputs": [],
   "source": [
    "global_buy_signals = buy_signals(dataresult_long_5m)\n",
    "global_sell_signals = sell_signals(dataresult_short_5m)"
   ],
   "metadata": {
    "collapsed": false,
    "ExecuteTime": {
     "end_time": "2024-03-08T17:34:47.676166Z",
     "start_time": "2024-03-08T17:31:29.966593Z"
    }
   },
   "id": "ef1db270fc8b60f2",
   "execution_count": 230
  },
  {
   "cell_type": "code",
   "execution_count": 231,
   "id": "146facd0",
   "metadata": {
    "ExecuteTime": {
     "end_time": "2024-03-08T17:34:47.696688Z",
     "start_time": "2024-03-08T17:34:47.688026Z"
    }
   },
   "outputs": [],
   "source": [
    "def backtest(data, buy_signals, sell_signals, stop_loss, take_profit, n_shares):\n",
    "    history = []\n",
    "    active_operations = []\n",
    "    cash = 1_000_000\n",
    "    com = 1.25 / 100\n",
    "    \n",
    "    for i, row in data.iterrows():\n",
    "        # close active operation\n",
    "        active_op_temp = []\n",
    "        for operation in active_operations:\n",
    "            if operation[\"stop_loss\"] > row.Close:\n",
    "                cash += (row.Close * operation[\"n_shares\"]) * (1 - com)\n",
    "            elif operation[\"take_profit\"] < row.Close:\n",
    "                cash += (row.Close * operation[\"n_shares\"]) * (1 - com)\n",
    "            else:\n",
    "                active_op_temp.append(operation)\n",
    "        active_operations = active_op_temp\n",
    "\n",
    "        # check if we have enough cash\n",
    "        if cash < (row.Close * (1 + com)):\n",
    "            asset_vals = sum([operation[\"n_shares\"] * row.Close for operation in active_operations])\n",
    "            portfolio_value = cash + asset_vals\n",
    "            continue\n",
    "\n",
    "        # Apply buy signals\n",
    "        if buy_signals.loc[i].any():\n",
    "            active_operations.append({\n",
    "                \"bought\": row.Close,\n",
    "                \"n_shares\": n_shares,\n",
    "                \"stop_loss\": row.Close * stop_loss,\n",
    "                \"take_profit\": row.Close * take_profit\n",
    "            })\n",
    "\n",
    "            cash -= row.Close * (1 + com) * n_shares\n",
    "\n",
    "        # Apply sell signals\n",
    "        if sell_signals.loc[i].any():\n",
    "            active_op_temp = []\n",
    "            for operation in active_operations:\n",
    "                if operation[\"take_profit\"] < row.Close or operation[\"stop_loss\"] > row.Close:\n",
    "                    cash += (row.Close * operation[\"n_shares\"]) * (1 - com)\n",
    "                else:\n",
    "                    active_op_temp.append(operation)\n",
    "            active_operations = active_op_temp\n",
    "\n",
    "        asset_vals = sum([operation[\"n_shares\"] * row.Close for operation in active_operations])\n",
    "        portfolio_value = cash + asset_vals\n",
    "\n",
    "    return portfolio_value, active_operations"
   ]
  },
  {
   "cell_type": "code",
   "execution_count": 232,
   "id": "703d56ef",
   "metadata": {
    "ExecuteTime": {
     "end_time": "2024-03-08T17:34:47.698699Z",
     "start_time": "2024-03-08T17:34:47.696229Z"
    }
   },
   "outputs": [],
   "source": [
    "def optimize(trial, strategy, data):\n",
    "    portfolio_value = 0\n",
    "\n",
    "    stop_loss = trial.suggest_float(\"stop_loss\", 0.00250, 0.05)\n",
    "    take_profit = trial.suggest_float(\"take_profit\", 0.00250, 0.05)\n",
    "    n_shares = trial.suggest_int(\"n_shares\", 5, 200)\n",
    "\n",
    "    strat_params = {}\n",
    "\n",
    "    buy_signals = pd.DataFrame()\n",
    "    sell_signals = pd.DataFrame()\n",
    "\n",
    "    if \"logistic\" in strategy:\n",
    "        buy_signals[\"logistic\"] = global_buy_signals[\"predicciones_lr\"]\n",
    "        sell_signals[\"logistic\"] = global_sell_signals[\"predicciones_lr\"]\n",
    "        \n",
    "    if \"svm\" in strategy:\n",
    "        buy_signals[\"svm\"] = global_buy_signals[\"predicciones_svm\"]\n",
    "        sell_signals[\"svm\"] = global_sell_signals[\"predicciones_svm\"]\n",
    "        \n",
    "    if \"xg\" in strategy:\n",
    "        buy_signals[\"xg\"] = global_buy_signals[\"predicciones_xgboost\"]\n",
    "        sell_signals[\"xg\"] = global_sell_signals[\"predicciones_xgboost\"]\n",
    "    \n",
    "    return backtest(data, buy_signals, sell_signals, stop_loss, take_profit, n_shares)"
   ]
  },
  {
   "cell_type": "code",
   "execution_count": 233,
   "id": "a4885d14",
   "metadata": {
    "ExecuteTime": {
     "end_time": "2024-03-08T17:34:47.708076Z",
     "start_time": "2024-03-08T17:34:47.699423Z"
    }
   },
   "outputs": [],
   "source": [
    "def optimize_file(data):\n",
    "    data = data.drop(data.index[:30])\n",
    "    data = data.drop(data.index[-30:])\n",
    "    data.reset_index(drop=True, inplace=True)\n",
    "    strategies = list(powerset([\"logistic\", \"svm\", \"xg\"]))\n",
    "    best_strat = None\n",
    "    best_val = -1\n",
    "    best_params = None\n",
    "\n",
    "    for strat in strategies:\n",
    "        study = optuna.create_study(direction=\"maximize\")\n",
    "        study.optimize(lambda x: optimize(x, strat, data), n_trials=30)\n",
    "        value = study.best_value\n",
    "        if value > best_val:\n",
    "            best_val = value\n",
    "            best_strat = strat\n",
    "            best_params = study.best_params\n",
    "    print(study.best_value)\n",
    "    print(best_strat)\n",
    "    print(best_params)\n",
    "\n",
    "    return {\"file\": data,\n",
    "            \"strat\": best_strat,\n",
    "            \"value\": best_val,\n",
    "            \"params\": best_params}"
   ]
  },
  {
   "cell_type": "code",
   "execution_count": 234,
   "id": "5fbac6d1",
   "metadata": {
    "scrolled": false,
    "ExecuteTime": {
     "end_time": "2024-03-08T17:36:00.457114Z",
     "start_time": "2024-03-08T17:34:47.704372Z"
    }
   },
   "outputs": [
    {
     "name": "stderr",
     "output_type": "stream",
     "text": [
      "[I 2024-03-08 11:34:47,706] A new study created in memory with name: no-name-9018e3be-9ed0-44a5-8db8-982aba8c0406\n",
      "[I 2024-03-08 11:34:48,010] Trial 0 finished with value: -302.7069349952144 and parameters: {'stop_loss': 0.017850360295861015, 'take_profit': 0.04057151235380353, 'n_shares': 81}. Best is trial 0 with value: -302.7069349952144.\n",
      "[I 2024-03-08 11:34:48,271] Trial 1 finished with value: -549.5401999957248 and parameters: {'stop_loss': 0.033440630143553134, 'take_profit': 0.03576606269950994, 'n_shares': 120}. Best is trial 0 with value: -302.7069349952144.\n",
      "[I 2024-03-08 11:34:48,524] Trial 2 finished with value: -1096.9311349975178 and parameters: {'stop_loss': 0.03675929350217185, 'take_profit': 0.04128560917752846, 'n_shares': 141}. Best is trial 0 with value: -302.7069349952144.\n",
      "[I 2024-03-08 11:34:48,893] Trial 3 finished with value: -15781.457825002613 and parameters: {'stop_loss': 0.03177687439367268, 'take_profit': 0.04664936324569879, 'n_shares': 45}. Best is trial 0 with value: -302.7069349952144.\n",
      "[I 2024-03-08 11:34:49,135] Trial 4 finished with value: -536.5609749970899 and parameters: {'stop_loss': 0.03239484500076779, 'take_profit': 0.026612635210657945, 'n_shares': 185}. Best is trial 0 with value: -302.7069349952144.\n",
      "[I 2024-03-08 11:34:49,378] Trial 5 finished with value: 78.02051000252686 and parameters: {'stop_loss': 0.02701050918996721, 'take_profit': 0.020801137175439483, 'n_shares': 179}. Best is trial 5 with value: 78.02051000252686.\n",
      "[I 2024-03-08 11:34:49,629] Trial 6 finished with value: -979.9207450002286 and parameters: {'stop_loss': 0.034928350690105026, 'take_profit': 0.017570924895513134, 'n_shares': 157}. Best is trial 5 with value: 78.02051000252686.\n",
      "[I 2024-03-08 11:34:49,870] Trial 7 finished with value: -1012.0157449954568 and parameters: {'stop_loss': 0.01436423770352454, 'take_profit': 0.016016481656550636, 'n_shares': 183}. Best is trial 5 with value: 78.02051000252686.\n",
      "[I 2024-03-08 11:34:50,151] Trial 8 finished with value: 44.099325003527156 and parameters: {'stop_loss': 0.03872972241783372, 'take_profit': 0.014207978710621402, 'n_shares': 71}. Best is trial 5 with value: 78.02051000252686.\n",
      "[I 2024-03-08 11:34:50,400] Trial 9 finished with value: -151.34182999538461 and parameters: {'stop_loss': 0.048758648404056304, 'take_profit': 0.04221463954676684, 'n_shares': 162}. Best is trial 5 with value: 78.02051000252686.\n",
      "[I 2024-03-08 11:34:50,785] Trial 10 finished with value: 840794.115504999 and parameters: {'stop_loss': 0.0032364990237200367, 'take_profit': 0.003056329029130063, 'n_shares': 7}. Best is trial 10 with value: 840794.115504999.\n",
      "[I 2024-03-08 11:34:51,166] Trial 11 finished with value: 727075.6265799986 and parameters: {'stop_loss': 0.002569612780538539, 'take_profit': 0.0034660480522108322, 'n_shares': 12}. Best is trial 10 with value: 840794.115504999.\n",
      "[I 2024-03-08 11:34:51,543] Trial 12 finished with value: 818050.4177200003 and parameters: {'stop_loss': 0.0032793601943116282, 'take_profit': 0.0037936388703227056, 'n_shares': 8}. Best is trial 10 with value: 840794.115504999.\n",
      "[I 2024-03-08 11:34:51,932] Trial 13 finished with value: 863537.8132899996 and parameters: {'stop_loss': 0.0035519672859404237, 'take_profit': 0.004889659494408321, 'n_shares': 6}. Best is trial 13 with value: 863537.8132899996.\n",
      "[I 2024-03-08 11:34:52,312] Trial 14 finished with value: 135739.48417000452 and parameters: {'stop_loss': 0.010952218850906283, 'take_profit': 0.009491589629053008, 'n_shares': 38}. Best is trial 13 with value: 863537.8132899996.\n",
      "[I 2024-03-08 11:34:52,687] Trial 15 finished with value: 44764.69302999688 and parameters: {'stop_loss': 0.009344142603282493, 'take_profit': 0.009710474307467538, 'n_shares': 42}. Best is trial 13 with value: 863537.8132899996.\n",
      "[I 2024-03-08 11:34:52,972] Trial 16 finished with value: -1759.7851799979253 and parameters: {'stop_loss': 0.020492936020739618, 'take_profit': 0.02836021531112343, 'n_shares': 76}. Best is trial 13 with value: 863537.8132899996.\n",
      "[I 2024-03-08 11:34:53,347] Trial 17 finished with value: 431407.5553750059 and parameters: {'stop_loss': 0.0074706201532957275, 'take_profit': 0.009155637081785219, 'n_shares': 25}. Best is trial 13 with value: 863537.8132899996.\n",
      "[I 2024-03-08 11:34:53,659] Trial 18 finished with value: 88.96506000531735 and parameters: {'stop_loss': 0.02410003745818395, 'take_profit': 0.0031034442383232747, 'n_shares': 59}. Best is trial 13 with value: 863537.8132899996.\n",
      "[I 2024-03-08 11:34:53,933] Trial 19 finished with value: 34.50410000377451 and parameters: {'stop_loss': 0.015074705103496202, 'take_profit': 0.022196767942761476, 'n_shares': 98}. Best is trial 13 with value: 863537.8132899996.\n",
      "[I 2024-03-08 11:34:54,313] Trial 20 finished with value: 886281.511075001 and parameters: {'stop_loss': 0.006460615541953936, 'take_profit': 0.012207690791209752, 'n_shares': 5}. Best is trial 20 with value: 886281.511075001.\n",
      "[I 2024-03-08 11:34:54,696] Trial 21 finished with value: 886281.511075001 and parameters: {'stop_loss': 0.006134874225749989, 'take_profit': 0.007917557950744484, 'n_shares': 5}. Best is trial 20 with value: 886281.511075001.\n",
      "[I 2024-03-08 11:34:55,089] Trial 22 finished with value: 454151.2531600045 and parameters: {'stop_loss': 0.007724411129257392, 'take_profit': 0.012012490541698414, 'n_shares': 24}. Best is trial 20 with value: 886281.511075001.\n",
      "[I 2024-03-08 11:34:55,474] Trial 23 finished with value: 385920.1598049995 and parameters: {'stop_loss': 0.012677119563203075, 'take_profit': 0.008723155739732688, 'n_shares': 27}. Best is trial 20 with value: 886281.511075001.\n",
      "[I 2024-03-08 11:34:55,813] Trial 24 finished with value: 77.6749500030619 and parameters: {'stop_loss': 0.005778628443934919, 'take_profit': 0.006970678724824963, 'n_shares': 55}. Best is trial 20 with value: 886281.511075001.\n",
      "[I 2024-03-08 11:34:56,199] Trial 25 finished with value: 886281.511075001 and parameters: {'stop_loss': 0.018741888505948826, 'take_profit': 0.020308089034979927, 'n_shares': 5}. Best is trial 20 with value: 886281.511075001.\n",
      "[I 2024-03-08 11:34:56,581] Trial 26 finished with value: 408663.85758999735 and parameters: {'stop_loss': 0.01934083540020306, 'take_profit': 0.03188860537217946, 'n_shares': 26}. Best is trial 20 with value: 886281.511075001.\n",
      "[I 2024-03-08 11:34:56,860] Trial 27 finished with value: -1697.3380399981397 and parameters: {'stop_loss': 0.02385040751121173, 'take_profit': 0.02056669796524545, 'n_shares': 94}. Best is trial 20 with value: 886281.511075001.\n",
      "[I 2024-03-08 11:34:57,180] Trial 28 finished with value: -13.43277999608108 and parameters: {'stop_loss': 0.011201991582385488, 'take_profit': 0.013880394307604828, 'n_shares': 58}. Best is trial 20 with value: 886281.511075001.\n",
      "[I 2024-03-08 11:34:57,451] Trial 29 finished with value: -489.29302000050666 and parameters: {'stop_loss': 0.01567016380945172, 'take_profit': 0.02337297014893272, 'n_shares': 122}. Best is trial 20 with value: 886281.511075001.\n",
      "[I 2024-03-08 11:34:57,451] A new study created in memory with name: no-name-97177e0e-0539-4af5-aa44-1e3b396fcbe6\n",
      "[I 2024-03-08 11:34:57,807] Trial 0 finished with value: -768.3449750037053 and parameters: {'stop_loss': 0.03075571106445327, 'take_profit': 0.018757051836455204, 'n_shares': 45}. Best is trial 0 with value: -768.3449750037053.\n",
      "[I 2024-03-08 11:34:58,049] Trial 1 finished with value: -133.76951499459756 and parameters: {'stop_loss': 0.016578686784846797, 'take_profit': 0.03958698692216379, 'n_shares': 173}. Best is trial 1 with value: -133.76951499459756.\n",
      "[I 2024-03-08 11:34:58,419] Trial 2 finished with value: 859494.4476699983 and parameters: {'stop_loss': 0.02861601338603246, 'take_profit': 0.012644490115716075, 'n_shares': 6}. Best is trial 2 with value: 859494.4476699983.\n",
      "[I 2024-03-08 11:34:58,787] Trial 3 finished with value: 180384.27807500347 and parameters: {'stop_loss': 0.01866781903775951, 'take_profit': 0.005497015594246467, 'n_shares': 35}. Best is trial 2 with value: 859494.4476699983.\n",
      "[I 2024-03-08 11:34:59,154] Trial 4 finished with value: 484812.9747899983 and parameters: {'stop_loss': 0.044054066425697924, 'take_profit': 0.026634805286967152, 'n_shares': 22}. Best is trial 2 with value: 859494.4476699983.\n",
      "[I 2024-03-08 11:34:59,520] Trial 5 finished with value: 297472.23834999604 and parameters: {'stop_loss': 0.015793541884202112, 'take_profit': 0.015996740032864148, 'n_shares': 30}. Best is trial 2 with value: 859494.4476699983.\n",
      "[I 2024-03-08 11:34:59,846] Trial 6 finished with value: -64.09385999524329 and parameters: {'stop_loss': 0.03874003468804456, 'take_profit': 0.003243282499596553, 'n_shares': 52}. Best is trial 2 with value: 859494.4476699983.\n",
      "[I 2024-03-08 11:35:00,102] Trial 7 finished with value: -247.3457899949135 and parameters: {'stop_loss': 0.029541819076913913, 'take_profit': 0.011188357847656896, 'n_shares': 121}. Best is trial 2 with value: 859494.4476699983.\n",
      "[I 2024-03-08 11:35:00,365] Trial 8 finished with value: -602.3136199943183 and parameters: {'stop_loss': 0.017689596495491258, 'take_profit': 0.00789947809654178, 'n_shares': 91}. Best is trial 2 with value: 859494.4476699983.\n",
      "[I 2024-03-08 11:35:00,730] Trial 9 finished with value: 180384.27807500347 and parameters: {'stop_loss': 0.04202014167028855, 'take_profit': 0.0454155137949122, 'n_shares': 35}. Best is trial 2 with value: 859494.4476699983.\n",
      "[I 2024-03-08 11:35:00,976] Trial 10 finished with value: -1101.9234999943 and parameters: {'stop_loss': 0.005069635238088007, 'take_profit': 0.027760763195126544, 'n_shares': 196}. Best is trial 2 with value: 859494.4476699983.\n",
      "[I 2024-03-08 11:35:01,349] Trial 11 finished with value: 882912.039724999 and parameters: {'stop_loss': 0.048245046398971064, 'take_profit': 0.028882376512619237, 'n_shares': 5}. Best is trial 11 with value: 882912.039724999.\n",
      "[I 2024-03-08 11:35:01,721] Trial 12 finished with value: 789241.6715049949 and parameters: {'stop_loss': 0.04774476363947607, 'take_profit': 0.034540486432918495, 'n_shares': 9}. Best is trial 11 with value: 882912.039724999.\n",
      "[I 2024-03-08 11:35:01,997] Trial 13 finished with value: -41.565999994058075 and parameters: {'stop_loss': 0.038005471938007664, 'take_profit': 0.0206465686394661, 'n_shares': 80}. Best is trial 11 with value: 882912.039724999.\n",
      "[I 2024-03-08 11:35:02,253] Trial 14 finished with value: -526.090409994591 and parameters: {'stop_loss': 0.049944386673764024, 'take_profit': 0.033068112808763456, 'n_shares': 134}. Best is trial 11 with value: 882912.039724999.\n",
      "[I 2024-03-08 11:35:02,622] Trial 15 finished with value: 812659.2635600021 and parameters: {'stop_loss': 0.024733528787414465, 'take_profit': 0.013662071115727814, 'n_shares': 8}. Best is trial 11 with value: 882912.039724999.\n",
      "[I 2024-03-08 11:35:02,907] Trial 16 finished with value: 27.417025006328004 and parameters: {'stop_loss': 0.004129457173122308, 'take_profit': 0.023336740126980563, 'n_shares': 67}. Best is trial 11 with value: 882912.039724999.\n",
      "[I 2024-03-08 11:35:03,197] Trial 17 finished with value: -173.51951999546145 and parameters: {'stop_loss': 0.034898192061991955, 'take_profit': 0.04870997034537801, 'n_shares': 62}. Best is trial 11 with value: 882912.039724999.\n",
      "[I 2024-03-08 11:35:03,455] Trial 18 finished with value: -517.813539995761 and parameters: {'stop_loss': 0.02434268433288989, 'take_profit': 0.031667827211089135, 'n_shares': 127}. Best is trial 11 with value: 882912.039724999.\n",
      "[I 2024-03-08 11:35:03,725] Trial 19 finished with value: 90.3239200030439 and parameters: {'stop_loss': 0.009209437985643346, 'take_profit': 0.04073031167951646, 'n_shares': 102}. Best is trial 11 with value: 882912.039724999.\n",
      "[I 2024-03-08 11:35:04,096] Trial 20 finished with value: 882912.039724999 and parameters: {'stop_loss': 0.03303866150057575, 'take_profit': 0.010027884140995511, 'n_shares': 5}. Best is trial 11 with value: 882912.039724999.\n",
      "[I 2024-03-08 11:35:04,468] Trial 21 finished with value: 859494.4476699983 and parameters: {'stop_loss': 0.03222014303962481, 'take_profit': 0.01057950576441766, 'n_shares': 6}. Best is trial 11 with value: 882912.039724999.\n",
      "[I 2024-03-08 11:35:04,839] Trial 22 finished with value: 508230.5668450038 and parameters: {'stop_loss': 0.02721431325897955, 'take_profit': 0.01766628954888568, 'n_shares': 21}. Best is trial 11 with value: 882912.039724999.\n",
      "[I 2024-03-08 11:35:05,176] Trial 23 finished with value: 73.59081999840328 and parameters: {'stop_loss': 0.022120117307513402, 'take_profit': 0.022933502086192725, 'n_shares': 51}. Best is trial 11 with value: 882912.039724999.\n",
      "[I 2024-03-08 11:35:05,548] Trial 24 finished with value: 437977.79068000655 and parameters: {'stop_loss': 0.03508650171385847, 'take_profit': 0.013798760716384069, 'n_shares': 24}. Best is trial 11 with value: 882912.039724999.\n",
      "[I 2024-03-08 11:35:05,920] Trial 25 finished with value: 882912.039724999 and parameters: {'stop_loss': 0.04356892691133564, 'take_profit': 0.009597682300941412, 'n_shares': 5}. Best is trial 11 with value: 882912.039724999.\n",
      "[I 2024-03-08 11:35:06,171] Trial 26 finished with value: 38.84126500072307 and parameters: {'stop_loss': 0.04460721154939203, 'take_profit': 0.006843876311830223, 'n_shares': 157}. Best is trial 11 with value: 882912.039724999.\n",
      "[I 2024-03-08 11:35:06,546] Trial 27 finished with value: 16461.13368999809 and parameters: {'stop_loss': 0.040283453945130714, 'take_profit': 0.02939820509988242, 'n_shares': 42}. Best is trial 11 with value: 882912.039724999.\n",
      "[I 2024-03-08 11:35:06,917] Trial 28 finished with value: 531648.1589000043 and parameters: {'stop_loss': 0.04650373112936001, 'take_profit': 0.0030333839596263963, 'n_shares': 20}. Best is trial 11 with value: 882912.039724999.\n",
      "[I 2024-03-08 11:35:07,202] Trial 29 finished with value: -23.022319997980958 and parameters: {'stop_loss': 0.049751555371050166, 'take_profit': 0.036958365861790576, 'n_shares': 69}. Best is trial 11 with value: 882912.039724999.\n",
      "[I 2024-03-08 11:35:07,203] A new study created in memory with name: no-name-b9396248-1ac7-4d17-9ee7-e63d931aedba\n",
      "[I 2024-03-08 11:35:07,444] Trial 0 finished with value: -2327.966289997028 and parameters: {'stop_loss': 0.025546107952139695, 'take_profit': 0.04189328738348426, 'n_shares': 167}. Best is trial 0 with value: -2327.966289997028.\n",
      "[I 2024-03-08 11:35:07,710] Trial 1 finished with value: 57.51740500119922 and parameters: {'stop_loss': 0.02943364745535736, 'take_profit': 0.03045087523394792, 'n_shares': 119}. Best is trial 1 with value: 57.51740500119922.\n",
      "[I 2024-03-08 11:35:08,033] Trial 2 finished with value: 80230.46009500184 and parameters: {'stop_loss': 0.04585440185361307, 'take_profit': 0.0030123153511563408, 'n_shares': 81}. Best is trial 2 with value: 80230.46009500184.\n",
      "[I 2024-03-08 11:35:08,286] Trial 3 finished with value: -40.575309997042496 and parameters: {'stop_loss': 0.03628142179896414, 'take_profit': 0.0044299055914900015, 'n_shares': 133}. Best is trial 2 with value: 80230.46009500184.\n",
      "[I 2024-03-08 11:35:08,593] Trial 4 finished with value: -357.6139899962618 and parameters: {'stop_loss': 0.03701544093579861, 'take_profit': 0.03914843167853441, 'n_shares': 98}. Best is trial 2 with value: 80230.46009500184.\n",
      "[I 2024-03-08 11:35:08,834] Trial 5 finished with value: -1151.497919999616 and parameters: {'stop_loss': 0.036233951533423334, 'take_profit': 0.004101633032110756, 'n_shares': 166}. Best is trial 2 with value: 80230.46009500184.\n",
      "[I 2024-03-08 11:35:09,077] Trial 6 finished with value: -1121.911369994472 and parameters: {'stop_loss': 0.010078944247889726, 'take_profit': 0.01188346160384254, 'n_shares': 162}. Best is trial 2 with value: 80230.46009500184.\n",
      "[I 2024-03-08 11:35:09,399] Trial 7 finished with value: 897803.384454996 and parameters: {'stop_loss': 0.03637512916143877, 'take_profit': 0.022683827072366346, 'n_shares': 9}. Best is trial 7 with value: 897803.384454996.\n",
      "[I 2024-03-08 11:35:09,719] Trial 8 finished with value: 704765.3328699964 and parameters: {'stop_loss': 0.03264256598414729, 'take_profit': 0.03366405748354364, 'n_shares': 26}. Best is trial 7 with value: 897803.384454996.\n",
      "[I 2024-03-08 11:35:10,041] Trial 9 finished with value: 352754.76821500296 and parameters: {'stop_loss': 0.03453679823937431, 'take_profit': 0.0046134959445558055, 'n_shares': 57}. Best is trial 7 with value: 897803.384454996.\n",
      "[I 2024-03-08 11:35:10,368] Trial 10 finished with value: 863737.8459400008 and parameters: {'stop_loss': 0.014158342279504039, 'take_profit': 0.018412802787324933, 'n_shares': 12}. Best is trial 7 with value: 897803.384454996.\n",
      "[I 2024-03-08 11:35:10,695] Trial 11 finished with value: 886448.2049499998 and parameters: {'stop_loss': 0.013828936944517914, 'take_profit': 0.019831670317346076, 'n_shares': 10}. Best is trial 7 with value: 897803.384454996.\n",
      "[I 2024-03-08 11:35:11,023] Trial 12 finished with value: 557147.9993050006 and parameters: {'stop_loss': 0.020169825065941796, 'take_profit': 0.020790455106694708, 'n_shares': 39}. Best is trial 7 with value: 897803.384454996.\n",
      "[I 2024-03-08 11:35:11,350] Trial 13 finished with value: 318689.2297000023 and parameters: {'stop_loss': 0.005769333780959748, 'take_profit': 0.02430984705091538, 'n_shares': 60}. Best is trial 7 with value: 897803.384454996.\n",
      "[I 2024-03-08 11:35:11,677] Trial 14 finished with value: 943224.1024749978 and parameters: {'stop_loss': 0.04867061072737812, 'take_profit': 0.014701384261391554, 'n_shares': 5}. Best is trial 14 with value: 943224.1024749978.\n",
      "[I 2024-03-08 11:35:12,003] Trial 15 finished with value: 523082.46079000144 and parameters: {'stop_loss': 0.049789389017951054, 'take_profit': 0.012425807408868573, 'n_shares': 42}. Best is trial 14 with value: 943224.1024749978.\n",
      "[I 2024-03-08 11:35:12,329] Trial 16 finished with value: 137006.35762000654 and parameters: {'stop_loss': 0.043294357441954714, 'take_profit': 0.04771429726132064, 'n_shares': 76}. Best is trial 14 with value: 943224.1024749978.\n",
      "[I 2024-03-08 11:35:12,656] Trial 17 finished with value: 943224.1024749978 and parameters: {'stop_loss': 0.041995615002756635, 'take_profit': 0.012413133660868027, 'n_shares': 5}. Best is trial 14 with value: 943224.1024749978.\n",
      "[I 2024-03-08 11:35:12,982] Trial 18 finished with value: 613923.8968300032 and parameters: {'stop_loss': 0.04561397440220496, 'take_profit': 0.013505086287837455, 'n_shares': 34}. Best is trial 14 with value: 943224.1024749978.\n",
      "[I 2024-03-08 11:35:13,310] Trial 19 finished with value: 364109.94772000297 and parameters: {'stop_loss': 0.040894801773948504, 'take_profit': 0.015371045723080422, 'n_shares': 56}. Best is trial 14 with value: 943224.1024749978.\n",
      "[I 2024-03-08 11:35:13,571] Trial 20 finished with value: -643.3617949981417 and parameters: {'stop_loss': 0.04890473451594614, 'take_profit': 0.009139013066025017, 'n_shares': 131}. Best is trial 14 with value: 943224.1024749978.\n",
      "[I 2024-03-08 11:35:13,900] Trial 21 finished with value: 920513.7434649995 and parameters: {'stop_loss': 0.04088375005185682, 'take_profit': 0.02633098409555995, 'n_shares': 7}. Best is trial 14 with value: 943224.1024749978.\n",
      "[I 2024-03-08 11:35:14,231] Trial 22 finished with value: 931868.922970002 and parameters: {'stop_loss': 0.04119315215583399, 'take_profit': 0.031343486608341097, 'n_shares': 6}. Best is trial 14 with value: 943224.1024749978.\n",
      "[I 2024-03-08 11:35:14,561] Trial 23 finished with value: 727475.6918800012 and parameters: {'stop_loss': 0.041551815288545235, 'take_profit': 0.031259261163051694, 'n_shares': 24}. Best is trial 14 with value: 943224.1024749978.\n",
      "[I 2024-03-08 11:35:14,891] Trial 24 finished with value: 727475.6918800012 and parameters: {'stop_loss': 0.025945112951371627, 'take_profit': 0.008648732907314978, 'n_shares': 24}. Best is trial 14 with value: 943224.1024749978.\n",
      "[I 2024-03-08 11:35:15,134] Trial 25 finished with value: -605.0081999969989 and parameters: {'stop_loss': 0.04624315052749904, 'take_profit': 0.02844575037535136, 'n_shares': 185}. Best is trial 14 with value: 943224.1024749978.\n",
      "[I 2024-03-08 11:35:15,463] Trial 26 finished with value: 489016.9222749969 and parameters: {'stop_loss': 0.03141271642471144, 'take_profit': 0.035885435543315185, 'n_shares': 45}. Best is trial 14 with value: 943224.1024749978.\n",
      "[I 2024-03-08 11:35:15,787] Trial 27 finished with value: 205137.43465000216 and parameters: {'stop_loss': 0.03978785066964136, 'take_profit': 0.01636122547724106, 'n_shares': 70}. Best is trial 14 with value: 943224.1024749978.\n",
      "[I 2024-03-08 11:35:16,116] Trial 28 finished with value: 716120.5123750025 and parameters: {'stop_loss': 0.049731500209156884, 'take_profit': 0.009546656824738018, 'n_shares': 25}. Best is trial 14 with value: 943224.1024749978.\n",
      "[I 2024-03-08 11:35:16,444] Trial 29 finished with value: 931868.922970002 and parameters: {'stop_loss': 0.02048847668023781, 'take_profit': 0.04424805930980347, 'n_shares': 6}. Best is trial 14 with value: 943224.1024749978.\n",
      "[I 2024-03-08 11:35:16,445] A new study created in memory with name: no-name-723aa7ca-9f0d-45d9-9b0b-34a19cad5588\n",
      "[I 2024-03-08 11:35:16,703] Trial 0 finished with value: -118.03744999556511 and parameters: {'stop_loss': 0.00969103223031043, 'take_profit': 0.028837156530745176, 'n_shares': 159}. Best is trial 0 with value: -118.03744999556511.\n",
      "[I 2024-03-08 11:35:16,964] Trial 1 finished with value: -837.4224799980366 and parameters: {'stop_loss': 0.03901831112141009, 'take_profit': 0.018821685679821894, 'n_shares': 147}. Best is trial 0 with value: -118.03744999556511.\n",
      "[I 2024-03-08 11:35:17,354] Trial 2 finished with value: 482937.5598199976 and parameters: {'stop_loss': 0.02285163234905146, 'take_profit': 0.030396916985907484, 'n_shares': 22}. Best is trial 2 with value: 482937.5598199976.\n",
      "[I 2024-03-08 11:35:17,744] Trial 3 finished with value: 318417.6924900069 and parameters: {'stop_loss': 0.011258529643922597, 'take_profit': 0.029624508929968565, 'n_shares': 29}. Best is trial 2 with value: 482937.5598199976.\n",
      "[I 2024-03-08 11:35:18,023] Trial 4 finished with value: 15.838460005856177 and parameters: {'stop_loss': 0.030585927189639185, 'take_profit': 0.030767818583320707, 'n_shares': 91}. Best is trial 2 with value: 482937.5598199976.\n",
      "[I 2024-03-08 11:35:18,286] Trial 5 finished with value: -906.9531999965184 and parameters: {'stop_loss': 0.02877863246630566, 'take_profit': 0.018859329140372284, 'n_shares': 136}. Best is trial 2 with value: 482937.5598199976.\n",
      "[I 2024-03-08 11:35:18,563] Trial 6 finished with value: -357.40227499986213 and parameters: {'stop_loss': 0.0073643119789959, 'take_profit': 0.005118451141862744, 'n_shares': 99}. Best is trial 2 with value: 482937.5598199976.\n",
      "[I 2024-03-08 11:35:18,817] Trial 7 finished with value: -872.0571849970147 and parameters: {'stop_loss': 0.04675369072027559, 'take_profit': 0.026700912710131728, 'n_shares': 169}. Best is trial 2 with value: 482937.5598199976.\n",
      "[I 2024-03-08 11:35:19,207] Trial 8 finished with value: 647457.4271499986 and parameters: {'stop_loss': 0.013138849243414916, 'take_profit': 0.0031816965476832116, 'n_shares': 15}. Best is trial 8 with value: 647457.4271499986.\n",
      "[I 2024-03-08 11:35:19,486] Trial 9 finished with value: -1435.6105599913935 and parameters: {'stop_loss': 0.033929173470303955, 'take_profit': 0.042843153283517295, 'n_shares': 88}. Best is trial 8 with value: 647457.4271499986.\n",
      "[I 2024-03-08 11:35:19,864] Trial 10 finished with value: -29.677929992963982 and parameters: {'stop_loss': 0.019458071002882552, 'take_profit': 0.0030445809224509067, 'n_shares': 47}. Best is trial 8 with value: 647457.4271499986.\n",
      "[I 2024-03-08 11:35:20,260] Trial 11 finished with value: 670960.2653399977 and parameters: {'stop_loss': 0.019065994497245838, 'take_profit': 0.04184727319052841, 'n_shares': 14}. Best is trial 11 with value: 670960.2653399977.\n",
      "[I 2024-03-08 11:35:20,568] Trial 12 finished with value: 65.59191500602265 and parameters: {'stop_loss': 0.01726611190647708, 'take_profit': 0.04772189213335237, 'n_shares': 59}. Best is trial 11 with value: 670960.2653399977.\n",
      "[I 2024-03-08 11:35:20,964] Trial 13 finished with value: 717965.941719998 and parameters: {'stop_loss': 0.002560668958660823, 'take_profit': 0.038988838899702935, 'n_shares': 12}. Best is trial 13 with value: 717965.941719998.\n",
      "[I 2024-03-08 11:35:21,399] Trial 14 finished with value: 858982.9708599976 and parameters: {'stop_loss': 0.003941649706650252, 'take_profit': 0.038028641005823725, 'n_shares': 6}. Best is trial 14 with value: 858982.9708599976.\n",
      "[I 2024-03-08 11:35:21,715] Trial 15 finished with value: 65.59191500602265 and parameters: {'stop_loss': 0.00444658986867699, 'take_profit': 0.03754826251089911, 'n_shares': 59}. Best is trial 14 with value: 858982.9708599976.\n",
      "[I 2024-03-08 11:35:22,114] Trial 16 finished with value: 12880.796019998459 and parameters: {'stop_loss': 0.0028846287286328812, 'take_profit': 0.03731442108206843, 'n_shares': 42}. Best is trial 14 with value: 858982.9708599976.\n",
      "[I 2024-03-08 11:35:22,373] Trial 17 finished with value: -508.65445999651274 and parameters: {'stop_loss': 0.013290678334864888, 'take_profit': 0.048641845559413185, 'n_shares': 188}. Best is trial 14 with value: 858982.9708599976.\n",
      "[I 2024-03-08 11:35:22,774] Trial 18 finished with value: 858982.9708599976 and parameters: {'stop_loss': 0.004234688716573537, 'take_profit': 0.03582863672844648, 'n_shares': 6}. Best is trial 14 with value: 858982.9708599976.\n",
      "[I 2024-03-08 11:35:23,054] Trial 19 finished with value: -999.2523999953482 and parameters: {'stop_loss': 0.024772337713759557, 'take_profit': 0.019772640409398055, 'n_shares': 116}. Best is trial 14 with value: 858982.9708599976.\n",
      "[I 2024-03-08 11:35:23,353] Trial 20 finished with value: -176.69989999525205 and parameters: {'stop_loss': 0.04953935652714073, 'take_profit': 0.033600924541571854, 'n_shares': 74}. Best is trial 14 with value: 858982.9708599976.\n",
      "[I 2024-03-08 11:35:23,774] Trial 21 finished with value: 858982.9708599976 and parameters: {'stop_loss': 0.00267612982974234, 'take_profit': 0.040955661419945714, 'n_shares': 6}. Best is trial 14 with value: 858982.9708599976.\n",
      "[I 2024-03-08 11:35:24,180] Trial 22 finished with value: 882485.8090499992 and parameters: {'stop_loss': 0.006906819965627657, 'take_profit': 0.04291962045296911, 'n_shares': 5}. Best is trial 22 with value: 882485.8090499992.\n",
      "[I 2024-03-08 11:35:24,579] Trial 23 finished with value: 83389.31058999737 and parameters: {'stop_loss': 0.009934265617099855, 'take_profit': 0.045226821376182974, 'n_shares': 39}. Best is trial 22 with value: 882485.8090499992.\n",
      "[I 2024-03-08 11:35:24,977] Trial 24 finished with value: 247909.1779200007 and parameters: {'stop_loss': 0.008526841530264513, 'take_profit': 0.034920582762122315, 'n_shares': 32}. Best is trial 22 with value: 882485.8090499992.\n",
      "[I 2024-03-08 11:35:25,298] Trial 25 finished with value: -46.656829995473345 and parameters: {'stop_loss': 0.01562846622264704, 'take_profit': 0.023112042688182316, 'n_shares': 57}. Best is trial 22 with value: 882485.8090499992.\n",
      "[I 2024-03-08 11:35:25,693] Trial 26 finished with value: 835480.1326699978 and parameters: {'stop_loss': 0.006455783210248081, 'take_profit': 0.044428826004615854, 'n_shares': 7}. Best is trial 22 with value: 882485.8090499992.\n",
      "[I 2024-03-08 11:35:26,091] Trial 27 finished with value: 318417.6924900069 and parameters: {'stop_loss': 0.006764989649592627, 'take_profit': 0.034654267444096276, 'n_shares': 29}. Best is trial 22 with value: 882485.8090499992.\n",
      "[I 2024-03-08 11:35:26,366] Trial 28 finished with value: -85.87999999524436 and parameters: {'stop_loss': 0.014118834850927109, 'take_profit': 0.049886156234334525, 'n_shares': 120}. Best is trial 22 with value: 882485.8090499992.\n",
      "[I 2024-03-08 11:35:26,668] Trial 29 finished with value: -30.1862249937667 and parameters: {'stop_loss': 0.010435237476637962, 'take_profit': 0.01290863323717197, 'n_shares': 67}. Best is trial 22 with value: 882485.8090499992.\n",
      "[I 2024-03-08 11:35:26,669] A new study created in memory with name: no-name-3ade3c87-314f-45b4-806b-d2e699f5ab03\n",
      "[I 2024-03-08 11:35:27,105] Trial 0 finished with value: 389578.84975000075 and parameters: {'stop_loss': 0.018723588614508263, 'take_profit': 0.0103347200117327, 'n_shares': 27}. Best is trial 0 with value: 389578.84975000075.\n",
      "[I 2024-03-08 11:35:27,389] Trial 1 finished with value: -1164.40266499664 and parameters: {'stop_loss': 0.007798391909404609, 'take_profit': 0.015715166246036517, 'n_shares': 147}. Best is trial 0 with value: 389578.84975000075.\n",
      "[I 2024-03-08 11:35:27,667] Trial 2 finished with value: -289.1475499990702 and parameters: {'stop_loss': 0.01591018882440777, 'take_profit': 0.040119789875955936, 'n_shares': 165}. Best is trial 0 with value: 389578.84975000075.\n",
      "[I 2024-03-08 11:35:28,017] Trial 3 finished with value: -107.70937499620322 and parameters: {'stop_loss': 0.02153934483740084, 'take_profit': 0.03654103143715251, 'n_shares': 59}. Best is trial 0 with value: 389578.84975000075.\n",
      "[I 2024-03-08 11:35:28,311] Trial 4 finished with value: -8.253419997232413 and parameters: {'stop_loss': 0.02892172523244102, 'take_profit': 0.025277384508545837, 'n_shares': 121}. Best is trial 0 with value: 389578.84975000075.\n",
      "[I 2024-03-08 11:35:28,606] Trial 5 finished with value: -547.0077399927832 and parameters: {'stop_loss': 0.04271087144714487, 'take_profit': 0.03842574447153256, 'n_shares': 118}. Best is trial 0 with value: 389578.84975000075.\n",
      "[I 2024-03-08 11:35:28,893] Trial 6 finished with value: -341.5918999938076 and parameters: {'stop_loss': 0.04741988734212855, 'take_profit': 0.024502629640132226, 'n_shares': 139}. Best is trial 0 with value: 389578.84975000075.\n",
      "[I 2024-03-08 11:35:29,331] Trial 7 finished with value: 412187.04049999715 and parameters: {'stop_loss': 0.03813722160362461, 'take_profit': 0.006785488957399968, 'n_shares': 26}. Best is trial 7 with value: 412187.04049999715.\n",
      "[I 2024-03-08 11:35:29,613] Trial 8 finished with value: -516.8438999963982 and parameters: {'stop_loss': 0.04090899576093093, 'take_profit': 0.003563820847910799, 'n_shares': 155}. Best is trial 7 with value: 412187.04049999715.\n",
      "[I 2024-03-08 11:35:29,882] Trial 9 finished with value: -957.2813099982523 and parameters: {'stop_loss': 0.04690837672667089, 'take_profit': 0.03150599508439952, 'n_shares': 194}. Best is trial 7 with value: 412187.04049999715.\n",
      "[I 2024-03-08 11:35:30,325] Trial 10 finished with value: 841742.6647499985 and parameters: {'stop_loss': 0.03494201286379239, 'take_profit': 0.049999256956392936, 'n_shares': 7}. Best is trial 10 with value: 841742.6647499985.\n",
      "[I 2024-03-08 11:35:30,765] Trial 11 finished with value: 864350.8554999984 and parameters: {'stop_loss': 0.031899601410730526, 'take_profit': 0.04779402563377727, 'n_shares': 6}. Best is trial 11 with value: 864350.8554999984.\n",
      "[I 2024-03-08 11:35:31,203] Trial 12 finished with value: 886959.0462500022 and parameters: {'stop_loss': 0.031704315148595695, 'take_profit': 0.04856089916217194, 'n_shares': 5}. Best is trial 12 with value: 886959.0462500022.\n",
      "[I 2024-03-08 11:35:31,528] Trial 13 finished with value: -16.347079996334287 and parameters: {'stop_loss': 0.030394520218628405, 'take_profit': 0.04862782522697905, 'n_shares': 74}. Best is trial 12 with value: 886959.0462500022.\n",
      "[I 2024-03-08 11:35:31,859] Trial 14 finished with value: -448.7413199902512 and parameters: {'stop_loss': 0.025616395350568286, 'take_profit': 0.04534504003909839, 'n_shares': 68}. Best is trial 12 with value: 886959.0462500022.\n",
      "[I 2024-03-08 11:35:32,300] Trial 15 finished with value: 819134.4740000007 and parameters: {'stop_loss': 0.032970197832376355, 'take_profit': 0.04352764383659422, 'n_shares': 8}. Best is trial 12 with value: 886959.0462500022.\n",
      "[I 2024-03-08 11:35:32,741] Trial 16 finished with value: 163496.94225000252 and parameters: {'stop_loss': 0.010560362339076864, 'take_profit': 0.030860782699587787, 'n_shares': 37}. Best is trial 12 with value: 886959.0462500022.\n",
      "[I 2024-03-08 11:35:33,055] Trial 17 finished with value: 11.674840006127852 and parameters: {'stop_loss': 0.02540972743552703, 'take_profit': 0.018058694761185663, 'n_shares': 88}. Best is trial 12 with value: 886959.0462500022.\n",
      "[I 2024-03-08 11:35:33,483] Trial 18 finished with value: -27.4364999921454 and parameters: {'stop_loss': 0.034830566743669585, 'take_profit': 0.03361209716604487, 'n_shares': 47}. Best is trial 12 with value: 886959.0462500022.\n",
      "[I 2024-03-08 11:35:33,795] Trial 19 finished with value: -252.85625999334297 and parameters: {'stop_loss': 0.013586260871068668, 'take_profit': 0.042065688317505144, 'n_shares': 92}. Best is trial 12 with value: 886959.0462500022.\n",
      "[I 2024-03-08 11:35:34,235] Trial 20 finished with value: 570444.375749996 and parameters: {'stop_loss': 0.004099897822765031, 'take_profit': 0.04620144849939373, 'n_shares': 19}. Best is trial 12 with value: 886959.0462500022.\n",
      "[I 2024-03-08 11:35:34,674] Trial 21 finished with value: 819134.4740000007 and parameters: {'stop_loss': 0.03695754496677144, 'take_profit': 0.049487086577001696, 'n_shares': 8}. Best is trial 12 with value: 886959.0462500022.\n",
      "[I 2024-03-08 11:35:35,111] Trial 22 finished with value: 886959.0462500022 and parameters: {'stop_loss': 0.029621646055498146, 'take_profit': 0.04881252547634213, 'n_shares': 5}. Best is trial 12 with value: 886959.0462500022.\n",
      "[I 2024-03-08 11:35:35,548] Trial 23 finished with value: 5239.607000005104 and parameters: {'stop_loss': 0.02259646202697018, 'take_profit': 0.04394566917426565, 'n_shares': 44}. Best is trial 12 with value: 886959.0462500022.\n",
      "[I 2024-03-08 11:35:35,948] Trial 24 finished with value: -72.25499999591739 and parameters: {'stop_loss': 0.0300073384433229, 'take_profit': 0.03644048377513207, 'n_shares': 52}. Best is trial 12 with value: 886959.0462500022.\n",
      "[I 2024-03-08 11:35:36,387] Trial 25 finished with value: 434795.23125000426 and parameters: {'stop_loss': 0.04226198434963005, 'take_profit': 0.04603579791197096, 'n_shares': 25}. Best is trial 12 with value: 886959.0462500022.\n",
      "[I 2024-03-08 11:35:36,825] Trial 26 finished with value: 231321.5145000047 and parameters: {'stop_loss': 0.03148986246968426, 'take_profit': 0.04105136264230326, 'n_shares': 34}. Best is trial 12 with value: 886959.0462500022.\n",
      "[I 2024-03-08 11:35:37,265] Trial 27 finished with value: 841742.6647499985 and parameters: {'stop_loss': 0.027200096100522316, 'take_profit': 0.04732330438260004, 'n_shares': 7}. Best is trial 12 with value: 886959.0462500022.\n",
      "[I 2024-03-08 11:35:37,703] Trial 28 finished with value: 570444.375749996 and parameters: {'stop_loss': 0.02356953978183006, 'take_profit': 0.03423289925172325, 'n_shares': 19}. Best is trial 12 with value: 886959.0462500022.\n",
      "[I 2024-03-08 11:35:38,038] Trial 29 finished with value: -145.24224999432045 and parameters: {'stop_loss': 0.019191309161978778, 'take_profit': 0.020695480451878415, 'n_shares': 62}. Best is trial 12 with value: 886959.0462500022.\n",
      "[I 2024-03-08 11:35:38,039] A new study created in memory with name: no-name-47c817d0-2706-4a39-94df-21c85b36622d\n",
      "[I 2024-03-08 11:35:38,310] Trial 0 finished with value: -178.26375500025824 and parameters: {'stop_loss': 0.011891945345145398, 'take_profit': 0.024332586900361948, 'n_shares': 187}. Best is trial 0 with value: -178.26375500025824.\n",
      "[I 2024-03-08 11:35:38,596] Trial 1 finished with value: -85.75100000052043 and parameters: {'stop_loss': 0.03707692240337482, 'take_profit': 0.00959032555597326, 'n_shares': 135}. Best is trial 1 with value: -85.75100000052043.\n",
      "[I 2024-03-08 11:35:38,892] Trial 2 finished with value: -49.438954996847315 and parameters: {'stop_loss': 0.02323217181039486, 'take_profit': 0.03984190801593763, 'n_shares': 111}. Best is trial 2 with value: -49.438954996847315.\n",
      "[I 2024-03-08 11:35:39,327] Trial 3 finished with value: 539654.0031000044 and parameters: {'stop_loss': 0.013700080427335025, 'take_profit': 0.038890086575653064, 'n_shares': 20}. Best is trial 3 with value: 539654.0031000044.\n",
      "[I 2024-03-08 11:35:39,609] Trial 4 finished with value: -618.8453099959152 and parameters: {'stop_loss': 0.01620998354006771, 'take_profit': 0.03415429145512497, 'n_shares': 146}. Best is trial 3 with value: 539654.0031000044.\n",
      "[I 2024-03-08 11:35:39,887] Trial 5 finished with value: -903.9409599991268 and parameters: {'stop_loss': 0.015123768476816372, 'take_profit': 0.047427945051160124, 'n_shares': 154}. Best is trial 3 with value: 539654.0031000044.\n",
      "[I 2024-03-08 11:35:40,189] Trial 6 finished with value: -55.071619997690505 and parameters: {'stop_loss': 0.046339151745791535, 'take_profit': 0.02459675935607633, 'n_shares': 93}. Best is trial 3 with value: 539654.0031000044.\n",
      "[I 2024-03-08 11:35:40,469] Trial 7 finished with value: -618.8453099959152 and parameters: {'stop_loss': 0.004543847309811248, 'take_profit': 0.007089492090141767, 'n_shares': 146}. Best is trial 3 with value: 539654.0031000044.\n",
      "[I 2024-03-08 11:35:40,740] Trial 8 finished with value: -789.7899999963047 and parameters: {'stop_loss': 0.0069841183768621275, 'take_profit': 0.029383712035859474, 'n_shares': 176}. Best is trial 3 with value: 539654.0031000044.\n",
      "[I 2024-03-08 11:35:41,022] Trial 9 finished with value: -149.59444999396328 and parameters: {'stop_loss': 0.026580589998609332, 'take_profit': 0.022269079134702212, 'n_shares': 145}. Best is trial 3 with value: 539654.0031000044.\n",
      "[I 2024-03-08 11:35:41,459] Trial 10 finished with value: 815861.6012400012 and parameters: {'stop_loss': 0.028141140777300348, 'take_profit': 0.04639281115047552, 'n_shares': 8}. Best is trial 10 with value: 815861.6012400012.\n",
      "[I 2024-03-08 11:35:41,895] Trial 11 finished with value: 884913.5007749982 and parameters: {'stop_loss': 0.0294330846461946, 'take_profit': 0.04980295953401108, 'n_shares': 5}. Best is trial 11 with value: 884913.5007749982.\n",
      "[I 2024-03-08 11:35:42,334] Trial 12 finished with value: 861896.2009299998 and parameters: {'stop_loss': 0.03174484682885377, 'take_profit': 0.049123333890224836, 'n_shares': 6}. Best is trial 11 with value: 884913.5007749982.\n",
      "[I 2024-03-08 11:35:42,736] Trial 13 finished with value: -35.538470001246424 and parameters: {'stop_loss': 0.036485100184553323, 'take_profit': 0.049799257917072126, 'n_shares': 51}. Best is trial 11 with value: 884913.5007749982.\n",
      "[I 2024-03-08 11:35:43,113] Trial 14 finished with value: 51.66352500329231 and parameters: {'stop_loss': 0.034766736517397624, 'take_profit': 0.04232721347828592, 'n_shares': 55}. Best is trial 11 with value: 884913.5007749982.\n",
      "[I 2024-03-08 11:35:43,549] Trial 15 finished with value: 102325.30604499626 and parameters: {'stop_loss': 0.044935735477363126, 'take_profit': 0.033743572768908305, 'n_shares': 39}. Best is trial 11 with value: 884913.5007749982.\n",
      "[I 2024-03-08 11:35:43,866] Trial 16 finished with value: 73.83640000504238 and parameters: {'stop_loss': 0.02241408170089931, 'take_profit': 0.014953251060398253, 'n_shares': 80}. Best is trial 11 with value: 884913.5007749982.\n",
      "[I 2024-03-08 11:35:44,306] Trial 17 finished with value: 355515.60434000206 and parameters: {'stop_loss': 0.03110790083794741, 'take_profit': 0.043620996644968026, 'n_shares': 28}. Best is trial 11 with value: 884913.5007749982.\n",
      "[I 2024-03-08 11:35:44,759] Trial 18 finished with value: 861896.2009299998 and parameters: {'stop_loss': 0.04121039442550495, 'take_profit': 0.0357302924448437, 'n_shares': 6}. Best is trial 11 with value: 884913.5007749982.\n",
      "[I 2024-03-08 11:35:45,127] Trial 19 finished with value: -283.093039999374 and parameters: {'stop_loss': 0.01950278928318354, 'take_profit': 0.016693992140105054, 'n_shares': 66}. Best is trial 11 with value: 884913.5007749982.\n",
      "[I 2024-03-08 11:35:45,429] Trial 20 finished with value: -1048.8120849978077 and parameters: {'stop_loss': 0.0318457248209424, 'take_profit': 0.03005472453901717, 'n_shares': 113}. Best is trial 11 with value: 884913.5007749982.\n",
      "[I 2024-03-08 11:35:45,866] Trial 21 finished with value: 746809.7017049994 and parameters: {'stop_loss': 0.04211104201114037, 'take_profit': 0.0363947472964007, 'n_shares': 11}. Best is trial 11 with value: 884913.5007749982.\n",
      "[I 2024-03-08 11:35:46,303] Trial 22 finished with value: 240429.10511500508 and parameters: {'stop_loss': 0.03954557036479924, 'take_profit': 0.04423632170725776, 'n_shares': 33}. Best is trial 11 with value: 884913.5007749982.\n",
      "[I 2024-03-08 11:35:46,740] Trial 23 finished with value: 884913.5007749982 and parameters: {'stop_loss': 0.04984372333111354, 'take_profit': 0.04987808929753106, 'n_shares': 5}. Best is trial 11 with value: 884913.5007749982.\n",
      "[I 2024-03-08 11:35:47,183] Trial 24 finished with value: -82.35886999757531 and parameters: {'stop_loss': 0.048174045585514795, 'take_profit': 0.04932540930304314, 'n_shares': 46}. Best is trial 11 with value: 884913.5007749982.\n",
      "[I 2024-03-08 11:35:47,619] Trial 25 finished with value: 378532.90418500034 and parameters: {'stop_loss': 0.049404334755524554, 'take_profit': 0.04093362493704111, 'n_shares': 27}. Best is trial 11 with value: 884913.5007749982.\n",
      "[I 2024-03-08 11:35:47,947] Trial 26 finished with value: -25.326229997175687 and parameters: {'stop_loss': 0.0315266723363158, 'take_profit': 0.045323037447921, 'n_shares': 69}. Best is trial 11 with value: 884913.5007749982.\n",
      "[I 2024-03-08 11:35:48,383] Trial 27 finished with value: 585688.602789999 and parameters: {'stop_loss': 0.02318946346653845, 'take_profit': 0.04967528329657349, 'n_shares': 18}. Best is trial 11 with value: 884913.5007749982.\n",
      "[I 2024-03-08 11:35:48,819] Trial 28 finished with value: 79308.00620000076 and parameters: {'stop_loss': 0.028102702623284397, 'take_profit': 0.04590501865393496, 'n_shares': 40}. Best is trial 11 with value: 884913.5007749982.\n",
      "[I 2024-03-08 11:35:49,094] Trial 29 finished with value: -824.9990199927051 and parameters: {'stop_loss': 0.033312038913534237, 'take_profit': 0.03883783099604396, 'n_shares': 196}. Best is trial 11 with value: 884913.5007749982.\n",
      "[I 2024-03-08 11:35:49,095] A new study created in memory with name: no-name-75a164fb-ebd6-4592-a6bb-6b3f4ca9537b\n",
      "[I 2024-03-08 11:35:49,400] Trial 0 finished with value: -439.2859649936436 and parameters: {'stop_loss': 0.013491768317320725, 'take_profit': 0.021182937604708695, 'n_shares': 139}. Best is trial 0 with value: -439.2859649936436.\n",
      "[I 2024-03-08 11:35:49,682] Trial 1 finished with value: -794.8065499978256 and parameters: {'stop_loss': 0.028015192661566376, 'take_profit': 0.012686886637161342, 'n_shares': 165}. Best is trial 0 with value: -439.2859649936436.\n",
      "[I 2024-03-08 11:35:50,123] Trial 2 finished with value: 607241.4685749941 and parameters: {'stop_loss': 0.012066050131011198, 'take_profit': 0.008202737930064208, 'n_shares': 17}. Best is trial 2 with value: 607241.4685749941.\n",
      "[I 2024-03-08 11:35:50,559] Trial 3 finished with value: 6.867400002166505 and parameters: {'stop_loss': 0.0028906874697180477, 'take_profit': 0.02245184058458677, 'n_shares': 44}. Best is trial 2 with value: 607241.4685749941.\n",
      "[I 2024-03-08 11:35:50,833] Trial 4 finished with value: -224.95285999396583 and parameters: {'stop_loss': 0.03943155479145868, 'take_profit': 0.04399456684900171, 'n_shares': 186}. Best is trial 2 with value: 607241.4685749941.\n",
      "[I 2024-03-08 11:35:51,270] Trial 5 finished with value: 98965.72202499663 and parameters: {'stop_loss': 0.023692778093593436, 'take_profit': 0.007451574126239469, 'n_shares': 39}. Best is trial 2 with value: 607241.4685749941.\n",
      "[I 2024-03-08 11:35:51,540] Trial 6 finished with value: -57.164959996436664 and parameters: {'stop_loss': 0.006430964004166234, 'take_profit': 0.03471905660547502, 'n_shares': 194}. Best is trial 2 with value: 607241.4685749941.\n",
      "[I 2024-03-08 11:35:51,856] Trial 7 finished with value: 71.85092000522855 and parameters: {'stop_loss': 0.04261580313309629, 'take_profit': 0.02073836099434005, 'n_shares': 76}. Best is trial 2 with value: 607241.4685749941.\n",
      "[I 2024-03-08 11:35:52,174] Trial 8 finished with value: 54.693640003239125 and parameters: {'stop_loss': 0.04457068718726304, 'take_profit': 0.014330649512839138, 'n_shares': 78}. Best is trial 2 with value: 607241.4685749941.\n",
      "[I 2024-03-08 11:35:52,453] Trial 9 finished with value: -289.90246499811474 and parameters: {'stop_loss': 0.04101911753518771, 'take_profit': 0.0405922151433362, 'n_shares': 167}. Best is trial 2 with value: 607241.4685749941.\n",
      "[I 2024-03-08 11:35:52,900] Trial 10 finished with value: 699655.240675 and parameters: {'stop_loss': 0.0175095718581171, 'take_profit': 0.0028940736731981782, 'n_shares': 13}. Best is trial 10 with value: 699655.240675.\n",
      "[I 2024-03-08 11:35:53,357] Trial 11 finished with value: 815172.4558000015 and parameters: {'stop_loss': 0.016816826276952992, 'take_profit': 0.0026543031875407024, 'n_shares': 8}. Best is trial 11 with value: 815172.4558000015.\n",
      "[I 2024-03-08 11:35:53,804] Trial 12 finished with value: 884482.7848749985 and parameters: {'stop_loss': 0.02264859517952983, 'take_profit': 0.0036649249510425437, 'n_shares': 5}. Best is trial 12 with value: 884482.7848749985.\n",
      "[I 2024-03-08 11:35:54,250] Trial 13 finished with value: 884482.7848749985 and parameters: {'stop_loss': 0.030025135570141297, 'take_profit': 0.0026328279813490375, 'n_shares': 5}. Best is trial 12 with value: 884482.7848749985.\n",
      "[I 2024-03-08 11:35:54,656] Trial 14 finished with value: 73.12059999885241 and parameters: {'stop_loss': 0.030391002075717603, 'take_profit': 0.032257199900756886, 'n_shares': 51}. Best is trial 12 with value: 884482.7848749985.\n",
      "[I 2024-03-08 11:35:54,961] Trial 15 finished with value: 2.5653400023802533 and parameters: {'stop_loss': 0.03336199836422887, 'take_profit': 0.01516570276023687, 'n_shares': 113}. Best is trial 12 with value: 884482.7848749985.\n",
      "[I 2024-03-08 11:35:55,285] Trial 16 finished with value: 71.85092000522855 and parameters: {'stop_loss': 0.023241512952032497, 'take_profit': 0.0072579738734308875, 'n_shares': 76}. Best is trial 12 with value: 884482.7848749985.\n",
      "[I 2024-03-08 11:35:55,730] Trial 17 finished with value: 237586.38017500474 and parameters: {'stop_loss': 0.03333726358032869, 'take_profit': 0.029186523472888495, 'n_shares': 33}. Best is trial 12 with value: 884482.7848749985.\n",
      "[I 2024-03-08 11:35:56,039] Trial 18 finished with value: -144.20575999703578 and parameters: {'stop_loss': 0.02156220470487823, 'take_profit': 0.012164221511662243, 'n_shares': 111}. Best is trial 12 with value: 884482.7848749985.\n",
      "[I 2024-03-08 11:35:56,398] Trial 19 finished with value: -25.66294999623915 and parameters: {'stop_loss': 0.034290831857472726, 'take_profit': 0.018179879903097843, 'n_shares': 58}. Best is trial 12 with value: 884482.7848749985.\n",
      "[I 2024-03-08 11:35:56,842] Trial 20 finished with value: 399310.4813499976 and parameters: {'stop_loss': 0.036304794166293924, 'take_profit': 0.009881853304645284, 'n_shares': 26}. Best is trial 12 with value: 884482.7848749985.\n",
      "[I 2024-03-08 11:35:57,285] Trial 21 finished with value: 838275.8988249977 and parameters: {'stop_loss': 0.017985208490608515, 'take_profit': 0.004016151379535472, 'n_shares': 7}. Best is trial 12 with value: 884482.7848749985.\n",
      "[I 2024-03-08 11:35:57,730] Trial 22 finished with value: 884482.7848749985 and parameters: {'stop_loss': 0.019246489314373554, 'take_profit': 0.002872498033041272, 'n_shares': 5}. Best is trial 12 with value: 884482.7848749985.\n",
      "[I 2024-03-08 11:35:58,067] Trial 23 finished with value: -25.30880000272009 and parameters: {'stop_loss': 0.04900287505555086, 'take_profit': 0.006034550353435669, 'n_shares': 64}. Best is trial 12 with value: 884482.7848749985.\n",
      "[I 2024-03-08 11:35:58,510] Trial 24 finished with value: 376207.03832500114 and parameters: {'stop_loss': 0.027822343852660556, 'take_profit': 0.00893300998655391, 'n_shares': 27}. Best is trial 12 with value: 884482.7848749985.\n",
      "[I 2024-03-08 11:35:58,953] Trial 25 finished with value: 884482.7848749985 and parameters: {'stop_loss': 0.021362985312555836, 'take_profit': 0.04856471141946779, 'n_shares': 5}. Best is trial 12 with value: 884482.7848749985.\n",
      "[I 2024-03-08 11:35:59,395] Trial 26 finished with value: 330000.1522750077 and parameters: {'stop_loss': 0.011013617645808167, 'take_profit': 0.016686756735464055, 'n_shares': 29}. Best is trial 12 with value: 884482.7848749985.\n",
      "[I 2024-03-08 11:35:59,708] Trial 27 finished with value: -688.6898399979764 and parameters: {'stop_loss': 0.025167794694934655, 'take_profit': 0.02558493306064015, 'n_shares': 94}. Best is trial 12 with value: 884482.7848749985.\n",
      "[I 2024-03-08 11:36:00,150] Trial 28 finished with value: 491724.2534499988 and parameters: {'stop_loss': 0.02855911232031479, 'take_profit': 0.011176260453208547, 'n_shares': 22}. Best is trial 12 with value: 884482.7848749985.\n",
      "[I 2024-03-08 11:36:00,449] Trial 29 finished with value: -417.02207999425445 and parameters: {'stop_loss': 0.014113070645843013, 'take_profit': 0.0048115220589936124, 'n_shares': 128}. Best is trial 12 with value: 884482.7848749985.\n"
     ]
    },
    {
     "name": "stdout",
     "output_type": "stream",
     "text": [
      "884482.7848749985\n",
      "('xg',)\n",
      "{'stop_loss': 0.04867061072737812, 'take_profit': 0.014701384261391554, 'n_shares': 5}\n"
     ]
    }
   ],
   "source": [
    "file_1d = optimize_file(data_1d)"
   ]
  },
  {
   "cell_type": "code",
   "outputs": [
    {
     "name": "stderr",
     "output_type": "stream",
     "text": [
      "[I 2024-03-08 11:36:00,456] A new study created in memory with name: no-name-10b45085-63cc-424d-9653-b48050a90862\n",
      "[I 2024-03-08 11:36:00,484] Trial 0 finished with value: 942566.5413551113 and parameters: {'stop_loss': 0.031120649011963812, 'take_profit': 0.00941684642825925, 'n_shares': 63}. Best is trial 0 with value: 942566.5413551113.\n",
      "[I 2024-03-08 11:36:00,511] Trial 1 finished with value: 941654.899154401 and parameters: {'stop_loss': 0.049065783145287804, 'take_profit': 0.021569125310401917, 'n_shares': 64}. Best is trial 0 with value: 942566.5413551113.\n",
      "[I 2024-03-08 11:36:00,537] Trial 2 finished with value: 854137.2478860044 and parameters: {'stop_loss': 0.017135351787595756, 'take_profit': 0.04473201226150637, 'n_shares': 160}. Best is trial 0 with value: 942566.5413551113.\n",
      "[I 2024-03-08 11:36:00,562] Trial 3 finished with value: 873281.7341009628 and parameters: {'stop_loss': 0.009308619112717421, 'take_profit': 0.03620115061755097, 'n_shares': 139}. Best is trial 0 with value: 942566.5413551113.\n",
      "[I 2024-03-08 11:36:00,587] Trial 4 finished with value: 987237.0091900248 and parameters: {'stop_loss': 0.012806232159890109, 'take_profit': 0.030304851320980736, 'n_shares': 14}. Best is trial 4 with value: 987237.0091900248.\n",
      "[I 2024-03-08 11:36:00,613] Trial 5 finished with value: 907012.4955273252 and parameters: {'stop_loss': 0.04111960397306307, 'take_profit': 0.048417516713594615, 'n_shares': 102}. Best is trial 4 with value: 987237.0091900248.\n",
      "[I 2024-03-08 11:36:00,638] Trial 6 finished with value: 884221.4405095124 and parameters: {'stop_loss': 0.014205435160510418, 'take_profit': 0.035374299432031714, 'n_shares': 127}. Best is trial 4 with value: 987237.0091900248.\n",
      "[I 2024-03-08 11:36:00,664] Trial 7 finished with value: 939831.6147529774 and parameters: {'stop_loss': 0.045801915695833535, 'take_profit': 0.04176973651510104, 'n_shares': 66}. Best is trial 4 with value: 987237.0091900248.\n",
      "[I 2024-03-08 11:36:00,689] Trial 8 finished with value: 888779.6515130744 and parameters: {'stop_loss': 0.025313302335917595, 'take_profit': 0.03298706925785086, 'n_shares': 122}. Best is trial 4 with value: 987237.0091900248.\n",
      "[I 2024-03-08 11:36:00,715] Trial 9 finished with value: 932538.4771472753 and parameters: {'stop_loss': 0.022200977693541124, 'take_profit': 0.029608183772904237, 'n_shares': 74}. Best is trial 4 with value: 987237.0091900248.\n",
      "[I 2024-03-08 11:36:00,748] Trial 10 finished with value: 979032.2293836125 and parameters: {'stop_loss': 0.0073161553686233, 'take_profit': 0.021781338303304504, 'n_shares': 23}. Best is trial 4 with value: 987237.0091900248.\n",
      "[I 2024-03-08 11:36:00,780] Trial 11 finished with value: 993618.5045950123 and parameters: {'stop_loss': 0.0025157808300085606, 'take_profit': 0.018862225367560916, 'n_shares': 7}. Best is trial 11 with value: 993618.5045950123.\n",
      "[I 2024-03-08 11:36:00,812] Trial 12 finished with value: 991795.2201935863 and parameters: {'stop_loss': 0.003045908663799895, 'take_profit': 0.012943038652073836, 'n_shares': 9}. Best is trial 11 with value: 993618.5045950123.\n",
      "[I 2024-03-08 11:36:00,844] Trial 13 finished with value: 970827.449577201 and parameters: {'stop_loss': 0.005407206169227008, 'take_profit': 0.009076046115030049, 'n_shares': 32}. Best is trial 11 with value: 993618.5045950123.\n",
      "[I 2024-03-08 11:36:00,877] Trial 14 finished with value: 991795.2201935863 and parameters: {'stop_loss': 0.0030600048886994316, 'take_profit': 0.01546825618838004, 'n_shares': 9}. Best is trial 11 with value: 993618.5045950123.\n",
      "[I 2024-03-08 11:36:00,909] Trial 15 finished with value: 964445.9541722119 and parameters: {'stop_loss': 0.03382965961115774, 'take_profit': 0.003582385715218097, 'n_shares': 39}. Best is trial 11 with value: 993618.5045950123.\n",
      "[I 2024-03-08 11:36:00,941] Trial 16 finished with value: 962622.6697707872 and parameters: {'stop_loss': 0.01929355613709985, 'take_profit': 0.017066687186288915, 'n_shares': 41}. Best is trial 11 with value: 993618.5045950123.\n",
      "[I 2024-03-08 11:36:00,974] Trial 17 finished with value: 835904.4038717484 and parameters: {'stop_loss': 0.0027136451610549, 'take_profit': 0.01346000841503939, 'n_shares': 180}. Best is trial 11 with value: 993618.5045950123.\n",
      "[I 2024-03-08 11:36:01,007] Trial 18 finished with value: 914305.6331330242 and parameters: {'stop_loss': 0.008398150622078614, 'take_profit': 0.003917541727919156, 'n_shares': 94}. Best is trial 11 with value: 993618.5045950123.\n",
      "[I 2024-03-08 11:36:01,040] Trial 19 finished with value: 993618.5045950123 and parameters: {'stop_loss': 0.012128452895709851, 'take_profit': 0.023441404058134635, 'n_shares': 7}. Best is trial 11 with value: 993618.5045950123.\n",
      "[I 2024-03-08 11:36:01,072] Trial 20 finished with value: 958976.1009679404 and parameters: {'stop_loss': 0.012177511679214586, 'take_profit': 0.02170660752901673, 'n_shares': 45}. Best is trial 11 with value: 993618.5045950123.\n",
      "[I 2024-03-08 11:36:01,105] Trial 21 finished with value: 994530.1467957258 and parameters: {'stop_loss': 0.002650242324857688, 'take_profit': 0.02539367417021388, 'n_shares': 6}. Best is trial 21 with value: 994530.1467957258.\n",
      "[I 2024-03-08 11:36:01,138] Trial 22 finished with value: 995441.7889964373 and parameters: {'stop_loss': 0.010649449975562825, 'take_profit': 0.02554755626284722, 'n_shares': 5}. Best is trial 22 with value: 995441.7889964373.\n",
      "[I 2024-03-08 11:36:01,172] Trial 23 finished with value: 977208.9449821855 and parameters: {'stop_loss': 0.007984419704177232, 'take_profit': 0.02706759526072438, 'n_shares': 25}. Best is trial 22 with value: 995441.7889964373.\n",
      "[I 2024-03-08 11:36:01,205] Trial 24 finished with value: 922510.4129394366 and parameters: {'stop_loss': 0.016085690200291172, 'take_profit': 0.019185346646438405, 'n_shares': 85}. Best is trial 22 with value: 995441.7889964373.\n",
      "[I 2024-03-08 11:36:01,239] Trial 25 finished with value: 975385.6605807625 and parameters: {'stop_loss': 0.009421847105546794, 'take_profit': 0.02607745381161808, 'n_shares': 27}. Best is trial 22 with value: 995441.7889964373.\n",
      "[I 2024-03-08 11:36:01,272] Trial 26 finished with value: 953506.2477636624 and parameters: {'stop_loss': 0.020916870108091186, 'take_profit': 0.026002000541976676, 'n_shares': 51}. Best is trial 22 with value: 995441.7889964373.\n",
      "[I 2024-03-08 11:36:01,305] Trial 27 finished with value: 952594.6055629493 and parameters: {'stop_loss': 0.005830603034231904, 'take_profit': 0.01836326314197162, 'n_shares': 52}. Best is trial 22 with value: 995441.7889964373.\n",
      "[I 2024-03-08 11:36:01,338] Trial 28 finished with value: 995441.7889964373 and parameters: {'stop_loss': 0.031774514789655206, 'take_profit': 0.03861496189560809, 'n_shares': 5}. Best is trial 22 with value: 995441.7889964373.\n",
      "[I 2024-03-08 11:36:01,371] Trial 29 finished with value: 977208.9449821855 and parameters: {'stop_loss': 0.03236045682094082, 'take_profit': 0.036749435328161585, 'n_shares': 25}. Best is trial 22 with value: 995441.7889964373.\n",
      "[I 2024-03-08 11:36:01,372] A new study created in memory with name: no-name-8e2ab3bf-646a-42d7-8330-47d25da14661\n",
      "[I 2024-03-08 11:36:01,397] Trial 0 finished with value: 960302.5410441248 and parameters: {'stop_loss': 0.006395987507144274, 'take_profit': 0.04120478808672963, 'n_shares': 42}. Best is trial 0 with value: 960302.5410441248.\n",
      "[I 2024-03-08 11:36:01,422] Trial 1 finished with value: 845936.0521474376 and parameters: {'stop_loss': 0.044386122934812394, 'take_profit': 0.033331674930343336, 'n_shares': 163}. Best is trial 0 with value: 960302.5410441248.\n",
      "[I 2024-03-08 11:36:01,447] Trial 2 finished with value: 908317.7733638113 and parameters: {'stop_loss': 0.018242313683821797, 'take_profit': 0.015083882774978493, 'n_shares': 97}. Best is trial 0 with value: 960302.5410441248.\n",
      "[I 2024-03-08 11:36:01,471] Trial 3 finished with value: 978260.9153336873 and parameters: {'stop_loss': 0.03129055207250344, 'take_profit': 0.005957462389223617, 'n_shares': 23}. Best is trial 3 with value: 978260.9153336873.\n",
      "[I 2024-03-08 11:36:01,496] Trial 4 finished with value: 837429.453799751 and parameters: {'stop_loss': 0.04543042364667896, 'take_profit': 0.028727108658612714, 'n_shares': 172}. Best is trial 3 with value: 978260.9153336873.\n",
      "[I 2024-03-08 11:36:01,521] Trial 5 finished with value: 858223.3608718751 and parameters: {'stop_loss': 0.005415107567629205, 'take_profit': 0.0033434821343568937, 'n_shares': 150}. Best is trial 3 with value: 978260.9153336873.\n",
      "[I 2024-03-08 11:36:01,546] Trial 6 finished with value: 945179.6995371244 and parameters: {'stop_loss': 0.04912719219377576, 'take_profit': 0.041986272132879664, 'n_shares': 58}. Best is trial 3 with value: 978260.9153336873.\n",
      "[I 2024-03-08 11:36:01,572] Trial 7 finished with value: 981096.4481162474 and parameters: {'stop_loss': 0.04918182871414874, 'take_profit': 0.031803402425284545, 'n_shares': 20}. Best is trial 7 with value: 981096.4481162474.\n",
      "[I 2024-03-08 11:36:01,598] Trial 8 finished with value: 873346.2023788751 and parameters: {'stop_loss': 0.03924903745805724, 'take_profit': 0.043459202695917215, 'n_shares': 134}. Best is trial 7 with value: 981096.4481162474.\n",
      "[I 2024-03-08 11:36:01,623] Trial 9 finished with value: 839319.8089881255 and parameters: {'stop_loss': 0.03218595956545232, 'take_profit': 0.023715382517488177, 'n_shares': 170}. Best is trial 7 with value: 981096.4481162474.\n",
      "[I 2024-03-08 11:36:01,656] Trial 10 finished with value: 925330.9700591896 and parameters: {'stop_loss': 0.036292561515017245, 'take_profit': 0.020753648600726548, 'n_shares': 79}. Best is trial 7 with value: 981096.4481162474.\n",
      "[I 2024-03-08 11:36:01,687] Trial 11 finished with value: 990548.2240581281 and parameters: {'stop_loss': 0.02302749545506058, 'take_profit': 0.006542191323723023, 'n_shares': 10}. Best is trial 11 with value: 990548.2240581281.\n",
      "[I 2024-03-08 11:36:01,719] Trial 12 finished with value: 995274.1120290624 and parameters: {'stop_loss': 0.02140822143733218, 'take_profit': 0.012943223199603981, 'n_shares': 5}. Best is trial 12 with value: 995274.1120290624.\n",
      "[I 2024-03-08 11:36:01,752] Trial 13 finished with value: 991493.401652311 and parameters: {'stop_loss': 0.019998664380700307, 'take_profit': 0.013386770366478487, 'n_shares': 9}. Best is trial 12 with value: 995274.1120290624.\n",
      "[I 2024-03-08 11:36:01,787] Trial 14 finished with value: 948015.2323196857 and parameters: {'stop_loss': 0.015446954485854775, 'take_profit': 0.012998903662445688, 'n_shares': 55}. Best is trial 12 with value: 995274.1120290624.\n",
      "[I 2024-03-08 11:36:01,821] Trial 15 finished with value: 813800.0139450631 and parameters: {'stop_loss': 0.013826994254207305, 'take_profit': 0.015410656722727453, 'n_shares': 197}. Best is trial 12 with value: 995274.1120290624.\n",
      "[I 2024-03-08 11:36:01,854] Trial 16 finished with value: 891304.5766684376 and parameters: {'stop_loss': 0.024879369281838842, 'take_profit': 0.01137773320885309, 'n_shares': 115}. Best is trial 12 with value: 995274.1120290624.\n",
      "[I 2024-03-08 11:36:01,886] Trial 17 finished with value: 963138.0738266872 and parameters: {'stop_loss': 0.01068292367980012, 'take_profit': 0.01974124711245372, 'n_shares': 39}. Best is trial 12 with value: 995274.1120290624.\n",
      "[I 2024-03-08 11:36:01,918] Trial 18 finished with value: 926276.1476533755 and parameters: {'stop_loss': 0.02001838933652485, 'take_profit': 0.009907501597577221, 'n_shares': 78}. Best is trial 12 with value: 995274.1120290624.\n",
      "[I 2024-03-08 11:36:01,950] Trial 19 finished with value: 974480.2049569375 and parameters: {'stop_loss': 0.029411901782282902, 'take_profit': 0.019133456190638422, 'n_shares': 27}. Best is trial 12 with value: 995274.1120290624.\n",
      "[I 2024-03-08 11:36:01,982] Trial 20 finished with value: 995274.1120290624 and parameters: {'stop_loss': 0.010789162560665507, 'take_profit': 0.04873856054191099, 'n_shares': 5}. Best is trial 12 with value: 995274.1120290624.\n",
      "[I 2024-03-08 11:36:02,015] Trial 21 finished with value: 994328.934434876 and parameters: {'stop_loss': 0.01088451156445933, 'take_profit': 0.04853027954394575, 'n_shares': 6}. Best is trial 12 with value: 995274.1120290624.\n",
      "[I 2024-03-08 11:36:02,047] Trial 22 finished with value: 994328.934434876 and parameters: {'stop_loss': 0.009597803302124537, 'take_profit': 0.04927410915091262, 'n_shares': 6}. Best is trial 12 with value: 995274.1120290624.\n",
      "[I 2024-03-08 11:36:02,080] Trial 23 finished with value: 960302.5410441248 and parameters: {'stop_loss': 0.012245672666367028, 'take_profit': 0.04700167314332174, 'n_shares': 42}. Best is trial 12 with value: 995274.1120290624.\n",
      "[I 2024-03-08 11:36:02,113] Trial 24 finished with value: 940453.8115661857 and parameters: {'stop_loss': 0.0025622537054754042, 'take_profit': 0.03698679222906871, 'n_shares': 63}. Best is trial 12 with value: 995274.1120290624.\n",
      "[I 2024-03-08 11:36:02,146] Trial 25 finished with value: 970699.4945801889 and parameters: {'stop_loss': 0.016428272887474143, 'take_profit': 0.04528104239304688, 'n_shares': 31}. Best is trial 12 with value: 995274.1120290624.\n",
      "[I 2024-03-08 11:36:02,178] Trial 26 finished with value: 982986.803304626 and parameters: {'stop_loss': 0.009322499600889066, 'take_profit': 0.03648242454038111, 'n_shares': 18}. Best is trial 12 with value: 995274.1120290624.\n",
      "[I 2024-03-08 11:36:02,210] Trial 27 finished with value: 994328.934434876 and parameters: {'stop_loss': 0.023563962330262877, 'take_profit': 0.04986451260762165, 'n_shares': 6}. Best is trial 12 with value: 995274.1120290624.\n",
      "[I 2024-03-08 11:36:02,243] Trial 28 finished with value: 933837.5684068756 and parameters: {'stop_loss': 0.02761300495355566, 'take_profit': 0.026405703440139986, 'n_shares': 70}. Best is trial 12 with value: 995274.1120290624.\n",
      "[I 2024-03-08 11:36:02,277] Trial 29 finished with value: 951795.9426964379 and parameters: {'stop_loss': 0.00451644568327373, 'take_profit': 0.0384854226999142, 'n_shares': 51}. Best is trial 12 with value: 995274.1120290624.\n",
      "[I 2024-03-08 11:36:02,278] A new study created in memory with name: no-name-02db1fb1-fef0-472c-9309-0f6647318fdc\n",
      "[I 2024-03-08 11:36:02,301] Trial 0 finished with value: 986027.2695381001 and parameters: {'stop_loss': 0.019573657837346464, 'take_profit': 0.03607394811345057, 'n_shares': 28}. Best is trial 0 with value: 986027.2695381001.\n",
      "[I 2024-03-08 11:36:02,323] Trial 1 finished with value: 966066.2260211011 and parameters: {'stop_loss': 0.02111052099280223, 'take_profit': 0.013687373970994612, 'n_shares': 68}. Best is trial 0 with value: 986027.2695381001.\n",
      "[I 2024-03-08 11:36:02,345] Trial 2 finished with value: 906183.0954700997 and parameters: {'stop_loss': 0.01945970044383336, 'take_profit': 0.04475162568865222, 'n_shares': 188}. Best is trial 0 with value: 986027.2695381001.\n",
      "[I 2024-03-08 11:36:02,367] Trial 3 finished with value: 971056.4869003493 and parameters: {'stop_loss': 0.03511757289858998, 'take_profit': 0.01863788523212175, 'n_shares': 58}. Best is trial 0 with value: 986027.2695381001.\n",
      "[I 2024-03-08 11:36:02,389] Trial 4 finished with value: 986526.2956260252 and parameters: {'stop_loss': 0.0027426072583145254, 'take_profit': 0.009158534171707427, 'n_shares': 27}. Best is trial 4 with value: 986526.2956260252.\n",
      "[I 2024-03-08 11:36:02,412] Trial 5 finished with value: 946105.1825040991 and parameters: {'stop_loss': 0.03883605607980985, 'take_profit': 0.049278791832113505, 'n_shares': 108}. Best is trial 4 with value: 986526.2956260252.\n",
      "[I 2024-03-08 11:36:02,433] Trial 6 finished with value: 964569.1477573245 and parameters: {'stop_loss': 0.03696764506090949, 'take_profit': 0.020671950408295815, 'n_shares': 71}. Best is trial 4 with value: 986526.2956260252.\n",
      "[I 2024-03-08 11:36:02,455] Trial 7 finished with value: 922650.9563716261 and parameters: {'stop_loss': 0.03732076925172927, 'take_profit': 0.0483699894030277, 'n_shares': 155}. Best is trial 4 with value: 986526.2956260252.\n",
      "[I 2024-03-08 11:36:02,477] Trial 8 finished with value: 937621.7390093745 and parameters: {'stop_loss': 0.01243929282688321, 'take_profit': 0.021386546845947988, 'n_shares': 125}. Best is trial 4 with value: 986526.2956260252.\n",
      "[I 2024-03-08 11:36:02,498] Trial 9 finished with value: 937122.7129214501 and parameters: {'stop_loss': 0.0076181775168318415, 'take_profit': 0.031053595389154292, 'n_shares': 126}. Best is trial 4 with value: 986526.2956260252.\n",
      "[I 2024-03-08 11:36:02,528] Trial 10 finished with value: 996007.7912965999 and parameters: {'stop_loss': 0.04724394787929213, 'take_profit': 0.007432074369026393, 'n_shares': 8}. Best is trial 10 with value: 996007.7912965999.\n",
      "[I 2024-03-08 11:36:02,556] Trial 11 finished with value: 996007.7912965999 and parameters: {'stop_loss': 0.04558406327655176, 'take_profit': 0.0028376584933715535, 'n_shares': 8}. Best is trial 10 with value: 996007.7912965999.\n",
      "[I 2024-03-08 11:36:02,585] Trial 12 finished with value: 997005.8434724506 and parameters: {'stop_loss': 0.049549981034627176, 'take_profit': 0.0030567784866075516, 'n_shares': 6}. Best is trial 12 with value: 997005.8434724506.\n",
      "[I 2024-03-08 11:36:02,614] Trial 13 finished with value: 995508.7652086745 and parameters: {'stop_loss': 0.04938895602046266, 'take_profit': 0.0025276142435213555, 'n_shares': 9}. Best is trial 12 with value: 997005.8434724506.\n",
      "[I 2024-03-08 11:36:02,643] Trial 14 finished with value: 978541.878219225 and parameters: {'stop_loss': 0.044285209352907196, 'take_profit': 0.009948168860869508, 'n_shares': 43}. Best is trial 12 with value: 997005.8434724506.\n",
      "[I 2024-03-08 11:36:02,672] Trial 15 finished with value: 956584.7303505258 and parameters: {'stop_loss': 0.029324107085170147, 'take_profit': 0.008365182275435906, 'n_shares': 87}. Best is trial 12 with value: 997005.8434724506.\n",
      "[I 2024-03-08 11:36:02,716] Trial 16 finished with value: 981037.0086588492 and parameters: {'stop_loss': 0.04960617811215929, 'take_profit': 0.01434910671516592, 'n_shares': 38}. Best is trial 12 with value: 997005.8434724506.\n",
      "[I 2024-03-08 11:36:02,747] Trial 17 finished with value: 996506.8173845244 and parameters: {'stop_loss': 0.0294354773283983, 'take_profit': 0.028164208326346005, 'n_shares': 7}. Best is trial 12 with value: 997005.8434724506.\n",
      "[I 2024-03-08 11:36:02,777] Trial 18 finished with value: 973052.5912520512 and parameters: {'stop_loss': 0.029012061579878453, 'take_profit': 0.031305821959530654, 'n_shares': 54}. Best is trial 12 with value: 997005.8434724506.\n",
      "[I 2024-03-08 11:36:02,806] Trial 19 finished with value: 953590.5738229743 and parameters: {'stop_loss': 0.032371383729133785, 'take_profit': 0.026771985476243734, 'n_shares': 93}. Best is trial 12 with value: 997005.8434724506.\n",
      "[I 2024-03-08 11:36:02,835] Trial 20 finished with value: 900693.8085029259 and parameters: {'stop_loss': 0.04116882067035958, 'take_profit': 0.0383406144240552, 'n_shares': 199}. Best is trial 12 with value: 997005.8434724506.\n",
      "[I 2024-03-08 11:36:02,865] Trial 21 finished with value: 995009.7391207514 and parameters: {'stop_loss': 0.04377881888868214, 'take_profit': 0.0263871649449725, 'n_shares': 10}. Best is trial 12 with value: 997005.8434724506.\n",
      "[I 2024-03-08 11:36:02,895] Trial 22 finished with value: 988522.3999777235 and parameters: {'stop_loss': 0.023305659638652974, 'take_profit': 0.00500525176028809, 'n_shares': 23}. Best is trial 12 with value: 997005.8434724506.\n",
      "[I 2024-03-08 11:36:02,924] Trial 23 finished with value: 997005.8434724506 and parameters: {'stop_loss': 0.04989493302956251, 'take_profit': 0.014004988187037437, 'n_shares': 6}. Best is trial 12 with value: 997005.8434724506.\n",
      "[I 2024-03-08 11:36:02,953] Trial 24 finished with value: 979539.930395074 and parameters: {'stop_loss': 0.013699137562285604, 'take_profit': 0.014418755558929658, 'n_shares': 41}. Best is trial 12 with value: 997005.8434724506.\n",
      "[I 2024-03-08 11:36:02,983] Trial 25 finished with value: 988522.3999777235 and parameters: {'stop_loss': 0.04146374271475749, 'take_profit': 0.01783969542168551, 'n_shares': 23}. Best is trial 12 with value: 997005.8434724506.\n",
      "[I 2024-03-08 11:36:03,012] Trial 26 finished with value: 973551.6173399754 and parameters: {'stop_loss': 0.03337995190339928, 'take_profit': 0.023160173555362075, 'n_shares': 53}. Best is trial 12 with value: 997005.8434724506.\n",
      "[I 2024-03-08 11:36:03,041] Trial 27 finished with value: 989021.4260656508 and parameters: {'stop_loss': 0.024910443362713024, 'take_profit': 0.030586365905470432, 'n_shares': 22}. Best is trial 12 with value: 997005.8434724506.\n",
      "[I 2024-03-08 11:36:03,071] Trial 28 finished with value: 961574.9912297758 and parameters: {'stop_loss': 0.041707188528614325, 'take_profit': 0.012144811640516905, 'n_shares': 77}. Best is trial 12 with value: 997005.8434724506.\n",
      "[I 2024-03-08 11:36:03,101] Trial 29 finished with value: 978541.878219225 and parameters: {'stop_loss': 0.016532235464641817, 'take_profit': 0.04235534323556378, 'n_shares': 43}. Best is trial 12 with value: 997005.8434724506.\n",
      "[I 2024-03-08 11:36:03,102] A new study created in memory with name: no-name-cf1f5b68-7309-4afb-9664-75d190ebac01\n",
      "[I 2024-03-08 11:36:03,129] Trial 0 finished with value: 864718.4877644882 and parameters: {'stop_loss': 0.02961637266403564, 'take_profit': 0.012637982704425383, 'n_shares': 143}. Best is trial 0 with value: 864718.4877644882.\n",
      "[I 2024-03-08 11:36:03,156] Trial 1 finished with value: 967835.1649230245 and parameters: {'stop_loss': 0.007443270021100222, 'take_profit': 0.03284453631243578, 'n_shares': 34}. Best is trial 1 with value: 967835.1649230245.\n",
      "[I 2024-03-08 11:36:03,182] Trial 2 finished with value: 814579.1860268505 and parameters: {'stop_loss': 0.021565416187806948, 'take_profit': 0.0487783618655126, 'n_shares': 196}. Best is trial 1 with value: 967835.1649230245.\n",
      "[I 2024-03-08 11:36:03,209] Trial 3 finished with value: 860934.3895201375 and parameters: {'stop_loss': 0.022798608629144138, 'take_profit': 0.042781108147658065, 'n_shares': 147}. Best is trial 1 with value: 967835.1649230245.\n",
      "[I 2024-03-08 11:36:03,237] Trial 4 finished with value: 982025.533339338 and parameters: {'stop_loss': 0.04022989085867266, 'take_profit': 0.04814119978255382, 'n_shares': 19}. Best is trial 4 with value: 982025.533339338.\n",
      "[I 2024-03-08 11:36:03,268] Trial 5 finished with value: 853366.1930314392 and parameters: {'stop_loss': 0.024130114218636027, 'take_profit': 0.0402539523546702, 'n_shares': 155}. Best is trial 4 with value: 982025.533339338.\n",
      "[I 2024-03-08 11:36:03,302] Trial 6 finished with value: 903505.4947690754 and parameters: {'stop_loss': 0.03241645974324499, 'take_profit': 0.012571213771592352, 'n_shares': 102}. Best is trial 4 with value: 982025.533339338.\n",
      "[I 2024-03-08 11:36:03,351] Trial 7 finished with value: 860934.3895201375 and parameters: {'stop_loss': 0.029371893791534546, 'take_profit': 0.02433360769770546, 'n_shares': 147}. Best is trial 4 with value: 982025.533339338.\n",
      "[I 2024-03-08 11:36:03,386] Trial 8 finished with value: 923372.0105519115 and parameters: {'stop_loss': 0.01774642162675711, 'take_profit': 0.013013110238163263, 'n_shares': 81}. Best is trial 4 with value: 982025.533339338.\n",
      "[I 2024-03-08 11:36:03,422] Trial 9 finished with value: 909181.6421355992 and parameters: {'stop_loss': 0.008815510912665487, 'take_profit': 0.03697614172649361, 'n_shares': 96}. Best is trial 4 with value: 982025.533339338.\n",
      "[I 2024-03-08 11:36:03,458] Trial 10 finished with value: 989593.7298280373 and parameters: {'stop_loss': 0.046862961958408555, 'take_profit': 0.02658092844112988, 'n_shares': 11}. Best is trial 10 with value: 989593.7298280373.\n",
      "[I 2024-03-08 11:36:03,499] Trial 11 finished with value: 990539.7543891278 and parameters: {'stop_loss': 0.048673817580283996, 'take_profit': 0.02509742915233456, 'n_shares': 10}. Best is trial 11 with value: 990539.7543891278.\n",
      "[I 2024-03-08 11:36:03,534] Trial 12 finished with value: 957428.8947510658 and parameters: {'stop_loss': 0.04956445884207876, 'take_profit': 0.02412578016962036, 'n_shares': 45}. Best is trial 11 with value: 990539.7543891278.\n",
      "[I 2024-03-08 11:36:03,569] Trial 13 finished with value: 947022.6245791003 and parameters: {'stop_loss': 0.049012791997606275, 'take_profit': 0.002643600470985566, 'n_shares': 56}. Best is trial 11 with value: 990539.7543891278.\n",
      "[I 2024-03-08 11:36:03,605] Trial 14 finished with value: 995269.8771945625 and parameters: {'stop_loss': 0.04129221705323712, 'take_profit': 0.03126928568834325, 'n_shares': 5}. Best is trial 14 with value: 995269.8771945625.\n",
      "[I 2024-03-08 11:36:03,643] Trial 15 finished with value: 994323.8526334759 and parameters: {'stop_loss': 0.039433586307096, 'take_profit': 0.029974443056837826, 'n_shares': 6}. Best is trial 14 with value: 995269.8771945625.\n",
      "[I 2024-03-08 11:36:03,678] Trial 16 finished with value: 942292.5017736629 and parameters: {'stop_loss': 0.03866902495912033, 'take_profit': 0.031382818136185285, 'n_shares': 61}. Best is trial 14 with value: 995269.8771945625.\n",
      "[I 2024-03-08 11:36:03,712] Trial 17 finished with value: 969727.2140452015 and parameters: {'stop_loss': 0.038852088286835916, 'take_profit': 0.01789658943262715, 'n_shares': 32}. Best is trial 14 with value: 995269.8771945625.\n",
      "[I 2024-03-08 11:36:03,746] Trial 18 finished with value: 932832.2561627858 and parameters: {'stop_loss': 0.04289923119565884, 'take_profit': 0.032218371654296196, 'n_shares': 71}. Best is trial 14 with value: 995269.8771945625.\n",
      "[I 2024-03-08 11:36:03,780] Trial 19 finished with value: 884585.0035473248 and parameters: {'stop_loss': 0.0338018359740671, 'take_profit': 0.017969777392819287, 'n_shares': 122}. Best is trial 14 with value: 995269.8771945625.\n",
      "[I 2024-03-08 11:36:03,815] Trial 20 finished with value: 967835.1649230245 and parameters: {'stop_loss': 0.0353885669188043, 'take_profit': 0.037177177371994316, 'n_shares': 34}. Best is trial 14 with value: 995269.8771945625.\n",
      "[I 2024-03-08 11:36:03,849] Trial 21 finished with value: 995269.8771945625 and parameters: {'stop_loss': 0.04511938621189556, 'take_profit': 0.02913782844623678, 'n_shares': 5}. Best is trial 14 with value: 995269.8771945625.\n",
      "[I 2024-03-08 11:36:03,884] Trial 22 finished with value: 995269.8771945625 and parameters: {'stop_loss': 0.043976769884767335, 'take_profit': 0.029141777788204315, 'n_shares': 5}. Best is trial 14 with value: 995269.8771945625.\n",
      "[I 2024-03-08 11:36:03,918] Trial 23 finished with value: 979187.4596560759 and parameters: {'stop_loss': 0.04414740420205919, 'take_profit': 0.028172787279485998, 'n_shares': 22}. Best is trial 14 with value: 995269.8771945625.\n",
      "[I 2024-03-08 11:36:03,951] Trial 24 finished with value: 954590.8210677995 and parameters: {'stop_loss': 0.04461261025038102, 'take_profit': 0.03577802032949649, 'n_shares': 48}. Best is trial 14 with value: 995269.8771945625.\n",
      "[I 2024-03-08 11:36:03,985] Trial 25 finished with value: 975403.3614117249 and parameters: {'stop_loss': 0.043706622945968464, 'take_profit': 0.020949016192577923, 'n_shares': 26}. Best is trial 14 with value: 995269.8771945625.\n",
      "[I 2024-03-08 11:36:04,019] Trial 26 finished with value: 995269.8771945625 and parameters: {'stop_loss': 0.03684705351452863, 'take_profit': 0.040235653577399874, 'n_shares': 5}. Best is trial 14 with value: 995269.8771945625.\n",
      "[I 2024-03-08 11:36:04,052] Trial 27 finished with value: 924318.0351129975 and parameters: {'stop_loss': 0.014359399805990866, 'take_profit': 0.02103354593431315, 'n_shares': 80}. Best is trial 14 with value: 995269.8771945625.\n",
      "[I 2024-03-08 11:36:04,086] Trial 28 finished with value: 961212.9929954121 and parameters: {'stop_loss': 0.04176162656707488, 'take_profit': 0.03441180982627971, 'n_shares': 41}. Best is trial 14 with value: 995269.8771945625.\n",
      "[I 2024-03-08 11:36:04,120] Trial 29 finished with value: 817417.259710113 and parameters: {'stop_loss': 0.02845767421896934, 'take_profit': 0.02856649781542358, 'n_shares': 193}. Best is trial 14 with value: 995269.8771945625.\n",
      "[I 2024-03-08 11:36:04,121] A new study created in memory with name: no-name-ed039ef2-2031-4e11-a00a-020964ec1523\n",
      "[I 2024-03-08 11:36:04,153] Trial 0 finished with value: 917245.254450924 and parameters: {'stop_loss': 0.03351059097508314, 'take_profit': 0.01710621178562816, 'n_shares': 89}. Best is trial 0 with value: 917245.254450924.\n",
      "[I 2024-03-08 11:36:04,183] Trial 1 finished with value: 865174.8527571242 and parameters: {'stop_loss': 0.007897780515833983, 'take_profit': 0.0292642496413438, 'n_shares': 145}. Best is trial 0 with value: 917245.254450924.\n",
      "[I 2024-03-08 11:36:04,212] Trial 2 finished with value: 941420.7980944738 and parameters: {'stop_loss': 0.019072378751503305, 'take_profit': 0.03771000326382012, 'n_shares': 63}. Best is trial 2 with value: 941420.7980944738.\n",
      "[I 2024-03-08 11:36:04,242] Trial 3 finished with value: 976754.2849581231 and parameters: {'stop_loss': 0.021845081320491365, 'take_profit': 0.031054397080872265, 'n_shares': 25}. Best is trial 3 with value: 976754.2849581231.\n",
      "[I 2024-03-08 11:36:04,271] Trial 4 finished with value: 942350.6266961499 and parameters: {'stop_loss': 0.04411207635916761, 'take_profit': 0.02004367217662359, 'n_shares': 62}. Best is trial 3 with value: 976754.2849581231.\n",
      "[I 2024-03-08 11:36:04,301] Trial 5 finished with value: 893999.5394090497 and parameters: {'stop_loss': 0.008715251618962737, 'take_profit': 0.04245182671502393, 'n_shares': 114}. Best is trial 3 with value: 976754.2849581231.\n",
      "[I 2024-03-08 11:36:04,331] Trial 6 finished with value: 823332.5656817495 and parameters: {'stop_loss': 0.037695664403248716, 'take_profit': 0.019454866311639604, 'n_shares': 190}. Best is trial 3 with value: 976754.2849581231.\n",
      "[I 2024-03-08 11:36:04,361] Trial 7 finished with value: 902367.9968241283 and parameters: {'stop_loss': 0.028312454456487474, 'take_profit': 0.034344024283990006, 'n_shares': 105}. Best is trial 3 with value: 976754.2849581231.\n",
      "[I 2024-03-08 11:36:04,390] Trial 8 finished with value: 958157.7129246285 and parameters: {'stop_loss': 0.014939295881133645, 'take_profit': 0.03464680817663461, 'n_shares': 45}. Best is trial 3 with value: 976754.2849581231.\n",
      "[I 2024-03-08 11:36:04,420] Trial 9 finished with value: 923754.05466265 and parameters: {'stop_loss': 0.045431732777839705, 'take_profit': 0.04218071457217344, 'n_shares': 82}. Best is trial 3 with value: 976754.2849581231.\n",
      "[I 2024-03-08 11:36:04,456] Trial 10 finished with value: 995350.8569916249 and parameters: {'stop_loss': 0.022864766242779777, 'take_profit': 0.002656704645501981, 'n_shares': 5}. Best is trial 10 with value: 995350.8569916249.\n",
      "[I 2024-03-08 11:36:04,492] Trial 11 finished with value: 992561.3711865995 and parameters: {'stop_loss': 0.02273551610270831, 'take_profit': 0.004136870004950173, 'n_shares': 8}. Best is trial 10 with value: 995350.8569916249.\n",
      "[I 2024-03-08 11:36:04,530] Trial 12 finished with value: 994421.0283899513 and parameters: {'stop_loss': 0.02718946567750445, 'take_profit': 0.002907480173776884, 'n_shares': 6}. Best is trial 10 with value: 995350.8569916249.\n",
      "[I 2024-03-08 11:36:04,567] Trial 13 finished with value: 985122.7423731998 and parameters: {'stop_loss': 0.02951184085282489, 'take_profit': 0.0026543175163539676, 'n_shares': 16}. Best is trial 10 with value: 995350.8569916249.\n",
      "[I 2024-03-08 11:36:04,603] Trial 14 finished with value: 995350.8569916249 and parameters: {'stop_loss': 0.016332862395654138, 'take_profit': 0.010285173607655948, 'n_shares': 5}. Best is trial 10 with value: 995350.8569916249.\n",
      "[I 2024-03-08 11:36:04,639] Trial 15 finished with value: 955368.2271195992 and parameters: {'stop_loss': 0.014520323878057916, 'take_profit': 0.01121761375484636, 'n_shares': 48}. Best is trial 10 with value: 995350.8569916249.\n",
      "[I 2024-03-08 11:36:04,675] Trial 16 finished with value: 970245.4847464018 and parameters: {'stop_loss': 0.0026338593414455998, 'take_profit': 0.010273670435286417, 'n_shares': 32}. Best is trial 10 with value: 995350.8569916249.\n",
      "[I 2024-03-08 11:36:04,711] Trial 17 finished with value: 858666.0525454003 and parameters: {'stop_loss': 0.01665844565637139, 'take_profit': 0.04969772742046917, 'n_shares': 152}. Best is trial 10 with value: 995350.8569916249.\n",
      "[I 2024-03-08 11:36:04,747] Trial 18 finished with value: 880052.110383927 and parameters: {'stop_loss': 0.010431585105919034, 'take_profit': 0.010035036973490162, 'n_shares': 129}. Best is trial 10 with value: 995350.8569916249.\n",
      "[I 2024-03-08 11:36:04,784] Trial 19 finished with value: 818683.422673377 and parameters: {'stop_loss': 0.03687571409397889, 'take_profit': 0.024144133716989605, 'n_shares': 195}. Best is trial 10 with value: 995350.8569916249.\n",
      "[I 2024-03-08 11:36:04,821] Trial 20 finished with value: 967455.9989413759 and parameters: {'stop_loss': 0.02165185859417376, 'take_profit': 0.01240838480120853, 'n_shares': 35}. Best is trial 10 with value: 995350.8569916249.\n",
      "[I 2024-03-08 11:36:04,858] Trial 21 finished with value: 986982.3995765492 and parameters: {'stop_loss': 0.0257681934738373, 'take_profit': 0.005357014586856599, 'n_shares': 14}. Best is trial 10 with value: 995350.8569916249.\n",
      "[I 2024-03-08 11:36:04,895] Trial 22 finished with value: 992561.3711865995 and parameters: {'stop_loss': 0.031710937595274456, 'take_profit': 0.007420644340727527, 'n_shares': 8}. Best is trial 10 with value: 995350.8569916249.\n",
      "[I 2024-03-08 11:36:04,932] Trial 23 finished with value: 995350.8569916249 and parameters: {'stop_loss': 0.02488197598162668, 'take_profit': 0.014615705562715457, 'n_shares': 5}. Best is trial 10 with value: 995350.8569916249.\n",
      "[I 2024-03-08 11:36:04,969] Trial 24 finished with value: 947929.5983062007 and parameters: {'stop_loss': 0.023908333485790238, 'take_profit': 0.015485096398008815, 'n_shares': 56}. Best is trial 10 with value: 995350.8569916249.\n",
      "[I 2024-03-08 11:36:05,007] Trial 25 finished with value: 973034.9705514255 and parameters: {'stop_loss': 0.01742280468258179, 'take_profit': 0.0238461645864779, 'n_shares': 29}. Best is trial 10 with value: 995350.8569916249.\n",
      "[I 2024-03-08 11:36:05,043] Trial 26 finished with value: 924683.8832643246 and parameters: {'stop_loss': 0.013008415438077708, 'take_profit': 0.01498013557607619, 'n_shares': 81}. Best is trial 10 with value: 995350.8569916249.\n",
      "[I 2024-03-08 11:36:05,080] Trial 27 finished with value: 978613.942161474 and parameters: {'stop_loss': 0.01958791209108219, 'take_profit': 0.007921117943465391, 'n_shares': 23}. Best is trial 10 with value: 995350.8569916249.\n",
      "[I 2024-03-08 11:36:05,117] Trial 28 finished with value: 963736.6845346743 and parameters: {'stop_loss': 0.0038855442416261855, 'take_profit': 0.013576711160449863, 'n_shares': 39}. Best is trial 10 with value: 995350.8569916249.\n",
      "[I 2024-03-08 11:36:05,154] Trial 29 finished with value: 932122.5120777249 and parameters: {'stop_loss': 0.03388208655403725, 'take_profit': 0.018484816051515036, 'n_shares': 73}. Best is trial 10 with value: 995350.8569916249.\n",
      "[I 2024-03-08 11:36:05,155] A new study created in memory with name: no-name-d319a569-1d99-43fd-9bed-a895be070a3a\n",
      "[I 2024-03-08 11:36:05,184] Trial 0 finished with value: 969624.6903732017 and parameters: {'stop_loss': 0.0063558180267651535, 'take_profit': 0.04296507618881809, 'n_shares': 32}. Best is trial 0 with value: 969624.6903732017.\n",
      "[I 2024-03-08 11:36:05,214] Trial 1 finished with value: 815849.6853875259 and parameters: {'stop_loss': 0.030057001309097477, 'take_profit': 0.020203028407463762, 'n_shares': 194}. Best is trial 0 with value: 969624.6903732017.\n",
      "[I 2024-03-08 11:36:05,243] Trial 2 finished with value: 849072.6802918384 and parameters: {'stop_loss': 0.03790584127550577, 'take_profit': 0.0031268519220295507, 'n_shares': 159}. Best is trial 0 with value: 969624.6903732017.\n",
      "[I 2024-03-08 11:36:05,272] Trial 3 finished with value: 953487.8071339624 and parameters: {'stop_loss': 0.04373750759881441, 'take_profit': 0.011707858157899258, 'n_shares': 49}. Best is trial 0 with value: 969624.6903732017.\n",
      "[I 2024-03-08 11:36:05,306] Trial 4 finished with value: 953487.8071339624 and parameters: {'stop_loss': 0.0224940235541977, 'take_profit': 0.013222110695856033, 'n_shares': 49}. Best is trial 0 with value: 969624.6903732017.\n",
      "[I 2024-03-08 11:36:05,336] Trial 5 finished with value: 816798.9138133633 and parameters: {'stop_loss': 0.02241501545382219, 'take_profit': 0.013147414342420343, 'n_shares': 193}. Best is trial 0 with value: 969624.6903732017.\n",
      "[I 2024-03-08 11:36:05,366] Trial 6 finished with value: 826291.198071737 and parameters: {'stop_loss': 0.018103606464343603, 'take_profit': 0.01789866848665151, 'n_shares': 183}. Best is trial 0 with value: 969624.6903732017.\n",
      "[I 2024-03-08 11:36:05,395] Trial 7 finished with value: 832935.7970526011 and parameters: {'stop_loss': 0.015568440738521868, 'take_profit': 0.04169416605779616, 'n_shares': 176}. Best is trial 0 with value: 969624.6903732017.\n",
      "[I 2024-03-08 11:36:05,425] Trial 8 finished with value: 946843.2081531006 and parameters: {'stop_loss': 0.02688462301249915, 'take_profit': 0.04149566390895819, 'n_shares': 56}. Best is trial 0 with value: 969624.6903732017.\n",
      "[I 2024-03-08 11:36:05,455] Trial 9 finished with value: 981015.4314832474 and parameters: {'stop_loss': 0.049015679678437896, 'take_profit': 0.017207563178604997, 'n_shares': 20}. Best is trial 9 with value: 981015.4314832474.\n",
      "[I 2024-03-08 11:36:05,492] Trial 10 finished with value: 903178.7005645751 and parameters: {'stop_loss': 0.048043808508810966, 'take_profit': 0.03106310469861576, 'n_shares': 102}. Best is trial 9 with value: 981015.4314832474.\n",
      "[I 2024-03-08 11:36:05,527] Trial 11 finished with value: 991456.9441674609 and parameters: {'stop_loss': 0.004323727287620056, 'take_profit': 0.049665445728091236, 'n_shares': 9}. Best is trial 11 with value: 991456.9441674609.\n",
      "[I 2024-03-08 11:36:05,564] Trial 12 finished with value: 987660.0304641138 and parameters: {'stop_loss': 0.007997945797232352, 'take_profit': 0.028874799134704553, 'n_shares': 13}. Best is trial 11 with value: 991456.9441674609.\n",
      "[I 2024-03-08 11:36:05,600] Trial 13 finished with value: 993355.401019137 and parameters: {'stop_loss': 0.003282199175604947, 'take_profit': 0.03231301732505614, 'n_shares': 7}. Best is trial 13 with value: 993355.401019137.\n",
      "[I 2024-03-08 11:36:05,637] Trial 14 finished with value: 916467.8985263001 and parameters: {'stop_loss': 0.002844135944399428, 'take_profit': 0.047646657116534236, 'n_shares': 88}. Best is trial 13 with value: 993355.401019137.\n",
      "[I 2024-03-08 11:36:05,673] Trial 15 finished with value: 870904.9340860998 and parameters: {'stop_loss': 0.012026863025506686, 'take_profit': 0.03409948953834901, 'n_shares': 136}. Best is trial 13 with value: 993355.401019137.\n",
      "[I 2024-03-08 11:36:05,709] Trial 16 finished with value: 929757.0964880255 and parameters: {'stop_loss': 0.011264709908186893, 'take_profit': 0.049889536147680276, 'n_shares': 74}. Best is trial 13 with value: 993355.401019137.\n",
      "[I 2024-03-08 11:36:05,746] Trial 17 finished with value: 993355.401019137 and parameters: {'stop_loss': 0.0030589472146721184, 'take_profit': 0.03677642598163686, 'n_shares': 7}. Best is trial 13 with value: 993355.401019137.\n",
      "[I 2024-03-08 11:36:05,783] Trial 18 finished with value: 875651.0762152879 and parameters: {'stop_loss': 0.011204919514108016, 'take_profit': 0.03565155662878966, 'n_shares': 131}. Best is trial 13 with value: 993355.401019137.\n",
      "[I 2024-03-08 11:36:05,820] Trial 19 finished with value: 970573.9187990392 and parameters: {'stop_loss': 0.0323183577724753, 'take_profit': 0.025145486008630553, 'n_shares': 31}. Best is trial 13 with value: 993355.401019137.\n",
      "[I 2024-03-08 11:36:05,856] Trial 20 finished with value: 932604.7817655358 and parameters: {'stop_loss': 0.015305594107083615, 'take_profit': 0.037951126115766565, 'n_shares': 71}. Best is trial 13 with value: 993355.401019137.\n",
      "[I 2024-03-08 11:36:05,892] Trial 21 finished with value: 988609.25888995 and parameters: {'stop_loss': 0.003777045919581516, 'take_profit': 0.024321209721338936, 'n_shares': 12}. Best is trial 13 with value: 993355.401019137.\n",
      "[I 2024-03-08 11:36:05,929] Trial 22 finished with value: 968675.4619473615 and parameters: {'stop_loss': 0.0025171115366407776, 'take_profit': 0.04590274664414858, 'n_shares': 33}. Best is trial 13 with value: 993355.401019137.\n",
      "[I 2024-03-08 11:36:05,967] Trial 23 finished with value: 990507.7157416282 and parameters: {'stop_loss': 0.008766731479374084, 'take_profit': 0.037772917731946846, 'n_shares': 10}. Best is trial 13 with value: 993355.401019137.\n",
      "[I 2024-03-08 11:36:06,003] Trial 24 finished with value: 971523.1472248799 and parameters: {'stop_loss': 0.006361029861988115, 'take_profit': 0.03149847640422451, 'n_shares': 30}. Best is trial 13 with value: 993355.401019137.\n",
      "[I 2024-03-08 11:36:06,040] Trial 25 finished with value: 991456.9441674609 and parameters: {'stop_loss': 0.01838298983631176, 'take_profit': 0.044166677245138695, 'n_shares': 9}. Best is trial 13 with value: 993355.401019137.\n",
      "[I 2024-03-08 11:36:06,077] Trial 26 finished with value: 954437.0355597996 and parameters: {'stop_loss': 0.0062977669674431965, 'take_profit': 0.038905789362256485, 'n_shares': 48}. Best is trial 13 with value: 993355.401019137.\n",
      "[I 2024-03-08 11:36:06,114] Trial 27 finished with value: 995253.8578708123 and parameters: {'stop_loss': 0.013893362488159623, 'take_profit': 0.02725259614505956, 'n_shares': 5}. Best is trial 27 with value: 995253.8578708123.\n",
      "[I 2024-03-08 11:36:06,152] Trial 28 finished with value: 937350.9238947274 and parameters: {'stop_loss': 0.0136603979200793, 'take_profit': 0.0281629512972661, 'n_shares': 66}. Best is trial 27 with value: 995253.8578708123.\n",
      "[I 2024-03-08 11:36:06,188] Trial 29 finished with value: 972472.3756507132 and parameters: {'stop_loss': 0.008953487571554907, 'take_profit': 0.02353294130051345, 'n_shares': 29}. Best is trial 27 with value: 995253.8578708123.\n",
      "[I 2024-03-08 11:36:06,189] A new study created in memory with name: no-name-1e762f12-b250-43e1-9270-6cdb94a6c514\n",
      "[I 2024-03-08 11:36:06,219] Trial 0 finished with value: 876417.3707796239 and parameters: {'stop_loss': 0.031664322512263705, 'take_profit': 0.04209486217727244, 'n_shares': 130}. Best is trial 0 with value: 876417.3707796239.\n",
      "[I 2024-03-08 11:36:06,249] Trial 1 finished with value: 821280.5054351491 and parameters: {'stop_loss': 0.013363947797799343, 'take_profit': 0.013644385324643515, 'n_shares': 188}. Best is trial 0 with value: 876417.3707796239.\n",
      "[I 2024-03-08 11:36:06,280] Trial 2 finished with value: 983839.1946404126 and parameters: {'stop_loss': 0.047826614801765296, 'take_profit': 0.028748385786089698, 'n_shares': 17}. Best is trial 2 with value: 983839.1946404126.\n",
      "[I 2024-03-08 11:36:06,309] Trial 3 finished with value: 824132.4122633117 and parameters: {'stop_loss': 0.007228167015329683, 'take_profit': 0.024121116119166713, 'n_shares': 185}. Best is trial 2 with value: 983839.1946404126.\n",
      "[I 2024-03-08 11:36:06,340] Trial 4 finished with value: 884022.4556547245 and parameters: {'stop_loss': 0.03674467574591697, 'take_profit': 0.03297051547017752, 'n_shares': 122}. Best is trial 2 with value: 983839.1946404126.\n",
      "[I 2024-03-08 11:36:06,371] Trial 5 finished with value: 899232.6254049232 and parameters: {'stop_loss': 0.011646455992045585, 'take_profit': 0.03193225509196455, 'n_shares': 106}. Best is trial 2 with value: 983839.1946404126.\n",
      "[I 2024-03-08 11:36:06,401] Trial 6 finished with value: 918245.3375926764 and parameters: {'stop_loss': 0.028581370460739657, 'take_profit': 0.007097054727957157, 'n_shares': 86}. Best is trial 2 with value: 983839.1946404126.\n",
      "[I 2024-03-08 11:36:06,431] Trial 7 finished with value: 865009.7434669763 and parameters: {'stop_loss': 0.03206287156116592, 'take_profit': 0.01609682745882452, 'n_shares': 142}. Best is trial 2 with value: 983839.1946404126.\n",
      "[I 2024-03-08 11:36:06,461] Trial 8 finished with value: 992394.9151248998 and parameters: {'stop_loss': 0.006175576404363163, 'take_profit': 0.02530536223857722, 'n_shares': 8}. Best is trial 8 with value: 992394.9151248998.\n",
      "[I 2024-03-08 11:36:06,491] Trial 9 finished with value: 995246.8219530623 and parameters: {'stop_loss': 0.009991529757245196, 'take_profit': 0.03661741355851479, 'n_shares': 5}. Best is trial 9 with value: 995246.8219530623.\n",
      "[I 2024-03-08 11:36:06,528] Trial 10 finished with value: 929652.9649053256 and parameters: {'stop_loss': 0.0202517123105091, 'take_profit': 0.04928515390653803, 'n_shares': 74}. Best is trial 9 with value: 995246.8219530623.\n",
      "[I 2024-03-08 11:36:06,565] Trial 11 finished with value: 990493.6439061282 and parameters: {'stop_loss': 0.00324801733684444, 'take_profit': 0.03985471886732718, 'n_shares': 10}. Best is trial 9 with value: 995246.8219530623.\n",
      "[I 2024-03-08 11:36:06,603] Trial 12 finished with value: 958172.0331869492 and parameters: {'stop_loss': 0.018193895177722783, 'take_profit': 0.022423808582240325, 'n_shares': 44}. Best is trial 9 with value: 995246.8219530623.\n",
      "[I 2024-03-08 11:36:06,639] Trial 13 finished with value: 957221.3975775659 and parameters: {'stop_loss': 0.0026787423004573227, 'take_profit': 0.037235291895454714, 'n_shares': 45}. Best is trial 9 with value: 995246.8219530623.\n",
      "[I 2024-03-08 11:36:06,676] Trial 14 finished with value: 960073.3044057243 and parameters: {'stop_loss': 0.0216471871739878, 'take_profit': 0.019225376193885094, 'n_shares': 42}. Best is trial 9 with value: 995246.8219530623.\n",
      "[I 2024-03-08 11:36:06,712] Trial 15 finished with value: 994296.1863436763 and parameters: {'stop_loss': 0.010814705410266787, 'take_profit': 0.0435577627861928, 'n_shares': 6}. Best is trial 9 with value: 995246.8219530623.\n",
      "[I 2024-03-08 11:36:06,749] Trial 16 finished with value: 936307.4141710395 and parameters: {'stop_loss': 0.013759594838479246, 'take_profit': 0.04854302375506997, 'n_shares': 67}. Best is trial 9 with value: 995246.8219530623.\n",
      "[I 2024-03-08 11:36:06,786] Trial 17 finished with value: 961023.940015112 and parameters: {'stop_loss': 0.010137921503569187, 'take_profit': 0.04288454295922441, 'n_shares': 41}. Best is trial 9 with value: 995246.8219530623.\n",
      "[I 2024-03-08 11:36:06,824] Trial 18 finished with value: 971480.93171838 and parameters: {'stop_loss': 0.02358727944463354, 'take_profit': 0.036595035127591616, 'n_shares': 30}. Best is trial 9 with value: 995246.8219530623.\n",
      "[I 2024-03-08 11:36:06,861] Trial 19 finished with value: 942011.2278273627 and parameters: {'stop_loss': 0.016804600403251838, 'take_profit': 0.04610357297395834, 'n_shares': 61}. Best is trial 9 with value: 995246.8219530623.\n",
      "[I 2024-03-08 11:36:06,898] Trial 20 finished with value: 852651.4805449395 and parameters: {'stop_loss': 0.038059676278854586, 'take_profit': 0.031954335733526684, 'n_shares': 155}. Best is trial 9 with value: 995246.8219530623.\n",
      "[I 2024-03-08 11:36:06,935] Trial 21 finished with value: 988592.3726873499 and parameters: {'stop_loss': 0.008558404324548956, 'take_profit': 0.026514799524835663, 'n_shares': 12}. Best is trial 9 with value: 995246.8219530623.\n",
      "[I 2024-03-08 11:36:06,973] Trial 22 finished with value: 993345.550734287 and parameters: {'stop_loss': 0.006410321184317921, 'take_profit': 0.035190396202348914, 'n_shares': 7}. Best is trial 9 with value: 995246.8219530623.\n",
      "[I 2024-03-08 11:36:07,011] Trial 23 finished with value: 975283.4741559252 and parameters: {'stop_loss': 0.014873029093262859, 'take_profit': 0.03715623820059544, 'n_shares': 26}. Best is trial 9 with value: 995246.8219530623.\n",
      "[I 2024-03-08 11:36:07,049] Trial 24 finished with value: 975283.4741559252 and parameters: {'stop_loss': 0.0063371351418826626, 'take_profit': 0.04435036479876054, 'n_shares': 26}. Best is trial 9 with value: 995246.8219530623.\n",
      "[I 2024-03-08 11:36:07,086] Trial 25 finished with value: 947715.0414836857 and parameters: {'stop_loss': 0.010285298931381522, 'take_profit': 0.03895792659649414, 'n_shares': 55}. Best is trial 9 with value: 995246.8219530623.\n",
      "[I 2024-03-08 11:36:07,124] Trial 26 finished with value: 995246.8219530623 and parameters: {'stop_loss': 0.01700988775630006, 'take_profit': 0.03491337538068126, 'n_shares': 5}. Best is trial 9 with value: 995246.8219530623.\n",
      "[I 2024-03-08 11:36:07,165] Trial 27 finished with value: 921097.2444208383 and parameters: {'stop_loss': 0.017194982859212744, 'take_profit': 0.040775564934190815, 'n_shares': 83}. Best is trial 9 with value: 995246.8219530623.\n",
      "[I 2024-03-08 11:36:07,203] Trial 28 finished with value: 977184.7453747004 and parameters: {'stop_loss': 0.023087534540489337, 'take_profit': 0.028988698876563815, 'n_shares': 24}. Best is trial 9 with value: 995246.8219530623.\n",
      "[I 2024-03-08 11:36:07,240] Trial 29 finished with value: 904936.4390612509 and parameters: {'stop_loss': 0.026130391203052928, 'take_profit': 0.04365750902830392, 'n_shares': 100}. Best is trial 9 with value: 995246.8219530623.\n"
     ]
    },
    {
     "name": "stdout",
     "output_type": "stream",
     "text": [
      "995246.8219530623\n",
      "('xg',)\n",
      "{'stop_loss': 0.049549981034627176, 'take_profit': 0.0030567784866075516, 'n_shares': 6}\n"
     ]
    }
   ],
   "source": [
    "file_1m = optimize_file(data_1m)\n"
   ],
   "metadata": {
    "collapsed": false,
    "ExecuteTime": {
     "end_time": "2024-03-08T17:36:07.246269Z",
     "start_time": "2024-03-08T17:36:00.457305Z"
    }
   },
   "id": "8d7158c61cc5f0b1",
   "execution_count": 235
  },
  {
   "cell_type": "code",
   "outputs": [
    {
     "name": "stderr",
     "output_type": "stream",
     "text": [
      "[I 2024-03-08 11:36:07,253] A new study created in memory with name: no-name-6ba79a4c-19ea-41ff-a05e-6a6d3c62827f\n",
      "[I 2024-03-08 11:36:08,214] Trial 0 finished with value: -20.859335220751746 and parameters: {'stop_loss': 0.046326465841431484, 'take_profit': 0.04661269868349891, 'n_shares': 91}. Best is trial 0 with value: -20.859335220751746.\n",
      "[I 2024-03-08 11:36:09,273] Trial 1 finished with value: -42.55790216963942 and parameters: {'stop_loss': 0.0237097743982345, 'take_profit': 0.005817024099149145, 'n_shares': 194}. Best is trial 0 with value: -20.859335220751746.\n",
      "[I 2024-03-08 11:36:10,133] Trial 2 finished with value: -117.66601759778132 and parameters: {'stop_loss': 0.04504132280723247, 'take_profit': 0.044507587337527896, 'n_shares': 192}. Best is trial 0 with value: -20.859335220751746.\n",
      "[I 2024-03-08 11:36:11,535] Trial 3 finished with value: 114.24215238680472 and parameters: {'stop_loss': 0.03831251576786524, 'take_profit': 0.035868801141761206, 'n_shares': 26}. Best is trial 3 with value: 114.24215238680472.\n",
      "[I 2024-03-08 11:36:12,432] Trial 4 finished with value: -234.18573084753734 and parameters: {'stop_loss': 0.01119056198648912, 'take_profit': 0.007553829912023129, 'n_shares': 133}. Best is trial 3 with value: 114.24215238680472.\n",
      "[I 2024-03-08 11:36:13,351] Trial 5 finished with value: 101.58016093096194 and parameters: {'stop_loss': 0.003934506855229045, 'take_profit': 0.03602914488713518, 'n_shares': 107}. Best is trial 3 with value: 114.24215238680472.\n",
      "[I 2024-03-08 11:36:14,289] Trial 6 finished with value: -116.40557293199345 and parameters: {'stop_loss': 0.02254309555604854, 'take_profit': 0.028592217577806167, 'n_shares': 113}. Best is trial 3 with value: 114.24215238680472.\n",
      "[I 2024-03-08 11:36:15,301] Trial 7 finished with value: -94.49833580037921 and parameters: {'stop_loss': 0.02639915317913403, 'take_profit': 0.003740932467633503, 'n_shares': 72}. Best is trial 3 with value: 114.24215238680472.\n",
      "[I 2024-03-08 11:36:16,199] Trial 8 finished with value: -103.07916394067615 and parameters: {'stop_loss': 0.026240448414409555, 'take_profit': 0.03577007642859932, 'n_shares': 124}. Best is trial 3 with value: 114.24215238680472.\n",
      "[I 2024-03-08 11:36:17,094] Trial 9 finished with value: -133.4089638449259 and parameters: {'stop_loss': 0.01572855037347477, 'take_profit': 0.00890790563668695, 'n_shares': 137}. Best is trial 3 with value: 114.24215238680472.\n",
      "[I 2024-03-08 11:36:19,674] Trial 10 finished with value: 110907.11120147876 and parameters: {'stop_loss': 0.037164168405064826, 'take_profit': 0.017962658125085455, 'n_shares': 8}. Best is trial 10 with value: 110907.11120147876.\n",
      "[I 2024-03-08 11:36:22,247] Trial 11 finished with value: 333180.33340113977 and parameters: {'stop_loss': 0.03619649730620125, 'take_profit': 0.015887481702878632, 'n_shares': 6}. Best is trial 11 with value: 333180.33340113977.\n",
      "[I 2024-03-08 11:36:24,489] Trial 12 finished with value: 108.03628606916163 and parameters: {'stop_loss': 0.036226238112354404, 'take_profit': 0.017131916282011054, 'n_shares': 11}. Best is trial 11 with value: 333180.33340113977.\n",
      "[I 2024-03-08 11:36:25,627] Trial 13 finished with value: -16.194115203160436 and parameters: {'stop_loss': 0.03603251756060334, 'take_profit': 0.016940819681882654, 'n_shares': 45}. Best is trial 11 with value: 333180.33340113977.\n",
      "[I 2024-03-08 11:36:26,748] Trial 14 finished with value: 78.48194080832582 and parameters: {'stop_loss': 0.03175078615583306, 'take_profit': 0.017693048112746555, 'n_shares': 48}. Best is trial 11 with value: 333180.33340113977.\n",
      "[I 2024-03-08 11:36:29,347] Trial 15 finished with value: 222043.7223013115 and parameters: {'stop_loss': 0.0429821178198991, 'take_profit': 0.024626662478084684, 'n_shares': 7}. Best is trial 11 with value: 333180.33340113977.\n",
      "[I 2024-03-08 11:36:30,483] Trial 16 finished with value: 105.87423573034357 and parameters: {'stop_loss': 0.04981170841689764, 'take_profit': 0.025582091054277438, 'n_shares': 46}. Best is trial 11 with value: 333180.33340113977.\n",
      "[I 2024-03-08 11:36:31,486] Trial 17 finished with value: -58.888685621603145 and parameters: {'stop_loss': 0.042746256746444895, 'take_profit': 0.025139517034571464, 'n_shares': 74}. Best is trial 11 with value: 333180.33340113977.\n",
      "[I 2024-03-08 11:36:32,863] Trial 18 finished with value: 48.56562393517015 and parameters: {'stop_loss': 0.032026253168066295, 'take_profit': 0.012246666258789184, 'n_shares': 27}. Best is trial 11 with value: 333180.33340113977.\n",
      "[I 2024-03-08 11:36:33,738] Trial 19 finished with value: -205.74720274713764 and parameters: {'stop_loss': 0.041405372929033235, 'take_profit': 0.02932739369801331, 'n_shares': 165}. Best is trial 11 with value: 333180.33340113977.\n",
      "[I 2024-03-08 11:36:34,758] Trial 20 finished with value: 79.74763240560605 and parameters: {'stop_loss': 0.030085773246611252, 'take_profit': 0.021911965578770575, 'n_shares': 69}. Best is trial 11 with value: 333180.33340113977.\n",
      "[I 2024-03-08 11:36:37,349] Trial 21 finished with value: 444316.9445010164 and parameters: {'stop_loss': 0.03964301028147689, 'take_profit': 0.015051851259297103, 'n_shares': 5}. Best is trial 21 with value: 444316.9445010164.\n",
      "[I 2024-03-08 11:36:38,795] Trial 22 finished with value: 55.99610949471753 and parameters: {'stop_loss': 0.040899853527804376, 'take_profit': 0.011132930259266607, 'n_shares': 24}. Best is trial 21 with value: 444316.9445010164.\n",
      "[I 2024-03-08 11:36:41,364] Trial 23 finished with value: 109.3575910727925 and parameters: {'stop_loss': 0.049194276154507104, 'take_profit': 0.01329530747380044, 'n_shares': 9}. Best is trial 21 with value: 444316.9445010164.\n",
      "[I 2024-03-08 11:36:42,586] Trial 24 finished with value: 83.88779082148721 and parameters: {'stop_loss': 0.034211973662510414, 'take_profit': 0.021467892065054082, 'n_shares': 37}. Best is trial 21 with value: 444316.9445010164.\n",
      "[I 2024-03-08 11:36:45,180] Trial 25 finished with value: 444316.9445010164 and parameters: {'stop_loss': 0.04455111005780159, 'take_profit': 0.03222092707588422, 'n_shares': 5}. Best is trial 21 with value: 444316.9445010164.\n",
      "[I 2024-03-08 11:36:46,258] Trial 26 finished with value: 56.608964426040075 and parameters: {'stop_loss': 0.047151039242516735, 'take_profit': 0.03175990869058701, 'n_shares': 54}. Best is trial 21 with value: 444316.9445010164.\n",
      "[I 2024-03-08 11:36:47,688] Trial 27 finished with value: 52.824709669621825 and parameters: {'stop_loss': 0.039573368228863315, 'take_profit': 0.04129767462667035, 'n_shares': 25}. Best is trial 21 with value: 444316.9445010164.\n",
      "[I 2024-03-08 11:36:48,739] Trial 28 finished with value: 49.914838415987106 and parameters: {'stop_loss': 0.029634376315041667, 'take_profit': 0.02097357705078691, 'n_shares': 59}. Best is trial 21 with value: 444316.9445010164.\n",
      "[I 2024-03-08 11:36:49,700] Trial 29 finished with value: -93.20453868308687 and parameters: {'stop_loss': 0.045821632236622695, 'take_profit': 0.014095381235288714, 'n_shares': 89}. Best is trial 21 with value: 444316.9445010164.\n",
      "[I 2024-03-08 11:36:49,701] A new study created in memory with name: no-name-58330d69-5dc8-4159-bece-961baf008c7e\n",
      "[I 2024-03-08 11:36:50,615] Trial 0 finished with value: -165.49609462580702 and parameters: {'stop_loss': 0.01326370310072179, 'take_profit': 0.036859614918515755, 'n_shares': 106}. Best is trial 0 with value: -165.49609462580702.\n",
      "[I 2024-03-08 11:36:52,282] Trial 1 finished with value: 85.65054881113156 and parameters: {'stop_loss': 0.045193181064694075, 'take_profit': 0.048167770301795865, 'n_shares': 16}. Best is trial 1 with value: 85.65054881113156.\n",
      "[I 2024-03-08 11:36:53,261] Trial 2 finished with value: -26.93654187703214 and parameters: {'stop_loss': 0.03528436263946714, 'take_profit': 0.006256415659828004, 'n_shares': 75}. Best is trial 1 with value: 85.65054881113156.\n",
      "[I 2024-03-08 11:36:54,334] Trial 3 finished with value: 32.722614985354085 and parameters: {'stop_loss': 0.03859722307605519, 'take_profit': 0.02507864774054446, 'n_shares': 50}. Best is trial 1 with value: 85.65054881113156.\n",
      "[I 2024-03-08 11:36:55,702] Trial 4 finished with value: 96.718465293804 and parameters: {'stop_loss': 0.027839111763322315, 'take_profit': 0.010749575388809907, 'n_shares': 25}. Best is trial 4 with value: 96.718465293804.\n",
      "[I 2024-03-08 11:36:56,578] Trial 5 finished with value: -111.08451500057345 and parameters: {'stop_loss': 0.045366133739822956, 'take_profit': 0.008600461102067972, 'n_shares': 150}. Best is trial 4 with value: 96.718465293804.\n",
      "[I 2024-03-08 11:36:57,547] Trial 6 finished with value: 6.9820700054933695 and parameters: {'stop_loss': 0.04528971494313861, 'take_profit': 0.0127637662592287, 'n_shares': 80}. Best is trial 4 with value: 96.718465293804.\n",
      "[I 2024-03-08 11:36:58,426] Trial 7 finished with value: 26.319236167997587 and parameters: {'stop_loss': 0.026210435300897873, 'take_profit': 0.007829562520788882, 'n_shares': 147}. Best is trial 4 with value: 96.718465293804.\n",
      "[I 2024-03-08 11:36:59,802] Trial 8 finished with value: 96.718465293804 and parameters: {'stop_loss': 0.04820784625505014, 'take_profit': 0.03349380693156954, 'n_shares': 25}. Best is trial 4 with value: 96.718465293804.\n",
      "[I 2024-03-08 11:37:00,750] Trial 9 finished with value: 111.38349237832153 and parameters: {'stop_loss': 0.021752849698572652, 'take_profit': 0.04874978794842699, 'n_shares': 85}. Best is trial 9 with value: 111.38349237832153.\n",
      "[I 2024-03-08 11:37:01,609] Trial 10 finished with value: -206.73456742056442 and parameters: {'stop_loss': 0.0030728588348805444, 'take_profit': 0.047399504830794005, 'n_shares': 191}. Best is trial 9 with value: 111.38349237832153.\n",
      "[I 2024-03-08 11:37:02,531] Trial 11 finished with value: -165.27765850654578 and parameters: {'stop_loss': 0.022797759583336377, 'take_profit': 0.019553090915226133, 'n_shares': 107}. Best is trial 9 with value: 111.38349237832153.\n",
      "[I 2024-03-08 11:37:05,205] Trial 12 finished with value: 278810.01641782274 and parameters: {'stop_loss': 0.018766887224843494, 'take_profit': 0.037042457656226276, 'n_shares': 5}. Best is trial 12 with value: 278810.01641782274.\n",
      "[I 2024-03-08 11:37:06,257] Trial 13 finished with value: 24.259368984808134 and parameters: {'stop_loss': 0.015703262337243257, 'take_profit': 0.040183381501835466, 'n_shares': 58}. Best is trial 12 with value: 278810.01641782274.\n",
      "[I 2024-03-08 11:37:08,944] Trial 14 finished with value: 278810.01641782274 and parameters: {'stop_loss': 0.0175314346159276, 'take_profit': 0.04236199773431711, 'n_shares': 5}. Best is trial 12 with value: 278810.01641782274.\n",
      "[I 2024-03-08 11:37:11,056] Trial 15 finished with value: 108.36667326646852 and parameters: {'stop_loss': 0.010268508259735973, 'take_profit': 0.0303613154412073, 'n_shares': 10}. Best is trial 12 with value: 278810.01641782274.\n",
      "[I 2024-03-08 11:37:12,227] Trial 16 finished with value: 86.07231787574983 and parameters: {'stop_loss': 0.006239999326264791, 'take_profit': 0.041435446081492605, 'n_shares': 38}. Best is trial 12 with value: 278810.01641782274.\n",
      "[I 2024-03-08 11:37:14,887] Trial 17 finished with value: 111.11509897119856 and parameters: {'stop_loss': 0.018269618569893675, 'take_profit': 0.02585840649260119, 'n_shares': 7}. Best is trial 12 with value: 278810.01641782274.\n",
      "[I 2024-03-08 11:37:15,980] Trial 18 finished with value: 9.615973605187719 and parameters: {'stop_loss': 0.03172152919271446, 'take_profit': 0.04255416115800296, 'n_shares': 48}. Best is trial 12 with value: 278810.01641782274.\n",
      "[I 2024-03-08 11:37:16,866] Trial 19 finished with value: -144.82729867662783 and parameters: {'stop_loss': 0.010190489248124223, 'take_profit': 0.03206096846708009, 'n_shares': 135}. Best is trial 12 with value: 278810.01641782274.\n",
      "[I 2024-03-08 11:37:18,116] Trial 20 finished with value: 30.254408432807395 and parameters: {'stop_loss': 0.019530624399935324, 'take_profit': 0.03894711974525177, 'n_shares': 33}. Best is trial 12 with value: 278810.01641782274.\n",
      "[I 2024-03-08 11:37:19,081] Trial 21 finished with value: 21.58096138388464 and parameters: {'stop_loss': 0.022584879316617686, 'take_profit': 0.045361941755976055, 'n_shares': 79}. Best is trial 12 with value: 278810.01641782274.\n",
      "[I 2024-03-08 11:37:19,941] Trial 22 finished with value: -438.75879405381056 and parameters: {'stop_loss': 0.022418823804132744, 'take_profit': 0.04463631382719093, 'n_shares': 185}. Best is trial 12 with value: 278810.01641782274.\n",
      "[I 2024-03-08 11:37:20,975] Trial 23 finished with value: -65.81348097236969 and parameters: {'stop_loss': 0.027961261937945164, 'take_profit': 0.03553706631106916, 'n_shares': 61}. Best is trial 12 with value: 278810.01641782274.\n",
      "[I 2024-03-08 11:37:22,040] Trial 24 finished with value: -154.12721901009718 and parameters: {'stop_loss': 0.01496658706383645, 'take_profit': 0.04971253918246422, 'n_shares': 120}. Best is trial 12 with value: 278810.01641782274.\n",
      "[I 2024-03-08 11:37:24,714] Trial 25 finished with value: 134572.0197013192 and parameters: {'stop_loss': 0.017802805826823878, 'take_profit': 0.04298960759464875, 'n_shares': 6}. Best is trial 12 with value: 278810.01641782274.\n",
      "[I 2024-03-08 11:37:27,400] Trial 26 finished with value: 134572.0197013192 and parameters: {'stop_loss': 0.017359902220345752, 'take_profit': 0.030658673668917585, 'n_shares': 6}. Best is trial 12 with value: 278810.01641782274.\n",
      "[I 2024-03-08 11:37:28,609] Trial 27 finished with value: 112.23447535165815 and parameters: {'stop_loss': 0.011680789747278781, 'take_profit': 0.02070659887107759, 'n_shares': 36}. Best is trial 12 with value: 278810.01641782274.\n",
      "[I 2024-03-08 11:37:30,153] Trial 28 finished with value: 121.4195390581981 and parameters: {'stop_loss': 0.008293340351757186, 'take_profit': 0.0384040399409118, 'n_shares': 19}. Best is trial 12 with value: 278810.01641782274.\n",
      "[I 2024-03-08 11:37:31,300] Trial 29 finished with value: 8.880291237946949 and parameters: {'stop_loss': 0.014960782323278693, 'take_profit': 0.03585246101930681, 'n_shares': 43}. Best is trial 12 with value: 278810.01641782274.\n",
      "[I 2024-03-08 11:37:31,301] A new study created in memory with name: no-name-f87eb836-9df7-4aac-8dbd-4327e5a6c91d\n",
      "[I 2024-03-08 11:37:32,218] Trial 0 finished with value: -35.49747449819188 and parameters: {'stop_loss': 0.029887124248729576, 'take_profit': 0.029818075163029832, 'n_shares': 166}. Best is trial 0 with value: -35.49747449819188.\n",
      "[I 2024-03-08 11:37:33,573] Trial 1 finished with value: -6.52640133029945 and parameters: {'stop_loss': 0.04876654252858194, 'take_profit': 0.037848919634755965, 'n_shares': 38}. Best is trial 1 with value: -6.52640133029945.\n",
      "[I 2024-03-08 11:37:34,628] Trial 2 finished with value: -45.51124376803091 and parameters: {'stop_loss': 0.01347581389334702, 'take_profit': 0.03277997482556977, 'n_shares': 82}. Best is trial 1 with value: -6.52640133029945.\n",
      "[I 2024-03-08 11:37:36,558] Trial 3 finished with value: 127.27875275009046 and parameters: {'stop_loss': 0.02162719007871082, 'take_profit': 0.044243081321532776, 'n_shares': 18}. Best is trial 3 with value: 127.27875275009046.\n",
      "[I 2024-03-08 11:37:37,444] Trial 4 finished with value: -1.6786235949402908 and parameters: {'stop_loss': 0.0455169900636413, 'take_profit': 0.021928969483672626, 'n_shares': 184}. Best is trial 3 with value: 127.27875275009046.\n",
      "[I 2024-03-08 11:37:38,433] Trial 5 finished with value: -60.5359194245666 and parameters: {'stop_loss': 0.029041005973625397, 'take_profit': 0.014944171497688613, 'n_shares': 113}. Best is trial 3 with value: 127.27875275009046.\n",
      "[I 2024-03-08 11:37:39,403] Trial 6 finished with value: -171.90596069345884 and parameters: {'stop_loss': 0.018270433448047428, 'take_profit': 0.02065488409981972, 'n_shares': 124}. Best is trial 3 with value: 127.27875275009046.\n",
      "[I 2024-03-08 11:37:40,369] Trial 7 finished with value: 72.363557130544 and parameters: {'stop_loss': 0.00891674757394241, 'take_profit': 0.008022801795999204, 'n_shares': 126}. Best is trial 3 with value: 127.27875275009046.\n",
      "[I 2024-03-08 11:37:41,262] Trial 8 finished with value: -56.15722474545328 and parameters: {'stop_loss': 0.011109653030125937, 'take_profit': 0.02882168525678948, 'n_shares': 188}. Best is trial 3 with value: 127.27875275009046.\n",
      "[I 2024-03-08 11:37:42,150] Trial 9 finished with value: -101.60056237140816 and parameters: {'stop_loss': 0.03852834963973648, 'take_profit': 0.030574304370230614, 'n_shares': 197}. Best is trial 3 with value: 127.27875275009046.\n",
      "[I 2024-03-08 11:37:44,522] Trial 10 finished with value: 614134.5168210119 and parameters: {'stop_loss': 0.020799244207322022, 'take_profit': 0.049844129192893015, 'n_shares': 5}. Best is trial 10 with value: 614134.5168210119.\n",
      "[I 2024-03-08 11:37:46,907] Trial 11 finished with value: 228269.03364187645 and parameters: {'stop_loss': 0.02148808601063454, 'take_profit': 0.04912453176377689, 'n_shares': 10}. Best is trial 10 with value: 614134.5168210119.\n",
      "[I 2024-03-08 11:37:49,448] Trial 12 finished with value: 382615.22691347887 and parameters: {'stop_loss': 0.002803350803336404, 'take_profit': 0.048662127392963474, 'n_shares': 8}. Best is trial 10 with value: 614134.5168210119.\n",
      "[I 2024-03-08 11:37:50,648] Trial 13 finished with value: 77.268877830983 and parameters: {'stop_loss': 0.003060592074379797, 'take_profit': 0.04961944083316122, 'n_shares': 57}. Best is trial 10 with value: 614134.5168210119.\n",
      "[I 2024-03-08 11:37:51,814] Trial 14 finished with value: 53.10132922652065 and parameters: {'stop_loss': 0.0026125515486757024, 'take_profit': 0.03967623166151866, 'n_shares': 62}. Best is trial 10 with value: 614134.5168210119.\n",
      "[I 2024-03-08 11:37:53,202] Trial 15 finished with value: 51.181346798351115 and parameters: {'stop_loss': 0.03285724081295788, 'take_profit': 0.04215838526811112, 'n_shares': 36}. Best is trial 10 with value: 614134.5168210119.\n",
      "[I 2024-03-08 11:37:55,582] Trial 16 finished with value: 614134.5168210119 and parameters: {'stop_loss': 0.03733367292236396, 'take_profit': 0.04619366225118623, 'n_shares': 5}. Best is trial 10 with value: 614134.5168210119.\n",
      "[I 2024-03-08 11:37:56,603] Trial 17 finished with value: -169.77076210092673 and parameters: {'stop_loss': 0.037596511538931725, 'take_profit': 0.03605917276776123, 'n_shares': 90}. Best is trial 10 with value: 614134.5168210119.\n",
      "[I 2024-03-08 11:37:57,977] Trial 18 finished with value: 51.181346798351115 and parameters: {'stop_loss': 0.04032174584507692, 'take_profit': 0.0438475902495074, 'n_shares': 36}. Best is trial 10 with value: 614134.5168210119.\n",
      "[I 2024-03-08 11:37:58,897] Trial 19 finished with value: 73.86195044051783 and parameters: {'stop_loss': 0.024509256098370402, 'take_profit': 0.045235066990593965, 'n_shares': 147}. Best is trial 10 with value: 614134.5168210119.\n",
      "[I 2024-03-08 11:38:00,081] Trial 20 finished with value: 13.530565750538699 and parameters: {'stop_loss': 0.033650504284265595, 'take_profit': 0.005698352658013078, 'n_shares': 59}. Best is trial 10 with value: 614134.5168210119.\n",
      "[I 2024-03-08 11:38:02,491] Trial 21 finished with value: 536961.4201851411 and parameters: {'stop_loss': 0.013922209789240449, 'take_profit': 0.04792586041641446, 'n_shares': 6}. Best is trial 10 with value: 614134.5168210119.\n",
      "[I 2024-03-08 11:38:04,126] Trial 22 finished with value: 120.34931319036878 and parameters: {'stop_loss': 0.016486060972427437, 'take_profit': 0.035103272643599595, 'n_shares': 26}. Best is trial 10 with value: 614134.5168210119.\n",
      "[I 2024-03-08 11:38:06,531] Trial 23 finished with value: 228269.03364187645 and parameters: {'stop_loss': 0.024761565242584098, 'take_profit': 0.0411624731904543, 'n_shares': 10}. Best is trial 10 with value: 614134.5168210119.\n",
      "[I 2024-03-08 11:38:07,838] Trial 24 finished with value: 25.266363587817068 and parameters: {'stop_loss': 0.008212986894547167, 'take_profit': 0.04584077914496872, 'n_shares': 43}. Best is trial 10 with value: 614134.5168210119.\n",
      "[I 2024-03-08 11:38:10,235] Trial 25 finished with value: 614134.5168210119 and parameters: {'stop_loss': 0.016359138373385623, 'take_profit': 0.04988460336534244, 'n_shares': 5}. Best is trial 10 with value: 614134.5168210119.\n",
      "[I 2024-03-08 11:38:11,795] Trial 26 finished with value: 40.84213590120453 and parameters: {'stop_loss': 0.019938422088472758, 'take_profit': 0.040321986909405354, 'n_shares': 27}. Best is trial 10 with value: 614134.5168210119.\n",
      "[I 2024-03-08 11:38:12,883] Trial 27 finished with value: 74.82417230587089 and parameters: {'stop_loss': 0.027913877360206736, 'take_profit': 0.025518574598341125, 'n_shares': 74}. Best is trial 10 with value: 614134.5168210119.\n",
      "[I 2024-03-08 11:38:14,117] Trial 28 finished with value: -33.892865430532765 and parameters: {'stop_loss': 0.043006175775092734, 'take_profit': 0.04622811998196932, 'n_shares': 49}. Best is trial 10 with value: 614134.5168210119.\n",
      "[I 2024-03-08 11:38:15,761] Trial 29 finished with value: 55.30888270017067 and parameters: {'stop_loss': 0.033535957120384326, 'take_profit': 0.04992424037601913, 'n_shares': 24}. Best is trial 10 with value: 614134.5168210119.\n",
      "[I 2024-03-08 11:38:15,762] A new study created in memory with name: no-name-2fce0ff9-e478-4c90-8af2-ec467c7334b4\n",
      "[I 2024-03-08 11:38:16,733] Trial 0 finished with value: -98.47345099537961 and parameters: {'stop_loss': 0.048938528971947406, 'take_profit': 0.016350988362207934, 'n_shares': 80}. Best is trial 0 with value: -98.47345099537961.\n",
      "[I 2024-03-08 11:38:17,618] Trial 1 finished with value: -209.68046513806257 and parameters: {'stop_loss': 0.0414461318981942, 'take_profit': 0.033685435547909356, 'n_shares': 130}. Best is trial 0 with value: -98.47345099537961.\n",
      "[I 2024-03-08 11:38:18,527] Trial 2 finished with value: -127.0206620018107 and parameters: {'stop_loss': 0.003971441547868101, 'take_profit': 0.049439306055378954, 'n_shares': 110}. Best is trial 0 with value: -98.47345099537961.\n",
      "[I 2024-03-08 11:38:19,728] Trial 3 finished with value: 66.32689039987235 and parameters: {'stop_loss': 0.045460522810395664, 'take_profit': 0.0068389251939109195, 'n_shares': 38}. Best is trial 3 with value: 66.32689039987235.\n",
      "[I 2024-03-08 11:38:20,706] Trial 4 finished with value: -6.308763802664544 and parameters: {'stop_loss': 0.038100387816398594, 'take_profit': 0.010214778996553382, 'n_shares': 78}. Best is trial 3 with value: 66.32689039987235.\n",
      "[I 2024-03-08 11:38:21,568] Trial 5 finished with value: -158.23881399695892 and parameters: {'stop_loss': 0.03050570545857284, 'take_profit': 0.012766719915613475, 'n_shares': 152}. Best is trial 3 with value: 66.32689039987235.\n",
      "[I 2024-03-08 11:38:22,462] Trial 6 finished with value: 31.15669448978406 and parameters: {'stop_loss': 0.013700363179126434, 'take_profit': 0.04895074550703772, 'n_shares': 120}. Best is trial 3 with value: 66.32689039987235.\n",
      "[I 2024-03-08 11:38:23,316] Trial 7 finished with value: -333.81858199738053 and parameters: {'stop_loss': 0.03251103442126558, 'take_profit': 0.003947417296280092, 'n_shares': 168}. Best is trial 3 with value: 66.32689039987235.\n",
      "[I 2024-03-08 11:38:24,175] Trial 8 finished with value: -37.74677959678229 and parameters: {'stop_loss': 0.035291496737473504, 'take_profit': 0.029306974230799438, 'n_shares': 164}. Best is trial 3 with value: 66.32689039987235.\n",
      "[I 2024-03-08 11:38:25,032] Trial 9 finished with value: -37.74677959678229 and parameters: {'stop_loss': 0.033221733030783275, 'take_profit': 0.009364990495048752, 'n_shares': 164}. Best is trial 3 with value: 66.32689039987235.\n",
      "[I 2024-03-08 11:38:27,933] Trial 10 finished with value: 278482.47126401466 and parameters: {'stop_loss': 0.047431683683745285, 'take_profit': 0.020026244805713807, 'n_shares': 5}. Best is trial 10 with value: 278482.47126401466.\n",
      "[I 2024-03-08 11:38:29,746] Trial 11 finished with value: 125.75460139795587 and parameters: {'stop_loss': 0.049385931271427846, 'take_profit': 0.022121865403129777, 'n_shares': 15}. Best is trial 10 with value: 278482.47126401466.\n",
      "[I 2024-03-08 11:38:32,626] Trial 12 finished with value: 113.96420790896161 and parameters: {'stop_loss': 0.021161086447396497, 'take_profit': 0.021227855086194004, 'n_shares': 7}. Best is trial 10 with value: 278482.47126401466.\n",
      "[I 2024-03-08 11:38:35,220] Trial 13 finished with value: 113.79228677830065 and parameters: {'stop_loss': 0.049780681709987354, 'take_profit': 0.023944631056525844, 'n_shares': 8}. Best is trial 10 with value: 278482.47126401466.\n",
      "[I 2024-03-08 11:38:36,391] Trial 14 finished with value: 49.45327653957793 and parameters: {'stop_loss': 0.04161012026247626, 'take_profit': 0.03579600081324917, 'n_shares': 41}. Best is trial 10 with value: 278482.47126401466.\n",
      "[I 2024-03-08 11:38:37,564] Trial 15 finished with value: 49.45327653957793 and parameters: {'stop_loss': 0.023143145603822128, 'take_profit': 0.018496814296713522, 'n_shares': 41}. Best is trial 10 with value: 278482.47126401466.\n",
      "[I 2024-03-08 11:38:38,590] Trial 16 finished with value: -12.13343037838058 and parameters: {'stop_loss': 0.042552462582986596, 'take_profit': 0.026881004414530774, 'n_shares': 65}. Best is trial 10 with value: 278482.47126401466.\n",
      "[I 2024-03-08 11:38:40,090] Trial 17 finished with value: 126.9513205503331 and parameters: {'stop_loss': 0.01706083173716094, 'take_profit': 0.03956128075679123, 'n_shares': 22}. Best is trial 10 with value: 278482.47126401466.\n",
      "[I 2024-03-08 11:38:41,127] Trial 18 finished with value: 86.08516027557926 and parameters: {'stop_loss': 0.01614470521535361, 'take_profit': 0.0417765189287648, 'n_shares': 62}. Best is trial 10 with value: 278482.47126401466.\n",
      "[I 2024-03-08 11:38:42,468] Trial 19 finished with value: 72.10349792601028 and parameters: {'stop_loss': 0.009314525261070716, 'take_profit': 0.04074596705816635, 'n_shares': 29}. Best is trial 10 with value: 278482.47126401466.\n",
      "[I 2024-03-08 11:38:43,311] Trial 20 finished with value: 77.09381101515464 and parameters: {'stop_loss': 0.02728405749738333, 'take_profit': 0.03306039444986625, 'n_shares': 197}. Best is trial 10 with value: 278482.47126401466.\n",
      "[I 2024-03-08 11:38:44,920] Trial 21 finished with value: 90.49357583441724 and parameters: {'stop_loss': 0.018305948029227807, 'take_profit': 0.016089945735603666, 'n_shares': 19}. Best is trial 10 with value: 278482.47126401466.\n",
      "[I 2024-03-08 11:38:46,392] Trial 22 finished with value: 113.12230220506763 and parameters: {'stop_loss': 0.045982480694275005, 'take_profit': 0.024213877901802704, 'n_shares': 23}. Best is trial 10 with value: 278482.47126401466.\n",
      "[I 2024-03-08 11:38:47,479] Trial 23 finished with value: 97.80860344729899 and parameters: {'stop_loss': 0.010652722302073725, 'take_profit': 0.02923627968709376, 'n_shares': 52}. Best is trial 10 with value: 278482.47126401466.\n",
      "[I 2024-03-08 11:38:50,362] Trial 24 finished with value: 134178.96551674377 and parameters: {'stop_loss': 0.025303072057036413, 'take_profit': 0.020726437430879933, 'n_shares': 6}. Best is trial 10 with value: 278482.47126401466.\n",
      "[I 2024-03-08 11:38:53,218] Trial 25 finished with value: 113.96420790896161 and parameters: {'stop_loss': 0.02596302811896628, 'take_profit': 0.040910194269100385, 'n_shares': 7}. Best is trial 10 with value: 278482.47126401466.\n",
      "[I 2024-03-08 11:38:54,558] Trial 26 finished with value: 72.10349792601028 and parameters: {'stop_loss': 0.020926399196688143, 'take_profit': 0.01958091187759685, 'n_shares': 29}. Best is trial 10 with value: 278482.47126401466.\n",
      "[I 2024-03-08 11:38:55,537] Trial 27 finished with value: -104.77532926765707 and parameters: {'stop_loss': 0.02813004480846373, 'take_profit': 0.045102738904456645, 'n_shares': 77}. Best is trial 10 with value: 278482.47126401466.\n",
      "[I 2024-03-08 11:38:56,501] Trial 28 finished with value: 34.053937230664815 and parameters: {'stop_loss': 0.023572762061779114, 'take_profit': 0.013958059915967682, 'n_shares': 94}. Best is trial 10 with value: 278482.47126401466.\n",
      "[I 2024-03-08 11:38:57,595] Trial 29 finished with value: 97.80860344729899 and parameters: {'stop_loss': 0.004406529699787103, 'take_profit': 0.01672359021718291, 'n_shares': 52}. Best is trial 10 with value: 278482.47126401466.\n",
      "[I 2024-03-08 11:38:57,595] A new study created in memory with name: no-name-102d2593-9b1e-47d3-93d4-177cab101844\n",
      "[I 2024-03-08 11:38:58,464] Trial 0 finished with value: 21.486709431686904 and parameters: {'stop_loss': 0.040145292953562076, 'take_profit': 0.039928455959532684, 'n_shares': 182}. Best is trial 0 with value: 21.486709431686904.\n",
      "[I 2024-03-08 11:38:59,329] Trial 1 finished with value: -111.80918543795269 and parameters: {'stop_loss': 0.03563248526228364, 'take_profit': 0.003913734086602278, 'n_shares': 177}. Best is trial 0 with value: 21.486709431686904.\n",
      "[I 2024-03-08 11:39:00,226] Trial 2 finished with value: -80.42340799582234 and parameters: {'stop_loss': 0.02426122326583519, 'take_profit': 0.016652634163409886, 'n_shares': 132}. Best is trial 0 with value: 21.486709431686904.\n",
      "[I 2024-03-08 11:39:01,311] Trial 3 finished with value: 74.8094339635445 and parameters: {'stop_loss': 0.0438565201131485, 'take_profit': 0.04940075033565331, 'n_shares': 61}. Best is trial 3 with value: 74.8094339635445.\n",
      "[I 2024-03-08 11:39:02,195] Trial 4 finished with value: -43.37550102204477 and parameters: {'stop_loss': 0.023702058303391685, 'take_profit': 0.04042992693629049, 'n_shares': 153}. Best is trial 3 with value: 74.8094339635445.\n",
      "[I 2024-03-08 11:39:03,087] Trial 5 finished with value: -91.779070308472 and parameters: {'stop_loss': 0.021367506151590856, 'take_profit': 0.02977292298811902, 'n_shares': 143}. Best is trial 3 with value: 74.8094339635445.\n",
      "[I 2024-03-08 11:39:04,074] Trial 6 finished with value: 13.849978876878595 and parameters: {'stop_loss': 0.0490552542603209, 'take_profit': 0.012665333003780678, 'n_shares': 85}. Best is trial 3 with value: 74.8094339635445.\n",
      "[I 2024-03-08 11:39:06,283] Trial 7 finished with value: 104.94658300274887 and parameters: {'stop_loss': 0.010783230607829807, 'take_profit': 0.016045033232531983, 'n_shares': 13}. Best is trial 7 with value: 104.94658300274887.\n",
      "[I 2024-03-08 11:39:07,211] Trial 8 finished with value: -232.24293019637116 and parameters: {'stop_loss': 0.022808638504659428, 'take_profit': 0.02081088519816963, 'n_shares': 119}. Best is trial 7 with value: 104.94658300274887.\n",
      "[I 2024-03-08 11:39:08,881] Trial 9 finished with value: 77.5693597500217 and parameters: {'stop_loss': 0.013305244353823551, 'take_profit': 0.028992648329208604, 'n_shares': 21}. Best is trial 7 with value: 104.94658300274887.\n",
      "[I 2024-03-08 11:39:11,096] Trial 10 finished with value: 104.94658300274887 and parameters: {'stop_loss': 0.006221989320516028, 'take_profit': 0.003409289070175299, 'n_shares': 13}. Best is trial 7 with value: 104.94658300274887.\n",
      "[I 2024-03-08 11:39:14,214] Trial 11 finished with value: 369177.83195570216 and parameters: {'stop_loss': 0.0037498370949342608, 'take_profit': 0.002713228560609928, 'n_shares': 5}. Best is trial 11 with value: 369177.83195570216.\n",
      "[I 2024-03-08 11:39:15,396] Trial 12 finished with value: 85.74680347840967 and parameters: {'stop_loss': 0.0032237785395946928, 'take_profit': 0.009720449700751352, 'n_shares': 46}. Best is trial 11 with value: 369177.83195570216.\n",
      "[I 2024-03-08 11:39:18,493] Trial 13 finished with value: 115.66216468066432 and parameters: {'stop_loss': 0.011740304121031605, 'take_profit': 0.010100035490246535, 'n_shares': 8}. Best is trial 11 with value: 369177.83195570216.\n",
      "[I 2024-03-08 11:39:19,592] Trial 14 finished with value: 91.87502223477713 and parameters: {'stop_loss': 0.013721641137242967, 'take_profit': 0.007054132012814861, 'n_shares': 58}. Best is trial 11 with value: 369177.83195570216.\n",
      "[I 2024-03-08 11:39:20,886] Trial 15 finished with value: 111.87245869430808 and parameters: {'stop_loss': 0.00876061258066947, 'take_profit': 0.023988678170948564, 'n_shares': 37}. Best is trial 11 with value: 369177.83195570216.\n",
      "[I 2024-03-08 11:39:21,884] Trial 16 finished with value: 26.33841628418304 and parameters: {'stop_loss': 0.0163380636850338, 'take_profit': 0.010826881408099497, 'n_shares': 81}. Best is trial 11 with value: 369177.83195570216.\n",
      "[I 2024-03-08 11:39:25,007] Trial 17 finished with value: 116848.9647378673 and parameters: {'stop_loss': 0.03154498250684662, 'take_profit': 0.003373811379534639, 'n_shares': 7}. Best is trial 11 with value: 369177.83195570216.\n",
      "[I 2024-03-08 11:39:26,349] Trial 18 finished with value: 32.69119362823312 and parameters: {'stop_loss': 0.03284728441759313, 'take_profit': 0.0035131412317373385, 'n_shares': 34}. Best is trial 11 with value: 369177.83195570216.\n",
      "[I 2024-03-08 11:39:27,338] Trial 19 finished with value: 24.154793709803926 and parameters: {'stop_loss': 0.030356697806054083, 'take_profit': 0.017984610538809384, 'n_shares': 86}. Best is trial 11 with value: 369177.83195570216.\n",
      "[I 2024-03-08 11:39:28,409] Trial 20 finished with value: 118.66692560448337 and parameters: {'stop_loss': 0.017152132127492083, 'take_profit': 0.033272316478851975, 'n_shares': 64}. Best is trial 11 with value: 369177.83195570216.\n",
      "[I 2024-03-08 11:39:29,492] Trial 21 finished with value: 80.15037302280234 and parameters: {'stop_loss': 0.01806680284092695, 'take_profit': 0.03447153337497422, 'n_shares': 62}. Best is trial 11 with value: 369177.83195570216.\n",
      "[I 2024-03-08 11:39:30,859] Trial 22 finished with value: 23.7315463447776 and parameters: {'stop_loss': 0.028485407636171304, 'take_profit': 0.03701341284270717, 'n_shares': 33}. Best is trial 11 with value: 369177.83195570216.\n",
      "[I 2024-03-08 11:39:31,813] Trial 23 finished with value: 3.0293300022767653 and parameters: {'stop_loss': 0.0030361608162195186, 'take_profit': 0.04711567824675733, 'n_shares': 100}. Best is trial 11 with value: 369177.83195570216.\n",
      "[I 2024-03-08 11:39:33,380] Trial 24 finished with value: 90.03634389552826 and parameters: {'stop_loss': 0.03755103654064087, 'take_profit': 0.03170041794951457, 'n_shares': 24}. Best is trial 11 with value: 369177.83195570216.\n",
      "[I 2024-03-08 11:39:34,532] Trial 25 finished with value: 54.04168630067488 and parameters: {'stop_loss': 0.019977282747795352, 'take_profit': 0.024578846686045146, 'n_shares': 54}. Best is trial 11 with value: 369177.83195570216.\n",
      "[I 2024-03-08 11:39:35,561] Trial 26 finished with value: 5.756666873683571 and parameters: {'stop_loss': 0.02827878149748834, 'take_profit': 0.007354826917164991, 'n_shares': 75}. Best is trial 11 with value: 369177.83195570216.\n",
      "[I 2024-03-08 11:39:38,698] Trial 27 finished with value: 243013.39834677218 and parameters: {'stop_loss': 0.016130151907417737, 'take_profit': 0.04367601182077875, 'n_shares': 6}. Best is trial 11 with value: 369177.83195570216.\n",
      "[I 2024-03-08 11:39:41,821] Trial 28 finished with value: 116848.9647378673 and parameters: {'stop_loss': 0.007258359907321295, 'take_profit': 0.04170569826322922, 'n_shares': 7}. Best is trial 11 with value: 369177.83195570216.\n",
      "[I 2024-03-08 11:39:43,301] Trial 29 finished with value: 75.4309003486751 and parameters: {'stop_loss': 0.04181529574121702, 'take_profit': 0.043390558899703675, 'n_shares': 27}. Best is trial 11 with value: 369177.83195570216.\n",
      "[I 2024-03-08 11:39:43,302] A new study created in memory with name: no-name-c6849717-2eeb-4f94-a2ca-bb5e457e73f3\n",
      "[I 2024-03-08 11:39:44,210] Trial 0 finished with value: -264.92278579626327 and parameters: {'stop_loss': 0.015598197087010844, 'take_profit': 0.023871541577658494, 'n_shares': 126}. Best is trial 0 with value: -264.92278579626327.\n",
      "[I 2024-03-08 11:39:46,226] Trial 1 finished with value: 106.5281655827539 and parameters: {'stop_loss': 0.042525446293596406, 'take_profit': 0.032181871715005354, 'n_shares': 14}. Best is trial 1 with value: 106.5281655827539.\n",
      "[I 2024-03-08 11:39:47,121] Trial 2 finished with value: -244.84829762351728 and parameters: {'stop_loss': 0.02438715470846084, 'take_profit': 0.019666545436391958, 'n_shares': 133}. Best is trial 1 with value: 106.5281655827539.\n",
      "[I 2024-03-08 11:39:47,998] Trial 3 finished with value: -368.4672321267899 and parameters: {'stop_loss': 0.03850421056350063, 'take_profit': 0.03515644510468995, 'n_shares': 155}. Best is trial 1 with value: 106.5281655827539.\n",
      "[I 2024-03-08 11:39:49,101] Trial 4 finished with value: 52.03745010047351 and parameters: {'stop_loss': 0.03392751954302917, 'take_profit': 0.021962481018461148, 'n_shares': 56}. Best is trial 1 with value: 106.5281655827539.\n",
      "[I 2024-03-08 11:39:50,883] Trial 5 finished with value: 95.54135772326845 and parameters: {'stop_loss': 0.046504662945743645, 'take_profit': 0.005625227572136574, 'n_shares': 18}. Best is trial 1 with value: 106.5281655827539.\n",
      "[I 2024-03-08 11:39:52,060] Trial 6 finished with value: -13.130869846408132 and parameters: {'stop_loss': 0.009496650163463469, 'take_profit': 0.03226414111646448, 'n_shares': 46}. Best is trial 1 with value: 106.5281655827539.\n",
      "[I 2024-03-08 11:39:52,933] Trial 7 finished with value: -285.39810724644485 and parameters: {'stop_loss': 0.022998370369000147, 'take_profit': 0.024071315686537923, 'n_shares': 159}. Best is trial 1 with value: 106.5281655827539.\n",
      "[I 2024-03-08 11:39:53,830] Trial 8 finished with value: -202.66962142706325 and parameters: {'stop_loss': 0.04254617860915616, 'take_profit': 0.035729464770446334, 'n_shares': 135}. Best is trial 1 with value: 106.5281655827539.\n",
      "[I 2024-03-08 11:39:54,850] Trial 9 finished with value: -43.19862516612011 and parameters: {'stop_loss': 0.040534627923025486, 'take_profit': 0.030383634969633616, 'n_shares': 73}. Best is trial 1 with value: 106.5281655827539.\n",
      "[I 2024-03-08 11:39:57,046] Trial 10 finished with value: 112.33450614547769 and parameters: {'stop_loss': 0.030949987797601285, 'take_profit': 0.048054262579539805, 'n_shares': 12}. Best is trial 10 with value: 112.33450614547769.\n",
      "[I 2024-03-08 11:40:00,234] Trial 11 finished with value: 134514.0007385704 and parameters: {'stop_loss': 0.031483023767914606, 'take_profit': 0.04971472489149194, 'n_shares': 6}. Best is trial 11 with value: 134514.0007385704.\n",
      "[I 2024-03-08 11:40:01,090] Trial 12 finished with value: -92.3049075020499 and parameters: {'stop_loss': 0.03142769686027912, 'take_profit': 0.049706487382452196, 'n_shares': 200}. Best is trial 11 with value: 134514.0007385704.\n",
      "[I 2024-03-08 11:40:02,426] Trial 13 finished with value: 50.30636370213051 and parameters: {'stop_loss': 0.0299475373543054, 'take_profit': 0.04645425081570292, 'n_shares': 34}. Best is trial 11 with value: 134514.0007385704.\n",
      "[I 2024-03-08 11:40:03,404] Trial 14 finished with value: -35.60817489401779 and parameters: {'stop_loss': 0.017631094674187657, 'take_profit': 0.04117637331442691, 'n_shares': 88}. Best is trial 11 with value: 134514.0007385704.\n",
      "[I 2024-03-08 11:40:06,041] Trial 15 finished with value: 123.95755060039323 and parameters: {'stop_loss': 0.004085970358740677, 'take_profit': 0.042667930700999536, 'n_shares': 9}. Best is trial 11 with value: 134514.0007385704.\n",
      "[I 2024-03-08 11:40:07,087] Trial 16 finished with value: 10.404377655901953 and parameters: {'stop_loss': 0.006339180971130738, 'take_profit': 0.04163143978769064, 'n_shares': 68}. Best is trial 11 with value: 134514.0007385704.\n",
      "[I 2024-03-08 11:40:10,275] Trial 17 finished with value: 278761.6672821997 and parameters: {'stop_loss': 0.019127103259071552, 'take_profit': 0.042954383662430116, 'n_shares': 5}. Best is trial 17 with value: 278761.6672821997.\n",
      "[I 2024-03-08 11:40:11,618] Trial 18 finished with value: 50.94445143075609 and parameters: {'stop_loss': 0.01670615237866679, 'take_profit': 0.010652822949056338, 'n_shares': 33}. Best is trial 17 with value: 278761.6672821997.\n",
      "[I 2024-03-08 11:40:12,590] Trial 19 finished with value: -21.261925224187507 and parameters: {'stop_loss': 0.021059943248321708, 'take_profit': 0.03916621540604395, 'n_shares': 90}. Best is trial 17 with value: 278761.6672821997.\n",
      "[I 2024-03-08 11:40:13,816] Trial 20 finished with value: 38.87619482430273 and parameters: {'stop_loss': 0.011288028643335215, 'take_profit': 0.016310937538697962, 'n_shares': 42}. Best is trial 17 with value: 278761.6672821997.\n",
      "[I 2024-03-08 11:40:17,031] Trial 21 finished with value: 278761.6672821997 and parameters: {'stop_loss': 0.003978657575396292, 'take_profit': 0.04445895923462877, 'n_shares': 5}. Best is trial 17 with value: 278761.6672821997.\n",
      "[I 2024-03-08 11:40:18,433] Trial 22 finished with value: 36.91591228778725 and parameters: {'stop_loss': 0.027007477685724753, 'take_profit': 0.04530759251200505, 'n_shares': 30}. Best is trial 17 with value: 278761.6672821997.\n",
      "[I 2024-03-08 11:40:21,598] Trial 23 finished with value: 114.37623499726908 and parameters: {'stop_loss': 0.011595438175545595, 'take_profit': 0.04430076679699483, 'n_shares': 7}. Best is trial 17 with value: 278761.6672821997.\n",
      "[I 2024-03-08 11:40:22,706] Trial 24 finished with value: -13.023311518945775 and parameters: {'stop_loss': 0.03486811157101269, 'take_profit': 0.038734075237409946, 'n_shares': 55}. Best is trial 17 with value: 278761.6672821997.\n",
      "[I 2024-03-08 11:40:24,166] Trial 25 finished with value: 49.98793195912003 and parameters: {'stop_loss': 0.0029191165310204457, 'take_profit': 0.04820838177158099, 'n_shares': 27}. Best is trial 17 with value: 278761.6672821997.\n",
      "[I 2024-03-08 11:40:25,738] Trial 26 finished with value: 68.8177788324524 and parameters: {'stop_loss': 0.02822247655249103, 'take_profit': 0.03641789723271183, 'n_shares': 23}. Best is trial 17 with value: 278761.6672821997.\n",
      "[I 2024-03-08 11:40:28,925] Trial 27 finished with value: 278761.6672821997 and parameters: {'stop_loss': 0.0196151998600864, 'take_profit': 0.04992930029075931, 'n_shares': 5}. Best is trial 17 with value: 278761.6672821997.\n",
      "[I 2024-03-08 11:40:29,860] Trial 28 finished with value: 95.11410774025171 and parameters: {'stop_loss': 0.019963917484622958, 'take_profit': 0.02800443663569662, 'n_shares': 109}. Best is trial 17 with value: 278761.6672821997.\n",
      "[I 2024-03-08 11:40:31,027] Trial 29 finished with value: 75.62086420540709 and parameters: {'stop_loss': 0.007940128115227485, 'take_profit': 0.04510462277438362, 'n_shares': 48}. Best is trial 17 with value: 278761.6672821997.\n",
      "[I 2024-03-08 11:40:31,027] A new study created in memory with name: no-name-213eb47b-db6b-4d27-9a0e-5687ef51cddb\n",
      "[I 2024-03-08 11:40:31,881] Trial 0 finished with value: -376.3598617235475 and parameters: {'stop_loss': 0.014481969686660524, 'take_profit': 0.03737269610533293, 'n_shares': 198}. Best is trial 0 with value: -376.3598617235475.\n",
      "[I 2024-03-08 11:40:35,088] Trial 1 finished with value: 120.55605024586146 and parameters: {'stop_loss': 0.028406944903625775, 'take_profit': 0.040013825579231097, 'n_shares': 7}. Best is trial 1 with value: 120.55605024586146.\n",
      "[I 2024-03-08 11:40:36,334] Trial 2 finished with value: 64.69892599163632 and parameters: {'stop_loss': 0.04170889468707432, 'take_profit': 0.047382795189534865, 'n_shares': 40}. Best is trial 1 with value: 120.55605024586146.\n",
      "[I 2024-03-08 11:40:37,488] Trial 3 finished with value: -1.528747515093528 and parameters: {'stop_loss': 0.04493581598793488, 'take_profit': 0.03431798183523817, 'n_shares': 50}. Best is trial 1 with value: 120.55605024586146.\n",
      "[I 2024-03-08 11:40:38,350] Trial 4 finished with value: -98.66928953345268 and parameters: {'stop_loss': 0.030104024282750143, 'take_profit': 0.023526186554652072, 'n_shares': 183}. Best is trial 1 with value: 120.55605024586146.\n",
      "[I 2024-03-08 11:40:39,481] Trial 5 finished with value: 72.23453470068307 and parameters: {'stop_loss': 0.021496943090993443, 'take_profit': 0.03807173440506383, 'n_shares': 54}. Best is trial 1 with value: 120.55605024586146.\n",
      "[I 2024-03-08 11:40:40,475] Trial 6 finished with value: -119.01637596475484 and parameters: {'stop_loss': 0.029123457822778538, 'take_profit': 0.014555031103527917, 'n_shares': 83}. Best is trial 1 with value: 120.55605024586146.\n",
      "[I 2024-03-08 11:40:41,487] Trial 7 finished with value: 54.846290581484936 and parameters: {'stop_loss': 0.03237659132009738, 'take_profit': 0.047292279932598984, 'n_shares': 77}. Best is trial 1 with value: 120.55605024586146.\n",
      "[I 2024-03-08 11:40:44,686] Trial 8 finished with value: 120.55605024586146 and parameters: {'stop_loss': 0.03601797712943403, 'take_profit': 0.04709066236774196, 'n_shares': 7}. Best is trial 1 with value: 120.55605024586146.\n",
      "[I 2024-03-08 11:40:47,922] Trial 9 finished with value: 134170.30911544486 and parameters: {'stop_loss': 0.0456704084543719, 'take_profit': 0.03001165262597993, 'n_shares': 6}. Best is trial 9 with value: 134170.30911544486.\n",
      "[I 2024-03-08 11:40:48,834] Trial 10 finished with value: -43.95039817727593 and parameters: {'stop_loss': 0.04953350781806014, 'take_profit': 0.003317485962210563, 'n_shares': 135}. Best is trial 9 with value: 134170.30911544486.\n",
      "[I 2024-03-08 11:40:50,747] Trial 11 finished with value: 77.9386018112832 and parameters: {'stop_loss': 0.008452412563260521, 'take_profit': 0.027287466667193915, 'n_shares': 16}. Best is trial 9 with value: 134170.30911544486.\n",
      "[I 2024-03-08 11:40:51,654] Trial 12 finished with value: -36.86621959515105 and parameters: {'stop_loss': 0.02109126024809853, 'take_profit': 0.028297086219599664, 'n_shares': 132}. Best is trial 9 with value: 134170.30911544486.\n",
      "[I 2024-03-08 11:40:54,882] Trial 13 finished with value: 134170.30911544486 and parameters: {'stop_loss': 0.003613209513928895, 'take_profit': 0.019659104739354376, 'n_shares': 6}. Best is trial 9 with value: 134170.30911544486.\n",
      "[I 2024-03-08 11:40:56,257] Trial 14 finished with value: 56.507313606487514 and parameters: {'stop_loss': 0.00665107541422939, 'take_profit': 0.01816766512525373, 'n_shares': 32}. Best is trial 9 with value: 134170.30911544486.\n",
      "[I 2024-03-08 11:40:57,200] Trial 15 finished with value: 10.25573992315367 and parameters: {'stop_loss': 0.0027891054690440337, 'take_profit': 0.010901994267339754, 'n_shares': 106}. Best is trial 9 with value: 134170.30911544486.\n",
      "[I 2024-03-08 11:40:58,243] Trial 16 finished with value: -57.10093679300735 and parameters: {'stop_loss': 0.016421615095334033, 'take_profit': 0.02116376012503096, 'n_shares': 71}. Best is trial 9 with value: 134170.30911544486.\n",
      "[I 2024-03-08 11:40:59,652] Trial 17 finished with value: 109.8654636630863 and parameters: {'stop_loss': 0.03798250299893832, 'take_profit': 0.03154240858545636, 'n_shares': 30}. Best is trial 9 with value: 134170.30911544486.\n",
      "[I 2024-03-08 11:41:00,594] Trial 18 finished with value: -181.4248730847321 and parameters: {'stop_loss': 0.049723341201154334, 'take_profit': 0.007922423053166242, 'n_shares': 103}. Best is trial 9 with value: 134170.30911544486.\n",
      "[I 2024-03-08 11:41:01,485] Trial 19 finished with value: -99.90469024762206 and parameters: {'stop_loss': 0.02334893666059722, 'take_profit': 0.01727439080935461, 'n_shares': 149}. Best is trial 9 with value: 134170.30911544486.\n",
      "[I 2024-03-08 11:41:03,071] Trial 20 finished with value: 67.31060521903464 and parameters: {'stop_loss': 0.012570903245456993, 'take_profit': 0.024414054647748002, 'n_shares': 23}. Best is trial 9 with value: 134170.30911544486.\n",
      "[I 2024-03-08 11:41:05,972] Trial 21 finished with value: 125.83176897858812 and parameters: {'stop_loss': 0.026249019866289695, 'take_profit': 0.04133593388962084, 'n_shares': 8}. Best is trial 9 with value: 134170.30911544486.\n",
      "[I 2024-03-08 11:41:09,198] Trial 22 finished with value: 134170.30911544486 and parameters: {'stop_loss': 0.018005650591119495, 'take_profit': 0.042414737502942584, 'n_shares': 6}. Best is trial 9 with value: 134170.30911544486.\n",
      "[I 2024-03-08 11:41:10,295] Trial 23 finished with value: 20.182905726864192 and parameters: {'stop_loss': 0.018554438072085528, 'take_profit': 0.03169447988982092, 'n_shares': 59}. Best is trial 9 with value: 134170.30911544486.\n",
      "[I 2024-03-08 11:41:11,574] Trial 24 finished with value: 21.818589074847296 and parameters: {'stop_loss': 0.009838303626495806, 'take_profit': 0.019798946025949078, 'n_shares': 38}. Best is trial 9 with value: 134170.30911544486.\n",
      "[I 2024-03-08 11:41:13,192] Trial 25 finished with value: 103.51383614975839 and parameters: {'stop_loss': 0.004656870289187577, 'take_profit': 0.013377701394967138, 'n_shares': 22}. Best is trial 9 with value: 134170.30911544486.\n",
      "[I 2024-03-08 11:41:14,384] Trial 26 finished with value: 13.002105628603204 and parameters: {'stop_loss': 0.01203954872284757, 'take_profit': 0.04388698614780439, 'n_shares': 46}. Best is trial 9 with value: 134170.30911544486.\n",
      "[I 2024-03-08 11:41:17,612] Trial 27 finished with value: 278475.25759626424 and parameters: {'stop_loss': 0.033175558227883185, 'take_profit': 0.03352934019814538, 'n_shares': 5}. Best is trial 27 with value: 278475.25759626424.\n",
      "[I 2024-03-08 11:41:19,196] Trial 28 finished with value: 67.31060521903464 and parameters: {'stop_loss': 0.043331466067362025, 'take_profit': 0.03048072764310713, 'n_shares': 23}. Best is trial 27 with value: 278475.25759626424.\n",
      "[I 2024-03-08 11:41:20,056] Trial 29 finished with value: -17.9996543786001 and parameters: {'stop_loss': 0.03890731060435665, 'take_profit': 0.03467018346233206, 'n_shares': 195}. Best is trial 27 with value: 278475.25759626424.\n"
     ]
    },
    {
     "name": "stdout",
     "output_type": "stream",
     "text": [
      "278475.25759626424\n",
      "('xg',)\n",
      "{'stop_loss': 0.020799244207322022, 'take_profit': 0.049844129192893015, 'n_shares': 5}\n"
     ]
    }
   ],
   "source": [
    "file_5m = optimize_file(data_5m)\n"
   ],
   "metadata": {
    "collapsed": false,
    "ExecuteTime": {
     "end_time": "2024-03-08T17:41:20.062473Z",
     "start_time": "2024-03-08T17:36:07.248712Z"
    }
   },
   "id": "ce477352141802fd",
   "execution_count": 236
  },
  {
   "cell_type": "code",
   "outputs": [
    {
     "name": "stderr",
     "output_type": "stream",
     "text": [
      "[I 2024-03-08 11:41:20,063] A new study created in memory with name: no-name-639fdd6f-93c9-4cd2-9dd0-8e3cd8565f90\n",
      "[I 2024-03-08 11:41:20,091] Trial 0 finished with value: 915217.2753337375 and parameters: {'stop_loss': 0.028987092005307382, 'take_profit': 0.004307060665200486, 'n_shares': 93}. Best is trial 0 with value: 915217.2753337375.\n",
      "[I 2024-03-08 11:41:20,118] Trial 1 finished with value: 982678.7981864631 and parameters: {'stop_loss': 0.002843367854976402, 'take_profit': 0.045620493339248364, 'n_shares': 19}. Best is trial 1 with value: 982678.7981864631.\n",
      "[I 2024-03-08 11:41:20,145] Trial 2 finished with value: 922510.4129394366 and parameters: {'stop_loss': 0.00589461618418733, 'take_profit': 0.04230461941109366, 'n_shares': 85}. Best is trial 1 with value: 982678.7981864631.\n",
      "[I 2024-03-08 11:41:20,172] Trial 3 finished with value: 981767.1559857475 and parameters: {'stop_loss': 0.0384603144640915, 'take_profit': 0.014347170113478833, 'n_shares': 20}. Best is trial 1 with value: 982678.7981864631.\n",
      "[I 2024-03-08 11:41:20,198] Trial 4 finished with value: 977208.9449821855 and parameters: {'stop_loss': 0.026032876269935442, 'take_profit': 0.048471800629959386, 'n_shares': 25}. Best is trial 1 with value: 982678.7981864631.\n",
      "[I 2024-03-08 11:41:20,223] Trial 5 finished with value: 884221.4405095124 and parameters: {'stop_loss': 0.042492418785974595, 'take_profit': 0.02091192847216412, 'n_shares': 127}. Best is trial 1 with value: 982678.7981864631.\n",
      "[I 2024-03-08 11:41:20,249] Trial 6 finished with value: 865076.9542945501 and parameters: {'stop_loss': 0.04484980420869668, 'take_profit': 0.03826996387545344, 'n_shares': 148}. Best is trial 1 with value: 982678.7981864631.\n",
      "[I 2024-03-08 11:41:20,275] Trial 7 finished with value: 868723.5230974001 and parameters: {'stop_loss': 0.013237458448572841, 'take_profit': 0.04490305977326532, 'n_shares': 144}. Best is trial 1 with value: 982678.7981864631.\n",
      "[I 2024-03-08 11:41:20,300] Trial 8 finished with value: 904277.5689251905 and parameters: {'stop_loss': 0.029381138653647963, 'take_profit': 0.03475721073169721, 'n_shares': 105}. Best is trial 1 with value: 982678.7981864631.\n",
      "[I 2024-03-08 11:41:20,325] Trial 9 finished with value: 898807.7157209126 and parameters: {'stop_loss': 0.03069729048364901, 'take_profit': 0.024017625309274922, 'n_shares': 111}. Best is trial 1 with value: 982678.7981864631.\n",
      "[I 2024-03-08 11:41:20,358] Trial 10 finished with value: 950771.321161526 and parameters: {'stop_loss': 0.004005799240501824, 'take_profit': 0.03169242267870983, 'n_shares': 54}. Best is trial 1 with value: 982678.7981864631.\n",
      "[I 2024-03-08 11:41:20,390] Trial 11 finished with value: 995441.7889964373 and parameters: {'stop_loss': 0.017346934281941343, 'take_profit': 0.0120807684592791, 'n_shares': 5}. Best is trial 11 with value: 995441.7889964373.\n",
      "[I 2024-03-08 11:41:20,423] Trial 12 finished with value: 995441.7889964373 and parameters: {'stop_loss': 0.014969098166204052, 'take_profit': 0.008197825416829238, 'n_shares': 5}. Best is trial 11 with value: 995441.7889964373.\n",
      "[I 2024-03-08 11:41:20,455] Trial 13 finished with value: 827699.6240653375 and parameters: {'stop_loss': 0.017106305737068395, 'take_profit': 0.0038770849020157098, 'n_shares': 189}. Best is trial 11 with value: 995441.7889964373.\n",
      "[I 2024-03-08 11:41:20,488] Trial 14 finished with value: 948948.0367600999 and parameters: {'stop_loss': 0.017713744964031886, 'take_profit': 0.012549143260786426, 'n_shares': 56}. Best is trial 11 with value: 995441.7889964373.\n",
      "[I 2024-03-08 11:41:20,519] Trial 15 finished with value: 994530.1467957258 and parameters: {'stop_loss': 0.011237694817700606, 'take_profit': 0.011994329037063541, 'n_shares': 6}. Best is trial 11 with value: 995441.7889964373.\n",
      "[I 2024-03-08 11:41:20,552] Trial 16 finished with value: 951682.9633622376 and parameters: {'stop_loss': 0.022013581950338975, 'take_profit': 0.016092590353438192, 'n_shares': 53}. Best is trial 11 with value: 995441.7889964373.\n",
      "[I 2024-03-08 11:41:20,584] Trial 17 finished with value: 964445.9541722119 and parameters: {'stop_loss': 0.010550832038779719, 'take_profit': 0.006847787759880295, 'n_shares': 39}. Best is trial 11 with value: 995441.7889964373.\n",
      "[I 2024-03-08 11:41:20,616] Trial 18 finished with value: 928891.908344426 and parameters: {'stop_loss': 0.021293333962821473, 'take_profit': 0.01960325970905356, 'n_shares': 78}. Best is trial 11 with value: 995441.7889964373.\n",
      "[I 2024-03-08 11:41:20,648] Trial 19 finished with value: 992706.8623942998 and parameters: {'stop_loss': 0.03510229297316448, 'take_profit': 0.008227027540617212, 'n_shares': 8}. Best is trial 11 with value: 995441.7889964373.\n",
      "[I 2024-03-08 11:41:20,680] Trial 20 finished with value: 937096.6881508377 and parameters: {'stop_loss': 0.01628870755185223, 'take_profit': 0.026863082058562145, 'n_shares': 69}. Best is trial 11 with value: 995441.7889964373.\n",
      "[I 2024-03-08 11:41:20,713] Trial 21 finished with value: 992706.8623942998 and parameters: {'stop_loss': 0.010005044509472427, 'take_profit': 0.010636213736317157, 'n_shares': 8}. Best is trial 11 with value: 995441.7889964373.\n",
      "[I 2024-03-08 11:41:20,746] Trial 22 finished with value: 968092.5229750634 and parameters: {'stop_loss': 0.008732647489573987, 'take_profit': 0.01792683872793385, 'n_shares': 35}. Best is trial 11 with value: 995441.7889964373.\n",
      "[I 2024-03-08 11:41:20,779] Trial 23 finished with value: 995441.7889964373 and parameters: {'stop_loss': 0.023555460154666624, 'take_profit': 0.009650822839994636, 'n_shares': 5}. Best is trial 11 with value: 995441.7889964373.\n",
      "[I 2024-03-08 11:41:20,812] Trial 24 finished with value: 961711.0275700743 and parameters: {'stop_loss': 0.023543053133035802, 'take_profit': 0.002708657127023924, 'n_shares': 42}. Best is trial 11 with value: 995441.7889964373.\n",
      "[I 2024-03-08 11:41:20,845] Trial 25 finished with value: 973562.3761793382 and parameters: {'stop_loss': 0.014558851971199637, 'take_profit': 0.008172476038654411, 'n_shares': 29}. Best is trial 11 with value: 995441.7889964373.\n",
      "[I 2024-03-08 11:41:20,878] Trial 26 finished with value: 828611.2662660494 and parameters: {'stop_loss': 0.04957577117175026, 'take_profit': 0.02570293177643347, 'n_shares': 188}. Best is trial 11 with value: 995441.7889964373.\n",
      "[I 2024-03-08 11:41:20,911] Trial 27 finished with value: 982678.7981864631 and parameters: {'stop_loss': 0.01946955106977398, 'take_profit': 0.01024292143999888, 'n_shares': 19}. Best is trial 11 with value: 995441.7889964373.\n",
      "[I 2024-03-08 11:41:20,944] Trial 28 finished with value: 944389.8257565377 and parameters: {'stop_loss': 0.025983869158200414, 'take_profit': 0.015081651449772127, 'n_shares': 61}. Best is trial 11 with value: 995441.7889964373.\n",
      "[I 2024-03-08 11:41:20,978] Trial 29 finished with value: 960799.3853693623 and parameters: {'stop_loss': 0.0323976551115223, 'take_profit': 0.0059353820356582475, 'n_shares': 43}. Best is trial 11 with value: 995441.7889964373.\n",
      "[I 2024-03-08 11:41:20,979] A new study created in memory with name: no-name-60d0c683-b673-442c-813d-68a632e08ec9\n",
      "[I 2024-03-08 11:41:21,004] Trial 0 finished with value: 914934.0165231306 and parameters: {'stop_loss': 0.011233391427958888, 'take_profit': 0.008134902671877947, 'n_shares': 90}. Best is trial 0 with value: 914934.0165231306.\n",
      "[I 2024-03-08 11:41:21,029] Trial 1 finished with value: 979206.092927876 and parameters: {'stop_loss': 0.029112347994118593, 'take_profit': 0.03157156367742748, 'n_shares': 22}. Best is trial 1 with value: 979206.092927876.\n",
      "[I 2024-03-08 11:41:21,054] Trial 2 finished with value: 916824.3717115002 and parameters: {'stop_loss': 0.03694836506773456, 'take_profit': 0.020648165980069952, 'n_shares': 88}. Best is trial 1 with value: 979206.092927876.\n",
      "[I 2024-03-08 11:41:21,079] Trial 3 finished with value: 978260.9153336873 and parameters: {'stop_loss': 0.006265989603884647, 'take_profit': 0.03250801150101118, 'n_shares': 23}. Best is trial 1 with value: 979206.092927876.\n",
      "[I 2024-03-08 11:41:21,104] Trial 4 finished with value: 862004.0712486263 and parameters: {'stop_loss': 0.01767024828628249, 'take_profit': 0.04818013102532854, 'n_shares': 146}. Best is trial 1 with value: 979206.092927876.\n",
      "[I 2024-03-08 11:41:21,129] Trial 5 finished with value: 898865.9974219388 and parameters: {'stop_loss': 0.022140562849488787, 'take_profit': 0.028608888741377878, 'n_shares': 107}. Best is trial 1 with value: 979206.092927876.\n",
      "[I 2024-03-08 11:41:21,154] Trial 6 finished with value: 926276.1476533755 and parameters: {'stop_loss': 0.048081904533150276, 'take_profit': 0.03183262103785763, 'n_shares': 78}. Best is trial 1 with value: 979206.092927876.\n",
      "[I 2024-03-08 11:41:21,178] Trial 7 finished with value: 964083.2514208744 and parameters: {'stop_loss': 0.009840643756395845, 'take_profit': 0.04227758339581916, 'n_shares': 38}. Best is trial 1 with value: 979206.092927876.\n",
      "[I 2024-03-08 11:41:21,203] Trial 8 finished with value: 988657.86886975 and parameters: {'stop_loss': 0.03424936869051703, 'take_profit': 0.02449920479499317, 'n_shares': 12}. Best is trial 8 with value: 988657.86886975.\n",
      "[I 2024-03-08 11:41:21,228] Trial 9 finished with value: 988657.86886975 and parameters: {'stop_loss': 0.037436414598130005, 'take_profit': 0.026984537642972997, 'n_shares': 12}. Best is trial 8 with value: 988657.86886975.\n",
      "[I 2024-03-08 11:41:21,261] Trial 10 finished with value: 822306.612292749 and parameters: {'stop_loss': 0.04671559840689901, 'take_profit': 0.014494579233224527, 'n_shares': 188}. Best is trial 8 with value: 988657.86886975.\n",
      "[I 2024-03-08 11:41:21,295] Trial 11 finished with value: 949905.5875080627 and parameters: {'stop_loss': 0.033284896154286744, 'take_profit': 0.020569486191717667, 'n_shares': 53}. Best is trial 8 with value: 988657.86886975.\n",
      "[I 2024-03-08 11:41:21,327] Trial 12 finished with value: 993383.7568406871 and parameters: {'stop_loss': 0.038464416641573664, 'take_profit': 0.021888680998948425, 'n_shares': 7}. Best is trial 12 with value: 993383.7568406871.\n",
      "[I 2024-03-08 11:41:21,361] Trial 13 finished with value: 941398.9891603751 and parameters: {'stop_loss': 0.04106068974478497, 'take_profit': 0.0037534427395869083, 'n_shares': 62}. Best is trial 12 with value: 993383.7568406871.\n",
      "[I 2024-03-08 11:41:21,394] Trial 14 finished with value: 993383.7568406871 and parameters: {'stop_loss': 0.028042825367102606, 'take_profit': 0.01928270667969434, 'n_shares': 7}. Best is trial 12 with value: 993383.7568406871.\n",
      "[I 2024-03-08 11:41:21,426] Trial 15 finished with value: 886578.6886974989 and parameters: {'stop_loss': 0.02426287504657109, 'take_profit': 0.012712828933945191, 'n_shares': 120}. Best is trial 12 with value: 993383.7568406871.\n",
      "[I 2024-03-08 11:41:21,458] Trial 16 finished with value: 954631.4754789994 and parameters: {'stop_loss': 0.028399848448889865, 'take_profit': 0.01591897891882501, 'n_shares': 48}. Best is trial 12 with value: 993383.7568406871.\n",
      "[I 2024-03-08 11:41:21,490] Trial 17 finished with value: 995274.1120290624 and parameters: {'stop_loss': 0.042624984944004136, 'take_profit': 0.037042886590987284, 'n_shares': 5}. Best is trial 17 with value: 995274.1120290624.\n",
      "[I 2024-03-08 11:41:21,523] Trial 18 finished with value: 867675.1368137503 and parameters: {'stop_loss': 0.04335565344474407, 'take_profit': 0.03882188538122763, 'n_shares': 140}. Best is trial 17 with value: 995274.1120290624.\n",
      "[I 2024-03-08 11:41:21,555] Trial 19 finished with value: 965973.6066092509 and parameters: {'stop_loss': 0.04083526966869738, 'take_profit': 0.03751486533830102, 'n_shares': 36}. Best is trial 17 with value: 995274.1120290624.\n",
      "[I 2024-03-08 11:41:21,588] Trial 20 finished with value: 824196.9674811256 and parameters: {'stop_loss': 0.04973842700567986, 'take_profit': 0.047744987651955215, 'n_shares': 186}. Best is trial 17 with value: 995274.1120290624.\n",
      "[I 2024-03-08 11:41:21,620] Trial 21 finished with value: 995274.1120290624 and parameters: {'stop_loss': 0.03134914025256677, 'take_profit': 0.02046195828644477, 'n_shares': 5}. Best is trial 17 with value: 995274.1120290624.\n",
      "[I 2024-03-08 11:41:21,653] Trial 22 finished with value: 995274.1120290624 and parameters: {'stop_loss': 0.032392468242410766, 'take_profit': 0.02429359016214656, 'n_shares': 5}. Best is trial 17 with value: 995274.1120290624.\n",
      "[I 2024-03-08 11:41:21,686] Trial 23 finished with value: 970699.4945801889 and parameters: {'stop_loss': 0.032608252397776094, 'take_profit': 0.03575714839015461, 'n_shares': 31}. Best is trial 17 with value: 995274.1120290624.\n",
      "[I 2024-03-08 11:41:21,720] Trial 24 finished with value: 942344.1667545631 and parameters: {'stop_loss': 0.0179356327243379, 'take_profit': 0.04293083920478287, 'n_shares': 61}. Best is trial 17 with value: 995274.1120290624.\n",
      "[I 2024-03-08 11:41:21,755] Trial 25 finished with value: 974480.2049569375 and parameters: {'stop_loss': 0.031069637413988223, 'take_profit': 0.026244405338235504, 'n_shares': 27}. Best is trial 17 with value: 995274.1120290624.\n",
      "[I 2024-03-08 11:41:21,790] Trial 26 finished with value: 954631.4754789994 and parameters: {'stop_loss': 0.04482606029898965, 'take_profit': 0.01084655195728986, 'n_shares': 48}. Best is trial 17 with value: 995274.1120290624.\n",
      "[I 2024-03-08 11:41:21,824] Trial 27 finished with value: 930056.8580301253 and parameters: {'stop_loss': 0.020882896919719847, 'take_profit': 0.01712594898094393, 'n_shares': 74}. Best is trial 17 with value: 995274.1120290624.\n",
      "[I 2024-03-08 11:41:21,857] Trial 28 finished with value: 981096.4481162474 and parameters: {'stop_loss': 0.03553161323375028, 'take_profit': 0.023024423349458104, 'n_shares': 20}. Best is trial 17 with value: 995274.1120290624.\n",
      "[I 2024-03-08 11:41:21,891] Trial 29 finished with value: 962192.8962325006 and parameters: {'stop_loss': 0.02555854786632083, 'take_profit': 0.008100610378835367, 'n_shares': 40}. Best is trial 17 with value: 995274.1120290624.\n",
      "[I 2024-03-08 11:41:21,892] A new study created in memory with name: no-name-aa25b7ee-d137-4180-b577-352557481793\n",
      "[I 2024-03-08 11:41:21,914] Trial 0 finished with value: 975547.7216916755 and parameters: {'stop_loss': 0.016280579881322182, 'take_profit': 0.04997756467775757, 'n_shares': 49}. Best is trial 0 with value: 975547.7216916755.\n",
      "[I 2024-03-08 11:41:21,936] Trial 1 finished with value: 971056.4869003493 and parameters: {'stop_loss': 0.02156643600858784, 'take_profit': 0.04305393567710324, 'n_shares': 58}. Best is trial 0 with value: 975547.7216916755.\n",
      "[I 2024-03-08 11:41:21,959] Trial 2 finished with value: 942112.9738007004 and parameters: {'stop_loss': 0.028879065656160746, 'take_profit': 0.010710482486045586, 'n_shares': 116}. Best is trial 0 with value: 975547.7216916755.\n",
      "[I 2024-03-08 11:41:21,981] Trial 3 finished with value: 950596.4172954255 and parameters: {'stop_loss': 0.004448874386272013, 'take_profit': 0.047511495601937626, 'n_shares': 99}. Best is trial 0 with value: 975547.7216916755.\n",
      "[I 2024-03-08 11:41:22,003] Trial 4 finished with value: 971056.4869003493 and parameters: {'stop_loss': 0.03912969570809978, 'take_profit': 0.007295812482106858, 'n_shares': 58}. Best is trial 0 with value: 975547.7216916755.\n",
      "[I 2024-03-08 11:41:22,027] Trial 5 finished with value: 932132.4520421997 and parameters: {'stop_loss': 0.03447487836076755, 'take_profit': 0.0277957413121946, 'n_shares': 136}. Best is trial 0 with value: 975547.7216916755.\n",
      "[I 2024-03-08 11:41:22,050] Trial 6 finished with value: 909177.251997651 and parameters: {'stop_loss': 0.005227042276382697, 'take_profit': 0.028621502347616512, 'n_shares': 182}. Best is trial 0 with value: 975547.7216916755.\n",
      "[I 2024-03-08 11:41:22,074] Trial 7 finished with value: 947103.234679949 and parameters: {'stop_loss': 0.019439074064358762, 'take_profit': 0.015482449765799806, 'n_shares': 106}. Best is trial 0 with value: 975547.7216916755.\n",
      "[I 2024-03-08 11:41:22,096] Trial 8 finished with value: 916662.6433165252 and parameters: {'stop_loss': 0.02166538399660496, 'take_profit': 0.00915754721950652, 'n_shares': 167}. Best is trial 0 with value: 975547.7216916755.\n",
      "[I 2024-03-08 11:41:22,119] Trial 9 finished with value: 955586.6781746753 and parameters: {'stop_loss': 0.02766934662515047, 'take_profit': 0.03092953737857931, 'n_shares': 89}. Best is trial 0 with value: 975547.7216916755.\n",
      "[I 2024-03-08 11:41:22,149] Trial 10 finished with value: 993512.6608569752 and parameters: {'stop_loss': 0.04965769583033301, 'take_profit': 0.03760419502471177, 'n_shares': 13}. Best is trial 10 with value: 993512.6608569752.\n",
      "[I 2024-03-08 11:41:22,179] Trial 11 finished with value: 995009.7391207514 and parameters: {'stop_loss': 0.04908102708117153, 'take_profit': 0.03951252663367196, 'n_shares': 10}. Best is trial 11 with value: 995009.7391207514.\n",
      "[I 2024-03-08 11:41:22,209] Trial 12 finished with value: 995508.7652086745 and parameters: {'stop_loss': 0.04986040021397645, 'take_profit': 0.03713644283343404, 'n_shares': 9}. Best is trial 12 with value: 995508.7652086745.\n",
      "[I 2024-03-08 11:41:22,239] Trial 13 finished with value: 997504.8695603746 and parameters: {'stop_loss': 0.049817744389634114, 'take_profit': 0.03716289935426518, 'n_shares': 5}. Best is trial 13 with value: 997504.8695603746.\n",
      "[I 2024-03-08 11:41:22,268] Trial 14 finished with value: 985528.2434501759 and parameters: {'stop_loss': 0.04120662678392793, 'take_profit': 0.021310033824789108, 'n_shares': 29}. Best is trial 13 with value: 997504.8695603746.\n",
      "[I 2024-03-08 11:41:22,316] Trial 15 finished with value: 983033.1130105492 and parameters: {'stop_loss': 0.04301627615816496, 'take_profit': 0.033184981021904224, 'n_shares': 34}. Best is trial 13 with value: 997504.8695603746.\n",
      "[I 2024-03-08 11:41:22,347] Trial 16 finished with value: 965567.1999331749 and parameters: {'stop_loss': 0.045355558560786866, 'take_profit': 0.03732620439313141, 'n_shares': 69}. Best is trial 13 with value: 997504.8695603746.\n",
      "[I 2024-03-08 11:41:22,376] Trial 17 finished with value: 996007.7912965999 and parameters: {'stop_loss': 0.03730786290791484, 'take_profit': 0.02252721340130248, 'n_shares': 8}. Best is trial 13 with value: 997504.8695603746.\n",
      "[I 2024-03-08 11:41:22,404] Trial 18 finished with value: 982534.086922626 and parameters: {'stop_loss': 0.03507030065687297, 'take_profit': 0.022290858817539328, 'n_shares': 35}. Best is trial 13 with value: 997504.8695603746.\n",
      "[I 2024-03-08 11:41:22,434] Trial 19 finished with value: 936124.6607455986 and parameters: {'stop_loss': 0.035437455411513274, 'take_profit': 0.021038707153890543, 'n_shares': 128}. Best is trial 13 with value: 997504.8695603746.\n",
      "[I 2024-03-08 11:41:22,463] Trial 20 finished with value: 964070.1216693996 and parameters: {'stop_loss': 0.032234403261111294, 'take_profit': 0.013988572766831398, 'n_shares': 72}. Best is trial 13 with value: 997504.8695603746.\n",
      "[I 2024-03-08 11:41:22,493] Trial 21 finished with value: 997005.8434724506 and parameters: {'stop_loss': 0.045763013596206006, 'take_profit': 0.033608047992646446, 'n_shares': 6}. Best is trial 13 with value: 997504.8695603746.\n",
      "[I 2024-03-08 11:41:22,522] Trial 22 finished with value: 987524.3478018745 and parameters: {'stop_loss': 0.04464979687881182, 'take_profit': 0.0240945984959777, 'n_shares': 25}. Best is trial 13 with value: 997504.8695603746.\n",
      "[I 2024-03-08 11:41:22,551] Trial 23 finished with value: 997504.8695603746 and parameters: {'stop_loss': 0.038699535588109374, 'take_profit': 0.03336615126101901, 'n_shares': 5}. Best is trial 13 with value: 997504.8695603746.\n",
      "[I 2024-03-08 11:41:22,582] Trial 24 finished with value: 979040.9043071502 and parameters: {'stop_loss': 0.04539395529440756, 'take_profit': 0.032928155611452604, 'n_shares': 42}. Best is trial 13 with value: 997504.8695603746.\n",
      "[I 2024-03-08 11:41:22,612] Trial 25 finished with value: 988522.3999777235 and parameters: {'stop_loss': 0.03915596705275166, 'take_profit': 0.042728324879953955, 'n_shares': 23}. Best is trial 13 with value: 997504.8695603746.\n",
      "[I 2024-03-08 11:41:22,642] Trial 26 finished with value: 961574.9912297758 and parameters: {'stop_loss': 0.04663959958415554, 'take_profit': 0.03345189331404533, 'n_shares': 77}. Best is trial 13 with value: 997504.8695603746.\n",
      "[I 2024-03-08 11:41:22,672] Trial 27 finished with value: 989520.4521535753 and parameters: {'stop_loss': 0.04241038436410627, 'take_profit': 0.0027638212677530798, 'n_shares': 21}. Best is trial 13 with value: 997504.8695603746.\n",
      "[I 2024-03-08 11:41:22,702] Trial 28 finished with value: 975547.7216916755 and parameters: {'stop_loss': 0.040715623097177626, 'take_profit': 0.042706252843031894, 'n_shares': 49}. Best is trial 13 with value: 997504.8695603746.\n",
      "[I 2024-03-08 11:41:22,732] Trial 29 finished with value: 997005.8434724506 and parameters: {'stop_loss': 0.008537070279354644, 'take_profit': 0.048761980561840966, 'n_shares': 6}. Best is trial 13 with value: 997504.8695603746.\n",
      "[I 2024-03-08 11:41:22,733] A new study created in memory with name: no-name-1d622c47-a629-41e9-9fbc-6def0a8b0269\n",
      "[I 2024-03-08 11:41:22,761] Trial 0 finished with value: 966889.1403619382 and parameters: {'stop_loss': 0.013411405248733648, 'take_profit': 0.008915715941350759, 'n_shares': 35}. Best is trial 0 with value: 966889.1403619382.\n",
      "[I 2024-03-08 11:41:22,789] Trial 1 finished with value: 854312.217592526 and parameters: {'stop_loss': 0.022532483912465696, 'take_profit': 0.028670234091766986, 'n_shares': 154}. Best is trial 0 with value: 966889.1403619382.\n",
      "[I 2024-03-08 11:41:22,815] Trial 2 finished with value: 947022.6245791003 and parameters: {'stop_loss': 0.03332890078127323, 'take_profit': 0.04036171854862615, 'n_shares': 56}. Best is trial 0 with value: 966889.1403619382.\n",
      "[I 2024-03-08 11:41:22,843] Trial 3 finished with value: 985809.6315836867 and parameters: {'stop_loss': 0.018749608541335273, 'take_profit': 0.04308240772525577, 'n_shares': 15}. Best is trial 3 with value: 985809.6315836867.\n",
      "[I 2024-03-08 11:41:22,870] Trial 4 finished with value: 827823.5298820756 and parameters: {'stop_loss': 0.04805520360427274, 'take_profit': 0.04967851902126064, 'n_shares': 182}. Best is trial 3 with value: 985809.6315836867.\n",
      "[I 2024-03-08 11:41:22,896] Trial 5 finished with value: 842959.9228594755 and parameters: {'stop_loss': 0.005337557644000349, 'take_profit': 0.0365061806985189, 'n_shares': 166}. Best is trial 3 with value: 985809.6315836867.\n",
      "[I 2024-03-08 11:41:22,923] Trial 6 finished with value: 901613.4456468988 and parameters: {'stop_loss': 0.0471331434114835, 'take_profit': 0.0033331561552408847, 'n_shares': 104}. Best is trial 3 with value: 985809.6315836867.\n",
      "[I 2024-03-08 11:41:22,949] Trial 7 finished with value: 980133.4842171621 and parameters: {'stop_loss': 0.011408301032549589, 'take_profit': 0.028433358192963984, 'n_shares': 21}. Best is trial 3 with value: 985809.6315836867.\n",
      "[I 2024-03-08 11:41:22,975] Trial 8 finished with value: 988647.7052669501 and parameters: {'stop_loss': 0.017255123738470202, 'take_profit': 0.044325413514900186, 'n_shares': 12}. Best is trial 8 with value: 988647.7052669501.\n",
      "[I 2024-03-08 11:41:23,003] Trial 9 finished with value: 980133.4842171621 and parameters: {'stop_loss': 0.04277383884605622, 'take_profit': 0.04756092198006774, 'n_shares': 21}. Best is trial 8 with value: 988647.7052669501.\n",
      "[I 2024-03-08 11:41:23,039] Trial 10 finished with value: 919587.9123075615 and parameters: {'stop_loss': 0.03125797573556447, 'take_profit': 0.016500563035886505, 'n_shares': 85}. Best is trial 8 with value: 988647.7052669501.\n",
      "[I 2024-03-08 11:41:23,073] Trial 11 finished with value: 993377.8280723871 and parameters: {'stop_loss': 0.019851718875756583, 'take_profit': 0.039071863410090765, 'n_shares': 7}. Best is trial 11 with value: 993377.8280723871.\n",
      "[I 2024-03-08 11:41:23,109] Trial 12 finished with value: 943238.526334747 and parameters: {'stop_loss': 0.026290932407696116, 'take_profit': 0.034442877109903715, 'n_shares': 60}. Best is trial 11 with value: 993377.8280723871.\n",
      "[I 2024-03-08 11:41:23,143] Trial 13 finished with value: 898775.3719636387 and parameters: {'stop_loss': 0.0029070623320908828, 'take_profit': 0.021708172230535984, 'n_shares': 107}. Best is trial 11 with value: 993377.8280723871.\n",
      "[I 2024-03-08 11:41:23,179] Trial 14 finished with value: 994323.8526334759 and parameters: {'stop_loss': 0.017185860286053886, 'take_profit': 0.03475448750600905, 'n_shares': 6}. Best is trial 14 with value: 994323.8526334759.\n",
      "[I 2024-03-08 11:41:23,214] Trial 15 finished with value: 952698.7719456248 and parameters: {'stop_loss': 0.028056149587799818, 'take_profit': 0.03402419731491858, 'n_shares': 50}. Best is trial 14 with value: 994323.8526334759.\n",
      "[I 2024-03-08 11:41:23,248] Trial 16 finished with value: 877016.8070586236 and parameters: {'stop_loss': 0.037982245559069185, 'take_profit': 0.020949809915769495, 'n_shares': 130}. Best is trial 14 with value: 994323.8526334759.\n",
      "[I 2024-03-08 11:41:23,284] Trial 17 finished with value: 929994.182479525 and parameters: {'stop_loss': 0.0104230115495976, 'take_profit': 0.0386986851404906, 'n_shares': 74}. Best is trial 14 with value: 994323.8526334759.\n",
      "[I 2024-03-08 11:41:23,320] Trial 18 finished with value: 964997.0912397626 and parameters: {'stop_loss': 0.021763062789847343, 'take_profit': 0.03207653332947156, 'n_shares': 37}. Best is trial 14 with value: 994323.8526334759.\n",
      "[I 2024-03-08 11:41:23,355] Trial 19 finished with value: 995269.8771945625 and parameters: {'stop_loss': 0.015410220680380957, 'take_profit': 0.02369537558216301, 'n_shares': 5}. Best is trial 19 with value: 995269.8771945625.\n",
      "[I 2024-03-08 11:41:23,390] Trial 20 finished with value: 917695.8631853877 and parameters: {'stop_loss': 0.014622735289192272, 'take_profit': 0.015201724232844133, 'n_shares': 87}. Best is trial 19 with value: 995269.8771945625.\n",
      "[I 2024-03-08 11:41:23,425] Trial 21 finished with value: 994323.8526334759 and parameters: {'stop_loss': 0.02233300899771329, 'take_profit': 0.0248133029629305, 'n_shares': 6}. Best is trial 19 with value: 995269.8771945625.\n",
      "[I 2024-03-08 11:41:23,458] Trial 22 finished with value: 964051.0666786744 and parameters: {'stop_loss': 0.025588133614831216, 'take_profit': 0.024920189142281664, 'n_shares': 38}. Best is trial 19 with value: 995269.8771945625.\n",
      "[I 2024-03-08 11:41:23,492] Trial 23 finished with value: 969727.2140452015 and parameters: {'stop_loss': 0.00743376799016838, 'take_profit': 0.02297661466055907, 'n_shares': 32}. Best is trial 19 with value: 995269.8771945625.\n",
      "[I 2024-03-08 11:41:23,527] Trial 24 finished with value: 988647.7052669501 and parameters: {'stop_loss': 0.01659224458610951, 'take_profit': 0.01739752533611171, 'n_shares': 12}. Best is trial 19 with value: 995269.8771945625.\n",
      "[I 2024-03-08 11:41:23,561] Trial 25 finished with value: 993377.8280723871 and parameters: {'stop_loss': 0.02330460709893305, 'take_profit': 0.0298288728314172, 'n_shares': 7}. Best is trial 19 with value: 995269.8771945625.\n",
      "[I 2024-03-08 11:41:23,595] Trial 26 finished with value: 952698.7719456248 and parameters: {'stop_loss': 0.009497037358468852, 'take_profit': 0.02684961621025498, 'n_shares': 50}. Best is trial 19 with value: 995269.8771945625.\n",
      "[I 2024-03-08 11:41:23,629] Trial 27 finished with value: 882692.95442515 and parameters: {'stop_loss': 0.014691189240397105, 'take_profit': 0.01291562843803693, 'n_shares': 124}. Best is trial 19 with value: 995269.8771945625.\n",
      "[I 2024-03-08 11:41:23,663] Trial 28 finished with value: 934724.3052849622 and parameters: {'stop_loss': 0.030213113702906597, 'take_profit': 0.018997655789024064, 'n_shares': 69}. Best is trial 19 with value: 995269.8771945625.\n",
      "[I 2024-03-08 11:41:23,697] Trial 29 finished with value: 972565.2877284627 and parameters: {'stop_loss': 0.036008071836589134, 'take_profit': 0.012319871112976824, 'n_shares': 29}. Best is trial 19 with value: 995269.8771945625.\n",
      "[I 2024-03-08 11:41:23,698] A new study created in memory with name: no-name-31a52a91-bb05-4364-8781-d8df4035ede2\n",
      "[I 2024-03-08 11:41:23,727] Trial 0 finished with value: 909806.625637524 and parameters: {'stop_loss': 0.03788243561022538, 'take_profit': 0.04534023531147873, 'n_shares': 97}. Best is trial 0 with value: 909806.625637524.\n",
      "[I 2024-03-08 11:41:23,757] Trial 1 finished with value: 944210.2838994967 and parameters: {'stop_loss': 0.018890675671200743, 'take_profit': 0.0458600446701477, 'n_shares': 60}. Best is trial 1 with value: 944210.2838994967.\n",
      "[I 2024-03-08 11:41:23,786] Trial 2 finished with value: 882841.5961889497 and parameters: {'stop_loss': 0.028325751619763247, 'take_profit': 0.048163172979211334, 'n_shares': 126}. Best is trial 1 with value: 944210.2838994967.\n",
      "[I 2024-03-08 11:41:23,815] Trial 3 finished with value: 826122.0514867745 and parameters: {'stop_loss': 0.01641136414989775, 'take_profit': 0.012871771417306853, 'n_shares': 187}. Best is trial 1 with value: 944210.2838994967.\n",
      "[I 2024-03-08 11:41:23,846] Trial 4 finished with value: 979543.7707631508 and parameters: {'stop_loss': 0.0493334698328281, 'take_profit': 0.043179875581766836, 'n_shares': 22}. Best is trial 4 with value: 979543.7707631508.\n",
      "[I 2024-03-08 11:41:23,875] Trial 5 finished with value: 875402.9673755498 and parameters: {'stop_loss': 0.03675557656305311, 'take_profit': 0.009174976858810014, 'n_shares': 134}. Best is trial 4 with value: 979543.7707631508.\n",
      "[I 2024-03-08 11:41:23,905] Trial 6 finished with value: 970245.4847464018 and parameters: {'stop_loss': 0.019577981393623652, 'take_profit': 0.03721203304841782, 'n_shares': 32}. Best is trial 4 with value: 979543.7707631508.\n",
      "[I 2024-03-08 11:41:23,934] Trial 7 finished with value: 907017.1398325012 and parameters: {'stop_loss': 0.014967692441394351, 'take_profit': 0.030211309857333037, 'n_shares': 100}. Best is trial 4 with value: 979543.7707631508.\n",
      "[I 2024-03-08 11:41:23,963] Trial 8 finished with value: 856806.3953420513 and parameters: {'stop_loss': 0.012514111364451738, 'take_profit': 0.036533532933308195, 'n_shares': 154}. Best is trial 4 with value: 979543.7707631508.\n",
      "[I 2024-03-08 11:41:23,993] Trial 9 finished with value: 935841.8264844245 and parameters: {'stop_loss': 0.008576226395500569, 'take_profit': 0.041841303944673454, 'n_shares': 69}. Best is trial 4 with value: 979543.7707631508.\n",
      "[I 2024-03-08 11:41:24,030] Trial 10 finished with value: 994421.0283899513 and parameters: {'stop_loss': 0.04478784157696369, 'take_profit': 0.019866031354773828, 'n_shares': 6}. Best is trial 10 with value: 994421.0283899513.\n",
      "[I 2024-03-08 11:41:24,066] Trial 11 finished with value: 988842.0567798998 and parameters: {'stop_loss': 0.049433806023589086, 'take_profit': 0.018992272635505056, 'n_shares': 12}. Best is trial 10 with value: 994421.0283899513.\n",
      "[I 2024-03-08 11:41:24,103] Trial 12 finished with value: 990701.7139832532 and parameters: {'stop_loss': 0.04945363606338321, 'take_profit': 0.019016534791083197, 'n_shares': 10}. Best is trial 10 with value: 994421.0283899513.\n",
      "[I 2024-03-08 11:41:24,140] Trial 13 finished with value: 952578.7413145746 and parameters: {'stop_loss': 0.04066311235108315, 'take_profit': 0.021791986971665896, 'n_shares': 51}. Best is trial 10 with value: 994421.0283899513.\n",
      "[I 2024-03-08 11:41:24,177] Trial 14 finished with value: 994421.0283899513 and parameters: {'stop_loss': 0.04298652852283572, 'take_profit': 0.0026569951222474714, 'n_shares': 6}. Best is trial 10 with value: 994421.0283899513.\n",
      "[I 2024-03-08 11:41:24,214] Trial 15 finished with value: 961877.0273313249 and parameters: {'stop_loss': 0.030602348654746224, 'take_profit': 0.005139617479565282, 'n_shares': 41}. Best is trial 10 with value: 994421.0283899513.\n",
      "[I 2024-03-08 11:41:24,249] Trial 16 finished with value: 924683.8832643246 and parameters: {'stop_loss': 0.04301807183053239, 'take_profit': 0.00364616275715287, 'n_shares': 81}. Best is trial 10 with value: 994421.0283899513.\n",
      "[I 2024-03-08 11:41:24,286] Trial 17 finished with value: 994421.0283899513 and parameters: {'stop_loss': 0.03316846680938729, 'take_profit': 0.02708587947206369, 'n_shares': 6}. Best is trial 10 with value: 994421.0283899513.\n",
      "[I 2024-03-08 11:41:24,322] Trial 18 finished with value: 968385.8275430494 and parameters: {'stop_loss': 0.002647602300665061, 'take_profit': 0.013980223592277163, 'n_shares': 34}. Best is trial 10 with value: 994421.0283899513.\n",
      "[I 2024-03-08 11:41:24,359] Trial 19 finished with value: 930262.8548743762 and parameters: {'stop_loss': 0.04402465336793683, 'take_profit': 0.010449729553973587, 'n_shares': 75}. Best is trial 10 with value: 994421.0283899513.\n",
      "[I 2024-03-08 11:41:24,396] Trial 20 finished with value: 827051.8800884505 and parameters: {'stop_loss': 0.023592813218371367, 'take_profit': 0.032518710192922934, 'n_shares': 186}. Best is trial 10 with value: 994421.0283899513.\n",
      "[I 2024-03-08 11:41:24,433] Trial 21 finished with value: 994421.0283899513 and parameters: {'stop_loss': 0.03305468638975442, 'take_profit': 0.027703504610480406, 'n_shares': 6}. Best is trial 10 with value: 994421.0283899513.\n",
      "[I 2024-03-08 11:41:24,470] Trial 22 finished with value: 976754.2849581231 and parameters: {'stop_loss': 0.03512731703972953, 'take_profit': 0.022081329121636337, 'n_shares': 25}. Best is trial 10 with value: 994421.0283899513.\n",
      "[I 2024-03-08 11:41:24,507] Trial 23 finished with value: 955368.2271195992 and parameters: {'stop_loss': 0.04438661583071195, 'take_profit': 0.025332149197988124, 'n_shares': 48}. Best is trial 10 with value: 994421.0283899513.\n",
      "[I 2024-03-08 11:41:24,544] Trial 24 finished with value: 977684.1135598005 and parameters: {'stop_loss': 0.039938773327386386, 'take_profit': 0.016757940557899004, 'n_shares': 24}. Best is trial 10 with value: 994421.0283899513.\n",
      "[I 2024-03-08 11:41:24,581] Trial 25 finished with value: 993491.1997882748 and parameters: {'stop_loss': 0.025229426735691687, 'take_profit': 0.025057875869253367, 'n_shares': 7}. Best is trial 10 with value: 994421.0283899513.\n",
      "[I 2024-03-08 11:41:24,618] Trial 26 finished with value: 951648.9127128992 and parameters: {'stop_loss': 0.03206556780635369, 'take_profit': 0.007435459769056567, 'n_shares': 52}. Best is trial 10 with value: 994421.0283899513.\n",
      "[I 2024-03-08 11:41:24,655] Trial 27 finished with value: 979543.7707631508 and parameters: {'stop_loss': 0.045728343608023435, 'take_profit': 0.03438789175040252, 'n_shares': 22}. Best is trial 10 with value: 994421.0283899513.\n",
      "[I 2024-03-08 11:41:24,693] Trial 28 finished with value: 963736.6845346743 and parameters: {'stop_loss': 0.040188902343297535, 'take_profit': 0.02951001865409434, 'n_shares': 39}. Best is trial 10 with value: 994421.0283899513.\n",
      "[I 2024-03-08 11:41:24,729] Trial 29 finished with value: 919104.9116542761 and parameters: {'stop_loss': 0.0365847381261599, 'take_profit': 0.0026847995138211717, 'n_shares': 87}. Best is trial 10 with value: 994421.0283899513.\n",
      "[I 2024-03-08 11:41:24,730] A new study created in memory with name: no-name-313e336b-2641-40d5-bfff-aa2d8c4110ec\n",
      "[I 2024-03-08 11:41:24,760] Trial 0 finished with value: 961081.6345406619 and parameters: {'stop_loss': 0.013624371076071042, 'take_profit': 0.023722084571411697, 'n_shares': 41}. Best is trial 0 with value: 961081.6345406619.\n",
      "[I 2024-03-08 11:41:24,789] Trial 1 finished with value: 965827.7766698508 and parameters: {'stop_loss': 0.04911996701815608, 'take_profit': 0.03668227865302894, 'n_shares': 36}. Best is trial 1 with value: 965827.7766698508.\n",
      "[I 2024-03-08 11:41:24,819] Trial 2 finished with value: 849072.6802918384 and parameters: {'stop_loss': 0.0399830519963719, 'take_profit': 0.005452049895908532, 'n_shares': 159}. Best is trial 1 with value: 965827.7766698508.\n",
      "[I 2024-03-08 11:41:24,849] Trial 3 finished with value: 932604.7817655358 and parameters: {'stop_loss': 0.0030140646518706697, 'take_profit': 0.0477644416862168, 'n_shares': 71}. Best is trial 1 with value: 965827.7766698508.\n",
      "[I 2024-03-08 11:41:24,878] Trial 4 finished with value: 827240.426497576 and parameters: {'stop_loss': 0.01467342236180433, 'take_profit': 0.007251365021080789, 'n_shares': 182}. Best is trial 1 with value: 965827.7766698508.\n",
      "[I 2024-03-08 11:41:24,908] Trial 5 finished with value: 947792.4365789357 and parameters: {'stop_loss': 0.014010915473690716, 'take_profit': 0.04465585532194707, 'n_shares': 55}. Best is trial 1 with value: 965827.7766698508.\n",
      "[I 2024-03-08 11:41:24,938] Trial 6 finished with value: 857615.736124375 and parameters: {'stop_loss': 0.04693955676433181, 'take_profit': 0.023734227453212797, 'n_shares': 150}. Best is trial 1 with value: 965827.7766698508.\n",
      "[I 2024-03-08 11:41:24,968] Trial 7 finished with value: 859514.1929760501 and parameters: {'stop_loss': 0.03927186605261246, 'take_profit': 0.024001530569583422, 'n_shares': 148}. Best is trial 1 with value: 965827.7766698508.\n",
      "[I 2024-03-08 11:41:24,997] Trial 8 finished with value: 963929.3198181742 and parameters: {'stop_loss': 0.04176953774090191, 'take_profit': 0.017516205860213786, 'n_shares': 38}. Best is trial 1 with value: 965827.7766698508.\n",
      "[I 2024-03-08 11:41:25,026] Trial 9 finished with value: 963929.3198181742 and parameters: {'stop_loss': 0.007531916979358795, 'take_profit': 0.0268414355236091, 'n_shares': 38}. Best is trial 1 with value: 965827.7766698508.\n",
      "[I 2024-03-08 11:41:25,063] Trial 10 finished with value: 993355.401019137 and parameters: {'stop_loss': 0.02777623824435353, 'take_profit': 0.03791811605288356, 'n_shares': 7}. Best is trial 10 with value: 993355.401019137.\n",
      "[I 2024-03-08 11:41:25,099] Trial 11 finished with value: 995253.8578708123 and parameters: {'stop_loss': 0.028946192586647226, 'take_profit': 0.03720330049478748, 'n_shares': 5}. Best is trial 11 with value: 995253.8578708123.\n",
      "[I 2024-03-08 11:41:25,134] Trial 12 finished with value: 994304.6294449762 and parameters: {'stop_loss': 0.028070505221429624, 'take_profit': 0.03696667120245036, 'n_shares': 6}. Best is trial 11 with value: 995253.8578708123.\n",
      "[I 2024-03-08 11:41:25,171] Trial 13 finished with value: 906975.614267926 and parameters: {'stop_loss': 0.027515900569427355, 'take_profit': 0.035519895638634454, 'n_shares': 98}. Best is trial 11 with value: 995253.8578708123.\n",
      "[I 2024-03-08 11:41:25,208] Trial 14 finished with value: 992406.1725932999 and parameters: {'stop_loss': 0.0330625733273122, 'take_profit': 0.04171063972067768, 'n_shares': 8}. Best is trial 11 with value: 995253.8578708123.\n",
      "[I 2024-03-08 11:41:25,245] Trial 15 finished with value: 906026.3858420884 and parameters: {'stop_loss': 0.02150698619650499, 'take_profit': 0.030986191818179937, 'n_shares': 99}. Best is trial 11 with value: 995253.8578708123.\n",
      "[I 2024-03-08 11:41:25,281] Trial 16 finished with value: 929757.0964880255 and parameters: {'stop_loss': 0.021451586863335464, 'take_profit': 0.03160920104832844, 'n_shares': 74}. Best is trial 11 with value: 995253.8578708123.\n",
      "[I 2024-03-08 11:41:25,317] Trial 17 finished with value: 995253.8578708123 and parameters: {'stop_loss': 0.03443131057753018, 'take_profit': 0.013888043203407223, 'n_shares': 5}. Best is trial 11 with value: 995253.8578708123.\n",
      "[I 2024-03-08 11:41:25,353] Trial 18 finished with value: 878498.7614927978 and parameters: {'stop_loss': 0.03424920443106385, 'take_profit': 0.014158693443816489, 'n_shares': 128}. Best is trial 11 with value: 995253.8578708123.\n",
      "[I 2024-03-08 11:41:25,390] Trial 19 finished with value: 934503.2386172122 and parameters: {'stop_loss': 0.03349627955764554, 'take_profit': 0.013748633264408693, 'n_shares': 69}. Best is trial 11 with value: 995253.8578708123.\n",
      "[I 2024-03-08 11:41:25,427] Trial 20 finished with value: 975320.0609282252 and parameters: {'stop_loss': 0.021169269871008606, 'take_profit': 0.002554203871298205, 'n_shares': 26}. Best is trial 11 with value: 995253.8578708123.\n",
      "[I 2024-03-08 11:41:25,463] Trial 21 finished with value: 994304.6294449762 and parameters: {'stop_loss': 0.029981437370357737, 'take_profit': 0.04966177062091677, 'n_shares': 6}. Best is trial 11 with value: 995253.8578708123.\n",
      "[I 2024-03-08 11:41:25,501] Trial 22 finished with value: 981964.659909088 and parameters: {'stop_loss': 0.024461395215941754, 'take_profit': 0.040985823536380486, 'n_shares': 19}. Best is trial 11 with value: 995253.8578708123.\n",
      "[I 2024-03-08 11:41:25,537] Trial 23 finished with value: 977218.5177799005 and parameters: {'stop_loss': 0.03682258863057573, 'take_profit': 0.03094204413856933, 'n_shares': 24}. Best is trial 11 with value: 995253.8578708123.\n",
      "[I 2024-03-08 11:41:25,574] Trial 24 finished with value: 947792.4365789357 and parameters: {'stop_loss': 0.04464158998708229, 'take_profit': 0.016288637624363986, 'n_shares': 55}. Best is trial 11 with value: 995253.8578708123.\n",
      "[I 2024-03-08 11:41:25,611] Trial 25 finished with value: 981964.659909088 and parameters: {'stop_loss': 0.029829987019454954, 'take_profit': 0.01928702289084183, 'n_shares': 19}. Best is trial 11 with value: 995253.8578708123.\n",
      "[I 2024-03-08 11:41:25,648] Trial 26 finished with value: 889889.5026028521 and parameters: {'stop_loss': 0.017765690038716284, 'take_profit': 0.009330628982810724, 'n_shares': 116}. Best is trial 11 with value: 995253.8578708123.\n",
      "[I 2024-03-08 11:41:25,685] Trial 27 finished with value: 952538.5787081248 and parameters: {'stop_loss': 0.02482472380843086, 'take_profit': 0.03410748061755495, 'n_shares': 50}. Best is trial 11 with value: 995253.8578708123.\n",
      "[I 2024-03-08 11:41:25,723] Trial 28 finished with value: 979116.9746315761 and parameters: {'stop_loss': 0.03114748351003181, 'take_profit': 0.027829084584624783, 'n_shares': 22}. Best is trial 11 with value: 995253.8578708123.\n",
      "[I 2024-03-08 11:41:25,761] Trial 29 finished with value: 995253.8578708123 and parameters: {'stop_loss': 0.037007828869848186, 'take_profit': 0.02079924319875923, 'n_shares': 5}. Best is trial 11 with value: 995253.8578708123.\n",
      "[I 2024-03-08 11:41:25,761] A new study created in memory with name: no-name-2fb46ecc-d8dd-4c36-af4c-f569472d8566\n",
      "[I 2024-03-08 11:41:25,791] Trial 0 finished with value: 858355.294201264 and parameters: {'stop_loss': 0.007463264902913205, 'take_profit': 0.011606245307516562, 'n_shares': 149}. Best is trial 0 with value: 858355.294201264.\n",
      "[I 2024-03-08 11:41:25,821] Trial 1 finished with value: 924899.7868583893 and parameters: {'stop_loss': 0.04005946547186138, 'take_profit': 0.034510491775138916, 'n_shares': 79}. Best is trial 1 with value: 924899.7868583893.\n",
      "[I 2024-03-08 11:41:25,851] Trial 2 finished with value: 914442.7951551304 and parameters: {'stop_loss': 0.005428577663335236, 'take_profit': 0.02217455553379681, 'n_shares': 90}. Best is trial 1 with value: 924899.7868583893.\n",
      "[I 2024-03-08 11:41:25,881] Trial 3 finished with value: 842194.4888416757 and parameters: {'stop_loss': 0.03623002983320924, 'take_profit': 0.011692547777972595, 'n_shares': 166}. Best is trial 1 with value: 924899.7868583893.\n",
      "[I 2024-03-08 11:41:25,911] Trial 4 finished with value: 909689.6171081881 and parameters: {'stop_loss': 0.025578390025347234, 'take_profit': 0.029168116917159117, 'n_shares': 95}. Best is trial 1 with value: 924899.7868583893.\n",
      "[I 2024-03-08 11:41:25,941] Trial 5 finished with value: 845046.3956698372 and parameters: {'stop_loss': 0.01742587501845872, 'take_profit': 0.020107860447763207, 'n_shares': 163}. Best is trial 1 with value: 924899.7868583893.\n",
      "[I 2024-03-08 11:41:25,971] Trial 6 finished with value: 890676.9049204376 and parameters: {'stop_loss': 0.010590828043923509, 'take_profit': 0.030143406078330836, 'n_shares': 115}. Best is trial 1 with value: 924899.7868583893.\n",
      "[I 2024-03-08 11:41:26,001] Trial 7 finished with value: 883071.820045337 and parameters: {'stop_loss': 0.03621775410447931, 'take_profit': 0.044389782797339655, 'n_shares': 123}. Best is trial 1 with value: 924899.7868583893.\n",
      "[I 2024-03-08 11:41:26,031] Trial 8 finished with value: 896380.7185767633 and parameters: {'stop_loss': 0.04470023792143042, 'take_profit': 0.01597220114449141, 'n_shares': 109}. Best is trial 1 with value: 924899.7868583893.\n",
      "[I 2024-03-08 11:41:26,061] Trial 9 finished with value: 884022.4556547245 and parameters: {'stop_loss': 0.008714025331598704, 'take_profit': 0.04809085322247183, 'n_shares': 122}. Best is trial 1 with value: 924899.7868583893.\n",
      "[I 2024-03-08 11:41:26,098] Trial 10 finished with value: 979086.0165934761 and parameters: {'stop_loss': 0.04908296434594011, 'take_profit': 0.03824693962341651, 'n_shares': 22}. Best is trial 10 with value: 979086.0165934761.\n",
      "[I 2024-03-08 11:41:26,135] Trial 11 finished with value: 979086.0165934761 and parameters: {'stop_loss': 0.04880655872016676, 'take_profit': 0.03756364855234828, 'n_shares': 22}. Best is trial 10 with value: 979086.0165934761.\n",
      "[I 2024-03-08 11:41:26,171] Trial 12 finished with value: 988592.3726873499 and parameters: {'stop_loss': 0.049034789943402955, 'take_profit': 0.03873392594191194, 'n_shares': 12}. Best is trial 12 with value: 988592.3726873499.\n",
      "[I 2024-03-08 11:41:26,208] Trial 13 finished with value: 994296.1863436763 and parameters: {'stop_loss': 0.04921776343642294, 'take_profit': 0.03941687816787745, 'n_shares': 6}. Best is trial 13 with value: 994296.1863436763.\n",
      "[I 2024-03-08 11:41:26,246] Trial 14 finished with value: 995246.8219530623 and parameters: {'stop_loss': 0.029285045689546832, 'take_profit': 0.0032777334832263944, 'n_shares': 5}. Best is trial 14 with value: 995246.8219530623.\n",
      "[I 2024-03-08 11:41:26,284] Trial 15 finished with value: 947715.0414836857 and parameters: {'stop_loss': 0.027258263459536445, 'take_profit': 0.0033456168108547775, 'n_shares': 55}. Best is trial 14 with value: 995246.8219530623.\n",
      "[I 2024-03-08 11:41:26,321] Trial 16 finished with value: 947715.0414836857 and parameters: {'stop_loss': 0.02735415073934043, 'take_profit': 0.005033904736253168, 'n_shares': 55}. Best is trial 14 with value: 995246.8219530623.\n",
      "[I 2024-03-08 11:41:26,357] Trial 17 finished with value: 954369.4907493998 and parameters: {'stop_loss': 0.01929424053499223, 'take_profit': 0.02347025792621725, 'n_shares': 48}. Best is trial 14 with value: 995246.8219530623.\n",
      "[I 2024-03-08 11:41:26,395] Trial 18 finished with value: 995246.8219530623 and parameters: {'stop_loss': 0.03234296200025145, 'take_profit': 0.04486399392389454, 'n_shares': 5}. Best is trial 14 with value: 995246.8219530623.\n",
      "[I 2024-03-08 11:41:26,432] Trial 19 finished with value: 965777.1180620508 and parameters: {'stop_loss': 0.032043787369598196, 'take_profit': 0.04860616188839154, 'n_shares': 36}. Best is trial 14 with value: 995246.8219530623.\n",
      "[I 2024-03-08 11:41:26,470] Trial 20 finished with value: 820329.8698257621 and parameters: {'stop_loss': 0.021130716027675425, 'take_profit': 0.009196814819856096, 'n_shares': 189}. Best is trial 14 with value: 995246.8219530623.\n",
      "[I 2024-03-08 11:41:26,507] Trial 21 finished with value: 995246.8219530623 and parameters: {'stop_loss': 0.04132028530134357, 'take_profit': 0.04275323802285329, 'n_shares': 5}. Best is trial 14 with value: 995246.8219530623.\n",
      "[I 2024-03-08 11:41:26,544] Trial 22 finished with value: 971480.93171838 and parameters: {'stop_loss': 0.032958020671166405, 'take_profit': 0.04390098055898108, 'n_shares': 30}. Best is trial 14 with value: 995246.8219530623.\n",
      "[I 2024-03-08 11:41:26,582] Trial 23 finished with value: 933455.5073428758 and parameters: {'stop_loss': 0.042012190724093554, 'take_profit': 0.04408990215129042, 'n_shares': 70}. Best is trial 14 with value: 995246.8219530623.\n",
      "[I 2024-03-08 11:41:26,620] Trial 24 finished with value: 964826.4824526628 and parameters: {'stop_loss': 0.03159312526152803, 'take_profit': 0.032907079680818185, 'n_shares': 37}. Best is trial 14 with value: 995246.8219530623.\n",
      "[I 2024-03-08 11:41:26,658] Trial 25 finished with value: 993345.550734287 and parameters: {'stop_loss': 0.03900378067034352, 'take_profit': 0.026225387807619304, 'n_shares': 7}. Best is trial 14 with value: 995246.8219530623.\n",
      "[I 2024-03-08 11:41:26,695] Trial 26 finished with value: 937258.0497804275 and parameters: {'stop_loss': 0.023210038878954672, 'take_profit': 0.017248158016107483, 'n_shares': 66}. Best is trial 14 with value: 995246.8219530623.\n",
      "[I 2024-03-08 11:41:26,732] Trial 27 finished with value: 980987.2878122474 and parameters: {'stop_loss': 0.01610905190430019, 'take_profit': 0.041223948321189065, 'n_shares': 20}. Best is trial 14 with value: 995246.8219530623.\n",
      "[I 2024-03-08 11:41:26,770] Trial 28 finished with value: 965777.1180620508 and parameters: {'stop_loss': 0.029353536242052614, 'take_profit': 0.049719761456757626, 'n_shares': 36}. Best is trial 14 with value: 995246.8219530623.\n",
      "[I 2024-03-08 11:41:26,808] Trial 29 finished with value: 995246.8219530623 and parameters: {'stop_loss': 0.04441960977572485, 'take_profit': 0.034182277234256424, 'n_shares': 5}. Best is trial 14 with value: 995246.8219530623.\n"
     ]
    },
    {
     "name": "stdout",
     "output_type": "stream",
     "text": [
      "995246.8219530623\n",
      "('xg',)\n",
      "{'stop_loss': 0.049817744389634114, 'take_profit': 0.03716289935426518, 'n_shares': 5}\n"
     ]
    }
   ],
   "source": [
    "file_1h = optimize_file(data_1h)"
   ],
   "metadata": {
    "collapsed": false,
    "ExecuteTime": {
     "end_time": "2024-03-08T17:41:26.814028Z",
     "start_time": "2024-03-08T17:41:20.065243Z"
    }
   },
   "id": "1df821f68ae04985",
   "execution_count": 237
  },
  {
   "cell_type": "code",
   "outputs": [],
   "source": [],
   "metadata": {
    "collapsed": false
   },
   "id": "4ad03f2d54c5a2bf"
  }
 ],
 "metadata": {
  "kernelspec": {
   "display_name": "Python 3 (ipykernel)",
   "language": "python",
   "name": "python3"
  },
  "language_info": {
   "codemirror_mode": {
    "name": "ipython",
    "version": 3
   },
   "file_extension": ".py",
   "mimetype": "text/x-python",
   "name": "python",
   "nbconvert_exporter": "python",
   "pygments_lexer": "ipython3",
   "version": "3.11.4"
  }
 },
 "nbformat": 4,
 "nbformat_minor": 5
}
