{
 "cells": [
  {
   "cell_type": "code",
   "execution_count": 1,
   "id": "48634767",
   "metadata": {
    "ExecuteTime": {
     "end_time": "2024-03-10T16:27:15.590387Z",
     "start_time": "2024-03-10T16:27:13.760771Z"
    }
   },
   "outputs": [
    {
     "name": "stdout",
     "output_type": "stream",
     "text": [
      "Intel MKL WARNING: Support of Intel(R) Streaming SIMD Extensions 4.2 (Intel(R) SSE4.2) enabled only processors has been deprecated. Intel oneAPI Math Kernel Library 2025.0 will require Intel(R) Advanced Vector Extensions (Intel(R) AVX) instructions.\n",
      "Intel MKL WARNING: Support of Intel(R) Streaming SIMD Extensions 4.2 (Intel(R) SSE4.2) enabled only processors has been deprecated. Intel oneAPI Math Kernel Library 2025.0 will require Intel(R) Advanced Vector Extensions (Intel(R) AVX) instructions.\n"
     ]
    }
   ],
   "source": [
    "import pandas as pd\n",
    "import ta \n",
    "import optuna \n",
    "import time\n",
    "import numpy as np\n",
    "from multiprocessing import Pool\n",
    "from itertools import combinations, chain \n",
    "from sklearn.datasets import load_iris\n",
    "from sklearn.model_selection import train_test_split\n",
    "from sklearn.preprocessing import StandardScaler\n",
    "from sklearn.linear_model import LogisticRegression\n",
    "from sklearn.svm import SVC\n",
    "from xgboost import XGBClassifier\n",
    "from sklearn.metrics import accuracy_score"
   ]
  },
  {
   "cell_type": "code",
   "execution_count": 2,
   "id": "bd6a19f0",
   "metadata": {
    "ExecuteTime": {
     "end_time": "2024-03-10T16:27:15.599171Z",
     "start_time": "2024-03-10T16:27:15.591711Z"
    }
   },
   "outputs": [],
   "source": [
    "data_1d_test = pd.read_csv(\"../data/aapl_1d_test.csv\")\n",
    "data_1d_test = data_1d_test.dropna()"
   ]
  },
  {
   "cell_type": "code",
   "execution_count": 3,
   "id": "5a5b2716",
   "metadata": {
    "ExecuteTime": {
     "end_time": "2024-03-10T16:27:15.599485Z",
     "start_time": "2024-03-10T16:27:15.597438Z"
    }
   },
   "outputs": [],
   "source": [
    "def powerset(s):\n",
    "    return chain.from_iterable(combinations(s,r) for r in range(1,len(s)+1))"
   ]
  },
  {
   "cell_type": "code",
   "execution_count": 4,
   "id": "804c600e",
   "metadata": {
    "ExecuteTime": {
     "end_time": "2024-03-10T16:27:15.603734Z",
     "start_time": "2024-03-10T16:27:15.601615Z"
    }
   },
   "outputs": [],
   "source": [
    "def file_features(data, ds_type: str):\n",
    "    data1=pd.DataFrame()\n",
    "    #Calcular indicadores tecnicos\n",
    "    cmf_data = ta.volume.ChaikinMoneyFlowIndicator(data.High, data.Low, data.Close, data.Volume, window = 14)\n",
    "    rsi_data = ta.momentum.RSIIndicator(data.Close, window=14)\n",
    "    \n",
    "    data1[\"CMF\"] = cmf_data.chaikin_money_flow()\n",
    "    data1[\"RSI\"] = rsi_data.rsi()\n",
    "    # Calcular la volatilidad\n",
    "    data1['Volatility'] = data['High'] - data['Low']\n",
    "    data1['Close_Lag0'] = data['Close']\n",
    "    # Calcular las tendencias\n",
    "    for i in range(1, 5 + 1):\n",
    "        data1[f'Close_Lag{i}'] = data['Close'].shift(i)\n",
    "    #Variable ded respuesta\n",
    "    if ds_type == \"buy\":\n",
    "        data1['Response'] = (data['Close'] < data['Close'].shift(-10))\n",
    "    else:\n",
    "        data1['Response'] = (data['Close'] > data['Close'].shift(-10))\n",
    "    \n",
    "    data1 = data1.drop(data1.index[:30])\n",
    "    data1 = data1.drop(data1.index[-30:])\n",
    "    data1.reset_index(drop=True, inplace=True)\n",
    "    \n",
    "    return data1"
   ]
  },
  {
   "cell_type": "code",
   "execution_count": 5,
   "id": "a9fc36b0",
   "metadata": {
    "ExecuteTime": {
     "end_time": "2024-03-10T16:27:15.620702Z",
     "start_time": "2024-03-10T16:27:15.605964Z"
    }
   },
   "outputs": [],
   "source": [
    "dataresult_long_1d_test = file_features(data_1d_test, ds_type=\"buy\")\n",
    "dataresult_short_1d_test = file_features(data_1d_test, ds_type=\"sell\")"
   ]
  },
  {
   "cell_type": "markdown",
   "id": "a8991e8e",
   "metadata": {},
   "source": [
    "Como ya tenemos los parametros optimos, solo los aplicamos..."
   ]
  },
  {
   "cell_type": "code",
   "execution_count": 6,
   "id": "90a7effd",
   "metadata": {
    "ExecuteTime": {
     "end_time": "2024-03-10T16:27:15.632484Z",
     "start_time": "2024-03-10T16:27:15.622384Z"
    }
   },
   "outputs": [],
   "source": [
    "def buy_signals(data):\n",
    "    buy_signals = pd.DataFrame()\n",
    "    # Selecciona las características\n",
    "    X = data.iloc[:, :-1]\n",
    "    # Selecciona la variable objetivo\n",
    "    y = data.iloc[:, -1]\n",
    "\n",
    "    # Crear modelos con los mejores parámetros encontrados para cada algoritmo\n",
    "    best_logistic_model = LogisticRegression(penalty= 'l1', C= 0.008798139830459064, solver= 'saga')\n",
    "    best_svm_model = SVC(C= 37.29423057590281, kernel= 'sigmoid', gamma= 'auto')\n",
    "    best_xgboost_model = XGBClassifier(n_estimators= 100, max_depth= 8, learning_rate= 0.02353186669766063, subsample= 0.8, colsample_bytree= 1.0)\n",
    "\n",
    "    # Entrenar los modelos con todo el conjunto de datos original\n",
    "    best_logistic_model.fit(X, y)\n",
    "    best_svm_model.fit(X, y)\n",
    "    best_xgboost_model.fit(X, y)\n",
    "\n",
    "    # Realizar predicciones en el conjunto de datos original\n",
    "    predictions_lr = best_logistic_model.predict(X)\n",
    "    predictions_svm = best_svm_model.predict(X)\n",
    "    predictions_xgboost = best_xgboost_model.predict(X)\n",
    "    predictions_xgboost_bool = predictions_xgboost.astype(bool)\n",
    "\n",
    "\n",
    "    # Agregar las predicciones como nuevas columnas al conjunto de datos original\n",
    "    buy_signals['predicciones_lr'] = predictions_lr\n",
    "    buy_signals['predicciones_svm'] = predictions_svm\n",
    "    buy_signals['predicciones_xgboost'] = predictions_xgboost_bool\n",
    "\n",
    "    return buy_signals"
   ]
  },
  {
   "cell_type": "code",
   "execution_count": 7,
   "id": "1d2bdcc0",
   "metadata": {
    "ExecuteTime": {
     "end_time": "2024-03-10T16:27:15.632748Z",
     "start_time": "2024-03-10T16:27:15.625744Z"
    }
   },
   "outputs": [],
   "source": [
    "def sell_signals(data):\n",
    "    sell_signals = pd.DataFrame()\n",
    "    # Selecciona las características\n",
    "    X = data.iloc[:, :-1]\n",
    "    # Selecciona la variable objetivo\n",
    "    y = data.iloc[:, -1]\n",
    "\n",
    "    # Crear modelos con los mejores parámetros encontrados para cada algoritmo\n",
    "    best_logistic_model = LogisticRegression(penalty='l1', C=391.6055943510264, solver='liblinear')\n",
    "    best_svm_model = SVC(C=34.154290341054214, kernel='rbf', gamma='scale')\n",
    "    best_xgboost_model = XGBClassifier(n_estimators=300, max_depth=7, learning_rate=0.01845611375279615, subsample=0.7,\n",
    "                                       colsample_bytree=0.9)\n",
    "\n",
    "    # Entrenar los modelos con todo el conjunto de datos original\n",
    "    best_logistic_model.fit(X, y)\n",
    "    best_svm_model.fit(X, y)\n",
    "    best_xgboost_model.fit(X, y)\n",
    "\n",
    "    # Realizar predicciones en el conjunto de datos original\n",
    "    predictions_lr = best_logistic_model.predict(X)\n",
    "    predictions_svm = best_svm_model.predict(X)\n",
    "    predictions_xgboost = best_xgboost_model.predict(X)\n",
    "    predictions_xgboost_bool = predictions_xgboost.astype(bool)\n",
    "\n",
    "    # Agregar las predicciones como nuevas columnas al conjunto de datos original\n",
    "    sell_signals['predicciones_lr'] = predictions_lr\n",
    "    sell_signals['predicciones_svm'] = predictions_svm\n",
    "    sell_signals['predicciones_xgboost'] = predictions_xgboost_bool\n",
    "\n",
    "    return sell_signals"
   ]
  },
  {
   "cell_type": "code",
   "execution_count": 8,
   "id": "90906dd0",
   "metadata": {
    "ExecuteTime": {
     "end_time": "2024-03-10T16:27:16.179620Z",
     "start_time": "2024-03-10T16:27:15.630496Z"
    }
   },
   "outputs": [
    {
     "name": "stderr",
     "output_type": "stream",
     "text": [
      "/opt/anaconda3/envs/trading/lib/python3.11/site-packages/sklearn/svm/_base.py:1237: ConvergenceWarning: Liblinear failed to converge, increase the number of iterations.\n",
      "  warnings.warn(\n"
     ]
    }
   ],
   "source": [
    "global_buy_signals = buy_signals(dataresult_long_1d_test)\n",
    "global_sell_signals = sell_signals(dataresult_short_1d_test)"
   ]
  },
  {
   "cell_type": "code",
   "execution_count": 9,
   "id": "146facd0",
   "metadata": {
    "ExecuteTime": {
     "end_time": "2024-03-10T16:27:16.189859Z",
     "start_time": "2024-03-10T16:27:16.177251Z"
    }
   },
   "outputs": [],
   "source": [
    "def backtest(data, buy_signals, sell_signals, stop_loss, take_profit, n_shares):\n",
    "            history = []\n",
    "            active_operations = []\n",
    "            cash = 1_000_000\n",
    "            com = 1.25 / 100\n",
    "\n",
    "            for i, row in data.iterrows():\n",
    "                # close active operation\n",
    "                active_op_temp = []\n",
    "                for operation in active_operations:\n",
    "                    if operation[\"stop_loss\"] > row.Close:\n",
    "                        cash += (row.Close * operation[\"n_shares\"]) * (1 - com)\n",
    "                    elif operation[\"take_profit\"] < row.Close:\n",
    "                        cash += (row.Close * operation[\"n_shares\"]) * (1 - com)\n",
    "                    else:\n",
    "                        active_op_temp.append(operation)\n",
    "                active_operations = active_op_temp\n",
    "\n",
    "                # check if we have enough cash\n",
    "                if cash < (row.Close * (1 + com)):\n",
    "                    asset_vals = sum([operation[\"n_shares\"] * row.Close for operation in active_operations])\n",
    "                    portfolio_value = cash + asset_vals\n",
    "                    continue\n",
    "\n",
    "                # Apply buy signals\n",
    "                if buy_signals.loc[i].any():\n",
    "                    active_operations.append({\n",
    "                        \"bought\": row.Close,\n",
    "                        \"n_shares\": n_shares,\n",
    "                        \"stop_loss\": row.Close * stop_loss,\n",
    "                        \"take_profit\": row.Close * take_profit\n",
    "                    })\n",
    "\n",
    "                    cash -= row.Close * (1 + com) * n_shares\n",
    "\n",
    "                # Apply sell signals\n",
    "                if sell_signals.loc[i].any():\n",
    "                    active_op_temp = []\n",
    "                    for operation in active_operations:\n",
    "                        if operation[\"take_profit\"] < row.Close or operation[\"stop_loss\"] > row.Close:\n",
    "                            cash += (row.Close * operation[\"n_shares\"]) * (1 - com)\n",
    "                        else:\n",
    "                            active_op_temp.append(operation)\n",
    "                    active_operations = active_op_temp\n",
    "\n",
    "                asset_vals = sum([operation[\"n_shares\"] * row.Close for operation in active_operations])\n",
    "                portfolio_value = cash + asset_vals\n",
    "\n",
    "            return portfolio_value"
   ]
  },
  {
   "cell_type": "code",
   "execution_count": 10,
   "id": "703d56ef",
   "metadata": {
    "ExecuteTime": {
     "end_time": "2024-03-10T16:27:16.190871Z",
     "start_time": "2024-03-10T16:27:16.188416Z"
    }
   },
   "outputs": [],
   "source": [
    "def optimize(trial, strategy, data):\n",
    "    portfolio_value = 0\n",
    "\n",
    "    stop_loss = trial.suggest_float(\"stop_loss\", 0.80, 0.90)\n",
    "    take_profit = trial.suggest_float(\"take_profit\", 1.01, 1.10)\n",
    "    n_shares = trial.suggest_int(\"n_shares\", 20, 50)\n",
    "\n",
    "    strat_params = {}\n",
    "\n",
    "    buy_signals = pd.DataFrame()\n",
    "    sell_signals = pd.DataFrame()\n",
    "\n",
    "    if \"logistic\" in strategy:\n",
    "        buy_signals[\"logistic\"] = global_buy_signals[\"predicciones_lr\"]\n",
    "        sell_signals[\"logistic\"] = global_sell_signals[\"predicciones_lr\"]\n",
    "        \n",
    "    if \"svm\" in strategy:\n",
    "        buy_signals[\"svm\"] = global_buy_signals[\"predicciones_svm\"]\n",
    "        sell_signals[\"svm\"] = global_sell_signals[\"predicciones_svm\"]\n",
    "        \n",
    "    if \"xg\" in strategy:\n",
    "        buy_signals[\"xg\"] = global_buy_signals[\"predicciones_xgboost\"]\n",
    "        sell_signals[\"xg\"] = global_sell_signals[\"predicciones_xgboost\"]\n",
    "    \n",
    "    return backtest(data, buy_signals, sell_signals, stop_loss, take_profit, n_shares)"
   ]
  },
  {
   "cell_type": "code",
   "execution_count": 11,
   "id": "a4885d14",
   "metadata": {
    "ExecuteTime": {
     "end_time": "2024-03-10T16:27:16.194965Z",
     "start_time": "2024-03-10T16:27:16.192630Z"
    }
   },
   "outputs": [],
   "source": [
    "def optimize_file(data):\n",
    "    data = data.drop(data.index[:30])\n",
    "    data = data.drop(data.index[-30:])\n",
    "    data.reset_index(drop=True, inplace=True)\n",
    "    strategies = list(powerset([\"logistic\", \"svm\", \"xg\"]))\n",
    "    best_strat = None\n",
    "    best_val = -1\n",
    "    best_params = None\n",
    "\n",
    "    for strat in strategies:\n",
    "        study = optuna.create_study(direction=\"maximize\")\n",
    "        study.optimize(lambda x: optimize(x, strat, data), n_trials=15)\n",
    "        value = study.best_value\n",
    "        if value > best_val:\n",
    "            best_val = value\n",
    "            best_strat = strat\n",
    "            best_params = study.best_params\n",
    "    print(study.best_value)\n",
    "    print(best_strat)\n",
    "    print(best_params)\n",
    "\n",
    "    return {\"file\": data,\n",
    "            \"strat\": best_strat,\n",
    "            \"value\": best_val,\n",
    "            \"params\": best_params}"
   ]
  },
  {
   "cell_type": "code",
   "execution_count": 12,
   "id": "5fbac6d1",
   "metadata": {
    "scrolled": false,
    "ExecuteTime": {
     "end_time": "2024-03-10T16:27:44.184405Z",
     "start_time": "2024-03-10T16:27:16.195853Z"
    }
   },
   "outputs": [
    {
     "name": "stderr",
     "output_type": "stream",
     "text": [
      "[I 2024-03-10 10:27:16,196] A new study created in memory with name: no-name-12a90de4-ce4d-42ff-86bc-76450998b0c4\n",
      "[I 2024-03-10 10:27:16,516] Trial 0 finished with value: 1005481.7124999999 and parameters: {'stop_loss': 0.854932130777023, 'take_profit': 1.0940304649813113, 'n_shares': 33}. Best is trial 0 with value: 1005481.7124999999.\n",
      "[I 2024-03-10 10:27:16,639] Trial 1 finished with value: 913403.2738750015 and parameters: {'stop_loss': 0.8885636524398958, 'take_profit': 1.0236118650052748, 'n_shares': 39}. Best is trial 0 with value: 1005481.7124999999.\n",
      "[I 2024-03-10 10:27:16,905] Trial 2 finished with value: 990966.9760000024 and parameters: {'stop_loss': 0.8852867643723603, 'take_profit': 1.0955619517896351, 'n_shares': 26}. Best is trial 0 with value: 1005481.7124999999.\n",
      "[I 2024-03-10 10:27:17,047] Trial 3 finished with value: 937729.2040000022 and parameters: {'stop_loss': 0.8522390078239586, 'take_profit': 1.0205630542787556, 'n_shares': 34}. Best is trial 0 with value: 1005481.7124999999.\n",
      "[I 2024-03-10 10:27:17,285] Trial 4 finished with value: 979468.7164999996 and parameters: {'stop_loss': 0.8882834014134966, 'take_profit': 1.0826144766098096, 'n_shares': 26}. Best is trial 0 with value: 1005481.7124999999.\n",
      "[I 2024-03-10 10:27:17,516] Trial 5 finished with value: 947537.0562500044 and parameters: {'stop_loss': 0.8285010513035311, 'take_profit': 1.0492636358616396, 'n_shares': 50}. Best is trial 0 with value: 1005481.7124999999.\n",
      "[I 2024-03-10 10:27:17,766] Trial 6 finished with value: 969680.381000003 and parameters: {'stop_loss': 0.8106354658684212, 'take_profit': 1.0527875999687835, 'n_shares': 34}. Best is trial 0 with value: 1005481.7124999999.\n",
      "[I 2024-03-10 10:27:17,877] Trial 7 finished with value: 940036.843500002 and parameters: {'stop_loss': 0.853445340952787, 'take_profit': 1.0128452532596381, 'n_shares': 34}. Best is trial 0 with value: 1005481.7124999999.\n",
      "[I 2024-03-10 10:27:18,029] Trial 8 finished with value: 936023.0100000025 and parameters: {'stop_loss': 0.8126194740921767, 'take_profit': 1.0211198950962181, 'n_shares': 44}. Best is trial 0 with value: 1005481.7124999999.\n",
      "[I 2024-03-10 10:27:18,228] Trial 9 finished with value: 923106.8875000022 and parameters: {'stop_loss': 0.8921030747831055, 'take_profit': 1.0625185217318616, 'n_shares': 50}. Best is trial 0 with value: 1005481.7124999999.\n",
      "[I 2024-03-10 10:27:18,493] Trial 10 finished with value: 982513.4601249992 and parameters: {'stop_loss': 0.8630804849867032, 'take_profit': 1.075219591933612, 'n_shares': 21}. Best is trial 0 with value: 1005481.7124999999.\n",
      "[I 2024-03-10 10:27:18,790] Trial 11 finished with value: 1002040.9198750062 and parameters: {'stop_loss': 0.8689618462583552, 'take_profit': 1.0998966081540376, 'n_shares': 27}. Best is trial 0 with value: 1005481.7124999999.\n",
      "[I 2024-03-10 10:27:19,088] Trial 12 finished with value: 999877.6960000022 and parameters: {'stop_loss': 0.871367277990512, 'take_profit': 1.0997915109010283, 'n_shares': 28}. Best is trial 0 with value: 1005481.7124999999.\n",
      "[I 2024-03-10 10:27:19,430] Trial 13 finished with value: 999141.3362499971 and parameters: {'stop_loss': 0.8339288901882752, 'take_profit': 1.08403885273524, 'n_shares': 30}. Best is trial 0 with value: 1005481.7124999999.\n",
      "[I 2024-03-10 10:27:19,715] Trial 14 finished with value: 993924.050000002 and parameters: {'stop_loss': 0.8689410005903153, 'take_profit': 1.0883371039378982, 'n_shares': 20}. Best is trial 0 with value: 1005481.7124999999.\n",
      "[I 2024-03-10 10:27:19,716] A new study created in memory with name: no-name-4f17c5be-92e0-44b1-be42-a484648bd797\n",
      "[I 2024-03-10 10:27:19,829] Trial 0 finished with value: 899306.8131250041 and parameters: {'stop_loss': 0.8833156100342319, 'take_profit': 1.0156357672971241, 'n_shares': 45}. Best is trial 0 with value: 899306.8131250041.\n",
      "[I 2024-03-10 10:27:20,067] Trial 1 finished with value: 983999.6169999994 and parameters: {'stop_loss': 0.8423603677739987, 'take_profit': 1.057858394900272, 'n_shares': 21}. Best is trial 1 with value: 983999.6169999994.\n",
      "[I 2024-03-10 10:27:20,222] Trial 2 finished with value: 931390.5756250033 and parameters: {'stop_loss': 0.8346532787055845, 'take_profit': 1.0259645905183838, 'n_shares': 45}. Best is trial 1 with value: 983999.6169999994.\n",
      "[I 2024-03-10 10:27:20,475] Trial 3 finished with value: 994909.4889999987 and parameters: {'stop_loss': 0.8833391753228279, 'take_profit': 1.08728916312488, 'n_shares': 24}. Best is trial 3 with value: 994909.4889999987.\n",
      "[I 2024-03-10 10:27:20,671] Trial 4 finished with value: 977049.9909999997 and parameters: {'stop_loss': 0.8235633386235455, 'take_profit': 1.0390317125767625, 'n_shares': 24}. Best is trial 3 with value: 994909.4889999987.\n",
      "[I 2024-03-10 10:27:21,011] Trial 5 finished with value: 1048912.8103750017 and parameters: {'stop_loss': 0.8194655248264746, 'take_profit': 1.093299718878882, 'n_shares': 41}. Best is trial 5 with value: 1048912.8103750017.\n",
      "[I 2024-03-10 10:27:21,338] Trial 6 finished with value: 1001248.9524999969 and parameters: {'stop_loss': 0.8726793338347161, 'take_profit': 1.0916740746951996, 'n_shares': 30}. Best is trial 5 with value: 1048912.8103750017.\n",
      "[I 2024-03-10 10:27:21,499] Trial 7 finished with value: 944539.5424999977 and parameters: {'stop_loss': 0.8693483825569479, 'take_profit': 1.0334044855736308, 'n_shares': 35}. Best is trial 5 with value: 1048912.8103750017.\n",
      "[I 2024-03-10 10:27:21,771] Trial 8 finished with value: 999690.454 and parameters: {'stop_loss': 0.881964298820156, 'take_profit': 1.0967509516881384, 'n_shares': 48}. Best is trial 5 with value: 1048912.8103750017.\n",
      "[I 2024-03-10 10:27:22,030] Trial 9 finished with value: 996938.5600000026 and parameters: {'stop_loss': 0.8850636121722386, 'take_profit': 1.0901527073726862, 'n_shares': 20}. Best is trial 5 with value: 1048912.8103750017.\n",
      "[I 2024-03-10 10:27:22,320] Trial 10 finished with value: 1009847.3450000018 and parameters: {'stop_loss': 0.8027599660578572, 'take_profit': 1.0693824130094438, 'n_shares': 40}. Best is trial 5 with value: 1048912.8103750017.\n",
      "[I 2024-03-10 10:27:22,614] Trial 11 finished with value: 1012584.3050000018 and parameters: {'stop_loss': 0.8004343262140382, 'take_profit': 1.0690503758213419, 'n_shares': 40}. Best is trial 5 with value: 1048912.8103750017.\n",
      "[I 2024-03-10 10:27:22,920] Trial 12 finished with value: 1019013.1385000013 and parameters: {'stop_loss': 0.8002372739464618, 'take_profit': 1.073151528013199, 'n_shares': 38}. Best is trial 5 with value: 1048912.8103750017.\n",
      "[I 2024-03-10 10:27:23,224] Trial 13 finished with value: 1017385.2223749966 and parameters: {'stop_loss': 0.8181153356972428, 'take_profit': 1.077663602739398, 'n_shares': 37}. Best is trial 5 with value: 1048912.8103750017.\n",
      "[I 2024-03-10 10:27:23,459] Trial 14 finished with value: 980191.9640000032 and parameters: {'stop_loss': 0.8159364883564649, 'take_profit': 1.0521093305085292, 'n_shares': 32}. Best is trial 5 with value: 1048912.8103750017.\n",
      "[I 2024-03-10 10:27:23,459] A new study created in memory with name: no-name-18a28ab9-98a2-4764-9964-c623badb95cf\n",
      "[I 2024-03-10 10:27:23,633] Trial 0 finished with value: 1066465.006250001 and parameters: {'stop_loss': 0.8692691321833239, 'take_profit': 1.078033251565149, 'n_shares': 34}. Best is trial 0 with value: 1066465.006250001.\n",
      "[I 2024-03-10 10:27:23,696] Trial 1 finished with value: 986762.5956250008 and parameters: {'stop_loss': 0.8460300615192341, 'take_profit': 1.0110881377608052, 'n_shares': 39}. Best is trial 0 with value: 1066465.006250001.\n",
      "[I 2024-03-10 10:27:23,842] Trial 2 finished with value: 1046395.1120000024 and parameters: {'stop_loss': 0.8053940186878511, 'take_profit': 1.060654855728923, 'n_shares': 32}. Best is trial 0 with value: 1066465.006250001.\n",
      "[I 2024-03-10 10:27:23,909] Trial 3 finished with value: 987599.49475 and parameters: {'stop_loss': 0.8436136063287049, 'take_profit': 1.0151858142588095, 'n_shares': 42}. Best is trial 0 with value: 1066465.006250001.\n",
      "[I 2024-03-10 10:27:24,054] Trial 4 finished with value: 1054922.950000001 and parameters: {'stop_loss': 0.8214929569366152, 'take_profit': 1.0625738128204962, 'n_shares': 36}. Best is trial 0 with value: 1066465.006250001.\n",
      "[I 2024-03-10 10:27:24,268] Trial 5 finished with value: 1110958.2436250004 and parameters: {'stop_loss': 0.8121944069340148, 'take_profit': 1.0973632198193335, 'n_shares': 41}. Best is trial 5 with value: 1110958.2436250004.\n",
      "[I 2024-03-10 10:27:24,354] Trial 6 finished with value: 1011255.3429999986 and parameters: {'stop_loss': 0.8798904817772104, 'take_profit': 1.0345498831442876, 'n_shares': 22}. Best is trial 5 with value: 1110958.2436250004.\n",
      "[I 2024-03-10 10:27:24,458] Trial 7 finished with value: 1037558.982999999 and parameters: {'stop_loss': 0.8672801505337113, 'take_profit': 1.0441536366027824, 'n_shares': 42}. Best is trial 5 with value: 1110958.2436250004.\n",
      "[I 2024-03-10 10:27:24,617] Trial 8 finished with value: 1045704.4156249992 and parameters: {'stop_loss': 0.8330286589119407, 'take_profit': 1.0719519924251126, 'n_shares': 25}. Best is trial 5 with value: 1110958.2436250004.\n",
      "[I 2024-03-10 10:27:24,733] Trial 9 finished with value: 1041841.0343750004 and parameters: {'stop_loss': 0.8201765162636816, 'take_profit': 1.0473555670563546, 'n_shares': 35}. Best is trial 5 with value: 1110958.2436250004.\n",
      "[I 2024-03-10 10:27:24,958] Trial 10 finished with value: 1142052.137500002 and parameters: {'stop_loss': 0.8008519528053258, 'take_profit': 1.0997990569119018, 'n_shares': 50}. Best is trial 10 with value: 1142052.137500002.\n",
      "[I 2024-03-10 10:27:25,181] Trial 11 finished with value: 1134620.1010000007 and parameters: {'stop_loss': 0.8015427544508672, 'take_profit': 1.0973252159863045, 'n_shares': 49}. Best is trial 10 with value: 1142052.137500002.\n",
      "[I 2024-03-10 10:27:25,404] Trial 12 finished with value: 1138330.2562500022 and parameters: {'stop_loss': 0.8038386489172135, 'take_profit': 1.0987003606555428, 'n_shares': 50}. Best is trial 10 with value: 1142052.137500002.\n",
      "[I 2024-03-10 10:27:25,593] Trial 13 finished with value: 1111038.7937500025 and parameters: {'stop_loss': 0.8312665596450646, 'take_profit': 1.0840672853254967, 'n_shares': 50}. Best is trial 10 with value: 1142052.137500002.\n",
      "[I 2024-03-10 10:27:25,795] Trial 14 finished with value: 1108600.5604999987 and parameters: {'stop_loss': 0.8155289865294358, 'take_profit': 1.0883650360700183, 'n_shares': 46}. Best is trial 10 with value: 1142052.137500002.\n",
      "[I 2024-03-10 10:27:25,796] A new study created in memory with name: no-name-130fa180-756f-465f-88f4-19a7f006ecd0\n",
      "[I 2024-03-10 10:27:25,999] Trial 0 finished with value: 964201.4154999981 and parameters: {'stop_loss': 0.8504559062316376, 'take_profit': 1.038073737859815, 'n_shares': 28}. Best is trial 0 with value: 964201.4154999981.\n",
      "[I 2024-03-10 10:27:26,221] Trial 1 finished with value: 971923.5972500008 and parameters: {'stop_loss': 0.8799676696008232, 'take_profit': 1.0570445500894479, 'n_shares': 22}. Best is trial 1 with value: 971923.5972500008.\n",
      "[I 2024-03-10 10:27:26,596] Trial 2 finished with value: 1037494.6976249958 and parameters: {'stop_loss': 0.8062259664609955, 'take_profit': 1.09118709538829, 'n_shares': 31}. Best is trial 2 with value: 1037494.6976249958.\n",
      "[I 2024-03-10 10:27:26,792] Trial 3 finished with value: 977034.4299999974 and parameters: {'stop_loss': 0.803848112971128, 'take_profit': 1.029227457369613, 'n_shares': 20}. Best is trial 2 with value: 1037494.6976249958.\n",
      "[I 2024-03-10 10:27:27,124] Trial 4 finished with value: 1002008.3450000004 and parameters: {'stop_loss': 0.8418579426378412, 'take_profit': 1.0800881191443326, 'n_shares': 20}. Best is trial 2 with value: 1037494.6976249958.\n",
      "[I 2024-03-10 10:27:27,423] Trial 5 finished with value: 994633.46025 and parameters: {'stop_loss': 0.8451327305057393, 'take_profit': 1.0757342272583263, 'n_shares': 22}. Best is trial 2 with value: 1037494.6976249958.\n",
      "[I 2024-03-10 10:27:27,707] Trial 6 finished with value: 985135.1906249981 and parameters: {'stop_loss': 0.8310529804881968, 'take_profit': 1.0645337410385238, 'n_shares': 25}. Best is trial 2 with value: 1037494.6976249958.\n",
      "[I 2024-03-10 10:27:27,993] Trial 7 finished with value: 996845.8183749984 and parameters: {'stop_loss': 0.879401372174127, 'take_profit': 1.08879437027716, 'n_shares': 21}. Best is trial 2 with value: 1037494.6976249958.\n",
      "[I 2024-03-10 10:27:28,123] Trial 8 finished with value: 945723.6549999968 and parameters: {'stop_loss': 0.8722887359596758, 'take_profit': 1.0173614447084771, 'n_shares': 24}. Best is trial 2 with value: 1037494.6976249958.\n",
      "[I 2024-03-10 10:27:28,245] Trial 9 finished with value: 944393.8875000009 and parameters: {'stop_loss': 0.8218205922481314, 'take_profit': 1.0108330353625194, 'n_shares': 38}. Best is trial 2 with value: 1037494.6976249958.\n",
      "[I 2024-03-10 10:27:28,635] Trial 10 finished with value: 1071113.0919999974 and parameters: {'stop_loss': 0.8049096265531607, 'take_profit': 1.0964256676501323, 'n_shares': 48}. Best is trial 10 with value: 1071113.0919999974.\n",
      "[I 2024-03-10 10:27:29,037] Trial 11 finished with value: 1079394.3062500008 and parameters: {'stop_loss': 0.8000983530319529, 'take_profit': 1.099416837615696, 'n_shares': 50}. Best is trial 11 with value: 1079394.3062500008.\n",
      "[I 2024-03-10 10:27:29,426] Trial 12 finished with value: 1077179.3625000007 and parameters: {'stop_loss': 0.8009162165997216, 'take_profit': 1.096161845902263, 'n_shares': 50}. Best is trial 11 with value: 1079394.3062500008.\n",
      "[I 2024-03-10 10:27:29,811] Trial 13 finished with value: 1072661.0375000017 and parameters: {'stop_loss': 0.8203422917882286, 'take_profit': 1.0993409497098132, 'n_shares': 50}. Best is trial 11 with value: 1079394.3062500008.\n",
      "[I 2024-03-10 10:27:30,109] Trial 14 finished with value: 980856.7879999998 and parameters: {'stop_loss': 0.8615099785423668, 'take_profit': 1.0756320367773242, 'n_shares': 44}. Best is trial 11 with value: 1079394.3062500008.\n",
      "[I 2024-03-10 10:27:30,110] A new study created in memory with name: no-name-d9d7c8ea-aa57-474c-a5be-b53f58741b4c\n",
      "[I 2024-03-10 10:27:30,320] Trial 0 finished with value: 927226.2463749987 and parameters: {'stop_loss': 0.8683076595175542, 'take_profit': 1.0401044956810646, 'n_shares': 43}. Best is trial 0 with value: 927226.2463749987.\n",
      "[I 2024-03-10 10:27:30,494] Trial 1 finished with value: 922362.185000003 and parameters: {'stop_loss': 0.8878798282795464, 'take_profit': 1.034579519048588, 'n_shares': 40}. Best is trial 0 with value: 927226.2463749987.\n",
      "[I 2024-03-10 10:27:30,660] Trial 2 finished with value: 911460.131499998 and parameters: {'stop_loss': 0.899429562351475, 'take_profit': 1.0394448707475668, 'n_shares': 46}. Best is trial 0 with value: 927226.2463749987.\n",
      "[I 2024-03-10 10:27:31,006] Trial 3 finished with value: 1011925.6059999992 and parameters: {'stop_loss': 0.8136949862082759, 'take_profit': 1.0754620713580243, 'n_shares': 44}. Best is trial 3 with value: 1011925.6059999992.\n",
      "[I 2024-03-10 10:27:31,190] Trial 4 finished with value: 936071.6635000007 and parameters: {'stop_loss': 0.8579464380606359, 'take_profit': 1.0236994177849554, 'n_shares': 36}. Best is trial 3 with value: 1011925.6059999992.\n",
      "[I 2024-03-10 10:27:31,515] Trial 5 finished with value: 988691.2674999977 and parameters: {'stop_loss': 0.8991341325473562, 'take_profit': 1.084717072035984, 'n_shares': 30}. Best is trial 3 with value: 1011925.6059999992.\n",
      "[I 2024-03-10 10:27:31,781] Trial 6 finished with value: 959018.8312500025 and parameters: {'stop_loss': 0.8622853733071266, 'take_profit': 1.044290109546031, 'n_shares': 25}. Best is trial 3 with value: 1011925.6059999992.\n",
      "[I 2024-03-10 10:27:31,918] Trial 7 finished with value: 961265.8077499983 and parameters: {'stop_loss': 0.8144471691853604, 'take_profit': 1.010372210889537, 'n_shares': 26}. Best is trial 3 with value: 1011925.6059999992.\n",
      "[I 2024-03-10 10:27:32,287] Trial 8 finished with value: 1005478.6183749968 and parameters: {'stop_loss': 0.8355766588908135, 'take_profit': 1.0818514504575814, 'n_shares': 31}. Best is trial 3 with value: 1011925.6059999992.\n",
      "[I 2024-03-10 10:27:32,529] Trial 9 finished with value: 958388.1099999999 and parameters: {'stop_loss': 0.8985498875368355, 'take_profit': 1.0715851294386824, 'n_shares': 48}. Best is trial 3 with value: 1011925.6059999992.\n",
      "[I 2024-03-10 10:27:32,956] Trial 10 finished with value: 1049186.444749997 and parameters: {'stop_loss': 0.8031970241976338, 'take_profit': 1.099791931517641, 'n_shares': 38}. Best is trial 10 with value: 1049186.444749997.\n",
      "[I 2024-03-10 10:27:33,380] Trial 11 finished with value: 1050607.9012499969 and parameters: {'stop_loss': 0.8022498667908999, 'take_profit': 1.0976054355398985, 'n_shares': 38}. Best is trial 11 with value: 1050607.9012499969.\n",
      "[I 2024-03-10 10:27:33,807] Trial 12 finished with value: 1043828.3777499998 and parameters: {'stop_loss': 0.8028070571956076, 'take_profit': 1.0948129817100882, 'n_shares': 37}. Best is trial 11 with value: 1050607.9012499969.\n",
      "[I 2024-03-10 10:27:34,208] Trial 13 finished with value: 1017864.5600000028 and parameters: {'stop_loss': 0.8341772405478227, 'take_profit': 1.0999262375586245, 'n_shares': 20}. Best is trial 11 with value: 1050607.9012499969.\n",
      "[I 2024-03-10 10:27:34,689] Trial 14 finished with value: 987575.2550000026 and parameters: {'stop_loss': 0.8032527837775959, 'take_profit': 1.0615470912774516, 'n_shares': 40}. Best is trial 11 with value: 1050607.9012499969.\n",
      "[I 2024-03-10 10:27:34,691] A new study created in memory with name: no-name-33366400-4d87-461b-81ab-e15b69ba8fac\n",
      "[I 2024-03-10 10:27:34,957] Trial 0 finished with value: 943128.2500000007 and parameters: {'stop_loss': 0.8796967403338712, 'take_profit': 1.0634900744838462, 'n_shares': 48}. Best is trial 0 with value: 943128.2500000007.\n",
      "[I 2024-03-10 10:27:35,154] Trial 1 finished with value: 957534.5069999981 and parameters: {'stop_loss': 0.8995724281397318, 'take_profit': 1.0525903512709802, 'n_shares': 28}. Best is trial 1 with value: 957534.5069999981.\n",
      "[I 2024-03-10 10:27:35,727] Trial 2 finished with value: 1012696.3768750036 and parameters: {'stop_loss': 0.8141675798287117, 'take_profit': 1.0747786456083654, 'n_shares': 39}. Best is trial 2 with value: 1012696.3768750036.\n",
      "[I 2024-03-10 10:27:35,927] Trial 3 finished with value: 947373.0707500018 and parameters: {'stop_loss': 0.8003743514995019, 'take_profit': 1.0236153760868552, 'n_shares': 42}. Best is trial 2 with value: 1012696.3768750036.\n",
      "[I 2024-03-10 10:27:36,177] Trial 4 finished with value: 966753.8000000032 and parameters: {'stop_loss': 0.8054244699028019, 'take_profit': 1.0411179966059598, 'n_shares': 32}. Best is trial 2 with value: 1012696.3768750036.\n",
      "[I 2024-03-10 10:27:36,403] Trial 5 finished with value: 962652.8004999962 and parameters: {'stop_loss': 0.8941436146408932, 'take_profit': 1.0586047229204765, 'n_shares': 26}. Best is trial 2 with value: 1012696.3768750036.\n",
      "[I 2024-03-10 10:27:36,660] Trial 6 finished with value: 949624.0311250018 and parameters: {'stop_loss': 0.8524721139038226, 'take_profit': 1.0535907341382338, 'n_shares': 47}. Best is trial 2 with value: 1012696.3768750036.\n",
      "[I 2024-03-10 10:27:36,841] Trial 7 finished with value: 940851.2990000045 and parameters: {'stop_loss': 0.8081843597540784, 'take_profit': 1.023570369321197, 'n_shares': 47}. Best is trial 2 with value: 1012696.3768750036.\n",
      "[I 2024-03-10 10:27:37,165] Trial 8 finished with value: 998003.1379999992 and parameters: {'stop_loss': 0.8140360655771196, 'take_profit': 1.0664237761418567, 'n_shares': 28}. Best is trial 2 with value: 1012696.3768750036.\n",
      "[I 2024-03-10 10:27:37,426] Trial 9 finished with value: 953282.7280000013 and parameters: {'stop_loss': 0.8823838465402976, 'take_profit': 1.0686042327874883, 'n_shares': 48}. Best is trial 2 with value: 1012696.3768750036.\n",
      "[I 2024-03-10 10:27:37,823] Trial 10 finished with value: 1035190.2655000014 and parameters: {'stop_loss': 0.8330936059871552, 'take_profit': 1.0976591807912377, 'n_shares': 39}. Best is trial 10 with value: 1035190.2655000014.\n",
      "[I 2024-03-10 10:27:38,216] Trial 11 finished with value: 1037369.4944999975 and parameters: {'stop_loss': 0.8314249498815335, 'take_profit': 1.0993511427887919, 'n_shares': 38}. Best is trial 11 with value: 1037369.4944999975.\n",
      "[I 2024-03-10 10:27:38,594] Trial 12 finished with value: 1023341.1262499993 and parameters: {'stop_loss': 0.8376353915488169, 'take_profit': 1.0931311593388717, 'n_shares': 37}. Best is trial 11 with value: 1037369.4944999975.\n",
      "[I 2024-03-10 10:27:38,984] Trial 13 finished with value: 1031464.0037500053 and parameters: {'stop_loss': 0.8360836448650305, 'take_profit': 1.099565950144, 'n_shares': 34}. Best is trial 11 with value: 1037369.4944999975.\n",
      "[I 2024-03-10 10:27:39,334] Trial 14 finished with value: 1001628.2584999986 and parameters: {'stop_loss': 0.8326380806210276, 'take_profit': 1.078812333381458, 'n_shares': 22}. Best is trial 11 with value: 1037369.4944999975.\n",
      "[I 2024-03-10 10:27:39,335] A new study created in memory with name: no-name-1ec9dcb7-7183-46a3-908f-69b318733213\n",
      "[I 2024-03-10 10:27:39,677] Trial 0 finished with value: 1004322.4569999976 and parameters: {'stop_loss': 0.8592216618636535, 'take_profit': 1.0856595349680156, 'n_shares': 36}. Best is trial 0 with value: 1004322.4569999976.\n",
      "[I 2024-03-10 10:27:39,921] Trial 1 finished with value: 954098.3065000027 and parameters: {'stop_loss': 0.8283048602620543, 'take_profit': 1.0416142461304885, 'n_shares': 41}. Best is trial 0 with value: 1004322.4569999976.\n",
      "[I 2024-03-10 10:27:40,297] Trial 2 finished with value: 1029976.025499999 and parameters: {'stop_loss': 0.8211855302310471, 'take_profit': 1.0862055988925665, 'n_shares': 36}. Best is trial 2 with value: 1029976.025499999.\n",
      "[I 2024-03-10 10:27:40,566] Trial 3 finished with value: 981574.0072500004 and parameters: {'stop_loss': 0.885251045463929, 'take_profit': 1.0712328897754255, 'n_shares': 22}. Best is trial 2 with value: 1029976.025499999.\n",
      "[I 2024-03-10 10:27:40,872] Trial 4 finished with value: 994094.9552499994 and parameters: {'stop_loss': 0.8867719431162657, 'take_profit': 1.0890383535793462, 'n_shares': 47}. Best is trial 2 with value: 1029976.025499999.\n",
      "[I 2024-03-10 10:27:41,170] Trial 5 finished with value: 983647.6832499992 and parameters: {'stop_loss': 0.8362066405160107, 'take_profit': 1.0619812333430854, 'n_shares': 21}. Best is trial 2 with value: 1029976.025499999.\n",
      "[I 2024-03-10 10:27:41,329] Trial 6 finished with value: 949610.5520000028 and parameters: {'stop_loss': 0.8198577854059477, 'take_profit': 1.0176284252704841, 'n_shares': 32}. Best is trial 2 with value: 1029976.025499999.\n",
      "[I 2024-03-10 10:27:41,654] Trial 7 finished with value: 989631.6862499944 and parameters: {'stop_loss': 0.8516953234827788, 'take_profit': 1.0757393335173007, 'n_shares': 46}. Best is trial 2 with value: 1029976.025499999.\n",
      "[I 2024-03-10 10:27:41,937] Trial 8 finished with value: 980461.833624999 and parameters: {'stop_loss': 0.8816762958080206, 'take_profit': 1.0755347217406963, 'n_shares': 29}. Best is trial 2 with value: 1029976.025499999.\n",
      "[I 2024-03-10 10:27:42,199] Trial 9 finished with value: 966267.9837500041 and parameters: {'stop_loss': 0.8613740066235837, 'take_profit': 1.0569205713683383, 'n_shares': 34}. Best is trial 2 with value: 1029976.025499999.\n",
      "[I 2024-03-10 10:27:42,631] Trial 10 finished with value: 1037470.5763750037 and parameters: {'stop_loss': 0.8035741231244612, 'take_profit': 1.0971017628538533, 'n_shares': 27}. Best is trial 10 with value: 1037470.5763750037.\n",
      "[I 2024-03-10 10:27:43,059] Trial 11 finished with value: 1039692.6325000038 and parameters: {'stop_loss': 0.8018493936497535, 'take_profit': 1.0952487305359158, 'n_shares': 27}. Best is trial 11 with value: 1039692.6325000038.\n",
      "[I 2024-03-10 10:27:43,497] Trial 12 finished with value: 1043579.053000001 and parameters: {'stop_loss': 0.8002323959634166, 'take_profit': 1.0996879307795366, 'n_shares': 28}. Best is trial 12 with value: 1043579.053000001.\n",
      "[I 2024-03-10 10:27:43,935] Trial 13 finished with value: 1040949.980500003 and parameters: {'stop_loss': 0.8013520232960625, 'take_profit': 1.0996851629261484, 'n_shares': 26}. Best is trial 12 with value: 1043579.053000001.\n",
      "[I 2024-03-10 10:27:44,180] Trial 14 finished with value: 976728.9531250007 and parameters: {'stop_loss': 0.8124032020949536, 'take_profit': 1.0368978358441805, 'n_shares': 25}. Best is trial 12 with value: 1043579.053000001.\n"
     ]
    },
    {
     "name": "stdout",
     "output_type": "stream",
     "text": [
      "1043579.053000001\n",
      "('xg',)\n",
      "{'stop_loss': 0.8008519528053258, 'take_profit': 1.0997990569119018, 'n_shares': 50}\n"
     ]
    }
   ],
   "source": [
    "file_1d_test = optimize_file(data_1d_test)"
   ]
  }
 ],
 "metadata": {
  "kernelspec": {
   "display_name": "Python 3 (ipykernel)",
   "language": "python",
   "name": "python3"
  },
  "language_info": {
   "codemirror_mode": {
    "name": "ipython",
    "version": 3
   },
   "file_extension": ".py",
   "mimetype": "text/x-python",
   "name": "python",
   "nbconvert_exporter": "python",
   "pygments_lexer": "ipython3",
   "version": "3.11.4"
  }
 },
 "nbformat": 4,
 "nbformat_minor": 5
}
